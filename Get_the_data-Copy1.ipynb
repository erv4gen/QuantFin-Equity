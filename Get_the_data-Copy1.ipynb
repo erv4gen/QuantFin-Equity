{
 "cells": [
  {
   "cell_type": "raw",
   "metadata": {},
   "source": [
    "Stock analysis"
   ]
  },
  {
   "cell_type": "code",
   "execution_count": 1,
   "metadata": {},
   "outputs": [],
   "source": [
    "from Functions import General ,PlotFunctions , DataAcquisition\n",
    "import time , os\n",
    "from tqdm import tqdm\n",
    "import pandas as pd\n",
    "from datetime import datetime\n",
    "import os\n",
    "from bs4 import BeautifulSoup\n",
    "import quandl\n",
    "from time import mktime\n",
    "import datetime as dt\n",
    "\n",
    "from ipdb import set_trace\n",
    "\n",
    "import numpy as np\n",
    "path='c:\\\\Datasets\\\\intraQuarter\\\\'"
   ]
  },
  {
   "cell_type": "code",
   "execution_count": 2,
   "metadata": {
    "scrolled": true
   },
   "outputs": [
    {
     "data": {
      "text/plain": [
       "\"df = DataAcquisition.GetStats(gathers= ['Profit Margin (ttm)',\\n                        'Total Debt/Equity (mrq)',\\n                        'Price/Book (mrq)',\\n                       'Return on Assets (ttm)'],\\n              path=path,\\n              limit=60) \\n\\nprint('DF Shape - ', df.shape)\\n\\ndf.to_csv('df_stg.csv', index=False)\\n\\ntickers= list(set(df.Ticker))\\nwith open('tickers.txt','w') as f:\\n    f.write('\\n'.join(tickers))\""
      ]
     },
     "execution_count": 2,
     "metadata": {},
     "output_type": "execute_result"
    }
   ],
   "source": [
    "'''df = DataAcquisition.GetStats(gathers= ['Profit Margin (ttm)',\n",
    "                        'Total Debt/Equity (mrq)',\n",
    "                        'Price/Book (mrq)',\n",
    "                       'Return on Assets (ttm)'],\n",
    "              path=path,\n",
    "              limit=60) \n",
    "\n",
    "print('DF Shape - ', df.shape)\n",
    "\n",
    "df.to_csv('df_stg.csv', index=False)\n",
    "\n",
    "tickers= list(set(df.Ticker))\n",
    "with open('tickers.txt','w') as f:\n",
    "    f.write('\\n'.join(tickers))'''"
   ]
  },
  {
   "cell_type": "code",
   "execution_count": 3,
   "metadata": {},
   "outputs": [],
   "source": [
    "df = pd.read_csv('df_stg.csv')\n",
    "tickers = open('tickers.txt','r').read().splitlines()"
   ]
  },
  {
   "cell_type": "code",
   "execution_count": 4,
   "metadata": {},
   "outputs": [
    {
     "name": "stdout",
     "output_type": "stream",
     "text": [
      "Getting Stock Price Data...\n"
     ]
    },
    {
     "name": "stderr",
     "output_type": "stream",
     "text": [
      "\r",
      "  0%|                                                                                           | 0/14 [00:00<?, ?it/s]"
     ]
    },
    {
     "name": "stdout",
     "output_type": "stream",
     "text": [
      "Getting Original Date\n",
      "Pointing Date is -  6 (Day of the week)\n",
      "Checking Next Day\n",
      "Getting quots \n",
      "Ticker:  aee \n",
      "Date:  2003-12-30\n",
      "Quote Loaded\n"
     ]
    },
    {
     "name": "stderr",
     "output_type": "stream",
     "text": [
      "\r",
      "  7%|█████▉                                                                             | 1/14 [00:01<00:21,  1.68s/it]"
     ]
    },
    {
     "name": "stdout",
     "output_type": "stream",
     "text": [
      "Getting Original Date\n",
      "Getting quots \n",
      "Ticker:  aee \n",
      "Date:  2004-09-24\n",
      "Quote Loaded\n"
     ]
    },
    {
     "name": "stderr",
     "output_type": "stream",
     "text": [
      "\r",
      " 14%|███████████▊                                                                       | 2/14 [00:02<00:12,  1.05s/it]"
     ]
    },
    {
     "name": "stdout",
     "output_type": "stream",
     "text": [
      "Getting Original Date\n",
      "Getting quots \n",
      "Ticker:  aee \n",
      "Date:  2004-11-02\n",
      "Quote Loaded\n"
     ]
    },
    {
     "name": "stderr",
     "output_type": "stream",
     "text": [
      "\r",
      " 21%|█████████████████▊                                                                 | 3/14 [00:02<00:08,  1.22it/s]"
     ]
    },
    {
     "name": "stdout",
     "output_type": "stream",
     "text": [
      "Getting Original Date\n",
      "Pointing Date is -  5 (Day of the week)\n",
      "Checking Next Day\n",
      "Getting quots \n",
      "Ticker:  aee \n",
      "Date:  2005-03-07\n",
      "Quote Loaded\n"
     ]
    },
    {
     "name": "stderr",
     "output_type": "stream",
     "text": [
      "\r",
      " 29%|███████████████████████▋                                                           | 4/14 [00:02<00:06,  1.46it/s]"
     ]
    },
    {
     "name": "stdout",
     "output_type": "stream",
     "text": [
      "Getting Original Date\n",
      "Getting quots \n",
      "Ticker:  aee \n",
      "Date:  2005-12-16\n",
      "Quote Loaded\n"
     ]
    },
    {
     "name": "stderr",
     "output_type": "stream",
     "text": [
      "\r",
      " 36%|█████████████████████████████▋                                                     | 5/14 [00:03<00:05,  1.63it/s]"
     ]
    },
    {
     "name": "stdout",
     "output_type": "stream",
     "text": [
      "Getting Original Date\n",
      "Getting quots \n",
      "Ticker:  aee \n",
      "Date:  2006-01-10\n",
      "Quote Loaded\n"
     ]
    },
    {
     "name": "stderr",
     "output_type": "stream",
     "text": [
      "\r",
      " 43%|███████████████████████████████████▌                                               | 6/14 [00:03<00:04,  1.80it/s]"
     ]
    },
    {
     "name": "stdout",
     "output_type": "stream",
     "text": [
      "Getting Original Date\n",
      "Getting quots \n",
      "Ticker:  aee \n",
      "Date:  2007-02-20\n",
      "Quote Loaded\n"
     ]
    },
    {
     "name": "stderr",
     "output_type": "stream",
     "text": [
      "\r",
      " 50%|█████████████████████████████████████████▌                                         | 7/14 [00:03<00:03,  1.87it/s]"
     ]
    },
    {
     "name": "stdout",
     "output_type": "stream",
     "text": [
      "Getting Original Date\n",
      "Pointing Date is -  5 (Day of the week)\n",
      "Checking Next Day\n",
      "Pointing Date is -  6 (Day of the week)\n",
      "Checking Next Day\n",
      "Getting quots \n",
      "Ticker:  aee \n",
      "Date:  2007-12-18\n",
      "Quote Loaded\n"
     ]
    },
    {
     "name": "stderr",
     "output_type": "stream",
     "text": [
      "\r",
      " 57%|███████████████████████████████████████████████▍                                   | 8/14 [00:04<00:03,  1.99it/s]"
     ]
    },
    {
     "name": "stdout",
     "output_type": "stream",
     "text": [
      "Getting Original Date\n",
      "Getting quots \n",
      "Ticker:  aee \n",
      "Date:  2008-01-23\n",
      "Quote Loaded\n"
     ]
    },
    {
     "name": "stderr",
     "output_type": "stream",
     "text": [
      "\r",
      " 64%|█████████████████████████████████████████████████████▎                             | 9/14 [00:04<00:02,  2.09it/s]"
     ]
    },
    {
     "name": "stdout",
     "output_type": "stream",
     "text": [
      "Getting Original Date\n",
      "Pointing Date is -  5 (Day of the week)\n",
      "Checking Next Day\n",
      "Pointing Date is -  6 (Day of the week)\n",
      "Checking Next Day\n",
      "Getting quots \n",
      "Ticker:  aee \n",
      "Date:  2009-02-24\n",
      "Quote Loaded\n"
     ]
    },
    {
     "name": "stderr",
     "output_type": "stream",
     "text": [
      "\r",
      " 71%|██████████████████████████████████████████████████████████▌                       | 10/14 [00:04<00:01,  2.15it/s]"
     ]
    },
    {
     "name": "stdout",
     "output_type": "stream",
     "text": [
      "Getting Original Date\n",
      "Getting quots \n",
      "Ticker:  aee \n",
      "Date:  2010-02-18\n",
      "Quote Loaded\n"
     ]
    },
    {
     "name": "stderr",
     "output_type": "stream",
     "text": [
      "\r",
      " 79%|████████████████████████████████████████████████████████████████▍                 | 11/14 [00:04<00:01,  2.22it/s]"
     ]
    },
    {
     "name": "stdout",
     "output_type": "stream",
     "text": [
      "Getting Original Date\n",
      "Getting quots \n",
      "Ticker:  aee \n",
      "Date:  2010-03-23\n",
      "Quote Loaded\n"
     ]
    },
    {
     "name": "stderr",
     "output_type": "stream",
     "text": [
      "\r",
      " 86%|██████████████████████████████████████████████████████████████████████▎           | 12/14 [00:05<00:00,  2.26it/s]"
     ]
    },
    {
     "name": "stdout",
     "output_type": "stream",
     "text": [
      "Getting Original Date\n",
      "Getting quots \n",
      "Ticker:  aee \n",
      "Date:  2012-04-23\n",
      "Quote Loaded\n"
     ]
    },
    {
     "name": "stderr",
     "output_type": "stream",
     "text": [
      "\r",
      " 93%|████████████████████████████████████████████████████████████████████████████▏     | 13/14 [00:05<00:00,  2.30it/s]"
     ]
    },
    {
     "name": "stdout",
     "output_type": "stream",
     "text": [
      "Getting Original Date\n",
      "Getting quots \n",
      "Ticker:  aee \n",
      "Date:  2013-05-15\n",
      "Quote Loaded\n"
     ]
    },
    {
     "name": "stderr",
     "output_type": "stream",
     "text": [
      "100%|██████████████████████████████████████████████████████████████████████████████████| 14/14 [00:06<00:00,  2.33it/s]\n"
     ]
    },
    {
     "name": "stdout",
     "output_type": "stream",
     "text": [
      "Will save to file:  PriceVsSNP500_aee.csv\n",
      "Getting Stock Price Data...\n"
     ]
    },
    {
     "name": "stderr",
     "output_type": "stream",
     "text": [
      "\r",
      "  0%|                                                                                           | 0/14 [00:00<?, ?it/s]"
     ]
    },
    {
     "name": "stdout",
     "output_type": "stream",
     "text": [
      "Getting Original Date\n",
      "Pointing Date is -  6 (Day of the week)\n",
      "Checking Next Day\n",
      "Getting quots \n",
      "Ticker:  amt \n",
      "Date:  2003-10-28\n",
      "Quote Loaded\n"
     ]
    },
    {
     "name": "stderr",
     "output_type": "stream",
     "text": [
      "\r",
      "  7%|█████▉                                                                             | 1/14 [00:00<00:04,  2.78it/s]"
     ]
    },
    {
     "name": "stdout",
     "output_type": "stream",
     "text": [
      "Getting Original Date\n",
      "Getting quots \n",
      "Ticker:  amt \n",
      "Date:  2004-08-20\n",
      "Quote Loaded\n"
     ]
    },
    {
     "name": "stderr",
     "output_type": "stream",
     "text": [
      "\r",
      " 14%|███████████▊                                                                       | 2/14 [00:00<00:03,  3.06it/s]"
     ]
    },
    {
     "name": "stdout",
     "output_type": "stream",
     "text": [
      "Getting Original Date\n",
      "Getting quots \n",
      "Ticker:  amt \n",
      "Date:  2005-03-16\n",
      "Quote Loaded\n"
     ]
    },
    {
     "name": "stderr",
     "output_type": "stream",
     "text": [
      "\r",
      " 21%|█████████████████▊                                                                 | 3/14 [00:00<00:03,  3.28it/s]"
     ]
    },
    {
     "name": "stdout",
     "output_type": "stream",
     "text": [
      "Getting Original Date\n",
      "Getting quots \n",
      "Ticker:  amt \n",
      "Date:  2005-04-05\n",
      "Quote Loaded\n"
     ]
    },
    {
     "name": "stderr",
     "output_type": "stream",
     "text": [
      "\r",
      " 29%|███████████████████████▋                                                           | 4/14 [00:01<00:03,  3.15it/s]"
     ]
    },
    {
     "name": "stdout",
     "output_type": "stream",
     "text": [
      "Getting Original Date\n",
      "Getting quots \n",
      "Ticker:  amt \n",
      "Date:  2006-08-28\n",
      "Quote Loaded\n"
     ]
    },
    {
     "name": "stderr",
     "output_type": "stream",
     "text": [
      "\r",
      " 36%|█████████████████████████████▋                                                     | 5/14 [00:01<00:02,  3.18it/s]"
     ]
    },
    {
     "name": "stdout",
     "output_type": "stream",
     "text": [
      "Getting Original Date\n",
      "Getting quots \n",
      "Ticker:  amt \n",
      "Date:  2007-04-13\n",
      "Quote Loaded\n"
     ]
    },
    {
     "name": "stderr",
     "output_type": "stream",
     "text": [
      "\r",
      " 43%|███████████████████████████████████▌                                               | 6/14 [00:01<00:02,  3.11it/s]"
     ]
    },
    {
     "name": "stdout",
     "output_type": "stream",
     "text": [
      "Getting Original Date\n",
      "Getting quots \n",
      "Ticker:  amt \n",
      "Date:  2008-01-07\n",
      "Quote Loaded\n"
     ]
    },
    {
     "name": "stderr",
     "output_type": "stream",
     "text": [
      "\r",
      " 50%|█████████████████████████████████████████▌                                         | 7/14 [00:02<00:02,  3.04it/s]"
     ]
    },
    {
     "name": "stdout",
     "output_type": "stream",
     "text": [
      "Getting Original Date\n",
      "Getting quots \n",
      "Ticker:  amt \n",
      "Date:  2008-01-23\n",
      "Quote Loaded\n"
     ]
    },
    {
     "name": "stderr",
     "output_type": "stream",
     "text": [
      "\r",
      " 57%|███████████████████████████████████████████████▍                                   | 8/14 [00:02<00:01,  3.02it/s]"
     ]
    },
    {
     "name": "stdout",
     "output_type": "stream",
     "text": [
      "Getting Original Date\n",
      "Getting quots \n",
      "Ticker:  amt \n",
      "Date:  2009-01-14\n",
      "Quote Loaded\n"
     ]
    },
    {
     "name": "stderr",
     "output_type": "stream",
     "text": [
      "\r",
      " 64%|█████████████████████████████████████████████████████▎                             | 9/14 [00:02<00:01,  3.11it/s]"
     ]
    },
    {
     "name": "stdout",
     "output_type": "stream",
     "text": [
      "Getting Original Date\n",
      "Getting quots \n",
      "Ticker:  amt \n",
      "Date:  2009-09-25\n",
      "Quote Loaded\n"
     ]
    },
    {
     "name": "stderr",
     "output_type": "stream",
     "text": [
      "\r",
      " 71%|██████████████████████████████████████████████████████████▌                       | 10/14 [00:03<00:01,  3.11it/s]"
     ]
    },
    {
     "name": "stdout",
     "output_type": "stream",
     "text": [
      "Getting Original Date\n",
      "Getting quots \n",
      "Ticker:  amt \n",
      "Date:  2011-10-07\n",
      "Quote Loaded\n"
     ]
    },
    {
     "name": "stderr",
     "output_type": "stream",
     "text": [
      "\r",
      " 79%|████████████████████████████████████████████████████████████████▍                 | 11/14 [00:03<00:00,  3.07it/s]"
     ]
    },
    {
     "name": "stdout",
     "output_type": "stream",
     "text": [
      "Getting Original Date\n",
      "Getting quots \n",
      "Ticker:  amt \n",
      "Date:  2011-12-29\n",
      "Quote Loaded\n"
     ]
    },
    {
     "name": "stderr",
     "output_type": "stream",
     "text": [
      "\r",
      " 86%|██████████████████████████████████████████████████████████████████████▎           | 12/14 [00:03<00:00,  3.05it/s]"
     ]
    },
    {
     "name": "stdout",
     "output_type": "stream",
     "text": [
      "Getting Original Date\n",
      "Getting quots \n",
      "Ticker:  amt \n",
      "Date:  2012-07-06\n",
      "Quote Loaded\n"
     ]
    },
    {
     "name": "stderr",
     "output_type": "stream",
     "text": [
      "\r",
      " 93%|████████████████████████████████████████████████████████████████████████████▏     | 13/14 [00:04<00:00,  3.04it/s]"
     ]
    },
    {
     "name": "stdout",
     "output_type": "stream",
     "text": [
      "Getting Original Date\n",
      "Getting quots \n",
      "Ticker:  amt \n",
      "Date:  2013-05-15\n",
      "Quote Loaded\n"
     ]
    },
    {
     "name": "stderr",
     "output_type": "stream",
     "text": [
      "100%|██████████████████████████████████████████████████████████████████████████████████| 14/14 [00:04<00:00,  3.01it/s]\n"
     ]
    },
    {
     "name": "stdout",
     "output_type": "stream",
     "text": [
      "Will save to file:  PriceVsSNP500_amt.csv\n",
      "Getting Stock Price Data...\n"
     ]
    },
    {
     "name": "stderr",
     "output_type": "stream",
     "text": [
      "\r",
      "  0%|                                                                                           | 0/26 [00:00<?, ?it/s]"
     ]
    },
    {
     "name": "stdout",
     "output_type": "stream",
     "text": [
      "Getting Original Date\n",
      "Getting quots \n",
      "Ticker:  amgn \n",
      "Date:  2003-10-02\n",
      "Quote Loaded\n"
     ]
    },
    {
     "name": "stderr",
     "output_type": "stream",
     "text": [
      "\r",
      "  4%|███▏                                                                               | 1/26 [00:00<00:08,  2.98it/s]"
     ]
    },
    {
     "name": "stdout",
     "output_type": "stream",
     "text": [
      "Getting Original Date\n",
      "Getting quots \n",
      "Ticker:  amgn \n",
      "Date:  2004-04-27\n",
      "Quote Loaded\n"
     ]
    },
    {
     "name": "stderr",
     "output_type": "stream",
     "text": [
      "\r",
      "  8%|██████▍                                                                            | 2/26 [00:00<00:08,  2.88it/s]"
     ]
    },
    {
     "name": "stdout",
     "output_type": "stream",
     "text": [
      "Getting Original Date\n",
      "Pointing Date is -  6 (Day of the week)\n",
      "Checking Next Day\n",
      "Getting quots \n",
      "Ticker:  amgn \n",
      "Date:  2004-06-21\n",
      "Quote Loaded\n"
     ]
    },
    {
     "name": "stderr",
     "output_type": "stream",
     "text": [
      "\r",
      " 12%|█████████▌                                                                         | 3/26 [00:01<00:07,  2.96it/s]"
     ]
    },
    {
     "name": "stdout",
     "output_type": "stream",
     "text": [
      "Getting Original Date\n",
      "Getting quots \n",
      "Ticker:  amgn \n",
      "Date:  2004-10-15\n",
      "Quote Loaded\n"
     ]
    },
    {
     "name": "stderr",
     "output_type": "stream",
     "text": [
      "\r",
      " 15%|████████████▊                                                                      | 4/26 [00:01<00:07,  2.96it/s]"
     ]
    },
    {
     "name": "stdout",
     "output_type": "stream",
     "text": [
      "Getting Original Date\n",
      "Getting quots \n",
      "Ticker:  amgn \n",
      "Date:  2005-02-07\n",
      "Quote Loaded\n"
     ]
    },
    {
     "name": "stderr",
     "output_type": "stream",
     "text": [
      "\r",
      " 19%|███████████████▉                                                                   | 5/26 [00:01<00:07,  2.79it/s]"
     ]
    },
    {
     "name": "stdout",
     "output_type": "stream",
     "text": [
      "Getting Original Date\n",
      "Cannot Get data from Quandl. Skipping this one\n",
      "Getting Original Date\n",
      "Pointing Date is -  6 (Day of the week)\n",
      "Checking Next Day\n",
      "Getting quots \n",
      "Ticker:  amgn \n",
      "Date:  2005-04-05\n",
      "Quote Loaded\n"
     ]
    },
    {
     "name": "stderr",
     "output_type": "stream",
     "text": [
      "\r",
      " 27%|██████████████████████▎                                                            | 7/26 [00:02<00:06,  3.14it/s]"
     ]
    },
    {
     "name": "stdout",
     "output_type": "stream",
     "text": [
      "Getting Original Date\n",
      "Getting quots \n",
      "Ticker:  amgn \n",
      "Date:  2006-04-21\n",
      "Quote Loaded\n"
     ]
    },
    {
     "name": "stderr",
     "output_type": "stream",
     "text": [
      "\r",
      " 31%|█████████████████████████▌                                                         | 8/26 [00:02<00:05,  3.07it/s]"
     ]
    },
    {
     "name": "stdout",
     "output_type": "stream",
     "text": [
      "Getting Original Date\n",
      "Pointing Date is -  5 (Day of the week)\n",
      "Checking Next Day\n",
      "Pointing Date is -  6 (Day of the week)\n",
      "Checking Next Day\n",
      "Getting quots \n",
      "Ticker:  amgn \n",
      "Date:  2007-01-16\n",
      "Quote Loaded\n"
     ]
    },
    {
     "name": "stderr",
     "output_type": "stream",
     "text": [
      "\r",
      " 35%|████████████████████████████▋                                                      | 9/26 [00:03<00:05,  2.99it/s]"
     ]
    },
    {
     "name": "stdout",
     "output_type": "stream",
     "text": [
      "Getting Original Date\n",
      "Getting quots \n",
      "Ticker:  amgn \n",
      "Date:  2007-02-20\n",
      "Quote Loaded\n"
     ]
    },
    {
     "name": "stderr",
     "output_type": "stream",
     "text": [
      "\r",
      " 38%|███████████████████████████████▌                                                  | 10/26 [00:03<00:05,  3.04it/s]"
     ]
    },
    {
     "name": "stdout",
     "output_type": "stream",
     "text": [
      "Getting Original Date\n",
      "Getting quots \n",
      "Ticker:  amgn \n",
      "Date:  2007-04-10\n",
      "Quote Loaded\n"
     ]
    },
    {
     "name": "stderr",
     "output_type": "stream",
     "text": [
      "\r",
      " 42%|██████████████████████████████████▋                                               | 11/26 [00:03<00:04,  3.10it/s]"
     ]
    },
    {
     "name": "stdout",
     "output_type": "stream",
     "text": [
      "Getting Original Date\n",
      "Getting quots \n",
      "Ticker:  amgn \n",
      "Date:  2007-04-27\n",
      "Quote Loaded\n"
     ]
    },
    {
     "name": "stderr",
     "output_type": "stream",
     "text": [
      "\r",
      " 46%|█████████████████████████████████████▊                                            | 12/26 [00:03<00:04,  3.15it/s]"
     ]
    },
    {
     "name": "stdout",
     "output_type": "stream",
     "text": [
      "Getting Original Date\n",
      "Pointing Date is -  6 (Day of the week)\n",
      "Checking Next Day\n",
      "Getting quots \n",
      "Ticker:  amgn \n",
      "Date:  2007-05-29\n",
      "Quote Loaded\n"
     ]
    },
    {
     "name": "stderr",
     "output_type": "stream",
     "text": [
      "\r",
      " 50%|█████████████████████████████████████████                                         | 13/26 [00:04<00:04,  3.12it/s]"
     ]
    },
    {
     "name": "stdout",
     "output_type": "stream",
     "text": [
      "Getting Original Date\n",
      "Getting quots \n",
      "Ticker:  amgn \n",
      "Date:  2007-06-29\n",
      "Quote Loaded\n"
     ]
    },
    {
     "name": "stderr",
     "output_type": "stream",
     "text": [
      "\r",
      " 54%|████████████████████████████████████████████▏                                     | 14/26 [00:04<00:03,  3.09it/s]"
     ]
    },
    {
     "name": "stdout",
     "output_type": "stream",
     "text": [
      "Getting Original Date\n",
      "Getting quots \n",
      "Ticker:  amgn \n",
      "Date:  2008-01-03\n",
      "Quote Loaded\n"
     ]
    },
    {
     "name": "stderr",
     "output_type": "stream",
     "text": [
      "\r",
      " 58%|███████████████████████████████████████████████▎                                  | 15/26 [00:04<00:03,  3.06it/s]"
     ]
    },
    {
     "name": "stdout",
     "output_type": "stream",
     "text": [
      "Getting Original Date\n",
      "Getting quots \n",
      "Ticker:  amgn \n",
      "Date:  2008-01-23\n",
      "Quote Loaded\n"
     ]
    },
    {
     "name": "stderr",
     "output_type": "stream",
     "text": [
      "\r",
      " 62%|██████████████████████████████████████████████████▍                               | 16/26 [00:05<00:03,  2.98it/s]"
     ]
    },
    {
     "name": "stdout",
     "output_type": "stream",
     "text": [
      "Getting Original Date\n",
      "Getting quots \n",
      "Ticker:  amgn \n",
      "Date:  2008-12-02\n",
      "Quote Loaded\n"
     ]
    },
    {
     "name": "stderr",
     "output_type": "stream",
     "text": [
      "\r",
      " 65%|█████████████████████████████████████████████████████▌                            | 17/26 [00:05<00:03,  2.92it/s]"
     ]
    },
    {
     "name": "stdout",
     "output_type": "stream",
     "text": [
      "Getting Original Date\n",
      "Pointing Date is -  5 (Day of the week)\n",
      "Checking Next Day\n",
      "Getting quots \n",
      "Ticker:  amgn \n",
      "Date:  2008-12-22\n",
      "Quote Loaded\n"
     ]
    },
    {
     "name": "stderr",
     "output_type": "stream",
     "text": [
      "\r",
      " 69%|████████████████████████████████████████████████████████▊                         | 18/26 [00:06<00:02,  2.95it/s]"
     ]
    },
    {
     "name": "stdout",
     "output_type": "stream",
     "text": [
      "Getting Original Date\n",
      "Getting quots \n",
      "Ticker:  amgn \n",
      "Date:  2009-04-28\n",
      "Quote Loaded\n"
     ]
    },
    {
     "name": "stderr",
     "output_type": "stream",
     "text": [
      "\r",
      " 73%|███████████████████████████████████████████████████████████▉                      | 19/26 [00:06<00:02,  2.96it/s]"
     ]
    },
    {
     "name": "stdout",
     "output_type": "stream",
     "text": [
      "Getting Original Date\n",
      "Getting quots \n",
      "Ticker:  amgn \n",
      "Date:  2011-09-02\n",
      "Quote Loaded\n"
     ]
    },
    {
     "name": "stderr",
     "output_type": "stream",
     "text": [
      "\r",
      " 77%|███████████████████████████████████████████████████████████████                   | 20/26 [00:07<00:02,  2.79it/s]"
     ]
    },
    {
     "name": "stdout",
     "output_type": "stream",
     "text": [
      "Getting Original Date\n",
      "Getting quots \n",
      "Ticker:  amgn \n",
      "Date:  2011-11-03\n",
      "Quote Loaded\n"
     ]
    },
    {
     "name": "stderr",
     "output_type": "stream",
     "text": [
      "\r",
      " 81%|██████████████████████████████████████████████████████████████████▏               | 21/26 [00:07<00:01,  2.82it/s]"
     ]
    },
    {
     "name": "stdout",
     "output_type": "stream",
     "text": [
      "Getting Original Date\n",
      "Getting quots \n",
      "Ticker:  amgn \n",
      "Date:  2012-01-03\n",
      "Quote Loaded\n"
     ]
    },
    {
     "name": "stderr",
     "output_type": "stream",
     "text": [
      "\r",
      " 85%|█████████████████████████████████████████████████████████████████████▍            | 22/26 [00:07<00:01,  2.82it/s]"
     ]
    },
    {
     "name": "stdout",
     "output_type": "stream",
     "text": [
      "Getting Original Date\n",
      "Pointing Date is -  6 (Day of the week)\n",
      "Checking Next Day\n",
      "Getting quots \n",
      "Ticker:  amgn \n",
      "Date:  2012-06-11\n",
      "Quote Loaded\n"
     ]
    },
    {
     "name": "stderr",
     "output_type": "stream",
     "text": [
      "\r",
      " 88%|████████████████████████████████████████████████████████████████████████▌         | 23/26 [00:08<00:01,  2.81it/s]"
     ]
    },
    {
     "name": "stdout",
     "output_type": "stream",
     "text": [
      "Getting Original Date\n",
      "Getting quots \n",
      "Ticker:  amgn \n",
      "Date:  2013-02-06\n",
      "Quote Loaded\n"
     ]
    },
    {
     "name": "stderr",
     "output_type": "stream",
     "text": [
      "\r",
      " 92%|███████████████████████████████████████████████████████████████████████████▋      | 24/26 [00:08<00:00,  2.83it/s]"
     ]
    },
    {
     "name": "stdout",
     "output_type": "stream",
     "text": [
      "Getting Original Date\n",
      "Getting quots \n",
      "Ticker:  amgn \n",
      "Date:  2013-04-25\n",
      "Quote Loaded\n"
     ]
    },
    {
     "name": "stderr",
     "output_type": "stream",
     "text": [
      "\r",
      " 96%|██████████████████████████████████████████████████████████████████████████████▊   | 25/26 [00:08<00:00,  2.82it/s]"
     ]
    },
    {
     "name": "stdout",
     "output_type": "stream",
     "text": [
      "Getting Original Date\n",
      "Getting quots \n",
      "Ticker:  amgn \n",
      "Date:  2013-05-21\n",
      "Quote Loaded\n"
     ]
    },
    {
     "name": "stderr",
     "output_type": "stream",
     "text": [
      "100%|██████████████████████████████████████████████████████████████████████████████████| 26/26 [00:09<00:00,  2.83it/s]\n"
     ]
    },
    {
     "name": "stdout",
     "output_type": "stream",
     "text": [
      "Will save to file:  PriceVsSNP500_amgn.csv\n",
      "Getting Stock Price Data...\n"
     ]
    },
    {
     "name": "stderr",
     "output_type": "stream",
     "text": [
      "\r",
      "  0%|                                                                                            | 0/9 [00:00<?, ?it/s]"
     ]
    },
    {
     "name": "stdout",
     "output_type": "stream",
     "text": [
      "Getting Original Date\n",
      "Getting quots \n",
      "Ticker:  alxn \n",
      "Date:  2005-01-24\n",
      "Quote Loaded\n"
     ]
    },
    {
     "name": "stderr",
     "output_type": "stream",
     "text": [
      "\r",
      " 11%|█████████▎                                                                          | 1/9 [00:00<00:02,  2.74it/s]"
     ]
    },
    {
     "name": "stdout",
     "output_type": "stream",
     "text": [
      "Getting Original Date\n",
      "Pointing Date is -  6 (Day of the week)\n",
      "Checking Next Day\n",
      "Getting quots \n",
      "Ticker:  alxn \n",
      "Date:  2005-03-08\n",
      "Quote Loaded\n"
     ]
    },
    {
     "name": "stderr",
     "output_type": "stream",
     "text": [
      "\r",
      " 22%|██████████████████▋                                                                 | 2/9 [00:00<00:02,  2.35it/s]"
     ]
    },
    {
     "name": "stdout",
     "output_type": "stream",
     "text": [
      "Getting Original Date\n",
      "Getting quots \n",
      "Ticker:  alxn \n",
      "Date:  2009-02-13\n",
      "Quote Loaded\n"
     ]
    },
    {
     "name": "stderr",
     "output_type": "stream",
     "text": [
      "\r",
      " 33%|████████████████████████████                                                        | 3/9 [00:01<00:02,  2.56it/s]"
     ]
    },
    {
     "name": "stdout",
     "output_type": "stream",
     "text": [
      "Getting Original Date\n",
      "Getting quots \n",
      "Ticker:  alxn \n",
      "Date:  2010-05-10\n",
      "Quote Loaded\n"
     ]
    },
    {
     "name": "stderr",
     "output_type": "stream",
     "text": [
      "\r",
      " 44%|█████████████████████████████████████▎                                              | 4/9 [00:01<00:01,  2.69it/s]"
     ]
    },
    {
     "name": "stdout",
     "output_type": "stream",
     "text": [
      "Getting Original Date\n",
      "Getting quots \n",
      "Ticker:  alxn \n",
      "Date:  2011-07-22\n",
      "Quote Loaded\n"
     ]
    },
    {
     "name": "stderr",
     "output_type": "stream",
     "text": [
      "\r",
      " 56%|██████████████████████████████████████████████▋                                     | 5/9 [00:01<00:01,  2.80it/s]"
     ]
    },
    {
     "name": "stdout",
     "output_type": "stream",
     "text": [
      "Getting Original Date\n",
      "Getting quots \n",
      "Ticker:  alxn \n",
      "Date:  2011-09-28\n",
      "Quote Loaded\n"
     ]
    },
    {
     "name": "stderr",
     "output_type": "stream",
     "text": [
      "\r",
      " 67%|████████████████████████████████████████████████████████                            | 6/9 [00:02<00:01,  2.83it/s]"
     ]
    },
    {
     "name": "stdout",
     "output_type": "stream",
     "text": [
      "Getting Original Date\n",
      "Getting quots \n",
      "Ticker:  alxn \n",
      "Date:  2012-11-07\n",
      "Quote Loaded\n"
     ]
    },
    {
     "name": "stderr",
     "output_type": "stream",
     "text": [
      "\r",
      " 78%|█████████████████████████████████████████████████████████████████▎                  | 7/9 [00:02<00:00,  2.87it/s]"
     ]
    },
    {
     "name": "stdout",
     "output_type": "stream",
     "text": [
      "Getting Original Date\n",
      "Getting quots \n",
      "Ticker:  alxn \n",
      "Date:  2013-02-06\n",
      "Quote Loaded\n"
     ]
    },
    {
     "name": "stderr",
     "output_type": "stream",
     "text": [
      "\r",
      " 89%|██████████████████████████████████████████████████████████████████████████▋         | 8/9 [00:02<00:00,  2.87it/s]"
     ]
    },
    {
     "name": "stdout",
     "output_type": "stream",
     "text": [
      "Getting Original Date\n",
      "Getting quots \n",
      "Ticker:  alxn \n",
      "Date:  2013-05-16\n",
      "Quote Loaded\n"
     ]
    },
    {
     "name": "stderr",
     "output_type": "stream",
     "text": [
      "100%|████████████████████████████████████████████████████████████████████████████████████| 9/9 [00:03<00:00,  2.88it/s]\n"
     ]
    },
    {
     "name": "stdout",
     "output_type": "stream",
     "text": [
      "Will save to file:  PriceVsSNP500_alxn.csv\n",
      "Getting Stock Price Data...\n"
     ]
    },
    {
     "name": "stderr",
     "output_type": "stream",
     "text": [
      "\r",
      "  0%|                                                                                           | 0/10 [00:00<?, ?it/s]"
     ]
    },
    {
     "name": "stdout",
     "output_type": "stream",
     "text": [
      "Getting Original Date\n",
      "Getting quots \n",
      "Ticker:  aep \n",
      "Date:  2004-08-03\n",
      "Quote Loaded\n"
     ]
    },
    {
     "name": "stderr",
     "output_type": "stream",
     "text": [
      "\r",
      " 10%|████████▎                                                                          | 1/10 [00:00<00:02,  3.10it/s]"
     ]
    },
    {
     "name": "stdout",
     "output_type": "stream",
     "text": [
      "Getting Original Date\n",
      "Pointing Date is -  6 (Day of the week)\n",
      "Checking Next Day\n",
      "Getting quots \n",
      "Ticker:  aep \n",
      "Date:  2004-10-12\n",
      "Quote Loaded\n"
     ]
    },
    {
     "name": "stderr",
     "output_type": "stream",
     "text": [
      "\r",
      " 20%|████████████████▌                                                                  | 2/10 [00:00<00:02,  2.98it/s]"
     ]
    },
    {
     "name": "stdout",
     "output_type": "stream",
     "text": [
      "Getting Original Date\n",
      "Getting quots \n",
      "Ticker:  aep \n",
      "Date:  2005-04-04\n",
      "Quote Loaded\n"
     ]
    },
    {
     "name": "stderr",
     "output_type": "stream",
     "text": [
      "\r",
      " 30%|████████████████████████▉                                                          | 3/10 [00:01<00:02,  2.90it/s]"
     ]
    },
    {
     "name": "stdout",
     "output_type": "stream",
     "text": [
      "Getting Original Date\n",
      "Getting quots \n",
      "Ticker:  aep \n",
      "Date:  2007-03-07\n",
      "Quote Loaded\n"
     ]
    },
    {
     "name": "stderr",
     "output_type": "stream",
     "text": [
      "\r",
      " 40%|█████████████████████████████████▏                                                 | 4/10 [00:01<00:02,  2.91it/s]"
     ]
    },
    {
     "name": "stdout",
     "output_type": "stream",
     "text": [
      "Getting Original Date\n",
      "Getting quots \n",
      "Ticker:  aep \n",
      "Date:  2007-04-10\n",
      "Quote Loaded\n"
     ]
    },
    {
     "name": "stderr",
     "output_type": "stream",
     "text": [
      "\r",
      " 50%|█████████████████████████████████████████▌                                         | 5/10 [00:01<00:01,  3.02it/s]"
     ]
    },
    {
     "name": "stdout",
     "output_type": "stream",
     "text": [
      "Getting Original Date\n",
      "Getting quots \n",
      "Ticker:  aep \n",
      "Date:  2008-01-23\n",
      "Quote Loaded\n"
     ]
    },
    {
     "name": "stderr",
     "output_type": "stream",
     "text": [
      "\r",
      " 60%|█████████████████████████████████████████████████▊                                 | 6/10 [00:02<00:01,  2.92it/s]"
     ]
    },
    {
     "name": "stdout",
     "output_type": "stream",
     "text": [
      "Getting Original Date\n",
      "Getting quots \n",
      "Ticker:  aep \n",
      "Date:  2011-04-08\n",
      "Quote Loaded\n"
     ]
    },
    {
     "name": "stderr",
     "output_type": "stream",
     "text": [
      "\r",
      " 70%|██████████████████████████████████████████████████████████                         | 7/10 [00:02<00:01,  2.97it/s]"
     ]
    },
    {
     "name": "stdout",
     "output_type": "stream",
     "text": [
      "Getting Original Date\n",
      "Pointing Date is -  6 (Day of the week)\n",
      "Checking Next Day\n",
      "Getting quots \n",
      "Ticker:  aep \n",
      "Date:  2011-11-14\n",
      "Quote Loaded\n"
     ]
    },
    {
     "name": "stderr",
     "output_type": "stream",
     "text": [
      "\r",
      " 80%|██████████████████████████████████████████████████████████████████▍                | 8/10 [00:02<00:00,  2.93it/s]"
     ]
    },
    {
     "name": "stdout",
     "output_type": "stream",
     "text": [
      "Getting Original Date\n",
      "Getting quots \n",
      "Ticker:  aep \n",
      "Date:  2012-07-27\n",
      "Quote Loaded\n"
     ]
    },
    {
     "name": "stderr",
     "output_type": "stream",
     "text": [
      "\r",
      " 90%|██████████████████████████████████████████████████████████████████████████▋        | 9/10 [00:03<00:00,  2.93it/s]"
     ]
    },
    {
     "name": "stdout",
     "output_type": "stream",
     "text": [
      "Getting Original Date\n",
      "Getting quots \n",
      "Ticker:  aep \n",
      "Date:  2013-04-25\n",
      "Quote Loaded\n"
     ]
    },
    {
     "name": "stderr",
     "output_type": "stream",
     "text": [
      "100%|██████████████████████████████████████████████████████████████████████████████████| 10/10 [00:03<00:00,  2.95it/s]\n"
     ]
    },
    {
     "name": "stdout",
     "output_type": "stream",
     "text": [
      "Will save to file:  PriceVsSNP500_aep.csv\n",
      "Getting Stock Price Data...\n"
     ]
    },
    {
     "name": "stderr",
     "output_type": "stream",
     "text": [
      "\r",
      "  0%|                                                                                           | 0/17 [00:00<?, ?it/s]"
     ]
    },
    {
     "name": "stdout",
     "output_type": "stream",
     "text": [
      "Getting Original Date\n",
      "Getting quots \n",
      "Ticker:  agn \n",
      "Date:  2003-11-17\n",
      "Quote Loaded\n"
     ]
    },
    {
     "name": "stderr",
     "output_type": "stream",
     "text": [
      "\r",
      "  6%|████▉                                                                              | 1/17 [00:00<00:04,  3.34it/s]"
     ]
    },
    {
     "name": "stdout",
     "output_type": "stream",
     "text": [
      "Getting Original Date\n",
      "Pointing Date is -  5 (Day of the week)\n",
      "Checking Next Day\n",
      "Getting quots \n",
      "Ticker:  agn \n",
      "Date:  2004-06-21\n",
      "Quote Loaded\n"
     ]
    },
    {
     "name": "stderr",
     "output_type": "stream",
     "text": [
      "\r",
      " 12%|█████████▊                                                                         | 2/17 [00:00<00:04,  3.37it/s]"
     ]
    },
    {
     "name": "stdout",
     "output_type": "stream",
     "text": [
      "Getting Original Date\n",
      "Getting quots \n",
      "Ticker:  agn \n",
      "Date:  2004-08-10\n",
      "Quote Loaded\n"
     ]
    },
    {
     "name": "stderr",
     "output_type": "stream",
     "text": [
      "\r",
      " 18%|██████████████▋                                                                    | 3/17 [00:00<00:04,  3.26it/s]"
     ]
    },
    {
     "name": "stdout",
     "output_type": "stream",
     "text": [
      "Getting Original Date\n",
      "Getting quots \n",
      "Ticker:  agn \n",
      "Date:  2004-11-02\n",
      "Quote Loaded\n"
     ]
    },
    {
     "name": "stderr",
     "output_type": "stream",
     "text": [
      "\r",
      " 24%|███████████████████▌                                                               | 4/17 [00:01<00:03,  3.36it/s]"
     ]
    },
    {
     "name": "stdout",
     "output_type": "stream",
     "text": [
      "Getting Original Date\n",
      "Getting quots \n",
      "Ticker:  agn \n",
      "Date:  2005-03-10\n",
      "Quote Loaded\n"
     ]
    },
    {
     "name": "stderr",
     "output_type": "stream",
     "text": [
      "\r",
      " 29%|████████████████████████▍                                                          | 5/17 [00:01<00:04,  2.97it/s]"
     ]
    },
    {
     "name": "stdout",
     "output_type": "stream",
     "text": [
      "Getting Original Date\n",
      "Getting quots \n",
      "Ticker:  agn \n",
      "Date:  2005-04-04\n",
      "Quote Loaded\n"
     ]
    },
    {
     "name": "stderr",
     "output_type": "stream",
     "text": [
      "\r",
      " 35%|█████████████████████████████▎                                                     | 6/17 [00:02<00:03,  2.97it/s]"
     ]
    },
    {
     "name": "stdout",
     "output_type": "stream",
     "text": [
      "Getting Original Date\n",
      "Getting quots \n",
      "Ticker:  agn \n",
      "Date:  2005-08-29\n",
      "Quote Loaded\n"
     ]
    },
    {
     "name": "stderr",
     "output_type": "stream",
     "text": [
      "\r",
      " 41%|██████████████████████████████████▏                                                | 7/17 [00:02<00:03,  2.93it/s]"
     ]
    },
    {
     "name": "stdout",
     "output_type": "stream",
     "text": [
      "Getting Original Date\n",
      "Getting quots \n",
      "Ticker:  agn \n",
      "Date:  2006-06-21\n",
      "Quote Loaded\n"
     ]
    },
    {
     "name": "stderr",
     "output_type": "stream",
     "text": [
      "\r",
      " 47%|███████████████████████████████████████                                            | 8/17 [00:02<00:03,  2.83it/s]"
     ]
    },
    {
     "name": "stdout",
     "output_type": "stream",
     "text": [
      "Getting Original Date\n",
      "Getting quots \n",
      "Ticker:  agn \n",
      "Date:  2007-02-20\n",
      "Quote Loaded\n"
     ]
    },
    {
     "name": "stderr",
     "output_type": "stream",
     "text": [
      "\r",
      " 53%|███████████████████████████████████████████▉                                       | 9/17 [00:03<00:02,  2.90it/s]"
     ]
    },
    {
     "name": "stdout",
     "output_type": "stream",
     "text": [
      "Getting Original Date\n",
      "Cannot Get data from Quandl. Skipping this one\n",
      "Getting Original Date\n",
      "Getting quots \n",
      "Ticker:  agn \n",
      "Date:  2008-01-23\n",
      "Quote Loaded\n"
     ]
    },
    {
     "name": "stderr",
     "output_type": "stream",
     "text": [
      "\r",
      " 65%|█████████████████████████████████████████████████████                             | 11/17 [00:03<00:01,  3.23it/s]"
     ]
    },
    {
     "name": "stdout",
     "output_type": "stream",
     "text": [
      "Getting Original Date\n",
      "Pointing Date is -  5 (Day of the week)\n",
      "Checking Next Day\n",
      "Cannot Get data from Quandl. Skipping this one\n",
      "Getting Original Date\n",
      "Pointing Date is -  5 (Day of the week)\n",
      "Checking Next Day\n",
      "Pointing Date is -  6 (Day of the week)\n",
      "Checking Next Day\n",
      "Getting quots \n",
      "Ticker:  agn \n",
      "Date:  2008-05-20\n",
      "Quote Loaded\n"
     ]
    },
    {
     "name": "stderr",
     "output_type": "stream",
     "text": [
      "\r",
      " 76%|██████████████████████████████████████████████████████████████▋                   | 13/17 [00:03<00:01,  3.38it/s]"
     ]
    },
    {
     "name": "stdout",
     "output_type": "stream",
     "text": [
      "Getting Original Date\n",
      "Pointing Date is -  5 (Day of the week)\n",
      "Checking Next Day\n",
      "Pointing Date is -  6 (Day of the week)\n",
      "Checking Next Day\n",
      "Getting quots \n",
      "Ticker:  agn \n",
      "Date:  2012-08-14\n",
      "Quote Loaded\n"
     ]
    },
    {
     "name": "stderr",
     "output_type": "stream",
     "text": [
      "\r",
      " 82%|███████████████████████████████████████████████████████████████████▌              | 14/17 [00:04<00:00,  3.31it/s]"
     ]
    },
    {
     "name": "stdout",
     "output_type": "stream",
     "text": [
      "Getting Original Date\n",
      "Getting quots \n",
      "Ticker:  agn \n",
      "Date:  2012-08-22\n",
      "Quote Loaded\n"
     ]
    },
    {
     "name": "stderr",
     "output_type": "stream",
     "text": [
      "\r",
      " 88%|████████████████████████████████████████████████████████████████████████▎         | 15/17 [00:04<00:00,  3.27it/s]"
     ]
    },
    {
     "name": "stdout",
     "output_type": "stream",
     "text": [
      "Getting Original Date\n",
      "Getting quots \n",
      "Ticker:  agn \n",
      "Date:  2013-04-22\n",
      "Quote Loaded\n"
     ]
    },
    {
     "name": "stderr",
     "output_type": "stream",
     "text": [
      "\r",
      " 94%|█████████████████████████████████████████████████████████████████████████████▏    | 16/17 [00:04<00:00,  3.31it/s]"
     ]
    },
    {
     "name": "stdout",
     "output_type": "stream",
     "text": [
      "Getting Original Date\n",
      "Pointing Date is -  6 (Day of the week)\n",
      "Checking Next Day\n",
      "Getting quots \n",
      "Ticker:  agn \n",
      "Date:  2013-05-13\n",
      "Quote Loaded\n"
     ]
    },
    {
     "name": "stderr",
     "output_type": "stream",
     "text": [
      "100%|██████████████████████████████████████████████████████████████████████████████████| 17/17 [00:05<00:00,  3.30it/s]\n"
     ]
    },
    {
     "name": "stdout",
     "output_type": "stream",
     "text": [
      "Will save to file:  PriceVsSNP500_agn.csv\n",
      "Getting Stock Price Data...\n"
     ]
    },
    {
     "name": "stderr",
     "output_type": "stream",
     "text": [
      "\r",
      "  0%|                                                                                           | 0/28 [00:00<?, ?it/s]"
     ]
    },
    {
     "name": "stdout",
     "output_type": "stream",
     "text": [
      "Getting Original Date\n",
      "Pointing Date is -  5 (Day of the week)\n",
      "Checking Next Day\n",
      "Pointing Date is -  6 (Day of the week)\n",
      "Checking Next Day\n",
      "Getting quots \n",
      "Ticker:  acn \n",
      "Date:  2003-11-11\n",
      "Quote Loaded\n"
     ]
    },
    {
     "name": "stderr",
     "output_type": "stream",
     "text": [
      "\r",
      "  4%|██▉                                                                                | 1/28 [00:00<00:10,  2.61it/s]"
     ]
    },
    {
     "name": "stdout",
     "output_type": "stream",
     "text": [
      "Getting Original Date\n",
      "Pointing Date is -  6 (Day of the week)\n",
      "Checking Next Day\n",
      "Getting quots \n",
      "Ticker:  acn \n",
      "Date:  2004-11-30\n",
      "Quote Loaded\n"
     ]
    },
    {
     "name": "stderr",
     "output_type": "stream",
     "text": [
      "\r",
      "  7%|█████▉                                                                             | 2/28 [00:00<00:10,  2.46it/s]"
     ]
    },
    {
     "name": "stdout",
     "output_type": "stream",
     "text": [
      "Getting Original Date\n",
      "Getting quots \n",
      "Ticker:  acn \n",
      "Date:  2004-12-10\n",
      "Quote Loaded\n"
     ]
    },
    {
     "name": "stderr",
     "output_type": "stream",
     "text": [
      "\r",
      " 11%|████████▉                                                                          | 3/28 [00:01<00:09,  2.73it/s]"
     ]
    },
    {
     "name": "stdout",
     "output_type": "stream",
     "text": [
      "Getting Original Date\n",
      "Getting quots \n",
      "Ticker:  acn \n",
      "Date:  2005-02-10\n",
      "Quote Loaded\n"
     ]
    },
    {
     "name": "stderr",
     "output_type": "stream",
     "text": [
      "\r",
      " 14%|███████████▊                                                                       | 4/28 [00:01<00:08,  2.90it/s]"
     ]
    },
    {
     "name": "stdout",
     "output_type": "stream",
     "text": [
      "Getting Original Date\n",
      "Getting quots \n",
      "Ticker:  acn \n",
      "Date:  2005-04-04\n",
      "Quote Loaded\n"
     ]
    },
    {
     "name": "stderr",
     "output_type": "stream",
     "text": [
      "\r",
      " 18%|██████████████▊                                                                    | 5/28 [00:01<00:07,  3.00it/s]"
     ]
    },
    {
     "name": "stdout",
     "output_type": "stream",
     "text": [
      "Getting Original Date\n",
      "Pointing Date is -  6 (Day of the week)\n",
      "Checking Next Day\n",
      "Cannot Get data from Quandl. Skipping this one\n",
      "Getting Original Date\n",
      "Pointing Date is -  5 (Day of the week)\n",
      "Checking Next Day\n",
      "Getting quots \n",
      "Ticker:  acn \n",
      "Date:  2006-06-05\n",
      "Quote Loaded\n"
     ]
    },
    {
     "name": "stderr",
     "output_type": "stream",
     "text": [
      "\r",
      " 25%|████████████████████▊                                                              | 7/28 [00:02<00:06,  3.25it/s]"
     ]
    },
    {
     "name": "stdout",
     "output_type": "stream",
     "text": [
      "Getting Original Date\n",
      "Getting quots \n",
      "Ticker:  acn \n",
      "Date:  2006-08-22\n",
      "Quote Loaded\n"
     ]
    },
    {
     "name": "stderr",
     "output_type": "stream",
     "text": [
      "\r",
      " 29%|███████████████████████▋                                                           | 8/28 [00:02<00:06,  3.28it/s]"
     ]
    },
    {
     "name": "stdout",
     "output_type": "stream",
     "text": [
      "Getting Original Date\n",
      "Getting quots \n",
      "Ticker:  acn \n",
      "Date:  2006-08-22\n",
      "Quote Loaded\n"
     ]
    },
    {
     "name": "stderr",
     "output_type": "stream",
     "text": [
      "\r",
      " 32%|██████████████████████████▋                                                        | 9/28 [00:02<00:05,  3.22it/s]"
     ]
    },
    {
     "name": "stdout",
     "output_type": "stream",
     "text": [
      "Getting Original Date\n",
      "Pointing Date is -  6 (Day of the week)\n",
      "Checking Next Day\n",
      "Getting quots \n",
      "Ticker:  acn \n",
      "Date:  2006-08-28\n",
      "Quote Loaded\n"
     ]
    },
    {
     "name": "stderr",
     "output_type": "stream",
     "text": [
      "\r",
      " 36%|█████████████████████████████▎                                                    | 10/28 [00:03<00:05,  3.16it/s]"
     ]
    },
    {
     "name": "stdout",
     "output_type": "stream",
     "text": [
      "Getting Original Date\n",
      "Getting quots \n",
      "Ticker:  acn \n",
      "Date:  2006-11-02\n",
      "Quote Loaded\n"
     ]
    },
    {
     "name": "stderr",
     "output_type": "stream",
     "text": [
      "\r",
      " 39%|████████████████████████████████▏                                                 | 11/28 [00:03<00:05,  3.17it/s]"
     ]
    },
    {
     "name": "stdout",
     "output_type": "stream",
     "text": [
      "Getting Original Date\n",
      "Pointing Date is -  5 (Day of the week)\n",
      "Checking Next Day\n",
      "Pointing Date is -  6 (Day of the week)\n",
      "Checking Next Day\n",
      "Getting quots \n",
      "Ticker:  acn \n",
      "Date:  2006-11-14\n",
      "Quote Loaded\n"
     ]
    },
    {
     "name": "stderr",
     "output_type": "stream",
     "text": [
      "\r",
      " 43%|███████████████████████████████████▏                                              | 12/28 [00:03<00:05,  3.18it/s]"
     ]
    },
    {
     "name": "stdout",
     "output_type": "stream",
     "text": [
      "Getting Original Date\n",
      "Pointing Date is -  6 (Day of the week)\n",
      "Checking Next Day\n",
      "Getting quots \n",
      "Ticker:  acn \n",
      "Date:  2006-12-04\n",
      "Quote Loaded\n"
     ]
    },
    {
     "name": "stderr",
     "output_type": "stream",
     "text": [
      "\r",
      " 46%|██████████████████████████████████████                                            | 13/28 [00:04<00:04,  3.13it/s]"
     ]
    },
    {
     "name": "stdout",
     "output_type": "stream",
     "text": [
      "Getting Original Date\n",
      "Getting quots \n",
      "Ticker:  acn \n",
      "Date:  2007-03-14\n",
      "Quote Loaded\n"
     ]
    },
    {
     "name": "stderr",
     "output_type": "stream",
     "text": [
      "\r",
      " 50%|█████████████████████████████████████████                                         | 14/28 [00:04<00:04,  3.14it/s]"
     ]
    },
    {
     "name": "stdout",
     "output_type": "stream",
     "text": [
      "Getting Original Date\n",
      "Pointing Date is -  5 (Day of the week)\n",
      "Checking Next Day\n",
      "Pointing Date is -  6 (Day of the week)\n",
      "Checking Next Day\n",
      "Getting quots \n",
      "Ticker:  acn \n",
      "Date:  2007-05-08\n",
      "Quote Loaded\n"
     ]
    },
    {
     "name": "stderr",
     "output_type": "stream",
     "text": [
      "\r",
      " 54%|███████████████████████████████████████████▉                                      | 15/28 [00:04<00:04,  3.17it/s]"
     ]
    },
    {
     "name": "stdout",
     "output_type": "stream",
     "text": [
      "Getting Original Date\n",
      "Getting quots \n",
      "Ticker:  acn \n",
      "Date:  2007-06-05\n",
      "Quote Loaded\n"
     ]
    },
    {
     "name": "stderr",
     "output_type": "stream",
     "text": [
      "\r",
      " 57%|██████████████████████████████████████████████▊                                   | 16/28 [00:04<00:03,  3.20it/s]"
     ]
    },
    {
     "name": "stdout",
     "output_type": "stream",
     "text": [
      "Getting Original Date\n",
      "Getting quots \n",
      "Ticker:  acn \n",
      "Date:  2007-07-06\n",
      "Quote Loaded\n"
     ]
    },
    {
     "name": "stderr",
     "output_type": "stream",
     "text": [
      "\r",
      " 61%|█████████████████████████████████████████████████▊                                | 17/28 [00:05<00:03,  3.16it/s]"
     ]
    },
    {
     "name": "stdout",
     "output_type": "stream",
     "text": [
      "Getting Original Date\n",
      "Getting quots \n",
      "Ticker:  acn \n",
      "Date:  2008-04-07\n",
      "Quote Loaded\n"
     ]
    },
    {
     "name": "stderr",
     "output_type": "stream",
     "text": [
      "\r",
      " 64%|████████████████████████████████████████████████████▋                             | 18/28 [00:05<00:03,  3.12it/s]"
     ]
    },
    {
     "name": "stdout",
     "output_type": "stream",
     "text": [
      "Getting Original Date\n",
      "Pointing Date is -  5 (Day of the week)\n",
      "Checking Next Day\n",
      "Getting quots \n",
      "Ticker:  acn \n",
      "Date:  2008-10-20\n",
      "Quote Loaded\n"
     ]
    },
    {
     "name": "stderr",
     "output_type": "stream",
     "text": [
      "\r",
      " 68%|███████████████████████████████████████████████████████▋                          | 19/28 [00:06<00:02,  3.13it/s]"
     ]
    },
    {
     "name": "stdout",
     "output_type": "stream",
     "text": [
      "Getting Original Date\n",
      "Getting quots \n",
      "Ticker:  acn \n",
      "Date:  2008-12-02\n",
      "Quote Loaded\n"
     ]
    },
    {
     "name": "stderr",
     "output_type": "stream",
     "text": [
      "\r",
      " 71%|██████████████████████████████████████████████████████████▌                       | 20/28 [00:06<00:02,  3.12it/s]"
     ]
    },
    {
     "name": "stdout",
     "output_type": "stream",
     "text": [
      "Getting Original Date\n",
      "Pointing Date is -  6 (Day of the week)\n",
      "Checking Next Day\n",
      "Getting quots \n",
      "Ticker:  acn \n",
      "Date:  2008-12-23\n",
      "Quote Loaded\n"
     ]
    },
    {
     "name": "stderr",
     "output_type": "stream",
     "text": [
      "\r",
      " 75%|█████████████████████████████████████████████████████████████▌                    | 21/28 [00:06<00:02,  3.08it/s]"
     ]
    },
    {
     "name": "stdout",
     "output_type": "stream",
     "text": [
      "Getting Original Date\n",
      "Getting quots \n",
      "Ticker:  acn \n",
      "Date:  2009-08-10\n",
      "Quote Loaded\n"
     ]
    },
    {
     "name": "stderr",
     "output_type": "stream",
     "text": [
      "\r",
      " 79%|████████████████████████████████████████████████████████████████▍                 | 22/28 [00:07<00:01,  3.10it/s]"
     ]
    },
    {
     "name": "stdout",
     "output_type": "stream",
     "text": [
      "Getting Original Date\n",
      "Getting quots \n",
      "Ticker:  acn \n",
      "Date:  2011-09-01\n",
      "Quote Loaded\n"
     ]
    },
    {
     "name": "stderr",
     "output_type": "stream",
     "text": [
      "\r",
      " 82%|███████████████████████████████████████████████████████████████████▎              | 23/28 [00:07<00:01,  3.12it/s]"
     ]
    },
    {
     "name": "stdout",
     "output_type": "stream",
     "text": [
      "Getting Original Date\n",
      "Getting quots \n",
      "Ticker:  acn \n",
      "Date:  2011-11-08\n",
      "Quote Loaded\n"
     ]
    },
    {
     "name": "stderr",
     "output_type": "stream",
     "text": [
      "\r",
      " 86%|██████████████████████████████████████████████████████████████████████▎           | 24/28 [00:07<00:01,  3.11it/s]"
     ]
    },
    {
     "name": "stdout",
     "output_type": "stream",
     "text": [
      "Getting Original Date\n",
      "Getting quots \n",
      "Ticker:  acn \n",
      "Date:  2012-02-29\n",
      "Quote Loaded\n"
     ]
    },
    {
     "name": "stderr",
     "output_type": "stream",
     "text": [
      "\r",
      " 89%|█████████████████████████████████████████████████████████████████████████▏        | 25/28 [00:08<00:00,  3.11it/s]"
     ]
    },
    {
     "name": "stdout",
     "output_type": "stream",
     "text": [
      "Getting Original Date\n",
      "Pointing Date is -  6 (Day of the week)\n",
      "Checking Next Day\n",
      "Getting quots \n",
      "Ticker:  acn \n",
      "Date:  2012-11-05\n",
      "Quote Loaded\n"
     ]
    },
    {
     "name": "stderr",
     "output_type": "stream",
     "text": [
      "\r",
      " 93%|████████████████████████████████████████████████████████████████████████████▏     | 26/28 [00:08<00:00,  3.12it/s]"
     ]
    },
    {
     "name": "stdout",
     "output_type": "stream",
     "text": [
      "Getting Original Date\n",
      "Getting quots \n",
      "Ticker:  acn \n",
      "Date:  2013-04-23\n",
      "Quote Loaded\n"
     ]
    },
    {
     "name": "stderr",
     "output_type": "stream",
     "text": [
      "\r",
      " 96%|███████████████████████████████████████████████████████████████████████████████   | 27/28 [00:08<00:00,  3.12it/s]"
     ]
    },
    {
     "name": "stdout",
     "output_type": "stream",
     "text": [
      "Getting Original Date\n",
      "Getting quots \n",
      "Ticker:  acn \n",
      "Date:  2013-05-10\n",
      "Quote Loaded\n"
     ]
    },
    {
     "name": "stderr",
     "output_type": "stream",
     "text": [
      "100%|██████████████████████████████████████████████████████████████████████████████████| 28/28 [00:08<00:00,  3.13it/s]\n"
     ]
    },
    {
     "name": "stdout",
     "output_type": "stream",
     "text": [
      "Will save to file:  PriceVsSNP500_acn.csv\n",
      "Getting Stock Price Data...\n"
     ]
    },
    {
     "name": "stderr",
     "output_type": "stream",
     "text": [
      "\r",
      "  0%|                                                                                           | 0/11 [00:00<?, ?it/s]"
     ]
    },
    {
     "name": "stdout",
     "output_type": "stream",
     "text": [
      "Getting Original Date\n",
      "Getting quots \n",
      "Ticker:  arna \n",
      "Date:  2003-11-20\n",
      "Quote Loaded\n"
     ]
    },
    {
     "name": "stderr",
     "output_type": "stream",
     "text": [
      "\r",
      "  9%|███████▌                                                                           | 1/11 [00:00<00:03,  2.77it/s]"
     ]
    },
    {
     "name": "stdout",
     "output_type": "stream",
     "text": [
      "Getting Original Date\n",
      "Getting quots \n",
      "Ticker:  arna \n",
      "Date:  2004-10-14\n",
      "Quote Loaded\n"
     ]
    },
    {
     "name": "stderr",
     "output_type": "stream",
     "text": [
      "\r",
      " 18%|███████████████                                                                    | 2/11 [00:00<00:02,  3.25it/s]"
     ]
    },
    {
     "name": "stdout",
     "output_type": "stream",
     "text": [
      "Getting Original Date\n",
      "Getting quots \n",
      "Ticker:  arna \n",
      "Date:  2006-06-23\n",
      "Quote Loaded\n"
     ]
    },
    {
     "name": "stderr",
     "output_type": "stream",
     "text": [
      "\r",
      " 27%|██████████████████████▋                                                            | 3/11 [00:00<00:02,  3.13it/s]"
     ]
    },
    {
     "name": "stdout",
     "output_type": "stream",
     "text": [
      "Getting Original Date\n",
      "Pointing Date is -  5 (Day of the week)\n",
      "Checking Next Day\n",
      "Getting quots \n",
      "Ticker:  arna \n",
      "Date:  2006-10-30\n",
      "Quote Loaded\n"
     ]
    },
    {
     "name": "stderr",
     "output_type": "stream",
     "text": [
      "\r",
      " 36%|██████████████████████████████▏                                                    | 4/11 [00:01<00:02,  3.06it/s]"
     ]
    },
    {
     "name": "stdout",
     "output_type": "stream",
     "text": [
      "Getting Original Date\n",
      "Getting quots \n",
      "Ticker:  arna \n",
      "Date:  2007-03-07\n",
      "Quote Loaded\n"
     ]
    },
    {
     "name": "stderr",
     "output_type": "stream",
     "text": [
      "\r",
      " 45%|█████████████████████████████████████▋                                             | 5/11 [00:01<00:02,  2.98it/s]"
     ]
    },
    {
     "name": "stdout",
     "output_type": "stream",
     "text": [
      "Getting Original Date\n",
      "Getting quots \n",
      "Ticker:  arna \n",
      "Date:  2009-02-13\n",
      "Quote Loaded\n"
     ]
    },
    {
     "name": "stderr",
     "output_type": "stream",
     "text": [
      "\r",
      " 55%|█████████████████████████████████████████████▎                                     | 6/11 [00:02<00:01,  2.92it/s]"
     ]
    },
    {
     "name": "stdout",
     "output_type": "stream",
     "text": [
      "Getting Original Date\n",
      "Getting quots \n",
      "Ticker:  arna \n",
      "Date:  2009-04-03\n",
      "Quote Loaded\n"
     ]
    },
    {
     "name": "stderr",
     "output_type": "stream",
     "text": [
      "\r",
      " 64%|████████████████████████████████████████████████████▊                              | 7/11 [00:02<00:01,  2.91it/s]"
     ]
    },
    {
     "name": "stdout",
     "output_type": "stream",
     "text": [
      "Getting Original Date\n",
      "Getting quots \n",
      "Ticker:  arna \n",
      "Date:  2012-06-25\n",
      "Quote Loaded\n"
     ]
    },
    {
     "name": "stderr",
     "output_type": "stream",
     "text": [
      "\r",
      " 73%|████████████████████████████████████████████████████████████▎                      | 8/11 [00:02<00:01,  2.92it/s]"
     ]
    },
    {
     "name": "stdout",
     "output_type": "stream",
     "text": [
      "Getting Original Date\n",
      "Cannot Get data from Quandl. Skipping this one\n",
      "Getting Original Date\n",
      "Getting quots \n",
      "Ticker:  arna \n",
      "Date:  2013-03-19\n",
      "Quote Loaded\n"
     ]
    },
    {
     "name": "stderr",
     "output_type": "stream",
     "text": [
      "\r",
      " 91%|██████████████████████████████████████████████████████████████████████████▌       | 10/11 [00:03<00:00,  3.26it/s]"
     ]
    },
    {
     "name": "stdout",
     "output_type": "stream",
     "text": [
      "Getting Original Date\n",
      "Getting quots \n",
      "Ticker:  arna \n",
      "Date:  2013-05-07\n",
      "Quote Loaded\n"
     ]
    },
    {
     "name": "stderr",
     "output_type": "stream",
     "text": [
      "100%|██████████████████████████████████████████████████████████████████████████████████| 11/11 [00:03<00:00,  3.30it/s]\n"
     ]
    },
    {
     "name": "stdout",
     "output_type": "stream",
     "text": [
      "Will save to file:  PriceVsSNP500_arna.csv\n",
      "Getting Stock Price Data...\n"
     ]
    },
    {
     "name": "stderr",
     "output_type": "stream",
     "text": [
      "\r",
      "  0%|                                                                                            | 0/5 [00:00<?, ?it/s]"
     ]
    },
    {
     "name": "stdout",
     "output_type": "stream",
     "text": [
      "Getting Original Date\n",
      "Getting quots \n",
      "Ticker:  aon \n",
      "Date:  2011-08-18\n",
      "Quote Loaded\n"
     ]
    },
    {
     "name": "stderr",
     "output_type": "stream",
     "text": [
      "\r",
      " 20%|████████████████▊                                                                   | 1/5 [00:00<00:01,  3.34it/s]"
     ]
    },
    {
     "name": "stdout",
     "output_type": "stream",
     "text": [
      "Getting Original Date\n",
      "Getting quots \n",
      "Ticker:  aon \n",
      "Date:  2011-12-21\n",
      "Quote Loaded\n"
     ]
    },
    {
     "name": "stderr",
     "output_type": "stream",
     "text": [
      "\r",
      " 40%|█████████████████████████████████▌                                                  | 2/5 [00:00<00:00,  3.73it/s]"
     ]
    },
    {
     "name": "stdout",
     "output_type": "stream",
     "text": [
      "Getting Original Date\n",
      "Getting quots \n",
      "Ticker:  aon \n",
      "Date:  2011-12-28\n",
      "Quote Loaded\n"
     ]
    },
    {
     "name": "stderr",
     "output_type": "stream",
     "text": [
      "\r",
      " 60%|██████████████████████████████████████████████████▍                                 | 3/5 [00:00<00:00,  3.42it/s]"
     ]
    },
    {
     "name": "stdout",
     "output_type": "stream",
     "text": [
      "Getting Original Date\n",
      "Pointing Date is -  5 (Day of the week)\n",
      "Checking Next Day\n",
      "Pointing Date is -  6 (Day of the week)\n",
      "Checking Next Day\n",
      "Getting quots \n",
      "Ticker:  aon \n",
      "Date:  2012-01-31\n",
      "Quote Loaded\n"
     ]
    },
    {
     "name": "stderr",
     "output_type": "stream",
     "text": [
      "\r",
      " 80%|███████████████████████████████████████████████████████████████████▏                | 4/5 [00:01<00:00,  3.18it/s]"
     ]
    },
    {
     "name": "stdout",
     "output_type": "stream",
     "text": [
      "Getting Original Date\n",
      "Pointing Date is -  5 (Day of the week)\n",
      "Checking Next Day\n",
      "Getting quots \n",
      "Ticker:  aon \n",
      "Date:  2012-01-30\n",
      "Quote Loaded\n"
     ]
    },
    {
     "name": "stderr",
     "output_type": "stream",
     "text": [
      "100%|████████████████████████████████████████████████████████████████████████████████████| 5/5 [00:01<00:00,  3.22it/s]\n"
     ]
    },
    {
     "name": "stdout",
     "output_type": "stream",
     "text": [
      "Will save to file:  PriceVsSNP500_aon.csv\n",
      "Getting Stock Price Data...\n"
     ]
    },
    {
     "name": "stderr",
     "output_type": "stream",
     "text": [
      "\r",
      "  0%|                                                                                           | 0/18 [00:00<?, ?it/s]"
     ]
    },
    {
     "name": "stdout",
     "output_type": "stream",
     "text": [
      "Getting Original Date\n",
      "Getting quots \n",
      "Ticker:  apa \n",
      "Date:  2004-05-12\n",
      "Quote Loaded\n"
     ]
    },
    {
     "name": "stderr",
     "output_type": "stream",
     "text": [
      "\r",
      "  6%|████▌                                                                              | 1/18 [00:00<00:06,  2.74it/s]"
     ]
    },
    {
     "name": "stdout",
     "output_type": "stream",
     "text": [
      "Getting Original Date\n",
      "Pointing Date is -  6 (Day of the week)\n",
      "Checking Next Day\n",
      "Getting quots \n",
      "Ticker:  apa \n",
      "Date:  2004-09-21\n",
      "Quote Loaded\n"
     ]
    },
    {
     "name": "stderr",
     "output_type": "stream",
     "text": [
      "\r",
      " 11%|█████████▏                                                                         | 2/18 [00:00<00:05,  2.75it/s]"
     ]
    },
    {
     "name": "stdout",
     "output_type": "stream",
     "text": [
      "Getting Original Date\n",
      "Getting quots \n",
      "Ticker:  apa \n",
      "Date:  2004-10-27\n",
      "Quote Loaded\n"
     ]
    },
    {
     "name": "stderr",
     "output_type": "stream",
     "text": [
      "\r",
      " 17%|█████████████▊                                                                     | 3/18 [00:01<00:05,  2.84it/s]"
     ]
    },
    {
     "name": "stdout",
     "output_type": "stream",
     "text": [
      "Getting Original Date\n",
      "Getting quots \n",
      "Ticker:  apa \n",
      "Date:  2005-02-04\n",
      "Quote Loaded\n"
     ]
    },
    {
     "name": "stderr",
     "output_type": "stream",
     "text": [
      "\r",
      " 22%|██████████████████▍                                                                | 4/18 [00:01<00:04,  2.85it/s]"
     ]
    },
    {
     "name": "stdout",
     "output_type": "stream",
     "text": [
      "Getting Original Date\n",
      "Getting quots \n",
      "Ticker:  apa \n",
      "Date:  2005-03-07\n",
      "Quote Loaded\n"
     ]
    },
    {
     "name": "stderr",
     "output_type": "stream",
     "text": [
      "\r",
      " 28%|███████████████████████                                                            | 5/18 [00:01<00:04,  2.91it/s]"
     ]
    },
    {
     "name": "stdout",
     "output_type": "stream",
     "text": [
      "Getting Original Date\n",
      "Pointing Date is -  5 (Day of the week)\n",
      "Checking Next Day\n",
      "Getting quots \n",
      "Ticker:  apa \n",
      "Date:  2006-06-19\n",
      "Quote Loaded\n"
     ]
    },
    {
     "name": "stderr",
     "output_type": "stream",
     "text": [
      "\r",
      " 33%|███████████████████████████▋                                                       | 6/18 [00:02<00:04,  2.96it/s]"
     ]
    },
    {
     "name": "stdout",
     "output_type": "stream",
     "text": [
      "Getting Original Date\n",
      "Pointing Date is -  6 (Day of the week)\n",
      "Checking Next Day\n",
      "Getting quots \n",
      "Ticker:  apa \n",
      "Date:  2006-08-15\n",
      "Quote Loaded\n"
     ]
    },
    {
     "name": "stderr",
     "output_type": "stream",
     "text": [
      "\r",
      " 39%|████████████████████████████████▎                                                  | 7/18 [00:02<00:03,  2.93it/s]"
     ]
    },
    {
     "name": "stdout",
     "output_type": "stream",
     "text": [
      "Getting Original Date\n",
      "Getting quots \n",
      "Ticker:  apa \n",
      "Date:  2007-02-20\n",
      "Quote Loaded\n"
     ]
    },
    {
     "name": "stderr",
     "output_type": "stream",
     "text": [
      "\r",
      " 44%|████████████████████████████████████▉                                              | 8/18 [00:02<00:03,  2.95it/s]"
     ]
    },
    {
     "name": "stdout",
     "output_type": "stream",
     "text": [
      "Getting Original Date\n",
      "Getting quots \n",
      "Ticker:  apa \n",
      "Date:  2007-04-05\n",
      "Quote Loaded\n"
     ]
    },
    {
     "name": "stderr",
     "output_type": "stream",
     "text": [
      "\r",
      " 50%|█████████████████████████████████████████▌                                         | 9/18 [00:03<00:03,  2.94it/s]"
     ]
    },
    {
     "name": "stdout",
     "output_type": "stream",
     "text": [
      "Getting Original Date\n",
      "Getting quots \n",
      "Ticker:  apa \n",
      "Date:  2008-01-23\n",
      "Quote Loaded\n"
     ]
    },
    {
     "name": "stderr",
     "output_type": "stream",
     "text": [
      "\r",
      " 56%|█████████████████████████████████████████████▌                                    | 10/18 [00:03<00:02,  2.96it/s]"
     ]
    },
    {
     "name": "stdout",
     "output_type": "stream",
     "text": [
      "Getting Original Date\n",
      "Cannot Get data from Quandl. Skipping this one\n",
      "Getting Original Date\n",
      "Getting quots \n",
      "Ticker:  apa \n",
      "Date:  2009-11-23\n",
      "Quote Loaded\n"
     ]
    },
    {
     "name": "stderr",
     "output_type": "stream",
     "text": [
      "\r",
      " 67%|██████████████████████████████████████████████████████▋                           | 12/18 [00:03<00:01,  3.18it/s]"
     ]
    },
    {
     "name": "stdout",
     "output_type": "stream",
     "text": [
      "Getting Original Date\n",
      "Cannot Get data from Quandl. Skipping this one\n",
      "Getting Original Date\n",
      "Getting quots \n",
      "Ticker:  apa \n",
      "Date:  2011-12-30\n",
      "Quote Loaded\n"
     ]
    },
    {
     "name": "stderr",
     "output_type": "stream",
     "text": [
      "\r",
      " 78%|███████████████████████████████████████████████████████████████▊                  | 14/18 [00:04<00:01,  3.35it/s]"
     ]
    },
    {
     "name": "stdout",
     "output_type": "stream",
     "text": [
      "Getting Original Date\n",
      "Getting quots \n",
      "Ticker:  apa \n",
      "Date:  2012-02-29\n",
      "Quote Loaded\n"
     ]
    },
    {
     "name": "stderr",
     "output_type": "stream",
     "text": [
      "\r",
      " 83%|████████████████████████████████████████████████████████████████████▎             | 15/18 [00:04<00:00,  3.32it/s]"
     ]
    },
    {
     "name": "stdout",
     "output_type": "stream",
     "text": [
      "Getting Original Date\n",
      "Getting quots \n",
      "Ticker:  apa \n",
      "Date:  2012-06-07\n",
      "Quote Loaded\n"
     ]
    },
    {
     "name": "stderr",
     "output_type": "stream",
     "text": [
      "\r",
      " 89%|████████████████████████████████████████████████████████████████████████▉         | 16/18 [00:04<00:00,  3.36it/s]"
     ]
    },
    {
     "name": "stdout",
     "output_type": "stream",
     "text": [
      "Getting Original Date\n",
      "Getting quots \n",
      "Ticker:  apa \n",
      "Date:  2013-04-23\n",
      "Quote Loaded\n"
     ]
    },
    {
     "name": "stderr",
     "output_type": "stream",
     "text": [
      "\r",
      " 94%|█████████████████████████████████████████████████████████████████████████████▍    | 17/18 [00:05<00:00,  3.17it/s]"
     ]
    },
    {
     "name": "stdout",
     "output_type": "stream",
     "text": [
      "Getting Original Date\n",
      "Getting quots \n",
      "Ticker:  apa \n",
      "Date:  2013-05-10\n",
      "Quote Loaded\n"
     ]
    },
    {
     "name": "stderr",
     "output_type": "stream",
     "text": [
      "100%|██████████████████████████████████████████████████████████████████████████████████| 18/18 [00:05<00:00,  3.16it/s]\n"
     ]
    },
    {
     "name": "stdout",
     "output_type": "stream",
     "text": [
      "Will save to file:  PriceVsSNP500_apa.csv\n",
      "Getting Stock Price Data...\n"
     ]
    },
    {
     "name": "stderr",
     "output_type": "stream",
     "text": [
      "\r",
      "  0%|                                                                                            | 0/3 [00:00<?, ?it/s]"
     ]
    },
    {
     "name": "stdout",
     "output_type": "stream",
     "text": [
      "Getting Original Date\n",
      "Getting quots \n",
      "Ticker:  bbry \n",
      "Date:  2013-04-22\n",
      "Wrong Day, Cheching Next\n",
      "Wrong Day, Cheching Next\n",
      "Wrong Day, Cheching Next\n",
      "Wrong Day, Cheching Next\n",
      "Wrong Day, Cheching Next\n",
      "Wrong Day, Cheching Next\n",
      "Wrong Day, Cheching Next\n",
      "Wrong Day, Cheching Next\n",
      "Wrong Day, Cheching Next\n",
      "Wrong Day, Cheching Next\n",
      "Reached Limit amount of tries\n",
      "Cannot Get data from Quandl. Skipping this one\n"
     ]
    },
    {
     "name": "stderr",
     "output_type": "stream",
     "text": [
      "\r",
      " 33%|████████████████████████████                                                        | 1/3 [00:02<00:04,  2.23s/it]"
     ]
    },
    {
     "name": "stdout",
     "output_type": "stream",
     "text": [
      "Getting Original Date\n",
      "Getting quots \n",
      "Ticker:  bbry \n",
      "Date:  2013-05-07\n",
      "Wrong Day, Cheching Next\n",
      "Wrong Day, Cheching Next\n",
      "Wrong Day, Cheching Next\n",
      "Wrong Day, Cheching Next\n",
      "Wrong Day, Cheching Next\n",
      "Wrong Day, Cheching Next\n",
      "Wrong Day, Cheching Next\n",
      "Wrong Day, Cheching Next\n",
      "Wrong Day, Cheching Next\n",
      "Wrong Day, Cheching Next\n",
      "Reached Limit amount of tries\n",
      "Cannot Get data from Quandl. Skipping this one\n"
     ]
    },
    {
     "name": "stderr",
     "output_type": "stream",
     "text": [
      "\r",
      " 67%|████████████████████████████████████████████████████████                            | 2/3 [00:04<00:02,  2.13s/it]"
     ]
    },
    {
     "name": "stdout",
     "output_type": "stream",
     "text": [
      "Getting Original Date\n",
      "Getting quots \n",
      "Ticker:  bbry \n",
      "Date:  2013-08-12\n",
      "Wrong Day, Cheching Next\n",
      "Wrong Day, Cheching Next\n",
      "Wrong Day, Cheching Next\n",
      "Wrong Day, Cheching Next\n",
      "Wrong Day, Cheching Next\n",
      "Wrong Day, Cheching Next\n",
      "Wrong Day, Cheching Next\n",
      "Wrong Day, Cheching Next\n",
      "Wrong Day, Cheching Next\n",
      "Wrong Day, Cheching Next\n",
      "Reached Limit amount of tries\n",
      "Cannot Get data from Quandl. Skipping this one\n"
     ]
    },
    {
     "name": "stderr",
     "output_type": "stream",
     "text": [
      "100%|████████████████████████████████████████████████████████████████████████████████████| 3/3 [00:06<00:00,  2.22s/it]\n"
     ]
    },
    {
     "name": "stdout",
     "output_type": "stream",
     "text": [
      "Will save to file:  PriceVsSNP500_bbry.csv\n",
      "Getting Stock Price Data...\n"
     ]
    },
    {
     "name": "stderr",
     "output_type": "stream",
     "text": [
      "\r",
      "  0%|                                                                                           | 0/22 [00:00<?, ?it/s]"
     ]
    },
    {
     "name": "stdout",
     "output_type": "stream",
     "text": [
      "Getting Original Date\n",
      "Getting quots \n",
      "Ticker:  apol \n",
      "Date:  2004-11-23\n",
      "Quote Loaded\n"
     ]
    },
    {
     "name": "stderr",
     "output_type": "stream",
     "text": [
      "\r",
      "  5%|███▊                                                                               | 1/22 [00:00<00:05,  4.04it/s]"
     ]
    },
    {
     "name": "stdout",
     "output_type": "stream",
     "text": [
      "Getting Original Date\n",
      "Getting quots \n",
      "Ticker:  apol \n",
      "Date:  2005-01-26\n",
      "Quote Loaded\n"
     ]
    },
    {
     "name": "stderr",
     "output_type": "stream",
     "text": [
      "\r",
      "  9%|███████▌                                                                           | 2/22 [00:00<00:06,  3.28it/s]"
     ]
    },
    {
     "name": "stdout",
     "output_type": "stream",
     "text": [
      "Getting Original Date\n",
      "Pointing Date is -  6 (Day of the week)\n",
      "Checking Next Day\n",
      "Getting quots \n",
      "Ticker:  apol \n",
      "Date:  2005-02-22\n",
      "Quote Loaded\n"
     ]
    },
    {
     "name": "stderr",
     "output_type": "stream",
     "text": [
      "\r",
      " 14%|███████████▎                                                                       | 3/22 [00:00<00:06,  3.06it/s]"
     ]
    },
    {
     "name": "stdout",
     "output_type": "stream",
     "text": [
      "Getting Original Date\n",
      "Getting quots \n",
      "Ticker:  apol \n",
      "Date:  2005-03-08\n",
      "Quote Loaded\n"
     ]
    },
    {
     "name": "stderr",
     "output_type": "stream",
     "text": [
      "\r",
      " 18%|███████████████                                                                    | 4/22 [00:01<00:05,  3.06it/s]"
     ]
    },
    {
     "name": "stdout",
     "output_type": "stream",
     "text": [
      "Getting Original Date\n",
      "Getting quots \n",
      "Ticker:  apol \n",
      "Date:  2005-04-13\n",
      "Quote Loaded\n"
     ]
    },
    {
     "name": "stderr",
     "output_type": "stream",
     "text": [
      "\r",
      " 23%|██████████████████▊                                                                | 5/22 [00:01<00:05,  3.21it/s]"
     ]
    },
    {
     "name": "stdout",
     "output_type": "stream",
     "text": [
      "Getting Original Date\n",
      "Getting quots \n",
      "Ticker:  apol \n",
      "Date:  2005-05-27\n",
      "Quote Loaded\n"
     ]
    },
    {
     "name": "stderr",
     "output_type": "stream",
     "text": [
      "\r",
      " 27%|██████████████████████▋                                                            | 6/22 [00:01<00:05,  3.11it/s]"
     ]
    },
    {
     "name": "stdout",
     "output_type": "stream",
     "text": [
      "Getting Original Date\n",
      "Getting quots \n",
      "Ticker:  apol \n",
      "Date:  2005-09-28\n",
      "Quote Loaded\n"
     ]
    },
    {
     "name": "stderr",
     "output_type": "stream",
     "text": [
      "\r",
      " 32%|██████████████████████████▍                                                        | 7/22 [00:02<00:05,  2.97it/s]"
     ]
    },
    {
     "name": "stdout",
     "output_type": "stream",
     "text": [
      "Getting Original Date\n",
      "Pointing Date is -  6 (Day of the week)\n",
      "Checking Next Day\n",
      "Getting quots \n",
      "Ticker:  apol \n",
      "Date:  2006-08-21\n",
      "Quote Loaded\n"
     ]
    },
    {
     "name": "stderr",
     "output_type": "stream",
     "text": [
      "\r",
      " 36%|██████████████████████████████▏                                                    | 8/22 [00:02<00:04,  2.97it/s]"
     ]
    },
    {
     "name": "stdout",
     "output_type": "stream",
     "text": [
      "Getting Original Date\n",
      "Getting quots \n",
      "Ticker:  apol \n",
      "Date:  2007-02-20\n",
      "Quote Loaded\n"
     ]
    },
    {
     "name": "stderr",
     "output_type": "stream",
     "text": [
      "\r",
      " 41%|█████████████████████████████████▉                                                 | 9/22 [00:03<00:04,  2.93it/s]"
     ]
    },
    {
     "name": "stdout",
     "output_type": "stream",
     "text": [
      "Getting Original Date\n",
      "Pointing Date is -  6 (Day of the week)\n",
      "Checking Next Day\n",
      "Getting quots \n",
      "Ticker:  apol \n",
      "Date:  2007-04-10\n",
      "Quote Loaded\n"
     ]
    },
    {
     "name": "stderr",
     "output_type": "stream",
     "text": [
      "\r",
      " 45%|█████████████████████████████████████▎                                            | 10/22 [00:03<00:04,  2.79it/s]"
     ]
    },
    {
     "name": "stdout",
     "output_type": "stream",
     "text": [
      "Getting Original Date\n",
      "Cannot Get data from Quandl. Skipping this one\n",
      "Getting Original Date\n",
      "Getting quots \n",
      "Ticker:  apol \n",
      "Date:  2007-06-04\n",
      "Quote Loaded\n"
     ]
    },
    {
     "name": "stderr",
     "output_type": "stream",
     "text": [
      "\r",
      " 55%|████████████████████████████████████████████▋                                     | 12/22 [00:03<00:03,  3.09it/s]"
     ]
    },
    {
     "name": "stdout",
     "output_type": "stream",
     "text": [
      "Getting Original Date\n",
      "Getting quots \n",
      "Ticker:  apol \n",
      "Date:  2007-07-06\n",
      "Quote Loaded\n"
     ]
    },
    {
     "name": "stderr",
     "output_type": "stream",
     "text": [
      "\r",
      " 59%|████████████████████████████████████████████████▍                                 | 13/22 [00:04<00:02,  3.05it/s]"
     ]
    },
    {
     "name": "stdout",
     "output_type": "stream",
     "text": [
      "Getting Original Date\n",
      "Getting quots \n",
      "Ticker:  apol \n",
      "Date:  2007-12-26\n",
      "Quote Loaded\n"
     ]
    },
    {
     "name": "stderr",
     "output_type": "stream",
     "text": [
      "\r",
      " 64%|████████████████████████████████████████████████████▏                             | 14/22 [00:04<00:02,  3.08it/s]"
     ]
    },
    {
     "name": "stdout",
     "output_type": "stream",
     "text": [
      "Getting Original Date\n",
      "Getting quots \n",
      "Ticker:  apol \n",
      "Date:  2008-01-23\n",
      "Quote Loaded\n"
     ]
    },
    {
     "name": "stderr",
     "output_type": "stream",
     "text": [
      "\r",
      " 68%|███████████████████████████████████████████████████████▉                          | 15/22 [00:04<00:02,  3.12it/s]"
     ]
    },
    {
     "name": "stdout",
     "output_type": "stream",
     "text": [
      "Getting Original Date\n",
      "Pointing Date is -  5 (Day of the week)\n",
      "Checking Next Day\n",
      "Getting quots \n",
      "Ticker:  apol \n",
      "Date:  2009-03-23\n",
      "Quote Loaded\n"
     ]
    },
    {
     "name": "stderr",
     "output_type": "stream",
     "text": [
      "\r",
      " 73%|███████████████████████████████████████████████████████████▋                      | 16/22 [00:05<00:01,  3.15it/s]"
     ]
    },
    {
     "name": "stdout",
     "output_type": "stream",
     "text": [
      "Getting Original Date\n",
      "Getting quots \n",
      "Ticker:  apol \n",
      "Date:  2011-07-07\n",
      "Quote Loaded\n"
     ]
    },
    {
     "name": "stderr",
     "output_type": "stream",
     "text": [
      "\r",
      " 77%|███████████████████████████████████████████████████████████████▎                  | 17/22 [00:05<00:01,  3.19it/s]"
     ]
    },
    {
     "name": "stdout",
     "output_type": "stream",
     "text": [
      "Getting Original Date\n",
      "Pointing Date is -  6 (Day of the week)\n",
      "Checking Next Day\n",
      "Getting quots \n",
      "Ticker:  apol \n",
      "Date:  2011-09-27\n",
      "Quote Loaded\n"
     ]
    },
    {
     "name": "stderr",
     "output_type": "stream",
     "text": [
      "\r",
      " 82%|███████████████████████████████████████████████████████████████████               | 18/22 [00:05<00:01,  3.10it/s]"
     ]
    },
    {
     "name": "stdout",
     "output_type": "stream",
     "text": [
      "Getting Original Date\n",
      "Getting quots \n",
      "Ticker:  apol \n",
      "Date:  2011-11-08\n",
      "Quote Loaded\n"
     ]
    },
    {
     "name": "stderr",
     "output_type": "stream",
     "text": [
      "\r",
      " 86%|██████████████████████████████████████████████████████████████████████▊           | 19/22 [00:06<00:00,  3.01it/s]"
     ]
    },
    {
     "name": "stdout",
     "output_type": "stream",
     "text": [
      "Getting Original Date\n",
      "Getting quots \n",
      "Ticker:  apol \n",
      "Date:  2013-02-06\n",
      "Quote Loaded\n"
     ]
    },
    {
     "name": "stderr",
     "output_type": "stream",
     "text": [
      "\r",
      " 91%|██████████████████████████████████████████████████████████████████████████▌       | 20/22 [00:06<00:00,  3.00it/s]"
     ]
    },
    {
     "name": "stdout",
     "output_type": "stream",
     "text": [
      "Getting Original Date\n",
      "Getting quots \n",
      "Ticker:  apol \n",
      "Date:  2013-04-22\n",
      "Quote Loaded\n"
     ]
    },
    {
     "name": "stderr",
     "output_type": "stream",
     "text": [
      "\r",
      " 95%|██████████████████████████████████████████████████████████████████████████████▎   | 21/22 [00:06<00:00,  3.01it/s]"
     ]
    },
    {
     "name": "stdout",
     "output_type": "stream",
     "text": [
      "Getting Original Date\n",
      "Pointing Date is -  5 (Day of the week)\n",
      "Checking Next Day\n",
      "Getting quots \n",
      "Ticker:  apol \n",
      "Date:  2013-05-13\n",
      "Quote Loaded\n"
     ]
    },
    {
     "name": "stderr",
     "output_type": "stream",
     "text": [
      "100%|██████████████████████████████████████████████████████████████████████████████████| 22/22 [00:07<00:00,  2.91it/s]\n"
     ]
    },
    {
     "name": "stdout",
     "output_type": "stream",
     "text": [
      "Will save to file:  PriceVsSNP500_apol.csv\n",
      "Getting Stock Price Data...\n"
     ]
    },
    {
     "name": "stderr",
     "output_type": "stream",
     "text": [
      "\r",
      "  0%|                                                                                           | 0/20 [00:00<?, ?it/s]"
     ]
    },
    {
     "name": "stdout",
     "output_type": "stream",
     "text": [
      "Getting Original Date\n",
      "Pointing Date is -  6 (Day of the week)\n",
      "Checking Next Day\n",
      "Getting quots \n",
      "Ticker:  an \n",
      "Date:  2003-10-28\n",
      "Quote Loaded\n"
     ]
    },
    {
     "name": "stderr",
     "output_type": "stream",
     "text": [
      "\r",
      "  5%|████▏                                                                              | 1/20 [00:00<00:05,  3.54it/s]"
     ]
    },
    {
     "name": "stdout",
     "output_type": "stream",
     "text": [
      "Getting Original Date\n",
      "Getting quots \n",
      "Ticker:  an \n",
      "Date:  2004-09-17\n",
      "Quote Loaded\n"
     ]
    },
    {
     "name": "stderr",
     "output_type": "stream",
     "text": [
      "\r",
      " 10%|████████▎                                                                          | 2/20 [00:00<00:05,  3.08it/s]"
     ]
    },
    {
     "name": "stdout",
     "output_type": "stream",
     "text": [
      "Getting Original Date\n",
      "Getting quots \n",
      "Ticker:  an \n",
      "Date:  2005-04-05\n",
      "Quote Loaded\n"
     ]
    },
    {
     "name": "stderr",
     "output_type": "stream",
     "text": [
      "\r",
      " 15%|████████████▍                                                                      | 3/20 [00:00<00:04,  3.41it/s]"
     ]
    },
    {
     "name": "stdout",
     "output_type": "stream",
     "text": [
      "Getting Original Date\n",
      "Pointing Date is -  5 (Day of the week)\n",
      "Checking Next Day\n",
      "Cannot Get data from Quandl. Skipping this one\n",
      "Getting Original Date\n",
      "Getting quots \n",
      "Ticker:  an \n",
      "Date:  2007-02-20\n",
      "Quote Loaded\n"
     ]
    },
    {
     "name": "stderr",
     "output_type": "stream",
     "text": [
      "\r",
      " 25%|████████████████████▊                                                              | 5/20 [00:01<00:03,  4.25it/s]"
     ]
    },
    {
     "name": "stdout",
     "output_type": "stream",
     "text": [
      "Getting Original Date\n",
      "Getting quots \n",
      "Ticker:  an \n",
      "Date:  2008-01-23\n",
      "Quote Loaded\n"
     ]
    },
    {
     "name": "stderr",
     "output_type": "stream",
     "text": [
      "\r",
      " 30%|████████████████████████▉                                                          | 6/20 [00:01<00:03,  3.87it/s]"
     ]
    },
    {
     "name": "stdout",
     "output_type": "stream",
     "text": [
      "Getting Original Date\n",
      "Getting quots \n",
      "Ticker:  an \n",
      "Date:  2008-02-15\n",
      "Quote Loaded\n"
     ]
    },
    {
     "name": "stderr",
     "output_type": "stream",
     "text": [
      "\r",
      " 35%|█████████████████████████████                                                      | 7/20 [00:02<00:04,  3.25it/s]"
     ]
    },
    {
     "name": "stdout",
     "output_type": "stream",
     "text": [
      "Getting Original Date\n",
      "Pointing Date is -  5 (Day of the week)\n",
      "Checking Next Day\n",
      "Pointing Date is -  6 (Day of the week)\n",
      "Checking Next Day\n",
      "Getting quots \n",
      "Ticker:  an \n",
      "Date:  2008-12-09\n",
      "Quote Loaded\n"
     ]
    },
    {
     "name": "stderr",
     "output_type": "stream",
     "text": [
      "\r",
      " 40%|█████████████████████████████████▏                                                 | 8/20 [00:02<00:03,  3.17it/s]"
     ]
    },
    {
     "name": "stdout",
     "output_type": "stream",
     "text": [
      "Getting Original Date\n",
      "Pointing Date is -  5 (Day of the week)\n",
      "Checking Next Day\n",
      "Getting quots \n",
      "Ticker:  an \n",
      "Date:  2009-02-09\n",
      "Quote Loaded\n"
     ]
    },
    {
     "name": "stderr",
     "output_type": "stream",
     "text": [
      "\r",
      " 45%|█████████████████████████████████████▎                                             | 9/20 [00:02<00:03,  3.09it/s]"
     ]
    },
    {
     "name": "stdout",
     "output_type": "stream",
     "text": [
      "Getting Original Date\n",
      "Pointing Date is -  5 (Day of the week)\n",
      "Checking Next Day\n",
      "Pointing Date is -  6 (Day of the week)\n",
      "Checking Next Day\n",
      "Getting quots \n",
      "Ticker:  an \n",
      "Date:  2011-03-15\n",
      "Quote Loaded\n"
     ]
    },
    {
     "name": "stderr",
     "output_type": "stream",
     "text": [
      "\r",
      " 50%|█████████████████████████████████████████                                         | 10/20 [00:03<00:03,  3.04it/s]"
     ]
    },
    {
     "name": "stdout",
     "output_type": "stream",
     "text": [
      "Getting Original Date\n",
      "Pointing Date is -  6 (Day of the week)\n",
      "Checking Next Day\n",
      "Getting quots \n",
      "Ticker:  an \n",
      "Date:  2011-05-23\n",
      "Quote Loaded\n"
     ]
    },
    {
     "name": "stderr",
     "output_type": "stream",
     "text": [
      "\r",
      " 55%|█████████████████████████████████████████████                                     | 11/20 [00:03<00:02,  3.04it/s]"
     ]
    },
    {
     "name": "stdout",
     "output_type": "stream",
     "text": [
      "Getting Original Date\n",
      "Pointing Date is -  5 (Day of the week)\n",
      "Checking Next Day\n",
      "Pointing Date is -  6 (Day of the week)\n",
      "Checking Next Day\n",
      "Getting quots \n",
      "Ticker:  an \n",
      "Date:  2011-06-07\n",
      "Quote Loaded\n"
     ]
    },
    {
     "name": "stderr",
     "output_type": "stream",
     "text": [
      "\r",
      " 60%|█████████████████████████████████████████████████▏                                | 12/20 [00:04<00:02,  2.95it/s]"
     ]
    },
    {
     "name": "stdout",
     "output_type": "stream",
     "text": [
      "Getting Original Date\n",
      "Getting quots \n",
      "Ticker:  an \n",
      "Date:  2011-06-22\n",
      "Quote Loaded\n"
     ]
    },
    {
     "name": "stderr",
     "output_type": "stream",
     "text": [
      "\r",
      " 65%|█████████████████████████████████████████████████████▎                            | 13/20 [00:04<00:02,  3.01it/s]"
     ]
    },
    {
     "name": "stdout",
     "output_type": "stream",
     "text": [
      "Getting Original Date\n",
      "Getting quots \n",
      "Ticker:  an \n",
      "Date:  2011-06-29\n",
      "Quote Loaded\n"
     ]
    },
    {
     "name": "stderr",
     "output_type": "stream",
     "text": [
      "\r",
      " 70%|█████████████████████████████████████████████████████████▍                        | 14/20 [00:04<00:02,  2.93it/s]"
     ]
    },
    {
     "name": "stdout",
     "output_type": "stream",
     "text": [
      "Getting Original Date\n",
      "Getting quots \n",
      "Ticker:  an \n",
      "Date:  2011-08-16\n",
      "Quote Loaded\n"
     ]
    },
    {
     "name": "stderr",
     "output_type": "stream",
     "text": [
      "\r",
      " 75%|█████████████████████████████████████████████████████████████▌                    | 15/20 [00:05<00:01,  2.90it/s]"
     ]
    },
    {
     "name": "stdout",
     "output_type": "stream",
     "text": [
      "Getting Original Date\n",
      "Getting quots \n",
      "Ticker:  an \n",
      "Date:  2011-11-16\n",
      "Quote Loaded\n"
     ]
    },
    {
     "name": "stderr",
     "output_type": "stream",
     "text": [
      "\r",
      " 80%|█████████████████████████████████████████████████████████████████▌                | 16/20 [00:05<00:01,  2.94it/s]"
     ]
    },
    {
     "name": "stdout",
     "output_type": "stream",
     "text": [
      "Getting Original Date\n",
      "Pointing Date is -  5 (Day of the week)\n",
      "Checking Next Day\n",
      "Getting quots \n",
      "Ticker:  an \n",
      "Date:  2012-02-06\n",
      "Quote Loaded\n"
     ]
    },
    {
     "name": "stderr",
     "output_type": "stream",
     "text": [
      "\r",
      " 85%|█████████████████████████████████████████████████████████████████████▋            | 17/20 [00:05<00:01,  2.91it/s]"
     ]
    },
    {
     "name": "stdout",
     "output_type": "stream",
     "text": [
      "Getting Original Date\n",
      "Pointing Date is -  5 (Day of the week)\n",
      "Checking Next Day\n",
      "Pointing Date is -  6 (Day of the week)\n",
      "Checking Next Day\n",
      "Getting quots \n",
      "Ticker:  an \n",
      "Date:  2012-02-14\n",
      "Quote Loaded\n"
     ]
    },
    {
     "name": "stderr",
     "output_type": "stream",
     "text": [
      "\r",
      " 90%|█████████████████████████████████████████████████████████████████████████▊        | 18/20 [00:06<00:00,  2.90it/s]"
     ]
    },
    {
     "name": "stdout",
     "output_type": "stream",
     "text": [
      "Getting Original Date\n",
      "Pointing Date is -  5 (Day of the week)\n",
      "Checking Next Day\n",
      "Pointing Date is -  6 (Day of the week)\n",
      "Checking Next Day\n",
      "Getting quots \n",
      "Ticker:  an \n",
      "Date:  2012-07-31\n",
      "Quote Loaded\n"
     ]
    },
    {
     "name": "stderr",
     "output_type": "stream",
     "text": [
      "\r",
      " 95%|█████████████████████████████████████████████████████████████████████████████▉    | 19/20 [00:06<00:00,  2.89it/s]"
     ]
    },
    {
     "name": "stdout",
     "output_type": "stream",
     "text": [
      "Getting Original Date\n",
      "Getting quots \n",
      "Ticker:  an \n",
      "Date:  2013-05-14\n",
      "Quote Loaded\n"
     ]
    },
    {
     "name": "stderr",
     "output_type": "stream",
     "text": [
      "100%|██████████████████████████████████████████████████████████████████████████████████| 20/20 [00:06<00:00,  2.88it/s]\n"
     ]
    },
    {
     "name": "stdout",
     "output_type": "stream",
     "text": [
      "Will save to file:  PriceVsSNP500_an.csv\n",
      "Getting Stock Price Data...\n"
     ]
    },
    {
     "name": "stderr",
     "output_type": "stream",
     "text": [
      "\r",
      "  0%|                                                                                           | 0/15 [00:00<?, ?it/s]"
     ]
    },
    {
     "name": "stdout",
     "output_type": "stream",
     "text": [
      "Getting Original Date\n",
      "Getting quots \n",
      "Ticker:  all \n",
      "Date:  2004-09-24\n",
      "Quote Loaded\n"
     ]
    },
    {
     "name": "stderr",
     "output_type": "stream",
     "text": [
      "\r",
      "  7%|█████▌                                                                             | 1/15 [00:00<00:04,  2.93it/s]"
     ]
    },
    {
     "name": "stdout",
     "output_type": "stream",
     "text": [
      "Getting Original Date\n",
      "Pointing Date is -  6 (Day of the week)\n",
      "Checking Next Day\n",
      "Getting quots \n",
      "Ticker:  all \n",
      "Date:  2005-02-01\n",
      "Quote Loaded\n"
     ]
    },
    {
     "name": "stderr",
     "output_type": "stream",
     "text": [
      "\r",
      " 13%|███████████                                                                        | 2/15 [00:00<00:04,  3.18it/s]"
     ]
    },
    {
     "name": "stdout",
     "output_type": "stream",
     "text": [
      "Getting Original Date\n",
      "Getting quots \n",
      "Ticker:  all \n",
      "Date:  2005-02-04\n",
      "Quote Loaded\n"
     ]
    },
    {
     "name": "stderr",
     "output_type": "stream",
     "text": [
      "\r",
      " 20%|████████████████▌                                                                  | 3/15 [00:01<00:04,  2.99it/s]"
     ]
    },
    {
     "name": "stdout",
     "output_type": "stream",
     "text": [
      "Getting Original Date\n",
      "Pointing Date is -  5 (Day of the week)\n",
      "Checking Next Day\n",
      "Pointing Date is -  6 (Day of the week)\n",
      "Checking Next Day\n",
      "Getting quots \n",
      "Ticker:  all \n",
      "Date:  2007-01-16\n",
      "Quote Loaded\n"
     ]
    },
    {
     "name": "stderr",
     "output_type": "stream",
     "text": [
      "\r",
      " 27%|██████████████████████▏                                                            | 4/15 [00:01<00:03,  2.96it/s]"
     ]
    },
    {
     "name": "stdout",
     "output_type": "stream",
     "text": [
      "Getting Original Date\n",
      "Getting quots \n",
      "Ticker:  all \n",
      "Date:  2007-02-22\n",
      "Quote Loaded\n"
     ]
    },
    {
     "name": "stderr",
     "output_type": "stream",
     "text": [
      "\r",
      " 33%|███████████████████████████▋                                                       | 5/15 [00:01<00:03,  3.10it/s]"
     ]
    },
    {
     "name": "stdout",
     "output_type": "stream",
     "text": [
      "Getting Original Date\n",
      "Getting quots \n",
      "Ticker:  all \n",
      "Date:  2007-04-10\n",
      "Quote Loaded\n"
     ]
    },
    {
     "name": "stderr",
     "output_type": "stream",
     "text": [
      "\r",
      " 40%|█████████████████████████████████▏                                                 | 6/15 [00:01<00:02,  3.04it/s]"
     ]
    },
    {
     "name": "stdout",
     "output_type": "stream",
     "text": [
      "Getting Original Date\n",
      "Getting quots \n",
      "Ticker:  all \n",
      "Date:  2008-01-23\n",
      "Quote Loaded\n"
     ]
    },
    {
     "name": "stderr",
     "output_type": "stream",
     "text": [
      "\r",
      " 47%|██████████████████████████████████████▋                                            | 7/15 [00:02<00:02,  3.03it/s]"
     ]
    },
    {
     "name": "stdout",
     "output_type": "stream",
     "text": [
      "Getting Original Date\n",
      "Getting quots \n",
      "Ticker:  all \n",
      "Date:  2011-05-05\n",
      "Quote Loaded\n"
     ]
    },
    {
     "name": "stderr",
     "output_type": "stream",
     "text": [
      "\r",
      " 53%|████████████████████████████████████████████▎                                      | 8/15 [00:02<00:02,  2.95it/s]"
     ]
    },
    {
     "name": "stdout",
     "output_type": "stream",
     "text": [
      "Getting Original Date\n",
      "Getting quots \n",
      "Ticker:  all \n",
      "Date:  2011-07-14\n",
      "Quote Loaded\n"
     ]
    },
    {
     "name": "stderr",
     "output_type": "stream",
     "text": [
      "\r",
      " 60%|█████████████████████████████████████████████████▊                                 | 9/15 [00:03<00:02,  2.85it/s]"
     ]
    },
    {
     "name": "stdout",
     "output_type": "stream",
     "text": [
      "Getting Original Date\n",
      "Getting quots \n",
      "Ticker:  all \n",
      "Date:  2011-09-12\n",
      "Quote Loaded\n"
     ]
    },
    {
     "name": "stderr",
     "output_type": "stream",
     "text": [
      "\r",
      " 67%|██████████████████████████████████████████████████████▋                           | 10/15 [00:03<00:01,  2.83it/s]"
     ]
    },
    {
     "name": "stdout",
     "output_type": "stream",
     "text": [
      "Getting Original Date\n",
      "Getting quots \n",
      "Ticker:  all \n",
      "Date:  2011-10-28\n",
      "Quote Loaded\n"
     ]
    },
    {
     "name": "stderr",
     "output_type": "stream",
     "text": [
      "\r",
      " 73%|████████████████████████████████████████████████████████████▏                     | 11/15 [00:03<00:01,  2.83it/s]"
     ]
    },
    {
     "name": "stdout",
     "output_type": "stream",
     "text": [
      "Getting Original Date\n",
      "Pointing Date is -  6 (Day of the week)\n",
      "Checking Next Day\n",
      "Getting quots \n",
      "Ticker:  all \n",
      "Date:  2012-03-12\n",
      "Quote Loaded\n"
     ]
    },
    {
     "name": "stderr",
     "output_type": "stream",
     "text": [
      "\r",
      " 80%|█████████████████████████████████████████████████████████████████▌                | 12/15 [00:04<00:01,  2.81it/s]"
     ]
    },
    {
     "name": "stdout",
     "output_type": "stream",
     "text": [
      "Getting Original Date\n",
      "Getting quots \n",
      "Ticker:  all \n",
      "Date:  2012-08-20\n",
      "Quote Loaded\n"
     ]
    },
    {
     "name": "stderr",
     "output_type": "stream",
     "text": [
      "\r",
      " 87%|███████████████████████████████████████████████████████████████████████           | 13/15 [00:04<00:00,  2.88it/s]"
     ]
    },
    {
     "name": "stdout",
     "output_type": "stream",
     "text": [
      "Getting Original Date\n",
      "Getting quots \n",
      "Ticker:  all \n",
      "Date:  2013-04-23\n",
      "Quote Loaded\n"
     ]
    },
    {
     "name": "stderr",
     "output_type": "stream",
     "text": [
      "\r",
      " 93%|████████████████████████████████████████████████████████████████████████████▌     | 14/15 [00:04<00:00,  2.90it/s]"
     ]
    },
    {
     "name": "stdout",
     "output_type": "stream",
     "text": [
      "Getting Original Date\n",
      "Getting quots \n",
      "Ticker:  all \n",
      "Date:  2013-05-09\n",
      "Quote Loaded\n"
     ]
    },
    {
     "name": "stderr",
     "output_type": "stream",
     "text": [
      "100%|██████████████████████████████████████████████████████████████████████████████████| 15/15 [00:05<00:00,  2.87it/s]\n"
     ]
    },
    {
     "name": "stdout",
     "output_type": "stream",
     "text": [
      "Will save to file:  PriceVsSNP500_all.csv\n",
      "Getting Stock Price Data...\n"
     ]
    },
    {
     "name": "stderr",
     "output_type": "stream",
     "text": [
      "\r",
      "  0%|                                                                                           | 0/13 [00:00<?, ?it/s]"
     ]
    },
    {
     "name": "stdout",
     "output_type": "stream",
     "text": [
      "Getting Original Date\n",
      "Getting quots \n",
      "Ticker:  aes \n",
      "Date:  2003-10-03\n",
      "Quote Loaded\n"
     ]
    },
    {
     "name": "stderr",
     "output_type": "stream",
     "text": [
      "\r",
      "  8%|██████▍                                                                            | 1/13 [00:00<00:03,  3.26it/s]"
     ]
    },
    {
     "name": "stdout",
     "output_type": "stream",
     "text": [
      "Getting Original Date\n",
      "Getting quots \n",
      "Ticker:  aes \n",
      "Date:  2003-12-15\n",
      "Quote Loaded\n"
     ]
    },
    {
     "name": "stderr",
     "output_type": "stream",
     "text": [
      "\r",
      " 15%|████████████▊                                                                      | 2/13 [00:00<00:03,  3.22it/s]"
     ]
    },
    {
     "name": "stdout",
     "output_type": "stream",
     "text": [
      "Getting Original Date\n",
      "Getting quots \n",
      "Ticker:  aes \n",
      "Date:  2004-08-04\n",
      "Quote Loaded\n"
     ]
    },
    {
     "name": "stderr",
     "output_type": "stream",
     "text": [
      "\r",
      " 23%|███████████████████▏                                                               | 3/13 [00:00<00:03,  3.01it/s]"
     ]
    },
    {
     "name": "stdout",
     "output_type": "stream",
     "text": [
      "Getting Original Date\n",
      "Getting quots \n",
      "Ticker:  aes \n",
      "Date:  2004-10-26\n",
      "Quote Loaded\n"
     ]
    },
    {
     "name": "stderr",
     "output_type": "stream",
     "text": [
      "\r",
      " 31%|█████████████████████████▌                                                         | 4/13 [00:01<00:03,  2.99it/s]"
     ]
    },
    {
     "name": "stdout",
     "output_type": "stream",
     "text": [
      "Getting Original Date\n",
      "Pointing Date is -  6 (Day of the week)\n",
      "Checking Next Day\n",
      "Getting quots \n",
      "Ticker:  aes \n",
      "Date:  2004-12-06\n",
      "Quote Loaded\n"
     ]
    },
    {
     "name": "stderr",
     "output_type": "stream",
     "text": [
      "\r",
      " 38%|███████████████████████████████▉                                                   | 5/13 [00:01<00:02,  3.07it/s]"
     ]
    },
    {
     "name": "stdout",
     "output_type": "stream",
     "text": [
      "Getting Original Date\n",
      "Getting quots \n",
      "Ticker:  aes \n",
      "Date:  2005-02-18\n",
      "Quote Loaded\n"
     ]
    },
    {
     "name": "stderr",
     "output_type": "stream",
     "text": [
      "\r",
      " 46%|██████████████████████████████████████▎                                            | 6/13 [00:02<00:02,  2.98it/s]"
     ]
    },
    {
     "name": "stdout",
     "output_type": "stream",
     "text": [
      "Getting Original Date\n",
      "Cannot Get data from Quandl. Skipping this one\n",
      "Getting Original Date\n",
      "Getting quots \n",
      "Ticker:  aes \n",
      "Date:  2007-04-11\n",
      "Quote Loaded\n"
     ]
    },
    {
     "name": "stderr",
     "output_type": "stream",
     "text": [
      "\r",
      " 62%|███████████████████████████████████████████████████                                | 8/13 [00:02<00:01,  3.38it/s]"
     ]
    },
    {
     "name": "stdout",
     "output_type": "stream",
     "text": [
      "Getting Original Date\n",
      "Getting quots \n",
      "Ticker:  aes \n",
      "Date:  2008-01-23\n",
      "Quote Loaded\n"
     ]
    },
    {
     "name": "stderr",
     "output_type": "stream",
     "text": [
      "\r",
      " 69%|█████████████████████████████████████████████████████████▍                         | 9/13 [00:02<00:01,  3.43it/s]"
     ]
    },
    {
     "name": "stdout",
     "output_type": "stream",
     "text": [
      "Getting Original Date\n",
      "Getting quots \n",
      "Ticker:  aes \n",
      "Date:  2008-04-23\n",
      "Quote Loaded\n"
     ]
    },
    {
     "name": "stderr",
     "output_type": "stream",
     "text": [
      "\r",
      " 77%|███████████████████████████████████████████████████████████████                   | 10/13 [00:02<00:00,  3.49it/s]"
     ]
    },
    {
     "name": "stdout",
     "output_type": "stream",
     "text": [
      "Getting Original Date\n",
      "Getting quots \n",
      "Ticker:  aes \n",
      "Date:  2011-05-23\n",
      "Quote Loaded\n"
     ]
    },
    {
     "name": "stderr",
     "output_type": "stream",
     "text": [
      "\r",
      " 85%|█████████████████████████████████████████████████████████████████████▍            | 11/13 [00:03<00:00,  3.39it/s]"
     ]
    },
    {
     "name": "stdout",
     "output_type": "stream",
     "text": [
      "Getting Original Date\n",
      "Pointing Date is -  6 (Day of the week)\n",
      "Checking Next Day\n",
      "Getting quots \n",
      "Ticker:  aes \n",
      "Date:  2011-07-25\n",
      "Quote Loaded\n"
     ]
    },
    {
     "name": "stderr",
     "output_type": "stream",
     "text": [
      "\r",
      " 92%|███████████████████████████████████████████████████████████████████████████▋      | 12/13 [00:03<00:00,  3.38it/s]"
     ]
    },
    {
     "name": "stdout",
     "output_type": "stream",
     "text": [
      "Getting Original Date\n",
      "Getting quots \n",
      "Ticker:  aes \n",
      "Date:  2013-05-23\n",
      "Quote Loaded\n"
     ]
    },
    {
     "name": "stderr",
     "output_type": "stream",
     "text": [
      "100%|██████████████████████████████████████████████████████████████████████████████████| 13/13 [00:03<00:00,  3.32it/s]\n"
     ]
    },
    {
     "name": "stdout",
     "output_type": "stream",
     "text": [
      "Will save to file:  PriceVsSNP500_aes.csv\n",
      "Getting Stock Price Data...\n"
     ]
    },
    {
     "name": "stderr",
     "output_type": "stream",
     "text": [
      "\r",
      "  0%|                                                                                           | 0/18 [00:00<?, ?it/s]"
     ]
    },
    {
     "name": "stdout",
     "output_type": "stream",
     "text": [
      "Getting Original Date\n",
      "Getting quots \n",
      "Ticker:  a \n",
      "Date:  2004-01-30\n",
      "Quote Loaded\n"
     ]
    },
    {
     "name": "stderr",
     "output_type": "stream",
     "text": [
      "\r",
      "  6%|████▌                                                                              | 1/18 [00:00<00:04,  3.96it/s]"
     ]
    },
    {
     "name": "stdout",
     "output_type": "stream",
     "text": [
      "Getting Original Date\n",
      "Getting quots \n",
      "Ticker:  a \n",
      "Date:  2004-04-13\n",
      "Quote Loaded\n"
     ]
    },
    {
     "name": "stderr",
     "output_type": "stream",
     "text": [
      "\r",
      " 11%|█████████▏                                                                         | 2/18 [00:00<00:04,  3.63it/s]"
     ]
    },
    {
     "name": "stdout",
     "output_type": "stream",
     "text": [
      "Getting Original Date\n",
      "Getting quots \n",
      "Ticker:  a \n",
      "Date:  2004-12-13\n",
      "Quote Loaded\n"
     ]
    },
    {
     "name": "stderr",
     "output_type": "stream",
     "text": [
      "\r",
      " 17%|█████████████▊                                                                     | 3/18 [00:00<00:04,  3.37it/s]"
     ]
    },
    {
     "name": "stdout",
     "output_type": "stream",
     "text": [
      "Getting Original Date\n",
      "Pointing Date is -  5 (Day of the week)\n",
      "Checking Next Day\n",
      "Pointing Date is -  6 (Day of the week)\n",
      "Checking Next Day\n",
      "Getting quots \n",
      "Ticker:  a \n",
      "Date:  2005-01-25\n",
      "Quote Loaded\n"
     ]
    },
    {
     "name": "stderr",
     "output_type": "stream",
     "text": [
      "\r",
      " 22%|██████████████████▍                                                                | 4/18 [00:01<00:04,  3.36it/s]"
     ]
    },
    {
     "name": "stdout",
     "output_type": "stream",
     "text": [
      "Getting Original Date\n",
      "Getting quots \n",
      "Ticker:  a \n",
      "Date:  2006-01-09\n",
      "Quote Loaded\n"
     ]
    },
    {
     "name": "stderr",
     "output_type": "stream",
     "text": [
      "\r",
      " 28%|███████████████████████                                                            | 5/18 [00:01<00:04,  2.89it/s]"
     ]
    },
    {
     "name": "stdout",
     "output_type": "stream",
     "text": [
      "Getting Original Date\n",
      "Getting quots \n",
      "Ticker:  a \n",
      "Date:  2006-06-21\n",
      "Quote Loaded\n"
     ]
    },
    {
     "name": "stderr",
     "output_type": "stream",
     "text": [
      "\r",
      " 33%|███████████████████████████▋                                                       | 6/18 [00:02<00:04,  2.79it/s]"
     ]
    },
    {
     "name": "stdout",
     "output_type": "stream",
     "text": [
      "Getting Original Date\n",
      "Pointing Date is -  5 (Day of the week)\n",
      "Checking Next Day\n",
      "Pointing Date is -  6 (Day of the week)\n",
      "Checking Next Day\n",
      "Getting quots \n",
      "Ticker:  a \n",
      "Date:  2006-08-22\n",
      "Quote Loaded\n"
     ]
    },
    {
     "name": "stderr",
     "output_type": "stream",
     "text": [
      "\r",
      " 39%|████████████████████████████████▎                                                  | 7/18 [00:02<00:03,  2.82it/s]"
     ]
    },
    {
     "name": "stdout",
     "output_type": "stream",
     "text": [
      "Getting Original Date\n",
      "Getting quots \n",
      "Ticker:  a \n",
      "Date:  2007-02-20\n",
      "Quote Loaded\n"
     ]
    },
    {
     "name": "stderr",
     "output_type": "stream",
     "text": [
      "\r",
      " 44%|████████████████████████████████████▉                                              | 8/18 [00:02<00:03,  2.82it/s]"
     ]
    },
    {
     "name": "stdout",
     "output_type": "stream",
     "text": [
      "Getting Original Date\n",
      "Getting quots \n",
      "Ticker:  a \n",
      "Date:  2007-04-12\n",
      "Quote Loaded\n"
     ]
    },
    {
     "name": "stderr",
     "output_type": "stream",
     "text": [
      "\r",
      " 50%|█████████████████████████████████████████▌                                         | 9/18 [00:03<00:03,  2.84it/s]"
     ]
    },
    {
     "name": "stdout",
     "output_type": "stream",
     "text": [
      "Getting Original Date\n",
      "Getting quots \n",
      "Ticker:  a \n",
      "Date:  2008-01-23\n",
      "Quote Loaded\n"
     ]
    },
    {
     "name": "stderr",
     "output_type": "stream",
     "text": [
      "\r",
      " 56%|█████████████████████████████████████████████▌                                    | 10/18 [00:03<00:02,  2.79it/s]"
     ]
    },
    {
     "name": "stdout",
     "output_type": "stream",
     "text": [
      "Getting Original Date\n",
      "Getting quots \n",
      "Ticker:  a \n",
      "Date:  2008-02-14\n",
      "Quote Loaded\n"
     ]
    },
    {
     "name": "stderr",
     "output_type": "stream",
     "text": [
      "\r",
      " 61%|██████████████████████████████████████████████████                                | 11/18 [00:03<00:02,  2.85it/s]"
     ]
    },
    {
     "name": "stdout",
     "output_type": "stream",
     "text": [
      "Getting Original Date\n",
      "Pointing Date is -  5 (Day of the week)\n",
      "Checking Next Day\n",
      "Pointing Date is -  6 (Day of the week)\n",
      "Checking Next Day\n",
      "Getting quots \n",
      "Ticker:  a \n",
      "Date:  2008-04-29\n",
      "Quote Loaded\n"
     ]
    },
    {
     "name": "stderr",
     "output_type": "stream",
     "text": [
      "\r",
      " 67%|██████████████████████████████████████████████████████▋                           | 12/18 [00:04<00:02,  2.82it/s]"
     ]
    },
    {
     "name": "stdout",
     "output_type": "stream",
     "text": [
      "Getting Original Date\n",
      "Pointing Date is -  5 (Day of the week)\n",
      "Checking Next Day\n",
      "Getting quots \n",
      "Ticker:  a \n",
      "Date:  2008-12-08\n",
      "Quote Loaded\n"
     ]
    },
    {
     "name": "stderr",
     "output_type": "stream",
     "text": [
      "\r",
      " 72%|███████████████████████████████████████████████████████████▏                      | 13/18 [00:04<00:01,  2.88it/s]"
     ]
    },
    {
     "name": "stdout",
     "output_type": "stream",
     "text": [
      "Getting Original Date\n",
      "Pointing Date is -  6 (Day of the week)\n",
      "Checking Next Day\n",
      "Getting quots \n",
      "Ticker:  a \n",
      "Date:  2009-08-03\n",
      "Quote Loaded\n"
     ]
    },
    {
     "name": "stderr",
     "output_type": "stream",
     "text": [
      "\r",
      " 78%|███████████████████████████████████████████████████████████████▊                  | 14/18 [00:04<00:01,  2.88it/s]"
     ]
    },
    {
     "name": "stdout",
     "output_type": "stream",
     "text": [
      "Getting Original Date\n",
      "Getting quots \n",
      "Ticker:  a \n",
      "Date:  2011-08-02\n",
      "Quote Loaded\n"
     ]
    },
    {
     "name": "stderr",
     "output_type": "stream",
     "text": [
      "\r",
      " 83%|████████████████████████████████████████████████████████████████████▎             | 15/18 [00:05<00:01,  2.84it/s]"
     ]
    },
    {
     "name": "stdout",
     "output_type": "stream",
     "text": [
      "Getting Original Date\n",
      "Getting quots \n",
      "Ticker:  a \n",
      "Date:  2011-11-08\n",
      "Quote Loaded\n"
     ]
    },
    {
     "name": "stderr",
     "output_type": "stream",
     "text": [
      "\r",
      " 89%|████████████████████████████████████████████████████████████████████████▉         | 16/18 [00:05<00:00,  2.85it/s]"
     ]
    },
    {
     "name": "stdout",
     "output_type": "stream",
     "text": [
      "Getting Original Date\n",
      "Getting quots \n",
      "Ticker:  a \n",
      "Date:  2013-05-14\n",
      "Quote Loaded\n"
     ]
    },
    {
     "name": "stderr",
     "output_type": "stream",
     "text": [
      "\r",
      " 94%|█████████████████████████████████████████████████████████████████████████████▍    | 17/18 [00:05<00:00,  2.88it/s]"
     ]
    },
    {
     "name": "stdout",
     "output_type": "stream",
     "text": [
      "Getting Original Date\n",
      "Getting quots \n",
      "Ticker:  a \n",
      "Date:  2013-09-06\n",
      "Quote Loaded\n"
     ]
    },
    {
     "name": "stderr",
     "output_type": "stream",
     "text": [
      "100%|██████████████████████████████████████████████████████████████████████████████████| 18/18 [00:06<00:00,  2.89it/s]\n"
     ]
    },
    {
     "name": "stdout",
     "output_type": "stream",
     "text": [
      "Will save to file:  PriceVsSNP500_a.csv\n",
      "Getting Stock Price Data...\n"
     ]
    },
    {
     "name": "stderr",
     "output_type": "stream",
     "text": [
      "\r",
      "  0%|                                                                                           | 0/17 [00:00<?, ?it/s]"
     ]
    },
    {
     "name": "stdout",
     "output_type": "stream",
     "text": [
      "Getting Original Date\n",
      "Getting quots \n",
      "Ticker:  altr \n",
      "Date:  2004-06-22\n",
      "Quote Loaded\n"
     ]
    },
    {
     "name": "stderr",
     "output_type": "stream",
     "text": [
      "\r",
      "  6%|████▉                                                                              | 1/17 [00:00<00:05,  3.08it/s]"
     ]
    },
    {
     "name": "stdout",
     "output_type": "stream",
     "text": [
      "Getting Original Date\n",
      "Getting quots \n",
      "Ticker:  altr \n",
      "Date:  2004-09-17\n",
      "Quote Loaded\n"
     ]
    },
    {
     "name": "stderr",
     "output_type": "stream",
     "text": [
      "\r",
      " 12%|█████████▊                                                                         | 2/17 [00:00<00:05,  2.95it/s]"
     ]
    },
    {
     "name": "stdout",
     "output_type": "stream",
     "text": [
      "Getting Original Date\n",
      "Getting quots \n",
      "Ticker:  altr \n",
      "Date:  2004-10-13\n",
      "Quote Loaded\n"
     ]
    },
    {
     "name": "stderr",
     "output_type": "stream",
     "text": [
      "\r",
      " 18%|██████████████▋                                                                    | 3/17 [00:00<00:04,  3.34it/s]"
     ]
    },
    {
     "name": "stdout",
     "output_type": "stream",
     "text": [
      "Getting Original Date\n",
      "Getting quots \n",
      "Ticker:  altr \n",
      "Date:  2004-12-09\n",
      "Quote Loaded\n"
     ]
    },
    {
     "name": "stderr",
     "output_type": "stream",
     "text": [
      "\r",
      " 24%|███████████████████▌                                                               | 4/17 [00:01<00:03,  3.29it/s]"
     ]
    },
    {
     "name": "stdout",
     "output_type": "stream",
     "text": [
      "Getting Original Date\n",
      "Getting quots \n",
      "Ticker:  altr \n",
      "Date:  2005-02-04\n",
      "Quote Loaded\n"
     ]
    },
    {
     "name": "stderr",
     "output_type": "stream",
     "text": [
      "\r",
      " 29%|████████████████████████▍                                                          | 5/17 [00:01<00:03,  3.46it/s]"
     ]
    },
    {
     "name": "stdout",
     "output_type": "stream",
     "text": [
      "Getting Original Date\n",
      "Getting quots \n",
      "Ticker:  altr \n",
      "Date:  2005-05-02\n",
      "Quote Loaded\n"
     ]
    },
    {
     "name": "stderr",
     "output_type": "stream",
     "text": [
      "\r",
      " 35%|█████████████████████████████▎                                                     | 6/17 [00:01<00:03,  3.34it/s]"
     ]
    },
    {
     "name": "stdout",
     "output_type": "stream",
     "text": [
      "Getting Original Date\n",
      "Getting quots \n",
      "Ticker:  altr \n",
      "Date:  2005-08-29\n",
      "Quote Loaded\n"
     ]
    },
    {
     "name": "stderr",
     "output_type": "stream",
     "text": [
      "\r",
      " 41%|██████████████████████████████████▏                                                | 7/17 [00:02<00:03,  3.32it/s]"
     ]
    },
    {
     "name": "stdout",
     "output_type": "stream",
     "text": [
      "Getting Original Date\n",
      "Getting quots \n",
      "Ticker:  altr \n",
      "Date:  2005-09-07\n",
      "Quote Loaded\n"
     ]
    },
    {
     "name": "stderr",
     "output_type": "stream",
     "text": [
      "\r",
      " 47%|███████████████████████████████████████                                            | 8/17 [00:02<00:02,  3.27it/s]"
     ]
    },
    {
     "name": "stdout",
     "output_type": "stream",
     "text": [
      "Getting Original Date\n",
      "Pointing Date is -  6 (Day of the week)\n",
      "Checking Next Day\n",
      "Getting quots \n",
      "Ticker:  altr \n",
      "Date:  2007-02-26\n",
      "Quote Loaded\n"
     ]
    },
    {
     "name": "stderr",
     "output_type": "stream",
     "text": [
      "\r",
      " 53%|███████████████████████████████████████████▉                                       | 9/17 [00:02<00:02,  3.18it/s]"
     ]
    },
    {
     "name": "stdout",
     "output_type": "stream",
     "text": [
      "Getting Original Date\n",
      "Getting quots \n",
      "Ticker:  altr \n",
      "Date:  2008-01-23\n",
      "Quote Loaded\n"
     ]
    },
    {
     "name": "stderr",
     "output_type": "stream",
     "text": [
      "\r",
      " 59%|████████████████████████████████████████████████▏                                 | 10/17 [00:03<00:02,  3.27it/s]"
     ]
    },
    {
     "name": "stdout",
     "output_type": "stream",
     "text": [
      "Getting Original Date\n",
      "Getting quots \n",
      "Ticker:  altr \n",
      "Date:  2008-02-20\n",
      "Quote Loaded\n"
     ]
    },
    {
     "name": "stderr",
     "output_type": "stream",
     "text": [
      "\r",
      " 65%|█████████████████████████████████████████████████████                             | 11/17 [00:03<00:01,  3.29it/s]"
     ]
    },
    {
     "name": "stdout",
     "output_type": "stream",
     "text": [
      "Getting Original Date\n",
      "Getting quots \n",
      "Ticker:  altr \n",
      "Date:  2008-12-12\n",
      "Quote Loaded\n"
     ]
    },
    {
     "name": "stderr",
     "output_type": "stream",
     "text": [
      "\r",
      " 71%|█████████████████████████████████████████████████████████▉                        | 12/17 [00:03<00:01,  3.22it/s]"
     ]
    },
    {
     "name": "stdout",
     "output_type": "stream",
     "text": [
      "Getting Original Date\n",
      "Getting quots \n",
      "Ticker:  altr \n",
      "Date:  2008-12-22\n",
      "Quote Loaded\n"
     ]
    },
    {
     "name": "stderr",
     "output_type": "stream",
     "text": [
      "\r",
      " 76%|██████████████████████████████████████████████████████████████▋                   | 13/17 [00:03<00:01,  3.25it/s]"
     ]
    },
    {
     "name": "stdout",
     "output_type": "stream",
     "text": [
      "Getting Original Date\n",
      "Pointing Date is -  6 (Day of the week)\n",
      "Checking Next Day\n",
      "Getting quots \n",
      "Ticker:  altr \n",
      "Date:  2011-10-24\n",
      "Quote Loaded\n"
     ]
    },
    {
     "name": "stderr",
     "output_type": "stream",
     "text": [
      "\r",
      " 82%|███████████████████████████████████████████████████████████████████▌              | 14/17 [00:04<00:00,  3.24it/s]"
     ]
    },
    {
     "name": "stdout",
     "output_type": "stream",
     "text": [
      "Getting Original Date\n",
      "Getting quots \n",
      "Ticker:  altr \n",
      "Date:  2012-03-09\n",
      "Quote Loaded\n"
     ]
    },
    {
     "name": "stderr",
     "output_type": "stream",
     "text": [
      "\r",
      " 88%|████████████████████████████████████████████████████████████████████████▎         | 15/17 [00:04<00:00,  3.23it/s]"
     ]
    },
    {
     "name": "stdout",
     "output_type": "stream",
     "text": [
      "Getting Original Date\n",
      "Getting quots \n",
      "Ticker:  altr \n",
      "Date:  2013-02-06\n",
      "Quote Loaded\n"
     ]
    },
    {
     "name": "stderr",
     "output_type": "stream",
     "text": [
      "\r",
      " 94%|█████████████████████████████████████████████████████████████████████████████▏    | 16/17 [00:04<00:00,  3.24it/s]"
     ]
    },
    {
     "name": "stdout",
     "output_type": "stream",
     "text": [
      "Getting Original Date\n",
      "Pointing Date is -  6 (Day of the week)\n",
      "Checking Next Day\n",
      "Getting quots \n",
      "Ticker:  altr \n",
      "Date:  2013-06-03\n",
      "Quote Loaded\n"
     ]
    },
    {
     "name": "stderr",
     "output_type": "stream",
     "text": [
      "100%|██████████████████████████████████████████████████████████████████████████████████| 17/17 [00:05<00:00,  3.26it/s]\n"
     ]
    },
    {
     "name": "stdout",
     "output_type": "stream",
     "text": [
      "Will save to file:  PriceVsSNP500_altr.csv\n",
      "Getting Stock Price Data...\n"
     ]
    },
    {
     "name": "stderr",
     "output_type": "stream",
     "text": [
      "\r",
      "  0%|                                                                                           | 0/32 [00:00<?, ?it/s]"
     ]
    },
    {
     "name": "stdout",
     "output_type": "stream",
     "text": [
      "Getting Original Date\n",
      "Pointing Date is -  6 (Day of the week)\n",
      "Checking Next Day\n",
      "Getting quots \n",
      "Ticker:  adbe \n",
      "Date:  2004-01-26\n",
      "Quote Loaded\n"
     ]
    },
    {
     "name": "stderr",
     "output_type": "stream",
     "text": [
      "\r",
      "  3%|██▌                                                                                | 1/32 [00:00<00:08,  3.57it/s]"
     ]
    },
    {
     "name": "stdout",
     "output_type": "stream",
     "text": [
      "Getting Original Date\n",
      "Pointing Date is -  5 (Day of the week)\n",
      "Checking Next Day\n",
      "Getting quots \n",
      "Ticker:  adbe \n",
      "Date:  2004-08-23\n",
      "Quote Loaded\n"
     ]
    },
    {
     "name": "stderr",
     "output_type": "stream",
     "text": [
      "\r",
      "  6%|█████▏                                                                             | 2/32 [00:00<00:09,  3.01it/s]"
     ]
    },
    {
     "name": "stdout",
     "output_type": "stream",
     "text": [
      "Getting Original Date\n",
      "Getting quots \n",
      "Ticker:  adbe \n",
      "Date:  2004-11-12\n",
      "Quote Loaded\n"
     ]
    },
    {
     "name": "stderr",
     "output_type": "stream",
     "text": [
      "\r",
      "  9%|███████▊                                                                           | 3/32 [00:00<00:08,  3.22it/s]"
     ]
    },
    {
     "name": "stdout",
     "output_type": "stream",
     "text": [
      "Getting Original Date\n",
      "Getting quots \n",
      "Ticker:  adbe \n",
      "Date:  2005-02-07\n",
      "Quote Loaded\n"
     ]
    },
    {
     "name": "stderr",
     "output_type": "stream",
     "text": [
      "\r",
      " 12%|██████████▍                                                                        | 4/32 [00:01<00:08,  3.43it/s]"
     ]
    },
    {
     "name": "stdout",
     "output_type": "stream",
     "text": [
      "Getting Original Date\n",
      "Getting quots \n",
      "Ticker:  adbe \n",
      "Date:  2005-04-05\n",
      "Quote Loaded\n"
     ]
    },
    {
     "name": "stderr",
     "output_type": "stream",
     "text": [
      "\r",
      " 16%|████████████▉                                                                      | 5/32 [00:01<00:07,  3.38it/s]"
     ]
    },
    {
     "name": "stdout",
     "output_type": "stream",
     "text": [
      "Getting Original Date\n",
      "Getting quots \n",
      "Ticker:  adbe \n",
      "Date:  2005-08-31\n",
      "Quote Loaded\n"
     ]
    },
    {
     "name": "stderr",
     "output_type": "stream",
     "text": [
      "\r",
      " 19%|███████████████▌                                                                   | 6/32 [00:01<00:07,  3.43it/s]"
     ]
    },
    {
     "name": "stdout",
     "output_type": "stream",
     "text": [
      "Getting Original Date\n",
      "Getting quots \n",
      "Ticker:  adbe \n",
      "Date:  2006-02-21\n",
      "Quote Loaded\n"
     ]
    },
    {
     "name": "stderr",
     "output_type": "stream",
     "text": [
      "\r",
      " 22%|██████████████████▏                                                                | 7/32 [00:02<00:07,  3.48it/s]"
     ]
    },
    {
     "name": "stdout",
     "output_type": "stream",
     "text": [
      "Getting Original Date\n",
      "Getting quots \n",
      "Ticker:  adbe \n",
      "Date:  2006-04-07\n",
      "Quote Loaded\n"
     ]
    },
    {
     "name": "stderr",
     "output_type": "stream",
     "text": [
      "\r",
      " 25%|████████████████████▊                                                              | 8/32 [00:02<00:06,  3.50it/s]"
     ]
    },
    {
     "name": "stdout",
     "output_type": "stream",
     "text": [
      "Getting Original Date\n",
      "Getting quots \n",
      "Ticker:  adbe \n",
      "Date:  2006-06-23\n",
      "Quote Loaded\n"
     ]
    },
    {
     "name": "stderr",
     "output_type": "stream",
     "text": [
      "\r",
      " 28%|███████████████████████▎                                                           | 9/32 [00:02<00:06,  3.46it/s]"
     ]
    },
    {
     "name": "stdout",
     "output_type": "stream",
     "text": [
      "Getting Original Date\n",
      "Getting quots \n",
      "Ticker:  adbe \n",
      "Date:  2006-11-28\n",
      "Quote Loaded\n"
     ]
    },
    {
     "name": "stderr",
     "output_type": "stream",
     "text": [
      "\r",
      " 31%|█████████████████████████▋                                                        | 10/32 [00:02<00:06,  3.43it/s]"
     ]
    },
    {
     "name": "stdout",
     "output_type": "stream",
     "text": [
      "Getting Original Date\n",
      "Pointing Date is -  5 (Day of the week)\n",
      "Checking Next Day\n",
      "Getting quots \n",
      "Ticker:  adbe \n",
      "Date:  2007-01-29\n",
      "Quote Loaded\n"
     ]
    },
    {
     "name": "stderr",
     "output_type": "stream",
     "text": [
      "\r",
      " 34%|████████████████████████████▏                                                     | 11/32 [00:03<00:06,  3.38it/s]"
     ]
    },
    {
     "name": "stdout",
     "output_type": "stream",
     "text": [
      "Getting Original Date\n",
      "Getting quots \n",
      "Ticker:  adbe \n",
      "Date:  2007-03-09\n",
      "Quote Loaded\n"
     ]
    },
    {
     "name": "stderr",
     "output_type": "stream",
     "text": [
      "\r",
      " 38%|██████████████████████████████▊                                                   | 12/32 [00:03<00:05,  3.37it/s]"
     ]
    },
    {
     "name": "stdout",
     "output_type": "stream",
     "text": [
      "Getting Original Date\n",
      "Getting quots \n",
      "Ticker:  adbe \n",
      "Date:  2007-03-15\n",
      "Quote Loaded\n"
     ]
    },
    {
     "name": "stderr",
     "output_type": "stream",
     "text": [
      "\r",
      " 41%|█████████████████████████████████▎                                                | 13/32 [00:03<00:05,  3.35it/s]"
     ]
    },
    {
     "name": "stdout",
     "output_type": "stream",
     "text": [
      "Getting Original Date\n",
      "Getting quots \n",
      "Ticker:  adbe \n",
      "Date:  2007-03-28\n",
      "Quote Loaded\n"
     ]
    },
    {
     "name": "stderr",
     "output_type": "stream",
     "text": [
      "\r",
      " 44%|███████████████████████████████████▉                                              | 14/32 [00:04<00:05,  3.39it/s]"
     ]
    },
    {
     "name": "stdout",
     "output_type": "stream",
     "text": [
      "Getting Original Date\n",
      "Pointing Date is -  6 (Day of the week)\n",
      "Checking Next Day\n",
      "Getting quots \n",
      "Ticker:  adbe \n",
      "Date:  2007-04-30\n",
      "Quote Loaded\n"
     ]
    },
    {
     "name": "stderr",
     "output_type": "stream",
     "text": [
      "\r",
      " 47%|██████████████████████████████████████▍                                           | 15/32 [00:04<00:04,  3.43it/s]"
     ]
    },
    {
     "name": "stdout",
     "output_type": "stream",
     "text": [
      "Getting Original Date\n",
      "Getting quots \n",
      "Ticker:  adbe \n",
      "Date:  2007-04-30\n",
      "Quote Loaded\n"
     ]
    },
    {
     "name": "stderr",
     "output_type": "stream",
     "text": [
      "\r",
      " 50%|█████████████████████████████████████████                                         | 16/32 [00:04<00:04,  3.41it/s]"
     ]
    },
    {
     "name": "stdout",
     "output_type": "stream",
     "text": [
      "Getting Original Date\n",
      "Getting quots \n",
      "Ticker:  adbe \n",
      "Date:  2007-05-01\n",
      "Quote Loaded\n"
     ]
    },
    {
     "name": "stderr",
     "output_type": "stream",
     "text": [
      "\r",
      " 53%|███████████████████████████████████████████▌                                      | 17/32 [00:04<00:04,  3.43it/s]"
     ]
    },
    {
     "name": "stdout",
     "output_type": "stream",
     "text": [
      "Getting Original Date\n",
      "Getting quots \n",
      "Ticker:  adbe \n",
      "Date:  2007-05-30\n",
      "Quote Loaded\n"
     ]
    },
    {
     "name": "stderr",
     "output_type": "stream",
     "text": [
      "\r",
      " 56%|██████████████████████████████████████████████▏                                   | 18/32 [00:05<00:04,  3.47it/s]"
     ]
    },
    {
     "name": "stdout",
     "output_type": "stream",
     "text": [
      "Getting Original Date\n",
      "Getting quots \n",
      "Ticker:  adbe \n",
      "Date:  2007-05-31\n",
      "Quote Loaded\n"
     ]
    },
    {
     "name": "stderr",
     "output_type": "stream",
     "text": [
      "\r",
      " 59%|████████████████████████████████████████████████▋                                 | 19/32 [00:05<00:03,  3.50it/s]"
     ]
    },
    {
     "name": "stdout",
     "output_type": "stream",
     "text": [
      "Getting Original Date\n",
      "Pointing Date is -  5 (Day of the week)\n",
      "Checking Next Day\n",
      "Getting quots \n",
      "Ticker:  adbe \n",
      "Date:  2007-07-02\n",
      "Quote Loaded\n"
     ]
    },
    {
     "name": "stderr",
     "output_type": "stream",
     "text": [
      "\r",
      " 62%|███████████████████████████████████████████████████▎                              | 20/32 [00:05<00:03,  3.53it/s]"
     ]
    },
    {
     "name": "stdout",
     "output_type": "stream",
     "text": [
      "Getting Original Date\n",
      "Getting quots \n",
      "Ticker:  adbe \n",
      "Date:  2007-10-18\n",
      "Quote Loaded\n"
     ]
    },
    {
     "name": "stderr",
     "output_type": "stream",
     "text": [
      "\r",
      " 66%|█████████████████████████████████████████████████████▊                            | 21/32 [00:06<00:03,  3.47it/s]"
     ]
    },
    {
     "name": "stdout",
     "output_type": "stream",
     "text": [
      "Getting Original Date\n",
      "Getting quots \n",
      "Ticker:  adbe \n",
      "Date:  2008-01-23\n",
      "Quote Loaded\n"
     ]
    },
    {
     "name": "stderr",
     "output_type": "stream",
     "text": [
      "\r",
      " 69%|████████████████████████████████████████████████████████▍                         | 22/32 [00:06<00:02,  3.43it/s]"
     ]
    },
    {
     "name": "stdout",
     "output_type": "stream",
     "text": [
      "Getting Original Date\n",
      "Getting quots \n",
      "Ticker:  adbe \n",
      "Date:  2008-12-04\n",
      "Quote Loaded\n"
     ]
    },
    {
     "name": "stderr",
     "output_type": "stream",
     "text": [
      "\r",
      " 72%|██████████████████████████████████████████████████████████▉                       | 23/32 [00:07<00:03,  2.91it/s]"
     ]
    },
    {
     "name": "stdout",
     "output_type": "stream",
     "text": [
      "Getting Original Date\n",
      "Getting quots \n",
      "Ticker:  adbe \n",
      "Date:  2008-12-05\n",
      "Quote Loaded\n"
     ]
    },
    {
     "name": "stderr",
     "output_type": "stream",
     "text": [
      "\r",
      " 75%|█████████████████████████████████████████████████████████████▌                    | 24/32 [00:08<00:02,  2.91it/s]"
     ]
    },
    {
     "name": "stdout",
     "output_type": "stream",
     "text": [
      "Getting Original Date\n",
      "Getting quots \n",
      "Ticker:  adbe \n",
      "Date:  2008-12-17\n",
      "Quote Loaded\n"
     ]
    },
    {
     "name": "stderr",
     "output_type": "stream",
     "text": [
      "\r",
      " 78%|████████████████████████████████████████████████████████████████                  | 25/32 [00:08<00:02,  2.88it/s]"
     ]
    },
    {
     "name": "stdout",
     "output_type": "stream",
     "text": [
      "Getting Original Date\n",
      "Pointing Date is -  5 (Day of the week)\n",
      "Checking Next Day\n",
      "Getting quots \n",
      "Ticker:  adbe \n",
      "Date:  2008-12-22\n",
      "Quote Loaded\n"
     ]
    },
    {
     "name": "stderr",
     "output_type": "stream",
     "text": [
      "\r",
      " 81%|██████████████████████████████████████████████████████████████████▋               | 26/32 [00:09<00:02,  2.88it/s]"
     ]
    },
    {
     "name": "stdout",
     "output_type": "stream",
     "text": [
      "Getting Original Date\n",
      "Pointing Date is -  6 (Day of the week)\n",
      "Checking Next Day\n",
      "Getting quots \n",
      "Ticker:  adbe \n",
      "Date:  2011-04-25\n",
      "Quote Loaded\n"
     ]
    },
    {
     "name": "stderr",
     "output_type": "stream",
     "text": [
      "\r",
      " 84%|█████████████████████████████████████████████████████████████████████▏            | 27/32 [00:09<00:01,  2.87it/s]"
     ]
    },
    {
     "name": "stdout",
     "output_type": "stream",
     "text": [
      "Getting Original Date\n",
      "Getting quots \n",
      "Ticker:  adbe \n",
      "Date:  2011-08-05\n",
      "Quote Loaded\n"
     ]
    },
    {
     "name": "stderr",
     "output_type": "stream",
     "text": [
      "\r",
      " 88%|███████████████████████████████████████████████████████████████████████▊          | 28/32 [00:09<00:01,  2.90it/s]"
     ]
    },
    {
     "name": "stdout",
     "output_type": "stream",
     "text": [
      "Getting Original Date\n",
      "Pointing Date is -  6 (Day of the week)\n",
      "Checking Next Day\n",
      "Getting quots \n",
      "Ticker:  adbe \n",
      "Date:  2011-09-27\n",
      "Quote Loaded\n"
     ]
    },
    {
     "name": "stderr",
     "output_type": "stream",
     "text": [
      "\r",
      " 91%|██████████████████████████████████████████████████████████████████████████▎       | 29/32 [00:12<00:01,  2.38it/s]"
     ]
    },
    {
     "name": "stdout",
     "output_type": "stream",
     "text": [
      "Getting Original Date\n",
      "Getting quots \n",
      "Ticker:  adbe \n",
      "Date:  2011-10-18\n",
      "Quote Loaded\n"
     ]
    },
    {
     "name": "stderr",
     "output_type": "stream",
     "text": [
      "\r",
      " 94%|████████████████████████████████████████████████████████████████████████████▉     | 30/32 [00:12<00:00,  2.39it/s]"
     ]
    },
    {
     "name": "stdout",
     "output_type": "stream",
     "text": [
      "Getting Original Date\n",
      "Pointing Date is -  5 (Day of the week)\n",
      "Checking Next Day\n",
      "Getting quots \n",
      "Ticker:  adbe \n",
      "Date:  2012-03-26\n",
      "Quote Loaded\n"
     ]
    },
    {
     "name": "stderr",
     "output_type": "stream",
     "text": [
      "\r",
      " 97%|███████████████████████████████████████████████████████████████████████████████▍  | 31/32 [00:12<00:00,  2.43it/s]"
     ]
    },
    {
     "name": "stdout",
     "output_type": "stream",
     "text": [
      "Getting Original Date\n",
      "Getting quots \n",
      "Ticker:  adbe \n",
      "Date:  2012-07-02\n",
      "Quote Loaded\n"
     ]
    },
    {
     "name": "stderr",
     "output_type": "stream",
     "text": [
      "100%|██████████████████████████████████████████████████████████████████████████████████| 32/32 [00:13<00:00,  2.46it/s]\n"
     ]
    },
    {
     "name": "stdout",
     "output_type": "stream",
     "text": [
      "Will save to file:  PriceVsSNP500_adbe.csv\n",
      "Getting Stock Price Data...\n"
     ]
    },
    {
     "name": "stderr",
     "output_type": "stream",
     "text": [
      "\r",
      "  0%|                                                                                           | 0/18 [00:00<?, ?it/s]"
     ]
    },
    {
     "name": "stdout",
     "output_type": "stream",
     "text": [
      "Getting Original Date\n",
      "Getting quots \n",
      "Ticker:  adsk \n",
      "Date:  2003-10-03\n",
      "Quote Loaded\n"
     ]
    },
    {
     "name": "stderr",
     "output_type": "stream",
     "text": [
      "\r",
      "  6%|████▌                                                                              | 1/18 [00:00<00:07,  2.32it/s]"
     ]
    },
    {
     "name": "stdout",
     "output_type": "stream",
     "text": [
      "Getting Original Date\n",
      "Pointing Date is -  6 (Day of the week)\n",
      "Checking Next Day\n",
      "Getting quots \n",
      "Ticker:  adsk \n",
      "Date:  2004-06-21\n",
      "Quote Loaded\n"
     ]
    },
    {
     "name": "stderr",
     "output_type": "stream",
     "text": [
      "\r",
      " 11%|█████████▏                                                                         | 2/18 [00:00<00:07,  2.23it/s]"
     ]
    },
    {
     "name": "stdout",
     "output_type": "stream",
     "text": [
      "Getting Original Date\n",
      "Getting quots \n",
      "Ticker:  adsk \n",
      "Date:  2004-08-03\n",
      "Quote Loaded\n"
     ]
    },
    {
     "name": "stderr",
     "output_type": "stream",
     "text": [
      "\r",
      " 17%|█████████████▊                                                                     | 3/18 [00:01<00:06,  2.42it/s]"
     ]
    },
    {
     "name": "stdout",
     "output_type": "stream",
     "text": [
      "Getting Original Date\n",
      "Getting quots \n",
      "Ticker:  adsk \n",
      "Date:  2005-02-25\n",
      "Quote Loaded\n"
     ]
    },
    {
     "name": "stderr",
     "output_type": "stream",
     "text": [
      "\r",
      " 22%|██████████████████▍                                                                | 4/18 [00:01<00:05,  2.47it/s]"
     ]
    },
    {
     "name": "stdout",
     "output_type": "stream",
     "text": [
      "Getting Original Date\n",
      "Getting quots \n",
      "Ticker:  adsk \n",
      "Date:  2005-04-19\n",
      "Quote Loaded\n"
     ]
    },
    {
     "name": "stderr",
     "output_type": "stream",
     "text": [
      "\r",
      " 28%|███████████████████████                                                            | 5/18 [00:01<00:04,  2.61it/s]"
     ]
    },
    {
     "name": "stdout",
     "output_type": "stream",
     "text": [
      "Getting Original Date\n",
      "Getting quots \n",
      "Ticker:  adsk \n",
      "Date:  2007-03-09\n",
      "Quote Loaded\n"
     ]
    },
    {
     "name": "stderr",
     "output_type": "stream",
     "text": [
      "\r",
      " 33%|███████████████████████████▋                                                       | 6/18 [00:02<00:04,  2.59it/s]"
     ]
    },
    {
     "name": "stdout",
     "output_type": "stream",
     "text": [
      "Getting Original Date\n",
      "Pointing Date is -  6 (Day of the week)\n",
      "Checking Next Day\n",
      "Getting quots \n",
      "Ticker:  adsk \n",
      "Date:  2007-03-13\n",
      "Quote Loaded\n"
     ]
    },
    {
     "name": "stderr",
     "output_type": "stream",
     "text": [
      "\r",
      " 39%|████████████████████████████████▎                                                  | 7/18 [00:02<00:04,  2.71it/s]"
     ]
    },
    {
     "name": "stdout",
     "output_type": "stream",
     "text": [
      "Getting Original Date\n",
      "Pointing Date is -  5 (Day of the week)\n",
      "Checking Next Day\n",
      "Getting quots \n",
      "Ticker:  adsk \n",
      "Date:  2007-04-09\n",
      "Quote Loaded\n"
     ]
    },
    {
     "name": "stderr",
     "output_type": "stream",
     "text": [
      "\r",
      " 44%|████████████████████████████████████▉                                              | 8/18 [00:02<00:03,  2.82it/s]"
     ]
    },
    {
     "name": "stdout",
     "output_type": "stream",
     "text": [
      "Getting Original Date\n",
      "Getting quots \n",
      "Ticker:  adsk \n",
      "Date:  2007-05-29\n",
      "Quote Loaded\n"
     ]
    },
    {
     "name": "stderr",
     "output_type": "stream",
     "text": [
      "\r",
      " 50%|█████████████████████████████████████████▌                                         | 9/18 [00:03<00:03,  2.83it/s]"
     ]
    },
    {
     "name": "stdout",
     "output_type": "stream",
     "text": [
      "Getting Original Date\n",
      "Getting quots \n",
      "Ticker:  adsk \n",
      "Date:  2007-12-24\n",
      "Quote Loaded\n"
     ]
    },
    {
     "name": "stderr",
     "output_type": "stream",
     "text": [
      "\r",
      " 56%|█████████████████████████████████████████████▌                                    | 10/18 [00:03<00:02,  2.83it/s]"
     ]
    },
    {
     "name": "stdout",
     "output_type": "stream",
     "text": [
      "Getting Original Date\n",
      "Getting quots \n",
      "Ticker:  adsk \n",
      "Date:  2008-01-23\n",
      "Quote Loaded\n"
     ]
    },
    {
     "name": "stderr",
     "output_type": "stream",
     "text": [
      "\r",
      " 61%|██████████████████████████████████████████████████                                | 11/18 [00:03<00:02,  2.84it/s]"
     ]
    },
    {
     "name": "stdout",
     "output_type": "stream",
     "text": [
      "Getting Original Date\n",
      "Pointing Date is -  6 (Day of the week)\n",
      "Checking Next Day\n",
      "Getting quots \n",
      "Ticker:  adsk \n",
      "Date:  2008-03-04\n",
      "Quote Loaded\n"
     ]
    },
    {
     "name": "stderr",
     "output_type": "stream",
     "text": [
      "\r",
      " 67%|██████████████████████████████████████████████████████▋                           | 12/18 [00:04<00:02,  2.84it/s]"
     ]
    },
    {
     "name": "stdout",
     "output_type": "stream",
     "text": [
      "Getting Original Date\n",
      "Getting quots \n",
      "Ticker:  adsk \n",
      "Date:  2009-06-18\n",
      "Quote Loaded\n"
     ]
    },
    {
     "name": "stderr",
     "output_type": "stream",
     "text": [
      "\r",
      " 72%|███████████████████████████████████████████████████████████▏                      | 13/18 [00:04<00:01,  2.89it/s]"
     ]
    },
    {
     "name": "stdout",
     "output_type": "stream",
     "text": [
      "Getting Original Date\n",
      "Pointing Date is -  6 (Day of the week)\n",
      "Checking Next Day\n",
      "Getting quots \n",
      "Ticker:  adsk \n",
      "Date:  2012-06-11\n",
      "Quote Loaded\n"
     ]
    },
    {
     "name": "stderr",
     "output_type": "stream",
     "text": [
      "\r",
      " 78%|███████████████████████████████████████████████████████████████▊                  | 14/18 [00:04<00:01,  2.91it/s]"
     ]
    },
    {
     "name": "stdout",
     "output_type": "stream",
     "text": [
      "Getting Original Date\n",
      "Getting quots \n",
      "Ticker:  adsk \n",
      "Date:  2012-08-28\n",
      "Quote Loaded\n"
     ]
    },
    {
     "name": "stderr",
     "output_type": "stream",
     "text": [
      "\r",
      " 83%|████████████████████████████████████████████████████████████████████▎             | 15/18 [00:05<00:01,  2.88it/s]"
     ]
    },
    {
     "name": "stdout",
     "output_type": "stream",
     "text": [
      "Getting Original Date\n",
      "Getting quots \n",
      "Ticker:  adsk \n",
      "Date:  2012-11-07\n",
      "Quote Loaded\n"
     ]
    },
    {
     "name": "stderr",
     "output_type": "stream",
     "text": [
      "\r",
      " 89%|████████████████████████████████████████████████████████████████████████▉         | 16/18 [00:05<00:00,  2.89it/s]"
     ]
    },
    {
     "name": "stdout",
     "output_type": "stream",
     "text": [
      "Getting Original Date\n",
      "Getting quots \n",
      "Ticker:  adsk \n",
      "Date:  2013-02-06\n",
      "Quote Loaded\n"
     ]
    },
    {
     "name": "stderr",
     "output_type": "stream",
     "text": [
      "\r",
      " 94%|█████████████████████████████████████████████████████████████████████████████▍    | 17/18 [00:05<00:00,  2.85it/s]"
     ]
    },
    {
     "name": "stdout",
     "output_type": "stream",
     "text": [
      "Getting Original Date\n",
      "Getting quots \n",
      "Ticker:  adsk \n",
      "Date:  2013-05-14\n",
      "Quote Loaded\n"
     ]
    },
    {
     "name": "stderr",
     "output_type": "stream",
     "text": [
      "100%|██████████████████████████████████████████████████████████████████████████████████| 18/18 [00:06<00:00,  2.87it/s]\n"
     ]
    },
    {
     "name": "stdout",
     "output_type": "stream",
     "text": [
      "Will save to file:  PriceVsSNP500_adsk.csv\n",
      "Getting Stock Price Data...\n"
     ]
    },
    {
     "name": "stderr",
     "output_type": "stream",
     "text": [
      "\r",
      "  0%|                                                                                            | 0/2 [00:00<?, ?it/s]"
     ]
    },
    {
     "name": "stdout",
     "output_type": "stream",
     "text": [
      "Getting Original Date\n",
      "Getting quots \n",
      "Ticker:  adt \n",
      "Date:  2013-04-23\n",
      "Quote Loaded\n"
     ]
    },
    {
     "name": "stderr",
     "output_type": "stream",
     "text": [
      "\r",
      " 50%|██████████████████████████████████████████                                          | 1/2 [00:00<00:00,  2.54it/s]"
     ]
    },
    {
     "name": "stdout",
     "output_type": "stream",
     "text": [
      "Getting Original Date\n",
      "Getting quots \n",
      "Ticker:  adt \n",
      "Date:  2013-05-09\n",
      "Quote Loaded\n"
     ]
    },
    {
     "name": "stderr",
     "output_type": "stream",
     "text": [
      "100%|████████████████████████████████████████████████████████████████████████████████████| 2/2 [00:00<00:00,  2.46it/s]\n"
     ]
    },
    {
     "name": "stdout",
     "output_type": "stream",
     "text": [
      "Will save to file:  PriceVsSNP500_adt.csv\n",
      "Getting Stock Price Data...\n"
     ]
    },
    {
     "name": "stderr",
     "output_type": "stream",
     "text": [
      "\r",
      "  0%|                                                                                           | 0/36 [00:00<?, ?it/s]"
     ]
    },
    {
     "name": "stdout",
     "output_type": "stream",
     "text": [
      "Getting Original Date\n",
      "Getting quots \n",
      "Ticker:  akam \n",
      "Date:  2004-01-15\n",
      "Quote Loaded\n"
     ]
    },
    {
     "name": "stderr",
     "output_type": "stream",
     "text": [
      "\r",
      "  3%|██▎                                                                                | 1/36 [00:00<00:11,  3.14it/s]"
     ]
    },
    {
     "name": "stdout",
     "output_type": "stream",
     "text": [
      "Getting Original Date\n",
      "Getting quots \n",
      "Ticker:  akam \n",
      "Date:  2004-04-14\n",
      "Quote Loaded\n"
     ]
    },
    {
     "name": "stderr",
     "output_type": "stream",
     "text": [
      "\r",
      "  6%|████▌                                                                              | 2/36 [00:00<00:10,  3.14it/s]"
     ]
    },
    {
     "name": "stdout",
     "output_type": "stream",
     "text": [
      "Getting Original Date\n",
      "Pointing Date is -  6 (Day of the week)\n",
      "Checking Next Day\n",
      "Getting quots \n",
      "Ticker:  akam \n",
      "Date:  2004-06-21\n",
      "Quote Loaded\n"
     ]
    },
    {
     "name": "stderr",
     "output_type": "stream",
     "text": [
      "\r",
      "  8%|██████▉                                                                            | 3/36 [00:00<00:10,  3.13it/s]"
     ]
    },
    {
     "name": "stdout",
     "output_type": "stream",
     "text": [
      "Getting Original Date\n",
      "Pointing Date is -  6 (Day of the week)\n",
      "Checking Next Day\n",
      "Getting quots \n",
      "Ticker:  akam \n",
      "Date:  2004-08-24\n",
      "Quote Loaded\n"
     ]
    },
    {
     "name": "stderr",
     "output_type": "stream",
     "text": [
      "\r",
      " 11%|█████████▏                                                                         | 4/36 [00:01<00:10,  3.07it/s]"
     ]
    },
    {
     "name": "stdout",
     "output_type": "stream",
     "text": [
      "Getting Original Date\n",
      "Getting quots \n",
      "Ticker:  akam \n",
      "Date:  2004-10-14\n",
      "Quote Loaded\n"
     ]
    },
    {
     "name": "stderr",
     "output_type": "stream",
     "text": [
      "\r",
      " 14%|███████████▌                                                                       | 5/36 [00:01<00:10,  2.92it/s]"
     ]
    },
    {
     "name": "stdout",
     "output_type": "stream",
     "text": [
      "Getting Original Date\n",
      "Getting quots \n",
      "Ticker:  akam \n",
      "Date:  2005-04-05\n",
      "Quote Loaded\n"
     ]
    },
    {
     "name": "stderr",
     "output_type": "stream",
     "text": [
      "\r",
      " 17%|█████████████▊                                                                     | 6/36 [00:01<00:09,  3.02it/s]"
     ]
    },
    {
     "name": "stdout",
     "output_type": "stream",
     "text": [
      "Getting Original Date\n",
      "Pointing Date is -  5 (Day of the week)\n",
      "Checking Next Day\n",
      "Pointing Date is -  6 (Day of the week)\n",
      "Checking Next Day\n",
      "Getting quots \n",
      "Ticker:  akam \n",
      "Date:  2006-02-21\n",
      "Quote Loaded\n"
     ]
    },
    {
     "name": "stderr",
     "output_type": "stream",
     "text": [
      "\r",
      " 19%|████████████████▏                                                                  | 7/36 [00:02<00:09,  3.11it/s]"
     ]
    },
    {
     "name": "stdout",
     "output_type": "stream",
     "text": [
      "Getting Original Date\n",
      "Getting quots \n",
      "Ticker:  akam \n",
      "Date:  2006-04-07\n",
      "Quote Loaded\n"
     ]
    },
    {
     "name": "stderr",
     "output_type": "stream",
     "text": [
      "\r",
      " 22%|██████████████████▍                                                                | 8/36 [00:02<00:09,  3.06it/s]"
     ]
    },
    {
     "name": "stdout",
     "output_type": "stream",
     "text": [
      "Getting Original Date\n",
      "Getting quots \n",
      "Ticker:  akam \n",
      "Date:  2006-04-12\n",
      "Quote Loaded\n"
     ]
    },
    {
     "name": "stderr",
     "output_type": "stream",
     "text": [
      "\r",
      " 25%|████████████████████▊                                                              | 9/36 [00:02<00:08,  3.03it/s]"
     ]
    },
    {
     "name": "stdout",
     "output_type": "stream",
     "text": [
      "Getting Original Date\n",
      "Getting quots \n",
      "Ticker:  akam \n",
      "Date:  2006-06-29\n",
      "Quote Loaded\n"
     ]
    },
    {
     "name": "stderr",
     "output_type": "stream",
     "text": [
      "\r",
      " 28%|██████████████████████▊                                                           | 10/36 [00:03<00:08,  3.04it/s]"
     ]
    },
    {
     "name": "stdout",
     "output_type": "stream",
     "text": [
      "Getting Original Date\n",
      "Getting quots \n",
      "Ticker:  akam \n",
      "Date:  2006-11-30\n",
      "Quote Loaded\n"
     ]
    },
    {
     "name": "stderr",
     "output_type": "stream",
     "text": [
      "\r",
      " 31%|█████████████████████████                                                         | 11/36 [00:03<00:08,  3.12it/s]"
     ]
    },
    {
     "name": "stdout",
     "output_type": "stream",
     "text": [
      "Getting Original Date\n",
      "Pointing Date is -  5 (Day of the week)\n",
      "Checking Next Day\n",
      "Cannot Get data from Quandl. Skipping this one\n",
      "Getting Original Date\n",
      "Pointing Date is -  6 (Day of the week)\n",
      "Checking Next Day\n",
      "Getting quots \n",
      "Ticker:  akam \n",
      "Date:  2007-02-13\n",
      "Quote Loaded\n"
     ]
    },
    {
     "name": "stderr",
     "output_type": "stream",
     "text": [
      "\r",
      " 36%|█████████████████████████████▌                                                    | 13/36 [00:03<00:06,  3.39it/s]"
     ]
    },
    {
     "name": "stdout",
     "output_type": "stream",
     "text": [
      "Getting Original Date\n",
      "Cannot Get data from Quandl. Skipping this one\n",
      "Getting Original Date\n",
      "Getting quots \n",
      "Ticker:  akam \n",
      "Date:  2007-03-08\n",
      "Quote Loaded\n"
     ]
    },
    {
     "name": "stderr",
     "output_type": "stream",
     "text": [
      "\r",
      " 42%|██████████████████████████████████▏                                               | 15/36 [00:04<00:05,  3.67it/s]"
     ]
    },
    {
     "name": "stdout",
     "output_type": "stream",
     "text": [
      "Getting Original Date\n",
      "Getting quots \n",
      "Ticker:  akam \n",
      "Date:  2007-03-16\n",
      "Quote Loaded\n"
     ]
    },
    {
     "name": "stderr",
     "output_type": "stream",
     "text": [
      "\r",
      " 44%|████████████████████████████████████▍                                             | 16/36 [00:04<00:05,  3.63it/s]"
     ]
    },
    {
     "name": "stdout",
     "output_type": "stream",
     "text": [
      "Getting Original Date\n",
      "Getting quots \n",
      "Ticker:  akam \n",
      "Date:  2007-04-04\n",
      "Quote Loaded\n"
     ]
    },
    {
     "name": "stderr",
     "output_type": "stream",
     "text": [
      "\r",
      " 47%|██████████████████████████████████████▋                                           | 17/36 [00:04<00:05,  3.57it/s]"
     ]
    },
    {
     "name": "stdout",
     "output_type": "stream",
     "text": [
      "Getting Original Date\n",
      "Pointing Date is -  5 (Day of the week)\n",
      "Checking Next Day\n",
      "Pointing Date is -  6 (Day of the week)\n",
      "Checking Next Day\n",
      "Getting quots \n",
      "Ticker:  akam \n",
      "Date:  2007-05-01\n",
      "Quote Loaded\n"
     ]
    },
    {
     "name": "stderr",
     "output_type": "stream",
     "text": [
      "\r",
      " 50%|█████████████████████████████████████████                                         | 18/36 [00:05<00:05,  3.49it/s]"
     ]
    },
    {
     "name": "stdout",
     "output_type": "stream",
     "text": [
      "Getting Original Date\n",
      "Pointing Date is -  6 (Day of the week)\n",
      "Checking Next Day\n",
      "Getting quots \n",
      "Ticker:  akam \n",
      "Date:  2007-04-30\n",
      "Quote Loaded\n"
     ]
    },
    {
     "name": "stderr",
     "output_type": "stream",
     "text": [
      "\r",
      " 53%|███████████████████████████████████████████▎                                      | 19/36 [00:05<00:05,  3.24it/s]"
     ]
    },
    {
     "name": "stdout",
     "output_type": "stream",
     "text": [
      "Getting Original Date\n",
      "Getting quots \n",
      "Ticker:  akam \n",
      "Date:  2007-04-30\n",
      "Quote Loaded\n"
     ]
    },
    {
     "name": "stderr",
     "output_type": "stream",
     "text": [
      "\r",
      " 56%|█████████████████████████████████████████████▌                                    | 20/36 [00:06<00:05,  3.14it/s]"
     ]
    },
    {
     "name": "stdout",
     "output_type": "stream",
     "text": [
      "Getting Original Date\n",
      "Getting quots \n",
      "Ticker:  akam \n",
      "Date:  2007-05-01\n",
      "Quote Loaded\n"
     ]
    },
    {
     "name": "stderr",
     "output_type": "stream",
     "text": [
      "\r",
      " 58%|███████████████████████████████████████████████▊                                  | 21/36 [00:06<00:04,  3.14it/s]"
     ]
    },
    {
     "name": "stdout",
     "output_type": "stream",
     "text": [
      "Getting Original Date\n",
      "Getting quots \n",
      "Ticker:  akam \n",
      "Date:  2007-06-01\n",
      "Quote Loaded\n"
     ]
    },
    {
     "name": "stderr",
     "output_type": "stream",
     "text": [
      "\r",
      " 61%|██████████████████████████████████████████████████                                | 22/36 [00:06<00:04,  3.14it/s]"
     ]
    },
    {
     "name": "stdout",
     "output_type": "stream",
     "text": [
      "Getting Original Date\n",
      "Getting quots \n",
      "Ticker:  akam \n",
      "Date:  2007-07-02\n",
      "Quote Loaded\n"
     ]
    },
    {
     "name": "stderr",
     "output_type": "stream",
     "text": [
      "\r",
      " 64%|████████████████████████████████████████████████████▍                             | 23/36 [00:07<00:04,  3.16it/s]"
     ]
    },
    {
     "name": "stdout",
     "output_type": "stream",
     "text": [
      "Getting Original Date\n",
      "Getting quots \n",
      "Ticker:  akam \n",
      "Date:  2007-10-11\n",
      "Quote Loaded\n"
     ]
    },
    {
     "name": "stderr",
     "output_type": "stream",
     "text": [
      "\r",
      " 67%|██████████████████████████████████████████████████████▋                           | 24/36 [00:07<00:03,  3.16it/s]"
     ]
    },
    {
     "name": "stdout",
     "output_type": "stream",
     "text": [
      "Getting Original Date\n",
      "Getting quots \n",
      "Ticker:  akam \n",
      "Date:  2007-12-13\n",
      "Quote Loaded\n"
     ]
    },
    {
     "name": "stderr",
     "output_type": "stream",
     "text": [
      "\r",
      " 69%|████████████████████████████████████████████████████████▉                         | 25/36 [00:07<00:03,  3.17it/s]"
     ]
    },
    {
     "name": "stdout",
     "output_type": "stream",
     "text": [
      "Getting Original Date\n",
      "Getting quots \n",
      "Ticker:  akam \n",
      "Date:  2008-01-23\n",
      "Quote Loaded\n"
     ]
    },
    {
     "name": "stderr",
     "output_type": "stream",
     "text": [
      "\r",
      " 72%|███████████████████████████████████████████████████████████▏                      | 26/36 [00:08<00:03,  3.17it/s]"
     ]
    },
    {
     "name": "stdout",
     "output_type": "stream",
     "text": [
      "Getting Original Date\n",
      "Pointing Date is -  6 (Day of the week)\n",
      "Checking Next Day\n",
      "Getting quots \n",
      "Ticker:  akam \n",
      "Date:  2008-11-04\n",
      "Quote Loaded\n"
     ]
    },
    {
     "name": "stderr",
     "output_type": "stream",
     "text": [
      "\r",
      " 75%|█████████████████████████████████████████████████████████████▌                    | 27/36 [00:08<00:02,  3.15it/s]"
     ]
    },
    {
     "name": "stdout",
     "output_type": "stream",
     "text": [
      "Getting Original Date\n",
      "Getting quots \n",
      "Ticker:  akam \n",
      "Date:  2008-12-19\n",
      "Quote Loaded\n"
     ]
    },
    {
     "name": "stderr",
     "output_type": "stream",
     "text": [
      "\r",
      " 78%|███████████████████████████████████████████████████████████████▊                  | 28/36 [00:08<00:02,  3.15it/s]"
     ]
    },
    {
     "name": "stdout",
     "output_type": "stream",
     "text": [
      "Getting Original Date\n",
      "Pointing Date is -  5 (Day of the week)\n",
      "Checking Next Day\n",
      "Getting quots \n",
      "Ticker:  akam \n",
      "Date:  2009-02-09\n",
      "Quote Loaded\n"
     ]
    },
    {
     "name": "stderr",
     "output_type": "stream",
     "text": [
      "\r",
      " 81%|██████████████████████████████████████████████████████████████████                | 29/36 [00:09<00:02,  3.14it/s]"
     ]
    },
    {
     "name": "stdout",
     "output_type": "stream",
     "text": [
      "Getting Original Date\n",
      "Getting quots \n",
      "Ticker:  akam \n",
      "Date:  2011-09-26\n",
      "Quote Loaded\n"
     ]
    },
    {
     "name": "stderr",
     "output_type": "stream",
     "text": [
      "\r",
      " 83%|████████████████████████████████████████████████████████████████████▎             | 30/36 [00:09<00:01,  3.14it/s]"
     ]
    },
    {
     "name": "stdout",
     "output_type": "stream",
     "text": [
      "Getting Original Date\n",
      "Pointing Date is -  5 (Day of the week)\n",
      "Checking Next Day\n",
      "Cannot Get data from Quandl. Skipping this one\n",
      "Getting Original Date\n",
      "Getting quots \n",
      "Ticker:  akam \n",
      "Date:  2012-03-20\n",
      "Quote Loaded\n"
     ]
    },
    {
     "name": "stderr",
     "output_type": "stream",
     "text": [
      "\r",
      " 89%|████████████████████████████████████████████████████████████████████████▉         | 32/36 [00:09<00:01,  3.22it/s]"
     ]
    },
    {
     "name": "stdout",
     "output_type": "stream",
     "text": [
      "Getting Original Date\n",
      "Pointing Date is -  6 (Day of the week)\n",
      "Checking Next Day\n",
      "Getting quots \n",
      "Ticker:  akam \n",
      "Date:  2012-07-03\n",
      "Quote Loaded\n"
     ]
    },
    {
     "name": "stderr",
     "output_type": "stream",
     "text": [
      "\r",
      " 92%|███████████████████████████████████████████████████████████████████████████▏      | 33/36 [00:10<00:00,  3.20it/s]"
     ]
    },
    {
     "name": "stdout",
     "output_type": "stream",
     "text": [
      "Getting Original Date\n",
      "Getting quots \n",
      "Ticker:  akam \n",
      "Date:  2012-08-31\n",
      "Quote Loaded\n"
     ]
    },
    {
     "name": "stderr",
     "output_type": "stream",
     "text": [
      "\r",
      " 94%|█████████████████████████████████████████████████████████████████████████████▍    | 34/36 [00:10<00:00,  3.19it/s]"
     ]
    },
    {
     "name": "stdout",
     "output_type": "stream",
     "text": [
      "Getting Original Date\n",
      "Getting quots \n",
      "Ticker:  akam \n",
      "Date:  2013-02-06\n",
      "Quote Loaded\n"
     ]
    },
    {
     "name": "stderr",
     "output_type": "stream",
     "text": [
      "\r",
      " 97%|███████████████████████████████████████████████████████████████████████████████▋  | 35/36 [00:10<00:00,  3.20it/s]"
     ]
    },
    {
     "name": "stdout",
     "output_type": "stream",
     "text": [
      "Getting Original Date\n",
      "Getting quots \n",
      "Ticker:  akam \n",
      "Date:  2013-05-21\n",
      "Quote Loaded\n"
     ]
    },
    {
     "name": "stderr",
     "output_type": "stream",
     "text": [
      "100%|██████████████████████████████████████████████████████████████████████████████████| 36/36 [00:11<00:00,  3.18it/s]\n"
     ]
    },
    {
     "name": "stdout",
     "output_type": "stream",
     "text": [
      "Will save to file:  PriceVsSNP500_akam.csv\n",
      "Getting Stock Price Data...\n"
     ]
    },
    {
     "name": "stderr",
     "output_type": "stream",
     "text": [
      "\r",
      "  0%|                                                                                           | 0/13 [00:00<?, ?it/s]"
     ]
    },
    {
     "name": "stdout",
     "output_type": "stream",
     "text": [
      "Getting Original Date\n",
      "Getting quots \n",
      "Ticker:  aph \n",
      "Date:  2004-01-07\n",
      "Quote Loaded\n"
     ]
    },
    {
     "name": "stderr",
     "output_type": "stream",
     "text": [
      "\r",
      "  8%|██████▍                                                                            | 1/13 [00:00<00:04,  2.48it/s]"
     ]
    },
    {
     "name": "stdout",
     "output_type": "stream",
     "text": [
      "Getting Original Date\n",
      "Getting quots \n",
      "Ticker:  aph \n",
      "Date:  2004-05-21\n",
      "Quote Loaded\n"
     ]
    },
    {
     "name": "stderr",
     "output_type": "stream",
     "text": [
      "\r",
      " 15%|████████████▊                                                                      | 2/13 [00:00<00:04,  2.67it/s]"
     ]
    },
    {
     "name": "stdout",
     "output_type": "stream",
     "text": [
      "Getting Original Date\n",
      "Pointing Date is -  6 (Day of the week)\n",
      "Checking Next Day\n",
      "Getting quots \n",
      "Ticker:  aph \n",
      "Date:  2004-11-29\n",
      "Quote Loaded\n"
     ]
    },
    {
     "name": "stderr",
     "output_type": "stream",
     "text": [
      "\r",
      " 23%|███████████████████▏                                                               | 3/13 [00:01<00:03,  2.84it/s]"
     ]
    },
    {
     "name": "stdout",
     "output_type": "stream",
     "text": [
      "Getting Original Date\n",
      "Pointing Date is -  5 (Day of the week)\n",
      "Checking Next Day\n",
      "Pointing Date is -  6 (Day of the week)\n",
      "Checking Next Day\n",
      "Getting quots \n",
      "Ticker:  aph \n",
      "Date:  2005-01-25\n",
      "Quote Loaded\n"
     ]
    },
    {
     "name": "stderr",
     "output_type": "stream",
     "text": [
      "\r",
      " 31%|█████████████████████████▌                                                         | 4/13 [00:01<00:03,  2.89it/s]"
     ]
    },
    {
     "name": "stdout",
     "output_type": "stream",
     "text": [
      "Getting Original Date\n",
      "Pointing Date is -  6 (Day of the week)\n",
      "Checking Next Day\n",
      "Getting quots \n",
      "Ticker:  aph \n",
      "Date:  2005-03-07\n",
      "Quote Loaded\n"
     ]
    },
    {
     "name": "stderr",
     "output_type": "stream",
     "text": [
      "\r",
      " 38%|███████████████████████████████▉                                                   | 5/13 [00:01<00:02,  3.00it/s]"
     ]
    },
    {
     "name": "stdout",
     "output_type": "stream",
     "text": [
      "Getting Original Date\n",
      "Pointing Date is -  5 (Day of the week)\n",
      "Checking Next Day\n",
      "Getting quots \n",
      "Ticker:  aph \n",
      "Date:  2006-02-06\n",
      "Quote Loaded\n"
     ]
    },
    {
     "name": "stderr",
     "output_type": "stream",
     "text": [
      "\r",
      " 46%|██████████████████████████████████████▎                                            | 6/13 [00:01<00:02,  3.08it/s]"
     ]
    },
    {
     "name": "stdout",
     "output_type": "stream",
     "text": [
      "Getting Original Date\n",
      "Getting quots \n",
      "Ticker:  aph \n",
      "Date:  2007-03-27\n",
      "Quote Loaded\n"
     ]
    },
    {
     "name": "stderr",
     "output_type": "stream",
     "text": [
      "\r",
      " 54%|████████████████████████████████████████████▋                                      | 7/13 [00:02<00:01,  3.10it/s]"
     ]
    },
    {
     "name": "stdout",
     "output_type": "stream",
     "text": [
      "Getting Original Date\n",
      "Getting quots \n",
      "Ticker:  aph \n",
      "Date:  2007-04-04\n",
      "Quote Loaded\n"
     ]
    },
    {
     "name": "stderr",
     "output_type": "stream",
     "text": [
      "\r",
      " 62%|███████████████████████████████████████████████████                                | 8/13 [00:02<00:01,  3.22it/s]"
     ]
    },
    {
     "name": "stdout",
     "output_type": "stream",
     "text": [
      "Getting Original Date\n",
      "Cannot Get data from Quandl. Skipping this one\n",
      "Getting Original Date\n",
      "Pointing Date is -  5 (Day of the week)\n",
      "Checking Next Day\n",
      "Getting quots \n",
      "Ticker:  aph \n",
      "Date:  2008-06-30\n",
      "Quote Loaded\n"
     ]
    },
    {
     "name": "stderr",
     "output_type": "stream",
     "text": [
      "\r",
      " 77%|███████████████████████████████████████████████████████████████                   | 10/13 [00:02<00:00,  3.49it/s]"
     ]
    },
    {
     "name": "stdout",
     "output_type": "stream",
     "text": [
      "Getting Original Date\n",
      "Pointing Date is -  5 (Day of the week)\n",
      "Checking Next Day\n",
      "Getting quots \n",
      "Ticker:  aph \n",
      "Date:  2009-01-05\n",
      "Quote Loaded\n"
     ]
    },
    {
     "name": "stderr",
     "output_type": "stream",
     "text": [
      "\r",
      " 85%|█████████████████████████████████████████████████████████████████████▍            | 11/13 [00:03<00:00,  3.54it/s]"
     ]
    },
    {
     "name": "stdout",
     "output_type": "stream",
     "text": [
      "Getting Original Date\n",
      "Getting quots \n",
      "Ticker:  aph \n",
      "Date:  2013-04-22\n",
      "Quote Loaded\n"
     ]
    },
    {
     "name": "stderr",
     "output_type": "stream",
     "text": [
      "\r",
      " 92%|███████████████████████████████████████████████████████████████████████████▋      | 12/13 [00:03<00:00,  3.54it/s]"
     ]
    },
    {
     "name": "stdout",
     "output_type": "stream",
     "text": [
      "Getting Original Date\n",
      "Pointing Date is -  6 (Day of the week)\n",
      "Checking Next Day\n",
      "Getting quots \n",
      "Ticker:  aph \n",
      "Date:  2013-05-14\n",
      "Quote Loaded\n"
     ]
    },
    {
     "name": "stderr",
     "output_type": "stream",
     "text": [
      "100%|██████████████████████████████████████████████████████████████████████████████████| 13/13 [00:03<00:00,  3.54it/s]\n"
     ]
    },
    {
     "name": "stdout",
     "output_type": "stream",
     "text": [
      "Will save to file:  PriceVsSNP500_aph.csv\n",
      "Getting Stock Price Data...\n"
     ]
    },
    {
     "name": "stderr",
     "output_type": "stream",
     "text": [
      "\r",
      "  0%|                                                                                           | 0/14 [00:00<?, ?it/s]"
     ]
    },
    {
     "name": "stdout",
     "output_type": "stream",
     "text": [
      "Getting Original Date\n",
      "Getting quots \n",
      "Ticker:  bax \n",
      "Date:  2003-10-13\n",
      "Quote Loaded\n"
     ]
    },
    {
     "name": "stderr",
     "output_type": "stream",
     "text": [
      "\r",
      "  7%|█████▉                                                                             | 1/14 [00:00<00:04,  3.11it/s]"
     ]
    },
    {
     "name": "stdout",
     "output_type": "stream",
     "text": [
      "Getting Original Date\n",
      "Getting quots \n",
      "Ticker:  bax \n",
      "Date:  2004-05-11\n",
      "Quote Loaded\n"
     ]
    },
    {
     "name": "stderr",
     "output_type": "stream",
     "text": [
      "\r",
      " 14%|███████████▊                                                                       | 2/14 [00:00<00:03,  3.06it/s]"
     ]
    },
    {
     "name": "stdout",
     "output_type": "stream",
     "text": [
      "Getting Original Date\n",
      "Getting quots \n",
      "Ticker:  bax \n",
      "Date:  2004-12-16\n",
      "Quote Loaded\n"
     ]
    },
    {
     "name": "stderr",
     "output_type": "stream",
     "text": [
      "\r",
      " 21%|█████████████████▊                                                                 | 3/14 [00:00<00:03,  3.07it/s]"
     ]
    },
    {
     "name": "stdout",
     "output_type": "stream",
     "text": [
      "Getting Original Date\n",
      "Getting quots \n",
      "Ticker:  bax \n",
      "Date:  2005-04-12\n",
      "Quote Loaded\n"
     ]
    },
    {
     "name": "stderr",
     "output_type": "stream",
     "text": [
      "\r",
      " 29%|███████████████████████▋                                                           | 4/14 [00:01<00:03,  3.18it/s]"
     ]
    },
    {
     "name": "stdout",
     "output_type": "stream",
     "text": [
      "Getting Original Date\n",
      "Pointing Date is -  6 (Day of the week)\n",
      "Checking Next Day\n",
      "Cannot Get data from Quandl. Skipping this one\n",
      "Getting Original Date\n",
      "Pointing Date is -  6 (Day of the week)\n",
      "Checking Next Day\n",
      "Getting quots \n",
      "Ticker:  bax \n",
      "Date:  2005-10-17\n",
      "Quote Loaded\n"
     ]
    },
    {
     "name": "stderr",
     "output_type": "stream",
     "text": [
      "\r",
      " 43%|███████████████████████████████████▌                                               | 6/14 [00:01<00:02,  3.67it/s]"
     ]
    },
    {
     "name": "stdout",
     "output_type": "stream",
     "text": [
      "Getting Original Date\n",
      "Getting quots \n",
      "Ticker:  bax \n",
      "Date:  2007-03-23\n",
      "Quote Loaded\n"
     ]
    },
    {
     "name": "stderr",
     "output_type": "stream",
     "text": [
      "\r",
      " 50%|█████████████████████████████████████████▌                                         | 7/14 [00:01<00:01,  3.58it/s]"
     ]
    },
    {
     "name": "stdout",
     "output_type": "stream",
     "text": [
      "Getting Original Date\n",
      "Pointing Date is -  5 (Day of the week)\n",
      "Checking Next Day\n",
      "Getting quots \n",
      "Ticker:  bax \n",
      "Date:  2009-01-12\n",
      "Quote Loaded\n"
     ]
    },
    {
     "name": "stderr",
     "output_type": "stream",
     "text": [
      "\r",
      " 57%|███████████████████████████████████████████████▍                                   | 8/14 [00:02<00:01,  3.44it/s]"
     ]
    },
    {
     "name": "stdout",
     "output_type": "stream",
     "text": [
      "Getting Original Date\n",
      "Pointing Date is -  5 (Day of the week)\n",
      "Checking Next Day\n",
      "Pointing Date is -  6 (Day of the week)\n",
      "Checking Next Day\n",
      "Getting quots \n",
      "Ticker:  bax \n",
      "Date:  2009-06-16\n",
      "Quote Loaded\n"
     ]
    },
    {
     "name": "stderr",
     "output_type": "stream",
     "text": [
      "\r",
      " 64%|█████████████████████████████████████████████████████▎                             | 9/14 [00:02<00:01,  3.34it/s]"
     ]
    },
    {
     "name": "stdout",
     "output_type": "stream",
     "text": [
      "Getting Original Date\n",
      "Getting quots \n",
      "Ticker:  bax \n",
      "Date:  2011-12-23\n",
      "Quote Loaded\n"
     ]
    },
    {
     "name": "stderr",
     "output_type": "stream",
     "text": [
      "\r",
      " 71%|██████████████████████████████████████████████████████████▌                       | 10/14 [00:03<00:01,  3.32it/s]"
     ]
    },
    {
     "name": "stdout",
     "output_type": "stream",
     "text": [
      "Getting Original Date\n",
      "Getting quots \n",
      "Ticker:  bax \n",
      "Date:  2011-12-30\n",
      "Quote Loaded\n"
     ]
    },
    {
     "name": "stderr",
     "output_type": "stream",
     "text": [
      "\r",
      " 79%|████████████████████████████████████████████████████████████████▍                 | 11/14 [00:03<00:00,  3.33it/s]"
     ]
    },
    {
     "name": "stdout",
     "output_type": "stream",
     "text": [
      "Getting Original Date\n",
      "Getting quots \n",
      "Ticker:  bax \n",
      "Date:  2012-04-27\n",
      "Quote Loaded\n"
     ]
    },
    {
     "name": "stderr",
     "output_type": "stream",
     "text": [
      "\r",
      " 86%|██████████████████████████████████████████████████████████████████████▎           | 12/14 [00:03<00:00,  3.30it/s]"
     ]
    },
    {
     "name": "stdout",
     "output_type": "stream",
     "text": [
      "Getting Original Date\n",
      "Pointing Date is -  5 (Day of the week)\n",
      "Checking Next Day\n",
      "Getting quots \n",
      "Ticker:  bax \n",
      "Date:  2012-07-02\n",
      "Quote Loaded\n"
     ]
    },
    {
     "name": "stderr",
     "output_type": "stream",
     "text": [
      "\r",
      " 93%|████████████████████████████████████████████████████████████████████████████▏     | 13/14 [00:04<00:00,  3.23it/s]"
     ]
    },
    {
     "name": "stdout",
     "output_type": "stream",
     "text": [
      "Getting Original Date\n",
      "Getting quots \n",
      "Ticker:  bax \n",
      "Date:  2013-05-08\n",
      "Quote Loaded\n"
     ]
    },
    {
     "name": "stderr",
     "output_type": "stream",
     "text": [
      "100%|██████████████████████████████████████████████████████████████████████████████████| 14/14 [00:04<00:00,  3.27it/s]\n"
     ]
    },
    {
     "name": "stdout",
     "output_type": "stream",
     "text": [
      "Will save to file:  PriceVsSNP500_bax.csv\n",
      "Getting Stock Price Data...\n"
     ]
    },
    {
     "name": "stderr",
     "output_type": "stream",
     "text": [
      "\r",
      "  0%|                                                                                            | 0/1 [00:00<?, ?it/s]"
     ]
    },
    {
     "name": "stdout",
     "output_type": "stream",
     "text": [
      "Getting Original Date\n",
      "Pointing Date is -  6 (Day of the week)\n",
      "Checking Next Day\n",
      "Getting quots \n",
      "Ticker:  act \n",
      "Date:  2013-05-13\n",
      "Wrong Day, Cheching Next\n",
      "Wrong Day, Cheching Next\n",
      "Wrong Day, Cheching Next\n",
      "Wrong Day, Cheching Next\n",
      "Wrong Day, Cheching Next\n",
      "Wrong Day, Cheching Next\n",
      "Wrong Day, Cheching Next\n",
      "Wrong Day, Cheching Next\n",
      "Wrong Day, Cheching Next\n",
      "Wrong Day, Cheching Next\n",
      "Reached Limit amount of tries\n",
      "Cannot Get data from Quandl. Skipping this one\n"
     ]
    },
    {
     "name": "stderr",
     "output_type": "stream",
     "text": [
      "100%|████████████████████████████████████████████████████████████████████████████████████| 1/1 [00:02<00:00,  2.10s/it]\n"
     ]
    },
    {
     "name": "stdout",
     "output_type": "stream",
     "text": [
      "Will save to file:  PriceVsSNP500_act.csv\n",
      "Getting Stock Price Data...\n"
     ]
    },
    {
     "name": "stderr",
     "output_type": "stream",
     "text": [
      "\r",
      "  0%|                                                                                           | 0/27 [00:00<?, ?it/s]"
     ]
    },
    {
     "name": "stdout",
     "output_type": "stream",
     "text": [
      "Getting Original Date\n",
      "Getting quots \n",
      "Ticker:  atvi \n",
      "Date:  2003-10-03\n",
      "Quote Loaded\n"
     ]
    },
    {
     "name": "stderr",
     "output_type": "stream",
     "text": [
      "\r",
      "  4%|███                                                                                | 1/27 [00:00<00:08,  2.90it/s]"
     ]
    },
    {
     "name": "stdout",
     "output_type": "stream",
     "text": [
      "Getting Original Date\n",
      "Getting quots \n",
      "Ticker:  atvi \n",
      "Date:  2004-01-05\n",
      "Quote Loaded\n"
     ]
    },
    {
     "name": "stderr",
     "output_type": "stream",
     "text": [
      "\r",
      "  7%|██████▏                                                                            | 2/27 [00:00<00:08,  2.83it/s]"
     ]
    },
    {
     "name": "stdout",
     "output_type": "stream",
     "text": [
      "Getting Original Date\n",
      "Getting quots \n",
      "Ticker:  atvi \n",
      "Date:  2004-01-16\n",
      "Quote Loaded\n"
     ]
    },
    {
     "name": "stderr",
     "output_type": "stream",
     "text": [
      "\r",
      " 11%|█████████▏                                                                         | 3/27 [00:01<00:08,  2.86it/s]"
     ]
    },
    {
     "name": "stdout",
     "output_type": "stream",
     "text": [
      "Getting Original Date\n",
      "Getting quots \n",
      "Ticker:  atvi \n",
      "Date:  2004-06-22\n",
      "Quote Loaded\n"
     ]
    },
    {
     "name": "stderr",
     "output_type": "stream",
     "text": [
      "\r",
      " 15%|████████████▎                                                                      | 4/27 [00:01<00:08,  2.87it/s]"
     ]
    },
    {
     "name": "stdout",
     "output_type": "stream",
     "text": [
      "Getting Original Date\n",
      "Getting quots \n",
      "Ticker:  atvi \n",
      "Date:  2004-08-27\n",
      "Quote Loaded\n"
     ]
    },
    {
     "name": "stderr",
     "output_type": "stream",
     "text": [
      "\r",
      " 19%|███████████████▎                                                                   | 5/27 [00:01<00:07,  2.86it/s]"
     ]
    },
    {
     "name": "stdout",
     "output_type": "stream",
     "text": [
      "Getting Original Date\n",
      "Pointing Date is -  5 (Day of the week)\n",
      "Checking Next Day\n",
      "Pointing Date is -  6 (Day of the week)\n",
      "Checking Next Day\n",
      "Getting quots \n",
      "Ticker:  atvi \n",
      "Date:  2004-09-28\n",
      "Quote Loaded\n"
     ]
    },
    {
     "name": "stderr",
     "output_type": "stream",
     "text": [
      "\r",
      " 22%|██████████████████▍                                                                | 6/27 [00:02<00:07,  2.79it/s]"
     ]
    },
    {
     "name": "stdout",
     "output_type": "stream",
     "text": [
      "Getting Original Date\n",
      "Getting quots \n",
      "Ticker:  atvi \n",
      "Date:  2004-10-13\n",
      "Quote Loaded\n"
     ]
    },
    {
     "name": "stderr",
     "output_type": "stream",
     "text": [
      "\r",
      " 26%|█████████████████████▌                                                             | 7/27 [00:02<00:07,  2.79it/s]"
     ]
    },
    {
     "name": "stdout",
     "output_type": "stream",
     "text": [
      "Getting Original Date\n",
      "Getting quots \n",
      "Ticker:  atvi \n",
      "Date:  2004-10-14\n",
      "Quote Loaded\n"
     ]
    },
    {
     "name": "stderr",
     "output_type": "stream",
     "text": [
      "\r",
      " 30%|████████████████████████▌                                                          | 8/27 [00:02<00:06,  2.87it/s]"
     ]
    },
    {
     "name": "stdout",
     "output_type": "stream",
     "text": [
      "Getting Original Date\n",
      "Pointing Date is -  6 (Day of the week)\n",
      "Checking Next Day\n",
      "Cannot Get data from Quandl. Skipping this one\n",
      "Getting Original Date\n",
      "Getting quots \n",
      "Ticker:  atvi \n",
      "Date:  2005-04-19\n",
      "Quote Loaded\n"
     ]
    },
    {
     "name": "stderr",
     "output_type": "stream",
     "text": [
      "\r",
      " 37%|██████████████████████████████▎                                                   | 10/27 [00:03<00:05,  3.27it/s]"
     ]
    },
    {
     "name": "stdout",
     "output_type": "stream",
     "text": [
      "Getting Original Date\n",
      "Getting quots \n",
      "Ticker:  atvi \n",
      "Date:  2006-02-17\n",
      "Quote Loaded\n"
     ]
    },
    {
     "name": "stderr",
     "output_type": "stream",
     "text": [
      "\r",
      " 41%|█████████████████████████████████▍                                                | 11/27 [00:03<00:04,  3.26it/s]"
     ]
    },
    {
     "name": "stdout",
     "output_type": "stream",
     "text": [
      "Getting Original Date\n",
      "Getting quots \n",
      "Ticker:  atvi \n",
      "Date:  2006-04-21\n",
      "Quote Loaded\n"
     ]
    },
    {
     "name": "stderr",
     "output_type": "stream",
     "text": [
      "\r",
      " 44%|████████████████████████████████████▍                                             | 12/27 [00:03<00:04,  3.26it/s]"
     ]
    },
    {
     "name": "stdout",
     "output_type": "stream",
     "text": [
      "Getting Original Date\n",
      "Pointing Date is -  6 (Day of the week)\n",
      "Checking Next Day\n",
      "Getting quots \n",
      "Ticker:  atvi \n",
      "Date:  2006-12-19\n",
      "Quote Loaded\n"
     ]
    },
    {
     "name": "stderr",
     "output_type": "stream",
     "text": [
      "\r",
      " 48%|███████████████████████████████████████▍                                          | 13/27 [00:04<00:04,  3.24it/s]"
     ]
    },
    {
     "name": "stdout",
     "output_type": "stream",
     "text": [
      "Getting Original Date\n",
      "Getting quots \n",
      "Ticker:  atvi \n",
      "Date:  2007-01-17\n",
      "Quote Loaded\n"
     ]
    },
    {
     "name": "stderr",
     "output_type": "stream",
     "text": [
      "\r",
      " 52%|██████████████████████████████████████████▌                                       | 14/27 [00:04<00:03,  3.30it/s]"
     ]
    },
    {
     "name": "stdout",
     "output_type": "stream",
     "text": [
      "Getting Original Date\n",
      "Getting quots \n",
      "Ticker:  atvi \n",
      "Date:  2007-02-21\n",
      "Quote Loaded\n"
     ]
    },
    {
     "name": "stderr",
     "output_type": "stream",
     "text": [
      "\r",
      " 56%|█████████████████████████████████████████████▌                                    | 15/27 [00:04<00:03,  3.08it/s]"
     ]
    },
    {
     "name": "stdout",
     "output_type": "stream",
     "text": [
      "Getting Original Date\n",
      "Getting quots \n",
      "Ticker:  atvi \n",
      "Date:  2007-04-05\n",
      "Quote Loaded\n"
     ]
    },
    {
     "name": "stderr",
     "output_type": "stream",
     "text": [
      "\r",
      " 59%|████████████████████████████████████████████████▌                                 | 16/27 [00:05<00:03,  3.14it/s]"
     ]
    },
    {
     "name": "stdout",
     "output_type": "stream",
     "text": [
      "Getting Original Date\n",
      "Pointing Date is -  6 (Day of the week)\n",
      "Checking Next Day\n",
      "Getting quots \n",
      "Ticker:  atvi \n",
      "Date:  2007-06-18\n",
      "Quote Loaded\n"
     ]
    },
    {
     "name": "stderr",
     "output_type": "stream",
     "text": [
      "\r",
      " 63%|███████████████████████████████████████████████████▋                              | 17/27 [00:05<00:03,  3.14it/s]"
     ]
    },
    {
     "name": "stdout",
     "output_type": "stream",
     "text": [
      "Getting Original Date\n",
      "Getting quots \n",
      "Ticker:  atvi \n",
      "Date:  2007-10-16\n",
      "Quote Loaded\n"
     ]
    },
    {
     "name": "stderr",
     "output_type": "stream",
     "text": [
      "\r",
      " 67%|██████████████████████████████████████████████████████▋                           | 18/27 [00:05<00:02,  3.14it/s]"
     ]
    },
    {
     "name": "stdout",
     "output_type": "stream",
     "text": [
      "Getting Original Date\n",
      "Getting quots \n",
      "Ticker:  atvi \n",
      "Date:  2008-12-18\n",
      "Quote Loaded\n"
     ]
    },
    {
     "name": "stderr",
     "output_type": "stream",
     "text": [
      "\r",
      " 70%|█████████████████████████████████████████████████████████▋                        | 19/27 [00:06<00:02,  3.15it/s]"
     ]
    },
    {
     "name": "stdout",
     "output_type": "stream",
     "text": [
      "Getting Original Date\n",
      "Getting quots \n",
      "Ticker:  atvi \n",
      "Date:  2009-01-26\n",
      "Quote Loaded\n"
     ]
    },
    {
     "name": "stderr",
     "output_type": "stream",
     "text": [
      "\r",
      " 74%|████████████████████████████████████████████████████████████▋                     | 20/27 [00:06<00:02,  3.14it/s]"
     ]
    },
    {
     "name": "stdout",
     "output_type": "stream",
     "text": [
      "Getting Original Date\n",
      "Pointing Date is -  5 (Day of the week)\n",
      "Checking Next Day\n",
      "Cannot Get data from Quandl. Skipping this one\n",
      "Getting Original Date\n",
      "Getting quots \n",
      "Ticker:  atvi \n",
      "Date:  2011-11-04\n",
      "Quote Loaded\n"
     ]
    },
    {
     "name": "stderr",
     "output_type": "stream",
     "text": [
      "\r",
      " 81%|██████████████████████████████████████████████████████████████████▊               | 22/27 [00:06<00:01,  3.33it/s]"
     ]
    },
    {
     "name": "stdout",
     "output_type": "stream",
     "text": [
      "Getting Original Date\n",
      "Getting quots \n",
      "Ticker:  atvi \n",
      "Date:  2012-01-03\n",
      "Quote Loaded\n"
     ]
    },
    {
     "name": "stderr",
     "output_type": "stream",
     "text": [
      "\r",
      " 85%|█████████████████████████████████████████████████████████████████████▊            | 23/27 [00:06<00:01,  3.34it/s]"
     ]
    },
    {
     "name": "stdout",
     "output_type": "stream",
     "text": [
      "Getting Original Date\n",
      "Getting quots \n",
      "Ticker:  atvi \n",
      "Date:  2012-03-16\n",
      "Quote Loaded\n"
     ]
    },
    {
     "name": "stderr",
     "output_type": "stream",
     "text": [
      "\r",
      " 89%|████████████████████████████████████████████████████████████████████████▉         | 24/27 [00:07<00:00,  3.35it/s]"
     ]
    },
    {
     "name": "stdout",
     "output_type": "stream",
     "text": [
      "Getting Original Date\n",
      "Getting quots \n",
      "Ticker:  atvi \n",
      "Date:  2013-02-06\n",
      "Quote Loaded\n"
     ]
    },
    {
     "name": "stderr",
     "output_type": "stream",
     "text": [
      "\r",
      " 93%|███████████████████████████████████████████████████████████████████████████▉      | 25/27 [00:07<00:00,  3.37it/s]"
     ]
    },
    {
     "name": "stdout",
     "output_type": "stream",
     "text": [
      "Getting Original Date\n",
      "Getting quots \n",
      "Ticker:  atvi \n",
      "Date:  2013-04-22\n",
      "Quote Loaded\n"
     ]
    },
    {
     "name": "stderr",
     "output_type": "stream",
     "text": [
      "\r",
      " 96%|██████████████████████████████████████████████████████████████████████████████▉   | 26/27 [00:07<00:00,  3.37it/s]"
     ]
    },
    {
     "name": "stdout",
     "output_type": "stream",
     "text": [
      "Getting Original Date\n",
      "Getting quots \n",
      "Ticker:  atvi \n",
      "Date:  2013-05-21\n",
      "Quote Loaded\n"
     ]
    },
    {
     "name": "stderr",
     "output_type": "stream",
     "text": [
      "100%|██████████████████████████████████████████████████████████████████████████████████| 27/27 [00:08<00:00,  3.37it/s]\n"
     ]
    },
    {
     "name": "stdout",
     "output_type": "stream",
     "text": [
      "Will save to file:  PriceVsSNP500_atvi.csv\n",
      "Getting Stock Price Data...\n"
     ]
    },
    {
     "name": "stderr",
     "output_type": "stream",
     "text": [
      "\r",
      "  0%|                                                                                           | 0/18 [00:00<?, ?it/s]"
     ]
    },
    {
     "name": "stdout",
     "output_type": "stream",
     "text": [
      "Getting Original Date\n",
      "Pointing Date is -  6 (Day of the week)\n",
      "Checking Next Day\n",
      "Cannot Get data from Quandl. Skipping this one\n",
      "Getting Original Date\n",
      "Getting quots \n",
      "Ticker:  aet \n",
      "Date:  2004-08-03\n",
      "Quote Loaded\n"
     ]
    },
    {
     "name": "stderr",
     "output_type": "stream",
     "text": [
      "\r",
      " 11%|█████████▏                                                                         | 2/18 [00:00<00:01,  8.18it/s]"
     ]
    },
    {
     "name": "stdout",
     "output_type": "stream",
     "text": [
      "Getting Original Date\n",
      "Getting quots \n",
      "Ticker:  aet \n",
      "Date:  2004-11-30\n",
      "Quote Loaded\n"
     ]
    },
    {
     "name": "stderr",
     "output_type": "stream",
     "text": [
      "\r",
      " 17%|█████████████▊                                                                     | 3/18 [00:00<00:02,  6.56it/s]"
     ]
    },
    {
     "name": "stdout",
     "output_type": "stream",
     "text": [
      "Getting Original Date\n",
      "Getting quots \n",
      "Ticker:  aet \n",
      "Date:  2005-02-04\n",
      "Quote Loaded\n"
     ]
    },
    {
     "name": "stderr",
     "output_type": "stream",
     "text": [
      "\r",
      " 22%|██████████████████▍                                                                | 4/18 [00:00<00:02,  5.67it/s]"
     ]
    },
    {
     "name": "stdout",
     "output_type": "stream",
     "text": [
      "Getting Original Date\n",
      "Getting quots \n",
      "Ticker:  aet \n",
      "Date:  2005-04-08\n",
      "Quote Loaded\n"
     ]
    },
    {
     "name": "stderr",
     "output_type": "stream",
     "text": [
      "\r",
      " 28%|███████████████████████                                                            | 5/18 [00:01<00:02,  4.97it/s]"
     ]
    },
    {
     "name": "stdout",
     "output_type": "stream",
     "text": [
      "Getting Original Date\n",
      "Getting quots \n",
      "Ticker:  aet \n",
      "Date:  2005-09-23\n",
      "Quote Loaded\n"
     ]
    },
    {
     "name": "stderr",
     "output_type": "stream",
     "text": [
      "\r",
      " 33%|███████████████████████████▋                                                       | 6/18 [00:01<00:02,  4.30it/s]"
     ]
    },
    {
     "name": "stdout",
     "output_type": "stream",
     "text": [
      "Getting Original Date\n",
      "Getting quots \n",
      "Ticker:  aet \n",
      "Date:  2006-01-11\n",
      "Quote Loaded\n"
     ]
    },
    {
     "name": "stderr",
     "output_type": "stream",
     "text": [
      "\r",
      " 39%|████████████████████████████████▎                                                  | 7/18 [00:01<00:02,  4.28it/s]"
     ]
    },
    {
     "name": "stdout",
     "output_type": "stream",
     "text": [
      "Getting Original Date\n",
      "Pointing Date is -  6 (Day of the week)\n",
      "Checking Next Day\n",
      "Getting quots \n",
      "Ticker:  aet \n",
      "Date:  2006-05-08\n",
      "Quote Loaded\n"
     ]
    },
    {
     "name": "stderr",
     "output_type": "stream",
     "text": [
      "\r",
      " 44%|████████████████████████████████████▉                                              | 8/18 [00:01<00:02,  4.11it/s]"
     ]
    },
    {
     "name": "stdout",
     "output_type": "stream",
     "text": [
      "Getting Original Date\n",
      "Getting quots \n",
      "Ticker:  aet \n",
      "Date:  2007-01-25\n",
      "Quote Loaded\n"
     ]
    },
    {
     "name": "stderr",
     "output_type": "stream",
     "text": [
      "\r",
      " 50%|█████████████████████████████████████████▌                                         | 9/18 [00:02<00:02,  4.03it/s]"
     ]
    },
    {
     "name": "stdout",
     "output_type": "stream",
     "text": [
      "Getting Original Date\n",
      "Getting quots \n",
      "Ticker:  aet \n",
      "Date:  2007-02-20\n",
      "Quote Loaded\n"
     ]
    },
    {
     "name": "stderr",
     "output_type": "stream",
     "text": [
      "\r",
      " 56%|█████████████████████████████████████████████▌                                    | 10/18 [00:02<00:01,  4.01it/s]"
     ]
    },
    {
     "name": "stdout",
     "output_type": "stream",
     "text": [
      "Getting Original Date\n",
      "Cannot Get data from Quandl. Skipping this one\n",
      "Getting Original Date\n",
      "Getting quots \n",
      "Ticker:  aet \n",
      "Date:  2008-01-23\n",
      "Quote Loaded\n"
     ]
    },
    {
     "name": "stderr",
     "output_type": "stream",
     "text": [
      "\r",
      " 67%|██████████████████████████████████████████████████████▋                           | 12/18 [00:02<00:01,  4.19it/s]"
     ]
    },
    {
     "name": "stdout",
     "output_type": "stream",
     "text": [
      "Getting Original Date\n",
      "Getting quots \n",
      "Ticker:  aet \n",
      "Date:  2008-02-22\n",
      "Quote Loaded\n"
     ]
    },
    {
     "name": "stderr",
     "output_type": "stream",
     "text": [
      "\r",
      " 72%|███████████████████████████████████████████████████████████▏                      | 13/18 [00:03<00:01,  4.18it/s]"
     ]
    },
    {
     "name": "stdout",
     "output_type": "stream",
     "text": [
      "Getting Original Date\n",
      "Pointing Date is -  5 (Day of the week)\n",
      "Checking Next Day\n",
      "Pointing Date is -  6 (Day of the week)\n",
      "Checking Next Day\n",
      "Getting quots \n",
      "Ticker:  aet \n",
      "Date:  2008-11-04\n",
      "Quote Loaded\n"
     ]
    },
    {
     "name": "stderr",
     "output_type": "stream",
     "text": [
      "\r",
      " 78%|███████████████████████████████████████████████████████████████▊                  | 14/18 [00:03<00:00,  4.06it/s]"
     ]
    },
    {
     "name": "stdout",
     "output_type": "stream",
     "text": [
      "Getting Original Date\n",
      "Getting quots \n",
      "Ticker:  aet \n",
      "Date:  2009-10-02\n",
      "Quote Loaded\n"
     ]
    },
    {
     "name": "stderr",
     "output_type": "stream",
     "text": [
      "\r",
      " 83%|████████████████████████████████████████████████████████████████████▎             | 15/18 [00:03<00:00,  3.99it/s]"
     ]
    },
    {
     "name": "stdout",
     "output_type": "stream",
     "text": [
      "Getting Original Date\n",
      "Getting quots \n",
      "Ticker:  aet \n",
      "Date:  2009-10-15\n",
      "Quote Loaded\n"
     ]
    },
    {
     "name": "stderr",
     "output_type": "stream",
     "text": [
      "\r",
      " 89%|████████████████████████████████████████████████████████████████████████▉         | 16/18 [00:04<00:00,  3.94it/s]"
     ]
    },
    {
     "name": "stdout",
     "output_type": "stream",
     "text": [
      "Getting Original Date\n",
      "Getting quots \n",
      "Ticker:  aet \n",
      "Date:  2012-12-19\n",
      "Quote Loaded\n"
     ]
    },
    {
     "name": "stderr",
     "output_type": "stream",
     "text": [
      "\r",
      " 94%|█████████████████████████████████████████████████████████████████████████████▍    | 17/18 [00:04<00:00,  3.88it/s]"
     ]
    },
    {
     "name": "stdout",
     "output_type": "stream",
     "text": [
      "Getting Original Date\n",
      "Getting quots \n",
      "Ticker:  aet \n",
      "Date:  2013-06-05\n",
      "Quote Loaded\n"
     ]
    },
    {
     "name": "stderr",
     "output_type": "stream",
     "text": [
      "100%|██████████████████████████████████████████████████████████████████████████████████| 18/18 [00:04<00:00,  3.81it/s]\n"
     ]
    },
    {
     "name": "stdout",
     "output_type": "stream",
     "text": [
      "Will save to file:  PriceVsSNP500_aet.csv\n",
      "Getting Stock Price Data...\n"
     ]
    },
    {
     "name": "stderr",
     "output_type": "stream",
     "text": [
      "\r",
      "  0%|                                                                                           | 0/30 [00:00<?, ?it/s]"
     ]
    },
    {
     "name": "stdout",
     "output_type": "stream",
     "text": [
      "Getting Original Date\n",
      "Getting quots \n",
      "Ticker:  adm \n",
      "Date:  2003-11-12\n",
      "Quote Loaded\n"
     ]
    },
    {
     "name": "stderr",
     "output_type": "stream",
     "text": [
      "\r",
      "  3%|██▊                                                                                | 1/30 [00:00<00:06,  4.42it/s]"
     ]
    },
    {
     "name": "stdout",
     "output_type": "stream",
     "text": [
      "Getting Original Date\n",
      "Pointing Date is -  5 (Day of the week)\n",
      "Checking Next Day\n",
      "Pointing Date is -  6 (Day of the week)\n",
      "Checking Next Day\n",
      "Getting quots \n",
      "Ticker:  adm \n",
      "Date:  2004-02-03\n",
      "Quote Loaded\n"
     ]
    },
    {
     "name": "stderr",
     "output_type": "stream",
     "text": [
      "\r",
      "  7%|█████▌                                                                             | 2/30 [00:00<00:08,  3.19it/s]"
     ]
    },
    {
     "name": "stdout",
     "output_type": "stream",
     "text": [
      "Getting Original Date\n",
      "Getting quots \n",
      "Ticker:  adm \n",
      "Date:  2004-04-14\n",
      "Quote Loaded\n"
     ]
    },
    {
     "name": "stderr",
     "output_type": "stream",
     "text": [
      "\r",
      " 10%|████████▎                                                                          | 3/30 [00:00<00:08,  3.13it/s]"
     ]
    },
    {
     "name": "stdout",
     "output_type": "stream",
     "text": [
      "Getting Original Date\n",
      "Pointing Date is -  5 (Day of the week)\n",
      "Checking Next Day\n",
      "Getting quots \n",
      "Ticker:  adm \n",
      "Date:  2004-06-21\n",
      "Quote Loaded\n"
     ]
    },
    {
     "name": "stderr",
     "output_type": "stream",
     "text": [
      "\r",
      " 13%|███████████                                                                        | 4/30 [00:01<00:07,  3.31it/s]"
     ]
    },
    {
     "name": "stdout",
     "output_type": "stream",
     "text": [
      "Getting Original Date\n",
      "Getting quots \n",
      "Ticker:  adm \n",
      "Date:  2004-11-30\n",
      "Quote Loaded\n"
     ]
    },
    {
     "name": "stderr",
     "output_type": "stream",
     "text": [
      "\r",
      " 17%|█████████████▊                                                                     | 5/30 [00:01<00:07,  3.30it/s]"
     ]
    },
    {
     "name": "stdout",
     "output_type": "stream",
     "text": [
      "Getting Original Date\n",
      "Getting quots \n",
      "Ticker:  adm \n",
      "Date:  2005-01-26\n",
      "Quote Loaded\n"
     ]
    },
    {
     "name": "stderr",
     "output_type": "stream",
     "text": [
      "\r",
      " 20%|████████████████▌                                                                  | 6/30 [00:01<00:07,  3.39it/s]"
     ]
    },
    {
     "name": "stdout",
     "output_type": "stream",
     "text": [
      "Getting Original Date\n",
      "Getting quots \n",
      "Ticker:  adm \n",
      "Date:  2005-02-08\n",
      "Quote Loaded\n"
     ]
    },
    {
     "name": "stderr",
     "output_type": "stream",
     "text": [
      "\r",
      " 23%|███████████████████▎                                                               | 7/30 [00:02<00:06,  3.36it/s]"
     ]
    },
    {
     "name": "stdout",
     "output_type": "stream",
     "text": [
      "Getting Original Date\n",
      "Getting quots \n",
      "Ticker:  adm \n",
      "Date:  2005-02-14\n",
      "Quote Loaded\n"
     ]
    },
    {
     "name": "stderr",
     "output_type": "stream",
     "text": [
      "\r",
      " 27%|██████████████████████▏                                                            | 8/30 [00:02<00:06,  3.42it/s]"
     ]
    },
    {
     "name": "stdout",
     "output_type": "stream",
     "text": [
      "Getting Original Date\n",
      "Getting quots \n",
      "Ticker:  adm \n",
      "Date:  2006-04-06\n",
      "Quote Loaded\n"
     ]
    },
    {
     "name": "stderr",
     "output_type": "stream",
     "text": [
      "\r",
      " 30%|████████████████████████▉                                                          | 9/30 [00:02<00:06,  3.36it/s]"
     ]
    },
    {
     "name": "stdout",
     "output_type": "stream",
     "text": [
      "Getting Original Date\n",
      "Getting quots \n",
      "Ticker:  adm \n",
      "Date:  2006-04-07\n",
      "Quote Loaded\n"
     ]
    },
    {
     "name": "stderr",
     "output_type": "stream",
     "text": [
      "\r",
      " 33%|███████████████████████████▎                                                      | 10/30 [00:02<00:05,  3.36it/s]"
     ]
    },
    {
     "name": "stdout",
     "output_type": "stream",
     "text": [
      "Getting Original Date\n",
      "Getting quots \n",
      "Ticker:  adm \n",
      "Date:  2006-04-12\n",
      "Quote Loaded\n"
     ]
    },
    {
     "name": "stderr",
     "output_type": "stream",
     "text": [
      "\r",
      " 37%|██████████████████████████████                                                    | 11/30 [00:03<00:06,  2.98it/s]"
     ]
    },
    {
     "name": "stdout",
     "output_type": "stream",
     "text": [
      "Getting Original Date\n",
      "Pointing Date is -  5 (Day of the week)\n",
      "Checking Next Day\n",
      "Getting quots \n",
      "Ticker:  adm \n",
      "Date:  2006-04-24\n",
      "Quote Loaded\n"
     ]
    },
    {
     "name": "stderr",
     "output_type": "stream",
     "text": [
      "\r",
      " 40%|████████████████████████████████▊                                                 | 12/30 [00:03<00:05,  3.00it/s]"
     ]
    },
    {
     "name": "stdout",
     "output_type": "stream",
     "text": [
      "Getting Original Date\n",
      "Pointing Date is -  6 (Day of the week)\n",
      "Checking Next Day\n",
      "Getting quots \n",
      "Ticker:  adm \n",
      "Date:  2006-04-25\n",
      "Quote Loaded\n"
     ]
    },
    {
     "name": "stderr",
     "output_type": "stream",
     "text": [
      "\r",
      " 43%|███████████████████████████████████▌                                              | 13/30 [00:04<00:05,  2.99it/s]"
     ]
    },
    {
     "name": "stdout",
     "output_type": "stream",
     "text": [
      "Getting Original Date\n",
      "Getting quots \n",
      "Ticker:  adm \n",
      "Date:  2006-04-24\n",
      "Quote Loaded\n"
     ]
    },
    {
     "name": "stderr",
     "output_type": "stream",
     "text": [
      "\r",
      " 47%|██████████████████████████████████████▎                                           | 14/30 [00:04<00:05,  3.06it/s]"
     ]
    },
    {
     "name": "stdout",
     "output_type": "stream",
     "text": [
      "Getting Original Date\n",
      "Getting quots \n",
      "Ticker:  adm \n",
      "Date:  2006-04-28\n",
      "Quote Loaded\n"
     ]
    },
    {
     "name": "stderr",
     "output_type": "stream",
     "text": [
      "\r",
      " 50%|█████████████████████████████████████████                                         | 15/30 [00:04<00:04,  3.07it/s]"
     ]
    },
    {
     "name": "stdout",
     "output_type": "stream",
     "text": [
      "Getting Original Date\n",
      "Getting quots \n",
      "Ticker:  adm \n",
      "Date:  2006-05-16\n",
      "Quote Loaded\n"
     ]
    },
    {
     "name": "stderr",
     "output_type": "stream",
     "text": [
      "\r",
      " 53%|███████████████████████████████████████████▋                                      | 16/30 [00:05<00:04,  3.10it/s]"
     ]
    },
    {
     "name": "stdout",
     "output_type": "stream",
     "text": [
      "Getting Original Date\n",
      "Getting quots \n",
      "Ticker:  adm \n",
      "Date:  2007-02-20\n",
      "Quote Loaded\n"
     ]
    },
    {
     "name": "stderr",
     "output_type": "stream",
     "text": [
      "\r",
      " 57%|██████████████████████████████████████████████▍                                   | 17/30 [00:05<00:04,  3.14it/s]"
     ]
    },
    {
     "name": "stdout",
     "output_type": "stream",
     "text": [
      "Getting Original Date\n",
      "Getting quots \n",
      "Ticker:  adm \n",
      "Date:  2007-03-07\n",
      "Quote Loaded\n"
     ]
    },
    {
     "name": "stderr",
     "output_type": "stream",
     "text": [
      "\r",
      " 60%|█████████████████████████████████████████████████▏                                | 18/30 [00:05<00:03,  3.14it/s]"
     ]
    },
    {
     "name": "stdout",
     "output_type": "stream",
     "text": [
      "Getting Original Date\n",
      "Getting quots \n",
      "Ticker:  adm \n",
      "Date:  2007-04-09\n",
      "Quote Loaded\n"
     ]
    },
    {
     "name": "stderr",
     "output_type": "stream",
     "text": [
      "\r",
      " 63%|███████████████████████████████████████████████████▉                              | 19/30 [00:06<00:03,  3.13it/s]"
     ]
    },
    {
     "name": "stdout",
     "output_type": "stream",
     "text": [
      "Getting Original Date\n",
      "Getting quots \n",
      "Ticker:  adm \n",
      "Date:  2007-06-18\n",
      "Quote Loaded\n"
     ]
    },
    {
     "name": "stderr",
     "output_type": "stream",
     "text": [
      "\r",
      " 67%|██████████████████████████████████████████████████████▋                           | 20/30 [00:06<00:03,  3.12it/s]"
     ]
    },
    {
     "name": "stdout",
     "output_type": "stream",
     "text": [
      "Getting Original Date\n",
      "Getting quots \n",
      "Ticker:  adm \n",
      "Date:  2007-06-19\n",
      "Quote Loaded\n"
     ]
    },
    {
     "name": "stderr",
     "output_type": "stream",
     "text": [
      "\r",
      " 70%|█████████████████████████████████████████████████████████▍                        | 21/30 [00:06<00:02,  3.13it/s]"
     ]
    },
    {
     "name": "stdout",
     "output_type": "stream",
     "text": [
      "Getting Original Date\n",
      "Getting quots \n",
      "Ticker:  adm \n",
      "Date:  2007-10-12\n",
      "Quote Loaded\n"
     ]
    },
    {
     "name": "stderr",
     "output_type": "stream",
     "text": [
      "\r",
      " 73%|████████████████████████████████████████████████████████████▏                     | 22/30 [00:07<00:02,  3.11it/s]"
     ]
    },
    {
     "name": "stdout",
     "output_type": "stream",
     "text": [
      "Getting Original Date\n",
      "Getting quots \n",
      "Ticker:  adm \n",
      "Date:  2008-01-23\n",
      "Quote Loaded\n"
     ]
    },
    {
     "name": "stderr",
     "output_type": "stream",
     "text": [
      "\r",
      " 77%|██████████████████████████████████████████████████████████████▊                   | 23/30 [00:07<00:02,  3.15it/s]"
     ]
    },
    {
     "name": "stdout",
     "output_type": "stream",
     "text": [
      "Getting Original Date\n",
      "Getting quots \n",
      "Ticker:  adm \n",
      "Date:  2009-01-09\n",
      "Quote Loaded\n"
     ]
    },
    {
     "name": "stderr",
     "output_type": "stream",
     "text": [
      "\r",
      " 80%|█████████████████████████████████████████████████████████████████▌                | 24/30 [00:07<00:01,  3.16it/s]"
     ]
    },
    {
     "name": "stdout",
     "output_type": "stream",
     "text": [
      "Getting Original Date\n",
      "Getting quots \n",
      "Ticker:  adm \n",
      "Date:  2011-07-29\n",
      "Quote Loaded\n"
     ]
    },
    {
     "name": "stderr",
     "output_type": "stream",
     "text": [
      "\r",
      " 83%|████████████████████████████████████████████████████████████████████▎             | 25/30 [00:07<00:01,  3.16it/s]"
     ]
    },
    {
     "name": "stdout",
     "output_type": "stream",
     "text": [
      "Getting Original Date\n",
      "Getting quots \n",
      "Ticker:  adm \n",
      "Date:  2011-08-05\n",
      "Quote Loaded\n"
     ]
    },
    {
     "name": "stderr",
     "output_type": "stream",
     "text": [
      "\r",
      " 87%|███████████████████████████████████████████████████████████████████████           | 26/30 [00:08<00:01,  3.16it/s]"
     ]
    },
    {
     "name": "stdout",
     "output_type": "stream",
     "text": [
      "Getting Original Date\n",
      "Getting quots \n",
      "Ticker:  adm \n",
      "Date:  2011-09-28\n",
      "Quote Loaded\n"
     ]
    },
    {
     "name": "stderr",
     "output_type": "stream",
     "text": [
      "\r",
      " 90%|█████████████████████████████████████████████████████████████████████████▊        | 27/30 [00:08<00:00,  3.19it/s]"
     ]
    },
    {
     "name": "stdout",
     "output_type": "stream",
     "text": [
      "Getting Original Date\n",
      "Pointing Date is -  5 (Day of the week)\n",
      "Checking Next Day\n",
      "Pointing Date is -  6 (Day of the week)\n",
      "Checking Next Day\n",
      "Getting quots \n",
      "Ticker:  adm \n",
      "Date:  2012-01-03\n",
      "Quote Loaded\n"
     ]
    },
    {
     "name": "stderr",
     "output_type": "stream",
     "text": [
      "\r",
      " 93%|████████████████████████████████████████████████████████████████████████████▌     | 28/30 [00:08<00:00,  3.16it/s]"
     ]
    },
    {
     "name": "stdout",
     "output_type": "stream",
     "text": [
      "Getting Original Date\n",
      "Pointing Date is -  5 (Day of the week)\n",
      "Checking Next Day\n",
      "Pointing Date is -  6 (Day of the week)\n",
      "Checking Next Day\n",
      "Getting quots \n",
      "Ticker:  adm \n",
      "Date:  2012-07-31\n",
      "Quote Loaded\n"
     ]
    },
    {
     "name": "stderr",
     "output_type": "stream",
     "text": [
      "\r",
      " 97%|███████████████████████████████████████████████████████████████████████████████▎  | 29/30 [00:09<00:00,  3.16it/s]"
     ]
    },
    {
     "name": "stdout",
     "output_type": "stream",
     "text": [
      "Getting Original Date\n",
      "Getting quots \n",
      "Ticker:  adm \n",
      "Date:  2013-06-07\n",
      "Quote Loaded\n"
     ]
    },
    {
     "name": "stderr",
     "output_type": "stream",
     "text": [
      "100%|██████████████████████████████████████████████████████████████████████████████████| 30/30 [00:09<00:00,  3.18it/s]\n"
     ]
    },
    {
     "name": "stdout",
     "output_type": "stream",
     "text": [
      "Will save to file:  PriceVsSNP500_adm.csv\n",
      "Getting Stock Price Data...\n"
     ]
    },
    {
     "name": "stderr",
     "output_type": "stream",
     "text": [
      "\r",
      "  0%|                                                                                            | 0/9 [00:00<?, ?it/s]"
     ]
    },
    {
     "name": "stdout",
     "output_type": "stream",
     "text": [
      "Getting Original Date\n",
      "Pointing Date is -  6 (Day of the week)\n",
      "Checking Next Day\n",
      "Getting quots \n",
      "Ticker:  ann \n",
      "Date:  2003-10-28\n",
      "Quote Loaded\n"
     ]
    },
    {
     "name": "stderr",
     "output_type": "stream",
     "text": [
      "\r",
      " 11%|█████████▎                                                                          | 1/9 [00:00<00:02,  3.11it/s]"
     ]
    },
    {
     "name": "stdout",
     "output_type": "stream",
     "text": [
      "Getting Original Date\n",
      "Getting quots \n",
      "Ticker:  ann \n",
      "Date:  2004-09-23\n",
      "Quote Loaded\n"
     ]
    },
    {
     "name": "stderr",
     "output_type": "stream",
     "text": [
      "\r",
      " 22%|██████████████████▋                                                                 | 2/9 [00:00<00:02,  2.77it/s]"
     ]
    },
    {
     "name": "stdout",
     "output_type": "stream",
     "text": [
      "Getting Original Date\n",
      "Getting quots \n",
      "Ticker:  ann \n",
      "Date:  2004-10-13\n",
      "Quote Loaded\n"
     ]
    },
    {
     "name": "stderr",
     "output_type": "stream",
     "text": [
      "\r",
      " 33%|████████████████████████████                                                        | 3/9 [00:00<00:01,  3.16it/s]"
     ]
    },
    {
     "name": "stdout",
     "output_type": "stream",
     "text": [
      "Getting Original Date\n",
      "Getting quots \n",
      "Ticker:  ann \n",
      "Date:  2005-02-07\n",
      "Quote Loaded\n"
     ]
    },
    {
     "name": "stderr",
     "output_type": "stream",
     "text": [
      "\r",
      " 44%|█████████████████████████████████████▎                                              | 4/9 [00:01<00:01,  3.15it/s]"
     ]
    },
    {
     "name": "stdout",
     "output_type": "stream",
     "text": [
      "Getting Original Date\n",
      "Getting quots \n",
      "Ticker:  ann \n",
      "Date:  2005-04-19\n",
      "Quote Loaded\n"
     ]
    },
    {
     "name": "stderr",
     "output_type": "stream",
     "text": [
      "\r",
      " 56%|██████████████████████████████████████████████▋                                     | 5/9 [00:01<00:01,  3.17it/s]"
     ]
    },
    {
     "name": "stdout",
     "output_type": "stream",
     "text": [
      "Getting Original Date\n",
      "Getting quots \n",
      "Ticker:  ann \n",
      "Date:  2006-09-05\n",
      "Quote Loaded\n"
     ]
    },
    {
     "name": "stderr",
     "output_type": "stream",
     "text": [
      "\r",
      " 67%|████████████████████████████████████████████████████████                            | 6/9 [00:01<00:00,  3.17it/s]"
     ]
    },
    {
     "name": "stdout",
     "output_type": "stream",
     "text": [
      "Getting Original Date\n",
      "Getting quots \n",
      "Ticker:  ann \n",
      "Date:  2007-04-04\n",
      "Quote Loaded\n"
     ]
    },
    {
     "name": "stderr",
     "output_type": "stream",
     "text": [
      "\r",
      " 78%|█████████████████████████████████████████████████████████████████▎                  | 7/9 [00:02<00:00,  3.30it/s]"
     ]
    },
    {
     "name": "stdout",
     "output_type": "stream",
     "text": [
      "Getting Original Date\n",
      "Getting quots \n",
      "Ticker:  ann \n",
      "Date:  2008-12-10\n",
      "Quote Loaded\n"
     ]
    },
    {
     "name": "stderr",
     "output_type": "stream",
     "text": [
      "\r",
      " 89%|██████████████████████████████████████████████████████████████████████████▋         | 8/9 [00:02<00:00,  3.12it/s]"
     ]
    },
    {
     "name": "stdout",
     "output_type": "stream",
     "text": [
      "Getting Original Date\n",
      "Pointing Date is -  6 (Day of the week)\n",
      "Checking Next Day\n",
      "Getting quots \n",
      "Ticker:  ann \n",
      "Date:  2013-05-14\n",
      "Quote Loaded\n"
     ]
    },
    {
     "name": "stderr",
     "output_type": "stream",
     "text": [
      "100%|████████████████████████████████████████████████████████████████████████████████████| 9/9 [00:02<00:00,  3.12it/s]\n"
     ]
    },
    {
     "name": "stdout",
     "output_type": "stream",
     "text": [
      "Will save to file:  PriceVsSNP500_ann.csv\n",
      "Getting Stock Price Data...\n"
     ]
    },
    {
     "name": "stderr",
     "output_type": "stream",
     "text": [
      "\r",
      "  0%|                                                                                           | 0/26 [00:00<?, ?it/s]"
     ]
    },
    {
     "name": "stdout",
     "output_type": "stream",
     "text": [
      "Getting Original Date\n",
      "Getting quots \n",
      "Ticker:  amat \n",
      "Date:  2003-10-28\n",
      "Quote Loaded\n"
     ]
    },
    {
     "name": "stderr",
     "output_type": "stream",
     "text": [
      "\r",
      "  4%|███▏                                                                               | 1/26 [00:00<00:08,  3.10it/s]"
     ]
    },
    {
     "name": "stdout",
     "output_type": "stream",
     "text": [
      "Getting Original Date\n",
      "Getting quots \n",
      "Ticker:  amat \n",
      "Date:  2004-04-23\n",
      "Quote Loaded\n"
     ]
    },
    {
     "name": "stderr",
     "output_type": "stream",
     "text": [
      "\r",
      "  8%|██████▍                                                                            | 2/26 [00:00<00:06,  3.67it/s]"
     ]
    },
    {
     "name": "stdout",
     "output_type": "stream",
     "text": [
      "Getting Original Date\n",
      "Pointing Date is -  6 (Day of the week)\n",
      "Checking Next Day\n",
      "Getting quots \n",
      "Ticker:  amat \n",
      "Date:  2004-06-21\n",
      "Quote Loaded\n"
     ]
    },
    {
     "name": "stderr",
     "output_type": "stream",
     "text": [
      "\r",
      " 12%|█████████▌                                                                         | 3/26 [00:00<00:06,  3.41it/s]"
     ]
    },
    {
     "name": "stdout",
     "output_type": "stream",
     "text": [
      "Getting Original Date\n",
      "Getting quots \n",
      "Ticker:  amat \n",
      "Date:  2004-09-16\n",
      "Quote Loaded\n"
     ]
    },
    {
     "name": "stderr",
     "output_type": "stream",
     "text": [
      "\r",
      " 15%|████████████▊                                                                      | 4/26 [00:01<00:06,  3.62it/s]"
     ]
    },
    {
     "name": "stdout",
     "output_type": "stream",
     "text": [
      "Getting Original Date\n",
      "Getting quots \n",
      "Ticker:  amat \n",
      "Date:  2004-10-18\n",
      "Quote Loaded\n"
     ]
    },
    {
     "name": "stderr",
     "output_type": "stream",
     "text": [
      "\r",
      " 19%|███████████████▉                                                                   | 5/26 [00:01<00:05,  3.75it/s]"
     ]
    },
    {
     "name": "stdout",
     "output_type": "stream",
     "text": [
      "Getting Original Date\n",
      "Getting quots \n",
      "Ticker:  amat \n",
      "Date:  2004-12-09\n",
      "Quote Loaded\n"
     ]
    },
    {
     "name": "stderr",
     "output_type": "stream",
     "text": [
      "\r",
      " 23%|███████████████████▏                                                               | 6/26 [00:01<00:05,  3.66it/s]"
     ]
    },
    {
     "name": "stdout",
     "output_type": "stream",
     "text": [
      "Getting Original Date\n",
      "Getting quots \n",
      "Ticker:  amat \n",
      "Date:  2006-04-21\n",
      "Quote Loaded\n"
     ]
    },
    {
     "name": "stderr",
     "output_type": "stream",
     "text": [
      "\r",
      " 27%|██████████████████████▎                                                            | 7/26 [00:01<00:05,  3.60it/s]"
     ]
    },
    {
     "name": "stdout",
     "output_type": "stream",
     "text": [
      "Getting Original Date\n",
      "Pointing Date is -  5 (Day of the week)\n",
      "Checking Next Day\n",
      "Pointing Date is -  6 (Day of the week)\n",
      "Checking Next Day\n",
      "Getting quots \n",
      "Ticker:  amat \n",
      "Date:  2006-07-25\n",
      "Quote Loaded\n"
     ]
    },
    {
     "name": "stderr",
     "output_type": "stream",
     "text": [
      "\r",
      " 31%|█████████████████████████▌                                                         | 8/26 [00:02<00:05,  3.50it/s]"
     ]
    },
    {
     "name": "stdout",
     "output_type": "stream",
     "text": [
      "Getting Original Date\n",
      "Getting quots \n",
      "Ticker:  amat \n",
      "Date:  2006-08-15\n",
      "Quote Loaded\n"
     ]
    },
    {
     "name": "stderr",
     "output_type": "stream",
     "text": [
      "\r",
      " 35%|████████████████████████████▋                                                      | 9/26 [00:02<00:04,  3.50it/s]"
     ]
    },
    {
     "name": "stdout",
     "output_type": "stream",
     "text": [
      "Getting Original Date\n",
      "Getting quots \n",
      "Ticker:  amat \n",
      "Date:  2006-08-16\n",
      "Quote Loaded\n"
     ]
    },
    {
     "name": "stderr",
     "output_type": "stream",
     "text": [
      "\r",
      " 38%|███████████████████████████████▌                                                  | 10/26 [00:02<00:04,  3.55it/s]"
     ]
    },
    {
     "name": "stdout",
     "output_type": "stream",
     "text": [
      "Getting Original Date\n",
      "Getting quots \n",
      "Ticker:  amat \n",
      "Date:  2006-08-29\n",
      "Quote Loaded\n"
     ]
    },
    {
     "name": "stderr",
     "output_type": "stream",
     "text": [
      "\r",
      " 42%|██████████████████████████████████▋                                               | 11/26 [00:03<00:04,  3.51it/s]"
     ]
    },
    {
     "name": "stdout",
     "output_type": "stream",
     "text": [
      "Getting Original Date\n",
      "Getting quots \n",
      "Ticker:  amat \n",
      "Date:  2007-01-11\n",
      "Quote Loaded\n"
     ]
    },
    {
     "name": "stderr",
     "output_type": "stream",
     "text": [
      "\r",
      " 46%|█████████████████████████████████████▊                                            | 12/26 [00:03<00:03,  3.57it/s]"
     ]
    },
    {
     "name": "stdout",
     "output_type": "stream",
     "text": [
      "Getting Original Date\n",
      "Getting quots \n",
      "Ticker:  amat \n",
      "Date:  2007-03-28\n",
      "Quote Loaded\n"
     ]
    },
    {
     "name": "stderr",
     "output_type": "stream",
     "text": [
      "\r",
      " 50%|█████████████████████████████████████████                                         | 13/26 [00:03<00:03,  3.53it/s]"
     ]
    },
    {
     "name": "stdout",
     "output_type": "stream",
     "text": [
      "Getting Original Date\n",
      "Getting quots \n",
      "Ticker:  amat \n",
      "Date:  2007-03-29\n",
      "Quote Loaded\n"
     ]
    },
    {
     "name": "stderr",
     "output_type": "stream",
     "text": [
      "\r",
      " 54%|████████████████████████████████████████████▏                                     | 14/26 [00:04<00:03,  3.44it/s]"
     ]
    },
    {
     "name": "stdout",
     "output_type": "stream",
     "text": [
      "Getting Original Date\n",
      "Cannot Get data from Quandl. Skipping this one\n",
      "Getting Original Date\n",
      "Getting quots \n",
      "Ticker:  amat \n",
      "Date:  2007-06-08\n",
      "Quote Loaded\n"
     ]
    },
    {
     "name": "stderr",
     "output_type": "stream",
     "text": [
      "\r",
      " 62%|██████████████████████████████████████████████████▍                               | 16/26 [00:04<00:02,  3.70it/s]"
     ]
    },
    {
     "name": "stdout",
     "output_type": "stream",
     "text": [
      "Getting Original Date\n",
      "Getting quots \n",
      "Ticker:  amat \n",
      "Date:  2008-01-23\n",
      "Quote Loaded\n"
     ]
    },
    {
     "name": "stderr",
     "output_type": "stream",
     "text": [
      "\r",
      " 65%|█████████████████████████████████████████████████████▌                            | 17/26 [00:04<00:02,  3.74it/s]"
     ]
    },
    {
     "name": "stdout",
     "output_type": "stream",
     "text": [
      "Getting Original Date\n",
      "Pointing Date is -  6 (Day of the week)\n",
      "Checking Next Day\n",
      "Getting quots \n",
      "Ticker:  amat \n",
      "Date:  2008-04-14\n",
      "Quote Loaded\n"
     ]
    },
    {
     "name": "stderr",
     "output_type": "stream",
     "text": [
      "\r",
      " 69%|████████████████████████████████████████████████████████▊                         | 18/26 [00:04<00:02,  3.74it/s]"
     ]
    },
    {
     "name": "stdout",
     "output_type": "stream",
     "text": [
      "Getting Original Date\n",
      "Getting quots \n",
      "Ticker:  amat \n",
      "Date:  2008-12-17\n",
      "Quote Loaded\n"
     ]
    },
    {
     "name": "stderr",
     "output_type": "stream",
     "text": [
      "\r",
      " 73%|███████████████████████████████████████████████████████████▉                      | 19/26 [00:05<00:01,  3.66it/s]"
     ]
    },
    {
     "name": "stdout",
     "output_type": "stream",
     "text": [
      "Getting Original Date\n",
      "Getting quots \n",
      "Ticker:  amat \n",
      "Date:  2009-02-02\n",
      "Quote Loaded\n"
     ]
    },
    {
     "name": "stderr",
     "output_type": "stream",
     "text": [
      "\r",
      " 77%|███████████████████████████████████████████████████████████████                   | 20/26 [00:05<00:01,  3.70it/s]"
     ]
    },
    {
     "name": "stdout",
     "output_type": "stream",
     "text": [
      "Getting Original Date\n",
      "Pointing Date is -  6 (Day of the week)\n",
      "Checking Next Day\n",
      "Getting quots \n",
      "Ticker:  amat \n",
      "Date:  2011-09-27\n",
      "Quote Loaded\n"
     ]
    },
    {
     "name": "stderr",
     "output_type": "stream",
     "text": [
      "\r",
      " 81%|██████████████████████████████████████████████████████████████████▏               | 21/26 [00:05<00:01,  3.62it/s]"
     ]
    },
    {
     "name": "stdout",
     "output_type": "stream",
     "text": [
      "Getting Original Date\n",
      "Getting quots \n",
      "Ticker:  amat \n",
      "Date:  2012-09-18\n",
      "Quote Loaded\n"
     ]
    },
    {
     "name": "stderr",
     "output_type": "stream",
     "text": [
      "\r",
      " 85%|█████████████████████████████████████████████████████████████████████▍            | 22/26 [00:06<00:01,  3.61it/s]"
     ]
    },
    {
     "name": "stdout",
     "output_type": "stream",
     "text": [
      "Getting Original Date\n",
      "Getting quots \n",
      "Ticker:  amat \n",
      "Date:  2012-10-17\n",
      "Quote Loaded\n"
     ]
    },
    {
     "name": "stderr",
     "output_type": "stream",
     "text": [
      "\r",
      " 88%|████████████████████████████████████████████████████████████████████████▌         | 23/26 [00:06<00:00,  3.61it/s]"
     ]
    },
    {
     "name": "stdout",
     "output_type": "stream",
     "text": [
      "Getting Original Date\n",
      "Getting quots \n",
      "Ticker:  amat \n",
      "Date:  2013-02-06\n",
      "Quote Loaded\n"
     ]
    },
    {
     "name": "stderr",
     "output_type": "stream",
     "text": [
      "\r",
      " 92%|███████████████████████████████████████████████████████████████████████████▋      | 24/26 [00:06<00:00,  3.58it/s]"
     ]
    },
    {
     "name": "stdout",
     "output_type": "stream",
     "text": [
      "Getting Original Date\n",
      "Getting quots \n",
      "Ticker:  amat \n",
      "Date:  2013-04-25\n",
      "Quote Loaded\n"
     ]
    },
    {
     "name": "stderr",
     "output_type": "stream",
     "text": [
      "\r",
      " 96%|██████████████████████████████████████████████████████████████████████████████▊   | 25/26 [00:06<00:00,  3.61it/s]"
     ]
    },
    {
     "name": "stdout",
     "output_type": "stream",
     "text": [
      "Getting Original Date\n",
      "Getting quots \n",
      "Ticker:  amat \n",
      "Date:  2013-04-26\n",
      "Quote Loaded\n"
     ]
    },
    {
     "name": "stderr",
     "output_type": "stream",
     "text": [
      "100%|██████████████████████████████████████████████████████████████████████████████████| 26/26 [00:07<00:00,  3.60it/s]\n"
     ]
    },
    {
     "name": "stdout",
     "output_type": "stream",
     "text": [
      "Will save to file:  PriceVsSNP500_amat.csv\n",
      "Getting Stock Price Data...\n"
     ]
    },
    {
     "name": "stderr",
     "output_type": "stream",
     "text": [
      "\r",
      "  0%|                                                                                           | 0/16 [00:00<?, ?it/s]"
     ]
    },
    {
     "name": "stdout",
     "output_type": "stream",
     "text": [
      "Getting Original Date\n",
      "Pointing Date is -  6 (Day of the week)\n",
      "Checking Next Day\n",
      "Getting quots \n",
      "Ticker:  abc \n",
      "Date:  2003-10-28\n",
      "Quote Loaded\n"
     ]
    },
    {
     "name": "stderr",
     "output_type": "stream",
     "text": [
      "\r",
      "  6%|█████▏                                                                             | 1/16 [00:00<00:03,  4.36it/s]"
     ]
    },
    {
     "name": "stdout",
     "output_type": "stream",
     "text": [
      "Getting Original Date\n",
      "Getting quots \n",
      "Ticker:  abc \n",
      "Date:  2004-01-28\n",
      "Quote Loaded\n"
     ]
    },
    {
     "name": "stderr",
     "output_type": "stream",
     "text": [
      "\r",
      " 12%|██████████▍                                                                        | 2/16 [00:00<00:03,  3.54it/s]"
     ]
    },
    {
     "name": "stdout",
     "output_type": "stream",
     "text": [
      "Getting Original Date\n",
      "Pointing Date is -  6 (Day of the week)\n",
      "Checking Next Day\n",
      "Getting quots \n",
      "Ticker:  abc \n",
      "Date:  2004-05-18\n",
      "Quote Loaded\n"
     ]
    },
    {
     "name": "stderr",
     "output_type": "stream",
     "text": [
      "\r",
      " 19%|███████████████▌                                                                   | 3/16 [00:00<00:04,  3.06it/s]"
     ]
    },
    {
     "name": "stdout",
     "output_type": "stream",
     "text": [
      "Getting Original Date\n",
      "Getting quots \n",
      "Ticker:  abc \n",
      "Date:  2004-10-20\n",
      "Quote Loaded\n"
     ]
    },
    {
     "name": "stderr",
     "output_type": "stream",
     "text": [
      "\r",
      " 25%|████████████████████▊                                                              | 4/16 [00:01<00:03,  3.32it/s]"
     ]
    },
    {
     "name": "stdout",
     "output_type": "stream",
     "text": [
      "Getting Original Date\n",
      "Pointing Date is -  5 (Day of the week)\n",
      "Checking Next Day\n",
      "Pointing Date is -  6 (Day of the week)\n",
      "Checking Next Day\n",
      "Getting quots \n",
      "Ticker:  abc \n",
      "Date:  2005-01-11\n",
      "Quote Loaded\n"
     ]
    },
    {
     "name": "stderr",
     "output_type": "stream",
     "text": [
      "\r",
      " 31%|█████████████████████████▉                                                         | 5/16 [00:01<00:03,  3.25it/s]"
     ]
    },
    {
     "name": "stdout",
     "output_type": "stream",
     "text": [
      "Getting Original Date\n",
      "Getting quots \n",
      "Ticker:  abc \n",
      "Date:  2005-03-30\n",
      "Quote Loaded\n"
     ]
    },
    {
     "name": "stderr",
     "output_type": "stream",
     "text": [
      "\r",
      " 38%|███████████████████████████████▏                                                   | 6/16 [00:01<00:03,  3.26it/s]"
     ]
    },
    {
     "name": "stdout",
     "output_type": "stream",
     "text": [
      "Getting Original Date\n",
      "Getting quots \n",
      "Ticker:  abc \n",
      "Date:  2005-05-26\n",
      "Quote Loaded\n"
     ]
    },
    {
     "name": "stderr",
     "output_type": "stream",
     "text": [
      "\r",
      " 44%|████████████████████████████████████▎                                              | 7/16 [00:02<00:02,  3.34it/s]"
     ]
    },
    {
     "name": "stdout",
     "output_type": "stream",
     "text": [
      "Getting Original Date\n",
      "Pointing Date is -  6 (Day of the week)\n",
      "Checking Next Day\n",
      "Getting quots \n",
      "Ticker:  abc \n",
      "Date:  2005-12-05\n",
      "Quote Loaded\n"
     ]
    },
    {
     "name": "stderr",
     "output_type": "stream",
     "text": [
      "\r",
      " 50%|█████████████████████████████████████████▌                                         | 8/16 [00:02<00:02,  3.33it/s]"
     ]
    },
    {
     "name": "stdout",
     "output_type": "stream",
     "text": [
      "Getting Original Date\n",
      "Getting quots \n",
      "Ticker:  abc \n",
      "Date:  2007-02-20\n",
      "Quote Loaded\n"
     ]
    },
    {
     "name": "stderr",
     "output_type": "stream",
     "text": [
      "\r",
      " 56%|██████████████████████████████████████████████▋                                    | 9/16 [00:02<00:02,  3.41it/s]"
     ]
    },
    {
     "name": "stdout",
     "output_type": "stream",
     "text": [
      "Getting Original Date\n",
      "Getting quots \n",
      "Ticker:  abc \n",
      "Date:  2007-04-05\n",
      "Quote Loaded\n"
     ]
    },
    {
     "name": "stderr",
     "output_type": "stream",
     "text": [
      "\r",
      " 62%|███████████████████████████████████████████████████▎                              | 10/16 [00:02<00:01,  3.40it/s]"
     ]
    },
    {
     "name": "stdout",
     "output_type": "stream",
     "text": [
      "Getting Original Date\n",
      "Getting quots \n",
      "Ticker:  abc \n",
      "Date:  2008-01-23\n",
      "Quote Loaded\n"
     ]
    },
    {
     "name": "stderr",
     "output_type": "stream",
     "text": [
      "\r",
      " 69%|████████████████████████████████████████████████████████▍                         | 11/16 [00:03<00:01,  3.35it/s]"
     ]
    },
    {
     "name": "stdout",
     "output_type": "stream",
     "text": [
      "Getting Original Date\n",
      "Getting quots \n",
      "Ticker:  abc \n",
      "Date:  2009-02-09\n",
      "Quote Loaded\n"
     ]
    },
    {
     "name": "stderr",
     "output_type": "stream",
     "text": [
      "\r",
      " 75%|█████████████████████████████████████████████████████████████▌                    | 12/16 [00:03<00:01,  3.34it/s]"
     ]
    },
    {
     "name": "stdout",
     "output_type": "stream",
     "text": [
      "Getting Original Date\n",
      "Pointing Date is -  5 (Day of the week)\n",
      "Checking Next Day\n",
      "Pointing Date is -  6 (Day of the week)\n",
      "Checking Next Day\n",
      "Getting quots \n",
      "Ticker:  abc \n",
      "Date:  2010-08-24\n",
      "Quote Loaded\n"
     ]
    },
    {
     "name": "stderr",
     "output_type": "stream",
     "text": [
      "\r",
      " 81%|██████████████████████████████████████████████████████████████████▋               | 13/16 [00:04<00:00,  3.18it/s]"
     ]
    },
    {
     "name": "stdout",
     "output_type": "stream",
     "text": [
      "Getting Original Date\n",
      "Getting quots \n",
      "Ticker:  abc \n",
      "Date:  2011-07-08\n",
      "Quote Loaded\n"
     ]
    },
    {
     "name": "stderr",
     "output_type": "stream",
     "text": [
      "\r",
      " 88%|███████████████████████████████████████████████████████████████████████▊          | 14/16 [00:04<00:00,  3.24it/s]"
     ]
    },
    {
     "name": "stdout",
     "output_type": "stream",
     "text": [
      "Getting Original Date\n",
      "Getting quots \n",
      "Ticker:  abc \n",
      "Date:  2012-02-28\n",
      "Quote Loaded\n"
     ]
    },
    {
     "name": "stderr",
     "output_type": "stream",
     "text": [
      "\r",
      " 94%|████████████████████████████████████████████████████████████████████████████▉     | 15/16 [00:04<00:00,  3.28it/s]"
     ]
    },
    {
     "name": "stdout",
     "output_type": "stream",
     "text": [
      "Getting Original Date\n",
      "Getting quots \n",
      "Ticker:  abc \n",
      "Date:  2013-04-25\n",
      "Quote Loaded\n"
     ]
    },
    {
     "name": "stderr",
     "output_type": "stream",
     "text": [
      "100%|██████████████████████████████████████████████████████████████████████████████████| 16/16 [00:04<00:00,  3.27it/s]\n"
     ]
    },
    {
     "name": "stdout",
     "output_type": "stream",
     "text": [
      "Will save to file:  PriceVsSNP500_abc.csv\n",
      "Getting Stock Price Data...\n"
     ]
    },
    {
     "name": "stderr",
     "output_type": "stream",
     "text": [
      "\r",
      "  0%|                                                                                           | 0/32 [00:00<?, ?it/s]"
     ]
    },
    {
     "name": "stdout",
     "output_type": "stream",
     "text": [
      "Getting Original Date\n",
      "Getting quots \n",
      "Ticker:  aa \n",
      "Date:  2004-04-13\n",
      "Wrong Day, Cheching Next\n",
      "Wrong Day, Cheching Next\n",
      "Wrong Day, Cheching Next\n",
      "Wrong Day, Cheching Next\n",
      "Wrong Day, Cheching Next\n",
      "Wrong Day, Cheching Next\n",
      "Wrong Day, Cheching Next\n",
      "Wrong Day, Cheching Next\n",
      "Wrong Day, Cheching Next\n",
      "Wrong Day, Cheching Next\n",
      "Reached Limit amount of tries\n",
      "Cannot Get data from Quandl. Skipping this one\n"
     ]
    },
    {
     "name": "stderr",
     "output_type": "stream",
     "text": [
      "\r",
      "  3%|██▌                                                                                | 1/32 [00:02<01:23,  2.69s/it]"
     ]
    },
    {
     "name": "stdout",
     "output_type": "stream",
     "text": [
      "Getting Original Date\n",
      "Getting quots \n",
      "Ticker:  aa \n",
      "Date:  2004-09-09\n",
      "Wrong Day, Cheching Next\n",
      "Wrong Day, Cheching Next\n",
      "Wrong Day, Cheching Next\n",
      "Wrong Day, Cheching Next\n",
      "Wrong Day, Cheching Next\n",
      "Wrong Day, Cheching Next\n",
      "Wrong Day, Cheching Next\n",
      "Wrong Day, Cheching Next\n",
      "Wrong Day, Cheching Next\n",
      "Wrong Day, Cheching Next\n",
      "Reached Limit amount of tries\n",
      "Cannot Get data from Quandl. Skipping this one\n"
     ]
    },
    {
     "name": "stderr",
     "output_type": "stream",
     "text": [
      "\r",
      "  6%|█████▏                                                                             | 2/32 [00:05<01:16,  2.55s/it]"
     ]
    },
    {
     "name": "stdout",
     "output_type": "stream",
     "text": [
      "Getting Original Date\n",
      "Getting quots \n",
      "Ticker:  aa \n",
      "Date:  2004-11-24\n",
      "Wrong Day, Cheching Next\n",
      "Wrong Day, Cheching Next\n",
      "Wrong Day, Cheching Next\n",
      "Wrong Day, Cheching Next\n",
      "Wrong Day, Cheching Next\n",
      "Wrong Day, Cheching Next\n",
      "Wrong Day, Cheching Next\n",
      "Wrong Day, Cheching Next\n",
      "Wrong Day, Cheching Next\n",
      "Wrong Day, Cheching Next\n",
      "Reached Limit amount of tries\n",
      "Cannot Get data from Quandl. Skipping this one\n"
     ]
    },
    {
     "name": "stderr",
     "output_type": "stream",
     "text": [
      "\r",
      "  9%|███████▊                                                                           | 3/32 [00:07<01:12,  2.49s/it]"
     ]
    },
    {
     "name": "stdout",
     "output_type": "stream",
     "text": [
      "Getting Original Date\n",
      "Pointing Date is -  6 (Day of the week)\n",
      "Checking Next Day\n",
      "Getting quots \n",
      "Ticker:  aa \n",
      "Date:  2004-12-06\n",
      "Wrong Day, Cheching Next\n",
      "Wrong Day, Cheching Next\n",
      "Wrong Day, Cheching Next\n",
      "Wrong Day, Cheching Next\n",
      "Wrong Day, Cheching Next\n",
      "Wrong Day, Cheching Next\n",
      "Wrong Day, Cheching Next\n",
      "Wrong Day, Cheching Next\n",
      "Wrong Day, Cheching Next\n",
      "Wrong Day, Cheching Next\n",
      "Reached Limit amount of tries\n",
      "Cannot Get data from Quandl. Skipping this one\n"
     ]
    },
    {
     "name": "stderr",
     "output_type": "stream",
     "text": [
      "\r",
      " 12%|██████████▍                                                                        | 4/32 [00:10<01:12,  2.58s/it]"
     ]
    },
    {
     "name": "stdout",
     "output_type": "stream",
     "text": [
      "Getting Original Date\n",
      "Getting quots \n",
      "Ticker:  aa \n",
      "Date:  2005-01-13\n",
      "Wrong Day, Cheching Next\n",
      "Wrong Day, Cheching Next\n",
      "Wrong Day, Cheching Next\n",
      "Wrong Day, Cheching Next\n",
      "Wrong Day, Cheching Next\n",
      "Wrong Day, Cheching Next\n",
      "Wrong Day, Cheching Next\n",
      "Wrong Day, Cheching Next\n",
      "Wrong Day, Cheching Next\n",
      "Wrong Day, Cheching Next\n",
      "Reached Limit amount of tries\n",
      "Cannot Get data from Quandl. Skipping this one\n"
     ]
    },
    {
     "name": "stderr",
     "output_type": "stream",
     "text": [
      "\r",
      " 16%|████████████▉                                                                      | 5/32 [00:12<01:09,  2.59s/it]"
     ]
    },
    {
     "name": "stdout",
     "output_type": "stream",
     "text": [
      "Getting Original Date\n",
      "Getting quots \n",
      "Ticker:  aa \n",
      "Date:  2005-02-07\n",
      "Wrong Day, Cheching Next\n",
      "Wrong Day, Cheching Next\n",
      "Wrong Day, Cheching Next\n",
      "Wrong Day, Cheching Next\n",
      "Wrong Day, Cheching Next\n",
      "Wrong Day, Cheching Next\n",
      "Wrong Day, Cheching Next\n",
      "Wrong Day, Cheching Next\n",
      "Wrong Day, Cheching Next\n",
      "Wrong Day, Cheching Next\n",
      "Reached Limit amount of tries\n",
      "Cannot Get data from Quandl. Skipping this one\n"
     ]
    },
    {
     "name": "stderr",
     "output_type": "stream",
     "text": [
      "\r",
      " 19%|███████████████▌                                                                   | 6/32 [00:15<01:09,  2.65s/it]"
     ]
    },
    {
     "name": "stdout",
     "output_type": "stream",
     "text": [
      "Getting Original Date\n",
      "Pointing Date is -  6 (Day of the week)\n",
      "Checking Next Day\n",
      "Getting quots \n",
      "Ticker:  aa \n",
      "Date:  2005-05-23\n",
      "Wrong Day, Cheching Next\n",
      "Wrong Day, Cheching Next\n",
      "Wrong Day, Cheching Next\n",
      "Wrong Day, Cheching Next\n",
      "Wrong Day, Cheching Next\n",
      "Wrong Day, Cheching Next\n",
      "Wrong Day, Cheching Next\n",
      "Wrong Day, Cheching Next\n",
      "Wrong Day, Cheching Next\n",
      "Wrong Day, Cheching Next\n",
      "Reached Limit amount of tries\n",
      "Cannot Get data from Quandl. Skipping this one\n"
     ]
    },
    {
     "name": "stderr",
     "output_type": "stream",
     "text": [
      "\r",
      " 22%|██████████████████▏                                                                | 7/32 [00:18<01:06,  2.66s/it]"
     ]
    },
    {
     "name": "stdout",
     "output_type": "stream",
     "text": [
      "Getting Original Date\n",
      "Getting quots \n",
      "Ticker:  aa \n",
      "Date:  2006-06-20\n",
      "Wrong Day, Cheching Next\n",
      "Wrong Day, Cheching Next\n",
      "Wrong Day, Cheching Next\n",
      "Wrong Day, Cheching Next\n",
      "Wrong Day, Cheching Next\n",
      "Wrong Day, Cheching Next\n",
      "Wrong Day, Cheching Next\n",
      "Wrong Day, Cheching Next\n",
      "Wrong Day, Cheching Next\n",
      "Wrong Day, Cheching Next\n",
      "Reached Limit amount of tries\n",
      "Cannot Get data from Quandl. Skipping this one\n"
     ]
    },
    {
     "name": "stderr",
     "output_type": "stream",
     "text": [
      "\r",
      " 25%|████████████████████▊                                                              | 8/32 [00:22<01:08,  2.86s/it]"
     ]
    },
    {
     "name": "stdout",
     "output_type": "stream",
     "text": [
      "Getting Original Date\n",
      "Getting quots \n",
      "Ticker:  aa \n",
      "Date:  2007-01-25\n",
      "Wrong Day, Cheching Next\n",
      "Wrong Day, Cheching Next\n",
      "Wrong Day, Cheching Next\n",
      "Wrong Day, Cheching Next\n",
      "Wrong Day, Cheching Next\n",
      "Wrong Day, Cheching Next\n",
      "Wrong Day, Cheching Next\n",
      "Wrong Day, Cheching Next\n",
      "Wrong Day, Cheching Next\n",
      "Wrong Day, Cheching Next\n",
      "Reached Limit amount of tries\n",
      "Cannot Get data from Quandl. Skipping this one\n"
     ]
    },
    {
     "name": "stderr",
     "output_type": "stream",
     "text": [
      "\r",
      " 28%|███████████████████████▎                                                           | 9/32 [00:25<01:05,  2.83s/it]"
     ]
    },
    {
     "name": "stdout",
     "output_type": "stream",
     "text": [
      "Getting Original Date\n",
      "Getting quots \n",
      "Ticker:  aa \n",
      "Date:  2007-02-23\n",
      "Wrong Day, Cheching Next\n",
      "Wrong Day, Cheching Next\n",
      "Wrong Day, Cheching Next\n",
      "Wrong Day, Cheching Next\n",
      "Wrong Day, Cheching Next\n",
      "Wrong Day, Cheching Next\n",
      "Wrong Day, Cheching Next\n",
      "Wrong Day, Cheching Next\n",
      "Wrong Day, Cheching Next\n",
      "Wrong Day, Cheching Next\n",
      "Reached Limit amount of tries\n",
      "Cannot Get data from Quandl. Skipping this one\n"
     ]
    },
    {
     "name": "stderr",
     "output_type": "stream",
     "text": [
      "\r",
      " 31%|█████████████████████████▋                                                        | 10/32 [00:28<01:01,  2.81s/it]"
     ]
    },
    {
     "name": "stdout",
     "output_type": "stream",
     "text": [
      "Getting Original Date\n",
      "Getting quots \n",
      "Ticker:  aa \n",
      "Date:  2007-05-16\n",
      "Wrong Day, Cheching Next\n",
      "Wrong Day, Cheching Next\n",
      "Wrong Day, Cheching Next\n",
      "Wrong Day, Cheching Next\n",
      "Wrong Day, Cheching Next\n",
      "Wrong Day, Cheching Next\n",
      "Wrong Day, Cheching Next\n",
      "Wrong Day, Cheching Next\n",
      "Wrong Day, Cheching Next\n",
      "Wrong Day, Cheching Next\n",
      "Reached Limit amount of tries\n",
      "Cannot Get data from Quandl. Skipping this one\n"
     ]
    },
    {
     "name": "stderr",
     "output_type": "stream",
     "text": [
      "\r",
      " 34%|████████████████████████████▏                                                     | 11/32 [00:30<00:58,  2.78s/it]"
     ]
    },
    {
     "name": "stdout",
     "output_type": "stream",
     "text": [
      "Getting Original Date\n",
      "Getting quots \n",
      "Ticker:  aa \n",
      "Date:  2007-06-22\n",
      "Wrong Day, Cheching Next\n",
      "Wrong Day, Cheching Next\n",
      "Wrong Day, Cheching Next\n",
      "Wrong Day, Cheching Next\n",
      "Wrong Day, Cheching Next\n",
      "Wrong Day, Cheching Next\n",
      "Wrong Day, Cheching Next\n",
      "Wrong Day, Cheching Next\n",
      "Wrong Day, Cheching Next\n",
      "Wrong Day, Cheching Next\n",
      "Reached Limit amount of tries\n",
      "Cannot Get data from Quandl. Skipping this one\n"
     ]
    },
    {
     "name": "stderr",
     "output_type": "stream",
     "text": [
      "\r",
      " 38%|██████████████████████████████▊                                                   | 12/32 [00:33<00:55,  2.76s/it]"
     ]
    },
    {
     "name": "stdout",
     "output_type": "stream",
     "text": [
      "Getting Original Date\n",
      "Getting quots \n",
      "Ticker:  aa \n",
      "Date:  2007-10-11\n",
      "Wrong Day, Cheching Next\n",
      "Wrong Day, Cheching Next\n",
      "Wrong Day, Cheching Next\n",
      "Wrong Day, Cheching Next\n",
      "Wrong Day, Cheching Next\n",
      "Wrong Day, Cheching Next\n",
      "Wrong Day, Cheching Next\n",
      "Wrong Day, Cheching Next\n",
      "Wrong Day, Cheching Next\n",
      "Wrong Day, Cheching Next\n",
      "Reached Limit amount of tries\n",
      "Cannot Get data from Quandl. Skipping this one\n"
     ]
    },
    {
     "name": "stderr",
     "output_type": "stream",
     "text": [
      "\r",
      " 41%|█████████████████████████████████▎                                                | 13/32 [00:35<00:51,  2.72s/it]"
     ]
    },
    {
     "name": "stdout",
     "output_type": "stream",
     "text": [
      "Getting Original Date\n",
      "Getting quots \n",
      "Ticker:  aa \n",
      "Date:  2008-01-23\n",
      "Wrong Day, Cheching Next\n",
      "Wrong Day, Cheching Next\n",
      "Wrong Day, Cheching Next\n",
      "Wrong Day, Cheching Next\n",
      "Wrong Day, Cheching Next\n",
      "Wrong Day, Cheching Next\n",
      "Wrong Day, Cheching Next\n",
      "Wrong Day, Cheching Next\n",
      "Wrong Day, Cheching Next\n",
      "Wrong Day, Cheching Next\n",
      "Reached Limit amount of tries\n",
      "Cannot Get data from Quandl. Skipping this one\n"
     ]
    },
    {
     "name": "stderr",
     "output_type": "stream",
     "text": [
      "\r",
      " 44%|███████████████████████████████████▉                                              | 14/32 [00:37<00:48,  2.70s/it]"
     ]
    },
    {
     "name": "stdout",
     "output_type": "stream",
     "text": [
      "Getting Original Date\n",
      "Getting quots \n",
      "Ticker:  aa \n",
      "Date:  2008-10-28\n",
      "Wrong Day, Cheching Next\n",
      "Wrong Day, Cheching Next\n",
      "Wrong Day, Cheching Next\n",
      "Wrong Day, Cheching Next\n",
      "Wrong Day, Cheching Next\n",
      "Wrong Day, Cheching Next\n",
      "Wrong Day, Cheching Next\n",
      "Wrong Day, Cheching Next\n",
      "Wrong Day, Cheching Next\n",
      "Wrong Day, Cheching Next\n",
      "Reached Limit amount of tries\n",
      "Cannot Get data from Quandl. Skipping this one\n"
     ]
    },
    {
     "name": "stderr",
     "output_type": "stream",
     "text": [
      "\r",
      " 47%|██████████████████████████████████████▍                                           | 15/32 [00:40<00:45,  2.69s/it]"
     ]
    },
    {
     "name": "stdout",
     "output_type": "stream",
     "text": [
      "Getting Original Date\n",
      "Getting quots \n",
      "Ticker:  aa \n",
      "Date:  2008-12-05\n",
      "Wrong Day, Cheching Next\n",
      "Wrong Day, Cheching Next\n",
      "Wrong Day, Cheching Next\n",
      "Wrong Day, Cheching Next\n",
      "Wrong Day, Cheching Next\n",
      "Wrong Day, Cheching Next\n",
      "Wrong Day, Cheching Next\n",
      "Wrong Day, Cheching Next\n",
      "Wrong Day, Cheching Next\n",
      "Wrong Day, Cheching Next\n",
      "Reached Limit amount of tries\n",
      "Cannot Get data from Quandl. Skipping this one\n"
     ]
    },
    {
     "name": "stderr",
     "output_type": "stream",
     "text": [
      "\r",
      " 50%|█████████████████████████████████████████                                         | 16/32 [00:42<00:42,  2.68s/it]"
     ]
    },
    {
     "name": "stdout",
     "output_type": "stream",
     "text": [
      "Getting Original Date\n",
      "Pointing Date is -  5 (Day of the week)\n",
      "Checking Next Day\n",
      "Pointing Date is -  6 (Day of the week)\n",
      "Checking Next Day\n",
      "Getting quots \n",
      "Ticker:  aa \n",
      "Date:  2008-12-09\n",
      "Wrong Day, Cheching Next\n",
      "Wrong Day, Cheching Next\n",
      "Wrong Day, Cheching Next\n",
      "Wrong Day, Cheching Next\n",
      "Wrong Day, Cheching Next\n",
      "Wrong Day, Cheching Next\n",
      "Wrong Day, Cheching Next\n",
      "Wrong Day, Cheching Next\n",
      "Wrong Day, Cheching Next\n",
      "Wrong Day, Cheching Next\n",
      "Reached Limit amount of tries\n",
      "Cannot Get data from Quandl. Skipping this one\n"
     ]
    },
    {
     "name": "stderr",
     "output_type": "stream",
     "text": [
      "\r",
      " 53%|███████████████████████████████████████████▌                                      | 17/32 [00:45<00:40,  2.70s/it]"
     ]
    },
    {
     "name": "stdout",
     "output_type": "stream",
     "text": [
      "Getting Original Date\n",
      "Getting quots \n",
      "Ticker:  aa \n",
      "Date:  2008-12-18\n",
      "Wrong Day, Cheching Next\n",
      "Wrong Day, Cheching Next\n",
      "Wrong Day, Cheching Next\n",
      "Wrong Day, Cheching Next\n",
      "Wrong Day, Cheching Next\n",
      "Wrong Day, Cheching Next\n",
      "Wrong Day, Cheching Next\n",
      "Wrong Day, Cheching Next\n",
      "Wrong Day, Cheching Next\n",
      "Wrong Day, Cheching Next\n",
      "Reached Limit amount of tries\n",
      "Cannot Get data from Quandl. Skipping this one\n"
     ]
    },
    {
     "name": "stderr",
     "output_type": "stream",
     "text": [
      "\r",
      " 56%|██████████████████████████████████████████████▏                                   | 18/32 [00:48<00:37,  2.69s/it]"
     ]
    },
    {
     "name": "stdout",
     "output_type": "stream",
     "text": [
      "Getting Original Date\n",
      "Getting quots \n",
      "Ticker:  aa \n",
      "Date:  2009-03-09\n",
      "Wrong Day, Cheching Next\n",
      "Wrong Day, Cheching Next\n",
      "Wrong Day, Cheching Next\n",
      "Wrong Day, Cheching Next\n",
      "Wrong Day, Cheching Next\n",
      "Wrong Day, Cheching Next\n",
      "Wrong Day, Cheching Next\n",
      "Wrong Day, Cheching Next\n",
      "Wrong Day, Cheching Next\n",
      "Wrong Day, Cheching Next\n",
      "Reached Limit amount of tries\n",
      "Cannot Get data from Quandl. Skipping this one\n"
     ]
    },
    {
     "name": "stderr",
     "output_type": "stream",
     "text": [
      "\r",
      " 59%|████████████████████████████████████████████████▋                                 | 19/32 [00:50<00:34,  2.68s/it]"
     ]
    },
    {
     "name": "stdout",
     "output_type": "stream",
     "text": [
      "Getting Original Date\n",
      "Pointing Date is -  5 (Day of the week)\n",
      "Checking Next Day\n",
      "Pointing Date is -  6 (Day of the week)\n",
      "Checking Next Day\n",
      "Getting quots \n",
      "Ticker:  aa \n",
      "Date:  2011-09-06\n",
      "Wrong Day, Cheching Next\n",
      "Wrong Day, Cheching Next\n",
      "Wrong Day, Cheching Next\n",
      "Wrong Day, Cheching Next\n",
      "Wrong Day, Cheching Next\n",
      "Wrong Day, Cheching Next\n",
      "Wrong Day, Cheching Next\n",
      "Wrong Day, Cheching Next\n",
      "Wrong Day, Cheching Next\n",
      "Wrong Day, Cheching Next\n",
      "Reached Limit amount of tries\n",
      "Cannot Get data from Quandl. Skipping this one\n"
     ]
    },
    {
     "name": "stderr",
     "output_type": "stream",
     "text": [
      "\r",
      " 62%|███████████████████████████████████████████████████▎                              | 20/32 [00:53<00:32,  2.69s/it]"
     ]
    },
    {
     "name": "stdout",
     "output_type": "stream",
     "text": [
      "Getting Original Date\n",
      "Getting quots \n",
      "Ticker:  aa \n",
      "Date:  2011-11-02\n",
      "Wrong Day, Cheching Next\n",
      "Wrong Day, Cheching Next\n",
      "Wrong Day, Cheching Next\n",
      "Wrong Day, Cheching Next\n",
      "Wrong Day, Cheching Next\n",
      "Wrong Day, Cheching Next\n",
      "Wrong Day, Cheching Next\n",
      "Wrong Day, Cheching Next\n",
      "Wrong Day, Cheching Next\n",
      "Wrong Day, Cheching Next\n",
      "Reached Limit amount of tries\n",
      "Cannot Get data from Quandl. Skipping this one\n"
     ]
    },
    {
     "name": "stderr",
     "output_type": "stream",
     "text": [
      "\r",
      " 66%|█████████████████████████████████████████████████████▊                            | 21/32 [00:56<00:29,  2.68s/it]"
     ]
    },
    {
     "name": "stdout",
     "output_type": "stream",
     "text": [
      "Getting Original Date\n",
      "Pointing Date is -  5 (Day of the week)\n",
      "Checking Next Day\n",
      "Getting quots \n",
      "Ticker:  aa \n",
      "Date:  2011-11-07\n",
      "Wrong Day, Cheching Next\n",
      "Wrong Day, Cheching Next\n",
      "Wrong Day, Cheching Next\n",
      "Wrong Day, Cheching Next\n",
      "Wrong Day, Cheching Next\n",
      "Wrong Day, Cheching Next\n",
      "Wrong Day, Cheching Next\n",
      "Wrong Day, Cheching Next\n",
      "Wrong Day, Cheching Next\n",
      "Wrong Day, Cheching Next\n",
      "Reached Limit amount of tries\n",
      "Cannot Get data from Quandl. Skipping this one\n"
     ]
    },
    {
     "name": "stderr",
     "output_type": "stream",
     "text": [
      "\r",
      " 69%|████████████████████████████████████████████████████████▍                         | 22/32 [00:59<00:26,  2.69s/it]"
     ]
    },
    {
     "name": "stdout",
     "output_type": "stream",
     "text": [
      "Getting Original Date\n",
      "Cannot Get data from Quandl. Skipping this one\n",
      "Getting Original Date\n",
      "Getting quots \n",
      "Ticker:  aa \n",
      "Date:  2012-03-09\n",
      "Wrong Day, Cheching Next\n",
      "Wrong Day, Cheching Next\n",
      "Wrong Day, Cheching Next\n",
      "Wrong Day, Cheching Next\n",
      "Wrong Day, Cheching Next\n",
      "Wrong Day, Cheching Next\n",
      "Wrong Day, Cheching Next\n",
      "Wrong Day, Cheching Next\n",
      "Wrong Day, Cheching Next\n",
      "Wrong Day, Cheching Next\n",
      "Reached Limit amount of tries\n",
      "Cannot Get data from Quandl. Skipping this one\n"
     ]
    },
    {
     "name": "stderr",
     "output_type": "stream",
     "text": [
      "\r",
      " 75%|█████████████████████████████████████████████████████████████▌                    | 24/32 [01:02<00:20,  2.59s/it]"
     ]
    },
    {
     "name": "stdout",
     "output_type": "stream",
     "text": [
      "Getting Original Date\n",
      "Getting quots \n",
      "Ticker:  aa \n",
      "Date:  2012-03-19\n",
      "Wrong Day, Cheching Next\n",
      "Wrong Day, Cheching Next\n",
      "Wrong Day, Cheching Next\n",
      "Wrong Day, Cheching Next\n",
      "Wrong Day, Cheching Next\n",
      "Wrong Day, Cheching Next\n",
      "Wrong Day, Cheching Next\n",
      "Wrong Day, Cheching Next\n",
      "Wrong Day, Cheching Next\n",
      "Wrong Day, Cheching Next\n",
      "Reached Limit amount of tries\n",
      "Cannot Get data from Quandl. Skipping this one\n"
     ]
    },
    {
     "name": "stderr",
     "output_type": "stream",
     "text": [
      "\r",
      " 78%|████████████████████████████████████████████████████████████████                  | 25/32 [01:04<00:18,  2.58s/it]"
     ]
    },
    {
     "name": "stdout",
     "output_type": "stream",
     "text": [
      "Getting Original Date\n",
      "Pointing Date is -  5 (Day of the week)\n",
      "Checking Next Day\n",
      "Pointing Date is -  6 (Day of the week)\n",
      "Checking Next Day\n",
      "Getting quots \n",
      "Ticker:  aa \n",
      "Date:  2012-05-22\n",
      "Wrong Day, Cheching Next\n",
      "Wrong Day, Cheching Next\n",
      "Wrong Day, Cheching Next\n",
      "Wrong Day, Cheching Next\n",
      "Wrong Day, Cheching Next\n",
      "Wrong Day, Cheching Next\n",
      "Wrong Day, Cheching Next\n",
      "Wrong Day, Cheching Next\n",
      "Wrong Day, Cheching Next\n",
      "Wrong Day, Cheching Next\n",
      "Reached Limit amount of tries\n",
      "Cannot Get data from Quandl. Skipping this one\n"
     ]
    },
    {
     "name": "stderr",
     "output_type": "stream",
     "text": [
      "\r",
      " 81%|██████████████████████████████████████████████████████████████████▋               | 26/32 [01:06<00:15,  2.58s/it]"
     ]
    },
    {
     "name": "stdout",
     "output_type": "stream",
     "text": [
      "Getting Original Date\n",
      "Pointing Date is -  6 (Day of the week)\n",
      "Checking Next Day\n",
      "Getting quots \n",
      "Ticker:  aa \n",
      "Date:  2012-07-31\n",
      "Wrong Day, Cheching Next\n",
      "Wrong Day, Cheching Next\n",
      "Wrong Day, Cheching Next\n",
      "Wrong Day, Cheching Next\n",
      "Wrong Day, Cheching Next\n",
      "Wrong Day, Cheching Next\n",
      "Wrong Day, Cheching Next\n",
      "Wrong Day, Cheching Next\n",
      "Wrong Day, Cheching Next\n",
      "Wrong Day, Cheching Next\n",
      "Reached Limit amount of tries\n",
      "Cannot Get data from Quandl. Skipping this one\n"
     ]
    },
    {
     "name": "stderr",
     "output_type": "stream",
     "text": [
      "\r",
      " 84%|█████████████████████████████████████████████████████████████████████▏            | 27/32 [01:09<00:12,  2.58s/it]"
     ]
    },
    {
     "name": "stdout",
     "output_type": "stream",
     "text": [
      "Getting Original Date\n",
      "Getting quots \n",
      "Ticker:  aa \n",
      "Date:  2012-11-27\n",
      "Wrong Day, Cheching Next\n",
      "Wrong Day, Cheching Next\n",
      "Wrong Day, Cheching Next\n",
      "Wrong Day, Cheching Next\n",
      "Wrong Day, Cheching Next\n",
      "Wrong Day, Cheching Next\n",
      "Wrong Day, Cheching Next\n",
      "Wrong Day, Cheching Next\n",
      "Wrong Day, Cheching Next\n",
      "Wrong Day, Cheching Next\n",
      "Reached Limit amount of tries\n",
      "Cannot Get data from Quandl. Skipping this one\n"
     ]
    },
    {
     "name": "stderr",
     "output_type": "stream",
     "text": [
      "\r",
      " 88%|███████████████████████████████████████████████████████████████████████▊          | 28/32 [01:12<00:10,  2.58s/it]"
     ]
    },
    {
     "name": "stdout",
     "output_type": "stream",
     "text": [
      "Getting Original Date\n",
      "Getting quots \n",
      "Ticker:  aa \n",
      "Date:  2013-01-22\n",
      "Wrong Day, Cheching Next\n",
      "Wrong Day, Cheching Next\n",
      "Wrong Day, Cheching Next\n",
      "Wrong Day, Cheching Next\n",
      "Wrong Day, Cheching Next\n",
      "Wrong Day, Cheching Next\n",
      "Wrong Day, Cheching Next\n",
      "Wrong Day, Cheching Next\n",
      "Wrong Day, Cheching Next\n",
      "Wrong Day, Cheching Next\n",
      "Reached Limit amount of tries\n",
      "Cannot Get data from Quandl. Skipping this one\n"
     ]
    },
    {
     "name": "stderr",
     "output_type": "stream",
     "text": [
      "\r",
      " 91%|██████████████████████████████████████████████████████████████████████████▎       | 29/32 [01:14<00:07,  2.58s/it]"
     ]
    },
    {
     "name": "stdout",
     "output_type": "stream",
     "text": [
      "Getting Original Date\n",
      "Getting quots \n",
      "Ticker:  aa \n",
      "Date:  2013-04-23\n",
      "Wrong Day, Cheching Next\n",
      "Wrong Day, Cheching Next\n",
      "Wrong Day, Cheching Next\n",
      "Wrong Day, Cheching Next\n",
      "Wrong Day, Cheching Next\n",
      "Wrong Day, Cheching Next\n",
      "Wrong Day, Cheching Next\n",
      "Wrong Day, Cheching Next\n",
      "Wrong Day, Cheching Next\n",
      "Wrong Day, Cheching Next\n",
      "Reached Limit amount of tries\n",
      "Cannot Get data from Quandl. Skipping this one\n"
     ]
    },
    {
     "name": "stderr",
     "output_type": "stream",
     "text": [
      "\r",
      " 94%|████████████████████████████████████████████████████████████████████████████▉     | 30/32 [01:17<00:05,  2.58s/it]"
     ]
    },
    {
     "name": "stdout",
     "output_type": "stream",
     "text": [
      "Getting Original Date\n",
      "Getting quots \n",
      "Ticker:  aa \n",
      "Date:  2013-04-26\n",
      "Wrong Day, Cheching Next\n",
      "Wrong Day, Cheching Next\n",
      "Wrong Day, Cheching Next\n",
      "Wrong Day, Cheching Next\n",
      "Wrong Day, Cheching Next\n",
      "Wrong Day, Cheching Next\n",
      "Wrong Day, Cheching Next\n",
      "Wrong Day, Cheching Next\n",
      "Wrong Day, Cheching Next\n",
      "Wrong Day, Cheching Next\n",
      "Reached Limit amount of tries\n",
      "Cannot Get data from Quandl. Skipping this one\n"
     ]
    },
    {
     "name": "stderr",
     "output_type": "stream",
     "text": [
      "\r",
      " 97%|███████████████████████████████████████████████████████████████████████████████▍  | 31/32 [01:19<00:02,  2.58s/it]"
     ]
    },
    {
     "name": "stdout",
     "output_type": "stream",
     "text": [
      "Getting Original Date\n",
      "Pointing Date is -  6 (Day of the week)\n",
      "Checking Next Day\n",
      "Cannot Get data from Quandl. Skipping this one\n"
     ]
    },
    {
     "name": "stderr",
     "output_type": "stream",
     "text": [
      "100%|██████████████████████████████████████████████████████████████████████████████████| 32/32 [01:19<00:00,  2.50s/it]\n"
     ]
    },
    {
     "name": "stdout",
     "output_type": "stream",
     "text": [
      "Will save to file:  PriceVsSNP500_aa.csv\n",
      "Getting Stock Price Data...\n"
     ]
    },
    {
     "name": "stderr",
     "output_type": "stream",
     "text": [
      "\r",
      "  0%|                                                                                           | 0/31 [00:00<?, ?it/s]"
     ]
    },
    {
     "name": "stdout",
     "output_type": "stream",
     "text": [
      "Getting Original Date\n",
      "Pointing Date is -  6 (Day of the week)\n",
      "Checking Next Day\n",
      "Cannot Get data from Quandl. Skipping this one\n",
      "Getting Original Date\n",
      "Getting quots \n",
      "Ticker:  aig \n",
      "Date:  2004-08-18\n",
      "Quote Loaded\n"
     ]
    },
    {
     "name": "stderr",
     "output_type": "stream",
     "text": [
      "\r",
      "  6%|█████▎                                                                             | 2/31 [00:00<00:05,  4.89it/s]"
     ]
    },
    {
     "name": "stdout",
     "output_type": "stream",
     "text": [
      "Getting Original Date\n",
      "Getting quots \n",
      "Ticker:  aig \n",
      "Date:  2005-01-18\n",
      "Quote Loaded\n"
     ]
    },
    {
     "name": "stderr",
     "output_type": "stream",
     "text": [
      "\r",
      " 10%|████████                                                                           | 3/31 [00:00<00:05,  4.72it/s]"
     ]
    },
    {
     "name": "stdout",
     "output_type": "stream",
     "text": [
      "Getting Original Date\n",
      "Getting quots \n",
      "Ticker:  aig \n",
      "Date:  2005-04-28\n",
      "Quote Loaded\n"
     ]
    },
    {
     "name": "stderr",
     "output_type": "stream",
     "text": [
      "\r",
      " 13%|██████████▋                                                                        | 4/31 [00:00<00:06,  4.25it/s]"
     ]
    },
    {
     "name": "stdout",
     "output_type": "stream",
     "text": [
      "Getting Original Date\n",
      "Pointing Date is -  5 (Day of the week)\n",
      "Checking Next Day\n",
      "Getting quots \n",
      "Ticker:  aig \n",
      "Date:  2006-01-09\n",
      "Quote Loaded\n"
     ]
    },
    {
     "name": "stderr",
     "output_type": "stream",
     "text": [
      "\r",
      " 16%|█████████████▍                                                                     | 5/31 [00:01<00:06,  4.09it/s]"
     ]
    },
    {
     "name": "stdout",
     "output_type": "stream",
     "text": [
      "Getting Original Date\n",
      "Pointing Date is -  5 (Day of the week)\n",
      "Checking Next Day\n",
      "Getting quots \n",
      "Ticker:  aig \n",
      "Date:  2006-06-19\n",
      "Quote Loaded\n"
     ]
    },
    {
     "name": "stderr",
     "output_type": "stream",
     "text": [
      "\r",
      " 19%|████████████████                                                                   | 6/31 [00:01<00:06,  4.00it/s]"
     ]
    },
    {
     "name": "stdout",
     "output_type": "stream",
     "text": [
      "Getting Original Date\n",
      "Getting quots \n",
      "Ticker:  aig \n",
      "Date:  2007-01-23\n",
      "Quote Loaded\n"
     ]
    },
    {
     "name": "stderr",
     "output_type": "stream",
     "text": [
      "\r",
      " 23%|██████████████████▋                                                                | 7/31 [00:01<00:06,  3.75it/s]"
     ]
    },
    {
     "name": "stdout",
     "output_type": "stream",
     "text": [
      "Getting Original Date\n",
      "Getting quots \n",
      "Ticker:  aig \n",
      "Date:  2007-03-15\n",
      "Quote Loaded\n"
     ]
    },
    {
     "name": "stderr",
     "output_type": "stream",
     "text": [
      "\r",
      " 26%|█████████████████████▍                                                             | 8/31 [00:02<00:06,  3.48it/s]"
     ]
    },
    {
     "name": "stdout",
     "output_type": "stream",
     "text": [
      "Getting Original Date\n",
      "Getting quots \n",
      "Ticker:  aig \n",
      "Date:  2007-05-04\n",
      "Quote Loaded\n"
     ]
    },
    {
     "name": "stderr",
     "output_type": "stream",
     "text": [
      "\r",
      " 29%|████████████████████████                                                           | 9/31 [00:02<00:06,  3.44it/s]"
     ]
    },
    {
     "name": "stdout",
     "output_type": "stream",
     "text": [
      "Getting Original Date\n",
      "Getting quots \n",
      "Ticker:  aig \n",
      "Date:  2007-06-05\n",
      "Quote Loaded\n"
     ]
    },
    {
     "name": "stderr",
     "output_type": "stream",
     "text": [
      "\r",
      " 32%|██████████████████████████▍                                                       | 10/31 [00:02<00:06,  3.36it/s]"
     ]
    },
    {
     "name": "stdout",
     "output_type": "stream",
     "text": [
      "Getting Original Date\n",
      "Getting quots \n",
      "Ticker:  aig \n",
      "Date:  2007-07-06\n",
      "Quote Loaded\n"
     ]
    },
    {
     "name": "stderr",
     "output_type": "stream",
     "text": [
      "\r",
      " 35%|█████████████████████████████                                                     | 11/31 [00:03<00:06,  3.26it/s]"
     ]
    },
    {
     "name": "stdout",
     "output_type": "stream",
     "text": [
      "Getting Original Date\n",
      "Getting quots \n",
      "Ticker:  aig \n",
      "Date:  2008-01-23\n",
      "Quote Loaded\n"
     ]
    },
    {
     "name": "stderr",
     "output_type": "stream",
     "text": [
      "\r",
      " 39%|███████████████████████████████▋                                                  | 12/31 [00:03<00:05,  3.25it/s]"
     ]
    },
    {
     "name": "stdout",
     "output_type": "stream",
     "text": [
      "Getting Original Date\n",
      "Getting quots \n",
      "Ticker:  aig \n",
      "Date:  2008-05-23\n",
      "Quote Loaded\n"
     ]
    },
    {
     "name": "stderr",
     "output_type": "stream",
     "text": [
      "\r",
      " 42%|██████████████████████████████████▍                                               | 13/31 [00:04<00:05,  3.22it/s]"
     ]
    },
    {
     "name": "stdout",
     "output_type": "stream",
     "text": [
      "Getting Original Date\n",
      "Pointing Date is -  6 (Day of the week)\n",
      "Checking Next Day\n",
      "Getting quots \n",
      "Ticker:  aig \n",
      "Date:  2008-09-22\n",
      "Quote Loaded\n"
     ]
    },
    {
     "name": "stderr",
     "output_type": "stream",
     "text": [
      "\r",
      " 45%|█████████████████████████████████████                                             | 14/31 [00:04<00:05,  3.19it/s]"
     ]
    },
    {
     "name": "stdout",
     "output_type": "stream",
     "text": [
      "Getting Original Date\n",
      "Getting quots \n",
      "Ticker:  aig \n",
      "Date:  2008-10-27\n",
      "Quote Loaded\n"
     ]
    },
    {
     "name": "stderr",
     "output_type": "stream",
     "text": [
      "\r",
      " 48%|███████████████████████████████████████▋                                          | 15/31 [00:04<00:04,  3.23it/s]"
     ]
    },
    {
     "name": "stdout",
     "output_type": "stream",
     "text": [
      "Getting Original Date\n",
      "Getting quots \n",
      "Ticker:  aig \n",
      "Date:  2008-12-17\n",
      "Quote Loaded\n"
     ]
    },
    {
     "name": "stderr",
     "output_type": "stream",
     "text": [
      "\r",
      " 52%|██████████████████████████████████████████▎                                       | 16/31 [00:04<00:04,  3.28it/s]"
     ]
    },
    {
     "name": "stdout",
     "output_type": "stream",
     "text": [
      "Getting Original Date\n",
      "Getting quots \n",
      "Ticker:  aig \n",
      "Date:  2008-12-19\n",
      "Quote Loaded\n"
     ]
    },
    {
     "name": "stderr",
     "output_type": "stream",
     "text": [
      "\r",
      " 55%|████████████████████████████████████████████▉                                     | 17/31 [00:05<00:04,  3.24it/s]"
     ]
    },
    {
     "name": "stdout",
     "output_type": "stream",
     "text": [
      "Getting Original Date\n",
      "Getting quots \n",
      "Ticker:  aig \n",
      "Date:  2009-01-06\n",
      "Quote Loaded\n"
     ]
    },
    {
     "name": "stderr",
     "output_type": "stream",
     "text": [
      "\r",
      " 58%|███████████████████████████████████████████████▌                                  | 18/31 [00:05<00:04,  3.21it/s]"
     ]
    },
    {
     "name": "stdout",
     "output_type": "stream",
     "text": [
      "Getting Original Date\n",
      "Getting quots \n",
      "Ticker:  aig \n",
      "Date:  2010-01-05\n",
      "Quote Loaded\n"
     ]
    },
    {
     "name": "stderr",
     "output_type": "stream",
     "text": [
      "\r",
      " 61%|██████████████████████████████████████████████████▎                               | 19/31 [00:05<00:03,  3.19it/s]"
     ]
    },
    {
     "name": "stdout",
     "output_type": "stream",
     "text": [
      "Getting Original Date\n",
      "Getting quots \n",
      "Ticker:  aig \n",
      "Date:  2011-04-29\n",
      "Quote Loaded\n"
     ]
    },
    {
     "name": "stderr",
     "output_type": "stream",
     "text": [
      "\r",
      " 65%|████████████████████████████████████████████████████▉                             | 20/31 [00:06<00:03,  3.16it/s]"
     ]
    },
    {
     "name": "stdout",
     "output_type": "stream",
     "text": [
      "Getting Original Date\n",
      "Getting quots \n",
      "Ticker:  aig \n",
      "Date:  2011-09-02\n",
      "Quote Loaded\n"
     ]
    },
    {
     "name": "stderr",
     "output_type": "stream",
     "text": [
      "\r",
      " 68%|███████████████████████████████████████████████████████▌                          | 21/31 [00:06<00:03,  3.20it/s]"
     ]
    },
    {
     "name": "stdout",
     "output_type": "stream",
     "text": [
      "Getting Original Date\n",
      "Getting quots \n",
      "Ticker:  aig \n",
      "Date:  2011-11-03\n",
      "Quote Loaded\n"
     ]
    },
    {
     "name": "stderr",
     "output_type": "stream",
     "text": [
      "\r",
      " 71%|██████████████████████████████████████████████████████████▏                       | 22/31 [00:06<00:02,  3.23it/s]"
     ]
    },
    {
     "name": "stdout",
     "output_type": "stream",
     "text": [
      "Getting Original Date\n",
      "Getting quots \n",
      "Ticker:  aig \n",
      "Date:  2011-11-04\n",
      "Quote Loaded\n"
     ]
    },
    {
     "name": "stderr",
     "output_type": "stream",
     "text": [
      "\r",
      " 74%|████████████████████████████████████████████████████████████▊                     | 23/31 [00:07<00:02,  3.23it/s]"
     ]
    },
    {
     "name": "stdout",
     "output_type": "stream",
     "text": [
      "Getting Original Date\n",
      "Cannot Get data from Quandl. Skipping this one\n",
      "Getting Original Date\n",
      "Pointing Date is -  5 (Day of the week)\n",
      "Checking Next Day\n",
      "Pointing Date is -  6 (Day of the week)\n",
      "Checking Next Day\n",
      "Getting quots \n",
      "Ticker:  aig \n",
      "Date:  2012-03-13\n",
      "Quote Loaded\n"
     ]
    },
    {
     "name": "stderr",
     "output_type": "stream",
     "text": [
      "\r",
      " 81%|██████████████████████████████████████████████████████████████████▏               | 25/31 [00:07<00:01,  3.34it/s]"
     ]
    },
    {
     "name": "stdout",
     "output_type": "stream",
     "text": [
      "Getting Original Date\n",
      "Pointing Date is -  6 (Day of the week)\n",
      "Checking Next Day\n",
      "Getting quots \n",
      "Ticker:  aig \n",
      "Date:  2012-07-03\n",
      "Quote Loaded\n"
     ]
    },
    {
     "name": "stderr",
     "output_type": "stream",
     "text": [
      "\r",
      " 84%|████████████████████████████████████████████████████████████████████▊             | 26/31 [00:07<00:01,  3.30it/s]"
     ]
    },
    {
     "name": "stdout",
     "output_type": "stream",
     "text": [
      "Getting Original Date\n",
      "Getting quots \n",
      "Ticker:  aig \n",
      "Date:  2012-07-13\n",
      "Quote Loaded\n"
     ]
    },
    {
     "name": "stderr",
     "output_type": "stream",
     "text": [
      "\r",
      " 87%|███████████████████████████████████████████████████████████████████████▍          | 27/31 [00:08<00:01,  3.31it/s]"
     ]
    },
    {
     "name": "stdout",
     "output_type": "stream",
     "text": [
      "Getting Original Date\n",
      "Getting quots \n",
      "Ticker:  aig \n",
      "Date:  2012-11-12\n",
      "Quote Loaded\n"
     ]
    },
    {
     "name": "stderr",
     "output_type": "stream",
     "text": [
      "\r",
      " 90%|██████████████████████████████████████████████████████████████████████████        | 28/31 [00:08<00:00,  3.29it/s]"
     ]
    },
    {
     "name": "stdout",
     "output_type": "stream",
     "text": [
      "Getting Original Date\n",
      "Getting quots \n",
      "Ticker:  aig \n",
      "Date:  2013-01-30\n",
      "Quote Loaded\n"
     ]
    },
    {
     "name": "stderr",
     "output_type": "stream",
     "text": [
      "\r",
      " 94%|████████████████████████████████████████████████████████████████████████████▋     | 29/31 [00:08<00:00,  3.31it/s]"
     ]
    },
    {
     "name": "stdout",
     "output_type": "stream",
     "text": [
      "Getting Original Date\n",
      "Getting quots \n",
      "Ticker:  aig \n",
      "Date:  2013-04-22\n",
      "Quote Loaded\n"
     ]
    },
    {
     "name": "stderr",
     "output_type": "stream",
     "text": [
      "\r",
      " 97%|███████████████████████████████████████████████████████████████████████████████▎  | 30/31 [00:09<00:00,  3.28it/s]"
     ]
    },
    {
     "name": "stdout",
     "output_type": "stream",
     "text": [
      "Getting Original Date\n",
      "Pointing Date is -  5 (Day of the week)\n",
      "Checking Next Day\n",
      "Getting quots \n",
      "Ticker:  aig \n",
      "Date:  2013-05-13\n",
      "Quote Loaded\n"
     ]
    },
    {
     "name": "stderr",
     "output_type": "stream",
     "text": [
      "100%|██████████████████████████████████████████████████████████████████████████████████| 31/31 [00:09<00:00,  3.28it/s]\n"
     ]
    },
    {
     "name": "stdout",
     "output_type": "stream",
     "text": [
      "Will save to file:  PriceVsSNP500_aig.csv\n",
      "Getting Stock Price Data...\n"
     ]
    },
    {
     "name": "stderr",
     "output_type": "stream",
     "text": [
      "\r",
      "  0%|                                                                                           | 0/14 [00:00<?, ?it/s]"
     ]
    },
    {
     "name": "stdout",
     "output_type": "stream",
     "text": [
      "Getting Original Date\n",
      "Getting quots \n",
      "Ticker:  aro \n",
      "Date:  2004-08-10\n",
      "Quote Loaded\n"
     ]
    },
    {
     "name": "stderr",
     "output_type": "stream",
     "text": [
      "\r",
      "  7%|█████▉                                                                             | 1/14 [00:00<00:05,  2.48it/s]"
     ]
    },
    {
     "name": "stdout",
     "output_type": "stream",
     "text": [
      "Getting Original Date\n",
      "Getting quots \n",
      "Ticker:  aro \n",
      "Date:  2005-01-24\n",
      "Quote Loaded\n"
     ]
    },
    {
     "name": "stderr",
     "output_type": "stream",
     "text": [
      "\r",
      " 14%|███████████▊                                                                       | 2/14 [00:00<00:03,  3.06it/s]"
     ]
    },
    {
     "name": "stdout",
     "output_type": "stream",
     "text": [
      "Getting Original Date\n",
      "Getting quots \n",
      "Ticker:  aro \n",
      "Date:  2005-04-05\n",
      "Quote Loaded\n"
     ]
    },
    {
     "name": "stderr",
     "output_type": "stream",
     "text": [
      "\r",
      " 21%|█████████████████▊                                                                 | 3/14 [00:00<00:03,  3.35it/s]"
     ]
    },
    {
     "name": "stdout",
     "output_type": "stream",
     "text": [
      "Getting Original Date\n",
      "Pointing Date is -  5 (Day of the week)\n",
      "Checking Next Day\n",
      "Getting quots \n",
      "Ticker:  aro \n",
      "Date:  2006-02-06\n",
      "Quote Loaded\n"
     ]
    },
    {
     "name": "stderr",
     "output_type": "stream",
     "text": [
      "\r",
      " 29%|███████████████████████▋                                                           | 4/14 [00:01<00:03,  3.25it/s]"
     ]
    },
    {
     "name": "stdout",
     "output_type": "stream",
     "text": [
      "Getting Original Date\n",
      "Pointing Date is -  5 (Day of the week)\n",
      "Checking Next Day\n",
      "Getting quots \n",
      "Ticker:  aro \n",
      "Date:  2006-05-08\n",
      "Quote Loaded\n"
     ]
    },
    {
     "name": "stderr",
     "output_type": "stream",
     "text": [
      "\r",
      " 36%|█████████████████████████████▋                                                     | 5/14 [00:01<00:02,  3.39it/s]"
     ]
    },
    {
     "name": "stdout",
     "output_type": "stream",
     "text": [
      "Getting Original Date\n",
      "Getting quots \n",
      "Ticker:  aro \n",
      "Date:  2007-01-19\n",
      "Quote Loaded\n"
     ]
    },
    {
     "name": "stderr",
     "output_type": "stream",
     "text": [
      "\r",
      " 43%|███████████████████████████████████▌                                               | 6/14 [00:01<00:02,  3.38it/s]"
     ]
    },
    {
     "name": "stdout",
     "output_type": "stream",
     "text": [
      "Getting Original Date\n",
      "Pointing Date is -  6 (Day of the week)\n",
      "Checking Next Day\n",
      "Getting quots \n",
      "Ticker:  aro \n",
      "Date:  2007-02-20\n",
      "Quote Loaded\n"
     ]
    },
    {
     "name": "stderr",
     "output_type": "stream",
     "text": [
      "\r",
      " 50%|█████████████████████████████████████████▌                                         | 7/14 [00:02<00:02,  3.33it/s]"
     ]
    },
    {
     "name": "stdout",
     "output_type": "stream",
     "text": [
      "Getting Original Date\n",
      "Getting quots \n",
      "Ticker:  aro \n",
      "Date:  2007-05-17\n",
      "Quote Loaded\n"
     ]
    },
    {
     "name": "stderr",
     "output_type": "stream",
     "text": [
      "\r",
      " 57%|███████████████████████████████████████████████▍                                   | 8/14 [00:02<00:01,  3.30it/s]"
     ]
    },
    {
     "name": "stdout",
     "output_type": "stream",
     "text": [
      "Getting Original Date\n",
      "Pointing Date is -  5 (Day of the week)\n",
      "Checking Next Day\n",
      "Cannot Get data from Quandl. Skipping this one\n",
      "Getting Original Date\n",
      "Getting quots \n",
      "Ticker:  aro \n",
      "Date:  2009-12-08\n",
      "Quote Loaded\n"
     ]
    },
    {
     "name": "stderr",
     "output_type": "stream",
     "text": [
      "\r",
      " 71%|██████████████████████████████████████████████████████████▌                       | 10/14 [00:02<00:01,  3.60it/s]"
     ]
    },
    {
     "name": "stdout",
     "output_type": "stream",
     "text": [
      "Getting Original Date\n",
      "Pointing Date is -  6 (Day of the week)\n",
      "Checking Next Day\n",
      "Getting quots \n",
      "Ticker:  aro \n",
      "Date:  2012-11-05\n",
      "Quote Loaded\n"
     ]
    },
    {
     "name": "stderr",
     "output_type": "stream",
     "text": [
      "\r",
      " 79%|████████████████████████████████████████████████████████████████▍                 | 11/14 [00:03<00:00,  3.55it/s]"
     ]
    },
    {
     "name": "stdout",
     "output_type": "stream",
     "text": [
      "Getting Original Date\n",
      "Getting quots \n",
      "Ticker:  aro \n",
      "Date:  2012-11-26\n",
      "Quote Loaded\n"
     ]
    },
    {
     "name": "stderr",
     "output_type": "stream",
     "text": [
      "\r",
      " 86%|██████████████████████████████████████████████████████████████████████▎           | 12/14 [00:03<00:00,  3.50it/s]"
     ]
    },
    {
     "name": "stdout",
     "output_type": "stream",
     "text": [
      "Getting Original Date\n",
      "Getting quots \n",
      "Ticker:  aro \n",
      "Date:  2013-04-23\n",
      "Quote Loaded\n"
     ]
    },
    {
     "name": "stderr",
     "output_type": "stream",
     "text": [
      "\r",
      " 93%|████████████████████████████████████████████████████████████████████████████▏     | 13/14 [00:03<00:00,  3.45it/s]"
     ]
    },
    {
     "name": "stdout",
     "output_type": "stream",
     "text": [
      "Getting Original Date\n",
      "Getting quots \n",
      "Ticker:  aro \n",
      "Date:  2013-05-09\n",
      "Quote Loaded\n"
     ]
    },
    {
     "name": "stderr",
     "output_type": "stream",
     "text": [
      "100%|██████████████████████████████████████████████████████████████████████████████████| 14/14 [00:04<00:00,  3.41it/s]\n"
     ]
    },
    {
     "name": "stdout",
     "output_type": "stream",
     "text": [
      "Will save to file:  PriceVsSNP500_aro.csv\n",
      "Getting Stock Price Data...\n"
     ]
    },
    {
     "name": "stderr",
     "output_type": "stream",
     "text": [
      "\r",
      "  0%|                                                                                           | 0/44 [00:00<?, ?it/s]"
     ]
    },
    {
     "name": "stdout",
     "output_type": "stream",
     "text": [
      "Getting Original Date\n",
      "Pointing Date is -  6 (Day of the week)\n",
      "Checking Next Day\n",
      "Getting quots \n",
      "Ticker:  aapl \n",
      "Date:  2003-12-08\n",
      "Quote Loaded\n"
     ]
    },
    {
     "name": "stderr",
     "output_type": "stream",
     "text": [
      "\r",
      "  2%|█▉                                                                                 | 1/44 [00:00<00:14,  2.92it/s]"
     ]
    },
    {
     "name": "stdout",
     "output_type": "stream",
     "text": [
      "Getting Original Date\n",
      "Getting quots \n",
      "Ticker:  aapl \n",
      "Date:  2004-02-03\n",
      "Quote Loaded\n"
     ]
    },
    {
     "name": "stderr",
     "output_type": "stream",
     "text": [
      "\r",
      "  5%|███▊                                                                               | 2/44 [00:00<00:13,  3.15it/s]"
     ]
    },
    {
     "name": "stdout",
     "output_type": "stream",
     "text": [
      "Getting Original Date\n",
      "Getting quots \n",
      "Ticker:  aapl \n",
      "Date:  2004-06-03\n",
      "Quote Loaded\n"
     ]
    },
    {
     "name": "stderr",
     "output_type": "stream",
     "text": [
      "\r",
      "  7%|█████▋                                                                             | 3/44 [00:00<00:13,  3.14it/s]"
     ]
    },
    {
     "name": "stdout",
     "output_type": "stream",
     "text": [
      "Getting Original Date\n",
      "Getting quots \n",
      "Ticker:  aapl \n",
      "Date:  2004-08-10\n",
      "Quote Loaded\n"
     ]
    },
    {
     "name": "stderr",
     "output_type": "stream",
     "text": [
      "\r",
      "  9%|███████▌                                                                           | 4/44 [00:01<00:12,  3.33it/s]"
     ]
    },
    {
     "name": "stdout",
     "output_type": "stream",
     "text": [
      "Getting Original Date\n",
      "Getting quots \n",
      "Ticker:  aapl \n",
      "Date:  2004-10-12\n",
      "Quote Loaded\n"
     ]
    },
    {
     "name": "stderr",
     "output_type": "stream",
     "text": [
      "\r",
      " 11%|█████████▍                                                                         | 5/44 [00:01<00:11,  3.50it/s]"
     ]
    },
    {
     "name": "stdout",
     "output_type": "stream",
     "text": [
      "Getting Original Date\n",
      "Pointing Date is -  5 (Day of the week)\n",
      "Checking Next Day\n",
      "Getting quots \n",
      "Ticker:  aapl \n",
      "Date:  2004-12-06\n",
      "Quote Loaded\n"
     ]
    },
    {
     "name": "stderr",
     "output_type": "stream",
     "text": [
      "\r",
      " 14%|███████████▎                                                                       | 6/44 [00:01<00:11,  3.32it/s]"
     ]
    },
    {
     "name": "stdout",
     "output_type": "stream",
     "text": [
      "Getting Original Date\n",
      "Getting quots \n",
      "Ticker:  aapl \n",
      "Date:  2005-01-26\n",
      "Quote Loaded\n"
     ]
    },
    {
     "name": "stderr",
     "output_type": "stream",
     "text": [
      "\r",
      " 16%|█████████████▏                                                                     | 7/44 [00:02<00:11,  3.28it/s]"
     ]
    },
    {
     "name": "stdout",
     "output_type": "stream",
     "text": [
      "Getting Original Date\n",
      "Getting quots \n",
      "Ticker:  aapl \n",
      "Date:  2005-02-04\n",
      "Quote Loaded\n"
     ]
    },
    {
     "name": "stderr",
     "output_type": "stream",
     "text": [
      "\r",
      " 18%|███████████████                                                                    | 8/44 [00:02<00:11,  3.27it/s]"
     ]
    },
    {
     "name": "stdout",
     "output_type": "stream",
     "text": [
      "Getting Original Date\n",
      "Getting quots \n",
      "Ticker:  aapl \n",
      "Date:  2005-03-01\n",
      "Quote Loaded\n"
     ]
    },
    {
     "name": "stderr",
     "output_type": "stream",
     "text": [
      "\r",
      " 20%|████████████████▉                                                                  | 9/44 [00:02<00:10,  3.24it/s]"
     ]
    },
    {
     "name": "stdout",
     "output_type": "stream",
     "text": [
      "Getting Original Date\n",
      "Pointing Date is -  5 (Day of the week)\n",
      "Checking Next Day\n",
      "Pointing Date is -  6 (Day of the week)\n",
      "Checking Next Day\n",
      "Getting quots \n",
      "Ticker:  aapl \n",
      "Date:  2005-12-20\n",
      "Quote Loaded\n"
     ]
    },
    {
     "name": "stderr",
     "output_type": "stream",
     "text": [
      "\r",
      " 23%|██████████████████▋                                                               | 10/44 [00:03<00:10,  3.20it/s]"
     ]
    },
    {
     "name": "stdout",
     "output_type": "stream",
     "text": [
      "Getting Original Date\n",
      "Getting quots \n",
      "Ticker:  aapl \n",
      "Date:  2006-01-25\n",
      "Quote Loaded\n"
     ]
    },
    {
     "name": "stderr",
     "output_type": "stream",
     "text": [
      "\r",
      " 25%|████████████████████▌                                                             | 11/44 [00:03<00:10,  3.22it/s]"
     ]
    },
    {
     "name": "stdout",
     "output_type": "stream",
     "text": [
      "Getting Original Date\n",
      "Getting quots \n",
      "Ticker:  aapl \n",
      "Date:  2006-02-03\n",
      "Quote Loaded\n"
     ]
    },
    {
     "name": "stderr",
     "output_type": "stream",
     "text": [
      "\r",
      " 27%|██████████████████████▎                                                           | 12/44 [00:03<00:09,  3.24it/s]"
     ]
    },
    {
     "name": "stdout",
     "output_type": "stream",
     "text": [
      "Getting Original Date\n",
      "Getting quots \n",
      "Ticker:  aapl \n",
      "Date:  2006-02-07\n",
      "Quote Loaded\n"
     ]
    },
    {
     "name": "stderr",
     "output_type": "stream",
     "text": [
      "\r",
      " 30%|████████████████████████▏                                                         | 13/44 [00:04<00:09,  3.17it/s]"
     ]
    },
    {
     "name": "stdout",
     "output_type": "stream",
     "text": [
      "Getting Original Date\n",
      "Getting quots \n",
      "Ticker:  aapl \n",
      "Date:  2006-02-17\n",
      "Quote Loaded\n"
     ]
    },
    {
     "name": "stderr",
     "output_type": "stream",
     "text": [
      "\r",
      " 32%|██████████████████████████                                                        | 14/44 [00:04<00:09,  3.20it/s]"
     ]
    },
    {
     "name": "stdout",
     "output_type": "stream",
     "text": [
      "Getting Original Date\n",
      "Pointing Date is -  5 (Day of the week)\n",
      "Checking Next Day\n",
      "Cannot Get data from Quandl. Skipping this one\n",
      "Getting Original Date\n",
      "Cannot Get data from Quandl. Skipping this one\n",
      "Getting Original Date\n",
      "Getting quots \n",
      "Ticker:  aapl \n",
      "Date:  2008-01-23\n",
      "Quote Loaded\n"
     ]
    },
    {
     "name": "stderr",
     "output_type": "stream",
     "text": [
      "\r",
      " 39%|███████████████████████████████▋                                                  | 17/44 [00:04<00:07,  3.65it/s]"
     ]
    },
    {
     "name": "stdout",
     "output_type": "stream",
     "text": [
      "Getting Original Date\n",
      "Getting quots \n",
      "Ticker:  aapl \n",
      "Date:  2008-10-27\n",
      "Quote Loaded\n"
     ]
    },
    {
     "name": "stderr",
     "output_type": "stream",
     "text": [
      "\r",
      " 41%|█████████████████████████████████▌                                                | 18/44 [00:04<00:07,  3.62it/s]"
     ]
    },
    {
     "name": "stdout",
     "output_type": "stream",
     "text": [
      "Getting Original Date\n",
      "Getting quots \n",
      "Ticker:  aapl \n",
      "Date:  2008-10-29\n",
      "Quote Loaded\n"
     ]
    },
    {
     "name": "stderr",
     "output_type": "stream",
     "text": [
      "\r",
      " 43%|███████████████████████████████████▍                                              | 19/44 [00:05<00:07,  3.56it/s]"
     ]
    },
    {
     "name": "stdout",
     "output_type": "stream",
     "text": [
      "Getting Original Date\n",
      "Getting quots \n",
      "Ticker:  aapl \n",
      "Date:  2008-10-31\n",
      "Quote Loaded\n"
     ]
    },
    {
     "name": "stderr",
     "output_type": "stream",
     "text": [
      "\r",
      " 45%|█████████████████████████████████████▎                                            | 20/44 [00:05<00:06,  3.55it/s]"
     ]
    },
    {
     "name": "stdout",
     "output_type": "stream",
     "text": [
      "Getting Original Date\n",
      "Getting quots \n",
      "Ticker:  aapl \n",
      "Date:  2008-12-03\n",
      "Quote Loaded\n"
     ]
    },
    {
     "name": "stderr",
     "output_type": "stream",
     "text": [
      "\r",
      " 48%|███████████████████████████████████████▏                                          | 21/44 [00:05<00:06,  3.52it/s]"
     ]
    },
    {
     "name": "stdout",
     "output_type": "stream",
     "text": [
      "Getting Original Date\n",
      "Pointing Date is -  6 (Day of the week)\n",
      "Checking Next Day\n",
      "Getting quots \n",
      "Ticker:  aapl \n",
      "Date:  2008-12-09\n",
      "Quote Loaded\n"
     ]
    },
    {
     "name": "stderr",
     "output_type": "stream",
     "text": [
      "\r",
      " 50%|█████████████████████████████████████████                                         | 22/44 [00:06<00:06,  3.47it/s]"
     ]
    },
    {
     "name": "stdout",
     "output_type": "stream",
     "text": [
      "Getting Original Date\n",
      "Getting quots \n",
      "Ticker:  aapl \n",
      "Date:  2008-12-16\n",
      "Quote Loaded\n"
     ]
    },
    {
     "name": "stderr",
     "output_type": "stream",
     "text": [
      "\r",
      " 52%|██████████████████████████████████████████▊                                       | 23/44 [00:06<00:06,  3.42it/s]"
     ]
    },
    {
     "name": "stdout",
     "output_type": "stream",
     "text": [
      "Getting Original Date\n",
      "Getting quots \n",
      "Ticker:  aapl \n",
      "Date:  2008-12-17\n",
      "Quote Loaded\n"
     ]
    },
    {
     "name": "stderr",
     "output_type": "stream",
     "text": [
      "\r",
      " 55%|████████████████████████████████████████████▋                                     | 24/44 [00:07<00:05,  3.40it/s]"
     ]
    },
    {
     "name": "stdout",
     "output_type": "stream",
     "text": [
      "Getting Original Date\n",
      "Cannot Get data from Quandl. Skipping this one\n",
      "Getting Original Date\n",
      "Getting quots \n",
      "Ticker:  aapl \n",
      "Date:  2009-01-12\n",
      "Quote Loaded\n"
     ]
    },
    {
     "name": "stderr",
     "output_type": "stream",
     "text": [
      "\r",
      " 59%|████████████████████████████████████████████████▍                                 | 26/44 [00:07<00:05,  3.53it/s]"
     ]
    },
    {
     "name": "stdout",
     "output_type": "stream",
     "text": [
      "Getting Original Date\n",
      "Getting quots \n",
      "Ticker:  aapl \n",
      "Date:  2009-10-22\n",
      "Quote Loaded\n"
     ]
    },
    {
     "name": "stderr",
     "output_type": "stream",
     "text": [
      "\r",
      " 61%|██████████████████████████████████████████████████▎                               | 27/44 [00:07<00:04,  3.43it/s]"
     ]
    },
    {
     "name": "stdout",
     "output_type": "stream",
     "text": [
      "Getting Original Date\n",
      "Getting quots \n",
      "Ticker:  aapl \n",
      "Date:  2009-11-12\n",
      "Quote Loaded\n"
     ]
    },
    {
     "name": "stderr",
     "output_type": "stream",
     "text": [
      "\r",
      " 64%|████████████████████████████████████████████████████▏                             | 28/44 [00:08<00:04,  3.41it/s]"
     ]
    },
    {
     "name": "stdout",
     "output_type": "stream",
     "text": [
      "Getting Original Date\n",
      "Pointing Date is -  6 (Day of the week)\n",
      "Checking Next Day\n",
      "Getting quots \n",
      "Ticker:  aapl \n",
      "Date:  2011-05-24\n",
      "Quote Loaded\n"
     ]
    },
    {
     "name": "stderr",
     "output_type": "stream",
     "text": [
      "\r",
      " 66%|██████████████████████████████████████████████████████                            | 29/44 [00:08<00:04,  3.40it/s]"
     ]
    },
    {
     "name": "stdout",
     "output_type": "stream",
     "text": [
      "Getting Original Date\n",
      "Getting quots \n",
      "Ticker:  aapl \n",
      "Date:  2011-09-02\n",
      "Quote Loaded\n"
     ]
    },
    {
     "name": "stderr",
     "output_type": "stream",
     "text": [
      "\r",
      " 68%|███████████████████████████████████████████████████████▉                          | 30/44 [00:09<00:04,  3.31it/s]"
     ]
    },
    {
     "name": "stdout",
     "output_type": "stream",
     "text": [
      "Getting Original Date\n",
      "Pointing Date is -  5 (Day of the week)\n",
      "Checking Next Day\n",
      "Pointing Date is -  6 (Day of the week)\n",
      "Checking Next Day\n",
      "Getting quots \n",
      "Ticker:  aapl \n",
      "Date:  2011-09-27\n",
      "Quote Loaded\n"
     ]
    },
    {
     "name": "stderr",
     "output_type": "stream",
     "text": [
      "\r",
      " 70%|█████████████████████████████████████████████████████████▊                        | 31/44 [00:09<00:03,  3.29it/s]"
     ]
    },
    {
     "name": "stdout",
     "output_type": "stream",
     "text": [
      "Getting Original Date\n",
      "Pointing Date is -  5 (Day of the week)\n",
      "Checking Next Day\n",
      "Pointing Date is -  6 (Day of the week)\n",
      "Checking Next Day\n",
      "Getting quots \n",
      "Ticker:  aapl \n",
      "Date:  2011-09-27\n",
      "Quote Loaded\n"
     ]
    },
    {
     "name": "stderr",
     "output_type": "stream",
     "text": [
      "\r",
      " 73%|███████████████████████████████████████████████████████████▋                      | 32/44 [00:09<00:03,  3.30it/s]"
     ]
    },
    {
     "name": "stdout",
     "output_type": "stream",
     "text": [
      "Getting Original Date\n",
      "Pointing Date is -  5 (Day of the week)\n",
      "Checking Next Day\n",
      "Pointing Date is -  6 (Day of the week)\n",
      "Checking Next Day\n",
      "Getting quots \n",
      "Ticker:  aapl \n",
      "Date:  2011-10-11\n",
      "Quote Loaded\n"
     ]
    },
    {
     "name": "stderr",
     "output_type": "stream",
     "text": [
      "\r",
      " 75%|█████████████████████████████████████████████████████████████▌                    | 33/44 [00:09<00:03,  3.30it/s]"
     ]
    },
    {
     "name": "stdout",
     "output_type": "stream",
     "text": [
      "Getting Original Date\n",
      "Getting quots \n",
      "Ticker:  aapl \n",
      "Date:  2011-10-14\n",
      "Quote Loaded\n"
     ]
    },
    {
     "name": "stderr",
     "output_type": "stream",
     "text": [
      "\r",
      " 77%|███████████████████████████████████████████████████████████████▎                  | 34/44 [00:10<00:03,  3.30it/s]"
     ]
    },
    {
     "name": "stdout",
     "output_type": "stream",
     "text": [
      "Getting Original Date\n",
      "Getting quots \n",
      "Ticker:  aapl \n",
      "Date:  2011-11-03\n",
      "Quote Loaded\n"
     ]
    },
    {
     "name": "stderr",
     "output_type": "stream",
     "text": [
      "\r",
      " 80%|█████████████████████████████████████████████████████████████████▏                | 35/44 [00:10<00:02,  3.30it/s]"
     ]
    },
    {
     "name": "stdout",
     "output_type": "stream",
     "text": [
      "Getting Original Date\n",
      "Pointing Date is -  6 (Day of the week)\n",
      "Checking Next Day\n",
      "Getting quots \n",
      "Ticker:  aapl \n",
      "Date:  2012-01-09\n",
      "Quote Loaded\n"
     ]
    },
    {
     "name": "stderr",
     "output_type": "stream",
     "text": [
      "\r",
      " 82%|███████████████████████████████████████████████████████████████████               | 36/44 [00:10<00:02,  3.32it/s]"
     ]
    },
    {
     "name": "stdout",
     "output_type": "stream",
     "text": [
      "Getting Original Date\n",
      "Getting quots \n",
      "Ticker:  aapl \n",
      "Date:  2012-05-15\n",
      "Quote Loaded\n"
     ]
    },
    {
     "name": "stderr",
     "output_type": "stream",
     "text": [
      "\r",
      " 84%|████████████████████████████████████████████████████████████████████▉             | 37/44 [00:11<00:02,  3.31it/s]"
     ]
    },
    {
     "name": "stdout",
     "output_type": "stream",
     "text": [
      "Getting Original Date\n",
      "Pointing Date is -  6 (Day of the week)\n",
      "Checking Next Day\n",
      "Getting quots \n",
      "Ticker:  aapl \n",
      "Date:  2012-09-25\n",
      "Quote Loaded\n"
     ]
    },
    {
     "name": "stderr",
     "output_type": "stream",
     "text": [
      "\r",
      " 86%|██████████████████████████████████████████████████████████████████████▊           | 38/44 [00:11<00:01,  3.29it/s]"
     ]
    },
    {
     "name": "stdout",
     "output_type": "stream",
     "text": [
      "Getting Original Date\n",
      "Getting quots \n",
      "Ticker:  aapl \n",
      "Date:  2012-10-11\n",
      "Quote Loaded\n"
     ]
    },
    {
     "name": "stderr",
     "output_type": "stream",
     "text": [
      "\r",
      " 89%|████████████████████████████████████████████████████████████████████████▋         | 39/44 [00:11<00:01,  3.28it/s]"
     ]
    },
    {
     "name": "stdout",
     "output_type": "stream",
     "text": [
      "Getting Original Date\n",
      "Pointing Date is -  6 (Day of the week)\n",
      "Checking Next Day\n",
      "Getting quots \n",
      "Ticker:  aapl \n",
      "Date:  2012-10-22\n",
      "Quote Loaded\n"
     ]
    },
    {
     "name": "stderr",
     "output_type": "stream",
     "text": [
      "\r",
      " 91%|██████████████████████████████████████████████████████████████████████████▌       | 40/44 [00:12<00:01,  3.27it/s]"
     ]
    },
    {
     "name": "stdout",
     "output_type": "stream",
     "text": [
      "Getting Original Date\n",
      "Pointing Date is -  6 (Day of the week)\n",
      "Checking Next Day\n",
      "Getting quots \n",
      "Ticker:  aapl \n",
      "Date:  2013-01-22\n",
      "Quote Loaded\n"
     ]
    },
    {
     "name": "stderr",
     "output_type": "stream",
     "text": [
      "\r",
      " 93%|████████████████████████████████████████████████████████████████████████████▍     | 41/44 [00:12<00:00,  3.25it/s]"
     ]
    },
    {
     "name": "stdout",
     "output_type": "stream",
     "text": [
      "Getting Original Date\n",
      "Getting quots \n",
      "Ticker:  aapl \n",
      "Date:  2013-04-23\n",
      "Quote Loaded\n"
     ]
    },
    {
     "name": "stderr",
     "output_type": "stream",
     "text": [
      "\r",
      " 95%|██████████████████████████████████████████████████████████████████████████████▎   | 42/44 [00:13<00:00,  3.23it/s]"
     ]
    },
    {
     "name": "stdout",
     "output_type": "stream",
     "text": [
      "Getting Original Date\n",
      "Getting quots \n",
      "Ticker:  aapl \n",
      "Date:  2013-05-16\n",
      "Quote Loaded\n"
     ]
    },
    {
     "name": "stderr",
     "output_type": "stream",
     "text": [
      "\r",
      " 98%|████████████████████████████████████████████████████████████████████████████████▏ | 43/44 [00:13<00:00,  3.24it/s]"
     ]
    },
    {
     "name": "stdout",
     "output_type": "stream",
     "text": [
      "Getting Original Date\n",
      "Pointing Date is -  6 (Day of the week)\n",
      "Checking Next Day\n",
      "Getting quots \n",
      "Ticker:  aapl \n",
      "Date:  2013-08-12\n",
      "Quote Loaded\n"
     ]
    },
    {
     "name": "stderr",
     "output_type": "stream",
     "text": [
      "100%|██████████████████████████████████████████████████████████████████████████████████| 44/44 [00:13<00:00,  3.24it/s]\n"
     ]
    },
    {
     "name": "stdout",
     "output_type": "stream",
     "text": [
      "Will save to file:  PriceVsSNP500_aapl.csv\n",
      "Getting Stock Price Data...\n"
     ]
    },
    {
     "name": "stderr",
     "output_type": "stream",
     "text": [
      "\r",
      "  0%|                                                                                           | 0/24 [00:00<?, ?it/s]"
     ]
    },
    {
     "name": "stdout",
     "output_type": "stream",
     "text": [
      "Getting Original Date\n",
      "Getting quots \n",
      "Ticker:  abt \n",
      "Date:  2004-09-20\n",
      "Quote Loaded\n"
     ]
    },
    {
     "name": "stderr",
     "output_type": "stream",
     "text": [
      "\r",
      "  4%|███▍                                                                               | 1/24 [00:00<00:07,  2.96it/s]"
     ]
    },
    {
     "name": "stdout",
     "output_type": "stream",
     "text": [
      "Getting Original Date\n",
      "Pointing Date is -  5 (Day of the week)\n",
      "Checking Next Day\n",
      "Getting quots \n",
      "Ticker:  abt \n",
      "Date:  2004-10-25\n",
      "Quote Loaded\n"
     ]
    },
    {
     "name": "stderr",
     "output_type": "stream",
     "text": [
      "\r",
      "  8%|██████▉                                                                            | 2/24 [00:00<00:06,  3.27it/s]"
     ]
    },
    {
     "name": "stdout",
     "output_type": "stream",
     "text": [
      "Getting Original Date\n",
      "Getting quots \n",
      "Ticker:  abt \n",
      "Date:  2005-01-25\n",
      "Quote Loaded\n"
     ]
    },
    {
     "name": "stderr",
     "output_type": "stream",
     "text": [
      "\r",
      " 12%|██████████▍                                                                        | 3/24 [00:00<00:06,  3.07it/s]"
     ]
    },
    {
     "name": "stdout",
     "output_type": "stream",
     "text": [
      "Getting Original Date\n",
      "Getting quots \n",
      "Ticker:  abt \n",
      "Date:  2005-02-28\n",
      "Quote Loaded\n"
     ]
    },
    {
     "name": "stderr",
     "output_type": "stream",
     "text": [
      "\r",
      " 17%|█████████████▊                                                                     | 4/24 [00:01<00:06,  3.14it/s]"
     ]
    },
    {
     "name": "stdout",
     "output_type": "stream",
     "text": [
      "Getting Original Date\n",
      "Pointing Date is -  5 (Day of the week)\n",
      "Checking Next Day\n",
      "Getting quots \n",
      "Ticker:  abt \n",
      "Date:  2006-06-19\n",
      "Quote Loaded\n"
     ]
    },
    {
     "name": "stderr",
     "output_type": "stream",
     "text": [
      "\r",
      " 21%|█████████████████▎                                                                 | 5/24 [00:01<00:06,  3.12it/s]"
     ]
    },
    {
     "name": "stdout",
     "output_type": "stream",
     "text": [
      "Getting Original Date\n",
      "Getting quots \n",
      "Ticker:  abt \n",
      "Date:  2006-07-18\n",
      "Quote Loaded\n"
     ]
    },
    {
     "name": "stderr",
     "output_type": "stream",
     "text": [
      "\r",
      " 25%|████████████████████▊                                                              | 6/24 [00:01<00:05,  3.16it/s]"
     ]
    },
    {
     "name": "stdout",
     "output_type": "stream",
     "text": [
      "Getting Original Date\n",
      "Pointing Date is -  5 (Day of the week)\n",
      "Checking Next Day\n",
      "Cannot Get data from Quandl. Skipping this one\n",
      "Getting Original Date\n",
      "Getting quots \n",
      "Ticker:  abt \n",
      "Date:  2007-03-23\n",
      "Quote Loaded\n"
     ]
    },
    {
     "name": "stderr",
     "output_type": "stream",
     "text": [
      "\r",
      " 33%|███████████████████████████▋                                                       | 8/24 [00:02<00:04,  3.48it/s]"
     ]
    },
    {
     "name": "stdout",
     "output_type": "stream",
     "text": [
      "Getting Original Date\n",
      "Getting quots \n",
      "Ticker:  abt \n",
      "Date:  2007-04-10\n",
      "Quote Loaded\n"
     ]
    },
    {
     "name": "stderr",
     "output_type": "stream",
     "text": [
      "\r",
      " 38%|███████████████████████████████▏                                                   | 9/24 [00:02<00:04,  3.50it/s]"
     ]
    },
    {
     "name": "stdout",
     "output_type": "stream",
     "text": [
      "Getting Original Date\n",
      "Pointing Date is -  6 (Day of the week)\n",
      "Checking Next Day\n",
      "Getting quots \n",
      "Ticker:  abt \n",
      "Date:  2007-06-04\n",
      "Quote Loaded\n"
     ]
    },
    {
     "name": "stderr",
     "output_type": "stream",
     "text": [
      "\r",
      " 42%|██████████████████████████████████▏                                               | 10/24 [00:02<00:04,  3.45it/s]"
     ]
    },
    {
     "name": "stdout",
     "output_type": "stream",
     "text": [
      "Getting Original Date\n",
      "Cannot Get data from Quandl. Skipping this one\n",
      "Getting Original Date\n",
      "Getting quots \n",
      "Ticker:  abt \n",
      "Date:  2008-01-23\n",
      "Quote Loaded\n"
     ]
    },
    {
     "name": "stderr",
     "output_type": "stream",
     "text": [
      "\r",
      " 50%|█████████████████████████████████████████                                         | 12/24 [00:03<00:03,  3.66it/s]"
     ]
    },
    {
     "name": "stdout",
     "output_type": "stream",
     "text": [
      "Getting Original Date\n",
      "Getting quots \n",
      "Ticker:  abt \n",
      "Date:  2008-04-28\n",
      "Quote Loaded\n"
     ]
    },
    {
     "name": "stderr",
     "output_type": "stream",
     "text": [
      "\r",
      " 54%|████████████████████████████████████████████▍                                     | 13/24 [00:03<00:02,  3.69it/s]"
     ]
    },
    {
     "name": "stdout",
     "output_type": "stream",
     "text": [
      "Getting Original Date\n",
      "Getting quots \n",
      "Ticker:  abt \n",
      "Date:  2008-10-23\n",
      "Quote Loaded\n"
     ]
    },
    {
     "name": "stderr",
     "output_type": "stream",
     "text": [
      "\r",
      " 58%|███████████████████████████████████████████████▊                                  | 14/24 [00:03<00:02,  3.62it/s]"
     ]
    },
    {
     "name": "stdout",
     "output_type": "stream",
     "text": [
      "Getting Original Date\n",
      "Cannot Get data from Quandl. Skipping this one\n",
      "Getting Original Date\n",
      "Getting quots \n",
      "Ticker:  abt \n",
      "Date:  2011-08-05\n",
      "Quote Loaded\n"
     ]
    },
    {
     "name": "stderr",
     "output_type": "stream",
     "text": [
      "\r",
      " 67%|██████████████████████████████████████████████████████▋                           | 16/24 [00:04<00:02,  3.89it/s]"
     ]
    },
    {
     "name": "stdout",
     "output_type": "stream",
     "text": [
      "Getting Original Date\n",
      "Getting quots \n",
      "Ticker:  abt \n",
      "Date:  2011-09-02\n",
      "Quote Loaded\n"
     ]
    },
    {
     "name": "stderr",
     "output_type": "stream",
     "text": [
      "\r",
      " 71%|██████████████████████████████████████████████████████████                        | 17/24 [00:04<00:01,  3.84it/s]"
     ]
    },
    {
     "name": "stdout",
     "output_type": "stream",
     "text": [
      "Getting Original Date\n",
      "Getting quots \n",
      "Ticker:  abt \n",
      "Date:  2011-11-02\n",
      "Quote Loaded\n"
     ]
    },
    {
     "name": "stderr",
     "output_type": "stream",
     "text": [
      "\r",
      " 75%|█████████████████████████████████████████████████████████████▌                    | 18/24 [00:04<00:01,  3.78it/s]"
     ]
    },
    {
     "name": "stdout",
     "output_type": "stream",
     "text": [
      "Getting Original Date\n",
      "Pointing Date is -  6 (Day of the week)\n",
      "Checking Next Day\n",
      "Getting quots \n",
      "Ticker:  abt \n",
      "Date:  2012-01-03\n",
      "Quote Loaded\n"
     ]
    },
    {
     "name": "stderr",
     "output_type": "stream",
     "text": [
      "\r",
      " 79%|████████████████████████████████████████████████████████████████▉                 | 19/24 [00:05<00:01,  3.77it/s]"
     ]
    },
    {
     "name": "stdout",
     "output_type": "stream",
     "text": [
      "Getting Original Date\n",
      "Getting quots \n",
      "Ticker:  abt \n",
      "Date:  2012-03-02\n",
      "Quote Loaded\n"
     ]
    },
    {
     "name": "stderr",
     "output_type": "stream",
     "text": [
      "\r",
      " 83%|████████████████████████████████████████████████████████████████████▎             | 20/24 [00:05<00:01,  3.76it/s]"
     ]
    },
    {
     "name": "stdout",
     "output_type": "stream",
     "text": [
      "Getting Original Date\n",
      "Getting quots \n",
      "Ticker:  abt \n",
      "Date:  2012-03-30\n",
      "Quote Loaded\n"
     ]
    },
    {
     "name": "stderr",
     "output_type": "stream",
     "text": [
      "\r",
      " 88%|███████████████████████████████████████████████████████████████████████▊          | 21/24 [00:05<00:00,  3.72it/s]"
     ]
    },
    {
     "name": "stdout",
     "output_type": "stream",
     "text": [
      "Getting Original Date\n",
      "Cannot Get data from Quandl. Skipping this one\n",
      "Getting Original Date\n",
      "Getting quots \n",
      "Ticker:  abt \n",
      "Date:  2013-05-08\n",
      "Quote Loaded\n"
     ]
    },
    {
     "name": "stderr",
     "output_type": "stream",
     "text": [
      "\r",
      " 96%|██████████████████████████████████████████████████████████████████████████████▌   | 23/24 [00:05<00:00,  3.90it/s]"
     ]
    },
    {
     "name": "stdout",
     "output_type": "stream",
     "text": [
      "Getting Original Date\n",
      "Pointing Date is -  6 (Day of the week)\n",
      "Checking Next Day\n",
      "Getting quots \n",
      "Ticker:  abt \n",
      "Date:  2013-08-19\n",
      "Quote Loaded\n"
     ]
    },
    {
     "name": "stderr",
     "output_type": "stream",
     "text": [
      "100%|██████████████████████████████████████████████████████████████████████████████████| 24/24 [00:06<00:00,  3.86it/s]\n"
     ]
    },
    {
     "name": "stdout",
     "output_type": "stream",
     "text": [
      "Will save to file:  PriceVsSNP500_abt.csv\n",
      "Getting Stock Price Data...\n"
     ]
    },
    {
     "name": "stderr",
     "output_type": "stream",
     "text": [
      "\r",
      "  0%|                                                                                           | 0/11 [00:00<?, ?it/s]"
     ]
    },
    {
     "name": "stdout",
     "output_type": "stream",
     "text": [
      "Getting Original Date\n",
      "Getting quots \n",
      "Ticker:  amp \n",
      "Date:  2006-05-24\n",
      "Quote Loaded\n"
     ]
    },
    {
     "name": "stderr",
     "output_type": "stream",
     "text": [
      "\r",
      "  9%|███████▌                                                                           | 1/11 [00:00<00:02,  3.44it/s]"
     ]
    },
    {
     "name": "stdout",
     "output_type": "stream",
     "text": [
      "Getting Original Date\n",
      "Getting quots \n",
      "Ticker:  amp \n",
      "Date:  2007-02-20\n",
      "Quote Loaded\n"
     ]
    },
    {
     "name": "stderr",
     "output_type": "stream",
     "text": [
      "\r",
      " 18%|███████████████                                                                    | 2/11 [00:00<00:02,  3.68it/s]"
     ]
    },
    {
     "name": "stdout",
     "output_type": "stream",
     "text": [
      "Getting Original Date\n",
      "Pointing Date is -  6 (Day of the week)\n",
      "Checking Next Day\n",
      "Getting quots \n",
      "Ticker:  amp \n",
      "Date:  2007-04-17\n",
      "Quote Loaded\n"
     ]
    },
    {
     "name": "stderr",
     "output_type": "stream",
     "text": [
      "\r",
      " 27%|██████████████████████▋                                                            | 3/11 [00:00<00:02,  3.41it/s]"
     ]
    },
    {
     "name": "stdout",
     "output_type": "stream",
     "text": [
      "Getting Original Date\n",
      "Pointing Date is -  5 (Day of the week)\n",
      "Checking Next Day\n",
      "Pointing Date is -  6 (Day of the week)\n",
      "Checking Next Day\n",
      "Getting quots \n",
      "Ticker:  amp \n",
      "Date:  2007-06-19\n",
      "Quote Loaded\n"
     ]
    },
    {
     "name": "stderr",
     "output_type": "stream",
     "text": [
      "\r",
      " 36%|██████████████████████████████▏                                                    | 4/11 [00:01<00:02,  3.25it/s]"
     ]
    },
    {
     "name": "stdout",
     "output_type": "stream",
     "text": [
      "Getting Original Date\n",
      "Getting quots \n",
      "Ticker:  amp \n",
      "Date:  2008-01-23\n",
      "Quote Loaded\n"
     ]
    },
    {
     "name": "stderr",
     "output_type": "stream",
     "text": [
      "\r",
      " 45%|█████████████████████████████████████▋                                             | 5/11 [00:01<00:01,  3.38it/s]"
     ]
    },
    {
     "name": "stdout",
     "output_type": "stream",
     "text": [
      "Getting Original Date\n",
      "Pointing Date is -  5 (Day of the week)\n",
      "Checking Next Day\n",
      "Pointing Date is -  6 (Day of the week)\n",
      "Checking Next Day\n",
      "Getting quots \n",
      "Ticker:  amp \n",
      "Date:  2009-02-10\n",
      "Quote Loaded\n"
     ]
    },
    {
     "name": "stderr",
     "output_type": "stream",
     "text": [
      "\r",
      " 55%|█████████████████████████████████████████████▎                                     | 6/11 [00:01<00:01,  3.42it/s]"
     ]
    },
    {
     "name": "stdout",
     "output_type": "stream",
     "text": [
      "Getting Original Date\n",
      "Getting quots \n",
      "Ticker:  amp \n",
      "Date:  2009-10-30\n",
      "Quote Loaded\n"
     ]
    },
    {
     "name": "stderr",
     "output_type": "stream",
     "text": [
      "\r",
      " 64%|████████████████████████████████████████████████████▊                              | 7/11 [00:02<00:01,  3.40it/s]"
     ]
    },
    {
     "name": "stdout",
     "output_type": "stream",
     "text": [
      "Getting Original Date\n",
      "Pointing Date is -  6 (Day of the week)\n",
      "Checking Next Day\n",
      "Getting quots \n",
      "Ticker:  amp \n",
      "Date:  2011-10-10\n",
      "Quote Loaded\n"
     ]
    },
    {
     "name": "stderr",
     "output_type": "stream",
     "text": [
      "\r",
      " 73%|████████████████████████████████████████████████████████████▎                      | 8/11 [00:02<00:00,  3.36it/s]"
     ]
    },
    {
     "name": "stdout",
     "output_type": "stream",
     "text": [
      "Getting Original Date\n",
      "Getting quots \n",
      "Ticker:  amp \n",
      "Date:  2012-02-16\n",
      "Quote Loaded\n"
     ]
    },
    {
     "name": "stderr",
     "output_type": "stream",
     "text": [
      "\r",
      " 82%|███████████████████████████████████████████████████████████████████▉               | 9/11 [00:02<00:00,  3.46it/s]"
     ]
    },
    {
     "name": "stdout",
     "output_type": "stream",
     "text": [
      "Getting Original Date\n",
      "Getting quots \n",
      "Ticker:  amp \n",
      "Date:  2013-04-22\n",
      "Quote Loaded\n"
     ]
    },
    {
     "name": "stderr",
     "output_type": "stream",
     "text": [
      "\r",
      " 91%|██████████████████████████████████████████████████████████████████████████▌       | 10/11 [00:02<00:00,  3.45it/s]"
     ]
    },
    {
     "name": "stdout",
     "output_type": "stream",
     "text": [
      "Getting Original Date\n",
      "Getting quots \n",
      "Ticker:  amp \n",
      "Date:  2013-04-30\n",
      "Quote Loaded\n"
     ]
    },
    {
     "name": "stderr",
     "output_type": "stream",
     "text": [
      "100%|██████████████████████████████████████████████████████████████████████████████████| 11/11 [00:03<00:00,  3.52it/s]\n"
     ]
    },
    {
     "name": "stdout",
     "output_type": "stream",
     "text": [
      "Will save to file:  PriceVsSNP500_amp.csv\n",
      "Getting Stock Price Data...\n"
     ]
    },
    {
     "name": "stderr",
     "output_type": "stream",
     "text": [
      "\r",
      "  0%|                                                                                           | 0/14 [00:00<?, ?it/s]"
     ]
    },
    {
     "name": "stdout",
     "output_type": "stream",
     "text": [
      "Getting Original Date\n",
      "Getting quots \n",
      "Ticker:  apd \n",
      "Date:  2004-01-07\n",
      "Quote Loaded\n"
     ]
    },
    {
     "name": "stderr",
     "output_type": "stream",
     "text": [
      "\r",
      "  7%|█████▉                                                                             | 1/14 [00:00<00:03,  4.15it/s]"
     ]
    },
    {
     "name": "stdout",
     "output_type": "stream",
     "text": [
      "Getting Original Date\n",
      "Pointing Date is -  6 (Day of the week)\n",
      "Checking Next Day\n",
      "Getting quots \n",
      "Ticker:  apd \n",
      "Date:  2004-04-12\n",
      "Quote Loaded\n"
     ]
    },
    {
     "name": "stderr",
     "output_type": "stream",
     "text": [
      "\r",
      " 14%|███████████▊                                                                       | 2/14 [00:00<00:03,  3.22it/s]"
     ]
    },
    {
     "name": "stdout",
     "output_type": "stream",
     "text": [
      "Getting Original Date\n",
      "Getting quots \n",
      "Ticker:  apd \n",
      "Date:  2004-09-30\n",
      "Quote Loaded\n"
     ]
    },
    {
     "name": "stderr",
     "output_type": "stream",
     "text": [
      "\r",
      " 21%|█████████████████▊                                                                 | 3/14 [00:00<00:03,  3.40it/s]"
     ]
    },
    {
     "name": "stdout",
     "output_type": "stream",
     "text": [
      "Getting Original Date\n",
      "Getting quots \n",
      "Ticker:  apd \n",
      "Date:  2004-11-29\n",
      "Quote Loaded\n"
     ]
    },
    {
     "name": "stderr",
     "output_type": "stream",
     "text": [
      "\r",
      " 29%|███████████████████████▋                                                           | 4/14 [00:01<00:03,  3.33it/s]"
     ]
    },
    {
     "name": "stdout",
     "output_type": "stream",
     "text": [
      "Getting Original Date\n",
      "Getting quots \n",
      "Ticker:  apd \n",
      "Date:  2005-03-15\n",
      "Quote Loaded\n"
     ]
    },
    {
     "name": "stderr",
     "output_type": "stream",
     "text": [
      "\r",
      " 36%|█████████████████████████████▋                                                     | 5/14 [00:01<00:02,  3.22it/s]"
     ]
    },
    {
     "name": "stdout",
     "output_type": "stream",
     "text": [
      "Getting Original Date\n",
      "Getting quots \n",
      "Ticker:  apd \n",
      "Date:  2005-12-08\n",
      "Quote Loaded\n"
     ]
    },
    {
     "name": "stderr",
     "output_type": "stream",
     "text": [
      "\r",
      " 43%|███████████████████████████████████▌                                               | 6/14 [00:01<00:02,  3.18it/s]"
     ]
    },
    {
     "name": "stdout",
     "output_type": "stream",
     "text": [
      "Getting Original Date\n",
      "Getting quots \n",
      "Ticker:  apd \n",
      "Date:  2006-06-27\n",
      "Quote Loaded\n"
     ]
    },
    {
     "name": "stderr",
     "output_type": "stream",
     "text": [
      "\r",
      " 50%|█████████████████████████████████████████▌                                         | 7/14 [00:02<00:02,  3.21it/s]"
     ]
    },
    {
     "name": "stdout",
     "output_type": "stream",
     "text": [
      "Getting Original Date\n",
      "Getting quots \n",
      "Ticker:  apd \n",
      "Date:  2007-02-20\n",
      "Quote Loaded\n"
     ]
    },
    {
     "name": "stderr",
     "output_type": "stream",
     "text": [
      "\r",
      " 57%|███████████████████████████████████████████████▍                                   | 8/14 [00:02<00:01,  3.34it/s]"
     ]
    },
    {
     "name": "stdout",
     "output_type": "stream",
     "text": [
      "Getting Original Date\n",
      "Getting quots \n",
      "Ticker:  apd \n",
      "Date:  2007-07-12\n",
      "Quote Loaded\n"
     ]
    },
    {
     "name": "stderr",
     "output_type": "stream",
     "text": [
      "\r",
      " 64%|█████████████████████████████████████████████████████▎                             | 9/14 [00:02<00:01,  3.32it/s]"
     ]
    },
    {
     "name": "stdout",
     "output_type": "stream",
     "text": [
      "Getting Original Date\n",
      "Pointing Date is -  5 (Day of the week)\n",
      "Checking Next Day\n",
      "Getting quots \n",
      "Ticker:  apd \n",
      "Date:  2007-07-16\n",
      "Quote Loaded\n"
     ]
    },
    {
     "name": "stderr",
     "output_type": "stream",
     "text": [
      "\r",
      " 71%|██████████████████████████████████████████████████████████▌                       | 10/14 [00:03<00:01,  3.25it/s]"
     ]
    },
    {
     "name": "stdout",
     "output_type": "stream",
     "text": [
      "Getting Original Date\n",
      "Getting quots \n",
      "Ticker:  apd \n",
      "Date:  2008-01-23\n",
      "Quote Loaded\n"
     ]
    },
    {
     "name": "stderr",
     "output_type": "stream",
     "text": [
      "\r",
      " 79%|████████████████████████████████████████████████████████████████▍                 | 11/14 [00:03<00:00,  3.19it/s]"
     ]
    },
    {
     "name": "stdout",
     "output_type": "stream",
     "text": [
      "Getting Original Date\n",
      "Getting quots \n",
      "Ticker:  apd \n",
      "Date:  2011-07-21\n",
      "Quote Loaded\n"
     ]
    },
    {
     "name": "stderr",
     "output_type": "stream",
     "text": [
      "\r",
      " 86%|██████████████████████████████████████████████████████████████████████▎           | 12/14 [00:03<00:00,  3.25it/s]"
     ]
    },
    {
     "name": "stdout",
     "output_type": "stream",
     "text": [
      "Getting Original Date\n",
      "Getting quots \n",
      "Ticker:  apd \n",
      "Date:  2012-11-06\n",
      "Quote Loaded\n"
     ]
    },
    {
     "name": "stderr",
     "output_type": "stream",
     "text": [
      "\r",
      " 93%|████████████████████████████████████████████████████████████████████████████▏     | 13/14 [00:04<00:00,  3.22it/s]"
     ]
    },
    {
     "name": "stdout",
     "output_type": "stream",
     "text": [
      "Getting Original Date\n",
      "Getting quots \n",
      "Ticker:  apd \n",
      "Date:  2013-05-15\n",
      "Quote Loaded\n"
     ]
    },
    {
     "name": "stderr",
     "output_type": "stream",
     "text": [
      "100%|██████████████████████████████████████████████████████████████████████████████████| 14/14 [00:04<00:00,  3.20it/s]\n"
     ]
    },
    {
     "name": "stdout",
     "output_type": "stream",
     "text": [
      "Will save to file:  PriceVsSNP500_apd.csv\n",
      "Getting Stock Price Data...\n"
     ]
    },
    {
     "name": "stderr",
     "output_type": "stream",
     "text": [
      "\r",
      "  0%|                                                                                           | 0/32 [00:00<?, ?it/s]"
     ]
    },
    {
     "name": "stdout",
     "output_type": "stream",
     "text": [
      "Getting Original Date\n",
      "Getting quots \n",
      "Ticker:  anf \n",
      "Date:  2003-10-03\n",
      "Quote Loaded\n"
     ]
    },
    {
     "name": "stderr",
     "output_type": "stream",
     "text": [
      "\r",
      "  3%|██▌                                                                                | 1/32 [00:00<00:10,  2.87it/s]"
     ]
    },
    {
     "name": "stdout",
     "output_type": "stream",
     "text": [
      "Getting Original Date\n",
      "Getting quots \n",
      "Ticker:  anf \n",
      "Date:  2003-12-15\n",
      "Quote Loaded\n"
     ]
    },
    {
     "name": "stderr",
     "output_type": "stream",
     "text": [
      "\r",
      "  6%|█████▏                                                                             | 2/32 [00:00<00:10,  2.99it/s]"
     ]
    },
    {
     "name": "stdout",
     "output_type": "stream",
     "text": [
      "Getting Original Date\n",
      "Pointing Date is -  6 (Day of the week)\n",
      "Checking Next Day\n",
      "Getting quots \n",
      "Ticker:  anf \n",
      "Date:  2004-04-12\n",
      "Quote Loaded\n"
     ]
    },
    {
     "name": "stderr",
     "output_type": "stream",
     "text": [
      "\r",
      "  9%|███████▊                                                                           | 3/32 [00:01<00:10,  2.69it/s]"
     ]
    },
    {
     "name": "stdout",
     "output_type": "stream",
     "text": [
      "Getting Original Date\n",
      "Getting quots \n",
      "Ticker:  anf \n",
      "Date:  2004-06-07\n",
      "Quote Loaded\n"
     ]
    },
    {
     "name": "stderr",
     "output_type": "stream",
     "text": [
      "\r",
      " 12%|██████████▍                                                                        | 4/32 [00:01<00:10,  2.76it/s]"
     ]
    },
    {
     "name": "stdout",
     "output_type": "stream",
     "text": [
      "Getting Original Date\n",
      "Getting quots \n",
      "Ticker:  anf \n",
      "Date:  2004-08-10\n",
      "Quote Loaded\n"
     ]
    },
    {
     "name": "stderr",
     "output_type": "stream",
     "text": [
      "\r",
      " 16%|████████████▉                                                                      | 5/32 [00:01<00:09,  2.97it/s]"
     ]
    },
    {
     "name": "stdout",
     "output_type": "stream",
     "text": [
      "Getting Original Date\n",
      "Getting quots \n",
      "Ticker:  anf \n",
      "Date:  2004-10-12\n",
      "Quote Loaded\n"
     ]
    },
    {
     "name": "stderr",
     "output_type": "stream",
     "text": [
      "\r",
      " 19%|███████████████▌                                                                   | 6/32 [00:01<00:08,  3.14it/s]"
     ]
    },
    {
     "name": "stdout",
     "output_type": "stream",
     "text": [
      "Getting Original Date\n",
      "Getting quots \n",
      "Ticker:  anf \n",
      "Date:  2005-01-28\n",
      "Quote Loaded\n"
     ]
    },
    {
     "name": "stderr",
     "output_type": "stream",
     "text": [
      "\r",
      " 22%|██████████████████▏                                                                | 7/32 [00:02<00:07,  3.22it/s]"
     ]
    },
    {
     "name": "stdout",
     "output_type": "stream",
     "text": [
      "Getting Original Date\n",
      "Pointing Date is -  6 (Day of the week)\n",
      "Checking Next Day\n",
      "Getting quots \n",
      "Ticker:  anf \n",
      "Date:  2005-02-28\n",
      "Quote Loaded\n"
     ]
    },
    {
     "name": "stderr",
     "output_type": "stream",
     "text": [
      "\r",
      " 25%|████████████████████▊                                                              | 8/32 [00:02<00:07,  3.30it/s]"
     ]
    },
    {
     "name": "stdout",
     "output_type": "stream",
     "text": [
      "Getting Original Date\n",
      "Pointing Date is -  6 (Day of the week)\n",
      "Checking Next Day\n",
      "Getting quots \n",
      "Ticker:  anf \n",
      "Date:  2006-06-20\n",
      "Quote Loaded\n"
     ]
    },
    {
     "name": "stderr",
     "output_type": "stream",
     "text": [
      "\r",
      " 28%|███████████████████████▎                                                           | 9/32 [00:02<00:07,  3.27it/s]"
     ]
    },
    {
     "name": "stdout",
     "output_type": "stream",
     "text": [
      "Getting Original Date\n",
      "Pointing Date is -  6 (Day of the week)\n",
      "Checking Next Day\n",
      "Cannot Get data from Quandl. Skipping this one\n",
      "Getting Original Date\n",
      "Getting quots \n",
      "Ticker:  anf \n",
      "Date:  2007-03-08\n",
      "Quote Loaded\n"
     ]
    },
    {
     "name": "stderr",
     "output_type": "stream",
     "text": [
      "\r",
      " 34%|████████████████████████████▏                                                     | 11/32 [00:03<00:05,  3.64it/s]"
     ]
    },
    {
     "name": "stdout",
     "output_type": "stream",
     "text": [
      "Getting Original Date\n",
      "Getting quots \n",
      "Ticker:  anf \n",
      "Date:  2008-01-23\n",
      "Quote Loaded\n"
     ]
    },
    {
     "name": "stderr",
     "output_type": "stream",
     "text": [
      "\r",
      " 38%|██████████████████████████████▊                                                   | 12/32 [00:03<00:05,  3.71it/s]"
     ]
    },
    {
     "name": "stdout",
     "output_type": "stream",
     "text": [
      "Getting Original Date\n",
      "Pointing Date is -  5 (Day of the week)\n",
      "Checking Next Day\n",
      "Cannot Get data from Quandl. Skipping this one\n",
      "Getting Original Date\n",
      "Getting quots \n",
      "Ticker:  anf \n",
      "Date:  2008-04-17\n",
      "Quote Loaded\n"
     ]
    },
    {
     "name": "stderr",
     "output_type": "stream",
     "text": [
      "\r",
      " 44%|███████████████████████████████████▉                                              | 14/32 [00:03<00:04,  3.91it/s]"
     ]
    },
    {
     "name": "stdout",
     "output_type": "stream",
     "text": [
      "Getting Original Date\n",
      "Getting quots \n",
      "Ticker:  anf \n",
      "Date:  2008-08-19\n",
      "Quote Loaded\n"
     ]
    },
    {
     "name": "stderr",
     "output_type": "stream",
     "text": [
      "\r",
      " 47%|██████████████████████████████████████▍                                           | 15/32 [00:03<00:04,  3.93it/s]"
     ]
    },
    {
     "name": "stdout",
     "output_type": "stream",
     "text": [
      "Getting Original Date\n",
      "Getting quots \n",
      "Ticker:  anf \n",
      "Date:  2008-08-26\n",
      "Quote Loaded\n"
     ]
    },
    {
     "name": "stderr",
     "output_type": "stream",
     "text": [
      "\r",
      " 50%|█████████████████████████████████████████                                         | 16/32 [00:04<00:04,  3.91it/s]"
     ]
    },
    {
     "name": "stdout",
     "output_type": "stream",
     "text": [
      "Getting Original Date\n",
      "Getting quots \n",
      "Ticker:  anf \n",
      "Date:  2008-08-28\n",
      "Quote Loaded\n"
     ]
    },
    {
     "name": "stderr",
     "output_type": "stream",
     "text": [
      "\r",
      " 53%|███████████████████████████████████████████▌                                      | 17/32 [00:04<00:03,  3.92it/s]"
     ]
    },
    {
     "name": "stdout",
     "output_type": "stream",
     "text": [
      "Getting Original Date\n",
      "Getting quots \n",
      "Ticker:  anf \n",
      "Date:  2008-08-29\n",
      "Quote Loaded\n"
     ]
    },
    {
     "name": "stderr",
     "output_type": "stream",
     "text": [
      "\r",
      " 56%|██████████████████████████████████████████████▏                                   | 18/32 [00:04<00:03,  3.83it/s]"
     ]
    },
    {
     "name": "stdout",
     "output_type": "stream",
     "text": [
      "Getting Original Date\n",
      "Cannot Get data from Quandl. Skipping this one\n",
      "Getting Original Date\n",
      "Getting quots \n",
      "Ticker:  anf \n",
      "Date:  2008-11-05\n",
      "Quote Loaded\n"
     ]
    },
    {
     "name": "stderr",
     "output_type": "stream",
     "text": [
      "\r",
      " 62%|███████████████████████████████████████████████████▎                              | 20/32 [00:04<00:02,  4.06it/s]"
     ]
    },
    {
     "name": "stdout",
     "output_type": "stream",
     "text": [
      "Getting Original Date\n",
      "Getting quots \n",
      "Ticker:  anf \n",
      "Date:  2008-12-29\n",
      "Quote Loaded\n"
     ]
    },
    {
     "name": "stderr",
     "output_type": "stream",
     "text": [
      "\r",
      " 66%|█████████████████████████████████████████████████████▊                            | 21/32 [00:05<00:02,  4.02it/s]"
     ]
    },
    {
     "name": "stdout",
     "output_type": "stream",
     "text": [
      "Getting Original Date\n",
      "Pointing Date is -  6 (Day of the week)\n",
      "Checking Next Day\n",
      "Getting quots \n",
      "Ticker:  anf \n",
      "Date:  2009-01-26\n",
      "Quote Loaded\n"
     ]
    },
    {
     "name": "stderr",
     "output_type": "stream",
     "text": [
      "\r",
      " 69%|████████████████████████████████████████████████████████▍                         | 22/32 [00:05<00:02,  3.96it/s]"
     ]
    },
    {
     "name": "stdout",
     "output_type": "stream",
     "text": [
      "Getting Original Date\n",
      "Getting quots \n",
      "Ticker:  anf \n",
      "Date:  2009-09-25\n",
      "Quote Loaded\n"
     ]
    },
    {
     "name": "stderr",
     "output_type": "stream",
     "text": [
      "\r",
      " 72%|██████████████████████████████████████████████████████████▉                       | 23/32 [00:05<00:02,  3.91it/s]"
     ]
    },
    {
     "name": "stdout",
     "output_type": "stream",
     "text": [
      "Getting Original Date\n",
      "Getting quots \n",
      "Ticker:  anf \n",
      "Date:  2011-08-18\n",
      "Quote Loaded\n"
     ]
    },
    {
     "name": "stderr",
     "output_type": "stream",
     "text": [
      "\r",
      " 75%|█████████████████████████████████████████████████████████████▌                    | 24/32 [00:06<00:02,  3.91it/s]"
     ]
    },
    {
     "name": "stdout",
     "output_type": "stream",
     "text": [
      "Getting Original Date\n",
      "Pointing Date is -  6 (Day of the week)\n",
      "Checking Next Day\n",
      "Getting quots \n",
      "Ticker:  anf \n",
      "Date:  2011-10-25\n",
      "Quote Loaded\n"
     ]
    },
    {
     "name": "stderr",
     "output_type": "stream",
     "text": [
      "\r",
      " 78%|████████████████████████████████████████████████████████████████                  | 25/32 [00:06<00:01,  3.91it/s]"
     ]
    },
    {
     "name": "stdout",
     "output_type": "stream",
     "text": [
      "Getting Original Date\n",
      "Getting quots \n",
      "Ticker:  anf \n",
      "Date:  2011-11-15\n",
      "Quote Loaded\n"
     ]
    },
    {
     "name": "stderr",
     "output_type": "stream",
     "text": [
      "\r",
      " 81%|██████████████████████████████████████████████████████████████████▋               | 26/32 [00:06<00:01,  3.93it/s]"
     ]
    },
    {
     "name": "stdout",
     "output_type": "stream",
     "text": [
      "Getting Original Date\n",
      "Getting quots \n",
      "Ticker:  anf \n",
      "Date:  2011-12-27\n",
      "Quote Loaded\n"
     ]
    },
    {
     "name": "stderr",
     "output_type": "stream",
     "text": [
      "\r",
      " 84%|█████████████████████████████████████████████████████████████████████▏            | 27/32 [00:06<00:01,  3.90it/s]"
     ]
    },
    {
     "name": "stdout",
     "output_type": "stream",
     "text": [
      "Getting Original Date\n",
      "Pointing Date is -  6 (Day of the week)\n",
      "Checking Next Day\n",
      "Getting quots \n",
      "Ticker:  anf \n",
      "Date:  2012-06-11\n",
      "Quote Loaded\n"
     ]
    },
    {
     "name": "stderr",
     "output_type": "stream",
     "text": [
      "\r",
      " 88%|███████████████████████████████████████████████████████████████████████▊          | 28/32 [00:07<00:01,  3.86it/s]"
     ]
    },
    {
     "name": "stdout",
     "output_type": "stream",
     "text": [
      "Getting Original Date\n",
      "Pointing Date is -  6 (Day of the week)\n",
      "Checking Next Day\n",
      "Getting quots \n",
      "Ticker:  anf \n",
      "Date:  2012-10-15\n",
      "Quote Loaded\n"
     ]
    },
    {
     "name": "stderr",
     "output_type": "stream",
     "text": [
      "\r",
      " 91%|██████████████████████████████████████████████████████████████████████████▎       | 29/32 [00:07<00:00,  3.80it/s]"
     ]
    },
    {
     "name": "stdout",
     "output_type": "stream",
     "text": [
      "Getting Original Date\n",
      "Getting quots \n",
      "Ticker:  anf \n",
      "Date:  2012-11-07\n",
      "Quote Loaded\n"
     ]
    },
    {
     "name": "stderr",
     "output_type": "stream",
     "text": [
      "\r",
      " 94%|████████████████████████████████████████████████████████████████████████████▉     | 30/32 [00:07<00:00,  3.77it/s]"
     ]
    },
    {
     "name": "stdout",
     "output_type": "stream",
     "text": [
      "Getting Original Date\n",
      "Pointing Date is -  5 (Day of the week)\n",
      "Checking Next Day\n",
      "Pointing Date is -  6 (Day of the week)\n",
      "Checking Next Day\n",
      "Getting quots \n",
      "Ticker:  anf \n",
      "Date:  2013-04-02\n",
      "Quote Loaded\n"
     ]
    },
    {
     "name": "stderr",
     "output_type": "stream",
     "text": [
      "\r",
      " 97%|███████████████████████████████████████████████████████████████████████████████▍  | 31/32 [00:08<00:00,  3.76it/s]"
     ]
    },
    {
     "name": "stdout",
     "output_type": "stream",
     "text": [
      "Getting Original Date\n",
      "Pointing Date is -  6 (Day of the week)\n",
      "Checking Next Day\n",
      "Getting quots \n",
      "Ticker:  anf \n",
      "Date:  2013-05-14\n",
      "Quote Loaded\n"
     ]
    },
    {
     "name": "stderr",
     "output_type": "stream",
     "text": [
      "100%|██████████████████████████████████████████████████████████████████████████████████| 32/32 [00:08<00:00,  3.73it/s]\n"
     ]
    },
    {
     "name": "stdout",
     "output_type": "stream",
     "text": [
      "Will save to file:  PriceVsSNP500_anf.csv\n",
      "Getting Stock Price Data...\n"
     ]
    },
    {
     "name": "stderr",
     "output_type": "stream",
     "text": [
      "\r",
      "  0%|                                                                                           | 0/22 [00:00<?, ?it/s]"
     ]
    },
    {
     "name": "stdout",
     "output_type": "stream",
     "text": [
      "Getting Original Date\n",
      "Getting quots \n",
      "Ticker:  apc \n",
      "Date:  2003-10-27\n",
      "Quote Loaded\n"
     ]
    },
    {
     "name": "stderr",
     "output_type": "stream",
     "text": [
      "\r",
      "  5%|███▊                                                                               | 1/22 [00:00<00:07,  2.69it/s]"
     ]
    },
    {
     "name": "stdout",
     "output_type": "stream",
     "text": [
      "Getting Original Date\n",
      "Pointing Date is -  6 (Day of the week)\n",
      "Checking Next Day\n",
      "Getting quots \n",
      "Ticker:  apc \n",
      "Date:  2005-01-24\n",
      "Quote Loaded\n"
     ]
    },
    {
     "name": "stderr",
     "output_type": "stream",
     "text": [
      "\r",
      "  9%|███████▌                                                                           | 2/22 [00:00<00:06,  3.19it/s]"
     ]
    },
    {
     "name": "stdout",
     "output_type": "stream",
     "text": [
      "Getting Original Date\n",
      "Pointing Date is -  6 (Day of the week)\n",
      "Checking Next Day\n",
      "Getting quots \n",
      "Ticker:  apc \n",
      "Date:  2005-03-07\n",
      "Quote Loaded\n"
     ]
    },
    {
     "name": "stderr",
     "output_type": "stream",
     "text": [
      "\r",
      " 14%|███████████▎                                                                       | 3/22 [00:00<00:06,  3.14it/s]"
     ]
    },
    {
     "name": "stdout",
     "output_type": "stream",
     "text": [
      "Getting Original Date\n",
      "Pointing Date is -  5 (Day of the week)\n",
      "Checking Next Day\n",
      "Pointing Date is -  6 (Day of the week)\n",
      "Checking Next Day\n",
      "Getting quots \n",
      "Ticker:  apc \n",
      "Date:  2006-10-31\n",
      "Quote Loaded\n"
     ]
    },
    {
     "name": "stderr",
     "output_type": "stream",
     "text": [
      "\r",
      " 18%|███████████████                                                                    | 4/22 [00:01<00:05,  3.27it/s]"
     ]
    },
    {
     "name": "stdout",
     "output_type": "stream",
     "text": [
      "Getting Original Date\n",
      "Pointing Date is -  6 (Day of the week)\n",
      "Checking Next Day\n",
      "Getting quots \n",
      "Ticker:  apc \n",
      "Date:  2007-02-20\n",
      "Quote Loaded\n"
     ]
    },
    {
     "name": "stderr",
     "output_type": "stream",
     "text": [
      "\r",
      " 23%|██████████████████▊                                                                | 5/22 [00:01<00:05,  3.37it/s]"
     ]
    },
    {
     "name": "stdout",
     "output_type": "stream",
     "text": [
      "Getting Original Date\n",
      "Getting quots \n",
      "Ticker:  apc \n",
      "Date:  2007-05-01\n",
      "Quote Loaded\n"
     ]
    },
    {
     "name": "stderr",
     "output_type": "stream",
     "text": [
      "\r",
      " 27%|██████████████████████▋                                                            | 6/22 [00:01<00:04,  3.49it/s]"
     ]
    },
    {
     "name": "stdout",
     "output_type": "stream",
     "text": [
      "Getting Original Date\n",
      "Getting quots \n",
      "Ticker:  apc \n",
      "Date:  2007-06-15\n",
      "Quote Loaded\n"
     ]
    },
    {
     "name": "stderr",
     "output_type": "stream",
     "text": [
      "\r",
      " 32%|██████████████████████████▍                                                        | 7/22 [00:02<00:04,  3.15it/s]"
     ]
    },
    {
     "name": "stdout",
     "output_type": "stream",
     "text": [
      "Getting Original Date\n",
      "Getting quots \n",
      "Ticker:  apc \n",
      "Date:  2007-07-18\n",
      "Quote Loaded\n"
     ]
    },
    {
     "name": "stderr",
     "output_type": "stream",
     "text": [
      "\r",
      " 36%|██████████████████████████████▏                                                    | 8/22 [00:02<00:04,  3.23it/s]"
     ]
    },
    {
     "name": "stdout",
     "output_type": "stream",
     "text": [
      "Getting Original Date\n",
      "Getting quots \n",
      "Ticker:  apc \n",
      "Date:  2008-01-23\n",
      "Quote Loaded\n"
     ]
    },
    {
     "name": "stderr",
     "output_type": "stream",
     "text": [
      "\r",
      " 41%|█████████████████████████████████▉                                                 | 9/22 [00:02<00:03,  3.32it/s]"
     ]
    },
    {
     "name": "stdout",
     "output_type": "stream",
     "text": [
      "Getting Original Date\n",
      "Pointing Date is -  6 (Day of the week)\n",
      "Checking Next Day\n",
      "Getting quots \n",
      "Ticker:  apc \n",
      "Date:  2008-05-13\n",
      "Quote Loaded\n"
     ]
    },
    {
     "name": "stderr",
     "output_type": "stream",
     "text": [
      "\r",
      " 45%|█████████████████████████████████████▎                                            | 10/22 [00:03<00:03,  3.28it/s]"
     ]
    },
    {
     "name": "stdout",
     "output_type": "stream",
     "text": [
      "Getting Original Date\n",
      "Pointing Date is -  6 (Day of the week)\n",
      "Checking Next Day\n",
      "Getting quots \n",
      "Ticker:  apc \n",
      "Date:  2008-12-22\n",
      "Quote Loaded\n"
     ]
    },
    {
     "name": "stderr",
     "output_type": "stream",
     "text": [
      "\r",
      " 50%|█████████████████████████████████████████                                         | 11/22 [00:03<00:03,  3.20it/s]"
     ]
    },
    {
     "name": "stdout",
     "output_type": "stream",
     "text": [
      "Getting Original Date\n",
      "Getting quots \n",
      "Ticker:  apc \n",
      "Date:  2011-05-13\n",
      "Quote Loaded\n"
     ]
    },
    {
     "name": "stderr",
     "output_type": "stream",
     "text": [
      "\r",
      " 55%|████████████████████████████████████████████▋                                     | 12/22 [00:03<00:03,  3.12it/s]"
     ]
    },
    {
     "name": "stdout",
     "output_type": "stream",
     "text": [
      "Getting Original Date\n",
      "Getting quots \n",
      "Ticker:  apc \n",
      "Date:  2011-08-18\n",
      "Quote Loaded\n"
     ]
    },
    {
     "name": "stderr",
     "output_type": "stream",
     "text": [
      "\r",
      " 59%|████████████████████████████████████████████████▍                                 | 13/22 [00:04<00:02,  3.10it/s]"
     ]
    },
    {
     "name": "stdout",
     "output_type": "stream",
     "text": [
      "Getting Original Date\n",
      "Getting quots \n",
      "Ticker:  apc \n",
      "Date:  2011-08-19\n",
      "Quote Loaded\n"
     ]
    },
    {
     "name": "stderr",
     "output_type": "stream",
     "text": [
      "\r",
      " 64%|████████████████████████████████████████████████████▏                             | 14/22 [00:04<00:02,  3.04it/s]"
     ]
    },
    {
     "name": "stdout",
     "output_type": "stream",
     "text": [
      "Getting Original Date\n",
      "Getting quots \n",
      "Ticker:  apc \n",
      "Date:  2011-10-19\n",
      "Quote Loaded\n"
     ]
    },
    {
     "name": "stderr",
     "output_type": "stream",
     "text": [
      "\r",
      " 68%|███████████████████████████████████████████████████████▉                          | 15/22 [00:04<00:02,  3.08it/s]"
     ]
    },
    {
     "name": "stdout",
     "output_type": "stream",
     "text": [
      "Getting Original Date\n",
      "Getting quots \n",
      "Ticker:  apc \n",
      "Date:  2012-04-19\n",
      "Quote Loaded\n"
     ]
    },
    {
     "name": "stderr",
     "output_type": "stream",
     "text": [
      "\r",
      " 73%|███████████████████████████████████████████████████████████▋                      | 16/22 [00:05<00:01,  3.14it/s]"
     ]
    },
    {
     "name": "stdout",
     "output_type": "stream",
     "text": [
      "Getting Original Date\n",
      "Getting quots \n",
      "Ticker:  apc \n",
      "Date:  2012-06-22\n",
      "Quote Loaded\n"
     ]
    },
    {
     "name": "stderr",
     "output_type": "stream",
     "text": [
      "\r",
      " 77%|███████████████████████████████████████████████████████████████▎                  | 17/22 [00:05<00:01,  3.18it/s]"
     ]
    },
    {
     "name": "stdout",
     "output_type": "stream",
     "text": [
      "Getting Original Date\n",
      "Getting quots \n",
      "Ticker:  apc \n",
      "Date:  2012-08-24\n",
      "Quote Loaded\n"
     ]
    },
    {
     "name": "stderr",
     "output_type": "stream",
     "text": [
      "\r",
      " 82%|███████████████████████████████████████████████████████████████████               | 18/22 [00:05<00:01,  3.19it/s]"
     ]
    },
    {
     "name": "stdout",
     "output_type": "stream",
     "text": [
      "Getting Original Date\n",
      "Getting quots \n",
      "Ticker:  apc \n",
      "Date:  2012-11-16\n",
      "Quote Loaded\n"
     ]
    },
    {
     "name": "stderr",
     "output_type": "stream",
     "text": [
      "\r",
      " 86%|██████████████████████████████████████████████████████████████████████▊           | 19/22 [00:05<00:00,  3.17it/s]"
     ]
    },
    {
     "name": "stdout",
     "output_type": "stream",
     "text": [
      "Getting Original Date\n",
      "Getting quots \n",
      "Ticker:  apc \n",
      "Date:  2012-11-23\n",
      "Quote Loaded\n"
     ]
    },
    {
     "name": "stderr",
     "output_type": "stream",
     "text": [
      "\r",
      " 91%|██████████████████████████████████████████████████████████████████████████▌       | 20/22 [00:06<00:00,  3.20it/s]"
     ]
    },
    {
     "name": "stdout",
     "output_type": "stream",
     "text": [
      "Getting Original Date\n",
      "Pointing Date is -  6 (Day of the week)\n",
      "Checking Next Day\n",
      "Getting quots \n",
      "Ticker:  apc \n",
      "Date:  2013-04-16\n",
      "Quote Loaded\n"
     ]
    },
    {
     "name": "stderr",
     "output_type": "stream",
     "text": [
      "\r",
      " 95%|██████████████████████████████████████████████████████████████████████████████▎   | 21/22 [00:06<00:00,  3.20it/s]"
     ]
    },
    {
     "name": "stdout",
     "output_type": "stream",
     "text": [
      "Getting Original Date\n",
      "Getting quots \n",
      "Ticker:  apc \n",
      "Date:  2013-05-16\n",
      "Quote Loaded\n"
     ]
    },
    {
     "name": "stderr",
     "output_type": "stream",
     "text": [
      "100%|██████████████████████████████████████████████████████████████████████████████████| 22/22 [00:06<00:00,  3.20it/s]\n"
     ]
    },
    {
     "name": "stdout",
     "output_type": "stream",
     "text": [
      "Will save to file:  PriceVsSNP500_apc.csv\n",
      "Getting Stock Price Data...\n"
     ]
    },
    {
     "name": "stderr",
     "output_type": "stream",
     "text": [
      "\r",
      "  0%|                                                                                           | 0/11 [00:00<?, ?it/s]"
     ]
    },
    {
     "name": "stdout",
     "output_type": "stream",
     "text": [
      "Getting Original Date\n",
      "Getting quots \n",
      "Ticker:  ace \n",
      "Date:  2004-08-16\n",
      "Quote Loaded\n"
     ]
    },
    {
     "name": "stderr",
     "output_type": "stream",
     "text": [
      "\r",
      "  9%|███████▌                                                                           | 1/11 [00:00<00:03,  2.95it/s]"
     ]
    },
    {
     "name": "stdout",
     "output_type": "stream",
     "text": [
      "Getting Original Date\n",
      "Pointing Date is -  6 (Day of the week)\n",
      "Checking Next Day\n",
      "Getting quots \n",
      "Ticker:  ace \n",
      "Date:  2004-10-11\n",
      "Quote Loaded\n"
     ]
    },
    {
     "name": "stderr",
     "output_type": "stream",
     "text": [
      "\r",
      " 18%|███████████████                                                                    | 2/11 [00:00<00:03,  2.77it/s]"
     ]
    },
    {
     "name": "stdout",
     "output_type": "stream",
     "text": [
      "Getting Original Date\n",
      "Getting quots \n",
      "Ticker:  ace \n",
      "Date:  2005-01-13\n",
      "Quote Loaded\n"
     ]
    },
    {
     "name": "stderr",
     "output_type": "stream",
     "text": [
      "\r",
      " 27%|██████████████████████▋                                                            | 3/11 [00:01<00:02,  2.92it/s]"
     ]
    },
    {
     "name": "stdout",
     "output_type": "stream",
     "text": [
      "Getting Original Date\n",
      "Getting quots \n",
      "Ticker:  ace \n",
      "Date:  2007-02-20\n",
      "Quote Loaded\n"
     ]
    },
    {
     "name": "stderr",
     "output_type": "stream",
     "text": [
      "\r",
      " 36%|██████████████████████████████▏                                                    | 4/11 [00:01<00:02,  2.97it/s]"
     ]
    },
    {
     "name": "stdout",
     "output_type": "stream",
     "text": [
      "Getting Original Date\n",
      "Getting quots \n",
      "Ticker:  ace \n",
      "Date:  2007-04-05\n",
      "Quote Loaded\n"
     ]
    },
    {
     "name": "stderr",
     "output_type": "stream",
     "text": [
      "\r",
      " 45%|█████████████████████████████████████▋                                             | 5/11 [00:01<00:02,  2.98it/s]"
     ]
    },
    {
     "name": "stdout",
     "output_type": "stream",
     "text": [
      "Getting Original Date\n",
      "Getting quots \n",
      "Ticker:  ace \n",
      "Date:  2008-01-23\n",
      "Quote Loaded\n"
     ]
    },
    {
     "name": "stderr",
     "output_type": "stream",
     "text": [
      "\r",
      " 55%|█████████████████████████████████████████████▎                                     | 6/11 [00:01<00:01,  3.14it/s]"
     ]
    },
    {
     "name": "stdout",
     "output_type": "stream",
     "text": [
      "Getting Original Date\n",
      "Pointing Date is -  6 (Day of the week)\n",
      "Checking Next Day\n",
      "Getting quots \n",
      "Ticker:  ace \n",
      "Date:  2010-07-20\n",
      "Quote Loaded\n"
     ]
    },
    {
     "name": "stderr",
     "output_type": "stream",
     "text": [
      "\r",
      " 64%|████████████████████████████████████████████████████▊                              | 7/11 [00:02<00:01,  3.13it/s]"
     ]
    },
    {
     "name": "stdout",
     "output_type": "stream",
     "text": [
      "Getting Original Date\n",
      "Getting quots \n",
      "Ticker:  ace \n",
      "Date:  2010-12-07\n",
      "Quote Loaded\n"
     ]
    },
    {
     "name": "stderr",
     "output_type": "stream",
     "text": [
      "\r",
      " 73%|████████████████████████████████████████████████████████████▎                      | 8/11 [00:02<00:00,  3.13it/s]"
     ]
    },
    {
     "name": "stdout",
     "output_type": "stream",
     "text": [
      "Getting Original Date\n",
      "Getting quots \n",
      "Ticker:  ace \n",
      "Date:  2011-08-11\n",
      "Quote Loaded\n"
     ]
    },
    {
     "name": "stderr",
     "output_type": "stream",
     "text": [
      "\r",
      " 82%|███████████████████████████████████████████████████████████████████▉               | 9/11 [00:02<00:00,  3.24it/s]"
     ]
    },
    {
     "name": "stdout",
     "output_type": "stream",
     "text": [
      "Getting Original Date\n",
      "Getting quots \n",
      "Ticker:  ace \n",
      "Date:  2013-04-23\n",
      "Quote Loaded\n"
     ]
    },
    {
     "name": "stderr",
     "output_type": "stream",
     "text": [
      "\r",
      " 91%|██████████████████████████████████████████████████████████████████████████▌       | 10/11 [00:03<00:00,  3.31it/s]"
     ]
    },
    {
     "name": "stdout",
     "output_type": "stream",
     "text": [
      "Getting Original Date\n",
      "Getting quots \n",
      "Ticker:  ace \n",
      "Date:  2013-05-16\n",
      "Quote Loaded\n"
     ]
    },
    {
     "name": "stderr",
     "output_type": "stream",
     "text": [
      "100%|██████████████████████████████████████████████████████████████████████████████████| 11/11 [00:03<00:00,  3.37it/s]\n"
     ]
    },
    {
     "name": "stdout",
     "output_type": "stream",
     "text": [
      "Will save to file:  PriceVsSNP500_ace.csv\n",
      "Getting Stock Price Data...\n"
     ]
    },
    {
     "name": "stderr",
     "output_type": "stream",
     "text": [
      "\r",
      "  0%|                                                                                            | 0/1 [00:00<?, ?it/s]"
     ]
    },
    {
     "name": "stdout",
     "output_type": "stream",
     "text": [
      "Getting Original Date\n",
      "Getting quots \n",
      "Ticker:  abbv \n",
      "Date:  2013-06-19\n",
      "Quote Loaded\n"
     ]
    },
    {
     "name": "stderr",
     "output_type": "stream",
     "text": [
      "100%|████████████████████████████████████████████████████████████████████████████████████| 1/1 [00:00<00:00,  4.44it/s]\n"
     ]
    },
    {
     "name": "stdout",
     "output_type": "stream",
     "text": [
      "Will save to file:  PriceVsSNP500_abbv.csv\n",
      "Getting Stock Price Data...\n"
     ]
    },
    {
     "name": "stderr",
     "output_type": "stream",
     "text": [
      "\r",
      "  0%|                                                                                           | 0/23 [00:00<?, ?it/s]"
     ]
    },
    {
     "name": "stdout",
     "output_type": "stream",
     "text": [
      "Getting Original Date\n",
      "Getting quots \n",
      "Ticker:  adi \n",
      "Date:  2004-01-20\n",
      "Quote Loaded\n"
     ]
    },
    {
     "name": "stderr",
     "output_type": "stream",
     "text": [
      "\r",
      "  4%|███▌                                                                               | 1/23 [00:00<00:06,  3.29it/s]"
     ]
    },
    {
     "name": "stdout",
     "output_type": "stream",
     "text": [
      "Getting Original Date\n",
      "Getting quots \n",
      "Ticker:  adi \n",
      "Date:  2004-05-12\n",
      "Quote Loaded\n"
     ]
    },
    {
     "name": "stderr",
     "output_type": "stream",
     "text": [
      "\r",
      "  9%|███████▏                                                                           | 2/23 [00:00<00:06,  3.02it/s]"
     ]
    },
    {
     "name": "stdout",
     "output_type": "stream",
     "text": [
      "Getting Original Date\n",
      "Getting quots \n",
      "Ticker:  adi \n",
      "Date:  2004-06-22\n",
      "Quote Loaded\n"
     ]
    },
    {
     "name": "stderr",
     "output_type": "stream",
     "text": [
      "\r",
      " 13%|██████████▊                                                                        | 3/23 [00:01<00:06,  2.92it/s]"
     ]
    },
    {
     "name": "stdout",
     "output_type": "stream",
     "text": [
      "Getting Original Date\n",
      "Getting quots \n",
      "Ticker:  adi \n",
      "Date:  2004-08-10\n",
      "Quote Loaded\n"
     ]
    },
    {
     "name": "stderr",
     "output_type": "stream",
     "text": [
      "\r",
      " 17%|██████████████▍                                                                    | 4/23 [00:01<00:06,  2.91it/s]"
     ]
    },
    {
     "name": "stdout",
     "output_type": "stream",
     "text": [
      "Getting Original Date\n",
      "Getting quots \n",
      "Ticker:  adi \n",
      "Date:  2004-11-11\n",
      "Quote Loaded\n"
     ]
    },
    {
     "name": "stderr",
     "output_type": "stream",
     "text": [
      "\r",
      " 22%|██████████████████                                                                 | 5/23 [00:02<00:10,  1.68it/s]"
     ]
    },
    {
     "name": "stdout",
     "output_type": "stream",
     "text": [
      "Getting Original Date\n",
      "Getting quots \n",
      "Ticker:  adi \n",
      "Date:  2005-01-24\n",
      "Quote Loaded\n"
     ]
    },
    {
     "name": "stderr",
     "output_type": "stream",
     "text": [
      "\r",
      " 26%|█████████████████████▋                                                             | 6/23 [00:03<00:09,  1.82it/s]"
     ]
    },
    {
     "name": "stdout",
     "output_type": "stream",
     "text": [
      "Getting Original Date\n",
      "Getting quots \n",
      "Ticker:  adi \n",
      "Date:  2005-03-17\n",
      "Quote Loaded\n"
     ]
    },
    {
     "name": "stderr",
     "output_type": "stream",
     "text": [
      "\r",
      " 30%|█████████████████████████▎                                                         | 7/23 [00:03<00:08,  1.99it/s]"
     ]
    },
    {
     "name": "stdout",
     "output_type": "stream",
     "text": [
      "Getting Original Date\n",
      "Getting quots \n",
      "Ticker:  adi \n",
      "Date:  2005-04-08\n",
      "Quote Loaded\n"
     ]
    },
    {
     "name": "stderr",
     "output_type": "stream",
     "text": [
      "\r",
      " 35%|████████████████████████████▊                                                      | 8/23 [00:03<00:07,  2.06it/s]"
     ]
    },
    {
     "name": "stdout",
     "output_type": "stream",
     "text": [
      "Getting Original Date\n",
      "Getting quots \n",
      "Ticker:  adi \n",
      "Date:  2005-09-07\n",
      "Quote Loaded\n"
     ]
    },
    {
     "name": "stderr",
     "output_type": "stream",
     "text": [
      "\r",
      " 39%|████████████████████████████████▍                                                  | 9/23 [00:04<00:06,  2.16it/s]"
     ]
    },
    {
     "name": "stdout",
     "output_type": "stream",
     "text": [
      "Getting Original Date\n",
      "Getting quots \n",
      "Ticker:  adi \n",
      "Date:  2005-10-31\n",
      "Quote Loaded\n"
     ]
    },
    {
     "name": "stderr",
     "output_type": "stream",
     "text": [
      "\r",
      " 43%|███████████████████████████████████▋                                              | 10/23 [00:04<00:05,  2.23it/s]"
     ]
    },
    {
     "name": "stdout",
     "output_type": "stream",
     "text": [
      "Getting Original Date\n",
      "Getting quots \n",
      "Ticker:  adi \n",
      "Date:  2006-12-06\n",
      "Quote Loaded\n"
     ]
    },
    {
     "name": "stderr",
     "output_type": "stream",
     "text": [
      "\r",
      " 48%|███████████████████████████████████████▏                                          | 11/23 [00:04<00:05,  2.26it/s]"
     ]
    },
    {
     "name": "stdout",
     "output_type": "stream",
     "text": [
      "Getting Original Date\n",
      "Getting quots \n",
      "Ticker:  adi \n",
      "Date:  2007-02-20\n",
      "Quote Loaded\n"
     ]
    },
    {
     "name": "stderr",
     "output_type": "stream",
     "text": [
      "\r",
      " 52%|██████████████████████████████████████████▊                                       | 12/23 [00:05<00:04,  2.32it/s]"
     ]
    },
    {
     "name": "stdout",
     "output_type": "stream",
     "text": [
      "Getting Original Date\n",
      "Getting quots \n",
      "Ticker:  adi \n",
      "Date:  2007-04-05\n",
      "Quote Loaded\n"
     ]
    },
    {
     "name": "stderr",
     "output_type": "stream",
     "text": [
      "\r",
      " 57%|██████████████████████████████████████████████▎                                   | 13/23 [00:05<00:04,  2.36it/s]"
     ]
    },
    {
     "name": "stdout",
     "output_type": "stream",
     "text": [
      "Getting Original Date\n",
      "Getting quots \n",
      "Ticker:  adi \n",
      "Date:  2008-01-23\n",
      "Quote Loaded\n"
     ]
    },
    {
     "name": "stderr",
     "output_type": "stream",
     "text": [
      "\r",
      " 61%|█████████████████████████████████████████████████▉                                | 14/23 [00:05<00:03,  2.38it/s]"
     ]
    },
    {
     "name": "stdout",
     "output_type": "stream",
     "text": [
      "Getting Original Date\n",
      "Getting quots \n",
      "Ticker:  adi \n",
      "Date:  2008-04-17\n",
      "Quote Loaded\n"
     ]
    },
    {
     "name": "stderr",
     "output_type": "stream",
     "text": [
      "\r",
      " 65%|█████████████████████████████████████████████████████▍                            | 15/23 [00:06<00:03,  2.45it/s]"
     ]
    },
    {
     "name": "stdout",
     "output_type": "stream",
     "text": [
      "Getting Original Date\n",
      "Getting quots \n",
      "Ticker:  adi \n",
      "Date:  2008-10-14\n",
      "Quote Loaded\n"
     ]
    },
    {
     "name": "stderr",
     "output_type": "stream",
     "text": [
      "\r",
      " 70%|█████████████████████████████████████████████████████████                         | 16/23 [00:06<00:02,  2.48it/s]"
     ]
    },
    {
     "name": "stdout",
     "output_type": "stream",
     "text": [
      "Getting Original Date\n",
      "Getting quots \n",
      "Ticker:  adi \n",
      "Date:  2008-12-12\n",
      "Quote Loaded\n"
     ]
    },
    {
     "name": "stderr",
     "output_type": "stream",
     "text": [
      "\r",
      " 74%|████████████████████████████████████████████████████████████▌                     | 17/23 [00:06<00:02,  2.51it/s]"
     ]
    },
    {
     "name": "stdout",
     "output_type": "stream",
     "text": [
      "Getting Original Date\n",
      "Getting quots \n",
      "Ticker:  adi \n",
      "Date:  2008-12-18\n",
      "Quote Loaded\n"
     ]
    },
    {
     "name": "stderr",
     "output_type": "stream",
     "text": [
      "\r",
      " 78%|████████████████████████████████████████████████████████████████▏                 | 18/23 [00:07<00:01,  2.53it/s]"
     ]
    },
    {
     "name": "stdout",
     "output_type": "stream",
     "text": [
      "Getting Original Date\n",
      "Getting quots \n",
      "Ticker:  adi \n",
      "Date:  2009-03-27\n",
      "Quote Loaded\n"
     ]
    },
    {
     "name": "stderr",
     "output_type": "stream",
     "text": [
      "\r",
      " 83%|███████████████████████████████████████████████████████████████████▋              | 19/23 [00:07<00:01,  2.55it/s]"
     ]
    },
    {
     "name": "stdout",
     "output_type": "stream",
     "text": [
      "Getting Original Date\n",
      "Getting quots \n",
      "Ticker:  adi \n",
      "Date:  2011-08-05\n",
      "Quote Loaded\n"
     ]
    },
    {
     "name": "stderr",
     "output_type": "stream",
     "text": [
      "\r",
      " 87%|███████████████████████████████████████████████████████████████████████▎          | 20/23 [00:07<00:01,  2.58it/s]"
     ]
    },
    {
     "name": "stdout",
     "output_type": "stream",
     "text": [
      "Getting Original Date\n",
      "Getting quots \n",
      "Ticker:  adi \n",
      "Date:  2012-03-19\n",
      "Quote Loaded\n"
     ]
    },
    {
     "name": "stderr",
     "output_type": "stream",
     "text": [
      "\r",
      " 91%|██████████████████████████████████████████████████████████████████████████▊       | 21/23 [00:08<00:00,  2.62it/s]"
     ]
    },
    {
     "name": "stdout",
     "output_type": "stream",
     "text": [
      "Getting Original Date\n",
      "Getting quots \n",
      "Ticker:  adi \n",
      "Date:  2013-04-22\n",
      "Quote Loaded\n"
     ]
    },
    {
     "name": "stderr",
     "output_type": "stream",
     "text": [
      "\r",
      " 96%|██████████████████████████████████████████████████████████████████████████████▍   | 22/23 [00:08<00:00,  2.67it/s]"
     ]
    },
    {
     "name": "stdout",
     "output_type": "stream",
     "text": [
      "Getting Original Date\n",
      "Pointing Date is -  5 (Day of the week)\n",
      "Checking Next Day\n",
      "Getting quots \n",
      "Ticker:  adi \n",
      "Date:  2013-05-13\n",
      "Quote Loaded\n"
     ]
    },
    {
     "name": "stderr",
     "output_type": "stream",
     "text": [
      "100%|██████████████████████████████████████████████████████████████████████████████████| 23/23 [00:08<00:00,  2.71it/s]\n"
     ]
    },
    {
     "name": "stdout",
     "output_type": "stream",
     "text": [
      "Will save to file:  PriceVsSNP500_adi.csv\n",
      "Getting Stock Price Data...\n"
     ]
    },
    {
     "name": "stderr",
     "output_type": "stream",
     "text": [
      "\r",
      "  0%|                                                                                           | 0/15 [00:00<?, ?it/s]"
     ]
    },
    {
     "name": "stdout",
     "output_type": "stream",
     "text": [
      "Getting Original Date\n",
      "Pointing Date is -  6 (Day of the week)\n",
      "Checking Next Day\n",
      "Getting quots \n",
      "Ticker:  aiv \n",
      "Date:  2003-10-28\n",
      "Quote Loaded\n"
     ]
    },
    {
     "name": "stderr",
     "output_type": "stream",
     "text": [
      "\r",
      "  7%|█████▌                                                                             | 1/15 [00:00<00:04,  3.14it/s]"
     ]
    },
    {
     "name": "stdout",
     "output_type": "stream",
     "text": [
      "Getting Original Date\n",
      "Pointing Date is -  6 (Day of the week)\n",
      "Checking Next Day\n",
      "Cannot Get data from Quandl. Skipping this one\n",
      "Getting Original Date\n",
      "Pointing Date is -  5 (Day of the week)\n",
      "Checking Next Day\n",
      "Pointing Date is -  6 (Day of the week)\n",
      "Checking Next Day\n",
      "Getting quots \n",
      "Ticker:  aiv \n",
      "Date:  2004-05-25\n",
      "Quote Loaded\n"
     ]
    },
    {
     "name": "stderr",
     "output_type": "stream",
     "text": [
      "\r",
      " 20%|████████████████▌                                                                  | 3/15 [00:00<00:02,  4.36it/s]"
     ]
    },
    {
     "name": "stdout",
     "output_type": "stream",
     "text": [
      "Getting Original Date\n",
      "Getting quots \n",
      "Ticker:  aiv \n",
      "Date:  2004-11-30\n",
      "Quote Loaded\n"
     ]
    },
    {
     "name": "stderr",
     "output_type": "stream",
     "text": [
      "\r",
      " 27%|██████████████████████▏                                                            | 4/15 [00:00<00:02,  4.02it/s]"
     ]
    },
    {
     "name": "stdout",
     "output_type": "stream",
     "text": [
      "Getting Original Date\n",
      "Pointing Date is -  6 (Day of the week)\n",
      "Checking Next Day\n",
      "Getting quots \n",
      "Ticker:  aiv \n",
      "Date:  2005-01-11\n",
      "Quote Loaded\n"
     ]
    },
    {
     "name": "stderr",
     "output_type": "stream",
     "text": [
      "\r",
      " 33%|███████████████████████████▋                                                       | 5/15 [00:01<00:02,  3.63it/s]"
     ]
    },
    {
     "name": "stdout",
     "output_type": "stream",
     "text": [
      "Getting Original Date\n",
      "Getting quots \n",
      "Ticker:  aiv \n",
      "Date:  2005-02-16\n",
      "Quote Loaded\n"
     ]
    },
    {
     "name": "stderr",
     "output_type": "stream",
     "text": [
      "\r",
      " 40%|█████████████████████████████████▏                                                 | 6/15 [00:01<00:02,  3.46it/s]"
     ]
    },
    {
     "name": "stdout",
     "output_type": "stream",
     "text": [
      "Getting Original Date\n",
      "Getting quots \n",
      "Ticker:  aiv \n",
      "Date:  2005-03-08\n",
      "Quote Loaded\n"
     ]
    },
    {
     "name": "stderr",
     "output_type": "stream",
     "text": [
      "\r",
      " 47%|██████████████████████████████████████▋                                            | 7/15 [00:02<00:02,  3.44it/s]"
     ]
    },
    {
     "name": "stdout",
     "output_type": "stream",
     "text": [
      "Getting Original Date\n",
      "Getting quots \n",
      "Ticker:  aiv \n",
      "Date:  2005-04-11\n",
      "Quote Loaded\n"
     ]
    },
    {
     "name": "stderr",
     "output_type": "stream",
     "text": [
      "\r",
      " 53%|████████████████████████████████████████████▎                                      | 8/15 [00:02<00:02,  3.33it/s]"
     ]
    },
    {
     "name": "stdout",
     "output_type": "stream",
     "text": [
      "Getting Original Date\n",
      "Cannot Get data from Quandl. Skipping this one\n",
      "Getting Original Date\n",
      "Getting quots \n",
      "Ticker:  aiv \n",
      "Date:  2007-01-17\n",
      "Quote Loaded\n"
     ]
    },
    {
     "name": "stderr",
     "output_type": "stream",
     "text": [
      "\r",
      " 67%|██████████████████████████████████████████████████████▋                           | 10/15 [00:02<00:01,  3.63it/s]"
     ]
    },
    {
     "name": "stdout",
     "output_type": "stream",
     "text": [
      "Getting Original Date\n",
      "Getting quots \n",
      "Ticker:  aiv \n",
      "Date:  2007-02-20\n",
      "Quote Loaded\n"
     ]
    },
    {
     "name": "stderr",
     "output_type": "stream",
     "text": [
      "\r",
      " 73%|████████████████████████████████████████████████████████████▏                     | 11/15 [00:03<00:01,  3.66it/s]"
     ]
    },
    {
     "name": "stdout",
     "output_type": "stream",
     "text": [
      "Getting Original Date\n",
      "Getting quots \n",
      "Ticker:  aiv \n",
      "Date:  2008-01-08\n",
      "Quote Loaded\n"
     ]
    },
    {
     "name": "stderr",
     "output_type": "stream",
     "text": [
      "\r",
      " 80%|█████████████████████████████████████████████████████████████████▌                | 12/15 [00:03<00:00,  3.72it/s]"
     ]
    },
    {
     "name": "stdout",
     "output_type": "stream",
     "text": [
      "Getting Original Date\n",
      "Getting quots \n",
      "Ticker:  aiv \n",
      "Date:  2008-01-23\n",
      "Quote Loaded\n"
     ]
    },
    {
     "name": "stderr",
     "output_type": "stream",
     "text": [
      "\r",
      " 87%|███████████████████████████████████████████████████████████████████████           | 13/15 [00:03<00:00,  3.68it/s]"
     ]
    },
    {
     "name": "stdout",
     "output_type": "stream",
     "text": [
      "Getting Original Date\n",
      "Getting quots \n",
      "Ticker:  aiv \n",
      "Date:  2013-04-22\n",
      "Quote Loaded\n"
     ]
    },
    {
     "name": "stderr",
     "output_type": "stream",
     "text": [
      "\r",
      " 93%|████████████████████████████████████████████████████████████████████████████▌     | 14/15 [00:03<00:00,  3.71it/s]"
     ]
    },
    {
     "name": "stdout",
     "output_type": "stream",
     "text": [
      "Getting Original Date\n",
      "Getting quots \n",
      "Ticker:  aiv \n",
      "Date:  2013-05-14\n",
      "Quote Loaded\n"
     ]
    },
    {
     "name": "stderr",
     "output_type": "stream",
     "text": [
      "100%|██████████████████████████████████████████████████████████████████████████████████| 15/15 [00:04<00:00,  3.67it/s]\n"
     ]
    },
    {
     "name": "stdout",
     "output_type": "stream",
     "text": [
      "Will save to file:  PriceVsSNP500_aiv.csv\n",
      "Getting Stock Price Data...\n"
     ]
    },
    {
     "name": "stderr",
     "output_type": "stream",
     "text": [
      "\r",
      "  0%|                                                                                           | 0/17 [00:00<?, ?it/s]"
     ]
    },
    {
     "name": "stdout",
     "output_type": "stream",
     "text": [
      "Getting Original Date\n",
      "Getting quots \n",
      "Ticker:  aci \n",
      "Date:  2003-12-15\n",
      "Quote Loaded\n"
     ]
    },
    {
     "name": "stderr",
     "output_type": "stream",
     "text": [
      "\r",
      "  6%|████▉                                                                              | 1/17 [00:00<00:04,  3.60it/s]"
     ]
    },
    {
     "name": "stdout",
     "output_type": "stream",
     "text": [
      "Getting Original Date\n",
      "Getting quots \n",
      "Ticker:  aci \n",
      "Date:  2005-01-24\n",
      "Quote Loaded\n"
     ]
    },
    {
     "name": "stderr",
     "output_type": "stream",
     "text": [
      "\r",
      " 12%|█████████▊                                                                         | 2/17 [00:00<00:04,  3.30it/s]"
     ]
    },
    {
     "name": "stdout",
     "output_type": "stream",
     "text": [
      "Getting Original Date\n",
      "Pointing Date is -  5 (Day of the week)\n",
      "Checking Next Day\n",
      "Pointing Date is -  6 (Day of the week)\n",
      "Checking Next Day\n",
      "Getting quots \n",
      "Ticker:  aci \n",
      "Date:  2005-02-08\n",
      "Quote Loaded\n"
     ]
    },
    {
     "name": "stderr",
     "output_type": "stream",
     "text": [
      "\r",
      " 18%|██████████████▋                                                                    | 3/17 [00:00<00:04,  3.22it/s]"
     ]
    },
    {
     "name": "stdout",
     "output_type": "stream",
     "text": [
      "Getting Original Date\n",
      "Getting quots \n",
      "Ticker:  aci \n",
      "Date:  2005-03-30\n",
      "Quote Loaded\n"
     ]
    },
    {
     "name": "stderr",
     "output_type": "stream",
     "text": [
      "\r",
      " 24%|███████████████████▌                                                               | 4/17 [00:01<00:03,  3.41it/s]"
     ]
    },
    {
     "name": "stdout",
     "output_type": "stream",
     "text": [
      "Getting Original Date\n",
      "Getting quots \n",
      "Ticker:  aci \n",
      "Date:  2006-05-24\n",
      "Quote Loaded\n"
     ]
    },
    {
     "name": "stderr",
     "output_type": "stream",
     "text": [
      "\r",
      " 29%|████████████████████████▍                                                          | 5/17 [00:01<00:03,  3.48it/s]"
     ]
    },
    {
     "name": "stdout",
     "output_type": "stream",
     "text": [
      "Getting Original Date\n",
      "Pointing Date is -  6 (Day of the week)\n",
      "Checking Next Day\n",
      "Getting quots \n",
      "Ticker:  aci \n",
      "Date:  2007-03-13\n",
      "Quote Loaded\n"
     ]
    },
    {
     "name": "stderr",
     "output_type": "stream",
     "text": [
      "\r",
      " 35%|█████████████████████████████▎                                                     | 6/17 [00:01<00:03,  3.49it/s]"
     ]
    },
    {
     "name": "stdout",
     "output_type": "stream",
     "text": [
      "Getting Original Date\n",
      "Pointing Date is -  5 (Day of the week)\n",
      "Checking Next Day\n",
      "Getting quots \n",
      "Ticker:  aci \n",
      "Date:  2007-04-09\n",
      "Quote Loaded\n"
     ]
    },
    {
     "name": "stderr",
     "output_type": "stream",
     "text": [
      "\r",
      " 41%|██████████████████████████████████▏                                                | 7/17 [00:01<00:02,  3.54it/s]"
     ]
    },
    {
     "name": "stdout",
     "output_type": "stream",
     "text": [
      "Getting Original Date\n",
      "Pointing Date is -  6 (Day of the week)\n",
      "Checking Next Day\n",
      "Getting quots \n",
      "Ticker:  aci \n",
      "Date:  2008-03-04\n",
      "Quote Loaded\n"
     ]
    },
    {
     "name": "stderr",
     "output_type": "stream",
     "text": [
      "\r",
      " 47%|███████████████████████████████████████                                            | 8/17 [00:02<00:02,  3.56it/s]"
     ]
    },
    {
     "name": "stdout",
     "output_type": "stream",
     "text": [
      "Getting Original Date\n",
      "Getting quots \n",
      "Ticker:  aci \n",
      "Date:  2008-06-05\n",
      "Quote Loaded\n"
     ]
    },
    {
     "name": "stderr",
     "output_type": "stream",
     "text": [
      "\r",
      " 53%|███████████████████████████████████████████▉                                       | 9/17 [00:02<00:02,  3.49it/s]"
     ]
    },
    {
     "name": "stdout",
     "output_type": "stream",
     "text": [
      "Getting Original Date\n",
      "Getting quots \n",
      "Ticker:  aci \n",
      "Date:  2008-10-08\n",
      "Quote Loaded\n"
     ]
    },
    {
     "name": "stderr",
     "output_type": "stream",
     "text": [
      "\r",
      " 59%|████████████████████████████████████████████████▏                                 | 10/17 [00:04<00:03,  2.33it/s]"
     ]
    },
    {
     "name": "stdout",
     "output_type": "stream",
     "text": [
      "Getting Original Date\n",
      "Getting quots \n",
      "Ticker:  aci \n",
      "Date:  2008-12-05\n",
      "Quote Loaded\n"
     ]
    },
    {
     "name": "stderr",
     "output_type": "stream",
     "text": [
      "\r",
      " 65%|█████████████████████████████████████████████████████                             | 11/17 [00:04<00:02,  2.43it/s]"
     ]
    },
    {
     "name": "stdout",
     "output_type": "stream",
     "text": [
      "Getting Original Date\n",
      "Pointing Date is -  5 (Day of the week)\n",
      "Checking Next Day\n",
      "Pointing Date is -  6 (Day of the week)\n",
      "Checking Next Day\n",
      "Getting quots \n",
      "Ticker:  aci \n",
      "Date:  2009-08-04\n",
      "Quote Loaded\n"
     ]
    },
    {
     "name": "stderr",
     "output_type": "stream",
     "text": [
      "\r",
      " 71%|█████████████████████████████████████████████████████████▉                        | 12/17 [00:04<00:02,  2.46it/s]"
     ]
    },
    {
     "name": "stdout",
     "output_type": "stream",
     "text": [
      "Getting Original Date\n",
      "Getting quots \n",
      "Ticker:  aci \n",
      "Date:  2011-08-18\n",
      "Quote Loaded\n"
     ]
    },
    {
     "name": "stderr",
     "output_type": "stream",
     "text": [
      "\r",
      " 76%|██████████████████████████████████████████████████████████████▋                   | 13/17 [00:05<00:01,  2.51it/s]"
     ]
    },
    {
     "name": "stdout",
     "output_type": "stream",
     "text": [
      "Getting Original Date\n",
      "Getting quots \n",
      "Ticker:  aci \n",
      "Date:  2012-07-26\n",
      "Quote Loaded\n"
     ]
    },
    {
     "name": "stderr",
     "output_type": "stream",
     "text": [
      "\r",
      " 82%|███████████████████████████████████████████████████████████████████▌              | 14/17 [00:06<00:01,  2.14it/s]"
     ]
    },
    {
     "name": "stdout",
     "output_type": "stream",
     "text": [
      "Getting Original Date\n",
      "Pointing Date is -  6 (Day of the week)\n",
      "Checking Next Day\n",
      "Getting quots \n",
      "Ticker:  aci \n",
      "Date:  2012-11-05\n",
      "Quote Loaded\n"
     ]
    },
    {
     "name": "stderr",
     "output_type": "stream",
     "text": [
      "\r",
      " 88%|████████████████████████████████████████████████████████████████████████▎         | 15/17 [00:06<00:00,  2.18it/s]"
     ]
    },
    {
     "name": "stdout",
     "output_type": "stream",
     "text": [
      "Getting Original Date\n",
      "Getting quots \n",
      "Ticker:  aci \n",
      "Date:  2013-04-23\n",
      "Quote Loaded\n"
     ]
    },
    {
     "name": "stderr",
     "output_type": "stream",
     "text": [
      "\r",
      " 94%|█████████████████████████████████████████████████████████████████████████████▏    | 16/17 [00:07<00:00,  2.21it/s]"
     ]
    },
    {
     "name": "stdout",
     "output_type": "stream",
     "text": [
      "Getting Original Date\n",
      "Getting quots \n",
      "Ticker:  aci \n",
      "Date:  2013-04-25\n",
      "Quote Loaded\n"
     ]
    },
    {
     "name": "stderr",
     "output_type": "stream",
     "text": [
      "100%|██████████████████████████████████████████████████████████████████████████████████| 17/17 [00:07<00:00,  2.25it/s]\n"
     ]
    },
    {
     "name": "stdout",
     "output_type": "stream",
     "text": [
      "Will save to file:  PriceVsSNP500_aci.csv\n",
      "Getting Stock Price Data...\n"
     ]
    },
    {
     "name": "stderr",
     "output_type": "stream",
     "text": [
      "\r",
      "  0%|                                                                                           | 0/16 [00:00<?, ?it/s]"
     ]
    },
    {
     "name": "stdout",
     "output_type": "stream",
     "text": [
      "Getting Original Date\n",
      "Getting quots \n",
      "Ticker:  aiz \n",
      "Date:  2005-01-31\n",
      "Quote Loaded\n"
     ]
    },
    {
     "name": "stderr",
     "output_type": "stream",
     "text": [
      "\r",
      "  6%|█████▏                                                                             | 1/16 [00:00<00:03,  4.01it/s]"
     ]
    },
    {
     "name": "stdout",
     "output_type": "stream",
     "text": [
      "Getting Original Date\n",
      "Getting quots \n",
      "Ticker:  aiz \n",
      "Date:  2005-02-16\n",
      "Quote Loaded\n"
     ]
    },
    {
     "name": "stderr",
     "output_type": "stream",
     "text": [
      "\r",
      " 12%|██████████▍                                                                        | 2/16 [00:00<00:03,  3.84it/s]"
     ]
    },
    {
     "name": "stdout",
     "output_type": "stream",
     "text": [
      "Getting Original Date\n",
      "Pointing Date is -  6 (Day of the week)\n",
      "Checking Next Day\n",
      "Getting quots \n",
      "Ticker:  aiz \n",
      "Date:  2005-12-27\n",
      "Quote Loaded\n"
     ]
    },
    {
     "name": "stderr",
     "output_type": "stream",
     "text": [
      "\r",
      " 19%|███████████████▌                                                                   | 3/16 [00:00<00:03,  3.48it/s]"
     ]
    },
    {
     "name": "stdout",
     "output_type": "stream",
     "text": [
      "Getting Original Date\n",
      "Getting quots \n",
      "Ticker:  aiz \n",
      "Date:  2006-02-02\n",
      "Quote Loaded\n"
     ]
    },
    {
     "name": "stderr",
     "output_type": "stream",
     "text": [
      "\r",
      " 25%|████████████████████▊                                                              | 4/16 [00:01<00:03,  3.42it/s]"
     ]
    },
    {
     "name": "stdout",
     "output_type": "stream",
     "text": [
      "Getting Original Date\n",
      "Getting quots \n",
      "Ticker:  aiz \n",
      "Date:  2006-05-23\n",
      "Quote Loaded\n"
     ]
    },
    {
     "name": "stderr",
     "output_type": "stream",
     "text": [
      "\r",
      " 31%|█████████████████████████▉                                                         | 5/16 [00:01<00:03,  3.40it/s]"
     ]
    },
    {
     "name": "stdout",
     "output_type": "stream",
     "text": [
      "Getting Original Date\n",
      "Getting quots \n",
      "Ticker:  aiz \n",
      "Date:  2006-11-08\n",
      "Quote Loaded\n"
     ]
    },
    {
     "name": "stderr",
     "output_type": "stream",
     "text": [
      "\r",
      " 38%|███████████████████████████████▏                                                   | 6/16 [00:01<00:02,  3.38it/s]"
     ]
    },
    {
     "name": "stdout",
     "output_type": "stream",
     "text": [
      "Getting Original Date\n",
      "Getting quots \n",
      "Ticker:  aiz \n",
      "Date:  2007-04-13\n",
      "Quote Loaded\n"
     ]
    },
    {
     "name": "stderr",
     "output_type": "stream",
     "text": [
      "\r",
      " 44%|████████████████████████████████████▎                                              | 7/16 [00:02<00:02,  3.34it/s]"
     ]
    },
    {
     "name": "stdout",
     "output_type": "stream",
     "text": [
      "Getting Original Date\n",
      "Pointing Date is -  6 (Day of the week)\n",
      "Checking Next Day\n",
      "Getting quots \n",
      "Ticker:  aiz \n",
      "Date:  2007-11-05\n",
      "Quote Loaded\n"
     ]
    },
    {
     "name": "stderr",
     "output_type": "stream",
     "text": [
      "\r",
      " 50%|█████████████████████████████████████████▌                                         | 8/16 [00:02<00:02,  3.26it/s]"
     ]
    },
    {
     "name": "stdout",
     "output_type": "stream",
     "text": [
      "Getting Original Date\n",
      "Getting quots \n",
      "Ticker:  aiz \n",
      "Date:  2008-01-23\n",
      "Quote Loaded\n"
     ]
    },
    {
     "name": "stderr",
     "output_type": "stream",
     "text": [
      "\r",
      " 56%|██████████████████████████████████████████████▋                                    | 9/16 [00:02<00:02,  3.19it/s]"
     ]
    },
    {
     "name": "stdout",
     "output_type": "stream",
     "text": [
      "Getting Original Date\n",
      "Getting quots \n",
      "Ticker:  aiz \n",
      "Date:  2008-01-29\n",
      "Quote Loaded\n"
     ]
    },
    {
     "name": "stderr",
     "output_type": "stream",
     "text": [
      "\r",
      " 62%|███████████████████████████████████████████████████▎                              | 10/16 [00:03<00:01,  3.21it/s]"
     ]
    },
    {
     "name": "stdout",
     "output_type": "stream",
     "text": [
      "Getting Original Date\n",
      "Getting quots \n",
      "Ticker:  aiz \n",
      "Date:  2009-11-03\n",
      "Quote Loaded\n"
     ]
    },
    {
     "name": "stderr",
     "output_type": "stream",
     "text": [
      "\r",
      " 69%|████████████████████████████████████████████████████████▍                         | 11/16 [00:03<00:01,  3.27it/s]"
     ]
    },
    {
     "name": "stdout",
     "output_type": "stream",
     "text": [
      "Getting Original Date\n",
      "Getting quots \n",
      "Ticker:  aiz \n",
      "Date:  2010-04-06\n",
      "Quote Loaded\n"
     ]
    },
    {
     "name": "stderr",
     "output_type": "stream",
     "text": [
      "\r",
      " 75%|█████████████████████████████████████████████████████████████▌                    | 12/16 [00:03<00:01,  3.25it/s]"
     ]
    },
    {
     "name": "stdout",
     "output_type": "stream",
     "text": [
      "Getting Original Date\n",
      "Pointing Date is -  6 (Day of the week)\n",
      "Checking Next Day\n",
      "Getting quots \n",
      "Ticker:  aiz \n",
      "Date:  2011-05-10\n",
      "Quote Loaded\n"
     ]
    },
    {
     "name": "stderr",
     "output_type": "stream",
     "text": [
      "\r",
      " 81%|██████████████████████████████████████████████████████████████████▋               | 13/16 [00:03<00:00,  3.26it/s]"
     ]
    },
    {
     "name": "stdout",
     "output_type": "stream",
     "text": [
      "Getting Original Date\n",
      "Pointing Date is -  6 (Day of the week)\n",
      "Checking Next Day\n",
      "Getting quots \n",
      "Ticker:  aiz \n",
      "Date:  2011-08-01\n",
      "Quote Loaded\n"
     ]
    },
    {
     "name": "stderr",
     "output_type": "stream",
     "text": [
      "\r",
      " 88%|███████████████████████████████████████████████████████████████████████▊          | 14/16 [00:04<00:00,  3.24it/s]"
     ]
    },
    {
     "name": "stdout",
     "output_type": "stream",
     "text": [
      "Getting Original Date\n",
      "Getting quots \n",
      "Ticker:  aiz \n",
      "Date:  2013-04-22\n",
      "Quote Loaded\n"
     ]
    },
    {
     "name": "stderr",
     "output_type": "stream",
     "text": [
      "\r",
      " 94%|████████████████████████████████████████████████████████████████████████████▉     | 15/16 [00:04<00:00,  3.28it/s]"
     ]
    },
    {
     "name": "stdout",
     "output_type": "stream",
     "text": [
      "Getting Original Date\n",
      "Getting quots \n",
      "Ticker:  aiz \n",
      "Date:  2013-05-07\n",
      "Quote Loaded\n"
     ]
    },
    {
     "name": "stderr",
     "output_type": "stream",
     "text": [
      "100%|██████████████████████████████████████████████████████████████████████████████████| 16/16 [00:04<00:00,  3.32it/s]\n"
     ]
    },
    {
     "name": "stdout",
     "output_type": "stream",
     "text": [
      "Will save to file:  PriceVsSNP500_aiz.csv\n",
      "Getting Stock Price Data...\n"
     ]
    },
    {
     "name": "stderr",
     "output_type": "stream",
     "text": [
      "\r",
      "  0%|                                                                                           | 0/46 [00:00<?, ?it/s]"
     ]
    },
    {
     "name": "stdout",
     "output_type": "stream",
     "text": [
      "Getting Original Date\n",
      "Getting quots \n",
      "Ticker:  amd \n",
      "Date:  2003-10-02\n",
      "Quote Loaded\n"
     ]
    },
    {
     "name": "stderr",
     "output_type": "stream",
     "text": [
      "\r",
      "  2%|█▊                                                                                 | 1/46 [00:00<00:10,  4.44it/s]"
     ]
    },
    {
     "name": "stdout",
     "output_type": "stream",
     "text": [
      "Getting Original Date\n",
      "Getting quots \n",
      "Ticker:  amd \n",
      "Date:  2003-12-15\n",
      "Quote Loaded\n"
     ]
    },
    {
     "name": "stderr",
     "output_type": "stream",
     "text": [
      "\r",
      "  4%|███▌                                                                               | 2/46 [00:00<00:11,  3.80it/s]"
     ]
    },
    {
     "name": "stdout",
     "output_type": "stream",
     "text": [
      "Getting Original Date\n",
      "Getting quots \n",
      "Ticker:  amd \n",
      "Date:  2004-07-16\n",
      "Quote Loaded\n"
     ]
    },
    {
     "name": "stderr",
     "output_type": "stream",
     "text": [
      "\r",
      "  7%|█████▍                                                                             | 3/46 [00:00<00:12,  3.52it/s]"
     ]
    },
    {
     "name": "stdout",
     "output_type": "stream",
     "text": [
      "Getting Original Date\n",
      "Getting quots \n",
      "Ticker:  amd \n",
      "Date:  2004-08-10\n",
      "Quote Loaded\n"
     ]
    },
    {
     "name": "stderr",
     "output_type": "stream",
     "text": [
      "\r",
      "  9%|███████▏                                                                           | 4/46 [00:01<00:12,  3.38it/s]"
     ]
    },
    {
     "name": "stdout",
     "output_type": "stream",
     "text": [
      "Getting Original Date\n",
      "Pointing Date is -  6 (Day of the week)\n",
      "Checking Next Day\n",
      "Getting quots \n",
      "Ticker:  amd \n",
      "Date:  2004-10-11\n",
      "Quote Loaded\n"
     ]
    },
    {
     "name": "stderr",
     "output_type": "stream",
     "text": [
      "\r",
      " 11%|█████████                                                                          | 5/46 [00:01<00:11,  3.44it/s]"
     ]
    },
    {
     "name": "stdout",
     "output_type": "stream",
     "text": [
      "Getting Original Date\n",
      "Pointing Date is -  5 (Day of the week)\n",
      "Checking Next Day\n",
      "Getting quots \n",
      "Ticker:  amd \n",
      "Date:  2004-12-06\n",
      "Quote Loaded\n"
     ]
    },
    {
     "name": "stderr",
     "output_type": "stream",
     "text": [
      "\r",
      " 13%|██████████▊                                                                        | 6/46 [00:02<00:13,  2.99it/s]"
     ]
    },
    {
     "name": "stdout",
     "output_type": "stream",
     "text": [
      "Getting Original Date\n",
      "Getting quots \n",
      "Ticker:  amd \n",
      "Date:  2005-02-07\n",
      "Quote Loaded\n"
     ]
    },
    {
     "name": "stderr",
     "output_type": "stream",
     "text": [
      "\r",
      " 15%|████████████▋                                                                      | 7/46 [00:02<00:13,  2.98it/s]"
     ]
    },
    {
     "name": "stdout",
     "output_type": "stream",
     "text": [
      "Getting Original Date\n",
      "Getting quots \n",
      "Ticker:  amd \n",
      "Date:  2006-02-06\n",
      "Quote Loaded\n"
     ]
    },
    {
     "name": "stderr",
     "output_type": "stream",
     "text": [
      "\r",
      " 17%|██████████████▍                                                                    | 8/46 [00:02<00:12,  3.02it/s]"
     ]
    },
    {
     "name": "stdout",
     "output_type": "stream",
     "text": [
      "Getting Original Date\n",
      "Getting quots \n",
      "Ticker:  amd \n",
      "Date:  2006-04-07\n",
      "Quote Loaded\n"
     ]
    },
    {
     "name": "stderr",
     "output_type": "stream",
     "text": [
      "\r",
      " 20%|████████████████▏                                                                  | 9/46 [00:02<00:11,  3.10it/s]"
     ]
    },
    {
     "name": "stdout",
     "output_type": "stream",
     "text": [
      "Getting Original Date\n",
      "Pointing Date is -  5 (Day of the week)\n",
      "Checking Next Day\n",
      "Getting quots \n",
      "Ticker:  amd \n",
      "Date:  2006-04-10\n",
      "Quote Loaded\n"
     ]
    },
    {
     "name": "stderr",
     "output_type": "stream",
     "text": [
      "\r",
      " 22%|█████████████████▊                                                                | 10/46 [00:03<00:11,  3.16it/s]"
     ]
    },
    {
     "name": "stdout",
     "output_type": "stream",
     "text": [
      "Getting Original Date\n",
      "Getting quots \n",
      "Ticker:  amd \n",
      "Date:  2006-04-13\n",
      "Quote Loaded\n"
     ]
    },
    {
     "name": "stderr",
     "output_type": "stream",
     "text": [
      "\r",
      " 24%|███████████████████▌                                                              | 11/46 [00:03<00:11,  3.12it/s]"
     ]
    },
    {
     "name": "stdout",
     "output_type": "stream",
     "text": [
      "Getting Original Date\n",
      "Getting quots \n",
      "Ticker:  amd \n",
      "Date:  2006-04-13\n",
      "Quote Loaded\n"
     ]
    },
    {
     "name": "stderr",
     "output_type": "stream",
     "text": [
      "\r",
      " 26%|█████████████████████▍                                                            | 12/46 [00:03<00:10,  3.17it/s]"
     ]
    },
    {
     "name": "stdout",
     "output_type": "stream",
     "text": [
      "Getting Original Date\n",
      "Cannot Get data from Quandl. Skipping this one\n",
      "Getting Original Date\n",
      "Getting quots \n",
      "Ticker:  amd \n",
      "Date:  2006-04-28\n",
      "Quote Loaded\n"
     ]
    },
    {
     "name": "stderr",
     "output_type": "stream",
     "text": [
      "\r",
      " 30%|████████████████████████▉                                                         | 14/46 [00:04<00:09,  3.38it/s]"
     ]
    },
    {
     "name": "stdout",
     "output_type": "stream",
     "text": [
      "Getting Original Date\n",
      "Pointing Date is -  5 (Day of the week)\n",
      "Checking Next Day\n",
      "Getting quots \n",
      "Ticker:  amd \n",
      "Date:  2006-06-19\n",
      "Quote Loaded\n"
     ]
    },
    {
     "name": "stderr",
     "output_type": "stream",
     "text": [
      "\r",
      " 33%|██████████████████████████▋                                                       | 15/46 [00:04<00:09,  3.33it/s]"
     ]
    },
    {
     "name": "stdout",
     "output_type": "stream",
     "text": [
      "Getting Original Date\n",
      "Pointing Date is -  5 (Day of the week)\n",
      "Checking Next Day\n",
      "Cannot Get data from Quandl. Skipping this one\n",
      "Getting Original Date\n",
      "Getting quots \n",
      "Ticker:  amd \n",
      "Date:  2007-02-08\n",
      "Quote Loaded\n"
     ]
    },
    {
     "name": "stderr",
     "output_type": "stream",
     "text": [
      "\r",
      " 37%|██████████████████████████████▎                                                   | 17/46 [00:04<00:08,  3.51it/s]"
     ]
    },
    {
     "name": "stdout",
     "output_type": "stream",
     "text": [
      "Getting Original Date\n",
      "Pointing Date is -  5 (Day of the week)\n",
      "Checking Next Day\n",
      "Cannot Get data from Quandl. Skipping this one\n",
      "Getting Original Date\n",
      "Getting quots \n",
      "Ticker:  amd \n",
      "Date:  2007-02-27\n",
      "Quote Loaded\n"
     ]
    },
    {
     "name": "stderr",
     "output_type": "stream",
     "text": [
      "\r",
      " 41%|█████████████████████████████████▊                                                | 19/46 [00:05<00:07,  3.73it/s]"
     ]
    },
    {
     "name": "stdout",
     "output_type": "stream",
     "text": [
      "Getting Original Date\n",
      "Getting quots \n",
      "Ticker:  amd \n",
      "Date:  2007-03-08\n",
      "Quote Loaded\n"
     ]
    },
    {
     "name": "stderr",
     "output_type": "stream",
     "text": [
      "\r",
      " 43%|███████████████████████████████████▋                                              | 20/46 [00:05<00:07,  3.70it/s]"
     ]
    },
    {
     "name": "stdout",
     "output_type": "stream",
     "text": [
      "Getting Original Date\n",
      "Getting quots \n",
      "Ticker:  amd \n",
      "Date:  2007-03-16\n",
      "Quote Loaded\n"
     ]
    },
    {
     "name": "stderr",
     "output_type": "stream",
     "text": [
      "\r",
      " 46%|█████████████████████████████████████▍                                            | 21/46 [00:05<00:06,  3.68it/s]"
     ]
    },
    {
     "name": "stdout",
     "output_type": "stream",
     "text": [
      "Getting Original Date\n",
      "Pointing Date is -  6 (Day of the week)\n",
      "Checking Next Day\n",
      "Getting quots \n",
      "Ticker:  amd \n",
      "Date:  2007-03-26\n",
      "Quote Loaded\n"
     ]
    },
    {
     "name": "stderr",
     "output_type": "stream",
     "text": [
      "\r",
      " 48%|███████████████████████████████████████▏                                          | 22/46 [00:06<00:06,  3.63it/s]"
     ]
    },
    {
     "name": "stdout",
     "output_type": "stream",
     "text": [
      "Getting Original Date\n",
      "Getting quots \n",
      "Ticker:  amd \n",
      "Date:  2007-04-09\n",
      "Quote Loaded\n"
     ]
    },
    {
     "name": "stderr",
     "output_type": "stream",
     "text": [
      "\r",
      " 50%|█████████████████████████████████████████                                         | 23/46 [00:06<00:06,  3.64it/s]"
     ]
    },
    {
     "name": "stdout",
     "output_type": "stream",
     "text": [
      "Getting Original Date\n",
      "Getting quots \n",
      "Ticker:  amd \n",
      "Date:  2007-05-16\n",
      "Quote Loaded\n"
     ]
    },
    {
     "name": "stderr",
     "output_type": "stream",
     "text": [
      "\r",
      " 52%|██████████████████████████████████████████▊                                       | 24/46 [00:06<00:06,  3.58it/s]"
     ]
    },
    {
     "name": "stdout",
     "output_type": "stream",
     "text": [
      "Getting Original Date\n",
      "Getting quots \n",
      "Ticker:  amd \n",
      "Date:  2007-05-17\n",
      "Quote Loaded\n"
     ]
    },
    {
     "name": "stderr",
     "output_type": "stream",
     "text": [
      "\r",
      " 54%|████████████████████████████████████████████▌                                     | 25/46 [00:07<00:05,  3.51it/s]"
     ]
    },
    {
     "name": "stdout",
     "output_type": "stream",
     "text": [
      "Getting Original Date\n",
      "Pointing Date is -  6 (Day of the week)\n",
      "Checking Next Day\n",
      "Getting quots \n",
      "Ticker:  amd \n",
      "Date:  2007-05-29\n",
      "Quote Loaded\n"
     ]
    },
    {
     "name": "stderr",
     "output_type": "stream",
     "text": [
      "\r",
      " 57%|██████████████████████████████████████████████▎                                   | 26/46 [00:07<00:06,  3.28it/s]"
     ]
    },
    {
     "name": "stdout",
     "output_type": "stream",
     "text": [
      "Getting Original Date\n",
      "Pointing Date is -  5 (Day of the week)\n",
      "Checking Next Day\n",
      "Pointing Date is -  6 (Day of the week)\n",
      "Checking Next Day\n",
      "Getting quots \n",
      "Ticker:  amd \n",
      "Date:  2007-06-26\n",
      "Quote Loaded\n"
     ]
    },
    {
     "name": "stderr",
     "output_type": "stream",
     "text": [
      "\r",
      " 59%|████████████████████████████████████████████████▏                                 | 27/46 [00:08<00:06,  3.15it/s]"
     ]
    },
    {
     "name": "stdout",
     "output_type": "stream",
     "text": [
      "Getting Original Date\n",
      "Getting quots \n",
      "Ticker:  amd \n",
      "Date:  2007-10-11\n",
      "Quote Loaded\n"
     ]
    },
    {
     "name": "stderr",
     "output_type": "stream",
     "text": [
      "\r",
      " 61%|█████████████████████████████████████████████████▉                                | 28/46 [00:09<00:05,  3.02it/s]"
     ]
    },
    {
     "name": "stdout",
     "output_type": "stream",
     "text": [
      "Getting Original Date\n",
      "Getting quots \n",
      "Ticker:  amd \n",
      "Date:  2008-01-23\n",
      "Quote Loaded\n"
     ]
    },
    {
     "name": "stderr",
     "output_type": "stream",
     "text": [
      "\r",
      " 63%|███████████████████████████████████████████████████▋                              | 29/46 [00:09<00:05,  2.97it/s]"
     ]
    },
    {
     "name": "stdout",
     "output_type": "stream",
     "text": [
      "Getting Original Date\n",
      "Pointing Date is -  5 (Day of the week)\n",
      "Checking Next Day\n",
      "Getting quots \n",
      "Ticker:  amd \n",
      "Date:  2008-11-03\n",
      "Quote Loaded\n"
     ]
    },
    {
     "name": "stderr",
     "output_type": "stream",
     "text": [
      "\r",
      " 65%|█████████████████████████████████████████████████████▍                            | 30/46 [00:10<00:05,  2.97it/s]"
     ]
    },
    {
     "name": "stdout",
     "output_type": "stream",
     "text": [
      "Getting Original Date\n",
      "Getting quots \n",
      "Ticker:  amd \n",
      "Date:  2008-12-18\n",
      "Quote Loaded\n"
     ]
    },
    {
     "name": "stderr",
     "output_type": "stream",
     "text": [
      "\r",
      " 67%|███████████████████████████████████████████████████████▎                          | 31/46 [00:10<00:05,  2.98it/s]"
     ]
    },
    {
     "name": "stdout",
     "output_type": "stream",
     "text": [
      "Getting Original Date\n",
      "Getting quots \n",
      "Ticker:  amd \n",
      "Date:  2009-01-21\n",
      "Quote Loaded\n"
     ]
    },
    {
     "name": "stderr",
     "output_type": "stream",
     "text": [
      "\r",
      " 70%|█████████████████████████████████████████████████████████                         | 32/46 [00:10<00:04,  2.95it/s]"
     ]
    },
    {
     "name": "stdout",
     "output_type": "stream",
     "text": [
      "Getting Original Date\n",
      "Getting quots \n",
      "Ticker:  amd \n",
      "Date:  2009-11-20\n",
      "Quote Loaded\n"
     ]
    },
    {
     "name": "stderr",
     "output_type": "stream",
     "text": [
      "\r",
      " 72%|██████████████████████████████████████████████████████████▊                       | 33/46 [00:11<00:04,  2.97it/s]"
     ]
    },
    {
     "name": "stdout",
     "output_type": "stream",
     "text": [
      "Getting Original Date\n",
      "Pointing Date is -  6 (Day of the week)\n",
      "Checking Next Day\n",
      "Getting quots \n",
      "Ticker:  amd \n",
      "Date:  2011-09-27\n",
      "Quote Loaded\n"
     ]
    },
    {
     "name": "stderr",
     "output_type": "stream",
     "text": [
      "\r",
      " 74%|████████████████████████████████████████████████████████████▌                     | 34/46 [00:11<00:04,  2.96it/s]"
     ]
    },
    {
     "name": "stdout",
     "output_type": "stream",
     "text": [
      "Getting Original Date\n",
      "Getting quots \n",
      "Ticker:  amd \n",
      "Date:  2011-11-28\n",
      "Quote Loaded\n"
     ]
    },
    {
     "name": "stderr",
     "output_type": "stream",
     "text": [
      "\r",
      " 76%|██████████████████████████████████████████████████████████████▍                   | 35/46 [00:11<00:03,  2.98it/s]"
     ]
    },
    {
     "name": "stdout",
     "output_type": "stream",
     "text": [
      "Getting Original Date\n",
      "Getting quots \n",
      "Ticker:  amd \n",
      "Date:  2011-12-28\n",
      "Quote Loaded\n"
     ]
    },
    {
     "name": "stderr",
     "output_type": "stream",
     "text": [
      "\r",
      " 78%|████████████████████████████████████████████████████████████████▏                 | 36/46 [00:12<00:03,  3.00it/s]"
     ]
    },
    {
     "name": "stdout",
     "output_type": "stream",
     "text": [
      "Getting Original Date\n",
      "Pointing Date is -  5 (Day of the week)\n",
      "Checking Next Day\n",
      "Pointing Date is -  6 (Day of the week)\n",
      "Checking Next Day\n",
      "Getting quots \n",
      "Ticker:  amd \n",
      "Date:  2012-01-31\n",
      "Quote Loaded\n"
     ]
    },
    {
     "name": "stderr",
     "output_type": "stream",
     "text": [
      "\r",
      " 80%|█████████████████████████████████████████████████████████████████▉                | 37/46 [00:12<00:03,  2.98it/s]"
     ]
    },
    {
     "name": "stdout",
     "output_type": "stream",
     "text": [
      "Getting Original Date\n",
      "Getting quots \n",
      "Ticker:  amd \n",
      "Date:  2012-03-29\n",
      "Quote Loaded\n"
     ]
    },
    {
     "name": "stderr",
     "output_type": "stream",
     "text": [
      "\r",
      " 83%|███████████████████████████████████████████████████████████████████▋              | 38/46 [00:12<00:02,  2.98it/s]"
     ]
    },
    {
     "name": "stdout",
     "output_type": "stream",
     "text": [
      "Getting Original Date\n",
      "Getting quots \n",
      "Ticker:  amd \n",
      "Date:  2012-06-15\n",
      "Quote Loaded\n"
     ]
    },
    {
     "name": "stderr",
     "output_type": "stream",
     "text": [
      "\r",
      " 85%|█████████████████████████████████████████████████████████████████████▌            | 39/46 [00:13<00:02,  2.97it/s]"
     ]
    },
    {
     "name": "stdout",
     "output_type": "stream",
     "text": [
      "Getting Original Date\n",
      "Getting quots \n",
      "Ticker:  amd \n",
      "Date:  2012-08-15\n",
      "Quote Loaded\n"
     ]
    },
    {
     "name": "stderr",
     "output_type": "stream",
     "text": [
      "\r",
      " 87%|███████████████████████████████████████████████████████████████████████▎          | 40/46 [00:13<00:02,  2.96it/s]"
     ]
    },
    {
     "name": "stdout",
     "output_type": "stream",
     "text": [
      "Getting Original Date\n",
      "Getting quots \n",
      "Ticker:  amd \n",
      "Date:  2012-10-15\n",
      "Quote Loaded\n"
     ]
    },
    {
     "name": "stderr",
     "output_type": "stream",
     "text": [
      "\r",
      " 89%|█████████████████████████████████████████████████████████████████████████         | 41/46 [00:13<00:01,  2.96it/s]"
     ]
    },
    {
     "name": "stdout",
     "output_type": "stream",
     "text": [
      "Getting Original Date\n",
      "Getting quots \n",
      "Ticker:  amd \n",
      "Date:  2012-11-14\n",
      "Quote Loaded\n"
     ]
    },
    {
     "name": "stderr",
     "output_type": "stream",
     "text": [
      "\r",
      " 91%|██████████████████████████████████████████████████████████████████████████▊       | 42/46 [00:14<00:01,  2.96it/s]"
     ]
    },
    {
     "name": "stdout",
     "output_type": "stream",
     "text": [
      "Getting Original Date\n",
      "Pointing Date is -  6 (Day of the week)\n",
      "Checking Next Day\n",
      "Getting quots \n",
      "Ticker:  amd \n",
      "Date:  2012-11-20\n",
      "Quote Loaded\n"
     ]
    },
    {
     "name": "stderr",
     "output_type": "stream",
     "text": [
      "\r",
      " 93%|████████████████████████████████████████████████████████████████████████████▋     | 43/46 [00:14<00:01,  2.96it/s]"
     ]
    },
    {
     "name": "stdout",
     "output_type": "stream",
     "text": [
      "Getting Original Date\n",
      "Cannot Get data from Quandl. Skipping this one\n",
      "Getting Original Date\n",
      "Getting quots \n",
      "Ticker:  amd \n",
      "Date:  2013-04-22\n",
      "Quote Loaded\n"
     ]
    },
    {
     "name": "stderr",
     "output_type": "stream",
     "text": [
      "\r",
      " 98%|████████████████████████████████████████████████████████████████████████████████▏ | 45/46 [00:14<00:00,  3.02it/s]"
     ]
    },
    {
     "name": "stdout",
     "output_type": "stream",
     "text": [
      "Getting Original Date\n",
      "Pointing Date is -  5 (Day of the week)\n",
      "Checking Next Day\n",
      "Getting quots \n",
      "Ticker:  amd \n",
      "Date:  2013-05-13\n",
      "Quote Loaded\n"
     ]
    },
    {
     "name": "stderr",
     "output_type": "stream",
     "text": [
      "100%|██████████████████████████████████████████████████████████████████████████████████| 46/46 [00:15<00:00,  3.04it/s]\n"
     ]
    },
    {
     "name": "stdout",
     "output_type": "stream",
     "text": [
      "Will save to file:  PriceVsSNP500_amd.csv\n",
      "Getting Stock Price Data...\n"
     ]
    },
    {
     "name": "stderr",
     "output_type": "stream",
     "text": [
      "\r",
      "  0%|                                                                                           | 0/56 [00:00<?, ?it/s]"
     ]
    },
    {
     "name": "stdout",
     "output_type": "stream",
     "text": [
      "Getting Original Date\n",
      "Getting quots \n",
      "Ticker:  amzn \n",
      "Date:  2003-10-03\n",
      "Quote Loaded\n"
     ]
    },
    {
     "name": "stderr",
     "output_type": "stream",
     "text": [
      "\r",
      "  2%|█▍                                                                                 | 1/56 [00:00<00:19,  2.87it/s]"
     ]
    },
    {
     "name": "stdout",
     "output_type": "stream",
     "text": [
      "Getting Original Date\n",
      "Getting quots \n",
      "Ticker:  amzn \n",
      "Date:  2004-08-10\n",
      "Quote Loaded\n"
     ]
    },
    {
     "name": "stderr",
     "output_type": "stream",
     "text": [
      "\r",
      "  4%|██▉                                                                                | 2/56 [00:00<00:19,  2.77it/s]"
     ]
    },
    {
     "name": "stdout",
     "output_type": "stream",
     "text": [
      "Getting Original Date\n",
      "Getting quots \n",
      "Ticker:  amzn \n",
      "Date:  2004-10-13\n",
      "Quote Loaded\n"
     ]
    },
    {
     "name": "stderr",
     "output_type": "stream",
     "text": [
      "\r",
      "  5%|████▍                                                                              | 3/56 [00:01<00:18,  2.88it/s]"
     ]
    },
    {
     "name": "stdout",
     "output_type": "stream",
     "text": [
      "Getting Original Date\n",
      "Pointing Date is -  5 (Day of the week)\n",
      "Checking Next Day\n",
      "Getting quots \n",
      "Ticker:  amzn \n",
      "Date:  2004-12-06\n",
      "Quote Loaded\n"
     ]
    },
    {
     "name": "stderr",
     "output_type": "stream",
     "text": [
      "\r",
      "  7%|█████▉                                                                             | 4/56 [00:01<00:18,  2.88it/s]"
     ]
    },
    {
     "name": "stdout",
     "output_type": "stream",
     "text": [
      "Getting Original Date\n",
      "Getting quots \n",
      "Ticker:  amzn \n",
      "Date:  2005-02-04\n",
      "Quote Loaded\n"
     ]
    },
    {
     "name": "stderr",
     "output_type": "stream",
     "text": [
      "\r",
      "  9%|███████▍                                                                           | 5/56 [00:01<00:17,  2.96it/s]"
     ]
    },
    {
     "name": "stdout",
     "output_type": "stream",
     "text": [
      "Getting Original Date\n",
      "Getting quots \n",
      "Ticker:  amzn \n",
      "Date:  2005-02-23\n",
      "Quote Loaded\n"
     ]
    },
    {
     "name": "stderr",
     "output_type": "stream",
     "text": [
      "\r",
      " 11%|████████▉                                                                          | 6/56 [00:01<00:16,  3.03it/s]"
     ]
    },
    {
     "name": "stdout",
     "output_type": "stream",
     "text": [
      "Getting Original Date\n",
      "Pointing Date is -  6 (Day of the week)\n",
      "Checking Next Day\n",
      "Getting quots \n",
      "Ticker:  amzn \n",
      "Date:  2005-04-05\n",
      "Quote Loaded\n"
     ]
    },
    {
     "name": "stderr",
     "output_type": "stream",
     "text": [
      "\r",
      " 12%|██████████▍                                                                        | 7/56 [00:02<00:15,  3.10it/s]"
     ]
    },
    {
     "name": "stdout",
     "output_type": "stream",
     "text": [
      "Getting Original Date\n",
      "Pointing Date is -  5 (Day of the week)\n",
      "Checking Next Day\n",
      "Getting quots \n",
      "Ticker:  amzn \n",
      "Date:  2005-04-25\n",
      "Quote Loaded\n"
     ]
    },
    {
     "name": "stderr",
     "output_type": "stream",
     "text": [
      "\r",
      " 14%|███████████▊                                                                       | 8/56 [00:02<00:15,  3.13it/s]"
     ]
    },
    {
     "name": "stdout",
     "output_type": "stream",
     "text": [
      "Getting Original Date\n",
      "Getting quots \n",
      "Ticker:  amzn \n",
      "Date:  2006-02-07\n",
      "Quote Loaded\n"
     ]
    },
    {
     "name": "stderr",
     "output_type": "stream",
     "text": [
      "\r",
      " 16%|█████████████▎                                                                     | 9/56 [00:02<00:14,  3.24it/s]"
     ]
    },
    {
     "name": "stdout",
     "output_type": "stream",
     "text": [
      "Getting Original Date\n",
      "Pointing Date is -  6 (Day of the week)\n",
      "Checking Next Day\n",
      "Cannot Get data from Quandl. Skipping this one\n",
      "Getting Original Date\n",
      "Getting quots \n",
      "Ticker:  amzn \n",
      "Date:  2006-02-21\n",
      "Quote Loaded\n"
     ]
    },
    {
     "name": "stderr",
     "output_type": "stream",
     "text": [
      "\r",
      " 20%|████████████████                                                                  | 11/56 [00:03<00:12,  3.56it/s]"
     ]
    },
    {
     "name": "stdout",
     "output_type": "stream",
     "text": [
      "Getting Original Date\n",
      "Getting quots \n",
      "Ticker:  amzn \n",
      "Date:  2006-02-23\n",
      "Quote Loaded\n"
     ]
    },
    {
     "name": "stderr",
     "output_type": "stream",
     "text": [
      "\r",
      " 21%|█████████████████▌                                                                | 12/56 [00:03<00:12,  3.52it/s]"
     ]
    },
    {
     "name": "stdout",
     "output_type": "stream",
     "text": [
      "Getting Original Date\n",
      "Pointing Date is -  5 (Day of the week)\n",
      "Checking Next Day\n",
      "Pointing Date is -  6 (Day of the week)\n",
      "Checking Next Day\n",
      "Getting quots \n",
      "Ticker:  amzn \n",
      "Date:  2006-02-28\n",
      "Quote Loaded\n"
     ]
    },
    {
     "name": "stderr",
     "output_type": "stream",
     "text": [
      "\r",
      " 23%|███████████████████                                                               | 13/56 [00:03<00:12,  3.46it/s]"
     ]
    },
    {
     "name": "stdout",
     "output_type": "stream",
     "text": [
      "Getting Original Date\n",
      "Getting quots \n",
      "Ticker:  amzn \n",
      "Date:  2006-03-02\n",
      "Quote Loaded\n"
     ]
    },
    {
     "name": "stderr",
     "output_type": "stream",
     "text": [
      "\r",
      " 25%|████████████████████▌                                                             | 14/56 [00:04<00:12,  3.40it/s]"
     ]
    },
    {
     "name": "stdout",
     "output_type": "stream",
     "text": [
      "Getting Original Date\n",
      "Getting quots \n",
      "Ticker:  amzn \n",
      "Date:  2006-04-10\n",
      "Quote Loaded\n"
     ]
    },
    {
     "name": "stderr",
     "output_type": "stream",
     "text": [
      "\r",
      " 27%|█████████████████████▉                                                            | 15/56 [00:04<00:11,  3.43it/s]"
     ]
    },
    {
     "name": "stdout",
     "output_type": "stream",
     "text": [
      "Getting Original Date\n",
      "Getting quots \n",
      "Ticker:  amzn \n",
      "Date:  2006-04-12\n",
      "Quote Loaded\n"
     ]
    },
    {
     "name": "stderr",
     "output_type": "stream",
     "text": [
      "\r",
      " 29%|███████████████████████▍                                                          | 16/56 [00:04<00:11,  3.37it/s]"
     ]
    },
    {
     "name": "stdout",
     "output_type": "stream",
     "text": [
      "Getting Original Date\n",
      "Getting quots \n",
      "Ticker:  amzn \n",
      "Date:  2006-04-12\n",
      "Quote Loaded\n"
     ]
    },
    {
     "name": "stderr",
     "output_type": "stream",
     "text": [
      "\r",
      " 30%|████████████████████████▉                                                         | 17/56 [00:05<00:11,  3.37it/s]"
     ]
    },
    {
     "name": "stdout",
     "output_type": "stream",
     "text": [
      "Getting Original Date\n",
      "Pointing Date is -  5 (Day of the week)\n",
      "Checking Next Day\n",
      "Getting quots \n",
      "Ticker:  amzn \n",
      "Date:  2006-04-17\n",
      "Quote Loaded\n"
     ]
    },
    {
     "name": "stderr",
     "output_type": "stream",
     "text": [
      "\r",
      " 32%|██████████████████████████▎                                                       | 18/56 [00:05<00:11,  3.35it/s]"
     ]
    },
    {
     "name": "stdout",
     "output_type": "stream",
     "text": [
      "Getting Original Date\n",
      "Getting quots \n",
      "Ticker:  amzn \n",
      "Date:  2006-04-17\n",
      "Quote Loaded\n"
     ]
    },
    {
     "name": "stderr",
     "output_type": "stream",
     "text": [
      "\r",
      " 34%|███████████████████████████▊                                                      | 19/56 [00:05<00:10,  3.39it/s]"
     ]
    },
    {
     "name": "stdout",
     "output_type": "stream",
     "text": [
      "Getting Original Date\n",
      "Getting quots \n",
      "Ticker:  amzn \n",
      "Date:  2006-04-24\n",
      "Quote Loaded\n"
     ]
    },
    {
     "name": "stderr",
     "output_type": "stream",
     "text": [
      "\r",
      " 36%|█████████████████████████████▎                                                    | 20/56 [00:05<00:10,  3.33it/s]"
     ]
    },
    {
     "name": "stdout",
     "output_type": "stream",
     "text": [
      "Getting Original Date\n",
      "Getting quots \n",
      "Ticker:  amzn \n",
      "Date:  2006-04-27\n",
      "Quote Loaded\n"
     ]
    },
    {
     "name": "stderr",
     "output_type": "stream",
     "text": [
      "\r",
      " 38%|██████████████████████████████▊                                                   | 21/56 [00:06<00:10,  3.35it/s]"
     ]
    },
    {
     "name": "stdout",
     "output_type": "stream",
     "text": [
      "Getting Original Date\n",
      "Getting quots \n",
      "Ticker:  amzn \n",
      "Date:  2006-04-27\n",
      "Quote Loaded\n"
     ]
    },
    {
     "name": "stderr",
     "output_type": "stream",
     "text": [
      "\r",
      " 39%|████████████████████████████████▏                                                 | 22/56 [00:06<00:10,  3.36it/s]"
     ]
    },
    {
     "name": "stdout",
     "output_type": "stream",
     "text": [
      "Getting Original Date\n",
      "Getting quots \n",
      "Ticker:  amzn \n",
      "Date:  2006-06-15\n",
      "Quote Loaded\n"
     ]
    },
    {
     "name": "stderr",
     "output_type": "stream",
     "text": [
      "\r",
      " 41%|█████████████████████████████████▋                                                | 23/56 [00:06<00:09,  3.34it/s]"
     ]
    },
    {
     "name": "stdout",
     "output_type": "stream",
     "text": [
      "Getting Original Date\n",
      "Getting quots \n",
      "Ticker:  amzn \n",
      "Date:  2006-07-05\n",
      "Quote Loaded\n"
     ]
    },
    {
     "name": "stderr",
     "output_type": "stream",
     "text": [
      "\r",
      " 43%|███████████████████████████████████▏                                              | 24/56 [00:07<00:09,  3.31it/s]"
     ]
    },
    {
     "name": "stdout",
     "output_type": "stream",
     "text": [
      "Getting Original Date\n",
      "Getting quots \n",
      "Ticker:  amzn \n",
      "Date:  2006-07-06\n",
      "Quote Loaded\n"
     ]
    },
    {
     "name": "stderr",
     "output_type": "stream",
     "text": [
      "\r",
      " 45%|████████████████████████████████████▌                                             | 25/56 [00:07<00:09,  3.30it/s]"
     ]
    },
    {
     "name": "stdout",
     "output_type": "stream",
     "text": [
      "Getting Original Date\n",
      "Getting quots \n",
      "Ticker:  amzn \n",
      "Date:  2006-07-18\n",
      "Quote Loaded\n"
     ]
    },
    {
     "name": "stderr",
     "output_type": "stream",
     "text": [
      "\r",
      " 46%|██████████████████████████████████████                                            | 26/56 [00:07<00:09,  3.28it/s]"
     ]
    },
    {
     "name": "stdout",
     "output_type": "stream",
     "text": [
      "Getting Original Date\n",
      "Getting quots \n",
      "Ticker:  amzn \n",
      "Date:  2006-07-18\n",
      "Quote Loaded\n"
     ]
    },
    {
     "name": "stderr",
     "output_type": "stream",
     "text": [
      "\r",
      " 48%|███████████████████████████████████████▌                                          | 27/56 [00:08<00:08,  3.28it/s]"
     ]
    },
    {
     "name": "stdout",
     "output_type": "stream",
     "text": [
      "Getting Original Date\n",
      "Getting quots \n",
      "Ticker:  amzn \n",
      "Date:  2006-07-18\n",
      "Quote Loaded\n"
     ]
    },
    {
     "name": "stderr",
     "output_type": "stream",
     "text": [
      "\r",
      " 50%|█████████████████████████████████████████                                         | 28/56 [00:08<00:08,  3.29it/s]"
     ]
    },
    {
     "name": "stdout",
     "output_type": "stream",
     "text": [
      "Getting Original Date\n",
      "Getting quots \n",
      "Ticker:  amzn \n",
      "Date:  2006-07-20\n",
      "Quote Loaded\n"
     ]
    },
    {
     "name": "stderr",
     "output_type": "stream",
     "text": [
      "\r",
      " 52%|██████████████████████████████████████████▍                                       | 29/56 [00:08<00:08,  3.32it/s]"
     ]
    },
    {
     "name": "stdout",
     "output_type": "stream",
     "text": [
      "Getting Original Date\n",
      "Getting quots \n",
      "Ticker:  amzn \n",
      "Date:  2006-07-21\n",
      "Quote Loaded\n"
     ]
    },
    {
     "name": "stderr",
     "output_type": "stream",
     "text": [
      "\r",
      " 54%|███████████████████████████████████████████▉                                      | 30/56 [00:09<00:07,  3.31it/s]"
     ]
    },
    {
     "name": "stdout",
     "output_type": "stream",
     "text": [
      "Getting Original Date\n",
      "Getting quots \n",
      "Ticker:  amzn \n",
      "Date:  2006-08-22\n",
      "Quote Loaded\n"
     ]
    },
    {
     "name": "stderr",
     "output_type": "stream",
     "text": [
      "\r",
      " 55%|█████████████████████████████████████████████▍                                    | 31/56 [00:09<00:07,  3.29it/s]"
     ]
    },
    {
     "name": "stdout",
     "output_type": "stream",
     "text": [
      "Getting Original Date\n",
      "Getting quots \n",
      "Ticker:  amzn \n",
      "Date:  2006-08-23\n",
      "Quote Loaded\n"
     ]
    },
    {
     "name": "stderr",
     "output_type": "stream",
     "text": [
      "\r",
      " 57%|██████████████████████████████████████████████▊                                   | 32/56 [00:09<00:07,  3.28it/s]"
     ]
    },
    {
     "name": "stdout",
     "output_type": "stream",
     "text": [
      "Getting Original Date\n",
      "Pointing Date is -  6 (Day of the week)\n",
      "Checking Next Day\n",
      "Cannot Get data from Quandl. Skipping this one\n",
      "Getting Original Date\n",
      "Getting quots \n",
      "Ticker:  amzn \n",
      "Date:  2006-11-29\n",
      "Quote Loaded\n"
     ]
    },
    {
     "name": "stderr",
     "output_type": "stream",
     "text": [
      "\r",
      " 61%|█████████████████████████████████████████████████▊                                | 34/56 [00:10<00:06,  3.38it/s]"
     ]
    },
    {
     "name": "stdout",
     "output_type": "stream",
     "text": [
      "Getting Original Date\n",
      "Pointing Date is -  6 (Day of the week)\n",
      "Checking Next Day\n",
      "Getting quots \n",
      "Ticker:  amzn \n",
      "Date:  2006-12-11\n",
      "Quote Loaded\n"
     ]
    },
    {
     "name": "stderr",
     "output_type": "stream",
     "text": [
      "\r",
      " 62%|███████████████████████████████████████████████████▎                              | 35/56 [00:10<00:06,  3.36it/s]"
     ]
    },
    {
     "name": "stdout",
     "output_type": "stream",
     "text": [
      "Getting Original Date\n",
      "Getting quots \n",
      "Ticker:  amzn \n",
      "Date:  2006-12-15\n",
      "Quote Loaded\n"
     ]
    },
    {
     "name": "stderr",
     "output_type": "stream",
     "text": [
      "\r",
      " 64%|████████████████████████████████████████████████████▋                             | 36/56 [00:10<00:05,  3.37it/s]"
     ]
    },
    {
     "name": "stdout",
     "output_type": "stream",
     "text": [
      "Getting Original Date\n",
      "Cannot Get data from Quandl. Skipping this one\n",
      "Getting Original Date\n",
      "Pointing Date is -  5 (Day of the week)\n",
      "Checking Next Day\n",
      "Pointing Date is -  6 (Day of the week)\n",
      "Checking Next Day\n",
      "Getting quots \n",
      "Ticker:  amzn \n",
      "Date:  2007-01-09\n",
      "Quote Loaded\n"
     ]
    },
    {
     "name": "stderr",
     "output_type": "stream",
     "text": [
      "\r",
      " 68%|███████████████████████████████████████████████████████▋                          | 38/56 [00:11<00:05,  3.45it/s]"
     ]
    },
    {
     "name": "stdout",
     "output_type": "stream",
     "text": [
      "Getting Original Date\n",
      "Getting quots \n",
      "Ticker:  amzn \n",
      "Date:  2008-01-23\n",
      "Quote Loaded\n"
     ]
    },
    {
     "name": "stderr",
     "output_type": "stream",
     "text": [
      "\r",
      " 70%|█████████████████████████████████████████████████████████                         | 39/56 [00:11<00:04,  3.43it/s]"
     ]
    },
    {
     "name": "stdout",
     "output_type": "stream",
     "text": [
      "Getting Original Date\n",
      "Getting quots \n",
      "Ticker:  amzn \n",
      "Date:  2008-10-27\n",
      "Quote Loaded\n"
     ]
    },
    {
     "name": "stderr",
     "output_type": "stream",
     "text": [
      "\r",
      " 71%|██████████████████████████████████████████████████████████▌                       | 40/56 [00:11<00:04,  3.45it/s]"
     ]
    },
    {
     "name": "stdout",
     "output_type": "stream",
     "text": [
      "Getting Original Date\n",
      "Getting quots \n",
      "Ticker:  amzn \n",
      "Date:  2008-12-18\n",
      "Quote Loaded\n"
     ]
    },
    {
     "name": "stderr",
     "output_type": "stream",
     "text": [
      "\r",
      " 73%|████████████████████████████████████████████████████████████                      | 41/56 [00:11<00:04,  3.44it/s]"
     ]
    },
    {
     "name": "stdout",
     "output_type": "stream",
     "text": [
      "Getting Original Date\n",
      "Getting quots \n",
      "Ticker:  amzn \n",
      "Date:  2009-01-05\n",
      "Quote Loaded\n"
     ]
    },
    {
     "name": "stderr",
     "output_type": "stream",
     "text": [
      "\r",
      " 75%|█████████████████████████████████████████████████████████████▌                    | 42/56 [00:12<00:04,  3.45it/s]"
     ]
    },
    {
     "name": "stdout",
     "output_type": "stream",
     "text": [
      "Getting Original Date\n",
      "Getting quots \n",
      "Ticker:  amzn \n",
      "Date:  2009-09-18\n",
      "Quote Loaded\n"
     ]
    },
    {
     "name": "stderr",
     "output_type": "stream",
     "text": [
      "\r",
      " 77%|██████████████████████████████████████████████████████████████▉                   | 43/56 [00:12<00:03,  3.43it/s]"
     ]
    },
    {
     "name": "stdout",
     "output_type": "stream",
     "text": [
      "Getting Original Date\n",
      "Getting quots \n",
      "Ticker:  amzn \n",
      "Date:  2011-09-02\n",
      "Quote Loaded\n"
     ]
    },
    {
     "name": "stderr",
     "output_type": "stream",
     "text": [
      "\r",
      " 79%|████████████████████████████████████████████████████████████████▍                 | 44/56 [00:12<00:03,  3.45it/s]"
     ]
    },
    {
     "name": "stdout",
     "output_type": "stream",
     "text": [
      "Getting Original Date\n",
      "Getting quots \n",
      "Ticker:  amzn \n",
      "Date:  2011-10-05\n",
      "Quote Loaded\n"
     ]
    },
    {
     "name": "stderr",
     "output_type": "stream",
     "text": [
      "\r",
      " 80%|█████████████████████████████████████████████████████████████████▉                | 45/56 [00:13<00:03,  3.45it/s]"
     ]
    },
    {
     "name": "stdout",
     "output_type": "stream",
     "text": [
      "Getting Original Date\n",
      "Getting quots \n",
      "Ticker:  amzn \n",
      "Date:  2011-11-02\n",
      "Quote Loaded\n"
     ]
    },
    {
     "name": "stderr",
     "output_type": "stream",
     "text": [
      "\r",
      " 82%|███████████████████████████████████████████████████████████████████▎              | 46/56 [00:13<00:02,  3.42it/s]"
     ]
    },
    {
     "name": "stdout",
     "output_type": "stream",
     "text": [
      "Getting Original Date\n",
      "Getting quots \n",
      "Ticker:  amzn \n",
      "Date:  2011-11-18\n",
      "Quote Loaded\n"
     ]
    },
    {
     "name": "stderr",
     "output_type": "stream",
     "text": [
      "\r",
      " 84%|████████████████████████████████████████████████████████████████████▊             | 47/56 [00:13<00:02,  3.43it/s]"
     ]
    },
    {
     "name": "stdout",
     "output_type": "stream",
     "text": [
      "Getting Original Date\n",
      "Pointing Date is -  6 (Day of the week)\n",
      "Checking Next Day\n",
      "Cannot Get data from Quandl. Skipping this one\n",
      "Getting Original Date\n",
      "Getting quots \n",
      "Ticker:  amzn \n",
      "Date:  2012-02-02\n",
      "Quote Loaded\n"
     ]
    },
    {
     "name": "stderr",
     "output_type": "stream",
     "text": [
      "\r",
      " 88%|███████████████████████████████████████████████████████████████████████▊          | 49/56 [00:14<00:02,  3.49it/s]"
     ]
    },
    {
     "name": "stdout",
     "output_type": "stream",
     "text": [
      "Getting Original Date\n",
      "Getting quots \n",
      "Ticker:  amzn \n",
      "Date:  2012-03-30\n",
      "Quote Loaded\n"
     ]
    },
    {
     "name": "stderr",
     "output_type": "stream",
     "text": [
      "\r",
      " 89%|█████████████████████████████████████████████████████████████████████████▏        | 50/56 [00:14<00:01,  3.48it/s]"
     ]
    },
    {
     "name": "stdout",
     "output_type": "stream",
     "text": [
      "Getting Original Date\n",
      "Pointing Date is -  6 (Day of the week)\n",
      "Checking Next Day\n",
      "Getting quots \n",
      "Ticker:  amzn \n",
      "Date:  2012-07-17\n",
      "Quote Loaded\n"
     ]
    },
    {
     "name": "stderr",
     "output_type": "stream",
     "text": [
      "\r",
      " 91%|██████████████████████████████████████████████████████████████████████████▋       | 51/56 [00:14<00:01,  3.47it/s]"
     ]
    },
    {
     "name": "stdout",
     "output_type": "stream",
     "text": [
      "Getting Original Date\n",
      "Pointing Date is -  6 (Day of the week)\n",
      "Checking Next Day\n",
      "Getting quots \n",
      "Ticker:  amzn \n",
      "Date:  2012-09-25\n",
      "Quote Loaded\n"
     ]
    },
    {
     "name": "stderr",
     "output_type": "stream",
     "text": [
      "\r",
      " 93%|████████████████████████████████████████████████████████████████████████████▏     | 52/56 [00:15<00:01,  3.46it/s]"
     ]
    },
    {
     "name": "stdout",
     "output_type": "stream",
     "text": [
      "Getting Original Date\n",
      "Getting quots \n",
      "Ticker:  amzn \n",
      "Date:  2012-10-12\n",
      "Quote Loaded\n"
     ]
    },
    {
     "name": "stderr",
     "output_type": "stream",
     "text": [
      "\r",
      " 95%|█████████████████████████████████████████████████████████████████████████████▌    | 53/56 [00:15<00:00,  3.47it/s]"
     ]
    },
    {
     "name": "stdout",
     "output_type": "stream",
     "text": [
      "Getting Original Date\n",
      "Getting quots \n",
      "Ticker:  amzn \n",
      "Date:  2013-02-06\n",
      "Quote Loaded\n"
     ]
    },
    {
     "name": "stderr",
     "output_type": "stream",
     "text": [
      "\r",
      " 96%|███████████████████████████████████████████████████████████████████████████████   | 54/56 [00:15<00:00,  3.46it/s]"
     ]
    },
    {
     "name": "stdout",
     "output_type": "stream",
     "text": [
      "Getting Original Date\n",
      "Getting quots \n",
      "Ticker:  amzn \n",
      "Date:  2013-05-08\n",
      "Quote Loaded\n"
     ]
    },
    {
     "name": "stderr",
     "output_type": "stream",
     "text": [
      "\r",
      " 98%|████████████████████████████████████████████████████████████████████████████████▌ | 55/56 [00:15<00:00,  3.45it/s]"
     ]
    },
    {
     "name": "stdout",
     "output_type": "stream",
     "text": [
      "Getting Original Date\n",
      "Getting quots \n",
      "Ticker:  amzn \n",
      "Date:  2013-09-05\n",
      "Quote Loaded\n"
     ]
    },
    {
     "name": "stderr",
     "output_type": "stream",
     "text": [
      "100%|██████████████████████████████████████████████████████████████████████████████████| 56/56 [00:16<00:00,  3.45it/s]\n"
     ]
    },
    {
     "name": "stdout",
     "output_type": "stream",
     "text": [
      "Will save to file:  PriceVsSNP500_amzn.csv\n",
      "Getting Stock Price Data...\n"
     ]
    },
    {
     "name": "stderr",
     "output_type": "stream",
     "text": [
      "\r",
      "  0%|                                                                                           | 0/19 [00:00<?, ?it/s]"
     ]
    },
    {
     "name": "stdout",
     "output_type": "stream",
     "text": [
      "Getting Original Date\n",
      "Getting quots \n",
      "Ticker:  avp \n",
      "Date:  2004-07-08\n",
      "Quote Loaded\n"
     ]
    },
    {
     "name": "stderr",
     "output_type": "stream",
     "text": [
      "\r",
      "  5%|████▎                                                                              | 1/19 [00:00<00:07,  2.44it/s]"
     ]
    },
    {
     "name": "stdout",
     "output_type": "stream",
     "text": [
      "Getting Original Date\n",
      "Pointing Date is -  5 (Day of the week)\n",
      "Checking Next Day\n",
      "Pointing Date is -  6 (Day of the week)\n",
      "Checking Next Day\n",
      "Getting quots \n",
      "Ticker:  avp \n",
      "Date:  2004-09-21\n",
      "Quote Loaded\n"
     ]
    },
    {
     "name": "stderr",
     "output_type": "stream",
     "text": [
      "\r",
      " 11%|████████▋                                                                          | 2/19 [00:00<00:06,  2.72it/s]"
     ]
    },
    {
     "name": "stdout",
     "output_type": "stream",
     "text": [
      "Getting Original Date\n",
      "Getting quots \n",
      "Ticker:  avp \n",
      "Date:  2004-11-01\n",
      "Quote Loaded\n"
     ]
    },
    {
     "name": "stderr",
     "output_type": "stream",
     "text": [
      "\r",
      " 16%|█████████████                                                                      | 3/19 [00:01<00:05,  2.82it/s]"
     ]
    },
    {
     "name": "stdout",
     "output_type": "stream",
     "text": [
      "Getting Original Date\n",
      "Getting quots \n",
      "Ticker:  avp \n",
      "Date:  2005-02-07\n",
      "Quote Loaded\n"
     ]
    },
    {
     "name": "stderr",
     "output_type": "stream",
     "text": [
      "\r",
      " 21%|█████████████████▍                                                                 | 4/19 [00:01<00:05,  2.70it/s]"
     ]
    },
    {
     "name": "stdout",
     "output_type": "stream",
     "text": [
      "Getting Original Date\n",
      "Getting quots \n",
      "Ticker:  avp \n",
      "Date:  2005-03-24\n",
      "Quote Loaded\n"
     ]
    },
    {
     "name": "stderr",
     "output_type": "stream",
     "text": [
      "\r",
      " 26%|█████████████████████▊                                                             | 5/19 [00:01<00:05,  2.77it/s]"
     ]
    },
    {
     "name": "stdout",
     "output_type": "stream",
     "text": [
      "Getting Original Date\n",
      "Pointing Date is -  5 (Day of the week)\n",
      "Checking Next Day\n",
      "Pointing Date is -  6 (Day of the week)\n",
      "Checking Next Day\n",
      "Getting quots \n",
      "Ticker:  avp \n",
      "Date:  2005-04-19\n",
      "Quote Loaded\n"
     ]
    },
    {
     "name": "stderr",
     "output_type": "stream",
     "text": [
      "\r",
      " 32%|██████████████████████████▏                                                        | 6/19 [00:02<00:05,  2.49it/s]"
     ]
    },
    {
     "name": "stdout",
     "output_type": "stream",
     "text": [
      "Getting Original Date\n",
      "Getting quots \n",
      "Ticker:  avp \n",
      "Date:  2006-02-23\n",
      "Quote Loaded\n"
     ]
    },
    {
     "name": "stderr",
     "output_type": "stream",
     "text": [
      "\r",
      " 37%|██████████████████████████████▌                                                    | 7/19 [00:02<00:04,  2.56it/s]"
     ]
    },
    {
     "name": "stdout",
     "output_type": "stream",
     "text": [
      "Getting Original Date\n",
      "Getting quots \n",
      "Ticker:  avp \n",
      "Date:  2006-08-21\n",
      "Quote Loaded\n"
     ]
    },
    {
     "name": "stderr",
     "output_type": "stream",
     "text": [
      "\r",
      " 42%|██████████████████████████████████▉                                                | 8/19 [00:03<00:04,  2.62it/s]"
     ]
    },
    {
     "name": "stdout",
     "output_type": "stream",
     "text": [
      "Getting Original Date\n",
      "Getting quots \n",
      "Ticker:  avp \n",
      "Date:  2007-02-27\n",
      "Quote Loaded\n"
     ]
    },
    {
     "name": "stderr",
     "output_type": "stream",
     "text": [
      "\r",
      " 47%|███████████████████████████████████████▎                                           | 9/19 [00:03<00:03,  2.72it/s]"
     ]
    },
    {
     "name": "stdout",
     "output_type": "stream",
     "text": [
      "Getting Original Date\n",
      "Pointing Date is -  5 (Day of the week)\n",
      "Checking Next Day\n",
      "Getting quots \n",
      "Ticker:  avp \n",
      "Date:  2007-04-09\n",
      "Quote Loaded\n"
     ]
    },
    {
     "name": "stderr",
     "output_type": "stream",
     "text": [
      "\r",
      " 53%|███████████████████████████████████████████▏                                      | 10/19 [00:03<00:03,  2.68it/s]"
     ]
    },
    {
     "name": "stdout",
     "output_type": "stream",
     "text": [
      "Getting Original Date\n",
      "Pointing Date is -  5 (Day of the week)\n",
      "Checking Next Day\n",
      "Pointing Date is -  6 (Day of the week)\n",
      "Checking Next Day\n",
      "Getting quots \n",
      "Ticker:  avp \n",
      "Date:  2007-06-05\n",
      "Quote Loaded\n"
     ]
    },
    {
     "name": "stderr",
     "output_type": "stream",
     "text": [
      "\r",
      " 58%|███████████████████████████████████████████████▍                                  | 11/19 [00:03<00:02,  2.76it/s]"
     ]
    },
    {
     "name": "stdout",
     "output_type": "stream",
     "text": [
      "Getting Original Date\n",
      "Getting quots \n",
      "Ticker:  avp \n",
      "Date:  2007-06-04\n",
      "Quote Loaded\n"
     ]
    },
    {
     "name": "stderr",
     "output_type": "stream",
     "text": [
      "\r",
      " 63%|███████████████████████████████████████████████████▊                              | 12/19 [00:04<00:02,  2.76it/s]"
     ]
    },
    {
     "name": "stdout",
     "output_type": "stream",
     "text": [
      "Getting Original Date\n",
      "Getting quots \n",
      "Ticker:  avp \n",
      "Date:  2008-01-23\n",
      "Quote Loaded\n"
     ]
    },
    {
     "name": "stderr",
     "output_type": "stream",
     "text": [
      "\r",
      " 68%|████████████████████████████████████████████████████████                          | 13/19 [00:04<00:02,  2.75it/s]"
     ]
    },
    {
     "name": "stdout",
     "output_type": "stream",
     "text": [
      "Getting Original Date\n",
      "Pointing Date is -  5 (Day of the week)\n",
      "Checking Next Day\n",
      "Getting quots \n",
      "Ticker:  avp \n",
      "Date:  2009-01-12\n",
      "Quote Loaded\n"
     ]
    },
    {
     "name": "stderr",
     "output_type": "stream",
     "text": [
      "\r",
      " 74%|████████████████████████████████████████████████████████████▍                     | 14/19 [00:05<00:01,  2.77it/s]"
     ]
    },
    {
     "name": "stdout",
     "output_type": "stream",
     "text": [
      "Getting Original Date\n",
      "Getting quots \n",
      "Ticker:  avp \n",
      "Date:  2010-02-11\n",
      "Quote Loaded\n"
     ]
    },
    {
     "name": "stderr",
     "output_type": "stream",
     "text": [
      "\r",
      " 79%|████████████████████████████████████████████████████████████████▋                 | 15/19 [00:05<00:01,  2.80it/s]"
     ]
    },
    {
     "name": "stdout",
     "output_type": "stream",
     "text": [
      "Getting Original Date\n",
      "Getting quots \n",
      "Ticker:  avp \n",
      "Date:  2012-01-23\n",
      "Quote Loaded\n"
     ]
    },
    {
     "name": "stderr",
     "output_type": "stream",
     "text": [
      "\r",
      " 84%|█████████████████████████████████████████████████████████████████████             | 16/19 [00:05<00:01,  2.84it/s]"
     ]
    },
    {
     "name": "stdout",
     "output_type": "stream",
     "text": [
      "Getting Original Date\n",
      "Pointing Date is -  5 (Day of the week)\n",
      "Checking Next Day\n",
      "Pointing Date is -  6 (Day of the week)\n",
      "Checking Next Day\n",
      "Getting quots \n",
      "Ticker:  avp \n",
      "Date:  2012-07-31\n",
      "Quote Loaded\n"
     ]
    },
    {
     "name": "stderr",
     "output_type": "stream",
     "text": [
      "\r",
      " 89%|█████████████████████████████████████████████████████████████████████████▎        | 17/19 [00:05<00:00,  2.83it/s]"
     ]
    },
    {
     "name": "stdout",
     "output_type": "stream",
     "text": [
      "Getting Original Date\n",
      "Getting quots \n",
      "Ticker:  avp \n",
      "Date:  2013-04-01\n",
      "Quote Loaded\n"
     ]
    },
    {
     "name": "stderr",
     "output_type": "stream",
     "text": [
      "\r",
      " 95%|█████████████████████████████████████████████████████████████████████████████▋    | 18/19 [00:06<00:00,  2.85it/s]"
     ]
    },
    {
     "name": "stdout",
     "output_type": "stream",
     "text": [
      "Getting Original Date\n",
      "Getting quots \n",
      "Ticker:  avp \n",
      "Date:  2013-06-03\n",
      "Quote Loaded\n"
     ]
    },
    {
     "name": "stderr",
     "output_type": "stream",
     "text": [
      "100%|██████████████████████████████████████████████████████████████████████████████████| 19/19 [00:06<00:00,  2.85it/s]\n"
     ]
    },
    {
     "name": "stdout",
     "output_type": "stream",
     "text": [
      "Will save to file:  PriceVsSNP500_avp.csv\n",
      "Getting Stock Price Data...\n"
     ]
    },
    {
     "name": "stderr",
     "output_type": "stream",
     "text": [
      "\r",
      "  0%|                                                                                           | 0/16 [00:00<?, ?it/s]"
     ]
    },
    {
     "name": "stdout",
     "output_type": "stream",
     "text": [
      "Getting Original Date\n",
      "Getting quots \n",
      "Ticker:  azo \n",
      "Date:  2003-10-03\n",
      "Quote Loaded\n"
     ]
    },
    {
     "name": "stderr",
     "output_type": "stream",
     "text": [
      "\r",
      "  6%|█████▏                                                                             | 1/16 [00:00<00:05,  2.73it/s]"
     ]
    },
    {
     "name": "stdout",
     "output_type": "stream",
     "text": [
      "Getting Original Date\n",
      "Getting quots \n",
      "Ticker:  azo \n",
      "Date:  2004-09-23\n",
      "Quote Loaded\n"
     ]
    },
    {
     "name": "stderr",
     "output_type": "stream",
     "text": [
      "\r",
      " 12%|██████████▍                                                                        | 2/16 [00:00<00:04,  3.26it/s]"
     ]
    },
    {
     "name": "stdout",
     "output_type": "stream",
     "text": [
      "Getting Original Date\n",
      "Getting quots \n",
      "Ticker:  azo \n",
      "Date:  2004-10-12\n",
      "Quote Loaded\n"
     ]
    },
    {
     "name": "stderr",
     "output_type": "stream",
     "text": [
      "\r",
      " 19%|███████████████▌                                                                   | 3/16 [00:00<00:04,  3.03it/s]"
     ]
    },
    {
     "name": "stdout",
     "output_type": "stream",
     "text": [
      "Getting Original Date\n",
      "Getting quots \n",
      "Ticker:  azo \n",
      "Date:  2005-05-11\n",
      "Quote Loaded\n"
     ]
    },
    {
     "name": "stderr",
     "output_type": "stream",
     "text": [
      "\r",
      " 25%|████████████████████▊                                                              | 4/16 [00:01<00:03,  3.03it/s]"
     ]
    },
    {
     "name": "stdout",
     "output_type": "stream",
     "text": [
      "Getting Original Date\n",
      "Pointing Date is -  5 (Day of the week)\n",
      "Checking Next Day\n",
      "Getting quots \n",
      "Ticker:  azo \n",
      "Date:  2006-06-19\n",
      "Quote Loaded\n"
     ]
    },
    {
     "name": "stderr",
     "output_type": "stream",
     "text": [
      "\r",
      " 31%|█████████████████████████▉                                                         | 5/16 [00:01<00:03,  3.01it/s]"
     ]
    },
    {
     "name": "stdout",
     "output_type": "stream",
     "text": [
      "Getting Original Date\n",
      "Getting quots \n",
      "Ticker:  azo \n",
      "Date:  2007-01-16\n",
      "Quote Loaded\n"
     ]
    },
    {
     "name": "stderr",
     "output_type": "stream",
     "text": [
      "\r",
      " 38%|███████████████████████████████▏                                                   | 6/16 [00:02<00:03,  2.99it/s]"
     ]
    },
    {
     "name": "stdout",
     "output_type": "stream",
     "text": [
      "Getting Original Date\n",
      "Getting quots \n",
      "Ticker:  azo \n",
      "Date:  2007-02-20\n",
      "Quote Loaded\n"
     ]
    },
    {
     "name": "stderr",
     "output_type": "stream",
     "text": [
      "\r",
      " 44%|████████████████████████████████████▎                                              | 7/16 [00:02<00:02,  3.02it/s]"
     ]
    },
    {
     "name": "stdout",
     "output_type": "stream",
     "text": [
      "Getting Original Date\n",
      "Getting quots \n",
      "Ticker:  azo \n",
      "Date:  2007-12-14\n",
      "Quote Loaded\n"
     ]
    },
    {
     "name": "stderr",
     "output_type": "stream",
     "text": [
      "\r",
      " 50%|█████████████████████████████████████████▌                                         | 8/16 [00:02<00:02,  3.02it/s]"
     ]
    },
    {
     "name": "stdout",
     "output_type": "stream",
     "text": [
      "Getting Original Date\n",
      "Getting quots \n",
      "Ticker:  azo \n",
      "Date:  2008-01-23\n",
      "Quote Loaded\n"
     ]
    },
    {
     "name": "stderr",
     "output_type": "stream",
     "text": [
      "\r",
      " 56%|██████████████████████████████████████████████▋                                    | 9/16 [00:03<00:02,  3.00it/s]"
     ]
    },
    {
     "name": "stdout",
     "output_type": "stream",
     "text": [
      "Getting Original Date\n",
      "Getting quots \n",
      "Ticker:  azo \n",
      "Date:  2008-12-11\n",
      "Quote Loaded\n"
     ]
    },
    {
     "name": "stderr",
     "output_type": "stream",
     "text": [
      "\r",
      " 62%|███████████████████████████████████████████████████▎                              | 10/16 [00:03<00:01,  3.02it/s]"
     ]
    },
    {
     "name": "stdout",
     "output_type": "stream",
     "text": [
      "Getting Original Date\n",
      "Pointing Date is -  6 (Day of the week)\n",
      "Checking Next Day\n",
      "Getting quots \n",
      "Ticker:  azo \n",
      "Date:  2008-12-16\n",
      "Quote Loaded\n"
     ]
    },
    {
     "name": "stderr",
     "output_type": "stream",
     "text": [
      "\r",
      " 69%|████████████████████████████████████████████████████████▍                         | 11/16 [00:03<00:01,  3.00it/s]"
     ]
    },
    {
     "name": "stdout",
     "output_type": "stream",
     "text": [
      "Getting Original Date\n",
      "Getting quots \n",
      "Ticker:  azo \n",
      "Date:  2011-09-26\n",
      "Quote Loaded\n"
     ]
    },
    {
     "name": "stderr",
     "output_type": "stream",
     "text": [
      "\r",
      " 75%|█████████████████████████████████████████████████████████████▌                    | 12/16 [00:04<00:01,  2.99it/s]"
     ]
    },
    {
     "name": "stdout",
     "output_type": "stream",
     "text": [
      "Getting Original Date\n",
      "Getting quots \n",
      "Ticker:  azo \n",
      "Date:  2012-07-23\n",
      "Quote Loaded\n"
     ]
    },
    {
     "name": "stderr",
     "output_type": "stream",
     "text": [
      "\r",
      " 81%|██████████████████████████████████████████████████████████████████▋               | 13/16 [00:04<00:00,  3.06it/s]"
     ]
    },
    {
     "name": "stdout",
     "output_type": "stream",
     "text": [
      "Getting Original Date\n",
      "Pointing Date is -  6 (Day of the week)\n",
      "Checking Next Day\n",
      "Getting quots \n",
      "Ticker:  azo \n",
      "Date:  2012-09-25\n",
      "Quote Loaded\n"
     ]
    },
    {
     "name": "stderr",
     "output_type": "stream",
     "text": [
      "\r",
      " 88%|███████████████████████████████████████████████████████████████████████▊          | 14/16 [00:04<00:00,  3.07it/s]"
     ]
    },
    {
     "name": "stdout",
     "output_type": "stream",
     "text": [
      "Getting Original Date\n",
      "Getting quots \n",
      "Ticker:  azo \n",
      "Date:  2012-10-11\n",
      "Quote Loaded\n"
     ]
    },
    {
     "name": "stderr",
     "output_type": "stream",
     "text": [
      "\r",
      " 94%|████████████████████████████████████████████████████████████████████████████▉     | 15/16 [00:04<00:00,  3.12it/s]"
     ]
    },
    {
     "name": "stdout",
     "output_type": "stream",
     "text": [
      "Getting Original Date\n",
      "Pointing Date is -  5 (Day of the week)\n",
      "Checking Next Day\n",
      "Pointing Date is -  6 (Day of the week)\n",
      "Checking Next Day\n",
      "Getting quots \n",
      "Ticker:  azo \n",
      "Date:  2013-05-21\n",
      "Quote Loaded\n"
     ]
    },
    {
     "name": "stderr",
     "output_type": "stream",
     "text": [
      "100%|██████████████████████████████████████████████████████████████████████████████████| 16/16 [00:05<00:00,  3.11it/s]\n"
     ]
    },
    {
     "name": "stdout",
     "output_type": "stream",
     "text": [
      "Will save to file:  PriceVsSNP500_azo.csv\n",
      "Getting Stock Price Data...\n"
     ]
    },
    {
     "name": "stderr",
     "output_type": "stream",
     "text": [
      "\r",
      "  0%|                                                                                           | 0/47 [00:00<?, ?it/s]"
     ]
    },
    {
     "name": "stdout",
     "output_type": "stream",
     "text": [
      "Getting Original Date\n",
      "Pointing Date is -  6 (Day of the week)\n",
      "Checking Next Day\n",
      "Getting quots \n",
      "Ticker:  bac \n",
      "Date:  2003-10-28\n",
      "Quote Loaded\n"
     ]
    },
    {
     "name": "stderr",
     "output_type": "stream",
     "text": [
      "\r",
      "  2%|█▊                                                                                 | 1/47 [00:00<00:15,  2.99it/s]"
     ]
    },
    {
     "name": "stdout",
     "output_type": "stream",
     "text": [
      "Getting Original Date\n",
      "Pointing Date is -  6 (Day of the week)\n",
      "Checking Next Day\n",
      "Getting quots \n",
      "Ticker:  bac \n",
      "Date:  2003-12-09\n",
      "Quote Loaded\n"
     ]
    },
    {
     "name": "stderr",
     "output_type": "stream",
     "text": [
      "\r",
      "  4%|███▌                                                                               | 2/47 [00:00<00:15,  2.85it/s]"
     ]
    },
    {
     "name": "stdout",
     "output_type": "stream",
     "text": [
      "Getting Original Date\n",
      "Pointing Date is -  6 (Day of the week)\n",
      "Checking Next Day\n",
      "Getting quots \n",
      "Ticker:  bac \n",
      "Date:  2004-09-21\n",
      "Quote Loaded\n"
     ]
    },
    {
     "name": "stderr",
     "output_type": "stream",
     "text": [
      "\r",
      "  6%|█████▎                                                                             | 3/47 [00:00<00:14,  3.01it/s]"
     ]
    },
    {
     "name": "stdout",
     "output_type": "stream",
     "text": [
      "Getting Original Date\n",
      "Getting quots \n",
      "Ticker:  bac \n",
      "Date:  2004-10-14\n",
      "Quote Loaded\n"
     ]
    },
    {
     "name": "stderr",
     "output_type": "stream",
     "text": [
      "\r",
      "  9%|███████                                                                            | 4/47 [00:01<00:14,  2.98it/s]"
     ]
    },
    {
     "name": "stdout",
     "output_type": "stream",
     "text": [
      "Getting Original Date\n",
      "Getting quots \n",
      "Ticker:  bac \n",
      "Date:  2005-02-07\n",
      "Quote Loaded\n"
     ]
    },
    {
     "name": "stderr",
     "output_type": "stream",
     "text": [
      "\r",
      " 11%|████████▊                                                                          | 5/47 [00:01<00:13,  3.06it/s]"
     ]
    },
    {
     "name": "stdout",
     "output_type": "stream",
     "text": [
      "Getting Original Date\n",
      "Getting quots \n",
      "Ticker:  bac \n",
      "Date:  2005-03-21\n",
      "Quote Loaded\n"
     ]
    },
    {
     "name": "stderr",
     "output_type": "stream",
     "text": [
      "\r",
      " 13%|██████████▌                                                                        | 6/47 [00:01<00:13,  3.05it/s]"
     ]
    },
    {
     "name": "stdout",
     "output_type": "stream",
     "text": [
      "Getting Original Date\n",
      "Getting quots \n",
      "Ticker:  bac \n",
      "Date:  2006-02-24\n",
      "Quote Loaded\n"
     ]
    },
    {
     "name": "stderr",
     "output_type": "stream",
     "text": [
      "\r",
      " 15%|████████████▎                                                                      | 7/47 [00:02<00:13,  3.07it/s]"
     ]
    },
    {
     "name": "stdout",
     "output_type": "stream",
     "text": [
      "Getting Original Date\n",
      "Getting quots \n",
      "Ticker:  bac \n",
      "Date:  2006-04-07\n",
      "Quote Loaded\n"
     ]
    },
    {
     "name": "stderr",
     "output_type": "stream",
     "text": [
      "\r",
      " 17%|██████████████▏                                                                    | 8/47 [00:02<00:12,  3.19it/s]"
     ]
    },
    {
     "name": "stdout",
     "output_type": "stream",
     "text": [
      "Getting Original Date\n",
      "Pointing Date is -  5 (Day of the week)\n",
      "Checking Next Day\n",
      "Getting quots \n",
      "Ticker:  bac \n",
      "Date:  2006-06-19\n",
      "Quote Loaded\n"
     ]
    },
    {
     "name": "stderr",
     "output_type": "stream",
     "text": [
      "\r",
      " 19%|███████████████▉                                                                   | 9/47 [00:02<00:11,  3.19it/s]"
     ]
    },
    {
     "name": "stdout",
     "output_type": "stream",
     "text": [
      "Getting Original Date\n",
      "Getting quots \n",
      "Ticker:  bac \n",
      "Date:  2006-12-06\n",
      "Quote Loaded\n"
     ]
    },
    {
     "name": "stderr",
     "output_type": "stream",
     "text": [
      "\r",
      " 21%|█████████████████▍                                                                | 10/47 [00:03<00:11,  3.17it/s]"
     ]
    },
    {
     "name": "stdout",
     "output_type": "stream",
     "text": [
      "Getting Original Date\n",
      "Getting quots \n",
      "Ticker:  bac \n",
      "Date:  2007-02-22\n",
      "Quote Loaded\n"
     ]
    },
    {
     "name": "stderr",
     "output_type": "stream",
     "text": [
      "\r",
      " 23%|███████████████████▏                                                              | 11/47 [00:03<00:11,  3.17it/s]"
     ]
    },
    {
     "name": "stdout",
     "output_type": "stream",
     "text": [
      "Getting Original Date\n",
      "Getting quots \n",
      "Ticker:  bac \n",
      "Date:  2007-02-27\n",
      "Quote Loaded\n"
     ]
    },
    {
     "name": "stderr",
     "output_type": "stream",
     "text": [
      "\r",
      " 26%|████████████████████▉                                                             | 12/47 [00:03<00:10,  3.19it/s]"
     ]
    },
    {
     "name": "stdout",
     "output_type": "stream",
     "text": [
      "Getting Original Date\n",
      "Getting quots \n",
      "Ticker:  bac \n",
      "Date:  2007-05-02\n",
      "Quote Loaded\n"
     ]
    },
    {
     "name": "stderr",
     "output_type": "stream",
     "text": [
      "\r",
      " 28%|██████████████████████▋                                                           | 13/47 [00:04<00:10,  3.20it/s]"
     ]
    },
    {
     "name": "stdout",
     "output_type": "stream",
     "text": [
      "Getting Original Date\n",
      "Cannot Get data from Quandl. Skipping this one\n",
      "Getting Original Date\n",
      "Getting quots \n",
      "Ticker:  bac \n",
      "Date:  2007-06-29\n",
      "Quote Loaded\n"
     ]
    },
    {
     "name": "stderr",
     "output_type": "stream",
     "text": [
      "\r",
      " 32%|██████████████████████████▏                                                       | 15/47 [00:04<00:09,  3.45it/s]"
     ]
    },
    {
     "name": "stdout",
     "output_type": "stream",
     "text": [
      "Getting Original Date\n",
      "Pointing Date is -  5 (Day of the week)\n",
      "Checking Next Day\n",
      "Pointing Date is -  6 (Day of the week)\n",
      "Checking Next Day\n",
      "Getting quots \n",
      "Ticker:  bac \n",
      "Date:  2007-07-03\n",
      "Quote Loaded\n"
     ]
    },
    {
     "name": "stderr",
     "output_type": "stream",
     "text": [
      "\r",
      " 34%|███████████████████████████▉                                                      | 16/47 [00:04<00:09,  3.37it/s]"
     ]
    },
    {
     "name": "stdout",
     "output_type": "stream",
     "text": [
      "Getting Original Date\n",
      "Getting quots \n",
      "Ticker:  bac \n",
      "Date:  2007-10-24\n",
      "Quote Loaded\n"
     ]
    },
    {
     "name": "stderr",
     "output_type": "stream",
     "text": [
      "\r",
      " 36%|█████████████████████████████▋                                                    | 17/47 [00:05<00:09,  3.33it/s]"
     ]
    },
    {
     "name": "stdout",
     "output_type": "stream",
     "text": [
      "Getting Original Date\n",
      "Getting quots \n",
      "Ticker:  bac \n",
      "Date:  2008-01-23\n",
      "Quote Loaded\n"
     ]
    },
    {
     "name": "stderr",
     "output_type": "stream",
     "text": [
      "\r",
      " 38%|███████████████████████████████▍                                                  | 18/47 [00:05<00:08,  3.32it/s]"
     ]
    },
    {
     "name": "stdout",
     "output_type": "stream",
     "text": [
      "Getting Original Date\n",
      "Pointing Date is -  6 (Day of the week)\n",
      "Checking Next Day\n",
      "Getting quots \n",
      "Ticker:  bac \n",
      "Date:  2008-06-09\n",
      "Quote Loaded\n"
     ]
    },
    {
     "name": "stderr",
     "output_type": "stream",
     "text": [
      "\r",
      " 40%|█████████████████████████████████▏                                                | 19/47 [00:05<00:08,  3.34it/s]"
     ]
    },
    {
     "name": "stdout",
     "output_type": "stream",
     "text": [
      "Getting Original Date\n",
      "Getting quots \n",
      "Ticker:  bac \n",
      "Date:  2008-07-02\n",
      "Quote Loaded\n"
     ]
    },
    {
     "name": "stderr",
     "output_type": "stream",
     "text": [
      "\r",
      " 43%|██████████████████████████████████▉                                               | 20/47 [00:06<00:08,  3.31it/s]"
     ]
    },
    {
     "name": "stdout",
     "output_type": "stream",
     "text": [
      "Getting Original Date\n",
      "Pointing Date is -  6 (Day of the week)\n",
      "Checking Next Day\n",
      "Getting quots \n",
      "Ticker:  bac \n",
      "Date:  2008-07-08\n",
      "Quote Loaded\n"
     ]
    },
    {
     "name": "stderr",
     "output_type": "stream",
     "text": [
      "\r",
      " 45%|████████████████████████████████████▋                                             | 21/47 [00:06<00:08,  3.23it/s]"
     ]
    },
    {
     "name": "stdout",
     "output_type": "stream",
     "text": [
      "Getting Original Date\n",
      "Getting quots \n",
      "Ticker:  bac \n",
      "Date:  2008-07-08\n",
      "Quote Loaded\n"
     ]
    },
    {
     "name": "stderr",
     "output_type": "stream",
     "text": [
      "\r",
      " 47%|██████████████████████████████████████▍                                           | 22/47 [00:06<00:07,  3.23it/s]"
     ]
    },
    {
     "name": "stdout",
     "output_type": "stream",
     "text": [
      "Getting Original Date\n",
      "Getting quots \n",
      "Ticker:  bac \n",
      "Date:  2008-07-10\n",
      "Quote Loaded\n"
     ]
    },
    {
     "name": "stderr",
     "output_type": "stream",
     "text": [
      "\r",
      " 49%|████████████████████████████████████████▏                                         | 23/47 [00:07<00:07,  3.22it/s]"
     ]
    },
    {
     "name": "stdout",
     "output_type": "stream",
     "text": [
      "Getting Original Date\n",
      "Getting quots \n",
      "Ticker:  bac \n",
      "Date:  2008-07-16\n",
      "Quote Loaded\n"
     ]
    },
    {
     "name": "stderr",
     "output_type": "stream",
     "text": [
      "\r",
      " 51%|█████████████████████████████████████████▊                                        | 24/47 [00:07<00:07,  3.20it/s]"
     ]
    },
    {
     "name": "stdout",
     "output_type": "stream",
     "text": [
      "Getting Original Date\n",
      "Getting quots \n",
      "Ticker:  bac \n",
      "Date:  2008-10-28\n",
      "Quote Loaded\n"
     ]
    },
    {
     "name": "stderr",
     "output_type": "stream",
     "text": [
      "\r",
      " 53%|███████████████████████████████████████████▌                                      | 25/47 [00:07<00:06,  3.22it/s]"
     ]
    },
    {
     "name": "stdout",
     "output_type": "stream",
     "text": [
      "Getting Original Date\n",
      "Getting quots \n",
      "Ticker:  bac \n",
      "Date:  2008-12-04\n",
      "Quote Loaded\n"
     ]
    },
    {
     "name": "stderr",
     "output_type": "stream",
     "text": [
      "\r",
      " 55%|█████████████████████████████████████████████▎                                    | 26/47 [00:08<00:06,  3.24it/s]"
     ]
    },
    {
     "name": "stdout",
     "output_type": "stream",
     "text": [
      "Getting Original Date\n",
      "Getting quots \n",
      "Ticker:  bac \n",
      "Date:  2008-12-17\n",
      "Quote Loaded\n"
     ]
    },
    {
     "name": "stderr",
     "output_type": "stream",
     "text": [
      "\r",
      " 57%|███████████████████████████████████████████████                                   | 27/47 [00:08<00:06,  3.26it/s]"
     ]
    },
    {
     "name": "stdout",
     "output_type": "stream",
     "text": [
      "Getting Original Date\n",
      "Pointing Date is -  5 (Day of the week)\n",
      "Checking Next Day\n",
      "Getting quots \n",
      "Ticker:  bac \n",
      "Date:  2008-12-22\n",
      "Quote Loaded\n"
     ]
    },
    {
     "name": "stderr",
     "output_type": "stream",
     "text": [
      "\r",
      " 60%|████████████████████████████████████████████████▊                                 | 28/47 [00:08<00:05,  3.28it/s]"
     ]
    },
    {
     "name": "stdout",
     "output_type": "stream",
     "text": [
      "Getting Original Date\n",
      "Getting quots \n",
      "Ticker:  bac \n",
      "Date:  2009-01-07\n",
      "Quote Loaded\n"
     ]
    },
    {
     "name": "stderr",
     "output_type": "stream",
     "text": [
      "\r",
      " 62%|██████████████████████████████████████████████████▌                               | 29/47 [00:08<00:05,  3.26it/s]"
     ]
    },
    {
     "name": "stdout",
     "output_type": "stream",
     "text": [
      "Getting Original Date\n",
      "Getting quots \n",
      "Ticker:  bac \n",
      "Date:  2009-02-03\n",
      "Quote Loaded\n"
     ]
    },
    {
     "name": "stderr",
     "output_type": "stream",
     "text": [
      "\r",
      " 64%|████████████████████████████████████████████████████▎                             | 30/47 [00:09<00:05,  3.29it/s]"
     ]
    },
    {
     "name": "stdout",
     "output_type": "stream",
     "text": [
      "Getting Original Date\n",
      "Pointing Date is -  6 (Day of the week)\n",
      "Checking Next Day\n",
      "Getting quots \n",
      "Ticker:  bac \n",
      "Date:  2009-03-09\n",
      "Quote Loaded\n"
     ]
    },
    {
     "name": "stderr",
     "output_type": "stream",
     "text": [
      "\r",
      " 66%|██████████████████████████████████████████████████████                            | 31/47 [00:09<00:04,  3.26it/s]"
     ]
    },
    {
     "name": "stdout",
     "output_type": "stream",
     "text": [
      "Getting Original Date\n",
      "Getting quots \n",
      "Ticker:  bac \n",
      "Date:  2011-09-02\n",
      "Quote Loaded\n"
     ]
    },
    {
     "name": "stderr",
     "output_type": "stream",
     "text": [
      "\r",
      " 68%|███████████████████████████████████████████████████████▊                          | 32/47 [00:09<00:04,  3.28it/s]"
     ]
    },
    {
     "name": "stdout",
     "output_type": "stream",
     "text": [
      "Getting Original Date\n",
      "Pointing Date is -  6 (Day of the week)\n",
      "Checking Next Day\n",
      "Getting quots \n",
      "Ticker:  bac \n",
      "Date:  2011-09-27\n",
      "Quote Loaded\n"
     ]
    },
    {
     "name": "stderr",
     "output_type": "stream",
     "text": [
      "\r",
      " 70%|█████████████████████████████████████████████████████████▌                        | 33/47 [00:10<00:04,  3.26it/s]"
     ]
    },
    {
     "name": "stdout",
     "output_type": "stream",
     "text": [
      "Getting Original Date\n",
      "Pointing Date is -  5 (Day of the week)\n",
      "Checking Next Day\n",
      "Getting quots \n",
      "Ticker:  bac \n",
      "Date:  2011-10-10\n",
      "Quote Loaded\n"
     ]
    },
    {
     "name": "stderr",
     "output_type": "stream",
     "text": [
      "\r",
      " 72%|███████████████████████████████████████████████████████████▎                      | 34/47 [00:10<00:04,  3.25it/s]"
     ]
    },
    {
     "name": "stdout",
     "output_type": "stream",
     "text": [
      "Getting Original Date\n",
      "Getting quots \n",
      "Ticker:  bac \n",
      "Date:  2011-11-01\n",
      "Quote Loaded\n"
     ]
    },
    {
     "name": "stderr",
     "output_type": "stream",
     "text": [
      "\r",
      " 74%|█████████████████████████████████████████████████████████████                     | 35/47 [00:10<00:03,  3.26it/s]"
     ]
    },
    {
     "name": "stdout",
     "output_type": "stream",
     "text": [
      "Getting Original Date\n",
      "Getting quots \n",
      "Ticker:  bac \n",
      "Date:  2011-11-04\n",
      "Quote Loaded\n"
     ]
    },
    {
     "name": "stderr",
     "output_type": "stream",
     "text": [
      "\r",
      " 77%|██████████████████████████████████████████████████████████████▊                   | 36/47 [00:11<00:03,  3.26it/s]"
     ]
    },
    {
     "name": "stdout",
     "output_type": "stream",
     "text": [
      "Getting Original Date\n",
      "Getting quots \n",
      "Ticker:  bac \n",
      "Date:  2011-12-29\n",
      "Quote Loaded\n"
     ]
    },
    {
     "name": "stderr",
     "output_type": "stream",
     "text": [
      "\r",
      " 79%|████████████████████████████████████████████████████████████████▌                 | 37/47 [00:11<00:03,  3.25it/s]"
     ]
    },
    {
     "name": "stdout",
     "output_type": "stream",
     "text": [
      "Getting Original Date\n",
      "Pointing Date is -  6 (Day of the week)\n",
      "Checking Next Day\n",
      "Cannot Get data from Quandl. Skipping this one\n",
      "Getting Original Date\n",
      "Getting quots \n",
      "Ticker:  bac \n",
      "Date:  2012-03-01\n",
      "Quote Loaded\n"
     ]
    },
    {
     "name": "stderr",
     "output_type": "stream",
     "text": [
      "\r",
      " 83%|████████████████████████████████████████████████████████████████████              | 39/47 [00:11<00:02,  3.34it/s]"
     ]
    },
    {
     "name": "stdout",
     "output_type": "stream",
     "text": [
      "Getting Original Date\n",
      "Pointing Date is -  5 (Day of the week)\n",
      "Checking Next Day\n",
      "Pointing Date is -  6 (Day of the week)\n",
      "Checking Next Day\n",
      "Getting quots \n",
      "Ticker:  bac \n",
      "Date:  2012-03-13\n",
      "Quote Loaded\n"
     ]
    },
    {
     "name": "stderr",
     "output_type": "stream",
     "text": [
      "\r",
      " 85%|█████████████████████████████████████████████████████████████████████▊            | 40/47 [00:11<00:02,  3.33it/s]"
     ]
    },
    {
     "name": "stdout",
     "output_type": "stream",
     "text": [
      "Getting Original Date\n",
      "Getting quots \n",
      "Ticker:  bac \n",
      "Date:  2012-05-01\n",
      "Quote Loaded\n"
     ]
    },
    {
     "name": "stderr",
     "output_type": "stream",
     "text": [
      "\r",
      " 87%|███████████████████████████████████████████████████████████████████████▌          | 41/47 [00:12<00:01,  3.35it/s]"
     ]
    },
    {
     "name": "stdout",
     "output_type": "stream",
     "text": [
      "Getting Original Date\n",
      "Pointing Date is -  6 (Day of the week)\n",
      "Checking Next Day\n",
      "Getting quots \n",
      "Ticker:  bac \n",
      "Date:  2012-07-02\n",
      "Quote Loaded\n"
     ]
    },
    {
     "name": "stderr",
     "output_type": "stream",
     "text": [
      "\r",
      " 89%|█████████████████████████████████████████████████████████████████████████▎        | 42/47 [00:12<00:01,  3.34it/s]"
     ]
    },
    {
     "name": "stdout",
     "output_type": "stream",
     "text": [
      "Getting Original Date\n",
      "Pointing Date is -  5 (Day of the week)\n",
      "Checking Next Day\n",
      "Pointing Date is -  6 (Day of the week)\n",
      "Checking Next Day\n",
      "Getting quots \n",
      "Ticker:  bac \n",
      "Date:  2012-07-17\n",
      "Quote Loaded\n"
     ]
    },
    {
     "name": "stderr",
     "output_type": "stream",
     "text": [
      "\r",
      " 91%|███████████████████████████████████████████████████████████████████████████       | 43/47 [00:12<00:01,  3.33it/s]"
     ]
    },
    {
     "name": "stdout",
     "output_type": "stream",
     "text": [
      "Getting Original Date\n",
      "Getting quots \n",
      "Ticker:  bac \n",
      "Date:  2012-08-31\n",
      "Quote Loaded\n"
     ]
    },
    {
     "name": "stderr",
     "output_type": "stream",
     "text": [
      "\r",
      " 94%|████████████████████████████████████████████████████████████████████████████▊     | 44/47 [00:13<00:00,  3.35it/s]"
     ]
    },
    {
     "name": "stdout",
     "output_type": "stream",
     "text": [
      "Getting Original Date\n",
      "Getting quots \n",
      "Ticker:  bac \n",
      "Date:  2012-11-12\n",
      "Quote Loaded\n"
     ]
    },
    {
     "name": "stderr",
     "output_type": "stream",
     "text": [
      "\r",
      " 96%|██████████████████████████████████████████████████████████████████████████████▌   | 45/47 [00:13<00:00,  3.33it/s]"
     ]
    },
    {
     "name": "stdout",
     "output_type": "stream",
     "text": [
      "Getting Original Date\n",
      "Getting quots \n",
      "Ticker:  bac \n",
      "Date:  2013-01-22\n",
      "Quote Loaded\n"
     ]
    },
    {
     "name": "stderr",
     "output_type": "stream",
     "text": [
      "\r",
      " 98%|████████████████████████████████████████████████████████████████████████████████▎ | 46/47 [00:13<00:00,  3.32it/s]"
     ]
    },
    {
     "name": "stdout",
     "output_type": "stream",
     "text": [
      "Getting Original Date\n",
      "Getting quots \n",
      "Ticker:  bac \n",
      "Date:  2013-05-16\n",
      "Quote Loaded\n"
     ]
    },
    {
     "name": "stderr",
     "output_type": "stream",
     "text": [
      "100%|██████████████████████████████████████████████████████████████████████████████████| 47/47 [00:14<00:00,  3.33it/s]\n"
     ]
    },
    {
     "name": "stdout",
     "output_type": "stream",
     "text": [
      "Will save to file:  PriceVsSNP500_bac.csv\n",
      "Getting Stock Price Data...\n"
     ]
    },
    {
     "name": "stderr",
     "output_type": "stream",
     "text": [
      "\r",
      "  0%|                                                                                           | 0/36 [00:00<?, ?it/s]"
     ]
    },
    {
     "name": "stdout",
     "output_type": "stream",
     "text": [
      "Getting Original Date\n",
      "Getting quots \n",
      "Ticker:  ba \n",
      "Date:  2003-12-15\n",
      "Quote Loaded\n"
     ]
    },
    {
     "name": "stderr",
     "output_type": "stream",
     "text": [
      "\r",
      "  3%|██▎                                                                                | 1/36 [00:00<00:08,  4.18it/s]"
     ]
    },
    {
     "name": "stdout",
     "output_type": "stream",
     "text": [
      "Getting Original Date\n",
      "Getting quots \n",
      "Ticker:  ba \n",
      "Date:  2004-04-23\n",
      "Quote Loaded\n"
     ]
    },
    {
     "name": "stderr",
     "output_type": "stream",
     "text": [
      "\r",
      "  6%|████▌                                                                              | 2/36 [00:00<00:07,  4.28it/s]"
     ]
    },
    {
     "name": "stdout",
     "output_type": "stream",
     "text": [
      "Getting Original Date\n",
      "Getting quots \n",
      "Ticker:  ba \n",
      "Date:  2004-06-22\n",
      "Quote Loaded\n"
     ]
    },
    {
     "name": "stderr",
     "output_type": "stream",
     "text": [
      "\r",
      "  8%|██████▉                                                                            | 3/36 [00:00<00:07,  4.22it/s]"
     ]
    },
    {
     "name": "stdout",
     "output_type": "stream",
     "text": [
      "Getting Original Date\n",
      "Getting quots \n",
      "Ticker:  ba \n",
      "Date:  2004-08-10\n",
      "Quote Loaded\n"
     ]
    },
    {
     "name": "stderr",
     "output_type": "stream",
     "text": [
      "\r",
      " 11%|█████████▏                                                                         | 4/36 [00:01<00:08,  3.62it/s]"
     ]
    },
    {
     "name": "stdout",
     "output_type": "stream",
     "text": [
      "Getting Original Date\n",
      "Getting quots \n",
      "Ticker:  ba \n",
      "Date:  2004-10-13\n",
      "Quote Loaded\n"
     ]
    },
    {
     "name": "stderr",
     "output_type": "stream",
     "text": [
      "\r",
      " 14%|███████████▌                                                                       | 5/36 [00:01<00:08,  3.48it/s]"
     ]
    },
    {
     "name": "stdout",
     "output_type": "stream",
     "text": [
      "Getting Original Date\n",
      "Getting quots \n",
      "Ticker:  ba \n",
      "Date:  2004-12-10\n",
      "Quote Loaded\n"
     ]
    },
    {
     "name": "stderr",
     "output_type": "stream",
     "text": [
      "\r",
      " 17%|█████████████▊                                                                     | 6/36 [00:01<00:08,  3.49it/s]"
     ]
    },
    {
     "name": "stdout",
     "output_type": "stream",
     "text": [
      "Getting Original Date\n",
      "Getting quots \n",
      "Ticker:  ba \n",
      "Date:  2005-01-21\n",
      "Quote Loaded\n"
     ]
    },
    {
     "name": "stderr",
     "output_type": "stream",
     "text": [
      "\r",
      " 19%|████████████████▏                                                                  | 7/36 [00:02<00:08,  3.44it/s]"
     ]
    },
    {
     "name": "stdout",
     "output_type": "stream",
     "text": [
      "Getting Original Date\n",
      "Getting quots \n",
      "Ticker:  ba \n",
      "Date:  2005-02-16\n",
      "Quote Loaded\n"
     ]
    },
    {
     "name": "stderr",
     "output_type": "stream",
     "text": [
      "\r",
      " 22%|██████████████████▍                                                                | 8/36 [00:02<00:08,  3.37it/s]"
     ]
    },
    {
     "name": "stdout",
     "output_type": "stream",
     "text": [
      "Getting Original Date\n",
      "Pointing Date is -  6 (Day of the week)\n",
      "Checking Next Day\n",
      "Getting quots \n",
      "Ticker:  ba \n",
      "Date:  2005-02-22\n",
      "Quote Loaded\n"
     ]
    },
    {
     "name": "stderr",
     "output_type": "stream",
     "text": [
      "\r",
      " 25%|████████████████████▊                                                              | 9/36 [00:02<00:07,  3.40it/s]"
     ]
    },
    {
     "name": "stdout",
     "output_type": "stream",
     "text": [
      "Getting Original Date\n",
      "Getting quots \n",
      "Ticker:  ba \n",
      "Date:  2005-04-04\n",
      "Quote Loaded\n"
     ]
    },
    {
     "name": "stderr",
     "output_type": "stream",
     "text": [
      "\r",
      " 28%|██████████████████████▊                                                           | 10/36 [00:03<00:07,  3.30it/s]"
     ]
    },
    {
     "name": "stdout",
     "output_type": "stream",
     "text": [
      "Getting Original Date\n",
      "Getting quots \n",
      "Ticker:  ba \n",
      "Date:  2005-09-08\n",
      "Quote Loaded\n"
     ]
    },
    {
     "name": "stderr",
     "output_type": "stream",
     "text": [
      "\r",
      " 31%|█████████████████████████                                                         | 11/36 [00:03<00:07,  3.35it/s]"
     ]
    },
    {
     "name": "stdout",
     "output_type": "stream",
     "text": [
      "Getting Original Date\n",
      "Getting quots \n",
      "Ticker:  ba \n",
      "Date:  2005-12-14\n",
      "Quote Loaded\n"
     ]
    },
    {
     "name": "stderr",
     "output_type": "stream",
     "text": [
      "\r",
      " 33%|███████████████████████████▎                                                      | 12/36 [00:03<00:07,  3.37it/s]"
     ]
    },
    {
     "name": "stdout",
     "output_type": "stream",
     "text": [
      "Getting Original Date\n",
      "Getting quots \n",
      "Ticker:  ba \n",
      "Date:  2007-01-11\n",
      "Quote Loaded\n"
     ]
    },
    {
     "name": "stderr",
     "output_type": "stream",
     "text": [
      "\r",
      " 36%|█████████████████████████████▌                                                    | 13/36 [00:03<00:06,  3.33it/s]"
     ]
    },
    {
     "name": "stdout",
     "output_type": "stream",
     "text": [
      "Getting Original Date\n",
      "Pointing Date is -  6 (Day of the week)\n",
      "Checking Next Day\n",
      "Getting quots \n",
      "Ticker:  ba \n",
      "Date:  2007-03-13\n",
      "Quote Loaded\n"
     ]
    },
    {
     "name": "stderr",
     "output_type": "stream",
     "text": [
      "\r",
      " 39%|███████████████████████████████▉                                                  | 14/36 [00:04<00:06,  3.29it/s]"
     ]
    },
    {
     "name": "stdout",
     "output_type": "stream",
     "text": [
      "Getting Original Date\n",
      "Pointing Date is -  5 (Day of the week)\n",
      "Checking Next Day\n",
      "Pointing Date is -  6 (Day of the week)\n",
      "Checking Next Day\n",
      "Getting quots \n",
      "Ticker:  ba \n",
      "Date:  2007-04-10\n",
      "Quote Loaded\n"
     ]
    },
    {
     "name": "stderr",
     "output_type": "stream",
     "text": [
      "\r",
      " 42%|██████████████████████████████████▏                                               | 15/36 [00:04<00:06,  3.24it/s]"
     ]
    },
    {
     "name": "stdout",
     "output_type": "stream",
     "text": [
      "Getting Original Date\n",
      "Getting quots \n",
      "Ticker:  ba \n",
      "Date:  2007-06-13\n",
      "Quote Loaded\n"
     ]
    },
    {
     "name": "stderr",
     "output_type": "stream",
     "text": [
      "\r",
      " 44%|████████████████████████████████████▍                                             | 16/36 [00:04<00:06,  3.24it/s]"
     ]
    },
    {
     "name": "stdout",
     "output_type": "stream",
     "text": [
      "Getting Original Date\n",
      "Getting quots \n",
      "Ticker:  ba \n",
      "Date:  2007-06-15\n",
      "Quote Loaded\n"
     ]
    },
    {
     "name": "stderr",
     "output_type": "stream",
     "text": [
      "\r",
      " 47%|██████████████████████████████████████▋                                           | 17/36 [00:05<00:05,  3.21it/s]"
     ]
    },
    {
     "name": "stdout",
     "output_type": "stream",
     "text": [
      "Getting Original Date\n",
      "Pointing Date is -  5 (Day of the week)\n",
      "Checking Next Day\n",
      "Pointing Date is -  6 (Day of the week)\n",
      "Checking Next Day\n",
      "Getting quots \n",
      "Ticker:  ba \n",
      "Date:  2007-06-19\n",
      "Quote Loaded\n"
     ]
    },
    {
     "name": "stderr",
     "output_type": "stream",
     "text": [
      "\r",
      " 50%|█████████████████████████████████████████                                         | 18/36 [00:05<00:05,  3.18it/s]"
     ]
    },
    {
     "name": "stdout",
     "output_type": "stream",
     "text": [
      "Getting Original Date\n",
      "Getting quots \n",
      "Ticker:  ba \n",
      "Date:  2007-07-17\n",
      "Quote Loaded\n"
     ]
    },
    {
     "name": "stderr",
     "output_type": "stream",
     "text": [
      "\r",
      " 53%|███████████████████████████████████████████▎                                      | 19/36 [00:05<00:05,  3.18it/s]"
     ]
    },
    {
     "name": "stdout",
     "output_type": "stream",
     "text": [
      "Getting Original Date\n",
      "Getting quots \n",
      "Ticker:  ba \n",
      "Date:  2007-10-26\n",
      "Quote Loaded\n"
     ]
    },
    {
     "name": "stderr",
     "output_type": "stream",
     "text": [
      "\r",
      " 56%|█████████████████████████████████████████████▌                                    | 20/36 [00:06<00:05,  3.19it/s]"
     ]
    },
    {
     "name": "stdout",
     "output_type": "stream",
     "text": [
      "Getting Original Date\n",
      "Getting quots \n",
      "Ticker:  ba \n",
      "Date:  2008-01-23\n",
      "Quote Loaded\n"
     ]
    },
    {
     "name": "stderr",
     "output_type": "stream",
     "text": [
      "\r",
      " 58%|███████████████████████████████████████████████▊                                  | 21/36 [00:06<00:04,  3.17it/s]"
     ]
    },
    {
     "name": "stdout",
     "output_type": "stream",
     "text": [
      "Getting Original Date\n",
      "Getting quots \n",
      "Ticker:  ba \n",
      "Date:  2008-10-28\n",
      "Quote Loaded\n"
     ]
    },
    {
     "name": "stderr",
     "output_type": "stream",
     "text": [
      "\r",
      " 61%|██████████████████████████████████████████████████                                | 22/36 [00:06<00:04,  3.16it/s]"
     ]
    },
    {
     "name": "stdout",
     "output_type": "stream",
     "text": [
      "Getting Original Date\n",
      "Getting quots \n",
      "Ticker:  ba \n",
      "Date:  2008-12-18\n",
      "Quote Loaded\n"
     ]
    },
    {
     "name": "stderr",
     "output_type": "stream",
     "text": [
      "\r",
      " 64%|████████████████████████████████████████████████████▍                             | 23/36 [00:07<00:04,  3.16it/s]"
     ]
    },
    {
     "name": "stdout",
     "output_type": "stream",
     "text": [
      "Getting Original Date\n",
      "Getting quots \n",
      "Ticker:  ba \n",
      "Date:  2008-12-19\n",
      "Quote Loaded\n"
     ]
    },
    {
     "name": "stderr",
     "output_type": "stream",
     "text": [
      "\r",
      " 67%|██████████████████████████████████████████████████████▋                           | 24/36 [00:07<00:03,  3.15it/s]"
     ]
    },
    {
     "name": "stdout",
     "output_type": "stream",
     "text": [
      "Getting Original Date\n",
      "Getting quots \n",
      "Ticker:  ba \n",
      "Date:  2011-04-27\n",
      "Quote Loaded\n"
     ]
    },
    {
     "name": "stderr",
     "output_type": "stream",
     "text": [
      "\r",
      " 69%|████████████████████████████████████████████████████████▉                         | 25/36 [00:07<00:03,  3.18it/s]"
     ]
    },
    {
     "name": "stdout",
     "output_type": "stream",
     "text": [
      "Getting Original Date\n",
      "Getting quots \n",
      "Ticker:  ba \n",
      "Date:  2011-09-27\n",
      "Quote Loaded\n"
     ]
    },
    {
     "name": "stderr",
     "output_type": "stream",
     "text": [
      "\r",
      " 72%|███████████████████████████████████████████████████████████▏                      | 26/36 [00:08<00:03,  3.21it/s]"
     ]
    },
    {
     "name": "stdout",
     "output_type": "stream",
     "text": [
      "Getting Original Date\n",
      "Getting quots \n",
      "Ticker:  ba \n",
      "Date:  2011-11-07\n",
      "Quote Loaded\n"
     ]
    },
    {
     "name": "stderr",
     "output_type": "stream",
     "text": [
      "\r",
      " 75%|█████████████████████████████████████████████████████████████▌                    | 27/36 [00:08<00:02,  3.19it/s]"
     ]
    },
    {
     "name": "stdout",
     "output_type": "stream",
     "text": [
      "Getting Original Date\n",
      "Pointing Date is -  6 (Day of the week)\n",
      "Checking Next Day\n",
      "Getting quots \n",
      "Ticker:  ba \n",
      "Date:  2011-12-27\n",
      "Quote Loaded\n"
     ]
    },
    {
     "name": "stderr",
     "output_type": "stream",
     "text": [
      "\r",
      " 78%|███████████████████████████████████████████████████████████████▊                  | 28/36 [00:08<00:02,  3.17it/s]"
     ]
    },
    {
     "name": "stdout",
     "output_type": "stream",
     "text": [
      "Getting Original Date\n",
      "Pointing Date is -  6 (Day of the week)\n",
      "Checking Next Day\n",
      "Getting quots \n",
      "Ticker:  ba \n",
      "Date:  2012-01-10\n",
      "Quote Loaded\n"
     ]
    },
    {
     "name": "stderr",
     "output_type": "stream",
     "text": [
      "\r",
      " 81%|██████████████████████████████████████████████████████████████████                | 29/36 [00:09<00:02,  3.19it/s]"
     ]
    },
    {
     "name": "stdout",
     "output_type": "stream",
     "text": [
      "Getting Original Date\n",
      "Getting quots \n",
      "Ticker:  ba \n",
      "Date:  2012-02-24\n",
      "Quote Loaded\n"
     ]
    },
    {
     "name": "stderr",
     "output_type": "stream",
     "text": [
      "\r",
      " 83%|████████████████████████████████████████████████████████████████████▎             | 30/36 [00:09<00:01,  3.18it/s]"
     ]
    },
    {
     "name": "stdout",
     "output_type": "stream",
     "text": [
      "Getting Original Date\n",
      "Getting quots \n",
      "Ticker:  ba \n",
      "Date:  2012-04-27\n",
      "Quote Loaded\n"
     ]
    },
    {
     "name": "stderr",
     "output_type": "stream",
     "text": [
      "\r",
      " 86%|██████████████████████████████████████████████████████████████████████▌           | 31/36 [00:09<00:01,  3.16it/s]"
     ]
    },
    {
     "name": "stdout",
     "output_type": "stream",
     "text": [
      "Getting Original Date\n",
      "Getting quots \n",
      "Ticker:  ba \n",
      "Date:  2012-06-28\n",
      "Quote Loaded\n"
     ]
    },
    {
     "name": "stderr",
     "output_type": "stream",
     "text": [
      "\r",
      " 89%|████████████████████████████████████████████████████████████████████████▉         | 32/36 [00:11<00:01,  2.87it/s]"
     ]
    },
    {
     "name": "stdout",
     "output_type": "stream",
     "text": [
      "Getting Original Date\n",
      "Getting quots \n",
      "Ticker:  ba \n",
      "Date:  2012-07-13\n",
      "Quote Loaded\n"
     ]
    },
    {
     "name": "stderr",
     "output_type": "stream",
     "text": [
      "\r",
      " 92%|███████████████████████████████████████████████████████████████████████████▏      | 33/36 [00:11<00:01,  2.87it/s]"
     ]
    },
    {
     "name": "stdout",
     "output_type": "stream",
     "text": [
      "Getting Original Date\n",
      "Pointing Date is -  5 (Day of the week)\n",
      "Checking Next Day\n",
      "Getting quots \n",
      "Ticker:  ba \n",
      "Date:  2012-09-24\n",
      "Quote Loaded\n"
     ]
    },
    {
     "name": "stderr",
     "output_type": "stream",
     "text": [
      "\r",
      " 94%|█████████████████████████████████████████████████████████████████████████████▍    | 34/36 [00:11<00:00,  2.87it/s]"
     ]
    },
    {
     "name": "stdout",
     "output_type": "stream",
     "text": [
      "Getting Original Date\n",
      "Getting quots \n",
      "Ticker:  ba \n",
      "Date:  2013-02-06\n",
      "Quote Loaded\n"
     ]
    },
    {
     "name": "stderr",
     "output_type": "stream",
     "text": [
      "\r",
      " 97%|███████████████████████████████████████████████████████████████████████████████▋  | 35/36 [00:12<00:00,  2.87it/s]"
     ]
    },
    {
     "name": "stdout",
     "output_type": "stream",
     "text": [
      "Getting Original Date\n",
      "Getting quots \n",
      "Ticker:  ba \n",
      "Date:  2013-04-26\n",
      "Quote Loaded\n"
     ]
    },
    {
     "name": "stderr",
     "output_type": "stream",
     "text": [
      "100%|██████████████████████████████████████████████████████████████████████████████████| 36/36 [00:12<00:00,  2.84it/s]\n"
     ]
    },
    {
     "name": "stdout",
     "output_type": "stream",
     "text": [
      "Will save to file:  PriceVsSNP500_ba.csv\n",
      "Getting Stock Price Data...\n"
     ]
    },
    {
     "name": "stderr",
     "output_type": "stream",
     "text": [
      "\r",
      "  0%|                                                                                           | 0/16 [00:00<?, ?it/s]"
     ]
    },
    {
     "name": "stdout",
     "output_type": "stream",
     "text": [
      "Getting Original Date\n",
      "Getting quots \n",
      "Ticker:  arg \n",
      "Date:  2003-11-03\n",
      "Quote Loaded\n"
     ]
    },
    {
     "name": "stderr",
     "output_type": "stream",
     "text": [
      "\r",
      "  6%|█████▏                                                                             | 1/16 [00:00<00:05,  2.70it/s]"
     ]
    },
    {
     "name": "stdout",
     "output_type": "stream",
     "text": [
      "Getting Original Date\n",
      "Pointing Date is -  5 (Day of the week)\n",
      "Checking Next Day\n",
      "Getting quots \n",
      "Ticker:  arg \n",
      "Date:  2004-05-24\n",
      "Quote Loaded\n"
     ]
    },
    {
     "name": "stderr",
     "output_type": "stream",
     "text": [
      "\r",
      " 12%|██████████▍                                                                        | 2/16 [00:00<00:05,  2.62it/s]"
     ]
    },
    {
     "name": "stdout",
     "output_type": "stream",
     "text": [
      "Getting Original Date\n",
      "Getting quots \n",
      "Ticker:  arg \n",
      "Date:  2004-07-23\n",
      "Quote Loaded\n"
     ]
    },
    {
     "name": "stderr",
     "output_type": "stream",
     "text": [
      "\r",
      " 19%|███████████████▌                                                                   | 3/16 [00:01<00:05,  2.22it/s]"
     ]
    },
    {
     "name": "stdout",
     "output_type": "stream",
     "text": [
      "Getting Original Date\n",
      "Getting quots \n",
      "Ticker:  arg \n",
      "Date:  2004-08-25\n",
      "Quote Loaded\n"
     ]
    },
    {
     "name": "stderr",
     "output_type": "stream",
     "text": [
      "\r",
      " 25%|████████████████████▊                                                              | 4/16 [00:01<00:05,  2.38it/s]"
     ]
    },
    {
     "name": "stdout",
     "output_type": "stream",
     "text": [
      "Getting Original Date\n",
      "Getting quots \n",
      "Ticker:  arg \n",
      "Date:  2004-10-20\n",
      "Quote Loaded\n"
     ]
    },
    {
     "name": "stderr",
     "output_type": "stream",
     "text": [
      "\r",
      " 31%|█████████████████████████▉                                                         | 5/16 [00:02<00:04,  2.46it/s]"
     ]
    },
    {
     "name": "stdout",
     "output_type": "stream",
     "text": [
      "Getting Original Date\n",
      "Getting quots \n",
      "Ticker:  arg \n",
      "Date:  2004-12-10\n",
      "Quote Loaded\n"
     ]
    },
    {
     "name": "stderr",
     "output_type": "stream",
     "text": [
      "\r",
      " 38%|███████████████████████████████▏                                                   | 6/16 [00:02<00:03,  2.52it/s]"
     ]
    },
    {
     "name": "stdout",
     "output_type": "stream",
     "text": [
      "Getting Original Date\n",
      "Getting quots \n",
      "Ticker:  arg \n",
      "Date:  2005-02-24\n",
      "Quote Loaded\n"
     ]
    },
    {
     "name": "stderr",
     "output_type": "stream",
     "text": [
      "\r",
      " 44%|████████████████████████████████████▎                                              | 7/16 [00:02<00:03,  2.62it/s]"
     ]
    },
    {
     "name": "stdout",
     "output_type": "stream",
     "text": [
      "Getting Original Date\n",
      "Getting quots \n",
      "Ticker:  arg \n",
      "Date:  2005-03-17\n",
      "Quote Loaded\n"
     ]
    },
    {
     "name": "stderr",
     "output_type": "stream",
     "text": [
      "\r",
      " 50%|█████████████████████████████████████████▌                                         | 8/16 [00:03<00:03,  2.66it/s]"
     ]
    },
    {
     "name": "stdout",
     "output_type": "stream",
     "text": [
      "Getting Original Date\n",
      "Getting quots \n",
      "Ticker:  arg \n",
      "Date:  2006-05-11\n",
      "Quote Loaded\n"
     ]
    },
    {
     "name": "stderr",
     "output_type": "stream",
     "text": [
      "\r",
      " 56%|██████████████████████████████████████████████▋                                    | 9/16 [00:03<00:02,  2.75it/s]"
     ]
    },
    {
     "name": "stdout",
     "output_type": "stream",
     "text": [
      "Getting Original Date\n",
      "Getting quots \n",
      "Ticker:  arg \n",
      "Date:  2007-02-27\n",
      "Quote Loaded\n"
     ]
    },
    {
     "name": "stderr",
     "output_type": "stream",
     "text": [
      "\r",
      " 62%|███████████████████████████████████████████████████▎                              | 10/16 [00:03<00:02,  2.84it/s]"
     ]
    },
    {
     "name": "stdout",
     "output_type": "stream",
     "text": [
      "Getting Original Date\n",
      "Pointing Date is -  5 (Day of the week)\n",
      "Checking Next Day\n",
      "Getting quots \n",
      "Ticker:  arg \n",
      "Date:  2007-04-09\n",
      "Quote Loaded\n"
     ]
    },
    {
     "name": "stderr",
     "output_type": "stream",
     "text": [
      "\r",
      " 69%|████████████████████████████████████████████████████████▍                         | 11/16 [00:03<00:01,  2.86it/s]"
     ]
    },
    {
     "name": "stdout",
     "output_type": "stream",
     "text": [
      "Getting Original Date\n",
      "Getting quots \n",
      "Ticker:  arg \n",
      "Date:  2007-06-11\n",
      "Quote Loaded\n"
     ]
    },
    {
     "name": "stderr",
     "output_type": "stream",
     "text": [
      "\r",
      " 75%|█████████████████████████████████████████████████████████████▌                    | 12/16 [00:04<00:01,  2.86it/s]"
     ]
    },
    {
     "name": "stdout",
     "output_type": "stream",
     "text": [
      "Getting Original Date\n",
      "Pointing Date is -  5 (Day of the week)\n",
      "Checking Next Day\n",
      "Pointing Date is -  6 (Day of the week)\n",
      "Checking Next Day\n",
      "Getting quots \n",
      "Ticker:  arg \n",
      "Date:  2008-05-13\n",
      "Quote Loaded\n"
     ]
    },
    {
     "name": "stderr",
     "output_type": "stream",
     "text": [
      "\r",
      " 81%|██████████████████████████████████████████████████████████████████▋               | 13/16 [00:04<00:01,  2.86it/s]"
     ]
    },
    {
     "name": "stdout",
     "output_type": "stream",
     "text": [
      "Getting Original Date\n",
      "Getting quots \n",
      "Ticker:  arg \n",
      "Date:  2010-02-10\n",
      "Quote Loaded\n"
     ]
    },
    {
     "name": "stderr",
     "output_type": "stream",
     "text": [
      "\r",
      " 88%|███████████████████████████████████████████████████████████████████████▊          | 14/16 [00:05<00:00,  2.80it/s]"
     ]
    },
    {
     "name": "stdout",
     "output_type": "stream",
     "text": [
      "Getting Original Date\n",
      "Getting quots \n",
      "Ticker:  arg \n",
      "Date:  2013-04-23\n",
      "Quote Loaded\n"
     ]
    },
    {
     "name": "stderr",
     "output_type": "stream",
     "text": [
      "\r",
      " 94%|████████████████████████████████████████████████████████████████████████████▉     | 15/16 [00:05<00:00,  2.80it/s]"
     ]
    },
    {
     "name": "stdout",
     "output_type": "stream",
     "text": [
      "Getting Original Date\n",
      "Getting quots \n",
      "Ticker:  arg \n",
      "Date:  2013-05-09\n",
      "Quote Loaded\n"
     ]
    },
    {
     "name": "stderr",
     "output_type": "stream",
     "text": [
      "100%|██████████████████████████████████████████████████████████████████████████████████| 16/16 [00:05<00:00,  2.80it/s]\n"
     ]
    },
    {
     "name": "stdout",
     "output_type": "stream",
     "text": [
      "Will save to file:  PriceVsSNP500_arg.csv\n",
      "Getting Stock Price Data...\n"
     ]
    },
    {
     "name": "stderr",
     "output_type": "stream",
     "text": [
      "\r",
      "  0%|                                                                                           | 0/18 [00:00<?, ?it/s]"
     ]
    },
    {
     "name": "stdout",
     "output_type": "stream",
     "text": [
      "Getting Original Date\n",
      "Getting quots \n",
      "Ticker:  afl \n",
      "Date:  2003-10-03\n",
      "Quote Loaded\n"
     ]
    },
    {
     "name": "stderr",
     "output_type": "stream",
     "text": [
      "\r",
      "  6%|████▌                                                                              | 1/18 [00:00<00:05,  3.13it/s]"
     ]
    },
    {
     "name": "stdout",
     "output_type": "stream",
     "text": [
      "Getting Original Date\n",
      "Pointing Date is -  6 (Day of the week)\n",
      "Checking Next Day\n",
      "Getting quots \n",
      "Ticker:  afl \n",
      "Date:  2003-12-09\n",
      "Quote Loaded\n"
     ]
    },
    {
     "name": "stderr",
     "output_type": "stream",
     "text": [
      "\r",
      " 11%|█████████▏                                                                         | 2/18 [00:00<00:05,  3.07it/s]"
     ]
    },
    {
     "name": "stdout",
     "output_type": "stream",
     "text": [
      "Getting Original Date\n",
      "Pointing Date is -  6 (Day of the week)\n",
      "Checking Next Day\n",
      "Getting quots \n",
      "Ticker:  afl \n",
      "Date:  2004-06-29\n",
      "Quote Loaded\n"
     ]
    },
    {
     "name": "stderr",
     "output_type": "stream",
     "text": [
      "\r",
      " 17%|█████████████▊                                                                     | 3/18 [00:01<00:05,  2.99it/s]"
     ]
    },
    {
     "name": "stdout",
     "output_type": "stream",
     "text": [
      "Getting Original Date\n",
      "Pointing Date is -  6 (Day of the week)\n",
      "Checking Next Day\n",
      "Getting quots \n",
      "Ticker:  afl \n",
      "Date:  2004-08-30\n",
      "Quote Loaded\n"
     ]
    },
    {
     "name": "stderr",
     "output_type": "stream",
     "text": [
      "\r",
      " 22%|██████████████████▍                                                                | 4/18 [00:01<00:04,  3.01it/s]"
     ]
    },
    {
     "name": "stdout",
     "output_type": "stream",
     "text": [
      "Getting Original Date\n",
      "Getting quots \n",
      "Ticker:  afl \n",
      "Date:  2005-01-25\n",
      "Quote Loaded\n"
     ]
    },
    {
     "name": "stderr",
     "output_type": "stream",
     "text": [
      "\r",
      " 28%|███████████████████████                                                            | 5/18 [00:01<00:04,  3.16it/s]"
     ]
    },
    {
     "name": "stdout",
     "output_type": "stream",
     "text": [
      "Getting Original Date\n",
      "Getting quots \n",
      "Ticker:  afl \n",
      "Date:  2005-03-17\n",
      "Quote Loaded\n"
     ]
    },
    {
     "name": "stderr",
     "output_type": "stream",
     "text": [
      "\r",
      " 33%|███████████████████████████▋                                                       | 6/18 [00:01<00:03,  3.20it/s]"
     ]
    },
    {
     "name": "stdout",
     "output_type": "stream",
     "text": [
      "Getting Original Date\n",
      "Getting quots \n",
      "Ticker:  afl \n",
      "Date:  2005-04-06\n",
      "Quote Loaded\n"
     ]
    },
    {
     "name": "stderr",
     "output_type": "stream",
     "text": [
      "\r",
      " 39%|████████████████████████████████▎                                                  | 7/18 [00:02<00:03,  3.17it/s]"
     ]
    },
    {
     "name": "stdout",
     "output_type": "stream",
     "text": [
      "Getting Original Date\n",
      "Pointing Date is -  6 (Day of the week)\n",
      "Checking Next Day\n",
      "Getting quots \n",
      "Ticker:  afl \n",
      "Date:  2005-08-30\n",
      "Quote Loaded\n"
     ]
    },
    {
     "name": "stderr",
     "output_type": "stream",
     "text": [
      "\r",
      " 44%|████████████████████████████████████▉                                              | 8/18 [00:02<00:03,  3.08it/s]"
     ]
    },
    {
     "name": "stdout",
     "output_type": "stream",
     "text": [
      "Getting Original Date\n",
      "Getting quots \n",
      "Ticker:  afl \n",
      "Date:  2006-02-02\n",
      "Quote Loaded\n"
     ]
    },
    {
     "name": "stderr",
     "output_type": "stream",
     "text": [
      "\r",
      " 50%|█████████████████████████████████████████▌                                         | 9/18 [00:02<00:02,  3.08it/s]"
     ]
    },
    {
     "name": "stdout",
     "output_type": "stream",
     "text": [
      "Getting Original Date\n",
      "Pointing Date is -  6 (Day of the week)\n",
      "Checking Next Day\n",
      "Cannot Get data from Quandl. Skipping this one\n",
      "Getting Original Date\n",
      "Getting quots \n",
      "Ticker:  afl \n",
      "Date:  2007-02-20\n",
      "Quote Loaded\n"
     ]
    },
    {
     "name": "stderr",
     "output_type": "stream",
     "text": [
      "\r",
      " 61%|██████████████████████████████████████████████████                                | 11/18 [00:03<00:02,  3.35it/s]"
     ]
    },
    {
     "name": "stdout",
     "output_type": "stream",
     "text": [
      "Getting Original Date\n",
      "Pointing Date is -  6 (Day of the week)\n",
      "Checking Next Day\n",
      "Getting quots \n",
      "Ticker:  afl \n",
      "Date:  2007-04-09\n",
      "Quote Loaded\n"
     ]
    },
    {
     "name": "stderr",
     "output_type": "stream",
     "text": [
      "\r",
      " 67%|██████████████████████████████████████████████████████▋                           | 12/18 [00:03<00:01,  3.37it/s]"
     ]
    },
    {
     "name": "stdout",
     "output_type": "stream",
     "text": [
      "Getting Original Date\n",
      "Cannot Get data from Quandl. Skipping this one\n",
      "Getting Original Date\n",
      "Getting quots \n",
      "Ticker:  afl \n",
      "Date:  2008-01-23\n",
      "Quote Loaded\n"
     ]
    },
    {
     "name": "stderr",
     "output_type": "stream",
     "text": [
      "\r",
      " 78%|███████████████████████████████████████████████████████████████▊                  | 14/18 [00:03<00:01,  3.58it/s]"
     ]
    },
    {
     "name": "stdout",
     "output_type": "stream",
     "text": [
      "Getting Original Date\n",
      "Getting quots \n",
      "Ticker:  afl \n",
      "Date:  2009-01-29\n",
      "Quote Loaded\n"
     ]
    },
    {
     "name": "stderr",
     "output_type": "stream",
     "text": [
      "\r",
      " 83%|████████████████████████████████████████████████████████████████████▎             | 15/18 [00:04<00:00,  3.54it/s]"
     ]
    },
    {
     "name": "stdout",
     "output_type": "stream",
     "text": [
      "Getting Original Date\n",
      "Getting quots \n",
      "Ticker:  afl \n",
      "Date:  2011-12-30\n",
      "Quote Loaded\n"
     ]
    },
    {
     "name": "stderr",
     "output_type": "stream",
     "text": [
      "\r",
      " 89%|████████████████████████████████████████████████████████████████████████▉         | 16/18 [00:04<00:00,  3.49it/s]"
     ]
    },
    {
     "name": "stdout",
     "output_type": "stream",
     "text": [
      "Getting Original Date\n",
      "Getting quots \n",
      "Ticker:  afl \n",
      "Date:  2012-07-17\n",
      "Quote Loaded\n"
     ]
    },
    {
     "name": "stderr",
     "output_type": "stream",
     "text": [
      "\r",
      " 94%|█████████████████████████████████████████████████████████████████████████████▍    | 17/18 [00:04<00:00,  3.51it/s]"
     ]
    },
    {
     "name": "stdout",
     "output_type": "stream",
     "text": [
      "Getting Original Date\n",
      "Getting quots \n",
      "Ticker:  afl \n",
      "Date:  2013-05-07\n",
      "Quote Loaded\n"
     ]
    },
    {
     "name": "stderr",
     "output_type": "stream",
     "text": [
      "100%|██████████████████████████████████████████████████████████████████████████████████| 18/18 [00:05<00:00,  3.46it/s]\n"
     ]
    },
    {
     "name": "stdout",
     "output_type": "stream",
     "text": [
      "Will save to file:  PriceVsSNP500_afl.csv\n",
      "Getting Stock Price Data...\n"
     ]
    },
    {
     "name": "stderr",
     "output_type": "stream",
     "text": [
      "\r",
      "  0%|                                                                                           | 0/15 [00:00<?, ?it/s]"
     ]
    },
    {
     "name": "stdout",
     "output_type": "stream",
     "text": [
      "Getting Original Date\n",
      "Getting quots \n",
      "Ticker:  ati \n",
      "Date:  2004-08-20\n",
      "Quote Loaded\n"
     ]
    },
    {
     "name": "stderr",
     "output_type": "stream",
     "text": [
      "\r",
      "  7%|█████▌                                                                             | 1/15 [00:00<00:05,  2.69it/s]"
     ]
    },
    {
     "name": "stdout",
     "output_type": "stream",
     "text": [
      "Getting Original Date\n",
      "Pointing Date is -  6 (Day of the week)\n",
      "Checking Next Day\n",
      "Getting quots \n",
      "Ticker:  ati \n",
      "Date:  2005-03-07\n",
      "Quote Loaded\n"
     ]
    },
    {
     "name": "stderr",
     "output_type": "stream",
     "text": [
      "\r",
      " 13%|███████████                                                                        | 2/15 [00:00<00:04,  2.69it/s]"
     ]
    },
    {
     "name": "stdout",
     "output_type": "stream",
     "text": [
      "Getting Original Date\n",
      "Getting quots \n",
      "Ticker:  ati \n",
      "Date:  2006-06-16\n",
      "Quote Loaded\n"
     ]
    },
    {
     "name": "stderr",
     "output_type": "stream",
     "text": [
      "\r",
      " 20%|████████████████▌                                                                  | 3/15 [00:00<00:03,  3.01it/s]"
     ]
    },
    {
     "name": "stdout",
     "output_type": "stream",
     "text": [
      "Getting Original Date\n",
      "Getting quots \n",
      "Ticker:  ati \n",
      "Date:  2007-05-17\n",
      "Quote Loaded\n"
     ]
    },
    {
     "name": "stderr",
     "output_type": "stream",
     "text": [
      "\r",
      " 27%|██████████████████████▏                                                            | 4/15 [00:01<00:03,  3.25it/s]"
     ]
    },
    {
     "name": "stdout",
     "output_type": "stream",
     "text": [
      "Getting Original Date\n",
      "Getting quots \n",
      "Ticker:  ati \n",
      "Date:  2007-06-18\n",
      "Quote Loaded\n"
     ]
    },
    {
     "name": "stderr",
     "output_type": "stream",
     "text": [
      "\r",
      " 33%|███████████████████████████▋                                                       | 5/15 [00:01<00:02,  3.41it/s]"
     ]
    },
    {
     "name": "stdout",
     "output_type": "stream",
     "text": [
      "Getting Original Date\n",
      "Getting quots \n",
      "Ticker:  ati \n",
      "Date:  2007-10-24\n",
      "Quote Loaded\n"
     ]
    },
    {
     "name": "stderr",
     "output_type": "stream",
     "text": [
      "\r",
      " 40%|█████████████████████████████████▏                                                 | 6/15 [00:01<00:02,  3.35it/s]"
     ]
    },
    {
     "name": "stdout",
     "output_type": "stream",
     "text": [
      "Getting Original Date\n",
      "Getting quots \n",
      "Ticker:  ati \n",
      "Date:  2008-01-23\n",
      "Quote Loaded\n"
     ]
    },
    {
     "name": "stderr",
     "output_type": "stream",
     "text": [
      "\r",
      " 47%|██████████████████████████████████████▋                                            | 7/15 [00:02<00:02,  3.30it/s]"
     ]
    },
    {
     "name": "stdout",
     "output_type": "stream",
     "text": [
      "Getting Original Date\n",
      "Pointing Date is -  6 (Day of the week)\n",
      "Checking Next Day\n",
      "Getting quots \n",
      "Ticker:  ati \n",
      "Date:  2008-01-29\n",
      "Quote Loaded\n"
     ]
    },
    {
     "name": "stderr",
     "output_type": "stream",
     "text": [
      "\r",
      " 53%|████████████████████████████████████████████▎                                      | 8/15 [00:02<00:02,  3.15it/s]"
     ]
    },
    {
     "name": "stdout",
     "output_type": "stream",
     "text": [
      "Getting Original Date\n",
      "Getting quots \n",
      "Ticker:  ati \n",
      "Date:  2008-12-31\n",
      "Quote Loaded\n"
     ]
    },
    {
     "name": "stderr",
     "output_type": "stream",
     "text": [
      "\r",
      " 60%|█████████████████████████████████████████████████▊                                 | 9/15 [00:02<00:01,  3.17it/s]"
     ]
    },
    {
     "name": "stdout",
     "output_type": "stream",
     "text": [
      "Getting Original Date\n",
      "Getting quots \n",
      "Ticker:  ati \n",
      "Date:  2009-05-01\n",
      "Quote Loaded\n"
     ]
    },
    {
     "name": "stderr",
     "output_type": "stream",
     "text": [
      "\r",
      " 67%|██████████████████████████████████████████████████████▋                           | 10/15 [00:03<00:01,  3.15it/s]"
     ]
    },
    {
     "name": "stdout",
     "output_type": "stream",
     "text": [
      "Getting Original Date\n",
      "Getting quots \n",
      "Ticker:  ati \n",
      "Date:  2011-11-08\n",
      "Quote Loaded\n"
     ]
    },
    {
     "name": "stderr",
     "output_type": "stream",
     "text": [
      "\r",
      " 73%|████████████████████████████████████████████████████████████▏                     | 11/15 [00:03<00:01,  3.23it/s]"
     ]
    },
    {
     "name": "stdout",
     "output_type": "stream",
     "text": [
      "Getting Original Date\n",
      "Getting quots \n",
      "Ticker:  ati \n",
      "Date:  2011-12-29\n",
      "Quote Loaded\n"
     ]
    },
    {
     "name": "stderr",
     "output_type": "stream",
     "text": [
      "\r",
      " 80%|█████████████████████████████████████████████████████████████████▌                | 12/15 [00:03<00:00,  3.21it/s]"
     ]
    },
    {
     "name": "stdout",
     "output_type": "stream",
     "text": [
      "Getting Original Date\n",
      "Getting quots \n",
      "Ticker:  ati \n",
      "Date:  2012-02-28\n",
      "Quote Loaded\n"
     ]
    },
    {
     "name": "stderr",
     "output_type": "stream",
     "text": [
      "\r",
      " 87%|███████████████████████████████████████████████████████████████████████           | 13/15 [00:04<00:00,  3.21it/s]"
     ]
    },
    {
     "name": "stdout",
     "output_type": "stream",
     "text": [
      "Getting Original Date\n",
      "Getting quots \n",
      "Ticker:  ati \n",
      "Date:  2012-09-18\n",
      "Quote Loaded\n"
     ]
    },
    {
     "name": "stderr",
     "output_type": "stream",
     "text": [
      "\r",
      " 93%|████████████████████████████████████████████████████████████████████████████▌     | 14/15 [00:04<00:00,  3.26it/s]"
     ]
    },
    {
     "name": "stdout",
     "output_type": "stream",
     "text": [
      "Getting Original Date\n",
      "Getting quots \n",
      "Ticker:  ati \n",
      "Date:  2013-05-14\n",
      "Quote Loaded\n"
     ]
    },
    {
     "name": "stderr",
     "output_type": "stream",
     "text": [
      "100%|██████████████████████████████████████████████████████████████████████████████████| 15/15 [00:04<00:00,  3.23it/s]\n"
     ]
    },
    {
     "name": "stdout",
     "output_type": "stream",
     "text": [
      "Will save to file:  PriceVsSNP500_ati.csv\n",
      "Getting Stock Price Data...\n"
     ]
    },
    {
     "name": "stderr",
     "output_type": "stream",
     "text": [
      "\r",
      "  0%|                                                                                           | 0/18 [00:00<?, ?it/s]"
     ]
    },
    {
     "name": "stdout",
     "output_type": "stream",
     "text": [
      "Getting Original Date\n",
      "Pointing Date is -  6 (Day of the week)\n",
      "Checking Next Day\n",
      "Getting quots \n",
      "Ticker:  bbby \n",
      "Date:  2003-10-28\n",
      "Quote Loaded\n"
     ]
    },
    {
     "name": "stderr",
     "output_type": "stream",
     "text": [
      "\r",
      "  6%|████▌                                                                              | 1/18 [00:00<00:05,  3.35it/s]"
     ]
    },
    {
     "name": "stdout",
     "output_type": "stream",
     "text": [
      "Getting Original Date\n",
      "Pointing Date is -  5 (Day of the week)\n",
      "Checking Next Day\n",
      "Getting quots \n",
      "Ticker:  bbby \n",
      "Date:  2004-09-27\n",
      "Quote Loaded\n"
     ]
    },
    {
     "name": "stderr",
     "output_type": "stream",
     "text": [
      "\r",
      " 11%|█████████▏                                                                         | 2/18 [00:00<00:04,  3.62it/s]"
     ]
    },
    {
     "name": "stdout",
     "output_type": "stream",
     "text": [
      "Getting Original Date\n",
      "Getting quots \n",
      "Ticker:  bbby \n",
      "Date:  2004-10-20\n",
      "Quote Loaded\n"
     ]
    },
    {
     "name": "stderr",
     "output_type": "stream",
     "text": [
      "\r",
      " 17%|█████████████▊                                                                     | 3/18 [00:00<00:04,  3.37it/s]"
     ]
    },
    {
     "name": "stdout",
     "output_type": "stream",
     "text": [
      "Getting Original Date\n",
      "Pointing Date is -  5 (Day of the week)\n",
      "Checking Next Day\n",
      "Getting quots \n",
      "Ticker:  bbby \n",
      "Date:  2005-03-21\n",
      "Quote Loaded\n"
     ]
    },
    {
     "name": "stderr",
     "output_type": "stream",
     "text": [
      "\r",
      " 22%|██████████████████▍                                                                | 4/18 [00:01<00:04,  3.25it/s]"
     ]
    },
    {
     "name": "stdout",
     "output_type": "stream",
     "text": [
      "Getting Original Date\n",
      "Getting quots \n",
      "Ticker:  bbby \n",
      "Date:  2005-04-05\n",
      "Quote Loaded\n"
     ]
    },
    {
     "name": "stderr",
     "output_type": "stream",
     "text": [
      "\r",
      " 28%|███████████████████████                                                            | 5/18 [00:01<00:04,  3.17it/s]"
     ]
    },
    {
     "name": "stdout",
     "output_type": "stream",
     "text": [
      "Getting Original Date\n",
      "Getting quots \n",
      "Ticker:  bbby \n",
      "Date:  2005-08-30\n",
      "Quote Loaded\n"
     ]
    },
    {
     "name": "stderr",
     "output_type": "stream",
     "text": [
      "\r",
      " 33%|███████████████████████████▋                                                       | 6/18 [00:02<00:04,  2.45it/s]"
     ]
    },
    {
     "name": "stdout",
     "output_type": "stream",
     "text": [
      "Getting Original Date\n",
      "Pointing Date is -  6 (Day of the week)\n",
      "Checking Next Day\n",
      "Getting quots \n",
      "Ticker:  bbby \n",
      "Date:  2006-08-15\n",
      "Quote Loaded\n"
     ]
    },
    {
     "name": "stderr",
     "output_type": "stream",
     "text": [
      "\r",
      " 39%|████████████████████████████████▎                                                  | 7/18 [00:02<00:04,  2.57it/s]"
     ]
    },
    {
     "name": "stdout",
     "output_type": "stream",
     "text": [
      "Getting Original Date\n",
      "Pointing Date is -  5 (Day of the week)\n",
      "Checking Next Day\n",
      "Pointing Date is -  6 (Day of the week)\n",
      "Checking Next Day\n",
      "Getting quots \n",
      "Ticker:  bbby \n",
      "Date:  2006-08-22\n",
      "Quote Loaded\n"
     ]
    },
    {
     "name": "stderr",
     "output_type": "stream",
     "text": [
      "\r",
      " 44%|████████████████████████████████████▉                                              | 8/18 [00:03<00:03,  2.58it/s]"
     ]
    },
    {
     "name": "stdout",
     "output_type": "stream",
     "text": [
      "Getting Original Date\n",
      "Pointing Date is -  5 (Day of the week)\n",
      "Checking Next Day\n",
      "Getting quots \n",
      "Ticker:  bbby \n",
      "Date:  2006-12-04\n",
      "Quote Loaded\n"
     ]
    },
    {
     "name": "stderr",
     "output_type": "stream",
     "text": [
      "\r",
      " 50%|█████████████████████████████████████████▌                                         | 9/18 [00:03<00:03,  2.57it/s]"
     ]
    },
    {
     "name": "stdout",
     "output_type": "stream",
     "text": [
      "Getting Original Date\n",
      "Pointing Date is -  5 (Day of the week)\n",
      "Checking Next Day\n",
      "Pointing Date is -  6 (Day of the week)\n",
      "Checking Next Day\n",
      "Getting quots \n",
      "Ticker:  bbby \n",
      "Date:  2007-02-13\n",
      "Quote Loaded\n"
     ]
    },
    {
     "name": "stderr",
     "output_type": "stream",
     "text": [
      "\r",
      " 56%|█████████████████████████████████████████████▌                                    | 10/18 [00:03<00:03,  2.63it/s]"
     ]
    },
    {
     "name": "stdout",
     "output_type": "stream",
     "text": [
      "Getting Original Date\n",
      "Cannot Get data from Quandl. Skipping this one\n",
      "Getting Original Date\n",
      "Getting quots \n",
      "Ticker:  bbby \n",
      "Date:  2008-04-16\n",
      "Quote Loaded\n"
     ]
    },
    {
     "name": "stderr",
     "output_type": "stream",
     "text": [
      "\r",
      " 67%|██████████████████████████████████████████████████████▋                           | 12/18 [00:04<00:02,  2.90it/s]"
     ]
    },
    {
     "name": "stdout",
     "output_type": "stream",
     "text": [
      "Getting Original Date\n",
      "Getting quots \n",
      "Ticker:  bbby \n",
      "Date:  2008-12-04\n",
      "Quote Loaded\n"
     ]
    },
    {
     "name": "stderr",
     "output_type": "stream",
     "text": [
      "\r",
      " 72%|███████████████████████████████████████████████████████████▏                      | 13/18 [00:04<00:01,  2.91it/s]"
     ]
    },
    {
     "name": "stdout",
     "output_type": "stream",
     "text": [
      "Getting Original Date\n",
      "Getting quots \n",
      "Ticker:  bbby \n",
      "Date:  2011-08-19\n",
      "Quote Loaded\n"
     ]
    },
    {
     "name": "stderr",
     "output_type": "stream",
     "text": [
      "\r",
      " 78%|███████████████████████████████████████████████████████████████▊                  | 14/18 [00:04<00:01,  2.93it/s]"
     ]
    },
    {
     "name": "stdout",
     "output_type": "stream",
     "text": [
      "Getting Original Date\n",
      "Getting quots \n",
      "Ticker:  bbby \n",
      "Date:  2012-03-16\n",
      "Quote Loaded\n"
     ]
    },
    {
     "name": "stderr",
     "output_type": "stream",
     "text": [
      "\r",
      " 83%|████████████████████████████████████████████████████████████████████▎             | 15/18 [00:05<00:01,  2.92it/s]"
     ]
    },
    {
     "name": "stdout",
     "output_type": "stream",
     "text": [
      "Getting Original Date\n",
      "Getting quots \n",
      "Ticker:  bbby \n",
      "Date:  2013-02-06\n",
      "Quote Loaded\n"
     ]
    },
    {
     "name": "stderr",
     "output_type": "stream",
     "text": [
      "\r",
      " 89%|████████████████████████████████████████████████████████████████████████▉         | 16/18 [00:05<00:00,  2.95it/s]"
     ]
    },
    {
     "name": "stdout",
     "output_type": "stream",
     "text": [
      "Getting Original Date\n",
      "Getting quots \n",
      "Ticker:  bbby \n",
      "Date:  2013-04-22\n",
      "Quote Loaded\n"
     ]
    },
    {
     "name": "stderr",
     "output_type": "stream",
     "text": [
      "\r",
      " 94%|█████████████████████████████████████████████████████████████████████████████▍    | 17/18 [00:05<00:00,  2.94it/s]"
     ]
    },
    {
     "name": "stdout",
     "output_type": "stream",
     "text": [
      "Getting Original Date\n",
      "Getting quots \n",
      "Ticker:  bbby \n",
      "Date:  2013-05-23\n",
      "Quote Loaded\n"
     ]
    },
    {
     "name": "stderr",
     "output_type": "stream",
     "text": [
      "100%|██████████████████████████████████████████████████████████████████████████████████| 18/18 [00:06<00:00,  2.99it/s]\n"
     ]
    },
    {
     "name": "stdout",
     "output_type": "stream",
     "text": [
      "Will save to file:  PriceVsSNP500_bbby.csv\n",
      "Getting Stock Price Data...\n"
     ]
    },
    {
     "name": "stderr",
     "output_type": "stream",
     "text": [
      "\r",
      "  0%|                                                                                           | 0/21 [00:00<?, ?it/s]"
     ]
    },
    {
     "name": "stdout",
     "output_type": "stream",
     "text": [
      "Getting Original Date\n",
      "Getting quots \n",
      "Ticker:  adp \n",
      "Date:  2004-05-12\n",
      "Quote Loaded\n"
     ]
    },
    {
     "name": "stderr",
     "output_type": "stream",
     "text": [
      "\r",
      "  5%|███▉                                                                               | 1/21 [00:00<00:05,  3.36it/s]"
     ]
    },
    {
     "name": "stdout",
     "output_type": "stream",
     "text": [
      "Getting Original Date\n",
      "Cannot Get data from Quandl. Skipping this one\n",
      "Getting Original Date\n",
      "Getting quots \n",
      "Ticker:  adp \n",
      "Date:  2006-06-27\n",
      "Quote Loaded\n"
     ]
    },
    {
     "name": "stderr",
     "output_type": "stream",
     "text": [
      "\r",
      " 14%|███████████▊                                                                       | 3/21 [00:00<00:03,  4.52it/s]"
     ]
    },
    {
     "name": "stdout",
     "output_type": "stream",
     "text": [
      "Getting Original Date\n",
      "Getting quots \n",
      "Ticker:  adp \n",
      "Date:  2007-02-20\n",
      "Quote Loaded\n"
     ]
    },
    {
     "name": "stderr",
     "output_type": "stream",
     "text": [
      "\r",
      " 19%|███████████████▊                                                                   | 4/21 [00:01<00:04,  3.68it/s]"
     ]
    },
    {
     "name": "stdout",
     "output_type": "stream",
     "text": [
      "Getting Original Date\n",
      "Pointing Date is -  5 (Day of the week)\n",
      "Checking Next Day\n",
      "Pointing Date is -  6 (Day of the week)\n",
      "Checking Next Day\n",
      "Getting quots \n",
      "Ticker:  adp \n",
      "Date:  2007-05-01\n",
      "Quote Loaded\n"
     ]
    },
    {
     "name": "stderr",
     "output_type": "stream",
     "text": [
      "\r",
      " 24%|███████████████████▊                                                               | 5/21 [00:01<00:04,  3.37it/s]"
     ]
    },
    {
     "name": "stdout",
     "output_type": "stream",
     "text": [
      "Getting Original Date\n",
      "Cannot Get data from Quandl. Skipping this one\n",
      "Getting Original Date\n",
      "Pointing Date is -  5 (Day of the week)\n",
      "Checking Next Day\n",
      "Pointing Date is -  6 (Day of the week)\n",
      "Checking Next Day\n",
      "Getting quots \n",
      "Ticker:  adp \n",
      "Date:  2007-07-03\n",
      "Quote Loaded\n"
     ]
    },
    {
     "name": "stderr",
     "output_type": "stream",
     "text": [
      "\r",
      " 33%|███████████████████████████▋                                                       | 7/21 [00:01<00:03,  3.77it/s]"
     ]
    },
    {
     "name": "stdout",
     "output_type": "stream",
     "text": [
      "Getting Original Date\n",
      "Getting quots \n",
      "Ticker:  adp \n",
      "Date:  2007-10-22\n",
      "Quote Loaded\n"
     ]
    },
    {
     "name": "stderr",
     "output_type": "stream",
     "text": [
      "\r",
      " 38%|███████████████████████████████▌                                                   | 8/21 [00:02<00:03,  3.75it/s]"
     ]
    },
    {
     "name": "stdout",
     "output_type": "stream",
     "text": [
      "Getting Original Date\n",
      "Getting quots \n",
      "Ticker:  adp \n",
      "Date:  2008-01-23\n",
      "Quote Loaded\n"
     ]
    },
    {
     "name": "stderr",
     "output_type": "stream",
     "text": [
      "\r",
      " 43%|███████████████████████████████████▌                                               | 9/21 [00:02<00:03,  3.67it/s]"
     ]
    },
    {
     "name": "stdout",
     "output_type": "stream",
     "text": [
      "Getting Original Date\n",
      "Pointing Date is -  6 (Day of the week)\n",
      "Checking Next Day\n",
      "Getting quots \n",
      "Ticker:  adp \n",
      "Date:  2008-12-08\n",
      "Quote Loaded\n"
     ]
    },
    {
     "name": "stderr",
     "output_type": "stream",
     "text": [
      "\r",
      " 48%|███████████████████████████████████████                                           | 10/21 [00:02<00:03,  3.58it/s]"
     ]
    },
    {
     "name": "stdout",
     "output_type": "stream",
     "text": [
      "Getting Original Date\n",
      "Getting quots \n",
      "Ticker:  adp \n",
      "Date:  2009-03-27\n",
      "Quote Loaded\n"
     ]
    },
    {
     "name": "stderr",
     "output_type": "stream",
     "text": [
      "\r",
      " 52%|██████████████████████████████████████████▉                                       | 11/21 [00:03<00:02,  3.44it/s]"
     ]
    },
    {
     "name": "stdout",
     "output_type": "stream",
     "text": [
      "Getting Original Date\n",
      "Getting quots \n",
      "Ticker:  adp \n",
      "Date:  2009-06-22\n",
      "Quote Loaded\n"
     ]
    },
    {
     "name": "stderr",
     "output_type": "stream",
     "text": [
      "\r",
      " 57%|██████████████████████████████████████████████▊                                   | 12/21 [00:03<00:02,  3.37it/s]"
     ]
    },
    {
     "name": "stdout",
     "output_type": "stream",
     "text": [
      "Getting Original Date\n",
      "Getting quots \n",
      "Ticker:  adp \n",
      "Date:  2011-08-05\n",
      "Quote Loaded\n"
     ]
    },
    {
     "name": "stderr",
     "output_type": "stream",
     "text": [
      "\r",
      " 62%|██████████████████████████████████████████████████▊                               | 13/21 [00:03<00:02,  3.29it/s]"
     ]
    },
    {
     "name": "stdout",
     "output_type": "stream",
     "text": [
      "Getting Original Date\n",
      "Getting quots \n",
      "Ticker:  adp \n",
      "Date:  2011-09-30\n",
      "Quote Loaded\n"
     ]
    },
    {
     "name": "stderr",
     "output_type": "stream",
     "text": [
      "\r",
      " 67%|██████████████████████████████████████████████████████▋                           | 14/21 [00:04<00:02,  3.34it/s]"
     ]
    },
    {
     "name": "stdout",
     "output_type": "stream",
     "text": [
      "Getting Original Date\n",
      "Getting quots \n",
      "Ticker:  adp \n",
      "Date:  2012-01-04\n",
      "Quote Loaded\n"
     ]
    },
    {
     "name": "stderr",
     "output_type": "stream",
     "text": [
      "\r",
      " 71%|██████████████████████████████████████████████████████████▌                       | 15/21 [00:04<00:01,  3.36it/s]"
     ]
    },
    {
     "name": "stdout",
     "output_type": "stream",
     "text": [
      "Getting Original Date\n",
      "Getting quots \n",
      "Ticker:  adp \n",
      "Date:  2012-04-20\n",
      "Quote Loaded\n"
     ]
    },
    {
     "name": "stderr",
     "output_type": "stream",
     "text": [
      "\r",
      " 76%|██████████████████████████████████████████████████████████████▍                   | 16/21 [00:04<00:01,  3.32it/s]"
     ]
    },
    {
     "name": "stdout",
     "output_type": "stream",
     "text": [
      "Getting Original Date\n",
      "Getting quots \n",
      "Ticker:  adp \n",
      "Date:  2012-07-26\n",
      "Quote Loaded\n"
     ]
    },
    {
     "name": "stderr",
     "output_type": "stream",
     "text": [
      "\r",
      " 81%|██████████████████████████████████████████████████████████████████▍               | 17/21 [00:05<00:01,  3.35it/s]"
     ]
    },
    {
     "name": "stdout",
     "output_type": "stream",
     "text": [
      "Getting Original Date\n",
      "Pointing Date is -  6 (Day of the week)\n",
      "Checking Next Day\n",
      "Getting quots \n",
      "Ticker:  adp \n",
      "Date:  2012-11-06\n",
      "Quote Loaded\n"
     ]
    },
    {
     "name": "stderr",
     "output_type": "stream",
     "text": [
      "\r",
      " 86%|██████████████████████████████████████████████████████████████████████▎           | 18/21 [00:05<00:00,  3.32it/s]"
     ]
    },
    {
     "name": "stdout",
     "output_type": "stream",
     "text": [
      "Getting Original Date\n",
      "Getting quots \n",
      "Ticker:  adp \n",
      "Date:  2013-02-06\n",
      "Quote Loaded\n"
     ]
    },
    {
     "name": "stderr",
     "output_type": "stream",
     "text": [
      "\r",
      " 90%|██████████████████████████████████████████████████████████████████████████▏       | 19/21 [00:05<00:00,  3.30it/s]"
     ]
    },
    {
     "name": "stdout",
     "output_type": "stream",
     "text": [
      "Getting Original Date\n",
      "Getting quots \n",
      "Ticker:  adp \n",
      "Date:  2013-04-23\n",
      "Quote Loaded\n"
     ]
    },
    {
     "name": "stderr",
     "output_type": "stream",
     "text": [
      "\r",
      " 95%|██████████████████████████████████████████████████████████████████████████████    | 20/21 [00:06<00:00,  3.29it/s]"
     ]
    },
    {
     "name": "stdout",
     "output_type": "stream",
     "text": [
      "Getting Original Date\n",
      "Getting quots \n",
      "Ticker:  adp \n",
      "Date:  2013-04-26\n",
      "Quote Loaded\n"
     ]
    },
    {
     "name": "stderr",
     "output_type": "stream",
     "text": [
      "100%|██████████████████████████████████████████████████████████████████████████████████| 21/21 [00:06<00:00,  3.25it/s]\n"
     ]
    },
    {
     "name": "stdout",
     "output_type": "stream",
     "text": [
      "Will save to file:  PriceVsSNP500_adp.csv\n",
      "Getting Stock Price Data...\n"
     ]
    },
    {
     "name": "stderr",
     "output_type": "stream",
     "text": [
      "\r",
      "  0%|                                                                                           | 0/12 [00:00<?, ?it/s]"
     ]
    },
    {
     "name": "stdout",
     "output_type": "stream",
     "text": [
      "Getting Original Date\n",
      "Pointing Date is -  6 (Day of the week)\n",
      "Checking Next Day\n",
      "Getting quots \n",
      "Ticker:  avy \n",
      "Date:  2003-10-28\n",
      "Quote Loaded\n"
     ]
    },
    {
     "name": "stderr",
     "output_type": "stream",
     "text": [
      "\r",
      "  8%|██████▉                                                                            | 1/12 [00:00<00:03,  2.94it/s]"
     ]
    },
    {
     "name": "stdout",
     "output_type": "stream",
     "text": [
      "Getting Original Date\n",
      "Getting quots \n",
      "Ticker:  avy \n",
      "Date:  2004-08-25\n",
      "Quote Loaded\n"
     ]
    },
    {
     "name": "stderr",
     "output_type": "stream",
     "text": [
      "\r",
      " 17%|█████████████▊                                                                     | 2/12 [00:00<00:03,  3.27it/s]"
     ]
    },
    {
     "name": "stdout",
     "output_type": "stream",
     "text": [
      "Getting Original Date\n",
      "Pointing Date is -  5 (Day of the week)\n",
      "Checking Next Day\n",
      "Getting quots \n",
      "Ticker:  avy \n",
      "Date:  2005-01-24\n",
      "Quote Loaded\n"
     ]
    },
    {
     "name": "stderr",
     "output_type": "stream",
     "text": [
      "\r",
      " 25%|████████████████████▊                                                              | 3/12 [00:00<00:02,  3.47it/s]"
     ]
    },
    {
     "name": "stdout",
     "output_type": "stream",
     "text": [
      "Getting Original Date\n",
      "Getting quots \n",
      "Ticker:  avy \n",
      "Date:  2005-03-07\n",
      "Quote Loaded\n"
     ]
    },
    {
     "name": "stderr",
     "output_type": "stream",
     "text": [
      "\r",
      " 33%|███████████████████████████▋                                                       | 4/12 [00:01<00:02,  3.42it/s]"
     ]
    },
    {
     "name": "stdout",
     "output_type": "stream",
     "text": [
      "Getting Original Date\n",
      "Getting quots \n",
      "Ticker:  avy \n",
      "Date:  2005-04-05\n",
      "Quote Loaded\n"
     ]
    },
    {
     "name": "stderr",
     "output_type": "stream",
     "text": [
      "\r",
      " 42%|██████████████████████████████████▌                                                | 5/12 [00:01<00:02,  3.31it/s]"
     ]
    },
    {
     "name": "stdout",
     "output_type": "stream",
     "text": [
      "Getting Original Date\n",
      "Getting quots \n",
      "Ticker:  avy \n",
      "Date:  2005-08-29\n",
      "Quote Loaded\n"
     ]
    },
    {
     "name": "stderr",
     "output_type": "stream",
     "text": [
      "\r",
      " 50%|█████████████████████████████████████████▌                                         | 6/12 [00:01<00:01,  3.24it/s]"
     ]
    },
    {
     "name": "stdout",
     "output_type": "stream",
     "text": [
      "Getting Original Date\n",
      "Getting quots \n",
      "Ticker:  avy \n",
      "Date:  2006-05-19\n",
      "Quote Loaded\n"
     ]
    },
    {
     "name": "stderr",
     "output_type": "stream",
     "text": [
      "\r",
      " 58%|████████████████████████████████████████████████▍                                  | 7/12 [00:02<00:01,  3.18it/s]"
     ]
    },
    {
     "name": "stdout",
     "output_type": "stream",
     "text": [
      "Getting Original Date\n",
      "Getting quots \n",
      "Ticker:  avy \n",
      "Date:  2007-02-14\n",
      "Quote Loaded\n"
     ]
    },
    {
     "name": "stderr",
     "output_type": "stream",
     "text": [
      "\r",
      " 67%|███████████████████████████████████████████████████████▎                           | 8/12 [00:02<00:01,  3.18it/s]"
     ]
    },
    {
     "name": "stdout",
     "output_type": "stream",
     "text": [
      "Getting Original Date\n",
      "Getting quots \n",
      "Ticker:  avy \n",
      "Date:  2008-01-23\n",
      "Quote Loaded\n"
     ]
    },
    {
     "name": "stderr",
     "output_type": "stream",
     "text": [
      "\r",
      " 75%|██████████████████████████████████████████████████████████████▎                    | 9/12 [00:02<00:00,  3.25it/s]"
     ]
    },
    {
     "name": "stdout",
     "output_type": "stream",
     "text": [
      "Getting Original Date\n",
      "Pointing Date is -  6 (Day of the week)\n",
      "Checking Next Day\n",
      "Getting quots \n",
      "Ticker:  avy \n",
      "Date:  2008-04-29\n",
      "Quote Loaded\n"
     ]
    },
    {
     "name": "stderr",
     "output_type": "stream",
     "text": [
      "\r",
      " 83%|████████████████████████████████████████████████████████████████████▎             | 10/12 [00:03<00:00,  3.22it/s]"
     ]
    },
    {
     "name": "stdout",
     "output_type": "stream",
     "text": [
      "Getting Original Date\n",
      "Getting quots \n",
      "Ticker:  avy \n",
      "Date:  2011-04-29\n",
      "Quote Loaded\n"
     ]
    },
    {
     "name": "stderr",
     "output_type": "stream",
     "text": [
      "\r",
      " 92%|███████████████████████████████████████████████████████████████████████████▏      | 11/12 [00:03<00:00,  3.13it/s]"
     ]
    },
    {
     "name": "stdout",
     "output_type": "stream",
     "text": [
      "Getting Original Date\n",
      "Getting quots \n",
      "Ticker:  avy \n",
      "Date:  2013-04-25\n",
      "Quote Loaded\n"
     ]
    },
    {
     "name": "stderr",
     "output_type": "stream",
     "text": [
      "100%|██████████████████████████████████████████████████████████████████████████████████| 12/12 [00:03<00:00,  3.05it/s]\n"
     ]
    },
    {
     "name": "stdout",
     "output_type": "stream",
     "text": [
      "Will save to file:  PriceVsSNP500_avy.csv\n",
      "Getting Stock Price Data...\n"
     ]
    },
    {
     "name": "stderr",
     "output_type": "stream",
     "text": [
      "\r",
      "  0%|                                                                                           | 0/10 [00:00<?, ?it/s]"
     ]
    },
    {
     "name": "stdout",
     "output_type": "stream",
     "text": [
      "Getting Original Date\n",
      "Getting quots \n",
      "Ticker:  avb \n",
      "Date:  2004-10-26\n",
      "Quote Loaded\n"
     ]
    },
    {
     "name": "stderr",
     "output_type": "stream",
     "text": [
      "\r",
      " 10%|████████▎                                                                          | 1/10 [00:00<00:03,  2.62it/s]"
     ]
    },
    {
     "name": "stdout",
     "output_type": "stream",
     "text": [
      "Getting Original Date\n",
      "Getting quots \n",
      "Ticker:  avb \n",
      "Date:  2004-12-16\n",
      "Quote Loaded\n"
     ]
    },
    {
     "name": "stderr",
     "output_type": "stream",
     "text": [
      "\r",
      " 20%|████████████████▌                                                                  | 2/10 [00:00<00:02,  3.23it/s]"
     ]
    },
    {
     "name": "stdout",
     "output_type": "stream",
     "text": [
      "Getting Original Date\n",
      "Getting quots \n",
      "Ticker:  avb \n",
      "Date:  2005-03-02\n",
      "Quote Loaded\n"
     ]
    },
    {
     "name": "stderr",
     "output_type": "stream",
     "text": [
      "\r",
      " 30%|████████████████████████▉                                                          | 3/10 [00:00<00:02,  3.06it/s]"
     ]
    },
    {
     "name": "stdout",
     "output_type": "stream",
     "text": [
      "Getting Original Date\n",
      "Pointing Date is -  5 (Day of the week)\n",
      "Checking Next Day\n",
      "Pointing Date is -  6 (Day of the week)\n",
      "Checking Next Day\n",
      "Getting quots \n",
      "Ticker:  avb \n",
      "Date:  2007-01-16\n",
      "Quote Loaded\n"
     ]
    },
    {
     "name": "stderr",
     "output_type": "stream",
     "text": [
      "\r",
      " 40%|█████████████████████████████████▏                                                 | 4/10 [00:01<00:01,  3.22it/s]"
     ]
    },
    {
     "name": "stdout",
     "output_type": "stream",
     "text": [
      "Getting Original Date\n",
      "Pointing Date is -  6 (Day of the week)\n",
      "Checking Next Day\n",
      "Getting quots \n",
      "Ticker:  avb \n",
      "Date:  2007-02-20\n",
      "Quote Loaded\n"
     ]
    },
    {
     "name": "stderr",
     "output_type": "stream",
     "text": [
      "\r",
      " 50%|█████████████████████████████████████████▌                                         | 5/10 [00:01<00:01,  3.06it/s]"
     ]
    },
    {
     "name": "stdout",
     "output_type": "stream",
     "text": [
      "Getting Original Date\n",
      "Getting quots \n",
      "Ticker:  avb \n",
      "Date:  2008-01-23\n",
      "Quote Loaded\n"
     ]
    },
    {
     "name": "stderr",
     "output_type": "stream",
     "text": [
      "\r",
      " 60%|█████████████████████████████████████████████████▊                                 | 6/10 [00:01<00:01,  3.02it/s]"
     ]
    },
    {
     "name": "stdout",
     "output_type": "stream",
     "text": [
      "Getting Original Date\n",
      "Getting quots \n",
      "Ticker:  avb \n",
      "Date:  2009-01-13\n",
      "Quote Loaded\n"
     ]
    },
    {
     "name": "stderr",
     "output_type": "stream",
     "text": [
      "\r",
      " 70%|██████████████████████████████████████████████████████████                         | 7/10 [00:02<00:00,  3.03it/s]"
     ]
    },
    {
     "name": "stdout",
     "output_type": "stream",
     "text": [
      "Getting Original Date\n",
      "Getting quots \n",
      "Ticker:  avb \n",
      "Date:  2009-02-09\n",
      "Quote Loaded\n"
     ]
    },
    {
     "name": "stderr",
     "output_type": "stream",
     "text": [
      "\r",
      " 80%|██████████████████████████████████████████████████████████████████▍                | 8/10 [00:02<00:00,  3.09it/s]"
     ]
    },
    {
     "name": "stdout",
     "output_type": "stream",
     "text": [
      "Getting Original Date\n",
      "Getting quots \n",
      "Ticker:  avb \n",
      "Date:  2013-04-22\n",
      "Quote Loaded\n"
     ]
    },
    {
     "name": "stderr",
     "output_type": "stream",
     "text": [
      "\r",
      " 90%|██████████████████████████████████████████████████████████████████████████▋        | 9/10 [00:03<00:00,  3.00it/s]"
     ]
    },
    {
     "name": "stdout",
     "output_type": "stream",
     "text": [
      "Getting Original Date\n",
      "Getting quots \n",
      "Ticker:  avb \n",
      "Date:  2013-05-14\n",
      "Quote Loaded\n"
     ]
    },
    {
     "name": "stderr",
     "output_type": "stream",
     "text": [
      "100%|██████████████████████████████████████████████████████████████████████████████████| 10/10 [00:03<00:00,  3.00it/s]\n"
     ]
    },
    {
     "name": "stdout",
     "output_type": "stream",
     "text": [
      "Will save to file:  PriceVsSNP500_avb.csv\n",
      "Getting Stock Price Data...\n"
     ]
    },
    {
     "name": "stderr",
     "output_type": "stream",
     "text": [
      "\r",
      "  0%|                                                                                           | 0/36 [00:00<?, ?it/s]"
     ]
    },
    {
     "name": "stdout",
     "output_type": "stream",
     "text": [
      "Getting Original Date\n",
      "Pointing Date is -  6 (Day of the week)\n",
      "Checking Next Day\n",
      "Getting quots \n",
      "Ticker:  axp \n",
      "Date:  2003-12-30\n",
      "Quote Loaded\n"
     ]
    },
    {
     "name": "stderr",
     "output_type": "stream",
     "text": [
      "\r",
      "  3%|██▎                                                                                | 1/36 [00:00<00:10,  3.46it/s]"
     ]
    },
    {
     "name": "stdout",
     "output_type": "stream",
     "text": [
      "Getting Original Date\n",
      "Pointing Date is -  6 (Day of the week)\n",
      "Checking Next Day\n",
      "Getting quots \n",
      "Ticker:  axp \n",
      "Date:  2004-06-21\n",
      "Quote Loaded\n"
     ]
    },
    {
     "name": "stderr",
     "output_type": "stream",
     "text": [
      "\r",
      "  6%|████▌                                                                              | 2/36 [00:00<00:10,  3.16it/s]"
     ]
    },
    {
     "name": "stdout",
     "output_type": "stream",
     "text": [
      "Getting Original Date\n",
      "Pointing Date is -  6 (Day of the week)\n",
      "Checking Next Day\n",
      "Getting quots \n",
      "Ticker:  axp \n",
      "Date:  2004-07-26\n",
      "Quote Loaded\n"
     ]
    },
    {
     "name": "stderr",
     "output_type": "stream",
     "text": [
      "\r",
      "  8%|██████▉                                                                            | 3/36 [00:00<00:09,  3.43it/s]"
     ]
    },
    {
     "name": "stdout",
     "output_type": "stream",
     "text": [
      "Getting Original Date\n",
      "Getting quots \n",
      "Ticker:  axp \n",
      "Date:  2004-08-03\n",
      "Quote Loaded\n"
     ]
    },
    {
     "name": "stderr",
     "output_type": "stream",
     "text": [
      "\r",
      " 11%|█████████▏                                                                         | 4/36 [00:01<00:09,  3.22it/s]"
     ]
    },
    {
     "name": "stdout",
     "output_type": "stream",
     "text": [
      "Getting Original Date\n",
      "Getting quots \n",
      "Ticker:  axp \n",
      "Date:  2004-12-10\n",
      "Quote Loaded\n"
     ]
    },
    {
     "name": "stderr",
     "output_type": "stream",
     "text": [
      "\r",
      " 14%|███████████▌                                                                       | 5/36 [00:01<00:09,  3.24it/s]"
     ]
    },
    {
     "name": "stdout",
     "output_type": "stream",
     "text": [
      "Getting Original Date\n",
      "Getting quots \n",
      "Ticker:  axp \n",
      "Date:  2005-01-04\n",
      "Quote Loaded\n"
     ]
    },
    {
     "name": "stderr",
     "output_type": "stream",
     "text": [
      "\r",
      " 17%|█████████████▊                                                                     | 6/36 [00:01<00:09,  3.22it/s]"
     ]
    },
    {
     "name": "stdout",
     "output_type": "stream",
     "text": [
      "Getting Original Date\n",
      "Pointing Date is -  6 (Day of the week)\n",
      "Checking Next Day\n",
      "Getting quots \n",
      "Ticker:  axp \n",
      "Date:  2005-03-29\n",
      "Quote Loaded\n"
     ]
    },
    {
     "name": "stderr",
     "output_type": "stream",
     "text": [
      "\r",
      " 19%|████████████████▏                                                                  | 7/36 [00:02<00:09,  3.21it/s]"
     ]
    },
    {
     "name": "stdout",
     "output_type": "stream",
     "text": [
      "Getting Original Date\n",
      "Getting quots \n",
      "Ticker:  axp \n",
      "Date:  2005-04-05\n",
      "Quote Loaded\n"
     ]
    },
    {
     "name": "stderr",
     "output_type": "stream",
     "text": [
      "\r",
      " 22%|██████████████████▍                                                                | 8/36 [00:02<00:08,  3.30it/s]"
     ]
    },
    {
     "name": "stdout",
     "output_type": "stream",
     "text": [
      "Getting Original Date\n",
      "Getting quots \n",
      "Ticker:  axp \n",
      "Date:  2005-10-13\n",
      "Quote Loaded\n"
     ]
    },
    {
     "name": "stderr",
     "output_type": "stream",
     "text": [
      "\r",
      " 25%|████████████████████▊                                                              | 9/36 [00:02<00:08,  3.29it/s]"
     ]
    },
    {
     "name": "stdout",
     "output_type": "stream",
     "text": [
      "Getting Original Date\n",
      "Getting quots \n",
      "Ticker:  axp \n",
      "Date:  2005-12-13\n",
      "Quote Loaded\n"
     ]
    },
    {
     "name": "stderr",
     "output_type": "stream",
     "text": [
      "\r",
      " 28%|██████████████████████▊                                                           | 10/36 [00:02<00:07,  3.36it/s]"
     ]
    },
    {
     "name": "stdout",
     "output_type": "stream",
     "text": [
      "Getting Original Date\n",
      "Getting quots \n",
      "Ticker:  axp \n",
      "Date:  2005-12-14\n",
      "Quote Loaded\n"
     ]
    },
    {
     "name": "stderr",
     "output_type": "stream",
     "text": [
      "\r",
      " 31%|█████████████████████████                                                         | 11/36 [00:03<00:07,  3.34it/s]"
     ]
    },
    {
     "name": "stdout",
     "output_type": "stream",
     "text": [
      "Getting Original Date\n",
      "Getting quots \n",
      "Ticker:  axp \n",
      "Date:  2005-12-22\n",
      "Quote Loaded\n"
     ]
    },
    {
     "name": "stderr",
     "output_type": "stream",
     "text": [
      "\r",
      " 33%|███████████████████████████▎                                                      | 12/36 [00:03<00:07,  3.28it/s]"
     ]
    },
    {
     "name": "stdout",
     "output_type": "stream",
     "text": [
      "Getting Original Date\n",
      "Pointing Date is -  5 (Day of the week)\n",
      "Checking Next Day\n",
      "Getting quots \n",
      "Ticker:  axp \n",
      "Date:  2006-06-19\n",
      "Quote Loaded\n"
     ]
    },
    {
     "name": "stderr",
     "output_type": "stream",
     "text": [
      "\r",
      " 36%|█████████████████████████████▌                                                    | 13/36 [00:03<00:07,  3.25it/s]"
     ]
    },
    {
     "name": "stdout",
     "output_type": "stream",
     "text": [
      "Getting Original Date\n",
      "Getting quots \n",
      "Ticker:  axp \n",
      "Date:  2006-11-28\n",
      "Quote Loaded\n"
     ]
    },
    {
     "name": "stderr",
     "output_type": "stream",
     "text": [
      "\r",
      " 39%|███████████████████████████████▉                                                  | 14/36 [00:04<00:06,  3.23it/s]"
     ]
    },
    {
     "name": "stdout",
     "output_type": "stream",
     "text": [
      "Getting Original Date\n",
      "Getting quots \n",
      "Ticker:  axp \n",
      "Date:  2007-01-11\n",
      "Quote Loaded\n"
     ]
    },
    {
     "name": "stderr",
     "output_type": "stream",
     "text": [
      "\r",
      " 42%|██████████████████████████████████▏                                               | 15/36 [00:04<00:06,  3.23it/s]"
     ]
    },
    {
     "name": "stdout",
     "output_type": "stream",
     "text": [
      "Getting Original Date\n",
      "Getting quots \n",
      "Ticker:  axp \n",
      "Date:  2007-03-14\n",
      "Quote Loaded\n"
     ]
    },
    {
     "name": "stderr",
     "output_type": "stream",
     "text": [
      "\r",
      " 44%|████████████████████████████████████▍                                             | 16/36 [00:04<00:06,  3.21it/s]"
     ]
    },
    {
     "name": "stdout",
     "output_type": "stream",
     "text": [
      "Getting Original Date\n",
      "Getting quots \n",
      "Ticker:  axp \n",
      "Date:  2007-04-05\n",
      "Quote Loaded\n"
     ]
    },
    {
     "name": "stderr",
     "output_type": "stream",
     "text": [
      "\r",
      " 47%|██████████████████████████████████████▋                                           | 17/36 [00:05<00:05,  3.25it/s]"
     ]
    },
    {
     "name": "stdout",
     "output_type": "stream",
     "text": [
      "Getting Original Date\n",
      "Getting quots \n",
      "Ticker:  axp \n",
      "Date:  2007-06-08\n",
      "Quote Loaded\n"
     ]
    },
    {
     "name": "stderr",
     "output_type": "stream",
     "text": [
      "\r",
      " 50%|█████████████████████████████████████████                                         | 18/36 [00:05<00:05,  3.21it/s]"
     ]
    },
    {
     "name": "stdout",
     "output_type": "stream",
     "text": [
      "Getting Original Date\n",
      "Getting quots \n",
      "Ticker:  axp \n",
      "Date:  2007-10-23\n",
      "Quote Loaded\n"
     ]
    },
    {
     "name": "stderr",
     "output_type": "stream",
     "text": [
      "\r",
      " 53%|███████████████████████████████████████████▎                                      | 19/36 [00:05<00:05,  3.24it/s]"
     ]
    },
    {
     "name": "stdout",
     "output_type": "stream",
     "text": [
      "Getting Original Date\n",
      "Getting quots \n",
      "Ticker:  axp \n",
      "Date:  2008-01-23\n",
      "Quote Loaded\n"
     ]
    },
    {
     "name": "stderr",
     "output_type": "stream",
     "text": [
      "\r",
      " 56%|█████████████████████████████████████████████▌                                    | 20/36 [00:06<00:05,  3.11it/s]"
     ]
    },
    {
     "name": "stdout",
     "output_type": "stream",
     "text": [
      "Getting Original Date\n",
      "Getting quots \n",
      "Ticker:  axp \n",
      "Date:  2008-10-28\n",
      "Quote Loaded\n"
     ]
    },
    {
     "name": "stderr",
     "output_type": "stream",
     "text": [
      "\r",
      " 58%|███████████████████████████████████████████████▊                                  | 21/36 [00:06<00:04,  3.09it/s]"
     ]
    },
    {
     "name": "stdout",
     "output_type": "stream",
     "text": [
      "Getting Original Date\n",
      "Getting quots \n",
      "Ticker:  axp \n",
      "Date:  2008-12-18\n",
      "Quote Loaded\n"
     ]
    },
    {
     "name": "stderr",
     "output_type": "stream",
     "text": [
      "\r",
      " 61%|██████████████████████████████████████████████████                                | 22/36 [00:07<00:04,  3.10it/s]"
     ]
    },
    {
     "name": "stdout",
     "output_type": "stream",
     "text": [
      "Getting Original Date\n",
      "Pointing Date is -  6 (Day of the week)\n",
      "Checking Next Day\n",
      "Getting quots \n",
      "Ticker:  axp \n",
      "Date:  2009-02-03\n",
      "Quote Loaded\n"
     ]
    },
    {
     "name": "stderr",
     "output_type": "stream",
     "text": [
      "\r",
      " 64%|████████████████████████████████████████████████████▍                             | 23/36 [00:07<00:04,  3.09it/s]"
     ]
    },
    {
     "name": "stdout",
     "output_type": "stream",
     "text": [
      "Getting Original Date\n",
      "Pointing Date is -  5 (Day of the week)\n",
      "Checking Next Day\n",
      "Getting quots \n",
      "Ticker:  axp \n",
      "Date:  2009-03-30\n",
      "Quote Loaded\n"
     ]
    },
    {
     "name": "stderr",
     "output_type": "stream",
     "text": [
      "\r",
      " 67%|██████████████████████████████████████████████████████▋                           | 24/36 [00:07<00:03,  3.12it/s]"
     ]
    },
    {
     "name": "stdout",
     "output_type": "stream",
     "text": [
      "Getting Original Date\n",
      "Pointing Date is -  5 (Day of the week)\n",
      "Checking Next Day\n",
      "Getting quots \n",
      "Ticker:  axp \n",
      "Date:  2011-05-02\n",
      "Quote Loaded\n"
     ]
    },
    {
     "name": "stderr",
     "output_type": "stream",
     "text": [
      "\r",
      " 69%|████████████████████████████████████████████████████████▉                         | 25/36 [00:08<00:03,  3.08it/s]"
     ]
    },
    {
     "name": "stdout",
     "output_type": "stream",
     "text": [
      "Getting Original Date\n",
      "Pointing Date is -  5 (Day of the week)\n",
      "Checking Next Day\n",
      "Pointing Date is -  6 (Day of the week)\n",
      "Checking Next Day\n",
      "Getting quots \n",
      "Ticker:  axp \n",
      "Date:  2011-09-06\n",
      "Quote Loaded\n"
     ]
    },
    {
     "name": "stderr",
     "output_type": "stream",
     "text": [
      "\r",
      " 72%|███████████████████████████████████████████████████████████▏                      | 26/36 [00:08<00:03,  3.06it/s]"
     ]
    },
    {
     "name": "stdout",
     "output_type": "stream",
     "text": [
      "Getting Original Date\n",
      "Getting quots \n",
      "Ticker:  axp \n",
      "Date:  2011-11-02\n",
      "Quote Loaded\n"
     ]
    },
    {
     "name": "stderr",
     "output_type": "stream",
     "text": [
      "\r",
      " 75%|█████████████████████████████████████████████████████████████▌                    | 27/36 [00:08<00:02,  3.05it/s]"
     ]
    },
    {
     "name": "stdout",
     "output_type": "stream",
     "text": [
      "Getting Original Date\n",
      "Getting quots \n",
      "Ticker:  axp \n",
      "Date:  2011-11-04\n",
      "Quote Loaded\n"
     ]
    },
    {
     "name": "stderr",
     "output_type": "stream",
     "text": [
      "\r",
      " 78%|███████████████████████████████████████████████████████████████▊                  | 28/36 [00:09<00:02,  3.06it/s]"
     ]
    },
    {
     "name": "stdout",
     "output_type": "stream",
     "text": [
      "Getting Original Date\n",
      "Cannot Get data from Quandl. Skipping this one\n",
      "Getting Original Date\n",
      "Pointing Date is -  6 (Day of the week)\n",
      "Checking Next Day\n",
      "Getting quots \n",
      "Ticker:  axp \n",
      "Date:  2012-03-05\n",
      "Quote Loaded\n"
     ]
    },
    {
     "name": "stderr",
     "output_type": "stream",
     "text": [
      "\r",
      " 83%|████████████████████████████████████████████████████████████████████▎             | 30/36 [00:09<00:01,  3.15it/s]"
     ]
    },
    {
     "name": "stdout",
     "output_type": "stream",
     "text": [
      "Getting Original Date\n",
      "Getting quots \n",
      "Ticker:  axp \n",
      "Date:  2012-03-07\n",
      "Quote Loaded\n"
     ]
    },
    {
     "name": "stderr",
     "output_type": "stream",
     "text": [
      "\r",
      " 86%|██████████████████████████████████████████████████████████████████████▌           | 31/36 [00:09<00:01,  3.14it/s]"
     ]
    },
    {
     "name": "stdout",
     "output_type": "stream",
     "text": [
      "Getting Original Date\n",
      "Getting quots \n",
      "Ticker:  axp \n",
      "Date:  2012-03-07\n",
      "Quote Loaded\n"
     ]
    },
    {
     "name": "stderr",
     "output_type": "stream",
     "text": [
      "\r",
      " 89%|████████████████████████████████████████████████████████████████████████▉         | 32/36 [00:10<00:01,  3.16it/s]"
     ]
    },
    {
     "name": "stdout",
     "output_type": "stream",
     "text": [
      "Getting Original Date\n",
      "Getting quots \n",
      "Ticker:  axp \n",
      "Date:  2012-07-30\n",
      "Quote Loaded\n"
     ]
    },
    {
     "name": "stderr",
     "output_type": "stream",
     "text": [
      "\r",
      " 92%|███████████████████████████████████████████████████████████████████████████▏      | 33/36 [00:10<00:00,  3.15it/s]"
     ]
    },
    {
     "name": "stdout",
     "output_type": "stream",
     "text": [
      "Getting Original Date\n",
      "Getting quots \n",
      "Ticker:  axp \n",
      "Date:  2012-08-06\n",
      "Quote Loaded\n"
     ]
    },
    {
     "name": "stderr",
     "output_type": "stream",
     "text": [
      "\r",
      " 94%|█████████████████████████████████████████████████████████████████████████████▍    | 34/36 [00:10<00:00,  3.14it/s]"
     ]
    },
    {
     "name": "stdout",
     "output_type": "stream",
     "text": [
      "Getting Original Date\n",
      "Getting quots \n",
      "Ticker:  axp \n",
      "Date:  2013-02-06\n",
      "Quote Loaded\n"
     ]
    },
    {
     "name": "stderr",
     "output_type": "stream",
     "text": [
      "\r",
      " 97%|███████████████████████████████████████████████████████████████████████████████▋  | 35/36 [00:11<00:00,  3.13it/s]"
     ]
    },
    {
     "name": "stdout",
     "output_type": "stream",
     "text": [
      "Getting Original Date\n",
      "Getting quots \n",
      "Ticker:  axp \n",
      "Date:  2013-04-25\n",
      "Quote Loaded\n"
     ]
    },
    {
     "name": "stderr",
     "output_type": "stream",
     "text": [
      "100%|██████████████████████████████████████████████████████████████████████████████████| 36/36 [00:11<00:00,  3.10it/s]\n"
     ]
    },
    {
     "name": "stdout",
     "output_type": "stream",
     "text": [
      "Will save to file:  PriceVsSNP500_axp.csv\n",
      "Getting Stock Price Data...\n"
     ]
    },
    {
     "name": "stderr",
     "output_type": "stream",
     "text": [
      "\r",
      "  0%|                                                                                           | 0/13 [00:00<?, ?it/s]"
     ]
    },
    {
     "name": "stdout",
     "output_type": "stream",
     "text": [
      "Getting Original Date\n",
      "Pointing Date is -  5 (Day of the week)\n",
      "Checking Next Day\n",
      "Getting quots \n",
      "Ticker:  aeo \n",
      "Date:  2007-03-19\n",
      "Quote Loaded\n"
     ]
    },
    {
     "name": "stderr",
     "output_type": "stream",
     "text": [
      "\r",
      "  8%|██████▍                                                                            | 1/13 [00:00<00:04,  2.43it/s]"
     ]
    },
    {
     "name": "stdout",
     "output_type": "stream",
     "text": [
      "Getting Original Date\n",
      "Getting quots \n",
      "Ticker:  aeo \n",
      "Date:  2007-09-20\n",
      "Quote Loaded\n"
     ]
    },
    {
     "name": "stderr",
     "output_type": "stream",
     "text": [
      "\r",
      " 15%|████████████▊                                                                      | 2/13 [00:00<00:04,  2.63it/s]"
     ]
    },
    {
     "name": "stdout",
     "output_type": "stream",
     "text": [
      "Getting Original Date\n",
      "Pointing Date is -  5 (Day of the week)\n",
      "Checking Next Day\n",
      "Getting quots \n",
      "Ticker:  aeo \n",
      "Date:  2007-10-15\n",
      "Quote Loaded\n"
     ]
    },
    {
     "name": "stderr",
     "output_type": "stream",
     "text": [
      "\r",
      " 23%|███████████████████▏                                                               | 3/13 [00:01<00:03,  2.64it/s]"
     ]
    },
    {
     "name": "stdout",
     "output_type": "stream",
     "text": [
      "Getting Original Date\n",
      "Getting quots \n",
      "Ticker:  aeo \n",
      "Date:  2008-01-24\n",
      "Quote Loaded\n"
     ]
    },
    {
     "name": "stderr",
     "output_type": "stream",
     "text": [
      "\r",
      " 31%|█████████████████████████▌                                                         | 4/13 [00:01<00:03,  2.74it/s]"
     ]
    },
    {
     "name": "stdout",
     "output_type": "stream",
     "text": [
      "Getting Original Date\n",
      "Getting quots \n",
      "Ticker:  aeo \n",
      "Date:  2008-12-08\n",
      "Quote Loaded\n"
     ]
    },
    {
     "name": "stderr",
     "output_type": "stream",
     "text": [
      "\r",
      " 38%|███████████████████████████████▉                                                   | 5/13 [00:01<00:02,  2.78it/s]"
     ]
    },
    {
     "name": "stdout",
     "output_type": "stream",
     "text": [
      "Getting Original Date\n",
      "Getting quots \n",
      "Ticker:  aeo \n",
      "Date:  2009-01-12\n",
      "Quote Loaded\n"
     ]
    },
    {
     "name": "stderr",
     "output_type": "stream",
     "text": [
      "\r",
      " 46%|██████████████████████████████████████▎                                            | 6/13 [00:02<00:02,  2.79it/s]"
     ]
    },
    {
     "name": "stdout",
     "output_type": "stream",
     "text": [
      "Getting Original Date\n",
      "Pointing Date is -  5 (Day of the week)\n",
      "Checking Next Day\n",
      "Getting quots \n",
      "Ticker:  aeo \n",
      "Date:  2009-03-09\n",
      "Quote Loaded\n"
     ]
    },
    {
     "name": "stderr",
     "output_type": "stream",
     "text": [
      "\r",
      " 54%|████████████████████████████████████████████▋                                      | 7/13 [00:02<00:02,  2.87it/s]"
     ]
    },
    {
     "name": "stdout",
     "output_type": "stream",
     "text": [
      "Getting Original Date\n",
      "Getting quots \n",
      "Ticker:  aeo \n",
      "Date:  2011-11-17\n",
      "Quote Loaded\n"
     ]
    },
    {
     "name": "stderr",
     "output_type": "stream",
     "text": [
      "\r",
      " 62%|███████████████████████████████████████████████████                                | 8/13 [00:02<00:01,  2.83it/s]"
     ]
    },
    {
     "name": "stdout",
     "output_type": "stream",
     "text": [
      "Getting Original Date\n",
      "Pointing Date is -  6 (Day of the week)\n",
      "Checking Next Day\n",
      "Getting quots \n",
      "Ticker:  aeo \n",
      "Date:  2012-01-03\n",
      "Quote Loaded\n"
     ]
    },
    {
     "name": "stderr",
     "output_type": "stream",
     "text": [
      "\r",
      " 69%|█████████████████████████████████████████████████████████▍                         | 9/13 [00:03<00:01,  2.65it/s]"
     ]
    },
    {
     "name": "stdout",
     "output_type": "stream",
     "text": [
      "Getting Original Date\n",
      "Getting quots \n",
      "Ticker:  aeo \n",
      "Date:  2012-07-23\n",
      "Quote Loaded\n"
     ]
    },
    {
     "name": "stderr",
     "output_type": "stream",
     "text": [
      "\r",
      " 77%|███████████████████████████████████████████████████████████████                   | 10/13 [00:03<00:01,  2.66it/s]"
     ]
    },
    {
     "name": "stdout",
     "output_type": "stream",
     "text": [
      "Getting Original Date\n",
      "Pointing Date is -  6 (Day of the week)\n",
      "Checking Next Day\n",
      "Getting quots \n",
      "Ticker:  aeo \n",
      "Date:  2012-10-15\n",
      "Quote Loaded\n"
     ]
    },
    {
     "name": "stderr",
     "output_type": "stream",
     "text": [
      "\r",
      " 85%|█████████████████████████████████████████████████████████████████████▍            | 11/13 [00:04<00:00,  2.46it/s]"
     ]
    },
    {
     "name": "stdout",
     "output_type": "stream",
     "text": [
      "Getting Original Date\n",
      "Pointing Date is -  5 (Day of the week)\n",
      "Checking Next Day\n",
      "Pointing Date is -  6 (Day of the week)\n",
      "Checking Next Day\n",
      "Getting quots \n",
      "Ticker:  aeo \n",
      "Date:  2013-04-02\n",
      "Quote Loaded\n"
     ]
    },
    {
     "name": "stderr",
     "output_type": "stream",
     "text": [
      "\r",
      " 92%|███████████████████████████████████████████████████████████████████████████▋      | 12/13 [00:04<00:00,  2.49it/s]"
     ]
    },
    {
     "name": "stdout",
     "output_type": "stream",
     "text": [
      "Getting Original Date\n",
      "Getting quots \n",
      "Ticker:  aeo \n",
      "Date:  2013-05-10\n",
      "Quote Loaded\n"
     ]
    },
    {
     "name": "stderr",
     "output_type": "stream",
     "text": [
      "100%|██████████████████████████████████████████████████████████████████████████████████| 13/13 [00:05<00:00,  2.53it/s]\n"
     ]
    },
    {
     "name": "stdout",
     "output_type": "stream",
     "text": [
      "Will save to file:  PriceVsSNP500_aeo.csv\n"
     ]
    }
   ],
   "source": [
    "df_list = []\n",
    "for ticker in tickers:\n",
    "    dates = df.loc[df['Ticker']==ticker,'UNIX']\n",
    "    ticker_price_df = DataAcquisition.get_stock_perfomance(ticker,dates)\n",
    "    df_list.append(ticker_price_df)\n",
    "\n",
    "price_df = pd.concat(df_list, ignore_index=True)\n",
    "\n",
    "res_df = pd.merge(df,price_df,on=['UNIX','Ticker'],how='inner')\n",
    "\n",
    "res_df['Date'] = pd.to_datetime(res_df['Date'])"
   ]
  },
  {
   "cell_type": "code",
   "execution_count": 5,
   "metadata": {},
   "outputs": [
    {
     "data": {
      "image/png": "[encoded data removed]",
      "text/plain": [
       "<matplotlib.figure.Figure at 0x1e3c6295c50>"
      ]
     },
     "metadata": {},
     "output_type": "display_data"
    }
   ],
   "source": [
    "PlotFunctions.plot_df(res_df.loc[res_df.Ticker!='aapl'])"
   ]
  },
  {
   "cell_type": "code",
   "execution_count": 7,
   "metadata": {},
   "outputs": [],
   "source": [
    "#res_df = pd.read_csv('agg60.csv')\n",
    "res_df.to_csv('agg60.csv',index=False)"
   ]
  },
  {
   "cell_type": "code",
   "execution_count": null,
   "metadata": {},
   "outputs": [],
   "source": []
  },
  {
   "cell_type": "code",
   "execution_count": null,
   "metadata": {},
   "outputs": [],
   "source": []
  }
 ],
 "metadata": {
  "kernelspec": {
   "display_name": "Python 3",
   "language": "python",
   "name": "python3"
  },
  "language_info": {
   "codemirror_mode": {
    "name": "ipython",
    "version": 3
   },
   "file_extension": ".py",
   "mimetype": "text/x-python",
   "name": "python",
   "nbconvert_exporter": "python",
   "pygments_lexer": "ipython3",
   "version": "3.5.4"
  }
 },
 "nbformat": 4,
 "nbformat_minor": 2
}
