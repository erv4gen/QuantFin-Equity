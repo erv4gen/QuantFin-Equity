{
 "cells": [
  {
   "cell_type": "code",
   "execution_count": 1,
   "metadata": {},
   "outputs": [
    {
     "ename": "SyntaxError",
     "evalue": "invalid syntax (DataAcquisition.py, line 129)",
     "output_type": "error",
     "traceback": [
      "Traceback \u001b[1;36m(most recent call last)\u001b[0m:\n",
      "  File \u001b[0;32m\"C:\\Users\\ervik\\Anaconda3\\lib\\site-packages\\IPython\\core\\interactiveshell.py\"\u001b[0m, line \u001b[0;32m2963\u001b[0m, in \u001b[0;35mrun_code\u001b[0m\n    exec(code_obj, self.user_global_ns, self.user_ns)\n",
      "  File \u001b[0;32m\"<ipython-input-1-fc20853264d4>\"\u001b[0m, line \u001b[0;32m1\u001b[0m, in \u001b[0;35m<module>\u001b[0m\n    from Functions import General ,PlotFunctions , DataAcquisition\n",
      "\u001b[1;36m  File \u001b[1;32m\"C:\\pjt\\QuantFin-Equity\\Functions\\__init__.py\"\u001b[1;36m, line \u001b[1;32m1\u001b[1;36m, in \u001b[1;35m<module>\u001b[1;36m\u001b[0m\n\u001b[1;33m    from . import PlotFunctions, DataAcquisition , General\u001b[0m\n",
      "\u001b[1;36m  File \u001b[1;32m\"C:\\pjt\\QuantFin-Equity\\Functions\\DataAcquisition.py\"\u001b[1;36m, line \u001b[1;32m129\u001b[0m\n\u001b[1;33m    value = [(lambda x : x if re.match('^%s' % gather, x).group() not None else None) for x in data]\u001b[0m\n\u001b[1;37m                                                                         ^\u001b[0m\n\u001b[1;31mSyntaxError\u001b[0m\u001b[1;31m:\u001b[0m invalid syntax\n"
     ]
    }
   ],
   "source": [
    "from Functions import General ,PlotFunctions , DataAcquisition\n",
    "import time , os\n",
    "from tqdm import tqdm\n",
    "import pandas as pd\n",
    "from datetime import datetime\n",
    "import os\n",
    "from bs4 import BeautifulSoup\n",
    "import quandl\n",
    "from time import mktime\n",
    "import datetime as dt\n",
    "import mysql.connector\n",
    "from ipdb import set_trace\n",
    "\n",
    "import numpy as np\n",
    "path=r'c:\\data\\Datasets\\intraQuarter\\\\'"
   ]
  },
  {
   "cell_type": "code",
   "execution_count": null,
   "metadata": {
    "scrolled": true
   },
   "outputs": [],
   "source": [
    "limit  = int(input(\"what the size(amount of tickers)?\"))\n",
    "features = open('features.txt','r').read().splitlines()\n",
    "df = DataAcquisition.GetStats(gathers=features,\n",
    "              path=path,\n",
    "              limit=limit) \n",
    "\n",
    "print('DF Shape - ', df.shape)\n",
    "\n",
    "df.to_csv(r'c:\\data\\Datasets\\df_stg.csv', index=False)\n",
    "\n",
    "tickers= list(set(df.Ticker))\n",
    "with open(r'c:\\data\\Datasets\\tickers.txt','w') as f:\n",
    "    f.write('\\n'.join(tickers))\n",
    "\n",
    "    \n",
    "    \n",
    "df_list = []\n",
    "for ticker in tickers:\n",
    "    dates = df.loc[df['Ticker']==ticker,'UNIX']\n",
    "    ticker_price_df = DataAcquisition.get_stock_perfomance(ticker,dates)\n",
    "    df_list.append(ticker_price_df)\n",
    "\n",
    "price_df = pd.concat(df_list, ignore_index=True)\n",
    "\n",
    "res_df = pd.merge(df,price_df,on=['UNIX','Ticker'],how='inner')\n",
    "\n",
    "res_df['Date'] = pd.to_datetime(res_df['Date'])\n",
    "res_df.Absolute_Stock_Perfomance = res_df.Absolute_Stock_Perfomance.astype(float)\n",
    "res_path = r'c:\\data\\Datasets\\agg50'+str(limit)+'.csv'\n",
    "res_df.to_csv(res_path,index=False)\n",
    "\n",
    "from sqlalchemy import create_engine , event\n",
    "cred = {x.split(':')[0]: x.split(':')[1] for x in open(r'c:\\data\\sqlcred\\mysql.txt','r').read().splitlines()}\n",
    "\n",
    "user = cred['user']\n",
    "passw =cred['pass']\n",
    "host = cred['server']\n",
    "db =  cred['db']\n",
    "constr= 'mysql+mysqlconnector://{USER}:{PASS}@{HOST}/{DB}'.format(USER=user,\n",
    "                                                                PASS=passw,\n",
    "                                                                HOST=host,\n",
    "                                                                DB=db)\n",
    "\n",
    "\n",
    "engine = create_engine(constr)\n",
    "@event.listens_for(engine, 'before_cursor_execute')\n",
    "def receive_before_cursor_execute(conn, cursor, statement, params, context, executemany):\n",
    "    if executemany:\n",
    "        cursor.fast_executemany = True\n",
    "\n",
    "        \n",
    "#clean columns name \n",
    "print(\"Star Export To MySQL Server\")\n",
    "res_df.columns = [x.replace('(','').replace(')','') for x in res_df.columns]\n",
    "name = 'SNP500 Stocks - '+str(limit)\n",
    "res_df.to_sql(name=name,con=engine,if_exists='replace')\n",
    "print(\"Export has finished successfully\")"
   ]
  },
  {
   "cell_type": "code",
   "execution_count": null,
   "metadata": {},
   "outputs": [],
   "source": []
  },
  {
   "cell_type": "code",
   "execution_count": null,
   "metadata": {},
   "outputs": [],
   "source": []
  }
 ],
 "metadata": {
  "kernelspec": {
   "display_name": "Python 3",
   "language": "python",
   "name": "python3"
  }
 },
 "nbformat": 4,
 "nbformat_minor": 2
}
