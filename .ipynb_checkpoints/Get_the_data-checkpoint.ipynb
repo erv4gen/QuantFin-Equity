{
 "cells": [
  {
   "cell_type": "code",
   "execution_count": 1,
   "metadata": {},
   "outputs": [],
   "source": [
    "from Functions import General ,PlotFunctions , DataAcquisition\n",
    "import time , os\n",
    "from tqdm import tqdm\n",
    "import pandas as pd\n",
    "from datetime import datetime\n",
    "import os\n",
    "from bs4 import BeautifulSoup\n",
    "import quandl\n",
    "from time import mktime\n",
    "import datetime as dt\n",
    "import mysql.connector\n",
    "from ipdb import set_trace\n",
    "\n",
    "import numpy as np\n",
    "path=r'c:\\data\\Datasets\\intraQuarter\\\\'"
   ]
  },
  {
   "cell_type": "code",
   "execution_count": 2,
   "metadata": {
    "scrolled": true
   },
   "outputs": [
    {
     "name": "stdout",
     "output_type": "stream",
     "text": [
      "what the size(amount of tickers)?50\n",
      "DE Ratio,Trailing P/E ,Price/Sales,Price/Book,Profit Margin,Operating Margin,Return on Assets,Return on Equity,Revenue Per Share,Market Cap,Enterprise Value,Forward P/E,PEG Ratio,Enterprise Value/Revenue,Enterprise Value/EBITDA,Revenue,Gross Profit,EBITDA,Net Income Avl to Common ,Diluted EPS,Earnings Growth,Revenue Growth,Total Cash,Total Cash Per Share,Total Debt,Current Ratio,Book Value Per Share,Cash Flow,Beta,Held by Insiders,Held by Institutions,Shares Short (as of,Short Ratio,Short % of Float,Shares Short\n",
      "Limit set to: 50\n"
     ]
    },
    {
     "name": "stderr",
     "output_type": "stream",
     "text": [
      "\r",
      "  0%|                                                                                          | 0/560 [00:00<?, ?it/s]"
     ]
    },
    {
     "name": "stdout",
     "output_type": "stream",
     "text": [
      "Start working with:  a\n"
     ]
    },
    {
     "name": "stderr",
     "output_type": "stream",
     "text": [
      "\r",
      "  0%|▏                                                                                 | 1/560 [00:01<14:24,  1.55s/it]"
     ]
    },
    {
     "name": "stdout",
     "output_type": "stream",
     "text": [
      "Start working with:  aa\n"
     ]
    },
    {
     "name": "stderr",
     "output_type": "stream",
     "text": [
      "\r",
      "  0%|▎                                                                                 | 2/560 [00:04<19:40,  2.12s/it]"
     ]
    },
    {
     "name": "stdout",
     "output_type": "stream",
     "text": [
      "Start working with:  aapl\n"
     ]
    },
    {
     "name": "stderr",
     "output_type": "stream",
     "text": [
      "\r",
      "  1%|▍                                                                                 | 3/560 [00:08<24:50,  2.68s/it]"
     ]
    },
    {
     "name": "stdout",
     "output_type": "stream",
     "text": [
      "Start working with:  abbv\n",
      "Start working with:  abc\n"
     ]
    },
    {
     "name": "stderr",
     "output_type": "stream",
     "text": [
      "\r",
      "  1%|▋                                                                                 | 5/560 [00:09<17:29,  1.89s/it]"
     ]
    },
    {
     "name": "stdout",
     "output_type": "stream",
     "text": [
      "Start working with:  abt\n"
     ]
    },
    {
     "name": "stderr",
     "output_type": "stream",
     "text": [
      "\r",
      "  1%|▉                                                                                 | 6/560 [00:11<17:35,  1.90s/it]"
     ]
    },
    {
     "name": "stdout",
     "output_type": "stream",
     "text": [
      "Start working with:  ace\n"
     ]
    },
    {
     "name": "stderr",
     "output_type": "stream",
     "text": [
      "\r",
      "  1%|█                                                                                 | 7/560 [00:12<16:18,  1.77s/it]"
     ]
    },
    {
     "name": "stdout",
     "output_type": "stream",
     "text": [
      "Start working with:  aci\n"
     ]
    },
    {
     "name": "stderr",
     "output_type": "stream",
     "text": [
      "\r",
      "  1%|█▏                                                                                | 8/560 [00:13<15:41,  1.71s/it]"
     ]
    },
    {
     "name": "stdout",
     "output_type": "stream",
     "text": [
      "Start working with:  acn\n"
     ]
    },
    {
     "name": "stderr",
     "output_type": "stream",
     "text": [
      "\r",
      "  2%|█▎                                                                                | 9/560 [00:15<16:17,  1.77s/it]"
     ]
    },
    {
     "name": "stdout",
     "output_type": "stream",
     "text": [
      "Start working with:  act\n",
      "Start working with:  adbe\n"
     ]
    },
    {
     "name": "stderr",
     "output_type": "stream",
     "text": [
      "\r",
      "  2%|█▌                                                                               | 11/560 [00:18<15:39,  1.71s/it]"
     ]
    },
    {
     "name": "stdout",
     "output_type": "stream",
     "text": [
      "Start working with:  adi\n"
     ]
    },
    {
     "name": "stderr",
     "output_type": "stream",
     "text": [
      "\r",
      "  2%|█▋                                                                               | 12/560 [00:20<15:48,  1.73s/it]"
     ]
    },
    {
     "name": "stdout",
     "output_type": "stream",
     "text": [
      "Start working with:  adm\n"
     ]
    },
    {
     "name": "stderr",
     "output_type": "stream",
     "text": [
      "\r",
      "  2%|█▉                                                                               | 13/560 [00:23<16:27,  1.81s/it]"
     ]
    },
    {
     "name": "stdout",
     "output_type": "stream",
     "text": [
      "Start working with:  adp\n"
     ]
    },
    {
     "name": "stderr",
     "output_type": "stream",
     "text": [
      "\r",
      "  2%|██                                                                               | 14/560 [00:25<16:28,  1.81s/it]"
     ]
    },
    {
     "name": "stdout",
     "output_type": "stream",
     "text": [
      "Start working with:  adsk\n"
     ]
    },
    {
     "name": "stderr",
     "output_type": "stream",
     "text": [
      "\r",
      "  3%|██▏                                                                              | 15/560 [00:26<16:20,  1.80s/it]"
     ]
    },
    {
     "name": "stdout",
     "output_type": "stream",
     "text": [
      "Start working with:  adt\n"
     ]
    },
    {
     "name": "stderr",
     "output_type": "stream",
     "text": [
      "\r",
      "  3%|██▎                                                                              | 16/560 [00:27<15:23,  1.70s/it]"
     ]
    },
    {
     "name": "stdout",
     "output_type": "stream",
     "text": [
      "Start working with:  aee\n"
     ]
    },
    {
     "name": "stderr",
     "output_type": "stream",
     "text": [
      "\r",
      "  3%|██▍                                                                              | 17/560 [00:28<15:09,  1.68s/it]"
     ]
    },
    {
     "name": "stdout",
     "output_type": "stream",
     "text": [
      "Start working with:  aeo\n"
     ]
    },
    {
     "name": "stderr",
     "output_type": "stream",
     "text": [
      "\r",
      "  3%|██▌                                                                              | 18/560 [00:29<14:54,  1.65s/it]"
     ]
    },
    {
     "name": "stdout",
     "output_type": "stream",
     "text": [
      "Start working with:  aep\n"
     ]
    },
    {
     "name": "stderr",
     "output_type": "stream",
     "text": [
      "\r",
      "  3%|██▋                                                                              | 19/560 [00:30<14:30,  1.61s/it]"
     ]
    },
    {
     "name": "stdout",
     "output_type": "stream",
     "text": [
      "Start working with:  aes\n"
     ]
    },
    {
     "name": "stderr",
     "output_type": "stream",
     "text": [
      "\r",
      "  4%|██▉                                                                              | 20/560 [00:31<14:16,  1.59s/it]"
     ]
    },
    {
     "name": "stdout",
     "output_type": "stream",
     "text": [
      "Start working with:  aet\n"
     ]
    },
    {
     "name": "stderr",
     "output_type": "stream",
     "text": [
      "\r",
      "  4%|███                                                                              | 21/560 [00:33<14:16,  1.59s/it]"
     ]
    },
    {
     "name": "stdout",
     "output_type": "stream",
     "text": [
      "Start working with:  afl\n"
     ]
    },
    {
     "name": "stderr",
     "output_type": "stream",
     "text": [
      "\r",
      "  4%|███▏                                                                             | 22/560 [00:35<14:16,  1.59s/it]"
     ]
    },
    {
     "name": "stdout",
     "output_type": "stream",
     "text": [
      "Start working with:  agn\n"
     ]
    },
    {
     "name": "stderr",
     "output_type": "stream",
     "text": [
      "\r",
      "  4%|███▎                                                                             | 23/560 [00:36<14:05,  1.58s/it]"
     ]
    },
    {
     "name": "stdout",
     "output_type": "stream",
     "text": [
      "Start working with:  aig\n"
     ]
    },
    {
     "name": "stderr",
     "output_type": "stream",
     "text": [
      "\r",
      "  4%|███▍                                                                             | 24/560 [00:38<14:27,  1.62s/it]"
     ]
    },
    {
     "name": "stdout",
     "output_type": "stream",
     "text": [
      "Start working with:  aiv\n"
     ]
    },
    {
     "name": "stderr",
     "output_type": "stream",
     "text": [
      "\r",
      "  4%|███▌                                                                             | 25/560 [00:39<14:12,  1.59s/it]"
     ]
    },
    {
     "name": "stdout",
     "output_type": "stream",
     "text": [
      "Start working with:  aiz\n"
     ]
    },
    {
     "name": "stderr",
     "output_type": "stream",
     "text": [
      "\r",
      "  5%|███▊                                                                             | 26/560 [00:40<14:00,  1.57s/it]"
     ]
    },
    {
     "name": "stdout",
     "output_type": "stream",
     "text": [
      "Start working with:  akam\n"
     ]
    },
    {
     "name": "stderr",
     "output_type": "stream",
     "text": [
      "\r",
      "  5%|███▉                                                                             | 27/560 [00:43<14:21,  1.62s/it]"
     ]
    },
    {
     "name": "stdout",
     "output_type": "stream",
     "text": [
      "Start working with:  all\n"
     ]
    },
    {
     "name": "stderr",
     "output_type": "stream",
     "text": [
      "\r",
      "  5%|████                                                                             | 28/560 [00:44<14:09,  1.60s/it]"
     ]
    },
    {
     "name": "stdout",
     "output_type": "stream",
     "text": [
      "Start working with:  altr\n"
     ]
    },
    {
     "name": "stderr",
     "output_type": "stream",
     "text": [
      "\r",
      "  5%|████▏                                                                            | 29/560 [00:46<14:02,  1.59s/it]"
     ]
    },
    {
     "name": "stdout",
     "output_type": "stream",
     "text": [
      "Start working with:  alxn\n"
     ]
    },
    {
     "name": "stderr",
     "output_type": "stream",
     "text": [
      "\r",
      "  5%|████▎                                                                            | 30/560 [00:46<13:43,  1.55s/it]"
     ]
    },
    {
     "name": "stdout",
     "output_type": "stream",
     "text": [
      "Start working with:  amat\n"
     ]
    },
    {
     "name": "stderr",
     "output_type": "stream",
     "text": [
      "\r",
      "  6%|████▍                                                                            | 31/560 [00:48<13:47,  1.56s/it]"
     ]
    },
    {
     "name": "stdout",
     "output_type": "stream",
     "text": [
      "Start working with:  amd\n"
     ]
    },
    {
     "name": "stderr",
     "output_type": "stream",
     "text": [
      "\r",
      "  6%|████▋                                                                            | 32/560 [00:52<14:20,  1.63s/it]"
     ]
    },
    {
     "name": "stdout",
     "output_type": "stream",
     "text": [
      "Start working with:  amgn\n"
     ]
    },
    {
     "name": "stderr",
     "output_type": "stream",
     "text": [
      "\r",
      "  6%|████▊                                                                            | 33/560 [00:54<14:30,  1.65s/it]"
     ]
    },
    {
     "name": "stdout",
     "output_type": "stream",
     "text": [
      "Start working with:  amp\n"
     ]
    },
    {
     "name": "stderr",
     "output_type": "stream",
     "text": [
      "\r",
      "  6%|████▉                                                                            | 34/560 [00:55<14:19,  1.63s/it]"
     ]
    },
    {
     "name": "stdout",
     "output_type": "stream",
     "text": [
      "Start working with:  amt\n"
     ]
    },
    {
     "name": "stderr",
     "output_type": "stream",
     "text": [
      "\r",
      "  6%|█████                                                                            | 35/560 [00:56<14:10,  1.62s/it]"
     ]
    },
    {
     "name": "stdout",
     "output_type": "stream",
     "text": [
      "Start working with:  amzn\n"
     ]
    },
    {
     "name": "stderr",
     "output_type": "stream",
     "text": [
      "\r",
      "  6%|█████▏                                                                           | 36/560 [01:01<14:52,  1.70s/it]"
     ]
    },
    {
     "name": "stdout",
     "output_type": "stream",
     "text": [
      "Start working with:  an\n"
     ]
    },
    {
     "name": "stderr",
     "output_type": "stream",
     "text": [
      "\r",
      "  7%|█████▎                                                                           | 37/560 [01:03<14:50,  1.70s/it]"
     ]
    },
    {
     "name": "stdout",
     "output_type": "stream",
     "text": [
      "Start working with:  anf\n"
     ]
    },
    {
     "name": "stderr",
     "output_type": "stream",
     "text": [
      "\r",
      "  7%|█████▍                                                                           | 38/560 [01:05<15:06,  1.74s/it]"
     ]
    },
    {
     "name": "stdout",
     "output_type": "stream",
     "text": [
      "Start working with:  ann\n"
     ]
    },
    {
     "name": "stderr",
     "output_type": "stream",
     "text": [
      "\r",
      "  7%|█████▋                                                                           | 39/560 [01:06<14:50,  1.71s/it]"
     ]
    },
    {
     "name": "stdout",
     "output_type": "stream",
     "text": [
      "Start working with:  aon\n"
     ]
    },
    {
     "name": "stderr",
     "output_type": "stream",
     "text": [
      "\r",
      "  7%|█████▊                                                                           | 40/560 [01:07<14:33,  1.68s/it]"
     ]
    },
    {
     "name": "stdout",
     "output_type": "stream",
     "text": [
      "Start working with:  apa\n"
     ]
    },
    {
     "name": "stderr",
     "output_type": "stream",
     "text": [
      "\r",
      "  7%|█████▉                                                                           | 41/560 [01:08<14:29,  1.68s/it]"
     ]
    },
    {
     "name": "stdout",
     "output_type": "stream",
     "text": [
      "Start working with:  apc\n"
     ]
    },
    {
     "name": "stderr",
     "output_type": "stream",
     "text": [
      "\r",
      "  8%|██████                                                                           | 42/560 [01:10<14:32,  1.68s/it]"
     ]
    },
    {
     "name": "stdout",
     "output_type": "stream",
     "text": [
      "Start working with:  apd\n"
     ]
    },
    {
     "name": "stderr",
     "output_type": "stream",
     "text": [
      "\r",
      "  8%|██████▏                                                                          | 43/560 [01:11<14:25,  1.67s/it]"
     ]
    },
    {
     "name": "stdout",
     "output_type": "stream",
     "text": [
      "Start working with:  aph\n"
     ]
    },
    {
     "name": "stderr",
     "output_type": "stream",
     "text": [
      "\r",
      "  8%|██████▎                                                                          | 44/560 [01:13<14:17,  1.66s/it]"
     ]
    },
    {
     "name": "stdout",
     "output_type": "stream",
     "text": [
      "Start working with:  apol\n"
     ]
    },
    {
     "name": "stderr",
     "output_type": "stream",
     "text": [
      "\r",
      "  8%|██████▌                                                                          | 45/560 [01:15<14:19,  1.67s/it]"
     ]
    },
    {
     "name": "stdout",
     "output_type": "stream",
     "text": [
      "Start working with:  arg\n"
     ]
    },
    {
     "name": "stderr",
     "output_type": "stream",
     "text": [
      "\r",
      "  8%|██████▋                                                                          | 46/560 [01:16<14:15,  1.66s/it]"
     ]
    },
    {
     "name": "stdout",
     "output_type": "stream",
     "text": [
      "Start working with:  arna\n"
     ]
    },
    {
     "name": "stderr",
     "output_type": "stream",
     "text": [
      "\r",
      "  8%|██████▊                                                                          | 47/560 [01:17<14:05,  1.65s/it]"
     ]
    },
    {
     "name": "stdout",
     "output_type": "stream",
     "text": [
      "Start working with:  aro\n"
     ]
    },
    {
     "name": "stderr",
     "output_type": "stream",
     "text": [
      "\r",
      "  9%|██████▉                                                                          | 48/560 [01:18<14:00,  1.64s/it]"
     ]
    },
    {
     "name": "stdout",
     "output_type": "stream",
     "text": [
      "Start working with:  ati\n"
     ]
    },
    {
     "name": "stderr",
     "output_type": "stream",
     "text": [
      "\r",
      "  9%|███████                                                                          | 49/560 [01:20<13:55,  1.64s/it]"
     ]
    },
    {
     "name": "stdout",
     "output_type": "stream",
     "text": [
      "Start working with:  atvi\n"
     ]
    },
    {
     "name": "stderr",
     "output_type": "stream",
     "text": [
      "\r",
      "  9%|███████▏                                                                         | 50/560 [01:22<13:59,  1.65s/it]"
     ]
    },
    {
     "name": "stdout",
     "output_type": "stream",
     "text": [
      "DF Shape -  (977, 38)\n",
      "Getting Stock Price Data...\n"
     ]
    },
    {
     "name": "stderr",
     "output_type": "stream",
     "text": [
      "\n",
      "  0%|                                                                                           | 0/18 [00:00<?, ?it/s]"
     ]
    },
    {
     "name": "stdout",
     "output_type": "stream",
     "text": [
      "Getting Original Date\n",
      "Getting quots \n",
      "Ticker:  afl \n",
      "Date:  2003-10-03\n",
      "Quote Loaded\n"
     ]
    },
    {
     "name": "stderr",
     "output_type": "stream",
     "text": [
      "\n",
      "  6%|████▌                                                                              | 1/18 [00:00<00:07,  2.36it/s]"
     ]
    },
    {
     "name": "stdout",
     "output_type": "stream",
     "text": [
      "Getting Original Date\n",
      "Pointing Date is -  6 (Day of the week)\n",
      "Checking Next Day\n",
      "Getting quots \n",
      "Ticker:  afl \n",
      "Date:  2003-12-09\n",
      "Quote Loaded\n"
     ]
    },
    {
     "name": "stderr",
     "output_type": "stream",
     "text": [
      "\n",
      " 11%|█████████▏                                                                         | 2/18 [00:00<00:07,  2.24it/s]"
     ]
    },
    {
     "name": "stdout",
     "output_type": "stream",
     "text": [
      "Getting Original Date\n",
      "Pointing Date is -  6 (Day of the week)\n",
      "Checking Next Day\n",
      "Getting quots \n",
      "Ticker:  afl \n",
      "Date:  2004-06-29\n",
      "Quote Loaded\n"
     ]
    },
    {
     "name": "stderr",
     "output_type": "stream",
     "text": [
      "\n",
      " 17%|█████████████▊                                                                     | 3/18 [00:01<00:07,  2.10it/s]"
     ]
    },
    {
     "name": "stdout",
     "output_type": "stream",
     "text": [
      "Getting Original Date\n",
      "Pointing Date is -  6 (Day of the week)\n",
      "Checking Next Day\n",
      "Getting quots \n",
      "Ticker:  afl \n",
      "Date:  2004-08-30\n",
      "Quote Loaded\n"
     ]
    },
    {
     "name": "stderr",
     "output_type": "stream",
     "text": [
      "\n",
      " 22%|██████████████████▍                                                                | 4/18 [00:01<00:06,  2.06it/s]"
     ]
    },
    {
     "name": "stdout",
     "output_type": "stream",
     "text": [
      "Getting Original Date\n",
      "Getting quots \n",
      "Ticker:  afl \n",
      "Date:  2005-01-25\n",
      "Quote Loaded\n"
     ]
    },
    {
     "name": "stderr",
     "output_type": "stream",
     "text": [
      "\n",
      " 28%|███████████████████████                                                            | 5/18 [00:02<00:06,  1.96it/s]"
     ]
    },
    {
     "name": "stdout",
     "output_type": "stream",
     "text": [
      "Getting Original Date\n",
      "Getting quots \n",
      "Ticker:  afl \n",
      "Date:  2005-03-17\n",
      "Quote Loaded\n"
     ]
    },
    {
     "name": "stderr",
     "output_type": "stream",
     "text": [
      "\n",
      " 33%|███████████████████████████▋                                                       | 6/18 [00:03<00:06,  1.95it/s]"
     ]
    },
    {
     "name": "stdout",
     "output_type": "stream",
     "text": [
      "Getting Original Date\n",
      "Getting quots \n",
      "Ticker:  afl \n",
      "Date:  2005-04-06\n",
      "Quote Loaded\n"
     ]
    },
    {
     "name": "stderr",
     "output_type": "stream",
     "text": [
      "\n",
      " 39%|████████████████████████████████▎                                                  | 7/18 [00:03<00:05,  1.96it/s]"
     ]
    },
    {
     "name": "stdout",
     "output_type": "stream",
     "text": [
      "Getting Original Date\n",
      "Pointing Date is -  6 (Day of the week)\n",
      "Checking Next Day\n",
      "Getting quots \n",
      "Ticker:  afl \n",
      "Date:  2005-08-30\n",
      "Quote Loaded\n"
     ]
    },
    {
     "name": "stderr",
     "output_type": "stream",
     "text": [
      "\n",
      " 44%|████████████████████████████████████▉                                              | 8/18 [00:04<00:05,  1.99it/s]"
     ]
    },
    {
     "name": "stdout",
     "output_type": "stream",
     "text": [
      "Getting Original Date\n",
      "Getting quots \n",
      "Ticker:  afl \n",
      "Date:  2006-02-02\n",
      "Quote Loaded\n"
     ]
    },
    {
     "name": "stderr",
     "output_type": "stream",
     "text": [
      "\n",
      " 50%|█████████████████████████████████████████▌                                         | 9/18 [00:04<00:04,  2.00it/s]"
     ]
    },
    {
     "name": "stdout",
     "output_type": "stream",
     "text": [
      "Getting Original Date\n",
      "Pointing Date is -  6 (Day of the week)\n",
      "Checking Next Day\n",
      "Cannot Get data from Quandl. Skipping this one\n",
      "Getting Original Date\n",
      "Getting quots \n",
      "Ticker:  afl \n",
      "Date:  2007-02-20\n",
      "Quote Loaded\n"
     ]
    },
    {
     "name": "stderr",
     "output_type": "stream",
     "text": [
      "\n",
      " 61%|██████████████████████████████████████████████████                                | 11/18 [00:04<00:03,  2.22it/s]"
     ]
    },
    {
     "name": "stdout",
     "output_type": "stream",
     "text": [
      "Getting Original Date\n",
      "Pointing Date is -  6 (Day of the week)\n",
      "Checking Next Day\n",
      "Getting quots \n",
      "Ticker:  afl \n",
      "Date:  2007-04-09\n",
      "Quote Loaded\n"
     ]
    },
    {
     "name": "stderr",
     "output_type": "stream",
     "text": [
      "\n",
      " 67%|██████████████████████████████████████████████████████▋                           | 12/18 [00:05<00:02,  2.25it/s]"
     ]
    },
    {
     "name": "stdout",
     "output_type": "stream",
     "text": [
      "Getting Original Date\n",
      "Cannot Get data from Quandl. Skipping this one\n",
      "Getting Original Date\n",
      "Getting quots \n",
      "Ticker:  afl \n",
      "Date:  2008-01-23\n",
      "Quote Loaded\n"
     ]
    },
    {
     "name": "stderr",
     "output_type": "stream",
     "text": [
      "\n",
      " 78%|███████████████████████████████████████████████████████████████▊                  | 14/18 [00:05<00:01,  2.41it/s]"
     ]
    },
    {
     "name": "stdout",
     "output_type": "stream",
     "text": [
      "Getting Original Date\n",
      "Getting quots \n",
      "Ticker:  afl \n",
      "Date:  2009-01-29\n",
      "Quote Loaded\n"
     ]
    },
    {
     "name": "stderr",
     "output_type": "stream",
     "text": [
      "\n",
      " 83%|████████████████████████████████████████████████████████████████████▎             | 15/18 [00:06<00:01,  2.36it/s]"
     ]
    },
    {
     "name": "stdout",
     "output_type": "stream",
     "text": [
      "Getting Original Date\n",
      "Getting quots \n",
      "Ticker:  afl \n",
      "Date:  2011-12-30\n",
      "Quote Loaded\n"
     ]
    },
    {
     "name": "stderr",
     "output_type": "stream",
     "text": [
      "\n",
      " 89%|████████████████████████████████████████████████████████████████████████▉         | 16/18 [00:06<00:00,  2.35it/s]"
     ]
    },
    {
     "name": "stdout",
     "output_type": "stream",
     "text": [
      "Getting Original Date\n",
      "Getting quots \n",
      "Ticker:  afl \n",
      "Date:  2012-07-17\n",
      "Quote Loaded\n"
     ]
    },
    {
     "name": "stderr",
     "output_type": "stream",
     "text": [
      "\n",
      " 94%|█████████████████████████████████████████████████████████████████████████████▍    | 17/18 [00:07<00:00,  2.33it/s]"
     ]
    },
    {
     "name": "stdout",
     "output_type": "stream",
     "text": [
      "Getting Original Date\n",
      "Getting quots \n",
      "Ticker:  afl \n",
      "Date:  2013-05-07\n",
      "Quote Loaded\n"
     ]
    },
    {
     "name": "stderr",
     "output_type": "stream",
     "text": [
      "\n",
      "100%|██████████████████████████████████████████████████████████████████████████████████| 18/18 [00:07<00:00,  2.31it/s]\n"
     ]
    },
    {
     "name": "stdout",
     "output_type": "stream",
     "text": [
      "Will save to file:  c:\\data\\finml\\PriceVsSNP500_afl.csv\n",
      "Getting Stock Price Data...\n"
     ]
    },
    {
     "name": "stderr",
     "output_type": "stream",
     "text": [
      "\n",
      "  0%|                                                                                           | 0/28 [00:00<?, ?it/s]"
     ]
    },
    {
     "name": "stdout",
     "output_type": "stream",
     "text": [
      "Getting Original Date\n",
      "Pointing Date is -  5 (Day of the week)\n",
      "Checking Next Day\n",
      "Pointing Date is -  6 (Day of the week)\n",
      "Checking Next Day\n",
      "Getting quots \n",
      "Ticker:  acn \n",
      "Date:  2003-11-11\n",
      "Quote Loaded\n"
     ]
    },
    {
     "name": "stderr",
     "output_type": "stream",
     "text": [
      "\n",
      "  4%|██▉                                                                                | 1/28 [00:00<00:13,  2.00it/s]"
     ]
    },
    {
     "name": "stdout",
     "output_type": "stream",
     "text": [
      "Getting Original Date\n",
      "Pointing Date is -  6 (Day of the week)\n",
      "Checking Next Day\n",
      "Getting quots \n",
      "Ticker:  acn \n",
      "Date:  2004-11-30\n",
      "Quote Loaded\n"
     ]
    },
    {
     "name": "stderr",
     "output_type": "stream",
     "text": [
      "\n",
      "  7%|█████▉                                                                             | 2/28 [00:00<00:11,  2.25it/s]"
     ]
    },
    {
     "name": "stdout",
     "output_type": "stream",
     "text": [
      "Getting Original Date\n",
      "Getting quots \n",
      "Ticker:  acn \n",
      "Date:  2004-12-10\n",
      "Quote Loaded\n"
     ]
    },
    {
     "name": "stderr",
     "output_type": "stream",
     "text": [
      "\n",
      " 11%|████████▉                                                                          | 3/28 [00:01<00:10,  2.41it/s]"
     ]
    },
    {
     "name": "stdout",
     "output_type": "stream",
     "text": [
      "Getting Original Date\n",
      "Getting quots \n",
      "Ticker:  acn \n",
      "Date:  2005-02-10\n",
      "Quote Loaded\n"
     ]
    },
    {
     "name": "stderr",
     "output_type": "stream",
     "text": [
      "\n",
      " 14%|███████████▊                                                                       | 4/28 [00:01<00:10,  2.30it/s]"
     ]
    },
    {
     "name": "stdout",
     "output_type": "stream",
     "text": [
      "Getting Original Date\n",
      "Getting quots \n",
      "Ticker:  acn \n",
      "Date:  2005-04-04\n",
      "Quote Loaded\n"
     ]
    },
    {
     "name": "stderr",
     "output_type": "stream",
     "text": [
      "\n",
      " 18%|██████████████▊                                                                    | 5/28 [00:02<00:10,  2.23it/s]"
     ]
    },
    {
     "name": "stdout",
     "output_type": "stream",
     "text": [
      "Getting Original Date\n",
      "Pointing Date is -  6 (Day of the week)\n",
      "Checking Next Day\n",
      "Cannot Get data from Quandl. Skipping this one\n",
      "Getting Original Date\n",
      "Pointing Date is -  5 (Day of the week)\n",
      "Checking Next Day\n",
      "Getting quots \n",
      "Ticker:  acn \n",
      "Date:  2006-06-05\n",
      "Quote Loaded\n"
     ]
    },
    {
     "name": "stderr",
     "output_type": "stream",
     "text": [
      "\n",
      " 25%|████████████████████▊                                                              | 7/28 [00:02<00:08,  2.54it/s]"
     ]
    },
    {
     "name": "stdout",
     "output_type": "stream",
     "text": [
      "Getting Original Date\n",
      "Getting quots \n",
      "Ticker:  acn \n",
      "Date:  2006-08-22\n",
      "Quote Loaded\n"
     ]
    },
    {
     "name": "stderr",
     "output_type": "stream",
     "text": [
      "\n",
      " 29%|███████████████████████▋                                                           | 8/28 [00:03<00:07,  2.53it/s]"
     ]
    },
    {
     "name": "stdout",
     "output_type": "stream",
     "text": [
      "Getting Original Date\n",
      "Getting quots \n",
      "Ticker:  acn \n",
      "Date:  2006-08-22\n",
      "Quote Loaded\n"
     ]
    },
    {
     "name": "stderr",
     "output_type": "stream",
     "text": [
      "\n",
      " 32%|██████████████████████████▋                                                        | 9/28 [00:03<00:07,  2.38it/s]"
     ]
    },
    {
     "name": "stdout",
     "output_type": "stream",
     "text": [
      "Getting Original Date\n",
      "Pointing Date is -  6 (Day of the week)\n",
      "Checking Next Day\n",
      "Getting quots \n",
      "Ticker:  acn \n",
      "Date:  2006-08-28\n",
      "Quote Loaded\n"
     ]
    },
    {
     "name": "stderr",
     "output_type": "stream",
     "text": [
      "\n",
      " 36%|█████████████████████████████▎                                                    | 10/28 [00:04<00:07,  2.40it/s]"
     ]
    },
    {
     "name": "stdout",
     "output_type": "stream",
     "text": [
      "Getting Original Date\n",
      "Getting quots \n",
      "Ticker:  acn \n",
      "Date:  2006-11-02\n",
      "Quote Loaded\n"
     ]
    },
    {
     "name": "stderr",
     "output_type": "stream",
     "text": [
      "\n",
      " 39%|████████████████████████████████▏                                                 | 11/28 [00:04<00:07,  2.34it/s]"
     ]
    },
    {
     "name": "stdout",
     "output_type": "stream",
     "text": [
      "Getting Original Date\n",
      "Pointing Date is -  5 (Day of the week)\n",
      "Checking Next Day\n",
      "Pointing Date is -  6 (Day of the week)\n",
      "Checking Next Day\n",
      "Getting quots \n",
      "Ticker:  acn \n",
      "Date:  2006-11-14\n",
      "Quote Loaded\n"
     ]
    },
    {
     "name": "stderr",
     "output_type": "stream",
     "text": [
      "\n",
      " 43%|███████████████████████████████████▏                                              | 12/28 [00:05<00:06,  2.30it/s]"
     ]
    },
    {
     "name": "stdout",
     "output_type": "stream",
     "text": [
      "Getting Original Date\n",
      "Pointing Date is -  6 (Day of the week)\n",
      "Checking Next Day\n",
      "Getting quots \n",
      "Ticker:  acn \n",
      "Date:  2006-12-04\n",
      "Quote Loaded\n"
     ]
    },
    {
     "name": "stderr",
     "output_type": "stream",
     "text": [
      "\n",
      " 46%|██████████████████████████████████████                                            | 13/28 [00:05<00:06,  2.27it/s]"
     ]
    },
    {
     "name": "stdout",
     "output_type": "stream",
     "text": [
      "Getting Original Date\n",
      "Getting quots \n",
      "Ticker:  acn \n",
      "Date:  2007-03-14\n",
      "Quote Loaded\n"
     ]
    },
    {
     "name": "stderr",
     "output_type": "stream",
     "text": [
      "\n",
      " 50%|█████████████████████████████████████████                                         | 14/28 [00:06<00:06,  2.10it/s]"
     ]
    },
    {
     "name": "stdout",
     "output_type": "stream",
     "text": [
      "Getting Original Date\n",
      "Pointing Date is -  5 (Day of the week)\n",
      "Checking Next Day\n",
      "Pointing Date is -  6 (Day of the week)\n",
      "Checking Next Day\n",
      "Getting quots \n",
      "Ticker:  acn \n",
      "Date:  2007-05-08\n",
      "Quote Loaded\n"
     ]
    },
    {
     "name": "stderr",
     "output_type": "stream",
     "text": [
      "\n",
      " 54%|███████████████████████████████████████████▉                                      | 15/28 [00:07<00:06,  2.09it/s]"
     ]
    },
    {
     "name": "stdout",
     "output_type": "stream",
     "text": [
      "Getting Original Date\n",
      "Getting quots \n",
      "Ticker:  acn \n",
      "Date:  2007-06-05\n",
      "Quote Loaded\n"
     ]
    },
    {
     "name": "stderr",
     "output_type": "stream",
     "text": [
      "\n",
      " 57%|██████████████████████████████████████████████▊                                   | 16/28 [00:07<00:05,  2.13it/s]"
     ]
    },
    {
     "name": "stdout",
     "output_type": "stream",
     "text": [
      "Getting Original Date\n",
      "Getting quots \n",
      "Ticker:  acn \n",
      "Date:  2007-07-06\n",
      "Quote Loaded\n"
     ]
    },
    {
     "name": "stderr",
     "output_type": "stream",
     "text": [
      "\n",
      " 61%|█████████████████████████████████████████████████▊                                | 17/28 [00:07<00:05,  2.13it/s]"
     ]
    },
    {
     "name": "stdout",
     "output_type": "stream",
     "text": [
      "Getting Original Date\n",
      "Getting quots \n",
      "Ticker:  acn \n",
      "Date:  2008-04-07\n",
      "Quote Loaded\n"
     ]
    },
    {
     "name": "stderr",
     "output_type": "stream",
     "text": [
      "\n",
      " 64%|████████████████████████████████████████████████████▋                             | 18/28 [00:08<00:04,  2.16it/s]"
     ]
    },
    {
     "name": "stdout",
     "output_type": "stream",
     "text": [
      "Getting Original Date\n",
      "Pointing Date is -  5 (Day of the week)\n",
      "Checking Next Day\n",
      "Getting quots \n",
      "Ticker:  acn \n",
      "Date:  2008-10-20\n",
      "Quote Loaded\n"
     ]
    },
    {
     "name": "stderr",
     "output_type": "stream",
     "text": [
      "\n",
      " 68%|███████████████████████████████████████████████████████▋                          | 19/28 [00:08<00:04,  2.16it/s]"
     ]
    },
    {
     "name": "stdout",
     "output_type": "stream",
     "text": [
      "Getting Original Date\n",
      "Getting quots \n",
      "Ticker:  acn \n",
      "Date:  2008-12-02\n",
      "Quote Loaded\n"
     ]
    },
    {
     "name": "stderr",
     "output_type": "stream",
     "text": [
      "\n",
      " 71%|██████████████████████████████████████████████████████████▌                       | 20/28 [00:09<00:03,  2.15it/s]"
     ]
    },
    {
     "name": "stdout",
     "output_type": "stream",
     "text": [
      "Getting Original Date\n",
      "Pointing Date is -  6 (Day of the week)\n",
      "Checking Next Day\n",
      "Getting quots \n",
      "Ticker:  acn \n",
      "Date:  2008-12-23\n",
      "Quote Loaded\n"
     ]
    },
    {
     "name": "stderr",
     "output_type": "stream",
     "text": [
      "\n",
      " 75%|█████████████████████████████████████████████████████████████▌                    | 21/28 [00:09<00:03,  2.16it/s]"
     ]
    },
    {
     "name": "stdout",
     "output_type": "stream",
     "text": [
      "Getting Original Date\n",
      "Getting quots \n",
      "Ticker:  acn \n",
      "Date:  2009-08-10\n",
      "Quote Loaded\n"
     ]
    },
    {
     "name": "stderr",
     "output_type": "stream",
     "text": [
      "\n",
      " 79%|████████████████████████████████████████████████████████████████▍                 | 22/28 [00:10<00:02,  2.20it/s]"
     ]
    },
    {
     "name": "stdout",
     "output_type": "stream",
     "text": [
      "Getting Original Date\n",
      "Getting quots \n",
      "Ticker:  acn \n",
      "Date:  2011-09-01\n",
      "Quote Loaded\n"
     ]
    },
    {
     "name": "stderr",
     "output_type": "stream",
     "text": [
      "\n",
      " 82%|███████████████████████████████████████████████████████████████████▎              | 23/28 [00:10<00:02,  2.23it/s]"
     ]
    },
    {
     "name": "stdout",
     "output_type": "stream",
     "text": [
      "Getting Original Date\n",
      "Getting quots \n",
      "Ticker:  acn \n",
      "Date:  2011-11-08\n",
      "Quote Loaded\n"
     ]
    },
    {
     "name": "stderr",
     "output_type": "stream",
     "text": [
      "\n",
      " 86%|██████████████████████████████████████████████████████████████████████▎           | 24/28 [00:10<00:01,  2.24it/s]"
     ]
    },
    {
     "name": "stdout",
     "output_type": "stream",
     "text": [
      "Getting Original Date\n",
      "Getting quots \n",
      "Ticker:  acn \n",
      "Date:  2012-02-29\n",
      "Quote Loaded\n"
     ]
    },
    {
     "name": "stderr",
     "output_type": "stream",
     "text": [
      "\n",
      " 89%|█████████████████████████████████████████████████████████████████████████▏        | 25/28 [00:11<00:01,  2.22it/s]"
     ]
    },
    {
     "name": "stdout",
     "output_type": "stream",
     "text": [
      "Getting Original Date\n",
      "Pointing Date is -  6 (Day of the week)\n",
      "Checking Next Day\n",
      "Getting quots \n",
      "Ticker:  acn \n",
      "Date:  2012-11-05\n",
      "Quote Loaded\n"
     ]
    },
    {
     "name": "stderr",
     "output_type": "stream",
     "text": [
      "\n",
      " 93%|████████████████████████████████████████████████████████████████████████████▏     | 26/28 [00:11<00:00,  2.22it/s]"
     ]
    },
    {
     "name": "stdout",
     "output_type": "stream",
     "text": [
      "Getting Original Date\n",
      "Getting quots \n",
      "Ticker:  acn \n",
      "Date:  2013-04-23\n",
      "Quote Loaded\n"
     ]
    },
    {
     "name": "stderr",
     "output_type": "stream",
     "text": [
      "\n",
      " 96%|███████████████████████████████████████████████████████████████████████████████   | 27/28 [00:12<00:00,  2.24it/s]"
     ]
    },
    {
     "name": "stdout",
     "output_type": "stream",
     "text": [
      "Getting Original Date\n",
      "Getting quots \n",
      "Ticker:  acn \n",
      "Date:  2013-05-10\n",
      "Quote Loaded\n"
     ]
    },
    {
     "name": "stderr",
     "output_type": "stream",
     "text": [
      "\n",
      "100%|██████████████████████████████████████████████████████████████████████████████████| 28/28 [00:12<00:00,  2.22it/s]\n"
     ]
    },
    {
     "name": "stdout",
     "output_type": "stream",
     "text": [
      "Will save to file:  c:\\data\\finml\\PriceVsSNP500_acn.csv\n",
      "Getting Stock Price Data...\n"
     ]
    },
    {
     "name": "stderr",
     "output_type": "stream",
     "text": [
      "\n",
      "  0%|                                                                                           | 0/32 [00:00<?, ?it/s]"
     ]
    },
    {
     "name": "stdout",
     "output_type": "stream",
     "text": [
      "Getting Original Date\n",
      "Getting quots \n",
      "Ticker:  anf \n",
      "Date:  2003-10-03\n",
      "Quote Loaded\n"
     ]
    },
    {
     "name": "stderr",
     "output_type": "stream",
     "text": [
      "\n",
      "  3%|██▌                                                                                | 1/32 [00:00<00:13,  2.28it/s]"
     ]
    },
    {
     "name": "stdout",
     "output_type": "stream",
     "text": [
      "Getting Original Date\n",
      "Getting quots \n",
      "Ticker:  anf \n",
      "Date:  2003-12-15\n",
      "Quote Loaded\n"
     ]
    },
    {
     "name": "stderr",
     "output_type": "stream",
     "text": [
      "\n",
      "  6%|█████▏                                                                             | 2/32 [00:00<00:13,  2.16it/s]"
     ]
    },
    {
     "name": "stdout",
     "output_type": "stream",
     "text": [
      "Getting Original Date\n",
      "Pointing Date is -  6 (Day of the week)\n",
      "Checking Next Day\n",
      "Getting quots \n",
      "Ticker:  anf \n",
      "Date:  2004-04-12\n",
      "Quote Loaded\n"
     ]
    },
    {
     "name": "stderr",
     "output_type": "stream",
     "text": [
      "\n",
      "  9%|███████▊                                                                           | 3/32 [00:01<00:13,  2.19it/s]"
     ]
    },
    {
     "name": "stdout",
     "output_type": "stream",
     "text": [
      "Getting Original Date\n",
      "Getting quots \n",
      "Ticker:  anf \n",
      "Date:  2004-06-07\n",
      "Quote Loaded\n"
     ]
    },
    {
     "name": "stderr",
     "output_type": "stream",
     "text": [
      "\n",
      " 12%|██████████▍                                                                        | 4/32 [00:01<00:13,  2.11it/s]"
     ]
    },
    {
     "name": "stdout",
     "output_type": "stream",
     "text": [
      "Getting Original Date\n",
      "Getting quots \n",
      "Ticker:  anf \n",
      "Date:  2004-08-10\n",
      "Quote Loaded\n"
     ]
    },
    {
     "name": "stderr",
     "output_type": "stream",
     "text": [
      "\n",
      " 16%|████████████▉                                                                      | 5/32 [00:02<00:12,  2.09it/s]"
     ]
    },
    {
     "name": "stdout",
     "output_type": "stream",
     "text": [
      "Getting Original Date\n",
      "Getting quots \n",
      "Ticker:  anf \n",
      "Date:  2004-10-12\n",
      "Quote Loaded\n"
     ]
    },
    {
     "name": "stderr",
     "output_type": "stream",
     "text": [
      "\n",
      " 19%|███████████████▌                                                                   | 6/32 [00:02<00:11,  2.20it/s]"
     ]
    },
    {
     "name": "stdout",
     "output_type": "stream",
     "text": [
      "Getting Original Date\n",
      "Getting quots \n",
      "Ticker:  anf \n",
      "Date:  2005-01-28\n",
      "Quote Loaded\n"
     ]
    },
    {
     "name": "stderr",
     "output_type": "stream",
     "text": [
      "\n",
      " 22%|██████████████████▏                                                                | 7/32 [00:03<00:11,  2.18it/s]"
     ]
    },
    {
     "name": "stdout",
     "output_type": "stream",
     "text": [
      "Getting Original Date\n",
      "Pointing Date is -  6 (Day of the week)\n",
      "Checking Next Day\n",
      "Getting quots \n",
      "Ticker:  anf \n",
      "Date:  2005-02-28\n",
      "Quote Loaded\n"
     ]
    },
    {
     "name": "stderr",
     "output_type": "stream",
     "text": [
      "\n",
      " 25%|████████████████████▊                                                              | 8/32 [00:03<00:11,  2.09it/s]"
     ]
    },
    {
     "name": "stdout",
     "output_type": "stream",
     "text": [
      "Getting Original Date\n",
      "Pointing Date is -  6 (Day of the week)\n",
      "Checking Next Day\n",
      "Getting quots \n",
      "Ticker:  anf \n",
      "Date:  2006-06-20\n",
      "Quote Loaded\n"
     ]
    },
    {
     "name": "stderr",
     "output_type": "stream",
     "text": [
      "\n",
      " 28%|███████████████████████▎                                                           | 9/32 [00:04<00:10,  2.11it/s]"
     ]
    },
    {
     "name": "stdout",
     "output_type": "stream",
     "text": [
      "Getting Original Date\n",
      "Pointing Date is -  6 (Day of the week)\n",
      "Checking Next Day\n",
      "Cannot Get data from Quandl. Skipping this one\n",
      "Getting Original Date\n",
      "Getting quots \n",
      "Ticker:  anf \n",
      "Date:  2007-03-08\n",
      "Quote Loaded\n"
     ]
    },
    {
     "name": "stderr",
     "output_type": "stream",
     "text": [
      "\n",
      " 34%|████████████████████████████▏                                                     | 11/32 [00:04<00:08,  2.40it/s]"
     ]
    },
    {
     "name": "stdout",
     "output_type": "stream",
     "text": [
      "Getting Original Date\n",
      "Getting quots \n",
      "Ticker:  anf \n",
      "Date:  2008-01-23\n",
      "Quote Loaded\n"
     ]
    },
    {
     "name": "stderr",
     "output_type": "stream",
     "text": [
      "\n",
      " 38%|██████████████████████████████▊                                                   | 12/32 [00:05<00:08,  2.40it/s]"
     ]
    },
    {
     "name": "stdout",
     "output_type": "stream",
     "text": [
      "Getting Original Date\n",
      "Pointing Date is -  5 (Day of the week)\n",
      "Checking Next Day\n",
      "Cannot Get data from Quandl. Skipping this one\n",
      "Getting Original Date\n",
      "Getting quots \n",
      "Ticker:  anf \n",
      "Date:  2008-04-17\n",
      "Quote Loaded\n"
     ]
    },
    {
     "name": "stderr",
     "output_type": "stream",
     "text": [
      "\n",
      " 44%|███████████████████████████████████▉                                              | 14/32 [00:05<00:07,  2.51it/s]"
     ]
    },
    {
     "name": "stdout",
     "output_type": "stream",
     "text": [
      "Getting Original Date\n",
      "Getting quots \n",
      "Ticker:  anf \n",
      "Date:  2008-08-19\n",
      "Quote Loaded\n"
     ]
    },
    {
     "name": "stderr",
     "output_type": "stream",
     "text": [
      "\n",
      " 47%|██████████████████████████████████████▍                                           | 15/32 [00:06<00:06,  2.47it/s]"
     ]
    },
    {
     "name": "stdout",
     "output_type": "stream",
     "text": [
      "Getting Original Date\n",
      "Getting quots \n",
      "Ticker:  anf \n",
      "Date:  2008-08-26\n",
      "Quote Loaded\n"
     ]
    },
    {
     "name": "stderr",
     "output_type": "stream",
     "text": [
      "\n",
      " 50%|█████████████████████████████████████████                                         | 16/32 [00:06<00:06,  2.39it/s]"
     ]
    },
    {
     "name": "stdout",
     "output_type": "stream",
     "text": [
      "Getting Original Date\n",
      "Getting quots \n",
      "Ticker:  anf \n",
      "Date:  2008-08-28\n",
      "Quote Loaded\n"
     ]
    },
    {
     "name": "stderr",
     "output_type": "stream",
     "text": [
      "\n",
      " 53%|███████████████████████████████████████████▌                                      | 17/32 [00:07<00:06,  2.36it/s]"
     ]
    },
    {
     "name": "stdout",
     "output_type": "stream",
     "text": [
      "Getting Original Date\n",
      "Getting quots \n",
      "Ticker:  anf \n",
      "Date:  2008-08-29\n",
      "Quote Loaded\n"
     ]
    },
    {
     "name": "stderr",
     "output_type": "stream",
     "text": [
      "\n",
      " 56%|██████████████████████████████████████████████▏                                   | 18/32 [00:07<00:05,  2.34it/s]"
     ]
    },
    {
     "name": "stdout",
     "output_type": "stream",
     "text": [
      "Getting Original Date\n",
      "Cannot Get data from Quandl. Skipping this one\n",
      "Getting Original Date\n",
      "Getting quots \n",
      "Ticker:  anf \n",
      "Date:  2008-11-05\n",
      "Quote Loaded\n"
     ]
    },
    {
     "name": "stderr",
     "output_type": "stream",
     "text": [
      "\n",
      " 62%|███████████████████████████████████████████████████▎                              | 20/32 [00:08<00:04,  2.44it/s]"
     ]
    },
    {
     "name": "stdout",
     "output_type": "stream",
     "text": [
      "Getting Original Date\n",
      "Getting quots \n",
      "Ticker:  anf \n",
      "Date:  2008-12-29\n",
      "Quote Loaded\n"
     ]
    },
    {
     "name": "stderr",
     "output_type": "stream",
     "text": [
      "\n",
      " 66%|█████████████████████████████████████████████████████▊                            | 21/32 [00:08<00:04,  2.46it/s]"
     ]
    },
    {
     "name": "stdout",
     "output_type": "stream",
     "text": [
      "Getting Original Date\n",
      "Pointing Date is -  6 (Day of the week)\n",
      "Checking Next Day\n",
      "Getting quots \n",
      "Ticker:  anf \n",
      "Date:  2009-01-26\n",
      "Quote Loaded\n"
     ]
    },
    {
     "name": "stderr",
     "output_type": "stream",
     "text": [
      "\n",
      " 69%|████████████████████████████████████████████████████████▍                         | 22/32 [00:09<00:04,  2.44it/s]"
     ]
    },
    {
     "name": "stdout",
     "output_type": "stream",
     "text": [
      "Getting Original Date\n",
      "Getting quots \n",
      "Ticker:  anf \n",
      "Date:  2009-09-25\n",
      "Quote Loaded\n"
     ]
    },
    {
     "name": "stderr",
     "output_type": "stream",
     "text": [
      "\n",
      " 72%|██████████████████████████████████████████████████████████▉                       | 23/32 [00:09<00:03,  2.45it/s]"
     ]
    },
    {
     "name": "stdout",
     "output_type": "stream",
     "text": [
      "Getting Original Date\n",
      "Getting quots \n",
      "Ticker:  anf \n",
      "Date:  2011-08-18\n",
      "Quote Loaded\n"
     ]
    },
    {
     "name": "stderr",
     "output_type": "stream",
     "text": [
      "\n",
      " 75%|█████████████████████████████████████████████████████████████▌                    | 24/32 [00:09<00:03,  2.44it/s]"
     ]
    },
    {
     "name": "stdout",
     "output_type": "stream",
     "text": [
      "Getting Original Date\n",
      "Pointing Date is -  6 (Day of the week)\n",
      "Checking Next Day\n",
      "Getting quots \n",
      "Ticker:  anf \n",
      "Date:  2011-10-25\n",
      "Quote Loaded\n"
     ]
    },
    {
     "name": "stderr",
     "output_type": "stream",
     "text": [
      "\n",
      " 78%|████████████████████████████████████████████████████████████████                  | 25/32 [00:10<00:02,  2.44it/s]"
     ]
    },
    {
     "name": "stdout",
     "output_type": "stream",
     "text": [
      "Getting Original Date\n",
      "Getting quots \n",
      "Ticker:  anf \n",
      "Date:  2011-11-15\n",
      "Quote Loaded\n"
     ]
    },
    {
     "name": "stderr",
     "output_type": "stream",
     "text": [
      "\n",
      " 81%|██████████████████████████████████████████████████████████████████▋               | 26/32 [00:10<00:02,  2.43it/s]"
     ]
    },
    {
     "name": "stdout",
     "output_type": "stream",
     "text": [
      "Getting Original Date\n",
      "Getting quots \n",
      "Ticker:  anf \n",
      "Date:  2011-12-27\n",
      "Quote Loaded\n"
     ]
    },
    {
     "name": "stderr",
     "output_type": "stream",
     "text": [
      "\n",
      " 84%|█████████████████████████████████████████████████████████████████████▏            | 27/32 [00:11<00:02,  2.41it/s]"
     ]
    },
    {
     "name": "stdout",
     "output_type": "stream",
     "text": [
      "Getting Original Date\n",
      "Pointing Date is -  6 (Day of the week)\n",
      "Checking Next Day\n",
      "Getting quots \n",
      "Ticker:  anf \n",
      "Date:  2012-06-11\n",
      "Quote Loaded\n"
     ]
    },
    {
     "name": "stderr",
     "output_type": "stream",
     "text": [
      "\n",
      " 88%|███████████████████████████████████████████████████████████████████████▊          | 28/32 [00:11<00:01,  2.39it/s]"
     ]
    },
    {
     "name": "stdout",
     "output_type": "stream",
     "text": [
      "Getting Original Date\n",
      "Pointing Date is -  6 (Day of the week)\n",
      "Checking Next Day\n",
      "Getting quots \n",
      "Ticker:  anf \n",
      "Date:  2012-10-15\n",
      "Quote Loaded\n"
     ]
    },
    {
     "name": "stderr",
     "output_type": "stream",
     "text": [
      "\n",
      " 91%|██████████████████████████████████████████████████████████████████████████▎       | 29/32 [00:12<00:01,  2.38it/s]"
     ]
    },
    {
     "name": "stdout",
     "output_type": "stream",
     "text": [
      "Getting Original Date\n",
      "Getting quots \n",
      "Ticker:  anf \n",
      "Date:  2012-11-07\n",
      "Quote Loaded\n"
     ]
    },
    {
     "name": "stderr",
     "output_type": "stream",
     "text": [
      "\n",
      " 94%|████████████████████████████████████████████████████████████████████████████▉     | 30/32 [00:12<00:00,  2.34it/s]"
     ]
    },
    {
     "name": "stdout",
     "output_type": "stream",
     "text": [
      "Getting Original Date\n",
      "Pointing Date is -  5 (Day of the week)\n",
      "Checking Next Day\n",
      "Pointing Date is -  6 (Day of the week)\n",
      "Checking Next Day\n",
      "Getting quots \n",
      "Ticker:  anf \n",
      "Date:  2013-04-02\n",
      "Quote Loaded\n"
     ]
    },
    {
     "name": "stderr",
     "output_type": "stream",
     "text": [
      "\n",
      " 97%|███████████████████████████████████████████████████████████████████████████████▍  | 31/32 [00:13<00:00,  2.34it/s]"
     ]
    },
    {
     "name": "stdout",
     "output_type": "stream",
     "text": [
      "Getting Original Date\n",
      "Pointing Date is -  6 (Day of the week)\n",
      "Checking Next Day\n",
      "Getting quots \n",
      "Ticker:  anf \n",
      "Date:  2013-05-14\n",
      "Quote Loaded\n"
     ]
    },
    {
     "name": "stderr",
     "output_type": "stream",
     "text": [
      "\n",
      "100%|██████████████████████████████████████████████████████████████████████████████████| 32/32 [00:13<00:00,  2.35it/s]\n"
     ]
    },
    {
     "name": "stdout",
     "output_type": "stream",
     "text": [
      "Will save to file:  c:\\data\\finml\\PriceVsSNP500_anf.csv\n",
      "Getting Stock Price Data...\n"
     ]
    },
    {
     "name": "stderr",
     "output_type": "stream",
     "text": [
      "\n",
      "  0%|                                                                                           | 0/13 [00:00<?, ?it/s]"
     ]
    },
    {
     "name": "stdout",
     "output_type": "stream",
     "text": [
      "Getting Original Date\n",
      "Getting quots \n",
      "Ticker:  aph \n",
      "Date:  2004-01-07\n",
      "Quote Loaded\n"
     ]
    },
    {
     "name": "stderr",
     "output_type": "stream",
     "text": [
      "\n",
      "  8%|██████▍                                                                            | 1/13 [00:00<00:03,  3.54it/s]"
     ]
    },
    {
     "name": "stdout",
     "output_type": "stream",
     "text": [
      "Getting Original Date\n",
      "Getting quots \n",
      "Ticker:  aph \n",
      "Date:  2004-05-21\n",
      "Quote Loaded\n"
     ]
    },
    {
     "name": "stderr",
     "output_type": "stream",
     "text": [
      "\n",
      " 15%|████████████▊                                                                      | 2/13 [00:00<00:04,  2.57it/s]"
     ]
    },
    {
     "name": "stdout",
     "output_type": "stream",
     "text": [
      "Getting Original Date\n",
      "Pointing Date is -  6 (Day of the week)\n",
      "Checking Next Day\n",
      "Getting quots \n",
      "Ticker:  aph \n",
      "Date:  2004-11-29\n",
      "Quote Loaded\n"
     ]
    },
    {
     "name": "stderr",
     "output_type": "stream",
     "text": [
      "\n",
      " 23%|███████████████████▏                                                               | 3/13 [00:01<00:03,  2.59it/s]"
     ]
    },
    {
     "name": "stdout",
     "output_type": "stream",
     "text": [
      "Getting Original Date\n",
      "Pointing Date is -  5 (Day of the week)\n",
      "Checking Next Day\n",
      "Pointing Date is -  6 (Day of the week)\n",
      "Checking Next Day\n",
      "Getting quots \n",
      "Ticker:  aph \n",
      "Date:  2005-01-25\n",
      "Quote Loaded\n"
     ]
    },
    {
     "name": "stderr",
     "output_type": "stream",
     "text": [
      "\n",
      " 31%|█████████████████████████▌                                                         | 4/13 [00:01<00:03,  2.34it/s]"
     ]
    },
    {
     "name": "stdout",
     "output_type": "stream",
     "text": [
      "Getting Original Date\n",
      "Pointing Date is -  6 (Day of the week)\n",
      "Checking Next Day\n",
      "Getting quots \n",
      "Ticker:  aph \n",
      "Date:  2005-03-07\n",
      "Quote Loaded\n"
     ]
    },
    {
     "name": "stderr",
     "output_type": "stream",
     "text": [
      "\n",
      " 38%|███████████████████████████████▉                                                   | 5/13 [00:02<00:03,  2.17it/s]"
     ]
    },
    {
     "name": "stdout",
     "output_type": "stream",
     "text": [
      "Getting Original Date\n",
      "Pointing Date is -  5 (Day of the week)\n",
      "Checking Next Day\n",
      "Getting quots \n",
      "Ticker:  aph \n",
      "Date:  2006-02-06\n",
      "Quote Loaded\n"
     ]
    },
    {
     "name": "stderr",
     "output_type": "stream",
     "text": [
      "\n",
      " 46%|██████████████████████████████████████▎                                            | 6/13 [00:02<00:03,  2.15it/s]"
     ]
    },
    {
     "name": "stdout",
     "output_type": "stream",
     "text": [
      "Getting Original Date\n",
      "Getting quots \n",
      "Ticker:  aph \n",
      "Date:  2007-03-27\n",
      "Quote Loaded\n"
     ]
    },
    {
     "name": "stderr",
     "output_type": "stream",
     "text": [
      "\n",
      " 54%|████████████████████████████████████████████▋                                      | 7/13 [00:03<00:02,  2.25it/s]"
     ]
    },
    {
     "name": "stdout",
     "output_type": "stream",
     "text": [
      "Getting Original Date\n",
      "Getting quots \n",
      "Ticker:  aph \n",
      "Date:  2007-04-04\n",
      "Quote Loaded\n"
     ]
    },
    {
     "name": "stderr",
     "output_type": "stream",
     "text": [
      "\n",
      " 62%|███████████████████████████████████████████████████                                | 8/13 [00:03<00:02,  2.26it/s]"
     ]
    },
    {
     "name": "stdout",
     "output_type": "stream",
     "text": [
      "Getting Original Date\n",
      "Cannot Get data from Quandl. Skipping this one\n",
      "Getting Original Date\n",
      "Pointing Date is -  5 (Day of the week)\n",
      "Checking Next Day\n",
      "Getting quots \n",
      "Ticker:  aph \n",
      "Date:  2008-06-30\n",
      "Quote Loaded\n"
     ]
    },
    {
     "name": "stderr",
     "output_type": "stream",
     "text": [
      "\n",
      " 77%|███████████████████████████████████████████████████████████████                   | 10/13 [00:04<00:01,  2.48it/s]"
     ]
    },
    {
     "name": "stdout",
     "output_type": "stream",
     "text": [
      "Getting Original Date\n",
      "Pointing Date is -  5 (Day of the week)\n",
      "Checking Next Day\n",
      "Getting quots \n",
      "Ticker:  aph \n",
      "Date:  2009-01-05\n",
      "Quote Loaded\n"
     ]
    },
    {
     "name": "stderr",
     "output_type": "stream",
     "text": [
      "\n",
      " 85%|█████████████████████████████████████████████████████████████████████▍            | 11/13 [00:04<00:00,  2.47it/s]"
     ]
    },
    {
     "name": "stdout",
     "output_type": "stream",
     "text": [
      "Getting Original Date\n",
      "Getting quots \n",
      "Ticker:  aph \n",
      "Date:  2013-04-22\n",
      "Quote Loaded\n"
     ]
    },
    {
     "name": "stderr",
     "output_type": "stream",
     "text": [
      "\n",
      " 92%|███████████████████████████████████████████████████████████████████████████▋      | 12/13 [00:04<00:00,  2.48it/s]"
     ]
    },
    {
     "name": "stdout",
     "output_type": "stream",
     "text": [
      "Getting Original Date\n",
      "Pointing Date is -  6 (Day of the week)\n",
      "Checking Next Day\n",
      "Getting quots \n",
      "Ticker:  aph \n",
      "Date:  2013-05-14\n",
      "Quote Loaded\n"
     ]
    },
    {
     "name": "stderr",
     "output_type": "stream",
     "text": [
      "\n",
      "100%|██████████████████████████████████████████████████████████████████████████████████| 13/13 [00:05<00:00,  2.46it/s]\n"
     ]
    },
    {
     "name": "stdout",
     "output_type": "stream",
     "text": [
      "Will save to file:  c:\\data\\finml\\PriceVsSNP500_aph.csv\n",
      "Getting Stock Price Data...\n"
     ]
    },
    {
     "name": "stderr",
     "output_type": "stream",
     "text": [
      "\n",
      "  0%|                                                                                           | 0/27 [00:00<?, ?it/s]"
     ]
    },
    {
     "name": "stdout",
     "output_type": "stream",
     "text": [
      "Getting Original Date\n",
      "Getting quots \n",
      "Ticker:  atvi \n",
      "Date:  2003-10-03\n",
      "Quote Loaded\n"
     ]
    },
    {
     "name": "stderr",
     "output_type": "stream",
     "text": [
      "\n",
      "  4%|███                                                                                | 1/27 [00:00<00:07,  3.64it/s]"
     ]
    },
    {
     "name": "stdout",
     "output_type": "stream",
     "text": [
      "Getting Original Date\n",
      "Getting quots \n",
      "Ticker:  atvi \n",
      "Date:  2004-01-05\n",
      "Quote Loaded\n"
     ]
    },
    {
     "name": "stderr",
     "output_type": "stream",
     "text": [
      "\n",
      "  7%|██████▏                                                                            | 2/27 [00:00<00:09,  2.62it/s]"
     ]
    },
    {
     "name": "stdout",
     "output_type": "stream",
     "text": [
      "Getting Original Date\n",
      "Getting quots \n",
      "Ticker:  atvi \n",
      "Date:  2004-01-16\n",
      "Quote Loaded\n"
     ]
    },
    {
     "name": "stderr",
     "output_type": "stream",
     "text": [
      "\n",
      " 11%|█████████▏                                                                         | 3/27 [00:01<00:09,  2.52it/s]"
     ]
    },
    {
     "name": "stdout",
     "output_type": "stream",
     "text": [
      "Getting Original Date\n",
      "Getting quots \n",
      "Ticker:  atvi \n",
      "Date:  2004-06-22\n",
      "Quote Loaded\n"
     ]
    },
    {
     "name": "stderr",
     "output_type": "stream",
     "text": [
      "\n",
      " 15%|████████████▎                                                                      | 4/27 [00:01<00:09,  2.55it/s]"
     ]
    },
    {
     "name": "stdout",
     "output_type": "stream",
     "text": [
      "Getting Original Date\n",
      "Getting quots \n",
      "Ticker:  atvi \n",
      "Date:  2004-08-27\n",
      "Quote Loaded\n"
     ]
    },
    {
     "name": "stderr",
     "output_type": "stream",
     "text": [
      "\n",
      " 19%|███████████████▎                                                                   | 5/27 [00:02<00:09,  2.36it/s]"
     ]
    },
    {
     "name": "stdout",
     "output_type": "stream",
     "text": [
      "Getting Original Date\n",
      "Pointing Date is -  5 (Day of the week)\n",
      "Checking Next Day\n",
      "Pointing Date is -  6 (Day of the week)\n",
      "Checking Next Day\n",
      "Getting quots \n",
      "Ticker:  atvi \n",
      "Date:  2004-09-28\n",
      "Quote Loaded\n"
     ]
    },
    {
     "name": "stderr",
     "output_type": "stream",
     "text": [
      "\n",
      " 22%|██████████████████▍                                                                | 6/27 [00:02<00:08,  2.36it/s]"
     ]
    },
    {
     "name": "stdout",
     "output_type": "stream",
     "text": [
      "Getting Original Date\n",
      "Getting quots \n",
      "Ticker:  atvi \n",
      "Date:  2004-10-13\n",
      "Quote Loaded\n"
     ]
    },
    {
     "name": "stderr",
     "output_type": "stream",
     "text": [
      "\n",
      " 26%|█████████████████████▌                                                             | 7/27 [00:02<00:08,  2.42it/s]"
     ]
    },
    {
     "name": "stdout",
     "output_type": "stream",
     "text": [
      "Getting Original Date\n",
      "Getting quots \n",
      "Ticker:  atvi \n",
      "Date:  2004-10-14\n",
      "Quote Loaded\n"
     ]
    },
    {
     "name": "stderr",
     "output_type": "stream",
     "text": [
      "\n",
      " 30%|████████████████████████▌                                                          | 8/27 [00:03<00:08,  2.33it/s]"
     ]
    },
    {
     "name": "stdout",
     "output_type": "stream",
     "text": [
      "Getting Original Date\n",
      "Pointing Date is -  6 (Day of the week)\n",
      "Checking Next Day\n",
      "Cannot Get data from Quandl. Skipping this one\n",
      "Getting Original Date\n",
      "Getting quots \n",
      "Ticker:  atvi \n",
      "Date:  2005-04-19\n",
      "Quote Loaded\n"
     ]
    },
    {
     "name": "stderr",
     "output_type": "stream",
     "text": [
      "\n",
      " 37%|██████████████████████████████▎                                                   | 10/27 [00:03<00:06,  2.56it/s]"
     ]
    },
    {
     "name": "stdout",
     "output_type": "stream",
     "text": [
      "Getting Original Date\n",
      "Getting quots \n",
      "Ticker:  atvi \n",
      "Date:  2006-02-17\n",
      "Quote Loaded\n"
     ]
    },
    {
     "name": "stderr",
     "output_type": "stream",
     "text": [
      "\n",
      " 41%|█████████████████████████████████▍                                                | 11/27 [00:04<00:06,  2.53it/s]"
     ]
    },
    {
     "name": "stdout",
     "output_type": "stream",
     "text": [
      "Getting Original Date\n",
      "Getting quots \n",
      "Ticker:  atvi \n",
      "Date:  2006-04-21\n",
      "Quote Loaded\n"
     ]
    },
    {
     "name": "stderr",
     "output_type": "stream",
     "text": [
      "\n",
      " 44%|████████████████████████████████████▍                                             | 12/27 [00:04<00:06,  2.47it/s]"
     ]
    },
    {
     "name": "stdout",
     "output_type": "stream",
     "text": [
      "Getting Original Date\n",
      "Pointing Date is -  6 (Day of the week)\n",
      "Checking Next Day\n",
      "Getting quots \n",
      "Ticker:  atvi \n",
      "Date:  2006-12-19\n",
      "Quote Loaded\n"
     ]
    },
    {
     "name": "stderr",
     "output_type": "stream",
     "text": [
      "\n",
      " 48%|███████████████████████████████████████▍                                          | 13/27 [00:05<00:05,  2.42it/s]"
     ]
    },
    {
     "name": "stdout",
     "output_type": "stream",
     "text": [
      "Getting Original Date\n",
      "Getting quots \n",
      "Ticker:  atvi \n",
      "Date:  2007-01-17\n",
      "Quote Loaded\n"
     ]
    },
    {
     "name": "stderr",
     "output_type": "stream",
     "text": [
      "\n",
      " 52%|██████████████████████████████████████████▌                                       | 14/27 [00:05<00:05,  2.42it/s]"
     ]
    },
    {
     "name": "stdout",
     "output_type": "stream",
     "text": [
      "Getting Original Date\n",
      "Getting quots \n",
      "Ticker:  atvi \n",
      "Date:  2007-02-21\n",
      "Quote Loaded\n"
     ]
    },
    {
     "name": "stderr",
     "output_type": "stream",
     "text": [
      "\n",
      " 56%|█████████████████████████████████████████████▌                                    | 15/27 [00:06<00:05,  2.40it/s]"
     ]
    },
    {
     "name": "stdout",
     "output_type": "stream",
     "text": [
      "Getting Original Date\n",
      "Getting quots \n",
      "Ticker:  atvi \n",
      "Date:  2007-04-05\n",
      "Quote Loaded\n"
     ]
    },
    {
     "name": "stderr",
     "output_type": "stream",
     "text": [
      "\n",
      " 59%|████████████████████████████████████████████████▌                                 | 16/27 [00:06<00:04,  2.42it/s]"
     ]
    },
    {
     "name": "stdout",
     "output_type": "stream",
     "text": [
      "Getting Original Date\n",
      "Pointing Date is -  6 (Day of the week)\n",
      "Checking Next Day\n",
      "Getting quots \n",
      "Ticker:  atvi \n",
      "Date:  2007-06-18\n",
      "Quote Loaded\n"
     ]
    },
    {
     "name": "stderr",
     "output_type": "stream",
     "text": [
      "\n",
      " 63%|███████████████████████████████████████████████████▋                              | 17/27 [00:06<00:04,  2.44it/s]"
     ]
    },
    {
     "name": "stdout",
     "output_type": "stream",
     "text": [
      "Getting Original Date\n",
      "Getting quots \n",
      "Ticker:  atvi \n",
      "Date:  2007-10-16\n",
      "Quote Loaded\n"
     ]
    },
    {
     "name": "stderr",
     "output_type": "stream",
     "text": [
      "\n",
      " 67%|██████████████████████████████████████████████████████▋                           | 18/27 [00:07<00:03,  2.39it/s]"
     ]
    },
    {
     "name": "stdout",
     "output_type": "stream",
     "text": [
      "Getting Original Date\n",
      "Getting quots \n",
      "Ticker:  atvi \n",
      "Date:  2008-12-18\n",
      "Quote Loaded\n"
     ]
    },
    {
     "name": "stderr",
     "output_type": "stream",
     "text": [
      "\n",
      " 70%|█████████████████████████████████████████████████████████▋                        | 19/27 [00:08<00:03,  2.36it/s]"
     ]
    },
    {
     "name": "stdout",
     "output_type": "stream",
     "text": [
      "Getting Original Date\n",
      "Getting quots \n",
      "Ticker:  atvi \n",
      "Date:  2009-01-26\n",
      "Quote Loaded\n"
     ]
    },
    {
     "name": "stderr",
     "output_type": "stream",
     "text": [
      "\n",
      " 74%|████████████████████████████████████████████████████████████▋                     | 20/27 [00:08<00:02,  2.34it/s]"
     ]
    },
    {
     "name": "stdout",
     "output_type": "stream",
     "text": [
      "Getting Original Date\n",
      "Pointing Date is -  5 (Day of the week)\n",
      "Checking Next Day\n",
      "Cannot Get data from Quandl. Skipping this one\n",
      "Getting Original Date\n",
      "Getting quots \n",
      "Ticker:  atvi \n",
      "Date:  2011-11-04\n",
      "Quote Loaded\n"
     ]
    },
    {
     "name": "stderr",
     "output_type": "stream",
     "text": [
      "\n",
      " 81%|██████████████████████████████████████████████████████████████████▊               | 22/27 [00:09<00:02,  2.43it/s]"
     ]
    },
    {
     "name": "stdout",
     "output_type": "stream",
     "text": [
      "Getting Original Date\n",
      "Getting quots \n",
      "Ticker:  atvi \n",
      "Date:  2012-01-03\n",
      "Quote Loaded\n"
     ]
    },
    {
     "name": "stderr",
     "output_type": "stream",
     "text": [
      "\n",
      " 85%|█████████████████████████████████████████████████████████████████████▊            | 23/27 [00:09<00:01,  2.40it/s]"
     ]
    },
    {
     "name": "stdout",
     "output_type": "stream",
     "text": [
      "Getting Original Date\n",
      "Getting quots \n",
      "Ticker:  atvi \n",
      "Date:  2012-03-16\n",
      "Quote Loaded\n"
     ]
    },
    {
     "name": "stderr",
     "output_type": "stream",
     "text": [
      "\n",
      " 89%|████████████████████████████████████████████████████████████████████████▉         | 24/27 [00:09<00:01,  2.41it/s]"
     ]
    },
    {
     "name": "stdout",
     "output_type": "stream",
     "text": [
      "Getting Original Date\n",
      "Getting quots \n",
      "Ticker:  atvi \n",
      "Date:  2013-02-06\n",
      "Quote Loaded\n"
     ]
    },
    {
     "name": "stderr",
     "output_type": "stream",
     "text": [
      "\n",
      " 93%|███████████████████████████████████████████████████████████████████████████▉      | 25/27 [00:10<00:00,  2.39it/s]"
     ]
    },
    {
     "name": "stdout",
     "output_type": "stream",
     "text": [
      "Getting Original Date\n",
      "Getting quots \n",
      "Ticker:  atvi \n",
      "Date:  2013-04-22\n",
      "Quote Loaded\n"
     ]
    },
    {
     "name": "stderr",
     "output_type": "stream",
     "text": [
      "\n",
      " 96%|██████████████████████████████████████████████████████████████████████████████▉   | 26/27 [00:10<00:00,  2.39it/s]"
     ]
    },
    {
     "name": "stdout",
     "output_type": "stream",
     "text": [
      "Getting Original Date\n",
      "Getting quots \n",
      "Ticker:  atvi \n",
      "Date:  2013-05-21\n",
      "Quote Loaded\n"
     ]
    },
    {
     "name": "stderr",
     "output_type": "stream",
     "text": [
      "\n",
      "100%|██████████████████████████████████████████████████████████████████████████████████| 27/27 [00:11<00:00,  2.39it/s]\n"
     ]
    },
    {
     "name": "stdout",
     "output_type": "stream",
     "text": [
      "Will save to file:  c:\\data\\finml\\PriceVsSNP500_atvi.csv\n",
      "Getting Stock Price Data...\n"
     ]
    },
    {
     "name": "stderr",
     "output_type": "stream",
     "text": [
      "\n",
      "  0%|                                                                                           | 0/22 [00:00<?, ?it/s]"
     ]
    },
    {
     "name": "stdout",
     "output_type": "stream",
     "text": [
      "Getting Original Date\n",
      "Getting quots \n",
      "Ticker:  apol \n",
      "Date:  2004-11-23\n",
      "Quote Loaded\n"
     ]
    },
    {
     "name": "stderr",
     "output_type": "stream",
     "text": [
      "\n",
      "  5%|███▊                                                                               | 1/22 [00:00<00:10,  2.08it/s]"
     ]
    },
    {
     "name": "stdout",
     "output_type": "stream",
     "text": [
      "Getting Original Date\n",
      "Getting quots \n",
      "Ticker:  apol \n",
      "Date:  2005-01-26\n",
      "Quote Loaded\n"
     ]
    },
    {
     "name": "stderr",
     "output_type": "stream",
     "text": [
      "\n",
      "  9%|███████▌                                                                           | 2/22 [00:00<00:09,  2.15it/s]"
     ]
    },
    {
     "name": "stdout",
     "output_type": "stream",
     "text": [
      "Getting Original Date\n",
      "Pointing Date is -  6 (Day of the week)\n",
      "Checking Next Day\n",
      "Getting quots \n",
      "Ticker:  apol \n",
      "Date:  2005-02-22\n",
      "Quote Loaded\n"
     ]
    },
    {
     "name": "stderr",
     "output_type": "stream",
     "text": [
      "\n",
      " 14%|███████████▎                                                                       | 3/22 [00:01<00:09,  2.08it/s]"
     ]
    },
    {
     "name": "stdout",
     "output_type": "stream",
     "text": [
      "Getting Original Date\n",
      "Getting quots \n",
      "Ticker:  apol \n",
      "Date:  2005-03-08\n",
      "Quote Loaded\n"
     ]
    },
    {
     "name": "stderr",
     "output_type": "stream",
     "text": [
      "\n",
      " 18%|███████████████                                                                    | 4/22 [00:01<00:08,  2.22it/s]"
     ]
    },
    {
     "name": "stdout",
     "output_type": "stream",
     "text": [
      "Getting Original Date\n",
      "Getting quots \n",
      "Ticker:  apol \n",
      "Date:  2005-04-13\n",
      "Quote Loaded\n"
     ]
    },
    {
     "name": "stderr",
     "output_type": "stream",
     "text": [
      "\n",
      " 23%|██████████████████▊                                                                | 5/22 [00:02<00:07,  2.21it/s]"
     ]
    },
    {
     "name": "stdout",
     "output_type": "stream",
     "text": [
      "Getting Original Date\n",
      "Getting quots \n",
      "Ticker:  apol \n",
      "Date:  2005-05-27\n",
      "Quote Loaded\n"
     ]
    },
    {
     "name": "stderr",
     "output_type": "stream",
     "text": [
      "\n",
      " 27%|██████████████████████▋                                                            | 6/22 [00:02<00:06,  2.30it/s]"
     ]
    },
    {
     "name": "stdout",
     "output_type": "stream",
     "text": [
      "Getting Original Date\n",
      "Getting quots \n",
      "Ticker:  apol \n",
      "Date:  2005-09-28\n",
      "Quote Loaded\n"
     ]
    },
    {
     "name": "stderr",
     "output_type": "stream",
     "text": [
      "\n",
      " 32%|██████████████████████████▍                                                        | 7/22 [00:03<00:06,  2.31it/s]"
     ]
    },
    {
     "name": "stdout",
     "output_type": "stream",
     "text": [
      "Getting Original Date\n",
      "Pointing Date is -  6 (Day of the week)\n",
      "Checking Next Day\n",
      "Getting quots \n",
      "Ticker:  apol \n",
      "Date:  2006-08-21\n",
      "Quote Loaded\n"
     ]
    },
    {
     "name": "stderr",
     "output_type": "stream",
     "text": [
      "\n",
      " 36%|██████████████████████████████▏                                                    | 8/22 [00:03<00:06,  2.33it/s]"
     ]
    },
    {
     "name": "stdout",
     "output_type": "stream",
     "text": [
      "Getting Original Date\n",
      "Getting quots \n",
      "Ticker:  apol \n",
      "Date:  2007-02-20\n",
      "Quote Loaded\n"
     ]
    },
    {
     "name": "stderr",
     "output_type": "stream",
     "text": [
      "\n",
      " 41%|█████████████████████████████████▉                                                 | 9/22 [00:03<00:05,  2.32it/s]"
     ]
    },
    {
     "name": "stdout",
     "output_type": "stream",
     "text": [
      "Getting Original Date\n",
      "Pointing Date is -  6 (Day of the week)\n",
      "Checking Next Day\n",
      "Getting quots \n",
      "Ticker:  apol \n",
      "Date:  2007-04-10\n",
      "Quote Loaded\n"
     ]
    },
    {
     "name": "stderr",
     "output_type": "stream",
     "text": [
      "\n",
      " 45%|█████████████████████████████████████▎                                            | 10/22 [00:04<00:05,  2.37it/s]"
     ]
    },
    {
     "name": "stdout",
     "output_type": "stream",
     "text": [
      "Getting Original Date\n",
      "Cannot Get data from Quandl. Skipping this one\n",
      "Getting Original Date\n",
      "Getting quots \n",
      "Ticker:  apol \n",
      "Date:  2007-06-04\n",
      "Quote Loaded\n"
     ]
    },
    {
     "name": "stderr",
     "output_type": "stream",
     "text": [
      "\n",
      " 55%|████████████████████████████████████████████▋                                     | 12/22 [00:04<00:03,  2.58it/s]"
     ]
    },
    {
     "name": "stdout",
     "output_type": "stream",
     "text": [
      "Getting Original Date\n",
      "Getting quots \n",
      "Ticker:  apol \n",
      "Date:  2007-07-06\n",
      "Quote Loaded\n"
     ]
    },
    {
     "name": "stderr",
     "output_type": "stream",
     "text": [
      "\n",
      " 59%|████████████████████████████████████████████████▍                                 | 13/22 [00:04<00:03,  2.64it/s]"
     ]
    },
    {
     "name": "stdout",
     "output_type": "stream",
     "text": [
      "Getting Original Date\n",
      "Getting quots \n",
      "Ticker:  apol \n",
      "Date:  2007-12-26\n",
      "Quote Loaded\n"
     ]
    },
    {
     "name": "stderr",
     "output_type": "stream",
     "text": [
      "\n",
      " 64%|████████████████████████████████████████████████████▏                             | 14/22 [00:05<00:03,  2.52it/s]"
     ]
    },
    {
     "name": "stdout",
     "output_type": "stream",
     "text": [
      "Getting Original Date\n",
      "Getting quots \n",
      "Ticker:  apol \n",
      "Date:  2008-01-23\n",
      "Quote Loaded\n"
     ]
    },
    {
     "name": "stderr",
     "output_type": "stream",
     "text": [
      "\n",
      " 68%|███████████████████████████████████████████████████████▉                          | 15/22 [00:05<00:02,  2.54it/s]"
     ]
    },
    {
     "name": "stdout",
     "output_type": "stream",
     "text": [
      "Getting Original Date\n",
      "Pointing Date is -  5 (Day of the week)\n",
      "Checking Next Day\n",
      "Getting quots \n",
      "Ticker:  apol \n",
      "Date:  2009-03-23\n",
      "Quote Loaded\n"
     ]
    },
    {
     "name": "stderr",
     "output_type": "stream",
     "text": [
      "\n",
      " 73%|███████████████████████████████████████████████████████████▋                      | 16/22 [00:06<00:02,  2.51it/s]"
     ]
    },
    {
     "name": "stdout",
     "output_type": "stream",
     "text": [
      "Getting Original Date\n",
      "Getting quots \n",
      "Ticker:  apol \n",
      "Date:  2011-07-07\n",
      "Quote Loaded\n"
     ]
    },
    {
     "name": "stderr",
     "output_type": "stream",
     "text": [
      "\n",
      " 77%|███████████████████████████████████████████████████████████████▎                  | 17/22 [00:06<00:02,  2.47it/s]"
     ]
    },
    {
     "name": "stdout",
     "output_type": "stream",
     "text": [
      "Getting Original Date\n",
      "Pointing Date is -  6 (Day of the week)\n",
      "Checking Next Day\n",
      "Getting quots \n",
      "Ticker:  apol \n",
      "Date:  2011-09-27\n",
      "Quote Loaded\n"
     ]
    },
    {
     "name": "stderr",
     "output_type": "stream",
     "text": [
      "\n",
      " 82%|███████████████████████████████████████████████████████████████████               | 18/22 [00:07<00:01,  2.44it/s]"
     ]
    },
    {
     "name": "stdout",
     "output_type": "stream",
     "text": [
      "Getting Original Date\n",
      "Getting quots \n",
      "Ticker:  apol \n",
      "Date:  2011-11-08\n",
      "Quote Loaded\n"
     ]
    },
    {
     "name": "stderr",
     "output_type": "stream",
     "text": [
      "\n",
      " 86%|██████████████████████████████████████████████████████████████████████▊           | 19/22 [00:07<00:01,  2.42it/s]"
     ]
    },
    {
     "name": "stdout",
     "output_type": "stream",
     "text": [
      "Getting Original Date\n",
      "Getting quots \n",
      "Ticker:  apol \n",
      "Date:  2013-02-06\n",
      "Quote Loaded\n"
     ]
    },
    {
     "name": "stderr",
     "output_type": "stream",
     "text": [
      "\n",
      " 91%|██████████████████████████████████████████████████████████████████████████▌       | 20/22 [00:08<00:00,  2.41it/s]"
     ]
    },
    {
     "name": "stdout",
     "output_type": "stream",
     "text": [
      "Getting Original Date\n",
      "Getting quots \n",
      "Ticker:  apol \n",
      "Date:  2013-04-22\n",
      "Quote Loaded\n"
     ]
    },
    {
     "name": "stderr",
     "output_type": "stream",
     "text": [
      "\n",
      " 95%|██████████████████████████████████████████████████████████████████████████████▎   | 21/22 [00:08<00:00,  2.43it/s]"
     ]
    },
    {
     "name": "stdout",
     "output_type": "stream",
     "text": [
      "Getting Original Date\n",
      "Pointing Date is -  5 (Day of the week)\n",
      "Checking Next Day\n",
      "Getting quots \n",
      "Ticker:  apol \n",
      "Date:  2013-05-13\n",
      "Quote Loaded\n"
     ]
    },
    {
     "name": "stderr",
     "output_type": "stream",
     "text": [
      "\n",
      "100%|██████████████████████████████████████████████████████████████████████████████████| 22/22 [00:09<00:00,  2.41it/s]\n"
     ]
    },
    {
     "name": "stdout",
     "output_type": "stream",
     "text": [
      "Will save to file:  c:\\data\\finml\\PriceVsSNP500_apol.csv\n",
      "Getting Stock Price Data...\n"
     ]
    },
    {
     "name": "stderr",
     "output_type": "stream",
     "text": [
      "\n",
      "  0%|                                                                                           | 0/32 [00:00<?, ?it/s]"
     ]
    },
    {
     "name": "stdout",
     "output_type": "stream",
     "text": [
      "Getting Original Date\n",
      "Getting quots \n",
      "Ticker:  aa \n",
      "Date:  2004-04-13\n",
      "Wrong Day, Cheching Next\n",
      "Wrong Day, Cheching Next\n",
      "Wrong Day, Cheching Next\n",
      "Wrong Day, Cheching Next\n",
      "Wrong Day, Cheching Next\n",
      "Wrong Day, Cheching Next\n",
      "Wrong Day, Cheching Next\n",
      "Wrong Day, Cheching Next\n",
      "Wrong Day, Cheching Next\n",
      "Wrong Day, Cheching Next\n",
      "Reached Limit amount of tries\n",
      "Cannot Get data from Quandl. Skipping this one\n"
     ]
    },
    {
     "name": "stderr",
     "output_type": "stream",
     "text": [
      "\n",
      "  3%|██▌                                                                                | 1/32 [00:03<01:56,  3.74s/it]"
     ]
    },
    {
     "name": "stdout",
     "output_type": "stream",
     "text": [
      "Getting Original Date\n",
      "Getting quots \n",
      "Ticker:  aa \n",
      "Date:  2004-09-09\n",
      "Wrong Day, Cheching Next\n",
      "Wrong Day, Cheching Next\n",
      "Wrong Day, Cheching Next\n",
      "Wrong Day, Cheching Next\n",
      "Wrong Day, Cheching Next\n",
      "Wrong Day, Cheching Next\n",
      "Wrong Day, Cheching Next\n",
      "Wrong Day, Cheching Next\n",
      "Wrong Day, Cheching Next\n",
      "Wrong Day, Cheching Next\n",
      "Reached Limit amount of tries\n",
      "Cannot Get data from Quandl. Skipping this one\n"
     ]
    },
    {
     "name": "stderr",
     "output_type": "stream",
     "text": [
      "\n",
      "  6%|█████▏                                                                             | 2/32 [00:07<01:54,  3.81s/it]"
     ]
    },
    {
     "name": "stdout",
     "output_type": "stream",
     "text": [
      "Getting Original Date\n",
      "Getting quots \n",
      "Ticker:  aa \n",
      "Date:  2004-11-24\n",
      "Wrong Day, Cheching Next\n",
      "Wrong Day, Cheching Next\n",
      "Wrong Day, Cheching Next\n",
      "Wrong Day, Cheching Next\n",
      "Wrong Day, Cheching Next\n",
      "Wrong Day, Cheching Next\n",
      "Wrong Day, Cheching Next\n",
      "Wrong Day, Cheching Next\n",
      "Wrong Day, Cheching Next\n",
      "Wrong Day, Cheching Next\n",
      "Reached Limit amount of tries\n",
      "Cannot Get data from Quandl. Skipping this one\n"
     ]
    },
    {
     "name": "stderr",
     "output_type": "stream",
     "text": [
      "\n",
      "  9%|███████▊                                                                           | 3/32 [00:11<01:47,  3.72s/it]"
     ]
    },
    {
     "name": "stdout",
     "output_type": "stream",
     "text": [
      "Getting Original Date\n",
      "Pointing Date is -  6 (Day of the week)\n",
      "Checking Next Day\n",
      "Getting quots \n",
      "Ticker:  aa \n",
      "Date:  2004-12-06\n",
      "Wrong Day, Cheching Next\n",
      "Wrong Day, Cheching Next\n",
      "Wrong Day, Cheching Next\n",
      "Wrong Day, Cheching Next\n",
      "Wrong Day, Cheching Next\n",
      "Wrong Day, Cheching Next\n",
      "Wrong Day, Cheching Next\n",
      "Wrong Day, Cheching Next\n",
      "Wrong Day, Cheching Next\n",
      "Wrong Day, Cheching Next\n",
      "Reached Limit amount of tries\n",
      "Cannot Get data from Quandl. Skipping this one\n"
     ]
    },
    {
     "name": "stderr",
     "output_type": "stream",
     "text": [
      "\n",
      " 12%|██████████▍                                                                        | 4/32 [00:15<01:48,  3.86s/it]"
     ]
    },
    {
     "name": "stdout",
     "output_type": "stream",
     "text": [
      "Getting Original Date\n",
      "Getting quots \n",
      "Ticker:  aa \n",
      "Date:  2005-01-13\n",
      "Wrong Day, Cheching Next\n",
      "Wrong Day, Cheching Next\n",
      "Wrong Day, Cheching Next\n",
      "Wrong Day, Cheching Next\n",
      "Wrong Day, Cheching Next\n",
      "Wrong Day, Cheching Next\n",
      "Wrong Day, Cheching Next\n",
      "Wrong Day, Cheching Next\n",
      "Wrong Day, Cheching Next\n",
      "Wrong Day, Cheching Next\n",
      "Reached Limit amount of tries\n",
      "Cannot Get data from Quandl. Skipping this one\n"
     ]
    },
    {
     "name": "stderr",
     "output_type": "stream",
     "text": [
      "\n",
      " 16%|████████████▉                                                                      | 5/32 [00:18<01:42,  3.79s/it]"
     ]
    },
    {
     "name": "stdout",
     "output_type": "stream",
     "text": [
      "Getting Original Date\n",
      "Getting quots \n",
      "Ticker:  aa \n",
      "Date:  2005-02-07\n",
      "Wrong Day, Cheching Next\n",
      "Wrong Day, Cheching Next\n",
      "Wrong Day, Cheching Next\n",
      "Wrong Day, Cheching Next\n",
      "Wrong Day, Cheching Next\n",
      "Wrong Day, Cheching Next\n",
      "Wrong Day, Cheching Next\n",
      "Wrong Day, Cheching Next\n",
      "Wrong Day, Cheching Next\n",
      "Wrong Day, Cheching Next\n",
      "Reached Limit amount of tries\n",
      "Cannot Get data from Quandl. Skipping this one\n"
     ]
    },
    {
     "name": "stderr",
     "output_type": "stream",
     "text": [
      "\n",
      " 19%|███████████████▌                                                                   | 6/32 [00:22<01:38,  3.77s/it]"
     ]
    },
    {
     "name": "stdout",
     "output_type": "stream",
     "text": [
      "Getting Original Date\n",
      "Pointing Date is -  6 (Day of the week)\n",
      "Checking Next Day\n",
      "Getting quots \n",
      "Ticker:  aa \n",
      "Date:  2005-05-23\n",
      "Wrong Day, Cheching Next\n",
      "Wrong Day, Cheching Next\n",
      "Wrong Day, Cheching Next\n",
      "Wrong Day, Cheching Next\n",
      "Wrong Day, Cheching Next\n",
      "Wrong Day, Cheching Next\n",
      "Wrong Day, Cheching Next\n",
      "Wrong Day, Cheching Next\n",
      "Wrong Day, Cheching Next\n",
      "Wrong Day, Cheching Next\n",
      "Reached Limit amount of tries\n",
      "Cannot Get data from Quandl. Skipping this one\n"
     ]
    },
    {
     "name": "stderr",
     "output_type": "stream",
     "text": [
      "\n",
      " 22%|██████████████████▏                                                                | 7/32 [00:26<01:34,  3.77s/it]"
     ]
    },
    {
     "name": "stdout",
     "output_type": "stream",
     "text": [
      "Getting Original Date\n",
      "Getting quots \n",
      "Ticker:  aa \n",
      "Date:  2006-06-20\n",
      "Wrong Day, Cheching Next\n",
      "Wrong Day, Cheching Next\n",
      "Wrong Day, Cheching Next\n",
      "Wrong Day, Cheching Next\n",
      "Wrong Day, Cheching Next\n",
      "Wrong Day, Cheching Next\n",
      "Wrong Day, Cheching Next\n",
      "Wrong Day, Cheching Next\n",
      "Wrong Day, Cheching Next\n",
      "Wrong Day, Cheching Next\n",
      "Reached Limit amount of tries\n",
      "Cannot Get data from Quandl. Skipping this one\n"
     ]
    },
    {
     "name": "stderr",
     "output_type": "stream",
     "text": [
      "\n",
      " 25%|████████████████████▊                                                              | 8/32 [00:30<01:31,  3.81s/it]"
     ]
    },
    {
     "name": "stdout",
     "output_type": "stream",
     "text": [
      "Getting Original Date\n",
      "Getting quots \n",
      "Ticker:  aa \n",
      "Date:  2007-01-25\n",
      "Wrong Day, Cheching Next\n",
      "Wrong Day, Cheching Next\n",
      "Wrong Day, Cheching Next\n",
      "Wrong Day, Cheching Next\n",
      "Wrong Day, Cheching Next\n",
      "Wrong Day, Cheching Next\n",
      "Wrong Day, Cheching Next\n",
      "Wrong Day, Cheching Next\n",
      "Wrong Day, Cheching Next\n",
      "Wrong Day, Cheching Next\n",
      "Reached Limit amount of tries\n",
      "Cannot Get data from Quandl. Skipping this one\n"
     ]
    },
    {
     "name": "stderr",
     "output_type": "stream",
     "text": [
      "\n",
      " 28%|███████████████████████▎                                                           | 9/32 [00:34<01:27,  3.81s/it]"
     ]
    },
    {
     "name": "stdout",
     "output_type": "stream",
     "text": [
      "Getting Original Date\n",
      "Getting quots \n",
      "Ticker:  aa \n",
      "Date:  2007-02-23\n",
      "Wrong Day, Cheching Next\n",
      "Wrong Day, Cheching Next\n",
      "Wrong Day, Cheching Next\n",
      "Wrong Day, Cheching Next\n",
      "Wrong Day, Cheching Next\n",
      "Wrong Day, Cheching Next\n",
      "Wrong Day, Cheching Next\n",
      "Wrong Day, Cheching Next\n",
      "Wrong Day, Cheching Next\n",
      "Wrong Day, Cheching Next\n",
      "Reached Limit amount of tries\n",
      "Cannot Get data from Quandl. Skipping this one\n"
     ]
    },
    {
     "name": "stderr",
     "output_type": "stream",
     "text": [
      "\n",
      " 31%|█████████████████████████▋                                                        | 10/32 [00:38<01:24,  3.82s/it]"
     ]
    },
    {
     "name": "stdout",
     "output_type": "stream",
     "text": [
      "Getting Original Date\n",
      "Getting quots \n",
      "Ticker:  aa \n",
      "Date:  2007-05-16\n",
      "Wrong Day, Cheching Next\n",
      "Wrong Day, Cheching Next\n",
      "Wrong Day, Cheching Next\n",
      "Wrong Day, Cheching Next\n",
      "Wrong Day, Cheching Next\n",
      "Wrong Day, Cheching Next\n",
      "Wrong Day, Cheching Next\n",
      "Wrong Day, Cheching Next\n",
      "Wrong Day, Cheching Next\n",
      "Wrong Day, Cheching Next\n",
      "Reached Limit amount of tries\n",
      "Cannot Get data from Quandl. Skipping this one\n"
     ]
    },
    {
     "name": "stderr",
     "output_type": "stream",
     "text": [
      "\n",
      " 34%|████████████████████████████▏                                                     | 11/32 [00:41<01:20,  3.81s/it]"
     ]
    },
    {
     "name": "stdout",
     "output_type": "stream",
     "text": [
      "Getting Original Date\n",
      "Getting quots \n",
      "Ticker:  aa \n",
      "Date:  2007-06-22\n",
      "Wrong Day, Cheching Next\n",
      "Wrong Day, Cheching Next\n",
      "Wrong Day, Cheching Next\n",
      "Wrong Day, Cheching Next\n",
      "Wrong Day, Cheching Next\n",
      "Wrong Day, Cheching Next\n",
      "Wrong Day, Cheching Next\n",
      "Wrong Day, Cheching Next\n",
      "Wrong Day, Cheching Next\n",
      "Wrong Day, Cheching Next\n",
      "Reached Limit amount of tries\n",
      "Cannot Get data from Quandl. Skipping this one\n"
     ]
    },
    {
     "name": "stderr",
     "output_type": "stream",
     "text": [
      "\n",
      " 38%|██████████████████████████████▊                                                   | 12/32 [00:45<01:15,  3.77s/it]"
     ]
    },
    {
     "name": "stdout",
     "output_type": "stream",
     "text": [
      "Getting Original Date\n",
      "Getting quots \n",
      "Ticker:  aa \n",
      "Date:  2007-10-11\n",
      "Wrong Day, Cheching Next\n",
      "Wrong Day, Cheching Next\n",
      "Wrong Day, Cheching Next\n",
      "Wrong Day, Cheching Next\n",
      "Wrong Day, Cheching Next\n",
      "Wrong Day, Cheching Next\n",
      "Wrong Day, Cheching Next\n",
      "Wrong Day, Cheching Next\n",
      "Wrong Day, Cheching Next\n",
      "Wrong Day, Cheching Next\n",
      "Reached Limit amount of tries\n",
      "Cannot Get data from Quandl. Skipping this one\n"
     ]
    },
    {
     "name": "stderr",
     "output_type": "stream",
     "text": [
      "\n",
      " 41%|█████████████████████████████████▎                                                | 13/32 [00:49<01:12,  3.79s/it]"
     ]
    },
    {
     "name": "stdout",
     "output_type": "stream",
     "text": [
      "Getting Original Date\n",
      "Getting quots \n",
      "Ticker:  aa \n",
      "Date:  2008-01-23\n",
      "Wrong Day, Cheching Next\n",
      "Wrong Day, Cheching Next\n",
      "Wrong Day, Cheching Next\n",
      "Wrong Day, Cheching Next\n",
      "Wrong Day, Cheching Next\n",
      "Wrong Day, Cheching Next\n",
      "Wrong Day, Cheching Next\n",
      "Wrong Day, Cheching Next\n",
      "Wrong Day, Cheching Next\n",
      "Wrong Day, Cheching Next\n",
      "Reached Limit amount of tries\n",
      "Cannot Get data from Quandl. Skipping this one\n"
     ]
    },
    {
     "name": "stderr",
     "output_type": "stream",
     "text": [
      "\n",
      " 44%|███████████████████████████████████▉                                              | 14/32 [00:53<01:08,  3.82s/it]"
     ]
    },
    {
     "name": "stdout",
     "output_type": "stream",
     "text": [
      "Getting Original Date\n",
      "Getting quots \n",
      "Ticker:  aa \n",
      "Date:  2008-10-28\n",
      "Wrong Day, Cheching Next\n",
      "Wrong Day, Cheching Next\n",
      "Wrong Day, Cheching Next\n",
      "Wrong Day, Cheching Next\n",
      "Wrong Day, Cheching Next\n",
      "Wrong Day, Cheching Next\n",
      "Wrong Day, Cheching Next\n",
      "Wrong Day, Cheching Next\n",
      "Wrong Day, Cheching Next\n",
      "Wrong Day, Cheching Next\n",
      "Reached Limit amount of tries\n",
      "Cannot Get data from Quandl. Skipping this one\n"
     ]
    },
    {
     "name": "stderr",
     "output_type": "stream",
     "text": [
      "\n",
      " 47%|██████████████████████████████████████▍                                           | 15/32 [00:57<01:05,  3.83s/it]"
     ]
    },
    {
     "name": "stdout",
     "output_type": "stream",
     "text": [
      "Getting Original Date\n",
      "Getting quots \n",
      "Ticker:  aa \n",
      "Date:  2008-12-05\n",
      "Wrong Day, Cheching Next\n",
      "Wrong Day, Cheching Next\n",
      "Wrong Day, Cheching Next\n",
      "Wrong Day, Cheching Next\n",
      "Wrong Day, Cheching Next\n",
      "Wrong Day, Cheching Next\n",
      "Wrong Day, Cheching Next\n",
      "Wrong Day, Cheching Next\n",
      "Wrong Day, Cheching Next\n",
      "Wrong Day, Cheching Next\n",
      "Reached Limit amount of tries\n",
      "Cannot Get data from Quandl. Skipping this one\n"
     ]
    },
    {
     "name": "stderr",
     "output_type": "stream",
     "text": [
      "\n",
      " 50%|█████████████████████████████████████████                                         | 16/32 [01:01<01:01,  3.82s/it]"
     ]
    },
    {
     "name": "stdout",
     "output_type": "stream",
     "text": [
      "Getting Original Date\n",
      "Pointing Date is -  5 (Day of the week)\n",
      "Checking Next Day\n",
      "Pointing Date is -  6 (Day of the week)\n",
      "Checking Next Day\n",
      "Getting quots \n",
      "Ticker:  aa \n",
      "Date:  2008-12-09\n",
      "Wrong Day, Cheching Next\n",
      "Wrong Day, Cheching Next\n",
      "Wrong Day, Cheching Next\n",
      "Wrong Day, Cheching Next\n",
      "Wrong Day, Cheching Next\n",
      "Wrong Day, Cheching Next\n",
      "Wrong Day, Cheching Next\n",
      "Wrong Day, Cheching Next\n",
      "Wrong Day, Cheching Next\n",
      "Wrong Day, Cheching Next\n",
      "Reached Limit amount of tries\n",
      "Cannot Get data from Quandl. Skipping this one\n"
     ]
    },
    {
     "name": "stderr",
     "output_type": "stream",
     "text": [
      "\n",
      " 53%|███████████████████████████████████████████▌                                      | 17/32 [01:05<00:57,  3.83s/it]"
     ]
    },
    {
     "name": "stdout",
     "output_type": "stream",
     "text": [
      "Getting Original Date\n",
      "Getting quots \n",
      "Ticker:  aa \n",
      "Date:  2008-12-18\n",
      "Wrong Day, Cheching Next\n",
      "Wrong Day, Cheching Next\n",
      "Wrong Day, Cheching Next\n",
      "Wrong Day, Cheching Next\n",
      "Wrong Day, Cheching Next\n",
      "Wrong Day, Cheching Next\n",
      "Wrong Day, Cheching Next\n",
      "Wrong Day, Cheching Next\n",
      "Wrong Day, Cheching Next\n",
      "Wrong Day, Cheching Next\n",
      "Reached Limit amount of tries\n",
      "Cannot Get data from Quandl. Skipping this one\n"
     ]
    },
    {
     "name": "stderr",
     "output_type": "stream",
     "text": [
      "\n",
      " 56%|██████████████████████████████████████████████▏                                   | 18/32 [01:08<00:53,  3.83s/it]"
     ]
    },
    {
     "name": "stdout",
     "output_type": "stream",
     "text": [
      "Getting Original Date\n",
      "Getting quots \n",
      "Ticker:  aa \n",
      "Date:  2009-03-09\n",
      "Wrong Day, Cheching Next\n",
      "Wrong Day, Cheching Next\n",
      "Wrong Day, Cheching Next\n",
      "Wrong Day, Cheching Next\n",
      "Wrong Day, Cheching Next\n",
      "Wrong Day, Cheching Next\n",
      "Wrong Day, Cheching Next\n",
      "Wrong Day, Cheching Next\n",
      "Wrong Day, Cheching Next\n",
      "Wrong Day, Cheching Next\n",
      "Reached Limit amount of tries\n",
      "Cannot Get data from Quandl. Skipping this one\n"
     ]
    },
    {
     "name": "stderr",
     "output_type": "stream",
     "text": [
      "\n",
      " 59%|████████████████████████████████████████████████▋                                 | 19/32 [01:12<00:49,  3.81s/it]"
     ]
    },
    {
     "name": "stdout",
     "output_type": "stream",
     "text": [
      "Getting Original Date\n",
      "Pointing Date is -  5 (Day of the week)\n",
      "Checking Next Day\n",
      "Pointing Date is -  6 (Day of the week)\n",
      "Checking Next Day\n",
      "Getting quots \n",
      "Ticker:  aa \n",
      "Date:  2011-09-06\n",
      "Wrong Day, Cheching Next\n",
      "Wrong Day, Cheching Next\n",
      "Wrong Day, Cheching Next\n",
      "Wrong Day, Cheching Next\n",
      "Wrong Day, Cheching Next\n",
      "Wrong Day, Cheching Next\n",
      "Wrong Day, Cheching Next\n",
      "Wrong Day, Cheching Next\n",
      "Wrong Day, Cheching Next\n",
      "Wrong Day, Cheching Next\n",
      "Reached Limit amount of tries\n",
      "Cannot Get data from Quandl. Skipping this one\n"
     ]
    },
    {
     "name": "stderr",
     "output_type": "stream",
     "text": [
      "\n",
      " 62%|███████████████████████████████████████████████████▎                              | 20/32 [01:16<00:45,  3.80s/it]"
     ]
    },
    {
     "name": "stdout",
     "output_type": "stream",
     "text": [
      "Getting Original Date\n",
      "Getting quots \n",
      "Ticker:  aa \n",
      "Date:  2011-11-02\n",
      "Wrong Day, Cheching Next\n",
      "Wrong Day, Cheching Next\n",
      "Wrong Day, Cheching Next\n",
      "Wrong Day, Cheching Next\n",
      "Wrong Day, Cheching Next\n",
      "Wrong Day, Cheching Next\n",
      "Wrong Day, Cheching Next\n",
      "Wrong Day, Cheching Next\n",
      "Wrong Day, Cheching Next\n",
      "Wrong Day, Cheching Next\n",
      "Reached Limit amount of tries\n",
      "Cannot Get data from Quandl. Skipping this one\n"
     ]
    },
    {
     "name": "stderr",
     "output_type": "stream",
     "text": [
      "\n",
      " 66%|█████████████████████████████████████████████████████▊                            | 21/32 [01:19<00:41,  3.80s/it]"
     ]
    },
    {
     "name": "stdout",
     "output_type": "stream",
     "text": [
      "Getting Original Date\n",
      "Pointing Date is -  5 (Day of the week)\n",
      "Checking Next Day\n",
      "Getting quots \n",
      "Ticker:  aa \n",
      "Date:  2011-11-07\n",
      "Wrong Day, Cheching Next\n",
      "Wrong Day, Cheching Next\n",
      "Wrong Day, Cheching Next\n",
      "Wrong Day, Cheching Next\n",
      "Wrong Day, Cheching Next\n",
      "Wrong Day, Cheching Next\n",
      "Wrong Day, Cheching Next\n",
      "Wrong Day, Cheching Next\n",
      "Wrong Day, Cheching Next\n",
      "Wrong Day, Cheching Next\n",
      "Reached Limit amount of tries\n",
      "Cannot Get data from Quandl. Skipping this one\n"
     ]
    },
    {
     "name": "stderr",
     "output_type": "stream",
     "text": [
      "\n",
      " 69%|████████████████████████████████████████████████████████▍                         | 22/32 [01:23<00:37,  3.79s/it]"
     ]
    },
    {
     "name": "stdout",
     "output_type": "stream",
     "text": [
      "Getting Original Date\n",
      "Cannot Get data from Quandl. Skipping this one\n",
      "Getting Original Date\n",
      "Getting quots \n",
      "Ticker:  aa \n",
      "Date:  2012-03-09\n",
      "Wrong Day, Cheching Next\n",
      "Wrong Day, Cheching Next\n",
      "Wrong Day, Cheching Next\n",
      "Wrong Day, Cheching Next\n",
      "Wrong Day, Cheching Next\n",
      "Wrong Day, Cheching Next\n",
      "Wrong Day, Cheching Next\n",
      "Wrong Day, Cheching Next\n",
      "Wrong Day, Cheching Next\n",
      "Wrong Day, Cheching Next\n",
      "Reached Limit amount of tries\n",
      "Cannot Get data from Quandl. Skipping this one\n"
     ]
    },
    {
     "name": "stderr",
     "output_type": "stream",
     "text": [
      "\n",
      " 75%|█████████████████████████████████████████████████████████████▌                    | 24/32 [01:27<00:29,  3.63s/it]"
     ]
    },
    {
     "name": "stdout",
     "output_type": "stream",
     "text": [
      "Getting Original Date\n",
      "Getting quots \n",
      "Ticker:  aa \n",
      "Date:  2012-03-19\n",
      "Wrong Day, Cheching Next\n",
      "Wrong Day, Cheching Next\n",
      "Wrong Day, Cheching Next\n",
      "Wrong Day, Cheching Next\n",
      "Wrong Day, Cheching Next\n",
      "Wrong Day, Cheching Next\n",
      "Wrong Day, Cheching Next\n",
      "Wrong Day, Cheching Next\n",
      "Wrong Day, Cheching Next\n",
      "Wrong Day, Cheching Next\n",
      "Reached Limit amount of tries\n",
      "Cannot Get data from Quandl. Skipping this one\n"
     ]
    },
    {
     "name": "stderr",
     "output_type": "stream",
     "text": [
      "\n",
      " 78%|████████████████████████████████████████████████████████████████                  | 25/32 [01:30<00:25,  3.63s/it]"
     ]
    },
    {
     "name": "stdout",
     "output_type": "stream",
     "text": [
      "Getting Original Date\n",
      "Pointing Date is -  5 (Day of the week)\n",
      "Checking Next Day\n",
      "Pointing Date is -  6 (Day of the week)\n",
      "Checking Next Day\n",
      "Getting quots \n",
      "Ticker:  aa \n",
      "Date:  2012-05-22\n",
      "Wrong Day, Cheching Next\n",
      "Wrong Day, Cheching Next\n",
      "Wrong Day, Cheching Next\n",
      "Wrong Day, Cheching Next\n",
      "Wrong Day, Cheching Next\n",
      "Wrong Day, Cheching Next\n",
      "Wrong Day, Cheching Next\n",
      "Wrong Day, Cheching Next\n",
      "Wrong Day, Cheching Next\n",
      "Wrong Day, Cheching Next\n",
      "Reached Limit amount of tries\n",
      "Cannot Get data from Quandl. Skipping this one\n"
     ]
    },
    {
     "name": "stderr",
     "output_type": "stream",
     "text": [
      "\n",
      " 81%|██████████████████████████████████████████████████████████████████▋               | 26/32 [01:34<00:21,  3.62s/it]"
     ]
    },
    {
     "name": "stdout",
     "output_type": "stream",
     "text": [
      "Getting Original Date\n",
      "Pointing Date is -  6 (Day of the week)\n",
      "Checking Next Day\n",
      "Getting quots \n",
      "Ticker:  aa \n",
      "Date:  2012-07-31\n",
      "Wrong Day, Cheching Next\n",
      "Wrong Day, Cheching Next\n",
      "Wrong Day, Cheching Next\n",
      "Wrong Day, Cheching Next\n",
      "Wrong Day, Cheching Next\n",
      "Wrong Day, Cheching Next\n",
      "Wrong Day, Cheching Next\n",
      "Wrong Day, Cheching Next\n",
      "Wrong Day, Cheching Next\n",
      "Wrong Day, Cheching Next\n",
      "Reached Limit amount of tries\n",
      "Cannot Get data from Quandl. Skipping this one\n"
     ]
    },
    {
     "name": "stderr",
     "output_type": "stream",
     "text": [
      "\n",
      " 84%|█████████████████████████████████████████████████████████████████████▏            | 27/32 [01:37<00:18,  3.61s/it]"
     ]
    },
    {
     "name": "stdout",
     "output_type": "stream",
     "text": [
      "Getting Original Date\n",
      "Getting quots \n",
      "Ticker:  aa \n",
      "Date:  2012-11-27\n",
      "Wrong Day, Cheching Next\n",
      "Wrong Day, Cheching Next\n",
      "Wrong Day, Cheching Next\n",
      "Wrong Day, Cheching Next\n",
      "Wrong Day, Cheching Next\n",
      "Wrong Day, Cheching Next\n",
      "Wrong Day, Cheching Next\n",
      "Wrong Day, Cheching Next\n",
      "Wrong Day, Cheching Next\n",
      "Wrong Day, Cheching Next\n",
      "Reached Limit amount of tries\n",
      "Cannot Get data from Quandl. Skipping this one\n"
     ]
    },
    {
     "name": "stderr",
     "output_type": "stream",
     "text": [
      "\n",
      " 88%|███████████████████████████████████████████████████████████████████████▊          | 28/32 [01:41<00:14,  3.62s/it]"
     ]
    },
    {
     "name": "stdout",
     "output_type": "stream",
     "text": [
      "Getting Original Date\n",
      "Getting quots \n",
      "Ticker:  aa \n",
      "Date:  2013-01-22\n",
      "Wrong Day, Cheching Next\n",
      "Wrong Day, Cheching Next\n",
      "Wrong Day, Cheching Next\n",
      "Wrong Day, Cheching Next\n",
      "Wrong Day, Cheching Next\n",
      "Wrong Day, Cheching Next\n",
      "Wrong Day, Cheching Next\n",
      "Wrong Day, Cheching Next\n",
      "Wrong Day, Cheching Next\n",
      "Wrong Day, Cheching Next\n",
      "Reached Limit amount of tries\n",
      "Cannot Get data from Quandl. Skipping this one\n"
     ]
    },
    {
     "name": "stderr",
     "output_type": "stream",
     "text": [
      "\n",
      " 91%|██████████████████████████████████████████████████████████████████████████▎       | 29/32 [01:44<00:10,  3.61s/it]"
     ]
    },
    {
     "name": "stdout",
     "output_type": "stream",
     "text": [
      "Getting Original Date\n",
      "Getting quots \n",
      "Ticker:  aa \n",
      "Date:  2013-04-23\n",
      "Wrong Day, Cheching Next\n",
      "Wrong Day, Cheching Next\n",
      "Wrong Day, Cheching Next\n",
      "Wrong Day, Cheching Next\n",
      "Wrong Day, Cheching Next\n",
      "Wrong Day, Cheching Next\n",
      "Wrong Day, Cheching Next\n",
      "Wrong Day, Cheching Next\n",
      "Wrong Day, Cheching Next\n",
      "Wrong Day, Cheching Next\n",
      "Reached Limit amount of tries\n",
      "Cannot Get data from Quandl. Skipping this one\n"
     ]
    },
    {
     "name": "stderr",
     "output_type": "stream",
     "text": [
      "\n",
      " 94%|████████████████████████████████████████████████████████████████████████████▉     | 30/32 [01:49<00:07,  3.64s/it]"
     ]
    },
    {
     "name": "stdout",
     "output_type": "stream",
     "text": [
      "Getting Original Date\n",
      "Getting quots \n",
      "Ticker:  aa \n",
      "Date:  2013-04-26\n",
      "Wrong Day, Cheching Next\n",
      "Wrong Day, Cheching Next\n",
      "Wrong Day, Cheching Next\n",
      "Wrong Day, Cheching Next\n",
      "Wrong Day, Cheching Next\n",
      "Wrong Day, Cheching Next\n",
      "Wrong Day, Cheching Next\n",
      "Wrong Day, Cheching Next\n",
      "Wrong Day, Cheching Next\n",
      "Wrong Day, Cheching Next\n",
      "Reached Limit amount of tries\n",
      "Cannot Get data from Quandl. Skipping this one\n"
     ]
    },
    {
     "name": "stderr",
     "output_type": "stream",
     "text": [
      "\n",
      " 97%|███████████████████████████████████████████████████████████████████████████████▍  | 31/32 [01:52<00:03,  3.64s/it]"
     ]
    },
    {
     "name": "stdout",
     "output_type": "stream",
     "text": [
      "Getting Original Date\n",
      "Pointing Date is -  6 (Day of the week)\n",
      "Checking Next Day\n",
      "Cannot Get data from Quandl. Skipping this one\n"
     ]
    },
    {
     "name": "stderr",
     "output_type": "stream",
     "text": [
      "\n",
      "100%|██████████████████████████████████████████████████████████████████████████████████| 32/32 [01:52<00:00,  3.52s/it]"
     ]
    },
    {
     "name": "stdout",
     "output_type": "stream",
     "text": [
      "Will save to file:  c:\\data\\finml\\PriceVsSNP500_aa.csv\n",
      "Getting Stock Price Data...\n"
     ]
    },
    {
     "name": "stderr",
     "output_type": "stream",
     "text": [
      "\n",
      "  0%|                                                                                           | 0/15 [00:00<?, ?it/s]"
     ]
    },
    {
     "name": "stdout",
     "output_type": "stream",
     "text": [
      "Getting Original Date\n",
      "Getting quots \n",
      "Ticker:  all \n",
      "Date:  2004-09-24\n",
      "Quote Loaded\n"
     ]
    },
    {
     "name": "stderr",
     "output_type": "stream",
     "text": [
      "\n",
      "  7%|█████▌                                                                             | 1/15 [00:00<00:07,  1.92it/s]"
     ]
    },
    {
     "name": "stdout",
     "output_type": "stream",
     "text": [
      "Getting Original Date\n",
      "Pointing Date is -  6 (Day of the week)\n",
      "Checking Next Day\n",
      "Getting quots \n",
      "Ticker:  all \n",
      "Date:  2005-02-01\n",
      "Quote Loaded\n"
     ]
    },
    {
     "name": "stderr",
     "output_type": "stream",
     "text": [
      "\n",
      " 13%|███████████                                                                        | 2/15 [00:00<00:05,  2.30it/s]"
     ]
    },
    {
     "name": "stdout",
     "output_type": "stream",
     "text": [
      "Getting Original Date\n",
      "Getting quots \n",
      "Ticker:  all \n",
      "Date:  2005-02-04\n",
      "Quote Loaded\n"
     ]
    },
    {
     "name": "stderr",
     "output_type": "stream",
     "text": [
      "\n",
      " 20%|████████████████▌                                                                  | 3/15 [00:01<00:04,  2.53it/s]"
     ]
    },
    {
     "name": "stdout",
     "output_type": "stream",
     "text": [
      "Getting Original Date\n",
      "Pointing Date is -  5 (Day of the week)\n",
      "Checking Next Day\n",
      "Pointing Date is -  6 (Day of the week)\n",
      "Checking Next Day\n",
      "Getting quots \n",
      "Ticker:  all \n",
      "Date:  2007-01-16\n",
      "Quote Loaded\n"
     ]
    },
    {
     "name": "stderr",
     "output_type": "stream",
     "text": [
      "\n",
      " 27%|██████████████████████▏                                                            | 4/15 [00:01<00:04,  2.53it/s]"
     ]
    },
    {
     "name": "stdout",
     "output_type": "stream",
     "text": [
      "Getting Original Date\n",
      "Getting quots \n",
      "Ticker:  all \n",
      "Date:  2007-02-22\n",
      "Quote Loaded\n"
     ]
    },
    {
     "name": "stderr",
     "output_type": "stream",
     "text": [
      "\n",
      " 33%|███████████████████████████▋                                                       | 5/15 [00:01<00:03,  2.70it/s]"
     ]
    },
    {
     "name": "stdout",
     "output_type": "stream",
     "text": [
      "Getting Original Date\n",
      "Getting quots \n",
      "Ticker:  all \n",
      "Date:  2007-04-10\n",
      "Quote Loaded\n"
     ]
    },
    {
     "name": "stderr",
     "output_type": "stream",
     "text": [
      "\n",
      " 40%|█████████████████████████████████▏                                                 | 6/15 [00:02<00:03,  2.61it/s]"
     ]
    },
    {
     "name": "stdout",
     "output_type": "stream",
     "text": [
      "Getting Original Date\n",
      "Getting quots \n",
      "Ticker:  all \n",
      "Date:  2008-01-23\n",
      "Quote Loaded\n"
     ]
    },
    {
     "name": "stderr",
     "output_type": "stream",
     "text": [
      "\n",
      " 47%|██████████████████████████████████████▋                                            | 7/15 [00:02<00:03,  2.56it/s]"
     ]
    },
    {
     "name": "stdout",
     "output_type": "stream",
     "text": [
      "Getting Original Date\n",
      "Getting quots \n",
      "Ticker:  all \n",
      "Date:  2011-05-05\n",
      "Quote Loaded\n"
     ]
    },
    {
     "name": "stderr",
     "output_type": "stream",
     "text": [
      "\n",
      " 53%|████████████████████████████████████████████▎                                      | 8/15 [00:03<00:02,  2.60it/s]"
     ]
    },
    {
     "name": "stdout",
     "output_type": "stream",
     "text": [
      "Getting Original Date\n",
      "Getting quots \n",
      "Ticker:  all \n",
      "Date:  2011-07-14\n",
      "Quote Loaded\n"
     ]
    },
    {
     "name": "stderr",
     "output_type": "stream",
     "text": [
      "\n",
      " 60%|█████████████████████████████████████████████████▊                                 | 9/15 [00:03<00:02,  2.55it/s]"
     ]
    },
    {
     "name": "stdout",
     "output_type": "stream",
     "text": [
      "Getting Original Date\n",
      "Getting quots \n",
      "Ticker:  all \n",
      "Date:  2011-09-12\n",
      "Quote Loaded\n"
     ]
    },
    {
     "name": "stderr",
     "output_type": "stream",
     "text": [
      "\n",
      " 67%|██████████████████████████████████████████████████████▋                           | 10/15 [00:04<00:02,  2.44it/s]"
     ]
    },
    {
     "name": "stdout",
     "output_type": "stream",
     "text": [
      "Getting Original Date\n",
      "Getting quots \n",
      "Ticker:  all \n",
      "Date:  2011-10-28\n",
      "Quote Loaded\n"
     ]
    },
    {
     "name": "stderr",
     "output_type": "stream",
     "text": [
      "\n",
      " 73%|████████████████████████████████████████████████████████████▏                     | 11/15 [00:04<00:01,  2.46it/s]"
     ]
    },
    {
     "name": "stdout",
     "output_type": "stream",
     "text": [
      "Getting Original Date\n",
      "Pointing Date is -  6 (Day of the week)\n",
      "Checking Next Day\n",
      "Getting quots \n",
      "Ticker:  all \n",
      "Date:  2012-03-12\n",
      "Quote Loaded\n"
     ]
    },
    {
     "name": "stderr",
     "output_type": "stream",
     "text": [
      "\n",
      " 80%|█████████████████████████████████████████████████████████████████▌                | 12/15 [00:04<00:01,  2.45it/s]"
     ]
    },
    {
     "name": "stdout",
     "output_type": "stream",
     "text": [
      "Getting Original Date\n",
      "Getting quots \n",
      "Ticker:  all \n",
      "Date:  2012-08-20\n",
      "Quote Loaded\n"
     ]
    },
    {
     "name": "stderr",
     "output_type": "stream",
     "text": [
      "\n",
      " 87%|███████████████████████████████████████████████████████████████████████           | 13/15 [00:05<00:00,  2.47it/s]"
     ]
    },
    {
     "name": "stdout",
     "output_type": "stream",
     "text": [
      "Getting Original Date\n",
      "Getting quots \n",
      "Ticker:  all \n",
      "Date:  2013-04-23\n",
      "Quote Loaded\n"
     ]
    },
    {
     "name": "stderr",
     "output_type": "stream",
     "text": [
      "\n",
      " 93%|████████████████████████████████████████████████████████████████████████████▌     | 14/15 [00:05<00:00,  2.50it/s]"
     ]
    },
    {
     "name": "stdout",
     "output_type": "stream",
     "text": [
      "Getting Original Date\n",
      "Getting quots \n",
      "Ticker:  all \n",
      "Date:  2013-05-09\n",
      "Quote Loaded\n"
     ]
    },
    {
     "name": "stderr",
     "output_type": "stream",
     "text": [
      "\n",
      "100%|██████████████████████████████████████████████████████████████████████████████████| 15/15 [00:06<00:00,  2.47it/s]\n"
     ]
    },
    {
     "name": "stdout",
     "output_type": "stream",
     "text": [
      "Will save to file:  c:\\data\\finml\\PriceVsSNP500_all.csv\n",
      "Getting Stock Price Data...\n"
     ]
    },
    {
     "name": "stderr",
     "output_type": "stream",
     "text": [
      "\n",
      "  0%|                                                                                           | 0/20 [00:00<?, ?it/s]"
     ]
    },
    {
     "name": "stdout",
     "output_type": "stream",
     "text": [
      "Getting Original Date\n",
      "Pointing Date is -  6 (Day of the week)\n",
      "Checking Next Day\n",
      "Getting quots \n",
      "Ticker:  an \n",
      "Date:  2003-10-28\n",
      "Quote Loaded\n"
     ]
    },
    {
     "name": "stderr",
     "output_type": "stream",
     "text": [
      "\n",
      "  5%|████▏                                                                              | 1/20 [00:00<00:05,  3.68it/s]"
     ]
    },
    {
     "name": "stdout",
     "output_type": "stream",
     "text": [
      "Getting Original Date\n",
      "Getting quots \n",
      "Ticker:  an \n",
      "Date:  2004-09-17\n",
      "Quote Loaded\n"
     ]
    },
    {
     "name": "stderr",
     "output_type": "stream",
     "text": [
      "\n",
      " 10%|████████▎                                                                          | 2/20 [00:00<00:06,  2.78it/s]"
     ]
    },
    {
     "name": "stdout",
     "output_type": "stream",
     "text": [
      "Getting Original Date\n",
      "Getting quots \n",
      "Ticker:  an \n",
      "Date:  2005-04-05\n",
      "Quote Loaded\n"
     ]
    },
    {
     "name": "stderr",
     "output_type": "stream",
     "text": [
      "\n",
      " 15%|████████████▍                                                                      | 3/20 [00:01<00:06,  2.67it/s]"
     ]
    },
    {
     "name": "stdout",
     "output_type": "stream",
     "text": [
      "Getting Original Date\n",
      "Pointing Date is -  5 (Day of the week)\n",
      "Checking Next Day\n",
      "Cannot Get data from Quandl. Skipping this one\n",
      "Getting Original Date\n",
      "Getting quots \n",
      "Ticker:  an \n",
      "Date:  2007-02-20\n",
      "Quote Loaded\n"
     ]
    },
    {
     "name": "stderr",
     "output_type": "stream",
     "text": [
      "\n",
      " 25%|████████████████████▊                                                              | 5/20 [00:08<00:25,  1.69s/it]"
     ]
    },
    {
     "name": "stdout",
     "output_type": "stream",
     "text": [
      "Getting Original Date\n",
      "Getting quots \n",
      "Ticker:  an \n",
      "Date:  2008-01-23\n",
      "Quote Loaded\n"
     ]
    },
    {
     "name": "stderr",
     "output_type": "stream",
     "text": [
      "\n",
      " 30%|████████████████████████▉                                                          | 6/20 [00:08<00:20,  1.47s/it]"
     ]
    },
    {
     "name": "stdout",
     "output_type": "stream",
     "text": [
      "Getting Original Date\n",
      "Getting quots \n",
      "Ticker:  an \n",
      "Date:  2008-02-15\n",
      "Quote Loaded\n"
     ]
    },
    {
     "name": "stderr",
     "output_type": "stream",
     "text": [
      "\n",
      " 35%|█████████████████████████████                                                      | 7/20 [00:09<00:17,  1.33s/it]"
     ]
    },
    {
     "name": "stdout",
     "output_type": "stream",
     "text": [
      "Getting Original Date\n",
      "Pointing Date is -  5 (Day of the week)\n",
      "Checking Next Day\n",
      "Pointing Date is -  6 (Day of the week)\n",
      "Checking Next Day\n",
      "Getting quots \n",
      "Ticker:  an \n",
      "Date:  2008-12-09\n",
      "Quote Loaded\n"
     ]
    },
    {
     "name": "stderr",
     "output_type": "stream",
     "text": [
      "\n",
      " 40%|█████████████████████████████████▏                                                 | 8/20 [00:09<00:14,  1.21s/it]"
     ]
    },
    {
     "name": "stdout",
     "output_type": "stream",
     "text": [
      "Getting Original Date\n",
      "Pointing Date is -  5 (Day of the week)\n",
      "Checking Next Day\n",
      "Getting quots \n",
      "Ticker:  an \n",
      "Date:  2009-02-09\n",
      "Quote Loaded\n"
     ]
    },
    {
     "name": "stderr",
     "output_type": "stream",
     "text": [
      "\n",
      " 45%|█████████████████████████████████████▎                                             | 9/20 [00:10<00:12,  1.12s/it]"
     ]
    },
    {
     "name": "stdout",
     "output_type": "stream",
     "text": [
      "Getting Original Date\n",
      "Pointing Date is -  5 (Day of the week)\n",
      "Checking Next Day\n",
      "Pointing Date is -  6 (Day of the week)\n",
      "Checking Next Day\n",
      "Getting quots \n",
      "Ticker:  an \n",
      "Date:  2011-03-15\n",
      "Quote Loaded\n"
     ]
    },
    {
     "name": "stderr",
     "output_type": "stream",
     "text": [
      "\n",
      " 50%|█████████████████████████████████████████                                         | 10/20 [00:10<00:10,  1.06s/it]"
     ]
    },
    {
     "name": "stdout",
     "output_type": "stream",
     "text": [
      "Getting Original Date\n",
      "Pointing Date is -  6 (Day of the week)\n",
      "Checking Next Day\n",
      "Getting quots \n",
      "Ticker:  an \n",
      "Date:  2011-05-23\n",
      "Quote Loaded\n"
     ]
    },
    {
     "name": "stderr",
     "output_type": "stream",
     "text": [
      "\n",
      " 55%|█████████████████████████████████████████████                                     | 11/20 [00:11<00:09,  1.01s/it]"
     ]
    },
    {
     "name": "stdout",
     "output_type": "stream",
     "text": [
      "Getting Original Date\n",
      "Pointing Date is -  5 (Day of the week)\n",
      "Checking Next Day\n",
      "Pointing Date is -  6 (Day of the week)\n",
      "Checking Next Day\n",
      "Getting quots \n",
      "Ticker:  an \n",
      "Date:  2011-06-07\n",
      "Quote Loaded\n"
     ]
    },
    {
     "name": "stderr",
     "output_type": "stream",
     "text": [
      "\n",
      " 60%|█████████████████████████████████████████████████▏                                | 12/20 [00:11<00:07,  1.05it/s]"
     ]
    },
    {
     "name": "stdout",
     "output_type": "stream",
     "text": [
      "Getting Original Date\n",
      "Getting quots \n",
      "Ticker:  an \n",
      "Date:  2011-06-22\n",
      "Quote Loaded\n"
     ]
    },
    {
     "name": "stderr",
     "output_type": "stream",
     "text": [
      "\n",
      " 65%|█████████████████████████████████████████████████████▎                            | 13/20 [00:11<00:06,  1.10it/s]"
     ]
    },
    {
     "name": "stdout",
     "output_type": "stream",
     "text": [
      "Getting Original Date\n",
      "Getting quots \n",
      "Ticker:  an \n",
      "Date:  2011-06-29\n",
      "Quote Loaded\n"
     ]
    },
    {
     "name": "stderr",
     "output_type": "stream",
     "text": [
      "\n",
      " 70%|█████████████████████████████████████████████████████████▍                        | 14/20 [00:12<00:05,  1.15it/s]"
     ]
    },
    {
     "name": "stdout",
     "output_type": "stream",
     "text": [
      "Getting Original Date\n",
      "Getting quots \n",
      "Ticker:  an \n",
      "Date:  2011-08-16\n",
      "Quote Loaded\n"
     ]
    },
    {
     "name": "stderr",
     "output_type": "stream",
     "text": [
      "\n",
      " 75%|█████████████████████████████████████████████████████████████▌                    | 15/20 [00:12<00:04,  1.19it/s]"
     ]
    },
    {
     "name": "stdout",
     "output_type": "stream",
     "text": [
      "Getting Original Date\n",
      "Getting quots \n",
      "Ticker:  an \n",
      "Date:  2011-11-16\n",
      "Quote Loaded\n"
     ]
    },
    {
     "name": "stderr",
     "output_type": "stream",
     "text": [
      "\n",
      " 80%|█████████████████████████████████████████████████████████████████▌                | 16/20 [00:12<00:03,  1.24it/s]"
     ]
    },
    {
     "name": "stdout",
     "output_type": "stream",
     "text": [
      "Getting Original Date\n",
      "Pointing Date is -  5 (Day of the week)\n",
      "Checking Next Day\n",
      "Getting quots \n",
      "Ticker:  an \n",
      "Date:  2012-02-06\n",
      "Quote Loaded\n"
     ]
    },
    {
     "name": "stderr",
     "output_type": "stream",
     "text": [
      "\n",
      " 85%|█████████████████████████████████████████████████████████████████████▋            | 17/20 [00:13<00:02,  1.26it/s]"
     ]
    },
    {
     "name": "stdout",
     "output_type": "stream",
     "text": [
      "Getting Original Date\n",
      "Pointing Date is -  5 (Day of the week)\n",
      "Checking Next Day\n",
      "Pointing Date is -  6 (Day of the week)\n",
      "Checking Next Day\n",
      "Getting quots \n",
      "Ticker:  an \n",
      "Date:  2012-02-14\n",
      "Quote Loaded\n"
     ]
    },
    {
     "name": "stderr",
     "output_type": "stream",
     "text": [
      "\n",
      " 90%|█████████████████████████████████████████████████████████████████████████▊        | 18/20 [00:14<00:01,  1.28it/s]"
     ]
    },
    {
     "name": "stdout",
     "output_type": "stream",
     "text": [
      "Getting Original Date\n",
      "Pointing Date is -  5 (Day of the week)\n",
      "Checking Next Day\n",
      "Pointing Date is -  6 (Day of the week)\n",
      "Checking Next Day\n",
      "Getting quots \n",
      "Ticker:  an \n",
      "Date:  2012-07-31\n",
      "Quote Loaded\n"
     ]
    },
    {
     "name": "stderr",
     "output_type": "stream",
     "text": [
      "\n",
      " 95%|█████████████████████████████████████████████████████████████████████████████▉    | 19/20 [00:14<00:00,  1.31it/s]"
     ]
    },
    {
     "name": "stdout",
     "output_type": "stream",
     "text": [
      "Getting Original Date\n",
      "Getting quots \n",
      "Ticker:  an \n",
      "Date:  2013-05-14\n",
      "Quote Loaded\n"
     ]
    },
    {
     "name": "stderr",
     "output_type": "stream",
     "text": [
      "\n",
      "100%|██████████████████████████████████████████████████████████████████████████████████| 20/20 [00:15<00:00,  1.33it/s]\n"
     ]
    },
    {
     "name": "stdout",
     "output_type": "stream",
     "text": [
      "Will save to file:  c:\\data\\finml\\PriceVsSNP500_an.csv\n",
      "Getting Stock Price Data...\n"
     ]
    },
    {
     "name": "stderr",
     "output_type": "stream",
     "text": [
      "\n",
      "  0%|                                                                                           | 0/16 [00:00<?, ?it/s]"
     ]
    },
    {
     "name": "stdout",
     "output_type": "stream",
     "text": [
      "Getting Original Date\n",
      "Getting quots \n",
      "Ticker:  aiz \n",
      "Date:  2005-01-31\n",
      "Quote Loaded\n"
     ]
    },
    {
     "name": "stderr",
     "output_type": "stream",
     "text": [
      "\n",
      "  6%|█████▏                                                                             | 1/16 [00:00<00:06,  2.36it/s]"
     ]
    },
    {
     "name": "stdout",
     "output_type": "stream",
     "text": [
      "Getting Original Date\n",
      "Getting quots \n",
      "Ticker:  aiz \n",
      "Date:  2005-02-16\n",
      "Quote Loaded\n"
     ]
    },
    {
     "name": "stderr",
     "output_type": "stream",
     "text": [
      "\n",
      " 12%|██████████▍                                                                        | 2/16 [00:00<00:05,  2.42it/s]"
     ]
    },
    {
     "name": "stdout",
     "output_type": "stream",
     "text": [
      "Getting Original Date\n",
      "Pointing Date is -  6 (Day of the week)\n",
      "Checking Next Day\n",
      "Getting quots \n",
      "Ticker:  aiz \n",
      "Date:  2005-12-27\n",
      "Quote Loaded\n"
     ]
    },
    {
     "name": "stderr",
     "output_type": "stream",
     "text": [
      "\n",
      " 19%|███████████████▌                                                                   | 3/16 [00:01<00:05,  2.18it/s]"
     ]
    },
    {
     "name": "stdout",
     "output_type": "stream",
     "text": [
      "Getting Original Date\n",
      "Getting quots \n",
      "Ticker:  aiz \n",
      "Date:  2006-02-02\n",
      "Quote Loaded\n"
     ]
    },
    {
     "name": "stderr",
     "output_type": "stream",
     "text": [
      "\n",
      " 25%|████████████████████▊                                                              | 4/16 [00:01<00:05,  2.12it/s]"
     ]
    },
    {
     "name": "stdout",
     "output_type": "stream",
     "text": [
      "Getting Original Date\n",
      "Getting quots \n",
      "Ticker:  aiz \n",
      "Date:  2006-05-23\n",
      "Quote Loaded\n"
     ]
    },
    {
     "name": "stderr",
     "output_type": "stream",
     "text": [
      "\n",
      " 31%|█████████████████████████▉                                                         | 5/16 [00:02<00:05,  2.11it/s]"
     ]
    },
    {
     "name": "stdout",
     "output_type": "stream",
     "text": [
      "Getting Original Date\n",
      "Getting quots \n",
      "Ticker:  aiz \n",
      "Date:  2006-11-08\n",
      "Quote Loaded\n"
     ]
    },
    {
     "name": "stderr",
     "output_type": "stream",
     "text": [
      "\n",
      " 38%|███████████████████████████████▏                                                   | 6/16 [00:02<00:04,  2.14it/s]"
     ]
    },
    {
     "name": "stdout",
     "output_type": "stream",
     "text": [
      "Getting Original Date\n",
      "Getting quots \n",
      "Ticker:  aiz \n",
      "Date:  2007-04-13\n",
      "Quote Loaded\n"
     ]
    },
    {
     "name": "stderr",
     "output_type": "stream",
     "text": [
      "\n",
      " 44%|████████████████████████████████████▎                                              | 7/16 [00:03<00:04,  2.20it/s]"
     ]
    },
    {
     "name": "stdout",
     "output_type": "stream",
     "text": [
      "Getting Original Date\n",
      "Pointing Date is -  6 (Day of the week)\n",
      "Checking Next Day\n",
      "Getting quots \n",
      "Ticker:  aiz \n",
      "Date:  2007-11-05\n",
      "Quote Loaded\n"
     ]
    },
    {
     "name": "stderr",
     "output_type": "stream",
     "text": [
      "\n",
      " 50%|█████████████████████████████████████████▌                                         | 8/16 [00:03<00:03,  2.15it/s]"
     ]
    },
    {
     "name": "stdout",
     "output_type": "stream",
     "text": [
      "Getting Original Date\n",
      "Getting quots \n",
      "Ticker:  aiz \n",
      "Date:  2008-01-23\n",
      "Quote Loaded\n"
     ]
    },
    {
     "name": "stderr",
     "output_type": "stream",
     "text": [
      "\n",
      " 56%|██████████████████████████████████████████████▋                                    | 9/16 [00:04<00:03,  2.15it/s]"
     ]
    },
    {
     "name": "stdout",
     "output_type": "stream",
     "text": [
      "Getting Original Date\n",
      "Getting quots \n",
      "Ticker:  aiz \n",
      "Date:  2008-01-29\n",
      "Quote Loaded\n"
     ]
    },
    {
     "name": "stderr",
     "output_type": "stream",
     "text": [
      "\n",
      " 62%|███████████████████████████████████████████████████▎                              | 10/16 [00:04<00:02,  2.10it/s]"
     ]
    },
    {
     "name": "stdout",
     "output_type": "stream",
     "text": [
      "Getting Original Date\n",
      "Getting quots \n",
      "Ticker:  aiz \n",
      "Date:  2009-11-03\n",
      "Quote Loaded\n"
     ]
    },
    {
     "name": "stderr",
     "output_type": "stream",
     "text": [
      "\n",
      " 69%|████████████████████████████████████████████████████████▍                         | 11/16 [00:05<00:02,  2.15it/s]"
     ]
    },
    {
     "name": "stdout",
     "output_type": "stream",
     "text": [
      "Getting Original Date\n",
      "Getting quots \n",
      "Ticker:  aiz \n",
      "Date:  2010-04-06\n",
      "Quote Loaded\n"
     ]
    },
    {
     "name": "stderr",
     "output_type": "stream",
     "text": [
      "\n",
      " 75%|█████████████████████████████████████████████████████████████▌                    | 12/16 [00:05<00:01,  2.12it/s]"
     ]
    },
    {
     "name": "stdout",
     "output_type": "stream",
     "text": [
      "Getting Original Date\n",
      "Pointing Date is -  6 (Day of the week)\n",
      "Checking Next Day\n",
      "Getting quots \n",
      "Ticker:  aiz \n",
      "Date:  2011-05-10\n",
      "Quote Loaded\n"
     ]
    },
    {
     "name": "stderr",
     "output_type": "stream",
     "text": [
      "\n",
      " 81%|██████████████████████████████████████████████████████████████████▋               | 13/16 [00:06<00:01,  2.04it/s]"
     ]
    },
    {
     "name": "stdout",
     "output_type": "stream",
     "text": [
      "Getting Original Date\n",
      "Pointing Date is -  6 (Day of the week)\n",
      "Checking Next Day\n",
      "Getting quots \n",
      "Ticker:  aiz \n",
      "Date:  2011-08-01\n",
      "Quote Loaded\n"
     ]
    },
    {
     "name": "stderr",
     "output_type": "stream",
     "text": [
      "\n",
      " 88%|███████████████████████████████████████████████████████████████████████▊          | 14/16 [00:06<00:00,  2.03it/s]"
     ]
    },
    {
     "name": "stdout",
     "output_type": "stream",
     "text": [
      "Getting Original Date\n",
      "Getting quots \n",
      "Ticker:  aiz \n",
      "Date:  2013-04-22\n",
      "Quote Loaded\n"
     ]
    },
    {
     "name": "stderr",
     "output_type": "stream",
     "text": [
      "\n",
      " 94%|████████████████████████████████████████████████████████████████████████████▉     | 15/16 [00:07<00:00,  2.02it/s]"
     ]
    },
    {
     "name": "stdout",
     "output_type": "stream",
     "text": [
      "Getting Original Date\n",
      "Getting quots \n",
      "Ticker:  aiz \n",
      "Date:  2013-05-07\n",
      "Quote Loaded\n"
     ]
    },
    {
     "name": "stderr",
     "output_type": "stream",
     "text": [
      "\n",
      "100%|██████████████████████████████████████████████████████████████████████████████████| 16/16 [00:07<00:00,  2.06it/s]\n"
     ]
    },
    {
     "name": "stdout",
     "output_type": "stream",
     "text": [
      "Will save to file:  c:\\data\\finml\\PriceVsSNP500_aiz.csv\n",
      "Getting Stock Price Data...\n"
     ]
    },
    {
     "name": "stderr",
     "output_type": "stream",
     "text": [
      "\n",
      "  0%|                                                                                           | 0/14 [00:00<?, ?it/s]"
     ]
    },
    {
     "name": "stdout",
     "output_type": "stream",
     "text": [
      "Getting Original Date\n",
      "Pointing Date is -  6 (Day of the week)\n",
      "Checking Next Day\n",
      "Getting quots \n",
      "Ticker:  amt \n",
      "Date:  2003-10-28\n",
      "Quote Loaded\n"
     ]
    },
    {
     "name": "stderr",
     "output_type": "stream",
     "text": [
      "\n",
      "  7%|█████▉                                                                             | 1/14 [00:00<00:04,  3.02it/s]"
     ]
    },
    {
     "name": "stdout",
     "output_type": "stream",
     "text": [
      "Getting Original Date\n",
      "Getting quots \n",
      "Ticker:  amt \n",
      "Date:  2004-08-20\n",
      "Quote Loaded\n"
     ]
    },
    {
     "name": "stderr",
     "output_type": "stream",
     "text": [
      "\n",
      " 14%|███████████▊                                                                       | 2/14 [00:00<00:05,  2.35it/s]"
     ]
    },
    {
     "name": "stdout",
     "output_type": "stream",
     "text": [
      "Getting Original Date\n",
      "Getting quots \n",
      "Ticker:  amt \n",
      "Date:  2005-03-16\n",
      "Quote Loaded\n"
     ]
    },
    {
     "name": "stderr",
     "output_type": "stream",
     "text": [
      "\n",
      " 21%|█████████████████▊                                                                 | 3/14 [00:01<00:04,  2.25it/s]"
     ]
    },
    {
     "name": "stdout",
     "output_type": "stream",
     "text": [
      "Getting Original Date\n",
      "Getting quots \n",
      "Ticker:  amt \n",
      "Date:  2005-04-05\n",
      "Quote Loaded\n"
     ]
    },
    {
     "name": "stderr",
     "output_type": "stream",
     "text": [
      "\n",
      " 29%|███████████████████████▋                                                           | 4/14 [00:01<00:04,  2.26it/s]"
     ]
    },
    {
     "name": "stdout",
     "output_type": "stream",
     "text": [
      "Getting Original Date\n",
      "Getting quots \n",
      "Ticker:  amt \n",
      "Date:  2006-08-28\n",
      "Quote Loaded\n"
     ]
    },
    {
     "name": "stderr",
     "output_type": "stream",
     "text": [
      "\n",
      " 36%|█████████████████████████████▋                                                     | 5/14 [00:02<00:03,  2.29it/s]"
     ]
    },
    {
     "name": "stdout",
     "output_type": "stream",
     "text": [
      "Getting Original Date\n",
      "Getting quots \n",
      "Ticker:  amt \n",
      "Date:  2007-04-13\n",
      "Quote Loaded\n"
     ]
    },
    {
     "name": "stderr",
     "output_type": "stream",
     "text": [
      "\n",
      " 43%|███████████████████████████████████▌                                               | 6/14 [00:02<00:03,  2.23it/s]"
     ]
    },
    {
     "name": "stdout",
     "output_type": "stream",
     "text": [
      "Getting Original Date\n",
      "Getting quots \n",
      "Ticker:  amt \n",
      "Date:  2008-01-07\n",
      "Quote Loaded\n"
     ]
    },
    {
     "name": "stderr",
     "output_type": "stream",
     "text": [
      "\n",
      " 50%|█████████████████████████████████████████▌                                         | 7/14 [00:02<00:02,  2.34it/s]"
     ]
    },
    {
     "name": "stdout",
     "output_type": "stream",
     "text": [
      "Getting Original Date\n",
      "Getting quots \n",
      "Ticker:  amt \n",
      "Date:  2008-01-23\n",
      "Quote Loaded\n"
     ]
    },
    {
     "name": "stderr",
     "output_type": "stream",
     "text": [
      "\n",
      " 57%|███████████████████████████████████████████████▍                                   | 8/14 [00:03<00:02,  2.34it/s]"
     ]
    },
    {
     "name": "stdout",
     "output_type": "stream",
     "text": [
      "Getting Original Date\n",
      "Getting quots \n",
      "Ticker:  amt \n",
      "Date:  2009-01-14\n",
      "Quote Loaded\n"
     ]
    },
    {
     "name": "stderr",
     "output_type": "stream",
     "text": [
      "\n",
      " 64%|█████████████████████████████████████████████████████▎                             | 9/14 [00:03<00:02,  2.29it/s]"
     ]
    },
    {
     "name": "stdout",
     "output_type": "stream",
     "text": [
      "Getting Original Date\n",
      "Getting quots \n",
      "Ticker:  amt \n",
      "Date:  2009-09-25\n",
      "Quote Loaded\n"
     ]
    },
    {
     "name": "stderr",
     "output_type": "stream",
     "text": [
      "\n",
      " 71%|██████████████████████████████████████████████████████████▌                       | 10/14 [00:04<00:01,  2.33it/s]"
     ]
    },
    {
     "name": "stdout",
     "output_type": "stream",
     "text": [
      "Getting Original Date\n",
      "Getting quots \n",
      "Ticker:  amt \n",
      "Date:  2011-10-07\n",
      "Quote Loaded\n"
     ]
    },
    {
     "name": "stderr",
     "output_type": "stream",
     "text": [
      "\n",
      " 79%|████████████████████████████████████████████████████████████████▍                 | 11/14 [00:04<00:01,  2.37it/s]"
     ]
    },
    {
     "name": "stdout",
     "output_type": "stream",
     "text": [
      "Getting Original Date\n",
      "Getting quots \n",
      "Ticker:  amt \n",
      "Date:  2011-12-29\n",
      "Quote Loaded\n"
     ]
    },
    {
     "name": "stderr",
     "output_type": "stream",
     "text": [
      "\n",
      " 86%|██████████████████████████████████████████████████████████████████████▎           | 12/14 [00:05<00:00,  2.38it/s]"
     ]
    },
    {
     "name": "stdout",
     "output_type": "stream",
     "text": [
      "Getting Original Date\n",
      "Getting quots \n",
      "Ticker:  amt \n",
      "Date:  2012-07-06\n",
      "Quote Loaded\n"
     ]
    },
    {
     "name": "stderr",
     "output_type": "stream",
     "text": [
      "\n",
      " 93%|████████████████████████████████████████████████████████████████████████████▏     | 13/14 [00:05<00:00,  2.42it/s]"
     ]
    },
    {
     "name": "stdout",
     "output_type": "stream",
     "text": [
      "Getting Original Date\n",
      "Getting quots \n",
      "Ticker:  amt \n",
      "Date:  2013-05-15\n",
      "Quote Loaded\n"
     ]
    },
    {
     "name": "stderr",
     "output_type": "stream",
     "text": [
      "\n",
      "100%|██████████████████████████████████████████████████████████████████████████████████| 14/14 [00:05<00:00,  2.42it/s]\n"
     ]
    },
    {
     "name": "stdout",
     "output_type": "stream",
     "text": [
      "Will save to file:  c:\\data\\finml\\PriceVsSNP500_amt.csv\n",
      "Getting Stock Price Data...\n"
     ]
    },
    {
     "name": "stderr",
     "output_type": "stream",
     "text": [
      "\n",
      "  0%|                                                                                           | 0/31 [00:00<?, ?it/s]"
     ]
    },
    {
     "name": "stdout",
     "output_type": "stream",
     "text": [
      "Getting Original Date\n",
      "Pointing Date is -  6 (Day of the week)\n",
      "Checking Next Day\n",
      "Cannot Get data from Quandl. Skipping this one\n",
      "Getting Original Date\n",
      "Getting quots \n",
      "Ticker:  aig \n",
      "Date:  2004-08-18\n",
      "Quote Loaded\n"
     ]
    },
    {
     "name": "stderr",
     "output_type": "stream",
     "text": [
      "\n",
      "  6%|█████▎                                                                             | 2/31 [00:00<00:04,  7.24it/s]"
     ]
    },
    {
     "name": "stdout",
     "output_type": "stream",
     "text": [
      "Getting Original Date\n",
      "Getting quots \n",
      "Ticker:  aig \n",
      "Date:  2005-01-18\n",
      "Quote Loaded\n"
     ]
    },
    {
     "name": "stderr",
     "output_type": "stream",
     "text": [
      "\n",
      " 10%|████████                                                                           | 3/31 [00:00<00:06,  4.66it/s]"
     ]
    },
    {
     "name": "stdout",
     "output_type": "stream",
     "text": [
      "Getting Original Date\n",
      "Getting quots \n",
      "Ticker:  aig \n",
      "Date:  2005-04-28\n",
      "Quote Loaded\n"
     ]
    },
    {
     "name": "stderr",
     "output_type": "stream",
     "text": [
      "\n",
      " 13%|██████████▋                                                                        | 4/31 [00:01<00:07,  3.82it/s]"
     ]
    },
    {
     "name": "stdout",
     "output_type": "stream",
     "text": [
      "Getting Original Date\n",
      "Pointing Date is -  5 (Day of the week)\n",
      "Checking Next Day\n",
      "Getting quots \n",
      "Ticker:  aig \n",
      "Date:  2006-01-09\n",
      "Quote Loaded\n"
     ]
    },
    {
     "name": "stderr",
     "output_type": "stream",
     "text": [
      "\n",
      " 16%|█████████████▍                                                                     | 5/31 [00:01<00:08,  3.20it/s]"
     ]
    },
    {
     "name": "stdout",
     "output_type": "stream",
     "text": [
      "Getting Original Date\n",
      "Pointing Date is -  5 (Day of the week)\n",
      "Checking Next Day\n",
      "Getting quots \n",
      "Ticker:  aig \n",
      "Date:  2006-06-19\n",
      "Quote Loaded\n"
     ]
    },
    {
     "name": "stderr",
     "output_type": "stream",
     "text": [
      "\n",
      " 19%|████████████████                                                                   | 6/31 [00:02<00:08,  2.90it/s]"
     ]
    },
    {
     "name": "stdout",
     "output_type": "stream",
     "text": [
      "Getting Original Date\n",
      "Getting quots \n",
      "Ticker:  aig \n",
      "Date:  2007-01-23\n",
      "Quote Loaded\n"
     ]
    },
    {
     "name": "stderr",
     "output_type": "stream",
     "text": [
      "\n",
      " 23%|██████████████████▋                                                                | 7/31 [00:02<00:08,  2.71it/s]"
     ]
    },
    {
     "name": "stdout",
     "output_type": "stream",
     "text": [
      "Getting Original Date\n",
      "Getting quots \n",
      "Ticker:  aig \n",
      "Date:  2007-03-15\n",
      "Quote Loaded\n"
     ]
    },
    {
     "name": "stderr",
     "output_type": "stream",
     "text": [
      "\n",
      " 26%|█████████████████████▍                                                             | 8/31 [00:02<00:08,  2.69it/s]"
     ]
    },
    {
     "name": "stdout",
     "output_type": "stream",
     "text": [
      "Getting Original Date\n",
      "Getting quots \n",
      "Ticker:  aig \n",
      "Date:  2007-05-04\n",
      "Quote Loaded\n"
     ]
    },
    {
     "name": "stderr",
     "output_type": "stream",
     "text": [
      "\n",
      " 29%|████████████████████████                                                           | 9/31 [00:03<00:08,  2.70it/s]"
     ]
    },
    {
     "name": "stdout",
     "output_type": "stream",
     "text": [
      "Getting Original Date\n",
      "Getting quots \n",
      "Ticker:  aig \n",
      "Date:  2007-06-05\n",
      "Quote Loaded\n"
     ]
    },
    {
     "name": "stderr",
     "output_type": "stream",
     "text": [
      "\n",
      " 32%|██████████████████████████▍                                                       | 10/31 [00:03<00:07,  2.75it/s]"
     ]
    },
    {
     "name": "stdout",
     "output_type": "stream",
     "text": [
      "Getting Original Date\n",
      "Getting quots \n",
      "Ticker:  aig \n",
      "Date:  2007-07-06\n",
      "Quote Loaded\n"
     ]
    },
    {
     "name": "stderr",
     "output_type": "stream",
     "text": [
      "\n",
      " 35%|█████████████████████████████                                                     | 11/31 [00:04<00:07,  2.67it/s]"
     ]
    },
    {
     "name": "stdout",
     "output_type": "stream",
     "text": [
      "Getting Original Date\n",
      "Getting quots \n",
      "Ticker:  aig \n",
      "Date:  2008-01-23\n",
      "Quote Loaded\n"
     ]
    },
    {
     "name": "stderr",
     "output_type": "stream",
     "text": [
      "\n",
      " 39%|███████████████████████████████▋                                                  | 12/31 [00:04<00:07,  2.69it/s]"
     ]
    },
    {
     "name": "stdout",
     "output_type": "stream",
     "text": [
      "Getting Original Date\n",
      "Getting quots \n",
      "Ticker:  aig \n",
      "Date:  2008-05-23\n",
      "Quote Loaded\n"
     ]
    },
    {
     "name": "stderr",
     "output_type": "stream",
     "text": [
      "\n",
      " 42%|██████████████████████████████████▍                                               | 13/31 [00:04<00:06,  2.70it/s]"
     ]
    },
    {
     "name": "stdout",
     "output_type": "stream",
     "text": [
      "Getting Original Date\n",
      "Pointing Date is -  6 (Day of the week)\n",
      "Checking Next Day\n",
      "Getting quots \n",
      "Ticker:  aig \n",
      "Date:  2008-09-22\n",
      "Quote Loaded\n"
     ]
    },
    {
     "name": "stderr",
     "output_type": "stream",
     "text": [
      "\n",
      " 45%|█████████████████████████████████████                                             | 14/31 [00:05<00:06,  2.67it/s]"
     ]
    },
    {
     "name": "stdout",
     "output_type": "stream",
     "text": [
      "Getting Original Date\n",
      "Getting quots \n",
      "Ticker:  aig \n",
      "Date:  2008-10-27\n",
      "Quote Loaded\n"
     ]
    },
    {
     "name": "stderr",
     "output_type": "stream",
     "text": [
      "\n",
      " 48%|███████████████████████████████████████▋                                          | 15/31 [00:05<00:06,  2.65it/s]"
     ]
    },
    {
     "name": "stdout",
     "output_type": "stream",
     "text": [
      "Getting Original Date\n",
      "Getting quots \n",
      "Ticker:  aig \n",
      "Date:  2008-12-17\n",
      "Quote Loaded\n"
     ]
    },
    {
     "name": "stderr",
     "output_type": "stream",
     "text": [
      "\n",
      " 52%|██████████████████████████████████████████▎                                       | 16/31 [00:06<00:05,  2.64it/s]"
     ]
    },
    {
     "name": "stdout",
     "output_type": "stream",
     "text": [
      "Getting Original Date\n",
      "Getting quots \n",
      "Ticker:  aig \n",
      "Date:  2008-12-19\n",
      "Quote Loaded\n"
     ]
    },
    {
     "name": "stderr",
     "output_type": "stream",
     "text": [
      "\n",
      " 55%|████████████████████████████████████████████▉                                     | 17/31 [00:06<00:05,  2.64it/s]"
     ]
    },
    {
     "name": "stdout",
     "output_type": "stream",
     "text": [
      "Getting Original Date\n",
      "Getting quots \n",
      "Ticker:  aig \n",
      "Date:  2009-01-06\n",
      "Quote Loaded\n"
     ]
    },
    {
     "name": "stderr",
     "output_type": "stream",
     "text": [
      "\n",
      " 58%|███████████████████████████████████████████████▌                                  | 18/31 [00:06<00:04,  2.61it/s]"
     ]
    },
    {
     "name": "stdout",
     "output_type": "stream",
     "text": [
      "Getting Original Date\n",
      "Getting quots \n",
      "Ticker:  aig \n",
      "Date:  2010-01-05\n",
      "Quote Loaded\n"
     ]
    },
    {
     "name": "stderr",
     "output_type": "stream",
     "text": [
      "\n",
      " 61%|██████████████████████████████████████████████████▎                               | 19/31 [00:07<00:04,  2.60it/s]"
     ]
    },
    {
     "name": "stdout",
     "output_type": "stream",
     "text": [
      "Getting Original Date\n",
      "Getting quots \n",
      "Ticker:  aig \n",
      "Date:  2011-04-29\n",
      "Quote Loaded\n"
     ]
    },
    {
     "name": "stderr",
     "output_type": "stream",
     "text": [
      "\n",
      " 65%|████████████████████████████████████████████████████▉                             | 20/31 [00:07<00:04,  2.56it/s]"
     ]
    },
    {
     "name": "stdout",
     "output_type": "stream",
     "text": [
      "Getting Original Date\n",
      "Getting quots \n",
      "Ticker:  aig \n",
      "Date:  2011-09-02\n",
      "Quote Loaded\n"
     ]
    },
    {
     "name": "stderr",
     "output_type": "stream",
     "text": [
      "\n",
      " 68%|███████████████████████████████████████████████████████▌                          | 21/31 [00:08<00:03,  2.57it/s]"
     ]
    },
    {
     "name": "stdout",
     "output_type": "stream",
     "text": [
      "Getting Original Date\n",
      "Getting quots \n",
      "Ticker:  aig \n",
      "Date:  2011-11-03\n",
      "Quote Loaded\n"
     ]
    },
    {
     "name": "stderr",
     "output_type": "stream",
     "text": [
      "\n",
      " 71%|██████████████████████████████████████████████████████████▏                       | 22/31 [00:08<00:03,  2.56it/s]"
     ]
    },
    {
     "name": "stdout",
     "output_type": "stream",
     "text": [
      "Getting Original Date\n",
      "Getting quots \n",
      "Ticker:  aig \n",
      "Date:  2011-11-04\n",
      "Quote Loaded\n"
     ]
    },
    {
     "name": "stderr",
     "output_type": "stream",
     "text": [
      "\n",
      " 74%|████████████████████████████████████████████████████████████▊                     | 23/31 [00:08<00:03,  2.56it/s]"
     ]
    },
    {
     "name": "stdout",
     "output_type": "stream",
     "text": [
      "Getting Original Date\n",
      "Cannot Get data from Quandl. Skipping this one\n",
      "Getting Original Date\n",
      "Pointing Date is -  5 (Day of the week)\n",
      "Checking Next Day\n",
      "Pointing Date is -  6 (Day of the week)\n",
      "Checking Next Day\n",
      "Getting quots \n",
      "Ticker:  aig \n",
      "Date:  2012-03-13\n",
      "Quote Loaded\n"
     ]
    },
    {
     "name": "stderr",
     "output_type": "stream",
     "text": [
      "\n",
      " 81%|██████████████████████████████████████████████████████████████████▏               | 25/31 [00:09<00:02,  2.66it/s]"
     ]
    },
    {
     "name": "stdout",
     "output_type": "stream",
     "text": [
      "Getting Original Date\n",
      "Pointing Date is -  6 (Day of the week)\n",
      "Checking Next Day\n",
      "Getting quots \n",
      "Ticker:  aig \n",
      "Date:  2012-07-03\n",
      "Quote Loaded\n"
     ]
    },
    {
     "name": "stderr",
     "output_type": "stream",
     "text": [
      "\n",
      " 84%|████████████████████████████████████████████████████████████████████▊             | 26/31 [00:09<00:01,  2.63it/s]"
     ]
    },
    {
     "name": "stdout",
     "output_type": "stream",
     "text": [
      "Getting Original Date\n",
      "Getting quots \n",
      "Ticker:  aig \n",
      "Date:  2012-07-13\n",
      "Quote Loaded\n"
     ]
    },
    {
     "name": "stderr",
     "output_type": "stream",
     "text": [
      "\n",
      " 87%|███████████████████████████████████████████████████████████████████████▍          | 27/31 [00:10<00:01,  2.60it/s]"
     ]
    },
    {
     "name": "stdout",
     "output_type": "stream",
     "text": [
      "Getting Original Date\n",
      "Getting quots \n",
      "Ticker:  aig \n",
      "Date:  2012-11-12\n",
      "Quote Loaded\n"
     ]
    },
    {
     "name": "stderr",
     "output_type": "stream",
     "text": [
      "\n",
      " 90%|██████████████████████████████████████████████████████████████████████████        | 28/31 [00:10<00:01,  2.61it/s]"
     ]
    },
    {
     "name": "stdout",
     "output_type": "stream",
     "text": [
      "Getting Original Date\n",
      "Getting quots \n",
      "Ticker:  aig \n",
      "Date:  2013-01-30\n",
      "Quote Loaded\n"
     ]
    },
    {
     "name": "stderr",
     "output_type": "stream",
     "text": [
      "\n",
      " 94%|████████████████████████████████████████████████████████████████████████████▋     | 29/31 [00:11<00:00,  2.59it/s]"
     ]
    },
    {
     "name": "stdout",
     "output_type": "stream",
     "text": [
      "Getting Original Date\n",
      "Getting quots \n",
      "Ticker:  aig \n",
      "Date:  2013-04-22\n",
      "Quote Loaded\n"
     ]
    },
    {
     "name": "stderr",
     "output_type": "stream",
     "text": [
      "\n",
      " 97%|███████████████████████████████████████████████████████████████████████████████▎  | 30/31 [00:11<00:00,  2.54it/s]"
     ]
    },
    {
     "name": "stdout",
     "output_type": "stream",
     "text": [
      "Getting Original Date\n",
      "Pointing Date is -  5 (Day of the week)\n",
      "Checking Next Day\n",
      "Getting quots \n",
      "Ticker:  aig \n",
      "Date:  2013-05-13\n",
      "Quote Loaded\n"
     ]
    },
    {
     "name": "stderr",
     "output_type": "stream",
     "text": [
      "\n",
      "100%|██████████████████████████████████████████████████████████████████████████████████| 31/31 [00:12<00:00,  2.55it/s]\n"
     ]
    },
    {
     "name": "stdout",
     "output_type": "stream",
     "text": [
      "Will save to file:  c:\\data\\finml\\PriceVsSNP500_aig.csv\n",
      "Getting Stock Price Data...\n"
     ]
    },
    {
     "name": "stderr",
     "output_type": "stream",
     "text": [
      "\n",
      "  0%|                                                                                            | 0/9 [00:00<?, ?it/s]"
     ]
    },
    {
     "name": "stdout",
     "output_type": "stream",
     "text": [
      "Getting Original Date\n",
      "Getting quots \n",
      "Ticker:  alxn \n",
      "Date:  2005-01-24\n",
      "Quote Loaded\n"
     ]
    },
    {
     "name": "stderr",
     "output_type": "stream",
     "text": [
      "\n",
      " 11%|█████████▎                                                                          | 1/9 [00:00<00:04,  1.96it/s]"
     ]
    },
    {
     "name": "stdout",
     "output_type": "stream",
     "text": [
      "Getting Original Date\n",
      "Pointing Date is -  6 (Day of the week)\n",
      "Checking Next Day\n",
      "Getting quots \n",
      "Ticker:  alxn \n",
      "Date:  2005-03-08\n",
      "Quote Loaded\n"
     ]
    },
    {
     "name": "stderr",
     "output_type": "stream",
     "text": [
      "\n",
      " 22%|██████████████████▋                                                                 | 2/9 [00:01<00:03,  1.94it/s]"
     ]
    },
    {
     "name": "stdout",
     "output_type": "stream",
     "text": [
      "Getting Original Date\n",
      "Getting quots \n",
      "Ticker:  alxn \n",
      "Date:  2009-02-13\n",
      "Quote Loaded\n"
     ]
    },
    {
     "name": "stderr",
     "output_type": "stream",
     "text": [
      "\n",
      " 33%|████████████████████████████                                                        | 3/9 [00:01<00:03,  1.95it/s]"
     ]
    },
    {
     "name": "stdout",
     "output_type": "stream",
     "text": [
      "Getting Original Date\n",
      "Getting quots \n",
      "Ticker:  alxn \n",
      "Date:  2010-05-10\n",
      "Quote Loaded\n"
     ]
    },
    {
     "name": "stderr",
     "output_type": "stream",
     "text": [
      "\n",
      " 44%|█████████████████████████████████████▎                                              | 4/9 [00:02<00:02,  1.95it/s]"
     ]
    },
    {
     "name": "stdout",
     "output_type": "stream",
     "text": [
      "Getting Original Date\n",
      "Getting quots \n",
      "Ticker:  alxn \n",
      "Date:  2011-07-22\n",
      "Quote Loaded\n"
     ]
    },
    {
     "name": "stderr",
     "output_type": "stream",
     "text": [
      "\n",
      " 56%|██████████████████████████████████████████████▋                                     | 5/9 [00:02<00:01,  2.09it/s]"
     ]
    },
    {
     "name": "stdout",
     "output_type": "stream",
     "text": [
      "Getting Original Date\n",
      "Getting quots \n",
      "Ticker:  alxn \n",
      "Date:  2011-09-28\n",
      "Quote Loaded\n"
     ]
    },
    {
     "name": "stderr",
     "output_type": "stream",
     "text": [
      "\n",
      " 67%|████████████████████████████████████████████████████████                            | 6/9 [00:02<00:01,  2.09it/s]"
     ]
    },
    {
     "name": "stdout",
     "output_type": "stream",
     "text": [
      "Getting Original Date\n",
      "Getting quots \n",
      "Ticker:  alxn \n",
      "Date:  2012-11-07\n",
      "Quote Loaded\n"
     ]
    },
    {
     "name": "stderr",
     "output_type": "stream",
     "text": [
      "\n",
      " 78%|█████████████████████████████████████████████████████████████████▎                  | 7/9 [00:03<00:00,  2.07it/s]"
     ]
    },
    {
     "name": "stdout",
     "output_type": "stream",
     "text": [
      "Getting Original Date\n",
      "Getting quots \n",
      "Ticker:  alxn \n",
      "Date:  2013-02-06\n",
      "Quote Loaded\n"
     ]
    },
    {
     "name": "stderr",
     "output_type": "stream",
     "text": [
      "\n",
      " 89%|██████████████████████████████████████████████████████████████████████████▋         | 8/9 [00:03<00:00,  2.05it/s]"
     ]
    },
    {
     "name": "stdout",
     "output_type": "stream",
     "text": [
      "Getting Original Date\n",
      "Getting quots \n",
      "Ticker:  alxn \n",
      "Date:  2013-05-16\n",
      "Quote Loaded\n"
     ]
    },
    {
     "name": "stderr",
     "output_type": "stream",
     "text": [
      "\n",
      "100%|████████████████████████████████████████████████████████████████████████████████████| 9/9 [00:04<00:00,  2.12it/s]\n"
     ]
    },
    {
     "name": "stdout",
     "output_type": "stream",
     "text": [
      "Will save to file:  c:\\data\\finml\\PriceVsSNP500_alxn.csv\n",
      "Getting Stock Price Data...\n"
     ]
    },
    {
     "name": "stderr",
     "output_type": "stream",
     "text": [
      "\n",
      "  0%|                                                                                           | 0/14 [00:00<?, ?it/s]"
     ]
    },
    {
     "name": "stdout",
     "output_type": "stream",
     "text": [
      "Getting Original Date\n",
      "Getting quots \n",
      "Ticker:  apd \n",
      "Date:  2004-01-07\n",
      "Quote Loaded\n"
     ]
    },
    {
     "name": "stderr",
     "output_type": "stream",
     "text": [
      "\n",
      "  7%|█████▉                                                                             | 1/14 [00:00<00:06,  1.91it/s]"
     ]
    },
    {
     "name": "stdout",
     "output_type": "stream",
     "text": [
      "Getting Original Date\n",
      "Pointing Date is -  6 (Day of the week)\n",
      "Checking Next Day\n",
      "Getting quots \n",
      "Ticker:  apd \n",
      "Date:  2004-04-12\n",
      "Quote Loaded\n"
     ]
    },
    {
     "name": "stderr",
     "output_type": "stream",
     "text": [
      "\n",
      " 14%|███████████▊                                                                       | 2/14 [00:00<00:05,  2.13it/s]"
     ]
    },
    {
     "name": "stdout",
     "output_type": "stream",
     "text": [
      "Getting Original Date\n",
      "Getting quots \n",
      "Ticker:  apd \n",
      "Date:  2004-09-30\n",
      "Quote Loaded\n"
     ]
    },
    {
     "name": "stderr",
     "output_type": "stream",
     "text": [
      "\n",
      " 21%|█████████████████▊                                                                 | 3/14 [00:01<00:05,  2.07it/s]"
     ]
    },
    {
     "name": "stdout",
     "output_type": "stream",
     "text": [
      "Getting Original Date\n",
      "Getting quots \n",
      "Ticker:  apd \n",
      "Date:  2004-11-29\n",
      "Quote Loaded\n"
     ]
    },
    {
     "name": "stderr",
     "output_type": "stream",
     "text": [
      "\n",
      " 29%|███████████████████████▋                                                           | 4/14 [00:01<00:04,  2.15it/s]"
     ]
    },
    {
     "name": "stdout",
     "output_type": "stream",
     "text": [
      "Getting Original Date\n",
      "Getting quots \n",
      "Ticker:  apd \n",
      "Date:  2005-03-15\n",
      "Quote Loaded\n"
     ]
    },
    {
     "name": "stderr",
     "output_type": "stream",
     "text": [
      "\n",
      " 36%|█████████████████████████████▋                                                     | 5/14 [00:02<00:04,  2.12it/s]"
     ]
    },
    {
     "name": "stdout",
     "output_type": "stream",
     "text": [
      "Getting Original Date\n",
      "Getting quots \n",
      "Ticker:  apd \n",
      "Date:  2005-12-08\n",
      "Quote Loaded\n"
     ]
    },
    {
     "name": "stderr",
     "output_type": "stream",
     "text": [
      "\n",
      " 43%|███████████████████████████████████▌                                               | 6/14 [00:02<00:03,  2.21it/s]"
     ]
    },
    {
     "name": "stdout",
     "output_type": "stream",
     "text": [
      "Getting Original Date\n",
      "Getting quots \n",
      "Ticker:  apd \n",
      "Date:  2006-06-27\n",
      "Quote Loaded\n"
     ]
    },
    {
     "name": "stderr",
     "output_type": "stream",
     "text": [
      "\n",
      " 50%|█████████████████████████████████████████▌                                         | 7/14 [00:03<00:03,  2.28it/s]"
     ]
    },
    {
     "name": "stdout",
     "output_type": "stream",
     "text": [
      "Getting Original Date\n",
      "Getting quots \n",
      "Ticker:  apd \n",
      "Date:  2007-02-20\n",
      "Quote Loaded\n"
     ]
    },
    {
     "name": "stderr",
     "output_type": "stream",
     "text": [
      "\n",
      " 57%|███████████████████████████████████████████████▍                                   | 8/14 [00:03<00:02,  2.25it/s]"
     ]
    },
    {
     "name": "stdout",
     "output_type": "stream",
     "text": [
      "Getting Original Date\n",
      "Getting quots \n",
      "Ticker:  apd \n",
      "Date:  2007-07-12\n",
      "Quote Loaded\n"
     ]
    },
    {
     "name": "stderr",
     "output_type": "stream",
     "text": [
      "\n",
      " 64%|█████████████████████████████████████████████████████▎                             | 9/14 [00:04<00:02,  2.08it/s]"
     ]
    },
    {
     "name": "stdout",
     "output_type": "stream",
     "text": [
      "Getting Original Date\n",
      "Pointing Date is -  5 (Day of the week)\n",
      "Checking Next Day\n",
      "Getting quots \n",
      "Ticker:  apd \n",
      "Date:  2007-07-16\n",
      "Quote Loaded\n"
     ]
    },
    {
     "name": "stderr",
     "output_type": "stream",
     "text": [
      "\n",
      " 71%|██████████████████████████████████████████████████████████▌                       | 10/14 [00:04<00:01,  2.07it/s]"
     ]
    },
    {
     "name": "stdout",
     "output_type": "stream",
     "text": [
      "Getting Original Date\n",
      "Getting quots \n",
      "Ticker:  apd \n",
      "Date:  2008-01-23\n",
      "Quote Loaded\n"
     ]
    },
    {
     "name": "stderr",
     "output_type": "stream",
     "text": [
      "\n",
      " 79%|████████████████████████████████████████████████████████████████▍                 | 11/14 [00:05<00:01,  2.13it/s]"
     ]
    },
    {
     "name": "stdout",
     "output_type": "stream",
     "text": [
      "Getting Original Date\n",
      "Getting quots \n",
      "Ticker:  apd \n",
      "Date:  2011-07-21\n",
      "Quote Loaded\n"
     ]
    },
    {
     "name": "stderr",
     "output_type": "stream",
     "text": [
      "\n",
      " 86%|██████████████████████████████████████████████████████████████████████▎           | 12/14 [00:05<00:00,  2.12it/s]"
     ]
    },
    {
     "name": "stdout",
     "output_type": "stream",
     "text": [
      "Getting Original Date\n",
      "Getting quots \n",
      "Ticker:  apd \n",
      "Date:  2012-11-06\n",
      "Quote Loaded\n"
     ]
    },
    {
     "name": "stderr",
     "output_type": "stream",
     "text": [
      "\n",
      " 93%|████████████████████████████████████████████████████████████████████████████▏     | 13/14 [00:06<00:00,  2.14it/s]"
     ]
    },
    {
     "name": "stdout",
     "output_type": "stream",
     "text": [
      "Getting Original Date\n",
      "Getting quots \n",
      "Ticker:  apd \n",
      "Date:  2013-05-15\n",
      "Quote Loaded\n"
     ]
    },
    {
     "name": "stderr",
     "output_type": "stream",
     "text": [
      "\n",
      "100%|██████████████████████████████████████████████████████████████████████████████████| 14/14 [00:06<00:00,  2.19it/s]\n"
     ]
    },
    {
     "name": "stdout",
     "output_type": "stream",
     "text": [
      "Will save to file:  c:\\data\\finml\\PriceVsSNP500_apd.csv\n",
      "Getting Stock Price Data...\n"
     ]
    },
    {
     "name": "stderr",
     "output_type": "stream",
     "text": [
      "\n",
      "  0%|                                                                                           | 0/18 [00:00<?, ?it/s]"
     ]
    },
    {
     "name": "stdout",
     "output_type": "stream",
     "text": [
      "Getting Original Date\n",
      "Getting quots \n",
      "Ticker:  adsk \n",
      "Date:  2003-10-03\n",
      "Quote Loaded\n"
     ]
    },
    {
     "name": "stderr",
     "output_type": "stream",
     "text": [
      "\n",
      "  6%|████▌                                                                              | 1/18 [00:00<00:07,  2.21it/s]"
     ]
    },
    {
     "name": "stdout",
     "output_type": "stream",
     "text": [
      "Getting Original Date\n",
      "Pointing Date is -  6 (Day of the week)\n",
      "Checking Next Day\n",
      "Getting quots \n",
      "Ticker:  adsk \n",
      "Date:  2004-06-21\n",
      "Quote Loaded\n"
     ]
    },
    {
     "name": "stderr",
     "output_type": "stream",
     "text": [
      "\n",
      " 11%|█████████▏                                                                         | 2/18 [00:00<00:07,  2.16it/s]"
     ]
    },
    {
     "name": "stdout",
     "output_type": "stream",
     "text": [
      "Getting Original Date\n",
      "Getting quots \n",
      "Ticker:  adsk \n",
      "Date:  2004-08-03\n",
      "Quote Loaded\n"
     ]
    },
    {
     "name": "stderr",
     "output_type": "stream",
     "text": [
      "\n",
      " 17%|█████████████▊                                                                     | 3/18 [00:01<00:07,  2.08it/s]"
     ]
    },
    {
     "name": "stdout",
     "output_type": "stream",
     "text": [
      "Getting Original Date\n",
      "Getting quots \n",
      "Ticker:  adsk \n",
      "Date:  2005-02-25\n",
      "Quote Loaded\n"
     ]
    },
    {
     "name": "stderr",
     "output_type": "stream",
     "text": [
      "\n",
      " 22%|██████████████████▍                                                                | 4/18 [00:02<00:07,  2.00it/s]"
     ]
    },
    {
     "name": "stdout",
     "output_type": "stream",
     "text": [
      "Getting Original Date\n",
      "Getting quots \n",
      "Ticker:  adsk \n",
      "Date:  2005-04-19\n",
      "Quote Loaded\n"
     ]
    },
    {
     "name": "stderr",
     "output_type": "stream",
     "text": [
      "\n",
      " 28%|███████████████████████                                                            | 5/18 [00:02<00:06,  1.99it/s]"
     ]
    },
    {
     "name": "stdout",
     "output_type": "stream",
     "text": [
      "Getting Original Date\n",
      "Getting quots \n",
      "Ticker:  adsk \n",
      "Date:  2007-03-09\n",
      "Quote Loaded\n"
     ]
    },
    {
     "name": "stderr",
     "output_type": "stream",
     "text": [
      "\n",
      " 33%|███████████████████████████▋                                                       | 6/18 [00:03<00:06,  1.99it/s]"
     ]
    },
    {
     "name": "stdout",
     "output_type": "stream",
     "text": [
      "Getting Original Date\n",
      "Pointing Date is -  6 (Day of the week)\n",
      "Checking Next Day\n",
      "Getting quots \n",
      "Ticker:  adsk \n",
      "Date:  2007-03-13\n",
      "Quote Loaded\n"
     ]
    },
    {
     "name": "stderr",
     "output_type": "stream",
     "text": [
      "\n",
      " 39%|████████████████████████████████▎                                                  | 7/18 [00:03<00:05,  2.00it/s]"
     ]
    },
    {
     "name": "stdout",
     "output_type": "stream",
     "text": [
      "Getting Original Date\n",
      "Pointing Date is -  5 (Day of the week)\n",
      "Checking Next Day\n",
      "Getting quots \n",
      "Ticker:  adsk \n",
      "Date:  2007-04-09\n",
      "Quote Loaded\n"
     ]
    },
    {
     "name": "stderr",
     "output_type": "stream",
     "text": [
      "\n",
      " 44%|████████████████████████████████████▉                                              | 8/18 [00:03<00:04,  2.03it/s]"
     ]
    },
    {
     "name": "stdout",
     "output_type": "stream",
     "text": [
      "Getting Original Date\n",
      "Getting quots \n",
      "Ticker:  adsk \n",
      "Date:  2007-05-29\n",
      "Quote Loaded\n"
     ]
    },
    {
     "name": "stderr",
     "output_type": "stream",
     "text": [
      "\n",
      " 50%|█████████████████████████████████████████▌                                         | 9/18 [00:04<00:04,  2.10it/s]"
     ]
    },
    {
     "name": "stdout",
     "output_type": "stream",
     "text": [
      "Getting Original Date\n",
      "Getting quots \n",
      "Ticker:  adsk \n",
      "Date:  2007-12-24\n",
      "Quote Loaded\n"
     ]
    },
    {
     "name": "stderr",
     "output_type": "stream",
     "text": [
      "\n",
      " 56%|█████████████████████████████████████████████▌                                    | 10/18 [00:04<00:03,  2.13it/s]"
     ]
    },
    {
     "name": "stdout",
     "output_type": "stream",
     "text": [
      "Getting Original Date\n",
      "Getting quots \n",
      "Ticker:  adsk \n",
      "Date:  2008-01-23\n",
      "Quote Loaded\n"
     ]
    },
    {
     "name": "stderr",
     "output_type": "stream",
     "text": [
      "\n",
      " 61%|██████████████████████████████████████████████████                                | 11/18 [00:05<00:03,  2.09it/s]"
     ]
    },
    {
     "name": "stdout",
     "output_type": "stream",
     "text": [
      "Getting Original Date\n",
      "Pointing Date is -  6 (Day of the week)\n",
      "Checking Next Day\n",
      "Getting quots \n",
      "Ticker:  adsk \n",
      "Date:  2008-03-04\n",
      "Quote Loaded\n"
     ]
    },
    {
     "name": "stderr",
     "output_type": "stream",
     "text": [
      "\n",
      " 67%|██████████████████████████████████████████████████████▋                           | 12/18 [00:05<00:02,  2.07it/s]"
     ]
    },
    {
     "name": "stdout",
     "output_type": "stream",
     "text": [
      "Getting Original Date\n",
      "Getting quots \n",
      "Ticker:  adsk \n",
      "Date:  2009-06-18\n",
      "Quote Loaded\n"
     ]
    },
    {
     "name": "stderr",
     "output_type": "stream",
     "text": [
      "\n",
      " 72%|███████████████████████████████████████████████████████████▏                      | 13/18 [00:06<00:02,  2.11it/s]"
     ]
    },
    {
     "name": "stdout",
     "output_type": "stream",
     "text": [
      "Getting Original Date\n",
      "Pointing Date is -  6 (Day of the week)\n",
      "Checking Next Day\n",
      "Getting quots \n",
      "Ticker:  adsk \n",
      "Date:  2012-06-11\n",
      "Quote Loaded\n"
     ]
    },
    {
     "name": "stderr",
     "output_type": "stream",
     "text": [
      "\n",
      " 78%|███████████████████████████████████████████████████████████████▊                  | 14/18 [00:06<00:01,  2.18it/s]"
     ]
    },
    {
     "name": "stdout",
     "output_type": "stream",
     "text": [
      "Getting Original Date\n",
      "Getting quots \n",
      "Ticker:  adsk \n",
      "Date:  2012-08-28\n",
      "Quote Loaded\n"
     ]
    },
    {
     "name": "stderr",
     "output_type": "stream",
     "text": [
      "\n",
      " 83%|████████████████████████████████████████████████████████████████████▎             | 15/18 [00:06<00:01,  2.23it/s]"
     ]
    },
    {
     "name": "stdout",
     "output_type": "stream",
     "text": [
      "Getting Original Date\n",
      "Getting quots \n",
      "Ticker:  adsk \n",
      "Date:  2012-11-07\n",
      "Quote Loaded\n"
     ]
    },
    {
     "name": "stderr",
     "output_type": "stream",
     "text": [
      "\n",
      " 89%|████████████████████████████████████████████████████████████████████████▉         | 16/18 [00:07<00:00,  2.25it/s]"
     ]
    },
    {
     "name": "stdout",
     "output_type": "stream",
     "text": [
      "Getting Original Date\n",
      "Getting quots \n",
      "Ticker:  adsk \n",
      "Date:  2013-02-06\n",
      "Quote Loaded\n"
     ]
    },
    {
     "name": "stderr",
     "output_type": "stream",
     "text": [
      "\n",
      " 94%|█████████████████████████████████████████████████████████████████████████████▍    | 17/18 [00:07<00:00,  2.27it/s]"
     ]
    },
    {
     "name": "stdout",
     "output_type": "stream",
     "text": [
      "Getting Original Date\n",
      "Getting quots \n",
      "Ticker:  adsk \n",
      "Date:  2013-05-14\n",
      "Quote Loaded\n"
     ]
    },
    {
     "name": "stderr",
     "output_type": "stream",
     "text": [
      "\n",
      "100%|██████████████████████████████████████████████████████████████████████████████████| 18/18 [00:07<00:00,  2.28it/s]\n"
     ]
    },
    {
     "name": "stdout",
     "output_type": "stream",
     "text": [
      "Will save to file:  c:\\data\\finml\\PriceVsSNP500_adsk.csv\n",
      "Getting Stock Price Data...\n"
     ]
    },
    {
     "name": "stderr",
     "output_type": "stream",
     "text": [
      "\n",
      "  0%|                                                                                            | 0/2 [00:00<?, ?it/s]"
     ]
    },
    {
     "name": "stdout",
     "output_type": "stream",
     "text": [
      "Getting Original Date\n",
      "Getting quots \n",
      "Ticker:  adt \n",
      "Date:  2013-04-23\n",
      "Quote Loaded\n"
     ]
    },
    {
     "name": "stderr",
     "output_type": "stream",
     "text": [
      "\n",
      " 50%|██████████████████████████████████████████                                          | 1/2 [00:00<00:00,  3.43it/s]"
     ]
    },
    {
     "name": "stdout",
     "output_type": "stream",
     "text": [
      "Getting Original Date\n",
      "Getting quots \n",
      "Ticker:  adt \n",
      "Date:  2013-05-09\n",
      "Quote Loaded\n"
     ]
    },
    {
     "name": "stderr",
     "output_type": "stream",
     "text": [
      "\n",
      "100%|████████████████████████████████████████████████████████████████████████████████████| 2/2 [00:00<00:00,  3.05it/s]\n"
     ]
    },
    {
     "name": "stdout",
     "output_type": "stream",
     "text": [
      "Will save to file:  c:\\data\\finml\\PriceVsSNP500_adt.csv\n",
      "Getting Stock Price Data...\n"
     ]
    },
    {
     "name": "stderr",
     "output_type": "stream",
     "text": [
      "\n",
      "  0%|                                                                                           | 0/16 [00:00<?, ?it/s]"
     ]
    },
    {
     "name": "stdout",
     "output_type": "stream",
     "text": [
      "Getting Original Date\n",
      "Getting quots \n",
      "Ticker:  arg \n",
      "Date:  2003-11-03\n",
      "Quote Loaded\n"
     ]
    },
    {
     "name": "stderr",
     "output_type": "stream",
     "text": [
      "\n",
      "  6%|█████▏                                                                             | 1/16 [00:00<00:06,  2.27it/s]"
     ]
    },
    {
     "name": "stdout",
     "output_type": "stream",
     "text": [
      "Getting Original Date\n",
      "Pointing Date is -  5 (Day of the week)\n",
      "Checking Next Day\n",
      "Getting quots \n",
      "Ticker:  arg \n",
      "Date:  2004-05-24\n",
      "Quote Loaded\n"
     ]
    },
    {
     "name": "stderr",
     "output_type": "stream",
     "text": [
      "\n",
      " 12%|██████████▍                                                                        | 2/16 [00:00<00:06,  2.29it/s]"
     ]
    },
    {
     "name": "stdout",
     "output_type": "stream",
     "text": [
      "Getting Original Date\n",
      "Getting quots \n",
      "Ticker:  arg \n",
      "Date:  2004-07-23\n",
      "Quote Loaded\n"
     ]
    },
    {
     "name": "stderr",
     "output_type": "stream",
     "text": [
      "\n",
      " 19%|███████████████▌                                                                   | 3/16 [00:01<00:06,  2.12it/s]"
     ]
    },
    {
     "name": "stdout",
     "output_type": "stream",
     "text": [
      "Getting Original Date\n",
      "Getting quots \n",
      "Ticker:  arg \n",
      "Date:  2004-08-25\n",
      "Quote Loaded\n"
     ]
    },
    {
     "name": "stderr",
     "output_type": "stream",
     "text": [
      "\n",
      " 25%|████████████████████▊                                                              | 4/16 [00:01<00:05,  2.15it/s]"
     ]
    },
    {
     "name": "stdout",
     "output_type": "stream",
     "text": [
      "Getting Original Date\n",
      "Getting quots \n",
      "Ticker:  arg \n",
      "Date:  2004-10-20\n",
      "Quote Loaded\n"
     ]
    },
    {
     "name": "stderr",
     "output_type": "stream",
     "text": [
      "\n",
      " 31%|█████████████████████████▉                                                         | 5/16 [00:02<00:04,  2.20it/s]"
     ]
    },
    {
     "name": "stdout",
     "output_type": "stream",
     "text": [
      "Getting Original Date\n",
      "Getting quots \n",
      "Ticker:  arg \n",
      "Date:  2004-12-10\n",
      "Quote Loaded\n"
     ]
    },
    {
     "name": "stderr",
     "output_type": "stream",
     "text": [
      "\n",
      " 38%|███████████████████████████████▏                                                   | 6/16 [00:02<00:04,  2.21it/s]"
     ]
    },
    {
     "name": "stdout",
     "output_type": "stream",
     "text": [
      "Getting Original Date\n",
      "Getting quots \n",
      "Ticker:  arg \n",
      "Date:  2005-02-24\n",
      "Quote Loaded\n"
     ]
    },
    {
     "name": "stderr",
     "output_type": "stream",
     "text": [
      "\n",
      " 44%|████████████████████████████████████▎                                              | 7/16 [00:03<00:04,  2.09it/s]"
     ]
    },
    {
     "name": "stdout",
     "output_type": "stream",
     "text": [
      "Getting Original Date\n",
      "Getting quots \n",
      "Ticker:  arg \n",
      "Date:  2005-03-17\n",
      "Quote Loaded\n"
     ]
    },
    {
     "name": "stderr",
     "output_type": "stream",
     "text": [
      "\n",
      " 50%|█████████████████████████████████████████▌                                         | 8/16 [00:03<00:03,  2.08it/s]"
     ]
    },
    {
     "name": "stdout",
     "output_type": "stream",
     "text": [
      "Getting Original Date\n",
      "Getting quots \n",
      "Ticker:  arg \n",
      "Date:  2006-05-11\n",
      "Quote Loaded\n"
     ]
    },
    {
     "name": "stderr",
     "output_type": "stream",
     "text": [
      "\n",
      " 56%|██████████████████████████████████████████████▋                                    | 9/16 [00:04<00:03,  2.14it/s]"
     ]
    },
    {
     "name": "stdout",
     "output_type": "stream",
     "text": [
      "Getting Original Date\n",
      "Getting quots \n",
      "Ticker:  arg \n",
      "Date:  2007-02-27\n",
      "Quote Loaded\n"
     ]
    },
    {
     "name": "stderr",
     "output_type": "stream",
     "text": [
      "\n",
      " 62%|███████████████████████████████████████████████████▎                              | 10/16 [00:04<00:02,  2.15it/s]"
     ]
    },
    {
     "name": "stdout",
     "output_type": "stream",
     "text": [
      "Getting Original Date\n",
      "Pointing Date is -  5 (Day of the week)\n",
      "Checking Next Day\n",
      "Getting quots \n",
      "Ticker:  arg \n",
      "Date:  2007-04-09\n",
      "Quote Loaded\n"
     ]
    },
    {
     "name": "stderr",
     "output_type": "stream",
     "text": [
      "\n",
      " 69%|████████████████████████████████████████████████████████▍                         | 11/16 [00:05<00:02,  2.13it/s]"
     ]
    },
    {
     "name": "stdout",
     "output_type": "stream",
     "text": [
      "Getting Original Date\n",
      "Getting quots \n",
      "Ticker:  arg \n",
      "Date:  2007-06-11\n",
      "Quote Loaded\n"
     ]
    },
    {
     "name": "stderr",
     "output_type": "stream",
     "text": [
      "\n",
      " 75%|█████████████████████████████████████████████████████████████▌                    | 12/16 [00:05<00:01,  2.11it/s]"
     ]
    },
    {
     "name": "stdout",
     "output_type": "stream",
     "text": [
      "Getting Original Date\n",
      "Pointing Date is -  5 (Day of the week)\n",
      "Checking Next Day\n",
      "Pointing Date is -  6 (Day of the week)\n",
      "Checking Next Day\n",
      "Getting quots \n",
      "Ticker:  arg \n",
      "Date:  2008-05-13\n",
      "Quote Loaded\n"
     ]
    },
    {
     "name": "stderr",
     "output_type": "stream",
     "text": [
      "\n",
      " 81%|██████████████████████████████████████████████████████████████████▋               | 13/16 [00:06<00:01,  2.14it/s]"
     ]
    },
    {
     "name": "stdout",
     "output_type": "stream",
     "text": [
      "Getting Original Date\n",
      "Getting quots \n",
      "Ticker:  arg \n",
      "Date:  2010-02-10\n",
      "Quote Loaded\n"
     ]
    },
    {
     "name": "stderr",
     "output_type": "stream",
     "text": [
      "\n",
      " 88%|███████████████████████████████████████████████████████████████████████▊          | 14/16 [00:06<00:00,  2.18it/s]"
     ]
    },
    {
     "name": "stdout",
     "output_type": "stream",
     "text": [
      "Getting Original Date\n",
      "Getting quots \n",
      "Ticker:  arg \n",
      "Date:  2013-04-23\n",
      "Quote Loaded\n"
     ]
    },
    {
     "name": "stderr",
     "output_type": "stream",
     "text": [
      "\n",
      " 94%|████████████████████████████████████████████████████████████████████████████▉     | 15/16 [00:06<00:00,  2.17it/s]"
     ]
    },
    {
     "name": "stdout",
     "output_type": "stream",
     "text": [
      "Getting Original Date\n",
      "Getting quots \n",
      "Ticker:  arg \n",
      "Date:  2013-05-09\n",
      "Quote Loaded\n"
     ]
    },
    {
     "name": "stderr",
     "output_type": "stream",
     "text": [
      "\n",
      "100%|██████████████████████████████████████████████████████████████████████████████████| 16/16 [00:07<00:00,  2.17it/s]\n"
     ]
    },
    {
     "name": "stdout",
     "output_type": "stream",
     "text": [
      "Will save to file:  c:\\data\\finml\\PriceVsSNP500_arg.csv\n",
      "Getting Stock Price Data...\n"
     ]
    },
    {
     "name": "stderr",
     "output_type": "stream",
     "text": [
      "\n",
      "  0%|                                                                                           | 0/18 [00:00<?, ?it/s]"
     ]
    },
    {
     "name": "stdout",
     "output_type": "stream",
     "text": [
      "Getting Original Date\n",
      "Pointing Date is -  6 (Day of the week)\n",
      "Checking Next Day\n",
      "Cannot Get data from Quandl. Skipping this one\n",
      "Getting Original Date\n",
      "Getting quots \n",
      "Ticker:  aet \n",
      "Date:  2004-08-03\n",
      "Quote Loaded\n"
     ]
    },
    {
     "name": "stderr",
     "output_type": "stream",
     "text": [
      "\n",
      " 11%|█████████▏                                                                         | 2/18 [00:00<00:03,  4.23it/s]"
     ]
    },
    {
     "name": "stdout",
     "output_type": "stream",
     "text": [
      "Getting Original Date\n",
      "Getting quots \n",
      "Ticker:  aet \n",
      "Date:  2004-11-30\n",
      "Quote Loaded\n"
     ]
    },
    {
     "name": "stderr",
     "output_type": "stream",
     "text": [
      "\n",
      " 17%|█████████████▊                                                                     | 3/18 [00:00<00:04,  3.50it/s]"
     ]
    },
    {
     "name": "stdout",
     "output_type": "stream",
     "text": [
      "Getting Original Date\n",
      "Getting quots \n",
      "Ticker:  aet \n",
      "Date:  2005-02-04\n",
      "Quote Loaded\n"
     ]
    },
    {
     "name": "stderr",
     "output_type": "stream",
     "text": [
      "\n",
      " 22%|██████████████████▍                                                                | 4/18 [00:01<00:04,  3.43it/s]"
     ]
    },
    {
     "name": "stdout",
     "output_type": "stream",
     "text": [
      "Getting Original Date\n",
      "Getting quots \n",
      "Ticker:  aet \n",
      "Date:  2005-04-08\n",
      "Quote Loaded\n"
     ]
    },
    {
     "name": "stderr",
     "output_type": "stream",
     "text": [
      "\n",
      " 28%|███████████████████████                                                            | 5/18 [00:01<00:04,  3.08it/s]"
     ]
    },
    {
     "name": "stdout",
     "output_type": "stream",
     "text": [
      "Getting Original Date\n",
      "Getting quots \n",
      "Ticker:  aet \n",
      "Date:  2005-09-23\n",
      "Quote Loaded\n"
     ]
    },
    {
     "name": "stderr",
     "output_type": "stream",
     "text": [
      "\n",
      " 33%|███████████████████████████▋                                                       | 6/18 [00:02<00:04,  2.86it/s]"
     ]
    },
    {
     "name": "stdout",
     "output_type": "stream",
     "text": [
      "Getting Original Date\n",
      "Getting quots \n",
      "Ticker:  aet \n",
      "Date:  2006-01-11\n",
      "Quote Loaded\n"
     ]
    },
    {
     "name": "stderr",
     "output_type": "stream",
     "text": [
      "\n",
      " 39%|████████████████████████████████▎                                                  | 7/18 [00:02<00:03,  2.79it/s]"
     ]
    },
    {
     "name": "stdout",
     "output_type": "stream",
     "text": [
      "Getting Original Date\n",
      "Pointing Date is -  6 (Day of the week)\n",
      "Checking Next Day\n",
      "Getting quots \n",
      "Ticker:  aet \n",
      "Date:  2006-05-08\n",
      "Quote Loaded\n"
     ]
    },
    {
     "name": "stderr",
     "output_type": "stream",
     "text": [
      "\n",
      " 44%|████████████████████████████████████▉                                              | 8/18 [00:02<00:03,  2.87it/s]"
     ]
    },
    {
     "name": "stdout",
     "output_type": "stream",
     "text": [
      "Getting Original Date\n",
      "Getting quots \n",
      "Ticker:  aet \n",
      "Date:  2007-01-25\n",
      "Quote Loaded\n"
     ]
    },
    {
     "name": "stderr",
     "output_type": "stream",
     "text": [
      "\n",
      " 50%|█████████████████████████████████████████▌                                         | 9/18 [00:03<00:03,  2.80it/s]"
     ]
    },
    {
     "name": "stdout",
     "output_type": "stream",
     "text": [
      "Getting Original Date\n",
      "Getting quots \n",
      "Ticker:  aet \n",
      "Date:  2007-02-20\n",
      "Quote Loaded\n"
     ]
    },
    {
     "name": "stderr",
     "output_type": "stream",
     "text": [
      "\n",
      " 56%|█████████████████████████████████████████████▌                                    | 10/18 [00:03<00:02,  2.75it/s]"
     ]
    },
    {
     "name": "stdout",
     "output_type": "stream",
     "text": [
      "Getting Original Date\n",
      "Cannot Get data from Quandl. Skipping this one\n",
      "Getting Original Date\n",
      "Getting quots \n",
      "Ticker:  aet \n",
      "Date:  2008-01-23\n",
      "Quote Loaded\n"
     ]
    },
    {
     "name": "stderr",
     "output_type": "stream",
     "text": [
      "\n",
      " 67%|██████████████████████████████████████████████████████▋                           | 12/18 [00:03<00:01,  3.06it/s]"
     ]
    },
    {
     "name": "stdout",
     "output_type": "stream",
     "text": [
      "Getting Original Date\n",
      "Getting quots \n",
      "Ticker:  aet \n",
      "Date:  2008-02-22\n",
      "Quote Loaded\n"
     ]
    },
    {
     "name": "stderr",
     "output_type": "stream",
     "text": [
      "\n",
      " 72%|███████████████████████████████████████████████████████████▏                      | 13/18 [00:04<00:01,  3.13it/s]"
     ]
    },
    {
     "name": "stdout",
     "output_type": "stream",
     "text": [
      "Getting Original Date\n",
      "Pointing Date is -  5 (Day of the week)\n",
      "Checking Next Day\n",
      "Pointing Date is -  6 (Day of the week)\n",
      "Checking Next Day\n",
      "Getting quots \n",
      "Ticker:  aet \n",
      "Date:  2008-11-04\n",
      "Quote Loaded\n"
     ]
    },
    {
     "name": "stderr",
     "output_type": "stream",
     "text": [
      "\n",
      " 78%|███████████████████████████████████████████████████████████████▊                  | 14/18 [00:04<00:01,  3.15it/s]"
     ]
    },
    {
     "name": "stdout",
     "output_type": "stream",
     "text": [
      "Getting Original Date\n",
      "Getting quots \n",
      "Ticker:  aet \n",
      "Date:  2009-10-02\n",
      "Quote Loaded\n"
     ]
    },
    {
     "name": "stderr",
     "output_type": "stream",
     "text": [
      "\n",
      " 83%|████████████████████████████████████████████████████████████████████▎             | 15/18 [00:04<00:00,  3.11it/s]"
     ]
    },
    {
     "name": "stdout",
     "output_type": "stream",
     "text": [
      "Getting Original Date\n",
      "Getting quots \n",
      "Ticker:  aet \n",
      "Date:  2009-10-15\n",
      "Quote Loaded\n"
     ]
    },
    {
     "name": "stderr",
     "output_type": "stream",
     "text": [
      "\n",
      " 89%|████████████████████████████████████████████████████████████████████████▉         | 16/18 [00:05<00:00,  3.05it/s]"
     ]
    },
    {
     "name": "stdout",
     "output_type": "stream",
     "text": [
      "Getting Original Date\n",
      "Getting quots \n",
      "Ticker:  aet \n",
      "Date:  2012-12-19\n",
      "Quote Loaded\n"
     ]
    },
    {
     "name": "stderr",
     "output_type": "stream",
     "text": [
      "\n",
      " 94%|█████████████████████████████████████████████████████████████████████████████▍    | 17/18 [00:05<00:00,  3.07it/s]"
     ]
    },
    {
     "name": "stdout",
     "output_type": "stream",
     "text": [
      "Getting Original Date\n",
      "Getting quots \n",
      "Ticker:  aet \n",
      "Date:  2013-06-05\n",
      "Quote Loaded\n"
     ]
    },
    {
     "name": "stderr",
     "output_type": "stream",
     "text": [
      "\n",
      "100%|██████████████████████████████████████████████████████████████████████████████████| 18/18 [00:06<00:00,  2.96it/s]\n"
     ]
    },
    {
     "name": "stdout",
     "output_type": "stream",
     "text": [
      "Will save to file:  c:\\data\\finml\\PriceVsSNP500_aet.csv\n",
      "Getting Stock Price Data...\n"
     ]
    },
    {
     "name": "stderr",
     "output_type": "stream",
     "text": [
      "\n",
      "  0%|                                                                                           | 0/32 [00:00<?, ?it/s]"
     ]
    },
    {
     "name": "stdout",
     "output_type": "stream",
     "text": [
      "Getting Original Date\n",
      "Pointing Date is -  6 (Day of the week)\n",
      "Checking Next Day\n",
      "Getting quots \n",
      "Ticker:  adbe \n",
      "Date:  2004-01-26\n",
      "Quote Loaded\n"
     ]
    },
    {
     "name": "stderr",
     "output_type": "stream",
     "text": [
      "\n",
      "  3%|██▌                                                                                | 1/32 [00:00<00:15,  1.95it/s]"
     ]
    },
    {
     "name": "stdout",
     "output_type": "stream",
     "text": [
      "Getting Original Date\n",
      "Pointing Date is -  5 (Day of the week)\n",
      "Checking Next Day\n",
      "Getting quots \n",
      "Ticker:  adbe \n",
      "Date:  2004-08-23\n",
      "Quote Loaded\n"
     ]
    },
    {
     "name": "stderr",
     "output_type": "stream",
     "text": [
      "\n",
      "  6%|█████▏                                                                             | 2/32 [00:00<00:14,  2.13it/s]"
     ]
    },
    {
     "name": "stdout",
     "output_type": "stream",
     "text": [
      "Getting Original Date\n",
      "Getting quots \n",
      "Ticker:  adbe \n",
      "Date:  2004-11-12\n",
      "Quote Loaded\n"
     ]
    },
    {
     "name": "stderr",
     "output_type": "stream",
     "text": [
      "\n",
      "  9%|███████▊                                                                           | 3/32 [00:01<00:13,  2.22it/s]"
     ]
    },
    {
     "name": "stdout",
     "output_type": "stream",
     "text": [
      "Getting Original Date\n",
      "Getting quots \n",
      "Ticker:  adbe \n",
      "Date:  2005-02-07\n",
      "Quote Loaded\n"
     ]
    },
    {
     "name": "stderr",
     "output_type": "stream",
     "text": [
      "\n",
      " 12%|██████████▍                                                                        | 4/32 [00:01<00:13,  2.15it/s]"
     ]
    },
    {
     "name": "stdout",
     "output_type": "stream",
     "text": [
      "Getting Original Date\n",
      "Getting quots \n",
      "Ticker:  adbe \n",
      "Date:  2005-04-05\n",
      "Quote Loaded\n"
     ]
    },
    {
     "name": "stderr",
     "output_type": "stream",
     "text": [
      "\n",
      " 16%|████████████▉                                                                      | 5/32 [00:02<00:11,  2.27it/s]"
     ]
    },
    {
     "name": "stdout",
     "output_type": "stream",
     "text": [
      "Getting Original Date\n",
      "Getting quots \n",
      "Ticker:  adbe \n",
      "Date:  2005-08-31\n",
      "Quote Loaded\n"
     ]
    },
    {
     "name": "stderr",
     "output_type": "stream",
     "text": [
      "\n",
      " 19%|███████████████▌                                                                   | 6/32 [00:02<00:11,  2.24it/s]"
     ]
    },
    {
     "name": "stdout",
     "output_type": "stream",
     "text": [
      "Getting Original Date\n",
      "Getting quots \n",
      "Ticker:  adbe \n",
      "Date:  2006-02-21\n",
      "Quote Loaded\n"
     ]
    },
    {
     "name": "stderr",
     "output_type": "stream",
     "text": [
      "\n",
      " 22%|██████████████████▏                                                                | 7/32 [00:03<00:11,  2.19it/s]"
     ]
    },
    {
     "name": "stdout",
     "output_type": "stream",
     "text": [
      "Getting Original Date\n",
      "Getting quots \n",
      "Ticker:  adbe \n",
      "Date:  2006-04-07\n",
      "Quote Loaded\n"
     ]
    },
    {
     "name": "stderr",
     "output_type": "stream",
     "text": [
      "\n",
      " 25%|████████████████████▊                                                              | 8/32 [00:03<00:11,  2.15it/s]"
     ]
    },
    {
     "name": "stdout",
     "output_type": "stream",
     "text": [
      "Getting Original Date\n",
      "Getting quots \n",
      "Ticker:  adbe \n",
      "Date:  2006-06-23\n",
      "Quote Loaded\n"
     ]
    },
    {
     "name": "stderr",
     "output_type": "stream",
     "text": [
      "\n",
      " 28%|███████████████████████▎                                                           | 9/32 [00:04<00:10,  2.13it/s]"
     ]
    },
    {
     "name": "stdout",
     "output_type": "stream",
     "text": [
      "Getting Original Date\n",
      "Getting quots \n",
      "Ticker:  adbe \n",
      "Date:  2006-11-28\n",
      "Quote Loaded\n"
     ]
    },
    {
     "name": "stderr",
     "output_type": "stream",
     "text": [
      "\n",
      " 31%|█████████████████████████▋                                                        | 10/32 [00:04<00:10,  2.11it/s]"
     ]
    },
    {
     "name": "stdout",
     "output_type": "stream",
     "text": [
      "Getting Original Date\n",
      "Pointing Date is -  5 (Day of the week)\n",
      "Checking Next Day\n",
      "Getting quots \n",
      "Ticker:  adbe \n",
      "Date:  2007-01-29\n",
      "Quote Loaded\n"
     ]
    },
    {
     "name": "stderr",
     "output_type": "stream",
     "text": [
      "\n",
      " 34%|████████████████████████████▏                                                     | 11/32 [00:05<00:09,  2.16it/s]"
     ]
    },
    {
     "name": "stdout",
     "output_type": "stream",
     "text": [
      "Getting Original Date\n",
      "Getting quots \n",
      "Ticker:  adbe \n",
      "Date:  2007-03-09\n",
      "Quote Loaded\n"
     ]
    },
    {
     "name": "stderr",
     "output_type": "stream",
     "text": [
      "\n",
      " 38%|██████████████████████████████▊                                                   | 12/32 [00:05<00:09,  2.20it/s]"
     ]
    },
    {
     "name": "stdout",
     "output_type": "stream",
     "text": [
      "Getting Original Date\n",
      "Getting quots \n",
      "Ticker:  adbe \n",
      "Date:  2007-03-15\n",
      "Quote Loaded\n"
     ]
    },
    {
     "name": "stderr",
     "output_type": "stream",
     "text": [
      "\n",
      " 41%|█████████████████████████████████▎                                                | 13/32 [00:05<00:08,  2.25it/s]"
     ]
    },
    {
     "name": "stdout",
     "output_type": "stream",
     "text": [
      "Getting Original Date\n",
      "Getting quots \n",
      "Ticker:  adbe \n",
      "Date:  2007-03-28\n",
      "Quote Loaded\n"
     ]
    },
    {
     "name": "stderr",
     "output_type": "stream",
     "text": [
      "\n",
      " 44%|███████████████████████████████████▉                                              | 14/32 [00:06<00:07,  2.27it/s]"
     ]
    },
    {
     "name": "stdout",
     "output_type": "stream",
     "text": [
      "Getting Original Date\n",
      "Pointing Date is -  6 (Day of the week)\n",
      "Checking Next Day\n",
      "Getting quots \n",
      "Ticker:  adbe \n",
      "Date:  2007-04-30\n",
      "Quote Loaded\n"
     ]
    },
    {
     "name": "stderr",
     "output_type": "stream",
     "text": [
      "\n",
      " 47%|██████████████████████████████████████▍                                           | 15/32 [00:06<00:07,  2.25it/s]"
     ]
    },
    {
     "name": "stdout",
     "output_type": "stream",
     "text": [
      "Getting Original Date\n",
      "Getting quots \n",
      "Ticker:  adbe \n",
      "Date:  2007-04-30\n",
      "Quote Loaded\n"
     ]
    },
    {
     "name": "stderr",
     "output_type": "stream",
     "text": [
      "\n",
      " 50%|█████████████████████████████████████████                                         | 16/32 [00:07<00:07,  2.23it/s]"
     ]
    },
    {
     "name": "stdout",
     "output_type": "stream",
     "text": [
      "Getting Original Date\n",
      "Getting quots \n",
      "Ticker:  adbe \n",
      "Date:  2007-05-01\n",
      "Quote Loaded\n"
     ]
    },
    {
     "name": "stderr",
     "output_type": "stream",
     "text": [
      "\n",
      " 53%|███████████████████████████████████████████▌                                      | 17/32 [00:07<00:06,  2.24it/s]"
     ]
    },
    {
     "name": "stdout",
     "output_type": "stream",
     "text": [
      "Getting Original Date\n",
      "Getting quots \n",
      "Ticker:  adbe \n",
      "Date:  2007-05-30\n",
      "Quote Loaded\n"
     ]
    },
    {
     "name": "stderr",
     "output_type": "stream",
     "text": [
      "\n",
      " 56%|██████████████████████████████████████████████▏                                   | 18/32 [00:07<00:06,  2.27it/s]"
     ]
    },
    {
     "name": "stdout",
     "output_type": "stream",
     "text": [
      "Getting Original Date\n",
      "Getting quots \n",
      "Ticker:  adbe \n",
      "Date:  2007-05-31\n",
      "Quote Loaded\n"
     ]
    },
    {
     "name": "stderr",
     "output_type": "stream",
     "text": [
      "\n",
      " 59%|████████████████████████████████████████████████▋                                 | 19/32 [00:08<00:05,  2.32it/s]"
     ]
    },
    {
     "name": "stdout",
     "output_type": "stream",
     "text": [
      "Getting Original Date\n",
      "Pointing Date is -  5 (Day of the week)\n",
      "Checking Next Day\n",
      "Getting quots \n",
      "Ticker:  adbe \n",
      "Date:  2007-07-02\n",
      "Quote Loaded\n"
     ]
    },
    {
     "name": "stderr",
     "output_type": "stream",
     "text": [
      "\n",
      " 62%|███████████████████████████████████████████████████▎                              | 20/32 [00:08<00:05,  2.32it/s]"
     ]
    },
    {
     "name": "stdout",
     "output_type": "stream",
     "text": [
      "Getting Original Date\n",
      "Getting quots \n",
      "Ticker:  adbe \n",
      "Date:  2007-10-18\n",
      "Quote Loaded\n"
     ]
    },
    {
     "name": "stderr",
     "output_type": "stream",
     "text": [
      "\n",
      " 66%|█████████████████████████████████████████████████████▊                            | 21/32 [00:09<00:04,  2.33it/s]"
     ]
    },
    {
     "name": "stdout",
     "output_type": "stream",
     "text": [
      "Getting Original Date\n",
      "Getting quots \n",
      "Ticker:  adbe \n",
      "Date:  2008-01-23\n",
      "Quote Loaded\n"
     ]
    },
    {
     "name": "stderr",
     "output_type": "stream",
     "text": [
      "\n",
      " 69%|████████████████████████████████████████████████████████▍                         | 22/32 [00:09<00:04,  2.31it/s]"
     ]
    },
    {
     "name": "stdout",
     "output_type": "stream",
     "text": [
      "Getting Original Date\n",
      "Getting quots \n",
      "Ticker:  adbe \n",
      "Date:  2008-12-04\n",
      "Quote Loaded\n"
     ]
    },
    {
     "name": "stderr",
     "output_type": "stream",
     "text": [
      "\n",
      " 72%|██████████████████████████████████████████████████████████▉                       | 23/32 [00:09<00:03,  2.33it/s]"
     ]
    },
    {
     "name": "stdout",
     "output_type": "stream",
     "text": [
      "Getting Original Date\n",
      "Getting quots \n",
      "Ticker:  adbe \n",
      "Date:  2008-12-05\n",
      "Quote Loaded\n"
     ]
    },
    {
     "name": "stderr",
     "output_type": "stream",
     "text": [
      "\n",
      " 75%|█████████████████████████████████████████████████████████████▌                    | 24/32 [00:10<00:03,  2.34it/s]"
     ]
    },
    {
     "name": "stdout",
     "output_type": "stream",
     "text": [
      "Getting Original Date\n",
      "Getting quots \n",
      "Ticker:  adbe \n",
      "Date:  2008-12-17\n",
      "Quote Loaded\n"
     ]
    },
    {
     "name": "stderr",
     "output_type": "stream",
     "text": [
      "\n",
      " 78%|████████████████████████████████████████████████████████████████                  | 25/32 [00:10<00:03,  2.32it/s]"
     ]
    },
    {
     "name": "stdout",
     "output_type": "stream",
     "text": [
      "Getting Original Date\n",
      "Pointing Date is -  5 (Day of the week)\n",
      "Checking Next Day\n",
      "Getting quots \n",
      "Ticker:  adbe \n",
      "Date:  2008-12-22\n",
      "Quote Loaded\n"
     ]
    },
    {
     "name": "stderr",
     "output_type": "stream",
     "text": [
      "\n",
      " 81%|██████████████████████████████████████████████████████████████████▋               | 26/32 [00:11<00:02,  2.32it/s]"
     ]
    },
    {
     "name": "stdout",
     "output_type": "stream",
     "text": [
      "Getting Original Date\n",
      "Pointing Date is -  6 (Day of the week)\n",
      "Checking Next Day\n",
      "Getting quots \n",
      "Ticker:  adbe \n",
      "Date:  2011-04-25\n",
      "Quote Loaded\n"
     ]
    },
    {
     "name": "stderr",
     "output_type": "stream",
     "text": [
      "\n",
      " 84%|█████████████████████████████████████████████████████████████████████▏            | 27/32 [00:11<00:02,  2.31it/s]"
     ]
    },
    {
     "name": "stdout",
     "output_type": "stream",
     "text": [
      "Getting Original Date\n",
      "Getting quots \n",
      "Ticker:  adbe \n",
      "Date:  2011-08-05\n",
      "Quote Loaded\n"
     ]
    },
    {
     "name": "stderr",
     "output_type": "stream",
     "text": [
      "\n",
      " 88%|███████████████████████████████████████████████████████████████████████▊          | 28/32 [00:12<00:01,  2.32it/s]"
     ]
    },
    {
     "name": "stdout",
     "output_type": "stream",
     "text": [
      "Getting Original Date\n",
      "Pointing Date is -  6 (Day of the week)\n",
      "Checking Next Day\n",
      "Getting quots \n",
      "Ticker:  adbe \n",
      "Date:  2011-09-27\n",
      "Quote Loaded\n"
     ]
    },
    {
     "name": "stderr",
     "output_type": "stream",
     "text": [
      "\n",
      " 91%|██████████████████████████████████████████████████████████████████████████▎       | 29/32 [00:12<00:01,  2.31it/s]"
     ]
    },
    {
     "name": "stdout",
     "output_type": "stream",
     "text": [
      "Getting Original Date\n",
      "Getting quots \n",
      "Ticker:  adbe \n",
      "Date:  2011-10-18\n",
      "Quote Loaded\n"
     ]
    },
    {
     "name": "stderr",
     "output_type": "stream",
     "text": [
      "\n",
      " 94%|████████████████████████████████████████████████████████████████████████████▉     | 30/32 [00:12<00:00,  2.33it/s]"
     ]
    },
    {
     "name": "stdout",
     "output_type": "stream",
     "text": [
      "Getting Original Date\n",
      "Pointing Date is -  5 (Day of the week)\n",
      "Checking Next Day\n",
      "Getting quots \n",
      "Ticker:  adbe \n",
      "Date:  2012-03-26\n",
      "Quote Loaded\n"
     ]
    },
    {
     "name": "stderr",
     "output_type": "stream",
     "text": [
      "\n",
      " 97%|███████████████████████████████████████████████████████████████████████████████▍  | 31/32 [00:13<00:00,  2.34it/s]"
     ]
    },
    {
     "name": "stdout",
     "output_type": "stream",
     "text": [
      "Getting Original Date\n",
      "Getting quots \n",
      "Ticker:  adbe \n",
      "Date:  2012-07-02\n",
      "Quote Loaded\n"
     ]
    },
    {
     "name": "stderr",
     "output_type": "stream",
     "text": [
      "\n",
      "100%|██████████████████████████████████████████████████████████████████████████████████| 32/32 [00:13<00:00,  2.35it/s]\n"
     ]
    },
    {
     "name": "stdout",
     "output_type": "stream",
     "text": [
      "Will save to file:  c:\\data\\finml\\PriceVsSNP500_adbe.csv\n",
      "Getting Stock Price Data...\n"
     ]
    },
    {
     "name": "stderr",
     "output_type": "stream",
     "text": [
      "\n",
      "  0%|                                                                                           | 0/11 [00:00<?, ?it/s]"
     ]
    },
    {
     "name": "stdout",
     "output_type": "stream",
     "text": [
      "Getting Original Date\n",
      "Getting quots \n",
      "Ticker:  arna \n",
      "Date:  2003-11-20\n",
      "Quote Loaded\n"
     ]
    },
    {
     "name": "stderr",
     "output_type": "stream",
     "text": [
      "\n",
      "  9%|███████▌                                                                           | 1/11 [00:00<00:02,  3.84it/s]"
     ]
    },
    {
     "name": "stdout",
     "output_type": "stream",
     "text": [
      "Getting Original Date\n",
      "Getting quots \n",
      "Ticker:  arna \n",
      "Date:  2004-10-14\n",
      "Quote Loaded\n"
     ]
    },
    {
     "name": "stderr",
     "output_type": "stream",
     "text": [
      "\n",
      " 18%|███████████████                                                                    | 2/11 [00:00<00:03,  2.97it/s]"
     ]
    },
    {
     "name": "stdout",
     "output_type": "stream",
     "text": [
      "Getting Original Date\n",
      "Getting quots \n",
      "Ticker:  arna \n",
      "Date:  2006-06-23\n",
      "Quote Loaded\n"
     ]
    },
    {
     "name": "stderr",
     "output_type": "stream",
     "text": [
      "\n",
      " 27%|██████████████████████▋                                                            | 3/11 [00:01<00:03,  2.48it/s]"
     ]
    },
    {
     "name": "stdout",
     "output_type": "stream",
     "text": [
      "Getting Original Date\n",
      "Pointing Date is -  5 (Day of the week)\n",
      "Checking Next Day\n",
      "Getting quots \n",
      "Ticker:  arna \n",
      "Date:  2006-10-30\n",
      "Quote Loaded\n"
     ]
    },
    {
     "name": "stderr",
     "output_type": "stream",
     "text": [
      "\n",
      " 36%|██████████████████████████████▏                                                    | 4/11 [00:01<00:02,  2.51it/s]"
     ]
    },
    {
     "name": "stdout",
     "output_type": "stream",
     "text": [
      "Getting Original Date\n",
      "Getting quots \n",
      "Ticker:  arna \n",
      "Date:  2007-03-07\n",
      "Quote Loaded\n"
     ]
    },
    {
     "name": "stderr",
     "output_type": "stream",
     "text": [
      "\n",
      " 45%|█████████████████████████████████████▋                                             | 5/11 [00:01<00:02,  2.53it/s]"
     ]
    },
    {
     "name": "stdout",
     "output_type": "stream",
     "text": [
      "Getting Original Date\n",
      "Getting quots \n",
      "Ticker:  arna \n",
      "Date:  2009-02-13\n",
      "Quote Loaded\n"
     ]
    },
    {
     "name": "stderr",
     "output_type": "stream",
     "text": [
      "\n",
      " 55%|█████████████████████████████████████████████▎                                     | 6/11 [00:02<00:01,  2.55it/s]"
     ]
    },
    {
     "name": "stdout",
     "output_type": "stream",
     "text": [
      "Getting Original Date\n",
      "Getting quots \n",
      "Ticker:  arna \n",
      "Date:  2009-04-03\n",
      "Quote Loaded\n"
     ]
    },
    {
     "name": "stderr",
     "output_type": "stream",
     "text": [
      "\n",
      " 64%|████████████████████████████████████████████████████▊                              | 7/11 [00:02<00:01,  2.46it/s]"
     ]
    },
    {
     "name": "stdout",
     "output_type": "stream",
     "text": [
      "Getting Original Date\n",
      "Getting quots \n",
      "Ticker:  arna \n",
      "Date:  2012-06-25\n",
      "Quote Loaded\n"
     ]
    },
    {
     "name": "stderr",
     "output_type": "stream",
     "text": [
      "\n",
      " 73%|████████████████████████████████████████████████████████████▎                      | 8/11 [00:03<00:01,  2.51it/s]"
     ]
    },
    {
     "name": "stdout",
     "output_type": "stream",
     "text": [
      "Getting Original Date\n",
      "Cannot Get data from Quandl. Skipping this one\n",
      "Getting Original Date\n",
      "Getting quots \n",
      "Ticker:  arna \n",
      "Date:  2013-03-19\n",
      "Quote Loaded\n"
     ]
    },
    {
     "name": "stderr",
     "output_type": "stream",
     "text": [
      "\n",
      " 91%|██████████████████████████████████████████████████████████████████████████▌       | 10/11 [00:03<00:00,  2.70it/s]"
     ]
    },
    {
     "name": "stdout",
     "output_type": "stream",
     "text": [
      "Getting Original Date\n",
      "Getting quots \n",
      "Ticker:  arna \n",
      "Date:  2013-05-07\n",
      "Quote Loaded\n"
     ]
    },
    {
     "name": "stderr",
     "output_type": "stream",
     "text": [
      "\n",
      "100%|██████████████████████████████████████████████████████████████████████████████████| 11/11 [00:04<00:00,  2.63it/s]\n"
     ]
    },
    {
     "name": "stdout",
     "output_type": "stream",
     "text": [
      "Will save to file:  c:\\data\\finml\\PriceVsSNP500_arna.csv\n",
      "Getting Stock Price Data...\n"
     ]
    },
    {
     "name": "stderr",
     "output_type": "stream",
     "text": [
      "\n",
      "  0%|                                                                                           | 0/24 [00:00<?, ?it/s]"
     ]
    },
    {
     "name": "stdout",
     "output_type": "stream",
     "text": [
      "Getting Original Date\n",
      "Getting quots \n",
      "Ticker:  abt \n",
      "Date:  2004-09-20\n",
      "Quote Loaded\n"
     ]
    },
    {
     "name": "stderr",
     "output_type": "stream",
     "text": [
      "\n",
      "  4%|███▍                                                                               | 1/24 [00:00<00:10,  2.16it/s]"
     ]
    },
    {
     "name": "stdout",
     "output_type": "stream",
     "text": [
      "Getting Original Date\n",
      "Pointing Date is -  5 (Day of the week)\n",
      "Checking Next Day\n",
      "Getting quots \n",
      "Ticker:  abt \n",
      "Date:  2004-10-25\n",
      "Quote Loaded\n"
     ]
    },
    {
     "name": "stderr",
     "output_type": "stream",
     "text": [
      "\n",
      "  8%|██████▉                                                                            | 2/24 [00:00<00:09,  2.32it/s]"
     ]
    },
    {
     "name": "stdout",
     "output_type": "stream",
     "text": [
      "Getting Original Date\n",
      "Getting quots \n",
      "Ticker:  abt \n",
      "Date:  2005-01-25\n",
      "Quote Loaded\n"
     ]
    },
    {
     "name": "stderr",
     "output_type": "stream",
     "text": [
      "\n",
      " 12%|██████████▍                                                                        | 3/24 [00:01<00:08,  2.62it/s]"
     ]
    },
    {
     "name": "stdout",
     "output_type": "stream",
     "text": [
      "Getting Original Date\n",
      "Getting quots \n",
      "Ticker:  abt \n",
      "Date:  2005-02-28\n",
      "Quote Loaded\n"
     ]
    },
    {
     "name": "stderr",
     "output_type": "stream",
     "text": [
      "\n",
      " 17%|█████████████▊                                                                     | 4/24 [00:01<00:08,  2.35it/s]"
     ]
    },
    {
     "name": "stdout",
     "output_type": "stream",
     "text": [
      "Getting Original Date\n",
      "Pointing Date is -  5 (Day of the week)\n",
      "Checking Next Day\n",
      "Getting quots \n",
      "Ticker:  abt \n",
      "Date:  2006-06-19\n",
      "Quote Loaded\n"
     ]
    },
    {
     "name": "stderr",
     "output_type": "stream",
     "text": [
      "\n",
      " 21%|█████████████████▎                                                                 | 5/24 [00:02<00:08,  2.30it/s]"
     ]
    },
    {
     "name": "stdout",
     "output_type": "stream",
     "text": [
      "Getting Original Date\n",
      "Getting quots \n",
      "Ticker:  abt \n",
      "Date:  2006-07-18\n",
      "Quote Loaded\n"
     ]
    },
    {
     "name": "stderr",
     "output_type": "stream",
     "text": [
      "\n",
      " 25%|████████████████████▊                                                              | 6/24 [00:02<00:07,  2.29it/s]"
     ]
    },
    {
     "name": "stdout",
     "output_type": "stream",
     "text": [
      "Getting Original Date\n",
      "Pointing Date is -  5 (Day of the week)\n",
      "Checking Next Day\n",
      "Cannot Get data from Quandl. Skipping this one\n",
      "Getting Original Date\n",
      "Getting quots \n",
      "Ticker:  abt \n",
      "Date:  2007-03-23\n",
      "Quote Loaded\n"
     ]
    },
    {
     "name": "stderr",
     "output_type": "stream",
     "text": [
      "\n",
      " 33%|███████████████████████████▋                                                       | 8/24 [00:03<00:06,  2.55it/s]"
     ]
    },
    {
     "name": "stdout",
     "output_type": "stream",
     "text": [
      "Getting Original Date\n",
      "Getting quots \n",
      "Ticker:  abt \n",
      "Date:  2007-04-10\n",
      "Quote Loaded\n"
     ]
    },
    {
     "name": "stderr",
     "output_type": "stream",
     "text": [
      "\n",
      " 38%|███████████████████████████████▏                                                   | 9/24 [00:03<00:06,  2.47it/s]"
     ]
    },
    {
     "name": "stdout",
     "output_type": "stream",
     "text": [
      "Getting Original Date\n",
      "Pointing Date is -  6 (Day of the week)\n",
      "Checking Next Day\n",
      "Getting quots \n",
      "Ticker:  abt \n",
      "Date:  2007-06-04\n",
      "Quote Loaded\n"
     ]
    },
    {
     "name": "stderr",
     "output_type": "stream",
     "text": [
      "\n",
      " 42%|██████████████████████████████████▏                                               | 10/24 [00:04<00:05,  2.49it/s]"
     ]
    },
    {
     "name": "stdout",
     "output_type": "stream",
     "text": [
      "Getting Original Date\n",
      "Cannot Get data from Quandl. Skipping this one\n",
      "Getting Original Date\n",
      "Getting quots \n",
      "Ticker:  abt \n",
      "Date:  2008-01-23\n",
      "Quote Loaded\n"
     ]
    },
    {
     "name": "stderr",
     "output_type": "stream",
     "text": [
      "\n",
      " 50%|█████████████████████████████████████████                                         | 12/24 [00:04<00:04,  2.69it/s]"
     ]
    },
    {
     "name": "stdout",
     "output_type": "stream",
     "text": [
      "Getting Original Date\n",
      "Getting quots \n",
      "Ticker:  abt \n",
      "Date:  2008-04-28\n",
      "Quote Loaded\n"
     ]
    },
    {
     "name": "stderr",
     "output_type": "stream",
     "text": [
      "\n",
      " 54%|████████████████████████████████████████████▍                                     | 13/24 [00:04<00:04,  2.61it/s]"
     ]
    },
    {
     "name": "stdout",
     "output_type": "stream",
     "text": [
      "Getting Original Date\n",
      "Getting quots \n",
      "Ticker:  abt \n",
      "Date:  2008-10-23\n",
      "Quote Loaded\n"
     ]
    },
    {
     "name": "stderr",
     "output_type": "stream",
     "text": [
      "\n",
      " 58%|███████████████████████████████████████████████▊                                  | 14/24 [00:05<00:03,  2.57it/s]"
     ]
    },
    {
     "name": "stdout",
     "output_type": "stream",
     "text": [
      "Getting Original Date\n",
      "Cannot Get data from Quandl. Skipping this one\n",
      "Getting Original Date\n",
      "Getting quots \n",
      "Ticker:  abt \n",
      "Date:  2011-08-05\n",
      "Quote Loaded\n"
     ]
    },
    {
     "name": "stderr",
     "output_type": "stream",
     "text": [
      "\n",
      " 67%|██████████████████████████████████████████████████████▋                           | 16/24 [00:05<00:02,  2.69it/s]"
     ]
    },
    {
     "name": "stdout",
     "output_type": "stream",
     "text": [
      "Getting Original Date\n",
      "Getting quots \n",
      "Ticker:  abt \n",
      "Date:  2011-09-02\n",
      "Quote Loaded\n"
     ]
    },
    {
     "name": "stderr",
     "output_type": "stream",
     "text": [
      "\n",
      " 71%|██████████████████████████████████████████████████████████                        | 17/24 [00:06<00:02,  2.65it/s]"
     ]
    },
    {
     "name": "stdout",
     "output_type": "stream",
     "text": [
      "Getting Original Date\n",
      "Getting quots \n",
      "Ticker:  abt \n",
      "Date:  2011-11-02\n",
      "Quote Loaded\n"
     ]
    },
    {
     "name": "stderr",
     "output_type": "stream",
     "text": [
      "\n",
      " 75%|█████████████████████████████████████████████████████████████▌                    | 18/24 [00:06<00:02,  2.68it/s]"
     ]
    },
    {
     "name": "stdout",
     "output_type": "stream",
     "text": [
      "Getting Original Date\n",
      "Pointing Date is -  6 (Day of the week)\n",
      "Checking Next Day\n",
      "Getting quots \n",
      "Ticker:  abt \n",
      "Date:  2012-01-03\n",
      "Quote Loaded\n"
     ]
    },
    {
     "name": "stderr",
     "output_type": "stream",
     "text": [
      "\n",
      " 79%|████████████████████████████████████████████████████████████████▉                 | 19/24 [00:07<00:01,  2.71it/s]"
     ]
    },
    {
     "name": "stdout",
     "output_type": "stream",
     "text": [
      "Getting Original Date\n",
      "Getting quots \n",
      "Ticker:  abt \n",
      "Date:  2012-03-02\n",
      "Quote Loaded\n"
     ]
    },
    {
     "name": "stderr",
     "output_type": "stream",
     "text": [
      "\n",
      " 83%|████████████████████████████████████████████████████████████████████▎             | 20/24 [00:07<00:01,  2.71it/s]"
     ]
    },
    {
     "name": "stdout",
     "output_type": "stream",
     "text": [
      "Getting Original Date\n",
      "Getting quots \n",
      "Ticker:  abt \n",
      "Date:  2012-03-30\n",
      "Quote Loaded\n"
     ]
    },
    {
     "name": "stderr",
     "output_type": "stream",
     "text": [
      "\n",
      " 88%|███████████████████████████████████████████████████████████████████████▊          | 21/24 [00:07<00:01,  2.69it/s]"
     ]
    },
    {
     "name": "stdout",
     "output_type": "stream",
     "text": [
      "Getting Original Date\n",
      "Cannot Get data from Quandl. Skipping this one\n",
      "Getting Original Date\n",
      "Getting quots \n",
      "Ticker:  abt \n",
      "Date:  2013-05-08\n",
      "Quote Loaded\n"
     ]
    },
    {
     "name": "stderr",
     "output_type": "stream",
     "text": [
      "\n",
      " 96%|██████████████████████████████████████████████████████████████████████████████▌   | 23/24 [00:08<00:00,  2.78it/s]"
     ]
    },
    {
     "name": "stdout",
     "output_type": "stream",
     "text": [
      "Getting Original Date\n",
      "Pointing Date is -  6 (Day of the week)\n",
      "Checking Next Day\n",
      "Getting quots \n",
      "Ticker:  abt \n",
      "Date:  2013-08-19\n",
      "Quote Loaded\n"
     ]
    },
    {
     "name": "stderr",
     "output_type": "stream",
     "text": [
      "\n",
      "100%|██████████████████████████████████████████████████████████████████████████████████| 24/24 [00:08<00:00,  2.74it/s]\n"
     ]
    },
    {
     "name": "stdout",
     "output_type": "stream",
     "text": [
      "Will save to file:  c:\\data\\finml\\PriceVsSNP500_abt.csv\n",
      "Getting Stock Price Data...\n"
     ]
    },
    {
     "name": "stderr",
     "output_type": "stream",
     "text": [
      "\n",
      "  0%|                                                                                           | 0/14 [00:00<?, ?it/s]"
     ]
    },
    {
     "name": "stdout",
     "output_type": "stream",
     "text": [
      "Getting Original Date\n",
      "Getting quots \n",
      "Ticker:  aro \n",
      "Date:  2004-08-10\n",
      "Quote Loaded\n"
     ]
    },
    {
     "name": "stderr",
     "output_type": "stream",
     "text": [
      "\n",
      "  7%|█████▉                                                                             | 1/14 [00:00<00:03,  3.26it/s]"
     ]
    },
    {
     "name": "stdout",
     "output_type": "stream",
     "text": [
      "Getting Original Date\n",
      "Getting quots \n",
      "Ticker:  aro \n",
      "Date:  2005-01-24\n",
      "Quote Loaded\n"
     ]
    },
    {
     "name": "stderr",
     "output_type": "stream",
     "text": [
      "\n",
      " 14%|███████████▊                                                                       | 2/14 [00:00<00:03,  3.14it/s]"
     ]
    },
    {
     "name": "stdout",
     "output_type": "stream",
     "text": [
      "Getting Original Date\n",
      "Getting quots \n",
      "Ticker:  aro \n",
      "Date:  2005-04-05\n",
      "Quote Loaded\n"
     ]
    },
    {
     "name": "stderr",
     "output_type": "stream",
     "text": [
      "\n",
      " 21%|█████████████████▊                                                                 | 3/14 [00:01<00:04,  2.58it/s]"
     ]
    },
    {
     "name": "stdout",
     "output_type": "stream",
     "text": [
      "Getting Original Date\n",
      "Pointing Date is -  5 (Day of the week)\n",
      "Checking Next Day\n",
      "Getting quots \n",
      "Ticker:  aro \n",
      "Date:  2006-02-06\n",
      "Quote Loaded\n"
     ]
    },
    {
     "name": "stderr",
     "output_type": "stream",
     "text": [
      "\n",
      " 29%|███████████████████████▋                                                           | 4/14 [00:01<00:03,  2.72it/s]"
     ]
    },
    {
     "name": "stdout",
     "output_type": "stream",
     "text": [
      "Getting Original Date\n",
      "Pointing Date is -  5 (Day of the week)\n",
      "Checking Next Day\n",
      "Getting quots \n",
      "Ticker:  aro \n",
      "Date:  2006-05-08\n",
      "Quote Loaded\n"
     ]
    },
    {
     "name": "stderr",
     "output_type": "stream",
     "text": [
      "\n",
      " 36%|█████████████████████████████▋                                                     | 5/14 [00:01<00:03,  2.65it/s]"
     ]
    },
    {
     "name": "stdout",
     "output_type": "stream",
     "text": [
      "Getting Original Date\n",
      "Getting quots \n",
      "Ticker:  aro \n",
      "Date:  2007-01-19\n",
      "Quote Loaded\n"
     ]
    },
    {
     "name": "stderr",
     "output_type": "stream",
     "text": [
      "\n",
      " 43%|███████████████████████████████████▌                                               | 6/14 [00:02<00:02,  2.72it/s]"
     ]
    },
    {
     "name": "stdout",
     "output_type": "stream",
     "text": [
      "Getting Original Date\n",
      "Pointing Date is -  6 (Day of the week)\n",
      "Checking Next Day\n",
      "Getting quots \n",
      "Ticker:  aro \n",
      "Date:  2007-02-20\n",
      "Quote Loaded\n"
     ]
    },
    {
     "name": "stderr",
     "output_type": "stream",
     "text": [
      "\n",
      " 50%|█████████████████████████████████████████▌                                         | 7/14 [00:02<00:02,  2.58it/s]"
     ]
    },
    {
     "name": "stdout",
     "output_type": "stream",
     "text": [
      "Getting Original Date\n",
      "Getting quots \n",
      "Ticker:  aro \n",
      "Date:  2007-05-17\n",
      "Quote Loaded\n"
     ]
    },
    {
     "name": "stderr",
     "output_type": "stream",
     "text": [
      "\n",
      " 57%|███████████████████████████████████████████████▍                                   | 8/14 [00:03<00:02,  2.40it/s]"
     ]
    },
    {
     "name": "stdout",
     "output_type": "stream",
     "text": [
      "Getting Original Date\n",
      "Pointing Date is -  5 (Day of the week)\n",
      "Checking Next Day\n",
      "Cannot Get data from Quandl. Skipping this one\n",
      "Getting Original Date\n",
      "Getting quots \n",
      "Ticker:  aro \n",
      "Date:  2009-12-08\n",
      "Quote Loaded\n"
     ]
    },
    {
     "name": "stderr",
     "output_type": "stream",
     "text": [
      "\n",
      " 71%|██████████████████████████████████████████████████████████▌                       | 10/14 [00:03<00:01,  2.61it/s]"
     ]
    },
    {
     "name": "stdout",
     "output_type": "stream",
     "text": [
      "Getting Original Date\n",
      "Pointing Date is -  6 (Day of the week)\n",
      "Checking Next Day\n",
      "Getting quots \n",
      "Ticker:  aro \n",
      "Date:  2012-11-05\n",
      "Quote Loaded\n"
     ]
    },
    {
     "name": "stderr",
     "output_type": "stream",
     "text": [
      "\n",
      " 79%|████████████████████████████████████████████████████████████████▍                 | 11/14 [00:04<00:01,  2.53it/s]"
     ]
    },
    {
     "name": "stdout",
     "output_type": "stream",
     "text": [
      "Getting Original Date\n",
      "Getting quots \n",
      "Ticker:  aro \n",
      "Date:  2012-11-26\n",
      "Quote Loaded\n"
     ]
    },
    {
     "name": "stderr",
     "output_type": "stream",
     "text": [
      "\n",
      " 86%|██████████████████████████████████████████████████████████████████████▎           | 12/14 [00:04<00:00,  2.51it/s]"
     ]
    },
    {
     "name": "stdout",
     "output_type": "stream",
     "text": [
      "Getting Original Date\n",
      "Getting quots \n",
      "Ticker:  aro \n",
      "Date:  2013-04-23\n",
      "Quote Loaded\n"
     ]
    },
    {
     "name": "stderr",
     "output_type": "stream",
     "text": [
      "\n",
      " 93%|████████████████████████████████████████████████████████████████████████████▏     | 13/14 [00:05<00:00,  2.55it/s]"
     ]
    },
    {
     "name": "stdout",
     "output_type": "stream",
     "text": [
      "Getting Original Date\n",
      "Getting quots \n",
      "Ticker:  aro \n",
      "Date:  2013-05-09\n",
      "Quote Loaded\n"
     ]
    },
    {
     "name": "stderr",
     "output_type": "stream",
     "text": [
      "\n",
      "100%|██████████████████████████████████████████████████████████████████████████████████| 14/14 [00:05<00:00,  2.58it/s]\n"
     ]
    },
    {
     "name": "stdout",
     "output_type": "stream",
     "text": [
      "Will save to file:  c:\\data\\finml\\PriceVsSNP500_aro.csv\n",
      "Getting Stock Price Data...\n"
     ]
    },
    {
     "name": "stderr",
     "output_type": "stream",
     "text": [
      "\n",
      "  0%|                                                                                            | 0/5 [00:00<?, ?it/s]"
     ]
    },
    {
     "name": "stdout",
     "output_type": "stream",
     "text": [
      "Getting Original Date\n",
      "Getting quots \n",
      "Ticker:  aon \n",
      "Date:  2011-08-18\n",
      "Quote Loaded\n"
     ]
    },
    {
     "name": "stderr",
     "output_type": "stream",
     "text": [
      "\n",
      " 20%|████████████████▊                                                                   | 1/5 [00:00<00:01,  3.15it/s]"
     ]
    },
    {
     "name": "stdout",
     "output_type": "stream",
     "text": [
      "Getting Original Date\n",
      "Getting quots \n",
      "Ticker:  aon \n",
      "Date:  2011-12-21\n",
      "Quote Loaded\n"
     ]
    },
    {
     "name": "stderr",
     "output_type": "stream",
     "text": [
      "\n",
      " 40%|█████████████████████████████████▌                                                  | 2/5 [00:00<00:01,  2.41it/s]"
     ]
    },
    {
     "name": "stdout",
     "output_type": "stream",
     "text": [
      "Getting Original Date\n",
      "Getting quots \n",
      "Ticker:  aon \n",
      "Date:  2011-12-28\n",
      "Quote Loaded\n"
     ]
    },
    {
     "name": "stderr",
     "output_type": "stream",
     "text": [
      "\n",
      " 60%|██████████████████████████████████████████████████▍                                 | 3/5 [00:01<00:00,  2.23it/s]"
     ]
    },
    {
     "name": "stdout",
     "output_type": "stream",
     "text": [
      "Getting Original Date\n",
      "Pointing Date is -  5 (Day of the week)\n",
      "Checking Next Day\n",
      "Pointing Date is -  6 (Day of the week)\n",
      "Checking Next Day\n",
      "Getting quots \n",
      "Ticker:  aon \n",
      "Date:  2012-01-31\n",
      "Quote Loaded\n"
     ]
    },
    {
     "name": "stderr",
     "output_type": "stream",
     "text": [
      "\n",
      " 80%|███████████████████████████████████████████████████████████████████▏                | 4/5 [00:01<00:00,  2.04it/s]"
     ]
    },
    {
     "name": "stdout",
     "output_type": "stream",
     "text": [
      "Getting Original Date\n",
      "Pointing Date is -  5 (Day of the week)\n",
      "Checking Next Day\n",
      "Getting quots \n",
      "Ticker:  aon \n",
      "Date:  2012-01-30\n",
      "Quote Loaded\n"
     ]
    },
    {
     "name": "stderr",
     "output_type": "stream",
     "text": [
      "\n",
      "100%|████████████████████████████████████████████████████████████████████████████████████| 5/5 [00:02<00:00,  2.02it/s]\n"
     ]
    },
    {
     "name": "stdout",
     "output_type": "stream",
     "text": [
      "Will save to file:  c:\\data\\finml\\PriceVsSNP500_aon.csv\n",
      "Getting Stock Price Data...\n"
     ]
    },
    {
     "name": "stderr",
     "output_type": "stream",
     "text": [
      "\n",
      "  0%|                                                                                           | 0/15 [00:00<?, ?it/s]"
     ]
    },
    {
     "name": "stdout",
     "output_type": "stream",
     "text": [
      "Getting Original Date\n",
      "Getting quots \n",
      "Ticker:  ati \n",
      "Date:  2004-08-20\n",
      "Quote Loaded\n"
     ]
    },
    {
     "name": "stderr",
     "output_type": "stream",
     "text": [
      "\n",
      "  7%|█████▌                                                                             | 1/15 [00:00<00:04,  3.28it/s]"
     ]
    },
    {
     "name": "stdout",
     "output_type": "stream",
     "text": [
      "Getting Original Date\n",
      "Pointing Date is -  6 (Day of the week)\n",
      "Checking Next Day\n",
      "Getting quots \n",
      "Ticker:  ati \n",
      "Date:  2005-03-07\n",
      "Quote Loaded\n"
     ]
    },
    {
     "name": "stderr",
     "output_type": "stream",
     "text": [
      "\n",
      " 13%|███████████                                                                        | 2/15 [00:00<00:04,  3.02it/s]"
     ]
    },
    {
     "name": "stdout",
     "output_type": "stream",
     "text": [
      "Getting Original Date\n",
      "Getting quots \n",
      "Ticker:  ati \n",
      "Date:  2006-06-16\n",
      "Quote Loaded\n"
     ]
    },
    {
     "name": "stderr",
     "output_type": "stream",
     "text": [
      "\n",
      " 20%|████████████████▌                                                                  | 3/15 [00:01<00:04,  2.49it/s]"
     ]
    },
    {
     "name": "stdout",
     "output_type": "stream",
     "text": [
      "Getting Original Date\n",
      "Getting quots \n",
      "Ticker:  ati \n",
      "Date:  2007-05-17\n",
      "Quote Loaded\n"
     ]
    },
    {
     "name": "stderr",
     "output_type": "stream",
     "text": [
      "\n",
      " 27%|██████████████████████▏                                                            | 4/15 [00:01<00:04,  2.59it/s]"
     ]
    },
    {
     "name": "stdout",
     "output_type": "stream",
     "text": [
      "Getting Original Date\n",
      "Getting quots \n",
      "Ticker:  ati \n",
      "Date:  2007-06-18\n",
      "Quote Loaded\n"
     ]
    },
    {
     "name": "stderr",
     "output_type": "stream",
     "text": [
      "\n",
      " 33%|███████████████████████████▋                                                       | 5/15 [00:01<00:03,  2.54it/s]"
     ]
    },
    {
     "name": "stdout",
     "output_type": "stream",
     "text": [
      "Getting Original Date\n",
      "Getting quots \n",
      "Ticker:  ati \n",
      "Date:  2007-10-24\n",
      "Quote Loaded\n"
     ]
    },
    {
     "name": "stderr",
     "output_type": "stream",
     "text": [
      "\n",
      " 40%|█████████████████████████████████▏                                                 | 6/15 [00:02<00:03,  2.64it/s]"
     ]
    },
    {
     "name": "stdout",
     "output_type": "stream",
     "text": [
      "Getting Original Date\n",
      "Getting quots \n",
      "Ticker:  ati \n",
      "Date:  2008-01-23\n",
      "Quote Loaded\n"
     ]
    },
    {
     "name": "stderr",
     "output_type": "stream",
     "text": [
      "\n",
      " 47%|██████████████████████████████████████▋                                            | 7/15 [00:02<00:03,  2.46it/s]"
     ]
    },
    {
     "name": "stdout",
     "output_type": "stream",
     "text": [
      "Getting Original Date\n",
      "Pointing Date is -  6 (Day of the week)\n",
      "Checking Next Day\n",
      "Getting quots \n",
      "Ticker:  ati \n",
      "Date:  2008-01-29\n",
      "Quote Loaded\n"
     ]
    },
    {
     "name": "stderr",
     "output_type": "stream",
     "text": [
      "\n",
      " 53%|████████████████████████████████████████████▎                                      | 8/15 [00:03<00:02,  2.42it/s]"
     ]
    },
    {
     "name": "stdout",
     "output_type": "stream",
     "text": [
      "Getting Original Date\n",
      "Getting quots \n",
      "Ticker:  ati \n",
      "Date:  2008-12-31\n",
      "Quote Loaded\n"
     ]
    },
    {
     "name": "stderr",
     "output_type": "stream",
     "text": [
      "\n",
      " 60%|█████████████████████████████████████████████████▊                                 | 9/15 [00:03<00:02,  2.47it/s]"
     ]
    },
    {
     "name": "stdout",
     "output_type": "stream",
     "text": [
      "Getting Original Date\n",
      "Getting quots \n",
      "Ticker:  ati \n",
      "Date:  2009-05-01\n",
      "Quote Loaded\n"
     ]
    },
    {
     "name": "stderr",
     "output_type": "stream",
     "text": [
      "\n",
      " 67%|██████████████████████████████████████████████████████▋                           | 10/15 [00:03<00:01,  2.51it/s]"
     ]
    },
    {
     "name": "stdout",
     "output_type": "stream",
     "text": [
      "Getting Original Date\n",
      "Getting quots \n",
      "Ticker:  ati \n",
      "Date:  2011-11-08\n",
      "Quote Loaded\n"
     ]
    },
    {
     "name": "stderr",
     "output_type": "stream",
     "text": [
      "\n",
      " 73%|████████████████████████████████████████████████████████████▏                     | 11/15 [00:04<00:01,  2.55it/s]"
     ]
    },
    {
     "name": "stdout",
     "output_type": "stream",
     "text": [
      "Getting Original Date\n",
      "Getting quots \n",
      "Ticker:  ati \n",
      "Date:  2011-12-29\n",
      "Quote Loaded\n"
     ]
    },
    {
     "name": "stderr",
     "output_type": "stream",
     "text": [
      "\n",
      " 80%|█████████████████████████████████████████████████████████████████▌                | 12/15 [00:04<00:01,  2.50it/s]"
     ]
    },
    {
     "name": "stdout",
     "output_type": "stream",
     "text": [
      "Getting Original Date\n",
      "Getting quots \n",
      "Ticker:  ati \n",
      "Date:  2012-02-28\n",
      "Quote Loaded\n"
     ]
    },
    {
     "name": "stderr",
     "output_type": "stream",
     "text": [
      "\n",
      " 87%|███████████████████████████████████████████████████████████████████████           | 13/15 [00:05<00:00,  2.53it/s]"
     ]
    },
    {
     "name": "stdout",
     "output_type": "stream",
     "text": [
      "Getting Original Date\n",
      "Getting quots \n",
      "Ticker:  ati \n",
      "Date:  2012-09-18\n",
      "Quote Loaded\n"
     ]
    },
    {
     "name": "stderr",
     "output_type": "stream",
     "text": [
      "\n",
      " 93%|████████████████████████████████████████████████████████████████████████████▌     | 14/15 [00:05<00:00,  2.49it/s]"
     ]
    },
    {
     "name": "stdout",
     "output_type": "stream",
     "text": [
      "Getting Original Date\n",
      "Getting quots \n",
      "Ticker:  ati \n",
      "Date:  2013-05-14\n",
      "Quote Loaded\n"
     ]
    },
    {
     "name": "stderr",
     "output_type": "stream",
     "text": [
      "\n",
      "100%|██████████████████████████████████████████████████████████████████████████████████| 15/15 [00:05<00:00,  2.51it/s]\n"
     ]
    },
    {
     "name": "stdout",
     "output_type": "stream",
     "text": [
      "Will save to file:  c:\\data\\finml\\PriceVsSNP500_ati.csv\n",
      "Getting Stock Price Data...\n"
     ]
    },
    {
     "name": "stderr",
     "output_type": "stream",
     "text": [
      "\n",
      "  0%|                                                                                            | 0/9 [00:00<?, ?it/s]"
     ]
    },
    {
     "name": "stdout",
     "output_type": "stream",
     "text": [
      "Getting Original Date\n",
      "Pointing Date is -  6 (Day of the week)\n",
      "Checking Next Day\n",
      "Getting quots \n",
      "Ticker:  ann \n",
      "Date:  2003-10-28\n",
      "Quote Loaded\n"
     ]
    },
    {
     "name": "stderr",
     "output_type": "stream",
     "text": [
      "\n",
      " 11%|█████████▎                                                                          | 1/9 [00:00<00:03,  2.21it/s]"
     ]
    },
    {
     "name": "stdout",
     "output_type": "stream",
     "text": [
      "Getting Original Date\n",
      "Getting quots \n",
      "Ticker:  ann \n",
      "Date:  2004-09-23\n",
      "Quote Loaded\n"
     ]
    },
    {
     "name": "stderr",
     "output_type": "stream",
     "text": [
      "\n",
      " 22%|██████████████████▋                                                                 | 2/9 [00:00<00:02,  2.34it/s]"
     ]
    },
    {
     "name": "stdout",
     "output_type": "stream",
     "text": [
      "Getting Original Date\n",
      "Getting quots \n",
      "Ticker:  ann \n",
      "Date:  2004-10-13\n",
      "Quote Loaded\n"
     ]
    },
    {
     "name": "stderr",
     "output_type": "stream",
     "text": [
      "\n",
      " 33%|████████████████████████████                                                        | 3/9 [00:01<00:02,  2.33it/s]"
     ]
    },
    {
     "name": "stdout",
     "output_type": "stream",
     "text": [
      "Getting Original Date\n",
      "Getting quots \n",
      "Ticker:  ann \n",
      "Date:  2005-02-07\n",
      "Quote Loaded\n"
     ]
    },
    {
     "name": "stderr",
     "output_type": "stream",
     "text": [
      "\n",
      " 44%|█████████████████████████████████████▎                                              | 4/9 [00:01<00:02,  2.23it/s]"
     ]
    },
    {
     "name": "stdout",
     "output_type": "stream",
     "text": [
      "Getting Original Date\n",
      "Getting quots \n",
      "Ticker:  ann \n",
      "Date:  2005-04-19\n",
      "Quote Loaded\n"
     ]
    },
    {
     "name": "stderr",
     "output_type": "stream",
     "text": [
      "\n",
      " 56%|██████████████████████████████████████████████▋                                     | 5/9 [00:02<00:01,  2.24it/s]"
     ]
    },
    {
     "name": "stdout",
     "output_type": "stream",
     "text": [
      "Getting Original Date\n",
      "Getting quots \n",
      "Ticker:  ann \n",
      "Date:  2006-09-05\n",
      "Quote Loaded\n"
     ]
    },
    {
     "name": "stderr",
     "output_type": "stream",
     "text": [
      "\n",
      " 67%|████████████████████████████████████████████████████████                            | 6/9 [00:02<00:01,  2.21it/s]"
     ]
    },
    {
     "name": "stdout",
     "output_type": "stream",
     "text": [
      "Getting Original Date\n",
      "Getting quots \n",
      "Ticker:  ann \n",
      "Date:  2007-04-04\n",
      "Quote Loaded\n"
     ]
    },
    {
     "name": "stderr",
     "output_type": "stream",
     "text": [
      "\n",
      " 78%|█████████████████████████████████████████████████████████████████▎                  | 7/9 [00:03<00:00,  2.21it/s]"
     ]
    },
    {
     "name": "stdout",
     "output_type": "stream",
     "text": [
      "Getting Original Date\n",
      "Getting quots \n",
      "Ticker:  ann \n",
      "Date:  2008-12-10\n",
      "Quote Loaded\n"
     ]
    },
    {
     "name": "stderr",
     "output_type": "stream",
     "text": [
      "\n",
      " 89%|██████████████████████████████████████████████████████████████████████████▋         | 8/9 [00:03<00:00,  2.08it/s]"
     ]
    },
    {
     "name": "stdout",
     "output_type": "stream",
     "text": [
      "Getting Original Date\n",
      "Pointing Date is -  6 (Day of the week)\n",
      "Checking Next Day\n",
      "Getting quots \n",
      "Ticker:  ann \n",
      "Date:  2013-05-14\n",
      "Quote Loaded\n"
     ]
    },
    {
     "name": "stderr",
     "output_type": "stream",
     "text": [
      "\n",
      "100%|████████████████████████████████████████████████████████████████████████████████████| 9/9 [00:04<00:00,  2.06it/s]\n"
     ]
    },
    {
     "name": "stdout",
     "output_type": "stream",
     "text": [
      "Will save to file:  c:\\data\\finml\\PriceVsSNP500_ann.csv\n",
      "Getting Stock Price Data...\n"
     ]
    },
    {
     "name": "stderr",
     "output_type": "stream",
     "text": [
      "\n",
      "  0%|                                                                                           | 0/17 [00:00<?, ?it/s]"
     ]
    },
    {
     "name": "stdout",
     "output_type": "stream",
     "text": [
      "Getting Original Date\n",
      "Getting quots \n",
      "Ticker:  altr \n",
      "Date:  2004-06-22\n",
      "Quote Loaded\n"
     ]
    },
    {
     "name": "stderr",
     "output_type": "stream",
     "text": [
      "\n",
      "  6%|████▉                                                                              | 1/17 [00:00<00:07,  2.25it/s]"
     ]
    },
    {
     "name": "stdout",
     "output_type": "stream",
     "text": [
      "Getting Original Date\n",
      "Getting quots \n",
      "Ticker:  altr \n",
      "Date:  2004-09-17\n",
      "Quote Loaded\n"
     ]
    },
    {
     "name": "stderr",
     "output_type": "stream",
     "text": [
      "\n",
      " 12%|█████████▊                                                                         | 2/17 [00:00<00:07,  2.10it/s]"
     ]
    },
    {
     "name": "stdout",
     "output_type": "stream",
     "text": [
      "Getting Original Date\n",
      "Getting quots \n",
      "Ticker:  altr \n",
      "Date:  2004-10-13\n",
      "Quote Loaded\n"
     ]
    },
    {
     "name": "stderr",
     "output_type": "stream",
     "text": [
      "\n",
      " 18%|██████████████▋                                                                    | 3/17 [00:01<00:06,  2.04it/s]"
     ]
    },
    {
     "name": "stdout",
     "output_type": "stream",
     "text": [
      "Getting Original Date\n",
      "Getting quots \n",
      "Ticker:  altr \n",
      "Date:  2004-12-09\n",
      "Quote Loaded\n"
     ]
    },
    {
     "name": "stderr",
     "output_type": "stream",
     "text": [
      "\n",
      " 24%|███████████████████▌                                                               | 4/17 [00:01<00:05,  2.22it/s]"
     ]
    },
    {
     "name": "stdout",
     "output_type": "stream",
     "text": [
      "Getting Original Date\n",
      "Getting quots \n",
      "Ticker:  altr \n",
      "Date:  2005-02-04\n",
      "Quote Loaded\n"
     ]
    },
    {
     "name": "stderr",
     "output_type": "stream",
     "text": [
      "\n",
      " 29%|████████████████████████▍                                                          | 5/17 [00:02<00:05,  2.19it/s]"
     ]
    },
    {
     "name": "stdout",
     "output_type": "stream",
     "text": [
      "Getting Original Date\n",
      "Getting quots \n",
      "Ticker:  altr \n",
      "Date:  2005-05-02\n",
      "Quote Loaded\n"
     ]
    },
    {
     "name": "stderr",
     "output_type": "stream",
     "text": [
      "\n",
      " 35%|█████████████████████████████▎                                                     | 6/17 [00:02<00:04,  2.30it/s]"
     ]
    },
    {
     "name": "stdout",
     "output_type": "stream",
     "text": [
      "Getting Original Date\n",
      "Getting quots \n",
      "Ticker:  altr \n",
      "Date:  2005-08-29\n",
      "Quote Loaded\n"
     ]
    },
    {
     "name": "stderr",
     "output_type": "stream",
     "text": [
      "\n",
      " 41%|██████████████████████████████████▏                                                | 7/17 [00:03<00:04,  2.25it/s]"
     ]
    },
    {
     "name": "stdout",
     "output_type": "stream",
     "text": [
      "Getting Original Date\n",
      "Getting quots \n",
      "Ticker:  altr \n",
      "Date:  2005-09-07\n",
      "Quote Loaded\n"
     ]
    },
    {
     "name": "stderr",
     "output_type": "stream",
     "text": [
      "\n",
      " 47%|███████████████████████████████████████                                            | 8/17 [00:03<00:04,  2.21it/s]"
     ]
    },
    {
     "name": "stdout",
     "output_type": "stream",
     "text": [
      "Getting Original Date\n",
      "Pointing Date is -  6 (Day of the week)\n",
      "Checking Next Day\n",
      "Getting quots \n",
      "Ticker:  altr \n",
      "Date:  2007-02-26\n",
      "Quote Loaded\n"
     ]
    },
    {
     "name": "stderr",
     "output_type": "stream",
     "text": [
      "\n",
      " 53%|███████████████████████████████████████████▉                                       | 9/17 [00:04<00:03,  2.22it/s]"
     ]
    },
    {
     "name": "stdout",
     "output_type": "stream",
     "text": [
      "Getting Original Date\n",
      "Getting quots \n",
      "Ticker:  altr \n",
      "Date:  2008-01-23\n",
      "Quote Loaded\n"
     ]
    },
    {
     "name": "stderr",
     "output_type": "stream",
     "text": [
      "\n",
      " 59%|████████████████████████████████████████████████▏                                 | 10/17 [00:04<00:03,  2.15it/s]"
     ]
    },
    {
     "name": "stdout",
     "output_type": "stream",
     "text": [
      "Getting Original Date\n",
      "Getting quots \n",
      "Ticker:  altr \n",
      "Date:  2008-02-20\n",
      "Quote Loaded\n"
     ]
    },
    {
     "name": "stderr",
     "output_type": "stream",
     "text": [
      "\n",
      " 65%|█████████████████████████████████████████████████████                             | 11/17 [00:05<00:02,  2.14it/s]"
     ]
    },
    {
     "name": "stdout",
     "output_type": "stream",
     "text": [
      "Getting Original Date\n",
      "Getting quots \n",
      "Ticker:  altr \n",
      "Date:  2008-12-12\n",
      "Quote Loaded\n"
     ]
    },
    {
     "name": "stderr",
     "output_type": "stream",
     "text": [
      "\n",
      " 71%|█████████████████████████████████████████████████████████▉                        | 12/17 [00:05<00:02,  2.19it/s]"
     ]
    },
    {
     "name": "stdout",
     "output_type": "stream",
     "text": [
      "Getting Original Date\n",
      "Getting quots \n",
      "Ticker:  altr \n",
      "Date:  2008-12-22\n",
      "Quote Loaded\n"
     ]
    },
    {
     "name": "stderr",
     "output_type": "stream",
     "text": [
      "\n",
      " 76%|██████████████████████████████████████████████████████████████▋                   | 13/17 [00:05<00:01,  2.18it/s]"
     ]
    },
    {
     "name": "stdout",
     "output_type": "stream",
     "text": [
      "Getting Original Date\n",
      "Pointing Date is -  6 (Day of the week)\n",
      "Checking Next Day\n",
      "Getting quots \n",
      "Ticker:  altr \n",
      "Date:  2011-10-24\n",
      "Quote Loaded\n"
     ]
    },
    {
     "name": "stderr",
     "output_type": "stream",
     "text": [
      "\n",
      " 82%|███████████████████████████████████████████████████████████████████▌              | 14/17 [00:06<00:01,  2.23it/s]"
     ]
    },
    {
     "name": "stdout",
     "output_type": "stream",
     "text": [
      "Getting Original Date\n",
      "Getting quots \n",
      "Ticker:  altr \n",
      "Date:  2012-03-09\n",
      "Quote Loaded\n"
     ]
    },
    {
     "name": "stderr",
     "output_type": "stream",
     "text": [
      "\n",
      " 88%|████████████████████████████████████████████████████████████████████████▎         | 15/17 [00:06<00:00,  2.24it/s]"
     ]
    },
    {
     "name": "stdout",
     "output_type": "stream",
     "text": [
      "Getting Original Date\n",
      "Getting quots \n",
      "Ticker:  altr \n",
      "Date:  2013-02-06\n",
      "Quote Loaded\n"
     ]
    },
    {
     "name": "stderr",
     "output_type": "stream",
     "text": [
      "\n",
      " 94%|█████████████████████████████████████████████████████████████████████████████▏    | 16/17 [00:07<00:00,  2.22it/s]"
     ]
    },
    {
     "name": "stdout",
     "output_type": "stream",
     "text": [
      "Getting Original Date\n",
      "Pointing Date is -  6 (Day of the week)\n",
      "Checking Next Day\n",
      "Getting quots \n",
      "Ticker:  altr \n",
      "Date:  2013-06-03\n",
      "Quote Loaded\n"
     ]
    },
    {
     "name": "stderr",
     "output_type": "stream",
     "text": [
      "\n",
      "100%|██████████████████████████████████████████████████████████████████████████████████| 17/17 [00:07<00:00,  2.27it/s]\n"
     ]
    },
    {
     "name": "stdout",
     "output_type": "stream",
     "text": [
      "Will save to file:  c:\\data\\finml\\PriceVsSNP500_altr.csv\n",
      "Getting Stock Price Data...\n"
     ]
    },
    {
     "name": "stderr",
     "output_type": "stream",
     "text": [
      "\n",
      "  0%|                                                                                           | 0/44 [00:00<?, ?it/s]"
     ]
    },
    {
     "name": "stdout",
     "output_type": "stream",
     "text": [
      "Getting Original Date\n",
      "Pointing Date is -  6 (Day of the week)\n",
      "Checking Next Day\n",
      "Getting quots \n",
      "Ticker:  aapl \n",
      "Date:  2003-12-08\n",
      "Quote Loaded\n"
     ]
    },
    {
     "name": "stderr",
     "output_type": "stream",
     "text": [
      "\n",
      "  2%|█▉                                                                                 | 1/44 [00:00<00:18,  2.38it/s]"
     ]
    },
    {
     "name": "stdout",
     "output_type": "stream",
     "text": [
      "Getting Original Date\n",
      "Getting quots \n",
      "Ticker:  aapl \n",
      "Date:  2004-02-03\n",
      "Quote Loaded\n"
     ]
    },
    {
     "name": "stderr",
     "output_type": "stream",
     "text": [
      "\n",
      "  5%|███▊                                                                               | 2/44 [00:00<00:16,  2.55it/s]"
     ]
    },
    {
     "name": "stdout",
     "output_type": "stream",
     "text": [
      "Getting Original Date\n",
      "Getting quots \n",
      "Ticker:  aapl \n",
      "Date:  2004-06-03\n",
      "Quote Loaded\n"
     ]
    },
    {
     "name": "stderr",
     "output_type": "stream",
     "text": [
      "\n",
      "  7%|█████▋                                                                             | 3/44 [00:01<00:16,  2.41it/s]"
     ]
    },
    {
     "name": "stdout",
     "output_type": "stream",
     "text": [
      "Getting Original Date\n",
      "Getting quots \n",
      "Ticker:  aapl \n",
      "Date:  2004-08-10\n",
      "Quote Loaded\n"
     ]
    },
    {
     "name": "stderr",
     "output_type": "stream",
     "text": [
      "\n",
      "  9%|███████▌                                                                           | 4/44 [00:01<00:17,  2.30it/s]"
     ]
    },
    {
     "name": "stdout",
     "output_type": "stream",
     "text": [
      "Getting Original Date\n",
      "Getting quots \n",
      "Ticker:  aapl \n",
      "Date:  2004-10-12\n",
      "Quote Loaded\n"
     ]
    },
    {
     "name": "stderr",
     "output_type": "stream",
     "text": [
      "\n",
      " 11%|█████████▍                                                                         | 5/44 [00:02<00:17,  2.21it/s]"
     ]
    },
    {
     "name": "stdout",
     "output_type": "stream",
     "text": [
      "Getting Original Date\n",
      "Pointing Date is -  5 (Day of the week)\n",
      "Checking Next Day\n",
      "Getting quots \n",
      "Ticker:  aapl \n",
      "Date:  2004-12-06\n",
      "Quote Loaded\n"
     ]
    },
    {
     "name": "stderr",
     "output_type": "stream",
     "text": [
      "\n",
      " 14%|███████████▎                                                                       | 6/44 [00:02<00:17,  2.16it/s]"
     ]
    },
    {
     "name": "stdout",
     "output_type": "stream",
     "text": [
      "Getting Original Date\n",
      "Getting quots \n",
      "Ticker:  aapl \n",
      "Date:  2005-01-26\n",
      "Quote Loaded\n"
     ]
    },
    {
     "name": "stderr",
     "output_type": "stream",
     "text": [
      "\n",
      " 16%|█████████████▏                                                                     | 7/44 [00:03<00:17,  2.13it/s]"
     ]
    },
    {
     "name": "stdout",
     "output_type": "stream",
     "text": [
      "Getting Original Date\n",
      "Getting quots \n",
      "Ticker:  aapl \n",
      "Date:  2005-02-04\n",
      "Quote Loaded\n"
     ]
    },
    {
     "name": "stderr",
     "output_type": "stream",
     "text": [
      "\n",
      " 18%|███████████████                                                                    | 8/44 [00:03<00:16,  2.20it/s]"
     ]
    },
    {
     "name": "stdout",
     "output_type": "stream",
     "text": [
      "Getting Original Date\n",
      "Getting quots \n",
      "Ticker:  aapl \n",
      "Date:  2005-03-01\n",
      "Quote Loaded\n"
     ]
    },
    {
     "name": "stderr",
     "output_type": "stream",
     "text": [
      "\n",
      " 20%|████████████████▉                                                                  | 9/44 [00:03<00:15,  2.27it/s]"
     ]
    },
    {
     "name": "stdout",
     "output_type": "stream",
     "text": [
      "Getting Original Date\n",
      "Pointing Date is -  5 (Day of the week)\n",
      "Checking Next Day\n",
      "Pointing Date is -  6 (Day of the week)\n",
      "Checking Next Day\n",
      "Getting quots \n",
      "Ticker:  aapl \n",
      "Date:  2005-12-20\n",
      "Quote Loaded\n"
     ]
    },
    {
     "name": "stderr",
     "output_type": "stream",
     "text": [
      "\n",
      " 23%|██████████████████▋                                                               | 10/44 [00:04<00:15,  2.26it/s]"
     ]
    },
    {
     "name": "stdout",
     "output_type": "stream",
     "text": [
      "Getting Original Date\n",
      "Getting quots \n",
      "Ticker:  aapl \n",
      "Date:  2006-01-25\n",
      "Quote Loaded\n"
     ]
    },
    {
     "name": "stderr",
     "output_type": "stream",
     "text": [
      "\n",
      " 25%|████████████████████▌                                                             | 11/44 [00:04<00:14,  2.23it/s]"
     ]
    },
    {
     "name": "stdout",
     "output_type": "stream",
     "text": [
      "Getting Original Date\n",
      "Getting quots \n",
      "Ticker:  aapl \n",
      "Date:  2006-02-03\n",
      "Quote Loaded\n"
     ]
    },
    {
     "name": "stderr",
     "output_type": "stream",
     "text": [
      "\n",
      " 27%|██████████████████████▎                                                           | 12/44 [00:05<00:14,  2.22it/s]"
     ]
    },
    {
     "name": "stdout",
     "output_type": "stream",
     "text": [
      "Getting Original Date\n",
      "Getting quots \n",
      "Ticker:  aapl \n",
      "Date:  2006-02-07\n",
      "Quote Loaded\n"
     ]
    },
    {
     "name": "stderr",
     "output_type": "stream",
     "text": [
      "\n",
      " 30%|████████████████████████▏                                                         | 13/44 [00:05<00:13,  2.25it/s]"
     ]
    },
    {
     "name": "stdout",
     "output_type": "stream",
     "text": [
      "Getting Original Date\n",
      "Getting quots \n",
      "Ticker:  aapl \n",
      "Date:  2006-02-17\n",
      "Quote Loaded\n"
     ]
    },
    {
     "name": "stderr",
     "output_type": "stream",
     "text": [
      "\n",
      " 32%|██████████████████████████                                                        | 14/44 [00:06<00:13,  2.20it/s]"
     ]
    },
    {
     "name": "stdout",
     "output_type": "stream",
     "text": [
      "Getting Original Date\n",
      "Pointing Date is -  5 (Day of the week)\n",
      "Checking Next Day\n",
      "Cannot Get data from Quandl. Skipping this one\n",
      "Getting Original Date\n",
      "Cannot Get data from Quandl. Skipping this one\n",
      "Getting Original Date\n",
      "Getting quots \n",
      "Ticker:  aapl \n",
      "Date:  2008-01-23\n",
      "Quote Loaded\n"
     ]
    },
    {
     "name": "stderr",
     "output_type": "stream",
     "text": [
      "\n",
      " 39%|███████████████████████████████▋                                                  | 17/44 [00:06<00:11,  2.44it/s]"
     ]
    },
    {
     "name": "stdout",
     "output_type": "stream",
     "text": [
      "Getting Original Date\n",
      "Getting quots \n",
      "Ticker:  aapl \n",
      "Date:  2008-10-27\n",
      "Quote Loaded\n"
     ]
    },
    {
     "name": "stderr",
     "output_type": "stream",
     "text": [
      "\n",
      " 41%|█████████████████████████████████▌                                                | 18/44 [00:07<00:10,  2.40it/s]"
     ]
    },
    {
     "name": "stdout",
     "output_type": "stream",
     "text": [
      "Getting Original Date\n",
      "Getting quots \n",
      "Ticker:  aapl \n",
      "Date:  2008-10-29\n",
      "Quote Loaded\n"
     ]
    },
    {
     "name": "stderr",
     "output_type": "stream",
     "text": [
      "\n",
      " 43%|███████████████████████████████████▍                                              | 19/44 [00:08<00:10,  2.37it/s]"
     ]
    },
    {
     "name": "stdout",
     "output_type": "stream",
     "text": [
      "Getting Original Date\n",
      "Getting quots \n",
      "Ticker:  aapl \n",
      "Date:  2008-10-31\n",
      "Quote Loaded\n"
     ]
    },
    {
     "name": "stderr",
     "output_type": "stream",
     "text": [
      "\n",
      " 45%|█████████████████████████████████████▎                                            | 20/44 [00:08<00:09,  2.40it/s]"
     ]
    },
    {
     "name": "stdout",
     "output_type": "stream",
     "text": [
      "Getting Original Date\n",
      "Getting quots \n",
      "Ticker:  aapl \n",
      "Date:  2008-12-03\n",
      "Quote Loaded\n"
     ]
    },
    {
     "name": "stderr",
     "output_type": "stream",
     "text": [
      "\n",
      " 48%|███████████████████████████████████████▏                                          | 21/44 [00:08<00:09,  2.38it/s]"
     ]
    },
    {
     "name": "stdout",
     "output_type": "stream",
     "text": [
      "Getting Original Date\n",
      "Pointing Date is -  6 (Day of the week)\n",
      "Checking Next Day\n",
      "Getting quots \n",
      "Ticker:  aapl \n",
      "Date:  2008-12-09\n",
      "Quote Loaded\n"
     ]
    },
    {
     "name": "stderr",
     "output_type": "stream",
     "text": [
      "\n",
      " 50%|█████████████████████████████████████████                                         | 22/44 [00:09<00:09,  2.36it/s]"
     ]
    },
    {
     "name": "stdout",
     "output_type": "stream",
     "text": [
      "Getting Original Date\n",
      "Getting quots \n",
      "Ticker:  aapl \n",
      "Date:  2008-12-16\n",
      "Quote Loaded\n"
     ]
    },
    {
     "name": "stderr",
     "output_type": "stream",
     "text": [
      "\n",
      " 52%|██████████████████████████████████████████▊                                       | 23/44 [00:09<00:08,  2.38it/s]"
     ]
    },
    {
     "name": "stdout",
     "output_type": "stream",
     "text": [
      "Getting Original Date\n",
      "Getting quots \n",
      "Ticker:  aapl \n",
      "Date:  2008-12-17\n",
      "Quote Loaded\n"
     ]
    },
    {
     "name": "stderr",
     "output_type": "stream",
     "text": [
      "\n",
      " 55%|████████████████████████████████████████████▋                                     | 24/44 [00:10<00:08,  2.36it/s]"
     ]
    },
    {
     "name": "stdout",
     "output_type": "stream",
     "text": [
      "Getting Original Date\n",
      "Cannot Get data from Quandl. Skipping this one\n",
      "Getting Original Date\n",
      "Getting quots \n",
      "Ticker:  aapl \n",
      "Date:  2009-01-12\n",
      "Quote Loaded\n"
     ]
    },
    {
     "name": "stderr",
     "output_type": "stream",
     "text": [
      "\n",
      " 59%|████████████████████████████████████████████████▍                                 | 26/44 [00:10<00:07,  2.44it/s]"
     ]
    },
    {
     "name": "stdout",
     "output_type": "stream",
     "text": [
      "Getting Original Date\n",
      "Getting quots \n",
      "Ticker:  aapl \n",
      "Date:  2009-10-22\n",
      "Quote Loaded\n"
     ]
    },
    {
     "name": "stderr",
     "output_type": "stream",
     "text": [
      "\n",
      " 61%|██████████████████████████████████████████████████▎                               | 27/44 [00:11<00:07,  2.42it/s]"
     ]
    },
    {
     "name": "stdout",
     "output_type": "stream",
     "text": [
      "Getting Original Date\n",
      "Getting quots \n",
      "Ticker:  aapl \n",
      "Date:  2009-11-12\n",
      "Quote Loaded\n"
     ]
    },
    {
     "name": "stderr",
     "output_type": "stream",
     "text": [
      "\n",
      " 64%|████████████████████████████████████████████████████▏                             | 28/44 [00:11<00:06,  2.44it/s]"
     ]
    },
    {
     "name": "stdout",
     "output_type": "stream",
     "text": [
      "Getting Original Date\n",
      "Pointing Date is -  6 (Day of the week)\n",
      "Checking Next Day\n",
      "Getting quots \n",
      "Ticker:  aapl \n",
      "Date:  2011-05-24\n",
      "Quote Loaded\n"
     ]
    },
    {
     "name": "stderr",
     "output_type": "stream",
     "text": [
      "\n",
      " 66%|██████████████████████████████████████████████████████                            | 29/44 [00:11<00:06,  2.42it/s]"
     ]
    },
    {
     "name": "stdout",
     "output_type": "stream",
     "text": [
      "Getting Original Date\n",
      "Getting quots \n",
      "Ticker:  aapl \n",
      "Date:  2011-09-02\n",
      "Quote Loaded\n"
     ]
    },
    {
     "name": "stderr",
     "output_type": "stream",
     "text": [
      "\n",
      " 68%|███████████████████████████████████████████████████████▉                          | 30/44 [00:12<00:05,  2.44it/s]"
     ]
    },
    {
     "name": "stdout",
     "output_type": "stream",
     "text": [
      "Getting Original Date\n",
      "Pointing Date is -  5 (Day of the week)\n",
      "Checking Next Day\n",
      "Pointing Date is -  6 (Day of the week)\n",
      "Checking Next Day\n",
      "Getting quots \n",
      "Ticker:  aapl \n",
      "Date:  2011-09-27\n",
      "Quote Loaded\n"
     ]
    },
    {
     "name": "stderr",
     "output_type": "stream",
     "text": [
      "\n",
      " 70%|█████████████████████████████████████████████████████████▊                        | 31/44 [00:12<00:05,  2.44it/s]"
     ]
    },
    {
     "name": "stdout",
     "output_type": "stream",
     "text": [
      "Getting Original Date\n",
      "Pointing Date is -  5 (Day of the week)\n",
      "Checking Next Day\n",
      "Pointing Date is -  6 (Day of the week)\n",
      "Checking Next Day\n",
      "Getting quots \n",
      "Ticker:  aapl \n",
      "Date:  2011-09-27\n",
      "Quote Loaded\n"
     ]
    },
    {
     "name": "stderr",
     "output_type": "stream",
     "text": [
      "\n",
      " 73%|███████████████████████████████████████████████████████████▋                      | 32/44 [00:13<00:04,  2.44it/s]"
     ]
    },
    {
     "name": "stdout",
     "output_type": "stream",
     "text": [
      "Getting Original Date\n",
      "Pointing Date is -  5 (Day of the week)\n",
      "Checking Next Day\n",
      "Pointing Date is -  6 (Day of the week)\n",
      "Checking Next Day\n",
      "Getting quots \n",
      "Ticker:  aapl \n",
      "Date:  2011-10-11\n",
      "Quote Loaded\n"
     ]
    },
    {
     "name": "stderr",
     "output_type": "stream",
     "text": [
      "\n",
      " 75%|█████████████████████████████████████████████████████████████▌                    | 33/44 [00:13<00:04,  2.46it/s]"
     ]
    },
    {
     "name": "stdout",
     "output_type": "stream",
     "text": [
      "Getting Original Date\n",
      "Getting quots \n",
      "Ticker:  aapl \n",
      "Date:  2011-10-14\n",
      "Quote Loaded\n"
     ]
    },
    {
     "name": "stderr",
     "output_type": "stream",
     "text": [
      "\n",
      " 77%|███████████████████████████████████████████████████████████████▎                  | 34/44 [00:13<00:04,  2.47it/s]"
     ]
    },
    {
     "name": "stdout",
     "output_type": "stream",
     "text": [
      "Getting Original Date\n",
      "Getting quots \n",
      "Ticker:  aapl \n",
      "Date:  2011-11-03\n",
      "Quote Loaded\n"
     ]
    },
    {
     "name": "stderr",
     "output_type": "stream",
     "text": [
      "\n",
      " 80%|█████████████████████████████████████████████████████████████████▏                | 35/44 [00:14<00:03,  2.47it/s]"
     ]
    },
    {
     "name": "stdout",
     "output_type": "stream",
     "text": [
      "Getting Original Date\n",
      "Pointing Date is -  6 (Day of the week)\n",
      "Checking Next Day\n",
      "Getting quots \n",
      "Ticker:  aapl \n",
      "Date:  2012-01-09\n",
      "Quote Loaded\n"
     ]
    },
    {
     "name": "stderr",
     "output_type": "stream",
     "text": [
      "\n",
      " 82%|███████████████████████████████████████████████████████████████████               | 36/44 [00:14<00:03,  2.45it/s]"
     ]
    },
    {
     "name": "stdout",
     "output_type": "stream",
     "text": [
      "Getting Original Date\n",
      "Getting quots \n",
      "Ticker:  aapl \n",
      "Date:  2012-05-15\n",
      "Quote Loaded\n"
     ]
    },
    {
     "name": "stderr",
     "output_type": "stream",
     "text": [
      "\n",
      " 84%|████████████████████████████████████████████████████████████████████▉             | 37/44 [00:15<00:02,  2.44it/s]"
     ]
    },
    {
     "name": "stdout",
     "output_type": "stream",
     "text": [
      "Getting Original Date\n",
      "Pointing Date is -  6 (Day of the week)\n",
      "Checking Next Day\n",
      "Getting quots \n",
      "Ticker:  aapl \n",
      "Date:  2012-09-25\n",
      "Quote Loaded\n"
     ]
    },
    {
     "name": "stderr",
     "output_type": "stream",
     "text": [
      "\n",
      " 86%|██████████████████████████████████████████████████████████████████████▊           | 38/44 [00:15<00:02,  2.44it/s]"
     ]
    },
    {
     "name": "stdout",
     "output_type": "stream",
     "text": [
      "Getting Original Date\n",
      "Getting quots \n",
      "Ticker:  aapl \n",
      "Date:  2012-10-11\n",
      "Quote Loaded\n"
     ]
    },
    {
     "name": "stderr",
     "output_type": "stream",
     "text": [
      "\n",
      " 89%|████████████████████████████████████████████████████████████████████████▋         | 39/44 [00:15<00:02,  2.46it/s]"
     ]
    },
    {
     "name": "stdout",
     "output_type": "stream",
     "text": [
      "Getting Original Date\n",
      "Pointing Date is -  6 (Day of the week)\n",
      "Checking Next Day\n",
      "Getting quots \n",
      "Ticker:  aapl \n",
      "Date:  2012-10-22\n",
      "Quote Loaded\n"
     ]
    },
    {
     "name": "stderr",
     "output_type": "stream",
     "text": [
      "\n",
      " 91%|██████████████████████████████████████████████████████████████████████████▌       | 40/44 [00:16<00:01,  2.47it/s]"
     ]
    },
    {
     "name": "stdout",
     "output_type": "stream",
     "text": [
      "Getting Original Date\n",
      "Pointing Date is -  6 (Day of the week)\n",
      "Checking Next Day\n",
      "Getting quots \n",
      "Ticker:  aapl \n",
      "Date:  2013-01-22\n",
      "Quote Loaded\n"
     ]
    },
    {
     "name": "stderr",
     "output_type": "stream",
     "text": [
      "\n",
      " 93%|████████████████████████████████████████████████████████████████████████████▍     | 41/44 [00:16<00:01,  2.45it/s]"
     ]
    },
    {
     "name": "stdout",
     "output_type": "stream",
     "text": [
      "Getting Original Date\n",
      "Getting quots \n",
      "Ticker:  aapl \n",
      "Date:  2013-04-23\n",
      "Quote Loaded\n"
     ]
    },
    {
     "name": "stderr",
     "output_type": "stream",
     "text": [
      "\n",
      " 95%|██████████████████████████████████████████████████████████████████████████████▎   | 42/44 [00:17<00:00,  2.46it/s]"
     ]
    },
    {
     "name": "stdout",
     "output_type": "stream",
     "text": [
      "Getting Original Date\n",
      "Getting quots \n",
      "Ticker:  aapl \n",
      "Date:  2013-05-16\n",
      "Quote Loaded\n"
     ]
    },
    {
     "name": "stderr",
     "output_type": "stream",
     "text": [
      "\n",
      " 98%|████████████████████████████████████████████████████████████████████████████████▏ | 43/44 [00:17<00:00,  2.47it/s]"
     ]
    },
    {
     "name": "stdout",
     "output_type": "stream",
     "text": [
      "Getting Original Date\n",
      "Pointing Date is -  6 (Day of the week)\n",
      "Checking Next Day\n",
      "Getting quots \n",
      "Ticker:  aapl \n",
      "Date:  2013-08-12\n",
      "Quote Loaded\n"
     ]
    },
    {
     "name": "stderr",
     "output_type": "stream",
     "text": [
      "\n",
      "100%|██████████████████████████████████████████████████████████████████████████████████| 44/44 [00:17<00:00,  2.47it/s]\n"
     ]
    },
    {
     "name": "stdout",
     "output_type": "stream",
     "text": [
      "Will save to file:  c:\\data\\finml\\PriceVsSNP500_aapl.csv\n",
      "Getting Stock Price Data...\n"
     ]
    },
    {
     "name": "stderr",
     "output_type": "stream",
     "text": [
      "\n",
      "  0%|                                                                                           | 0/46 [00:00<?, ?it/s]"
     ]
    },
    {
     "name": "stdout",
     "output_type": "stream",
     "text": [
      "Getting Original Date\n",
      "Getting quots \n",
      "Ticker:  amd \n",
      "Date:  2003-10-02\n",
      "Quote Loaded\n"
     ]
    },
    {
     "name": "stderr",
     "output_type": "stream",
     "text": [
      "\n",
      "  2%|█▊                                                                                 | 1/46 [00:00<00:21,  2.09it/s]"
     ]
    },
    {
     "name": "stdout",
     "output_type": "stream",
     "text": [
      "Getting Original Date\n",
      "Getting quots \n",
      "Ticker:  amd \n",
      "Date:  2003-12-15\n",
      "Quote Loaded\n"
     ]
    },
    {
     "name": "stderr",
     "output_type": "stream",
     "text": [
      "\n",
      "  4%|███▌                                                                               | 2/46 [00:00<00:20,  2.14it/s]"
     ]
    },
    {
     "name": "stdout",
     "output_type": "stream",
     "text": [
      "Getting Original Date\n",
      "Getting quots \n",
      "Ticker:  amd \n",
      "Date:  2004-07-16\n",
      "Quote Loaded\n"
     ]
    },
    {
     "name": "stderr",
     "output_type": "stream",
     "text": [
      "\n",
      "  7%|█████▍                                                                             | 3/46 [00:01<00:18,  2.29it/s]"
     ]
    },
    {
     "name": "stdout",
     "output_type": "stream",
     "text": [
      "Getting Original Date\n",
      "Getting quots \n",
      "Ticker:  amd \n",
      "Date:  2004-08-10\n",
      "Quote Loaded\n"
     ]
    },
    {
     "name": "stderr",
     "output_type": "stream",
     "text": [
      "\n",
      "  9%|███████▏                                                                           | 4/46 [00:01<00:17,  2.36it/s]"
     ]
    },
    {
     "name": "stdout",
     "output_type": "stream",
     "text": [
      "Getting Original Date\n",
      "Pointing Date is -  6 (Day of the week)\n",
      "Checking Next Day\n",
      "Getting quots \n",
      "Ticker:  amd \n",
      "Date:  2004-10-11\n",
      "Quote Loaded\n"
     ]
    },
    {
     "name": "stderr",
     "output_type": "stream",
     "text": [
      "\n",
      " 11%|█████████                                                                          | 5/46 [00:02<00:21,  1.89it/s]"
     ]
    },
    {
     "name": "stdout",
     "output_type": "stream",
     "text": [
      "Getting Original Date\n",
      "Pointing Date is -  5 (Day of the week)\n",
      "Checking Next Day\n",
      "Getting quots \n",
      "Ticker:  amd \n",
      "Date:  2004-12-06\n",
      "Quote Loaded\n"
     ]
    },
    {
     "name": "stderr",
     "output_type": "stream",
     "text": [
      "\n",
      " 13%|██████████▊                                                                        | 6/46 [00:03<00:20,  1.94it/s]"
     ]
    },
    {
     "name": "stdout",
     "output_type": "stream",
     "text": [
      "Getting Original Date\n",
      "Getting quots \n",
      "Ticker:  amd \n",
      "Date:  2005-02-07\n",
      "Quote Loaded\n"
     ]
    },
    {
     "name": "stderr",
     "output_type": "stream",
     "text": [
      "\n",
      " 15%|████████████▋                                                                      | 7/46 [00:03<00:19,  1.97it/s]"
     ]
    },
    {
     "name": "stdout",
     "output_type": "stream",
     "text": [
      "Getting Original Date\n",
      "Getting quots \n",
      "Ticker:  amd \n",
      "Date:  2006-02-06\n",
      "Quote Loaded\n"
     ]
    },
    {
     "name": "stderr",
     "output_type": "stream",
     "text": [
      "\n",
      " 17%|██████████████▍                                                                    | 8/46 [00:04<00:19,  1.97it/s]"
     ]
    },
    {
     "name": "stdout",
     "output_type": "stream",
     "text": [
      "Getting Original Date\n",
      "Getting quots \n",
      "Ticker:  amd \n",
      "Date:  2006-04-07\n",
      "Quote Loaded\n"
     ]
    },
    {
     "name": "stderr",
     "output_type": "stream",
     "text": [
      "\n",
      " 20%|████████████████▏                                                                  | 9/46 [00:04<00:18,  2.05it/s]"
     ]
    },
    {
     "name": "stdout",
     "output_type": "stream",
     "text": [
      "Getting Original Date\n",
      "Pointing Date is -  5 (Day of the week)\n",
      "Checking Next Day\n",
      "Getting quots \n",
      "Ticker:  amd \n",
      "Date:  2006-04-10\n",
      "Quote Loaded\n"
     ]
    },
    {
     "name": "stderr",
     "output_type": "stream",
     "text": [
      "\n",
      " 22%|█████████████████▊                                                                | 10/46 [00:04<00:17,  2.09it/s]"
     ]
    },
    {
     "name": "stdout",
     "output_type": "stream",
     "text": [
      "Getting Original Date\n",
      "Getting quots \n",
      "Ticker:  amd \n",
      "Date:  2006-04-13\n",
      "Quote Loaded\n"
     ]
    },
    {
     "name": "stderr",
     "output_type": "stream",
     "text": [
      "\n",
      " 24%|███████████████████▌                                                              | 11/46 [00:05<00:16,  2.08it/s]"
     ]
    },
    {
     "name": "stdout",
     "output_type": "stream",
     "text": [
      "Getting Original Date\n",
      "Getting quots \n",
      "Ticker:  amd \n",
      "Date:  2006-04-13\n",
      "Quote Loaded\n"
     ]
    },
    {
     "name": "stderr",
     "output_type": "stream",
     "text": [
      "\n",
      " 26%|█████████████████████▍                                                            | 12/46 [00:05<00:16,  2.07it/s]"
     ]
    },
    {
     "name": "stdout",
     "output_type": "stream",
     "text": [
      "Getting Original Date\n",
      "Cannot Get data from Quandl. Skipping this one\n",
      "Getting Original Date\n",
      "Getting quots \n",
      "Ticker:  amd \n",
      "Date:  2006-04-28\n",
      "Quote Loaded\n"
     ]
    },
    {
     "name": "stderr",
     "output_type": "stream",
     "text": [
      "\n",
      " 30%|████████████████████████▉                                                         | 14/46 [00:06<00:14,  2.22it/s]"
     ]
    },
    {
     "name": "stdout",
     "output_type": "stream",
     "text": [
      "Getting Original Date\n",
      "Pointing Date is -  5 (Day of the week)\n",
      "Checking Next Day\n",
      "Getting quots \n",
      "Ticker:  amd \n",
      "Date:  2006-06-19\n",
      "Quote Loaded\n"
     ]
    },
    {
     "name": "stderr",
     "output_type": "stream",
     "text": [
      "\n",
      " 33%|██████████████████████████▋                                                       | 15/46 [00:06<00:14,  2.20it/s]"
     ]
    },
    {
     "name": "stdout",
     "output_type": "stream",
     "text": [
      "Getting Original Date\n",
      "Pointing Date is -  5 (Day of the week)\n",
      "Checking Next Day\n",
      "Cannot Get data from Quandl. Skipping this one\n",
      "Getting Original Date\n",
      "Getting quots \n",
      "Ticker:  amd \n",
      "Date:  2007-02-08\n",
      "Quote Loaded\n"
     ]
    },
    {
     "name": "stderr",
     "output_type": "stream",
     "text": [
      "\n",
      " 37%|██████████████████████████████▎                                                   | 17/46 [00:07<00:12,  2.36it/s]"
     ]
    },
    {
     "name": "stdout",
     "output_type": "stream",
     "text": [
      "Getting Original Date\n",
      "Pointing Date is -  5 (Day of the week)\n",
      "Checking Next Day\n",
      "Cannot Get data from Quandl. Skipping this one\n",
      "Getting Original Date\n",
      "Getting quots \n",
      "Ticker:  amd \n",
      "Date:  2007-02-27\n",
      "Quote Loaded\n"
     ]
    },
    {
     "name": "stderr",
     "output_type": "stream",
     "text": [
      "\n",
      " 41%|█████████████████████████████████▊                                                | 19/46 [00:07<00:11,  2.45it/s]"
     ]
    },
    {
     "name": "stdout",
     "output_type": "stream",
     "text": [
      "Getting Original Date\n",
      "Getting quots \n",
      "Ticker:  amd \n",
      "Date:  2007-03-08\n",
      "Quote Loaded\n"
     ]
    },
    {
     "name": "stderr",
     "output_type": "stream",
     "text": [
      "\n",
      " 43%|███████████████████████████████████▋                                              | 20/46 [00:08<00:10,  2.45it/s]"
     ]
    },
    {
     "name": "stdout",
     "output_type": "stream",
     "text": [
      "Getting Original Date\n",
      "Getting quots \n",
      "Ticker:  amd \n",
      "Date:  2007-03-16\n",
      "Quote Loaded\n"
     ]
    },
    {
     "name": "stderr",
     "output_type": "stream",
     "text": [
      "\n",
      " 46%|█████████████████████████████████████▍                                            | 21/46 [00:08<00:10,  2.42it/s]"
     ]
    },
    {
     "name": "stdout",
     "output_type": "stream",
     "text": [
      "Getting Original Date\n",
      "Pointing Date is -  6 (Day of the week)\n",
      "Checking Next Day\n",
      "Getting quots \n",
      "Ticker:  amd \n",
      "Date:  2007-03-26\n",
      "Quote Loaded\n"
     ]
    },
    {
     "name": "stderr",
     "output_type": "stream",
     "text": [
      "\n",
      " 48%|███████████████████████████████████████▏                                          | 22/46 [00:09<00:09,  2.42it/s]"
     ]
    },
    {
     "name": "stdout",
     "output_type": "stream",
     "text": [
      "Getting Original Date\n",
      "Getting quots \n",
      "Ticker:  amd \n",
      "Date:  2007-04-09\n",
      "Quote Loaded\n"
     ]
    },
    {
     "name": "stderr",
     "output_type": "stream",
     "text": [
      "\n",
      " 50%|█████████████████████████████████████████                                         | 23/46 [00:09<00:09,  2.42it/s]"
     ]
    },
    {
     "name": "stdout",
     "output_type": "stream",
     "text": [
      "Getting Original Date\n",
      "Getting quots \n",
      "Ticker:  amd \n",
      "Date:  2007-05-16\n",
      "Quote Loaded\n"
     ]
    },
    {
     "name": "stderr",
     "output_type": "stream",
     "text": [
      "\n",
      " 52%|██████████████████████████████████████████▊                                       | 24/46 [00:09<00:08,  2.45it/s]"
     ]
    },
    {
     "name": "stdout",
     "output_type": "stream",
     "text": [
      "Getting Original Date\n",
      "Getting quots \n",
      "Ticker:  amd \n",
      "Date:  2007-05-17\n",
      "Quote Loaded\n"
     ]
    },
    {
     "name": "stderr",
     "output_type": "stream",
     "text": [
      "\n",
      " 54%|████████████████████████████████████████████▌                                     | 25/46 [00:10<00:08,  2.42it/s]"
     ]
    },
    {
     "name": "stdout",
     "output_type": "stream",
     "text": [
      "Getting Original Date\n",
      "Pointing Date is -  6 (Day of the week)\n",
      "Checking Next Day\n",
      "Getting quots \n",
      "Ticker:  amd \n",
      "Date:  2007-05-29\n",
      "Quote Loaded\n"
     ]
    },
    {
     "name": "stderr",
     "output_type": "stream",
     "text": [
      "\n",
      " 57%|██████████████████████████████████████████████▎                                   | 26/46 [00:10<00:08,  2.42it/s]"
     ]
    },
    {
     "name": "stdout",
     "output_type": "stream",
     "text": [
      "Getting Original Date\n",
      "Pointing Date is -  5 (Day of the week)\n",
      "Checking Next Day\n",
      "Pointing Date is -  6 (Day of the week)\n",
      "Checking Next Day\n",
      "Getting quots \n",
      "Ticker:  amd \n",
      "Date:  2007-06-26\n",
      "Quote Loaded\n"
     ]
    },
    {
     "name": "stderr",
     "output_type": "stream",
     "text": [
      "\n",
      " 59%|████████████████████████████████████████████████▏                                 | 27/46 [00:11<00:07,  2.40it/s]"
     ]
    },
    {
     "name": "stdout",
     "output_type": "stream",
     "text": [
      "Getting Original Date\n",
      "Getting quots \n",
      "Ticker:  amd \n",
      "Date:  2007-10-11\n",
      "Quote Loaded\n"
     ]
    },
    {
     "name": "stderr",
     "output_type": "stream",
     "text": [
      "\n",
      " 61%|█████████████████████████████████████████████████▉                                | 28/46 [00:11<00:07,  2.38it/s]"
     ]
    },
    {
     "name": "stdout",
     "output_type": "stream",
     "text": [
      "Getting Original Date\n",
      "Getting quots \n",
      "Ticker:  amd \n",
      "Date:  2008-01-23\n",
      "Quote Loaded\n"
     ]
    },
    {
     "name": "stderr",
     "output_type": "stream",
     "text": [
      "\n",
      " 63%|███████████████████████████████████████████████████▋                              | 29/46 [00:12<00:07,  2.40it/s]"
     ]
    },
    {
     "name": "stdout",
     "output_type": "stream",
     "text": [
      "Getting Original Date\n",
      "Pointing Date is -  5 (Day of the week)\n",
      "Checking Next Day\n",
      "Getting quots \n",
      "Ticker:  amd \n",
      "Date:  2008-11-03\n",
      "Quote Loaded\n"
     ]
    },
    {
     "name": "stderr",
     "output_type": "stream",
     "text": [
      "\n",
      " 65%|█████████████████████████████████████████████████████▍                            | 30/46 [00:12<00:06,  2.39it/s]"
     ]
    },
    {
     "name": "stdout",
     "output_type": "stream",
     "text": [
      "Getting Original Date\n",
      "Getting quots \n",
      "Ticker:  amd \n",
      "Date:  2008-12-18\n",
      "Quote Loaded\n"
     ]
    },
    {
     "name": "stderr",
     "output_type": "stream",
     "text": [
      "\n",
      " 67%|███████████████████████████████████████████████████████▎                          | 31/46 [00:13<00:06,  2.37it/s]"
     ]
    },
    {
     "name": "stdout",
     "output_type": "stream",
     "text": [
      "Getting Original Date\n",
      "Getting quots \n",
      "Ticker:  amd \n",
      "Date:  2009-01-21\n",
      "Quote Loaded\n"
     ]
    },
    {
     "name": "stderr",
     "output_type": "stream",
     "text": [
      "\n",
      " 70%|█████████████████████████████████████████████████████████                         | 32/46 [00:13<00:05,  2.35it/s]"
     ]
    },
    {
     "name": "stdout",
     "output_type": "stream",
     "text": [
      "Getting Original Date\n",
      "Getting quots \n",
      "Ticker:  amd \n",
      "Date:  2009-11-20\n",
      "Quote Loaded\n"
     ]
    },
    {
     "name": "stderr",
     "output_type": "stream",
     "text": [
      "\n",
      " 72%|██████████████████████████████████████████████████████████▊                       | 33/46 [00:13<00:05,  2.37it/s]"
     ]
    },
    {
     "name": "stdout",
     "output_type": "stream",
     "text": [
      "Getting Original Date\n",
      "Pointing Date is -  6 (Day of the week)\n",
      "Checking Next Day\n",
      "Getting quots \n",
      "Ticker:  amd \n",
      "Date:  2011-09-27\n",
      "Quote Loaded\n"
     ]
    },
    {
     "name": "stderr",
     "output_type": "stream",
     "text": [
      "\n",
      " 74%|████████████████████████████████████████████████████████████▌                     | 34/46 [00:14<00:05,  2.36it/s]"
     ]
    },
    {
     "name": "stdout",
     "output_type": "stream",
     "text": [
      "Getting Original Date\n",
      "Getting quots \n",
      "Ticker:  amd \n",
      "Date:  2011-11-28\n",
      "Quote Loaded\n"
     ]
    },
    {
     "name": "stderr",
     "output_type": "stream",
     "text": [
      "\n",
      " 76%|██████████████████████████████████████████████████████████████▍                   | 35/46 [00:14<00:04,  2.37it/s]"
     ]
    },
    {
     "name": "stdout",
     "output_type": "stream",
     "text": [
      "Getting Original Date\n",
      "Getting quots \n",
      "Ticker:  amd \n",
      "Date:  2011-12-28\n",
      "Quote Loaded\n"
     ]
    },
    {
     "name": "stderr",
     "output_type": "stream",
     "text": [
      "\n",
      " 78%|████████████████████████████████████████████████████████████████▏                 | 36/46 [00:15<00:04,  2.36it/s]"
     ]
    },
    {
     "name": "stdout",
     "output_type": "stream",
     "text": [
      "Getting Original Date\n",
      "Pointing Date is -  5 (Day of the week)\n",
      "Checking Next Day\n",
      "Pointing Date is -  6 (Day of the week)\n",
      "Checking Next Day\n",
      "Getting quots \n",
      "Ticker:  amd \n",
      "Date:  2012-01-31\n",
      "Quote Loaded\n"
     ]
    },
    {
     "name": "stderr",
     "output_type": "stream",
     "text": [
      "\n",
      " 80%|█████████████████████████████████████████████████████████████████▉                | 37/46 [00:15<00:03,  2.35it/s]"
     ]
    },
    {
     "name": "stdout",
     "output_type": "stream",
     "text": [
      "Getting Original Date\n",
      "Getting quots \n",
      "Ticker:  amd \n",
      "Date:  2012-03-29\n",
      "Quote Loaded\n"
     ]
    },
    {
     "name": "stderr",
     "output_type": "stream",
     "text": [
      "\n",
      " 83%|███████████████████████████████████████████████████████████████████▋              | 38/46 [00:16<00:03,  2.36it/s]"
     ]
    },
    {
     "name": "stdout",
     "output_type": "stream",
     "text": [
      "Getting Original Date\n",
      "Getting quots \n",
      "Ticker:  amd \n",
      "Date:  2012-06-15\n",
      "Quote Loaded\n"
     ]
    },
    {
     "name": "stderr",
     "output_type": "stream",
     "text": [
      "\n",
      " 85%|█████████████████████████████████████████████████████████████████████▌            | 39/46 [00:16<00:02,  2.35it/s]"
     ]
    },
    {
     "name": "stdout",
     "output_type": "stream",
     "text": [
      "Getting Original Date\n",
      "Getting quots \n",
      "Ticker:  amd \n",
      "Date:  2012-08-15\n",
      "Quote Loaded\n"
     ]
    },
    {
     "name": "stderr",
     "output_type": "stream",
     "text": [
      "\n",
      " 87%|███████████████████████████████████████████████████████████████████████▎          | 40/46 [00:17<00:02,  2.34it/s]"
     ]
    },
    {
     "name": "stdout",
     "output_type": "stream",
     "text": [
      "Getting Original Date\n",
      "Getting quots \n",
      "Ticker:  amd \n",
      "Date:  2012-10-15\n",
      "Quote Loaded\n"
     ]
    },
    {
     "name": "stderr",
     "output_type": "stream",
     "text": [
      "\n",
      " 89%|█████████████████████████████████████████████████████████████████████████         | 41/46 [00:17<00:02,  2.32it/s]"
     ]
    },
    {
     "name": "stdout",
     "output_type": "stream",
     "text": [
      "Getting Original Date\n",
      "Getting quots \n",
      "Ticker:  amd \n",
      "Date:  2012-11-14\n",
      "Quote Loaded\n"
     ]
    },
    {
     "name": "stderr",
     "output_type": "stream",
     "text": [
      "\n",
      " 91%|██████████████████████████████████████████████████████████████████████████▊       | 42/46 [00:17<00:01,  2.34it/s]"
     ]
    },
    {
     "name": "stdout",
     "output_type": "stream",
     "text": [
      "Getting Original Date\n",
      "Pointing Date is -  6 (Day of the week)\n",
      "Checking Next Day\n",
      "Getting quots \n",
      "Ticker:  amd \n",
      "Date:  2012-11-20\n",
      "Quote Loaded\n"
     ]
    },
    {
     "name": "stderr",
     "output_type": "stream",
     "text": [
      "\n",
      " 93%|████████████████████████████████████████████████████████████████████████████▋     | 43/46 [00:18<00:01,  2.34it/s]"
     ]
    },
    {
     "name": "stdout",
     "output_type": "stream",
     "text": [
      "Getting Original Date\n",
      "Cannot Get data from Quandl. Skipping this one\n",
      "Getting Original Date\n",
      "Getting quots \n",
      "Ticker:  amd \n",
      "Date:  2013-04-22\n",
      "Quote Loaded\n"
     ]
    },
    {
     "name": "stderr",
     "output_type": "stream",
     "text": [
      "\n",
      " 98%|████████████████████████████████████████████████████████████████████████████████▏ | 45/46 [00:18<00:00,  2.38it/s]"
     ]
    },
    {
     "name": "stdout",
     "output_type": "stream",
     "text": [
      "Getting Original Date\n",
      "Pointing Date is -  5 (Day of the week)\n",
      "Checking Next Day\n",
      "Getting quots \n",
      "Ticker:  amd \n",
      "Date:  2013-05-13\n",
      "Quote Loaded\n"
     ]
    },
    {
     "name": "stderr",
     "output_type": "stream",
     "text": [
      "\n",
      "100%|██████████████████████████████████████████████████████████████████████████████████| 46/46 [00:19<00:00,  2.36it/s]\n"
     ]
    },
    {
     "name": "stdout",
     "output_type": "stream",
     "text": [
      "Will save to file:  c:\\data\\finml\\PriceVsSNP500_amd.csv\n",
      "Getting Stock Price Data...\n"
     ]
    },
    {
     "name": "stderr",
     "output_type": "stream",
     "text": [
      "\n",
      "  0%|                                                                                            | 0/1 [00:00<?, ?it/s]"
     ]
    },
    {
     "name": "stdout",
     "output_type": "stream",
     "text": [
      "Getting Original Date\n",
      "Pointing Date is -  6 (Day of the week)\n",
      "Checking Next Day\n",
      "Getting quots \n",
      "Ticker:  act \n",
      "Date:  2013-05-13\n",
      "Wrong Day, Cheching Next\n",
      "Wrong Day, Cheching Next\n",
      "Wrong Day, Cheching Next\n",
      "Wrong Day, Cheching Next\n",
      "Wrong Day, Cheching Next\n",
      "Wrong Day, Cheching Next\n",
      "Wrong Day, Cheching Next\n",
      "Wrong Day, Cheching Next\n",
      "Wrong Day, Cheching Next\n",
      "Wrong Day, Cheching Next\n",
      "Reached Limit amount of tries\n",
      "Cannot Get data from Quandl. Skipping this one\n"
     ]
    },
    {
     "name": "stderr",
     "output_type": "stream",
     "text": [
      "\n",
      "100%|████████████████████████████████████████████████████████████████████████████████████| 1/1 [00:02<00:00,  2.39s/it]\n"
     ]
    },
    {
     "name": "stdout",
     "output_type": "stream",
     "text": [
      "Will save to file:  c:\\data\\finml\\PriceVsSNP500_act.csv\n",
      "Getting Stock Price Data...\n"
     ]
    },
    {
     "name": "stderr",
     "output_type": "stream",
     "text": [
      "\n",
      "  0%|                                                                                           | 0/26 [00:00<?, ?it/s]"
     ]
    },
    {
     "name": "stdout",
     "output_type": "stream",
     "text": [
      "Getting Original Date\n",
      "Getting quots \n",
      "Ticker:  amat \n",
      "Date:  2003-10-28\n",
      "Quote Loaded\n"
     ]
    },
    {
     "name": "stderr",
     "output_type": "stream",
     "text": [
      "\n",
      "  4%|███▏                                                                               | 1/26 [00:00<00:06,  3.90it/s]"
     ]
    },
    {
     "name": "stdout",
     "output_type": "stream",
     "text": [
      "Getting Original Date\n",
      "Getting quots \n",
      "Ticker:  amat \n",
      "Date:  2004-04-23\n",
      "Quote Loaded\n"
     ]
    },
    {
     "name": "stderr",
     "output_type": "stream",
     "text": [
      "\n",
      "  8%|██████▍                                                                            | 2/26 [00:00<00:07,  3.23it/s]"
     ]
    },
    {
     "name": "stdout",
     "output_type": "stream",
     "text": [
      "Getting Original Date\n",
      "Pointing Date is -  6 (Day of the week)\n",
      "Checking Next Day\n",
      "Getting quots \n",
      "Ticker:  amat \n",
      "Date:  2004-06-21\n",
      "Quote Loaded\n"
     ]
    },
    {
     "name": "stderr",
     "output_type": "stream",
     "text": [
      "\n",
      " 12%|█████████▌                                                                         | 3/26 [00:01<00:07,  2.88it/s]"
     ]
    },
    {
     "name": "stdout",
     "output_type": "stream",
     "text": [
      "Getting Original Date\n",
      "Getting quots \n",
      "Ticker:  amat \n",
      "Date:  2004-09-16\n",
      "Quote Loaded\n"
     ]
    },
    {
     "name": "stderr",
     "output_type": "stream",
     "text": [
      "\n",
      " 15%|████████████▊                                                                      | 4/26 [00:01<00:07,  2.76it/s]"
     ]
    },
    {
     "name": "stdout",
     "output_type": "stream",
     "text": [
      "Getting Original Date\n",
      "Getting quots \n",
      "Ticker:  amat \n",
      "Date:  2004-10-18\n",
      "Quote Loaded\n"
     ]
    },
    {
     "name": "stderr",
     "output_type": "stream",
     "text": [
      "\n",
      " 19%|███████████████▉                                                                   | 5/26 [00:01<00:07,  2.88it/s]"
     ]
    },
    {
     "name": "stdout",
     "output_type": "stream",
     "text": [
      "Getting Original Date\n",
      "Getting quots \n",
      "Ticker:  amat \n",
      "Date:  2004-12-09\n",
      "Quote Loaded\n"
     ]
    },
    {
     "name": "stderr",
     "output_type": "stream",
     "text": [
      "\n",
      " 23%|███████████████████▏                                                               | 6/26 [00:02<00:07,  2.79it/s]"
     ]
    },
    {
     "name": "stdout",
     "output_type": "stream",
     "text": [
      "Getting Original Date\n",
      "Getting quots \n",
      "Ticker:  amat \n",
      "Date:  2006-04-21\n",
      "Quote Loaded\n"
     ]
    },
    {
     "name": "stderr",
     "output_type": "stream",
     "text": [
      "\n",
      " 27%|██████████████████████▎                                                            | 7/26 [00:02<00:06,  2.71it/s]"
     ]
    },
    {
     "name": "stdout",
     "output_type": "stream",
     "text": [
      "Getting Original Date\n",
      "Pointing Date is -  5 (Day of the week)\n",
      "Checking Next Day\n",
      "Pointing Date is -  6 (Day of the week)\n",
      "Checking Next Day\n",
      "Getting quots \n",
      "Ticker:  amat \n",
      "Date:  2006-07-25\n",
      "Quote Loaded\n"
     ]
    },
    {
     "name": "stderr",
     "output_type": "stream",
     "text": [
      "\n",
      " 31%|█████████████████████████▌                                                         | 8/26 [00:03<00:06,  2.57it/s]"
     ]
    },
    {
     "name": "stdout",
     "output_type": "stream",
     "text": [
      "Getting Original Date\n",
      "Getting quots \n",
      "Ticker:  amat \n",
      "Date:  2006-08-15\n",
      "Quote Loaded\n"
     ]
    },
    {
     "name": "stderr",
     "output_type": "stream",
     "text": [
      "\n",
      " 35%|████████████████████████████▋                                                      | 9/26 [00:03<00:06,  2.56it/s]"
     ]
    },
    {
     "name": "stdout",
     "output_type": "stream",
     "text": [
      "Getting Original Date\n",
      "Getting quots \n",
      "Ticker:  amat \n",
      "Date:  2006-08-16\n",
      "Quote Loaded\n"
     ]
    },
    {
     "name": "stderr",
     "output_type": "stream",
     "text": [
      "\n",
      " 38%|███████████████████████████████▌                                                  | 10/26 [00:03<00:06,  2.58it/s]"
     ]
    },
    {
     "name": "stdout",
     "output_type": "stream",
     "text": [
      "Getting Original Date\n",
      "Getting quots \n",
      "Ticker:  amat \n",
      "Date:  2006-08-29\n",
      "Quote Loaded\n"
     ]
    },
    {
     "name": "stderr",
     "output_type": "stream",
     "text": [
      "\n",
      " 42%|██████████████████████████████████▋                                               | 11/26 [00:04<00:05,  2.55it/s]"
     ]
    },
    {
     "name": "stdout",
     "output_type": "stream",
     "text": [
      "Getting Original Date\n",
      "Getting quots \n",
      "Ticker:  amat \n",
      "Date:  2007-01-11\n",
      "Quote Loaded\n"
     ]
    },
    {
     "name": "stderr",
     "output_type": "stream",
     "text": [
      "\n",
      " 46%|█████████████████████████████████████▊                                            | 12/26 [00:04<00:05,  2.53it/s]"
     ]
    },
    {
     "name": "stdout",
     "output_type": "stream",
     "text": [
      "Getting Original Date\n",
      "Getting quots \n",
      "Ticker:  amat \n",
      "Date:  2007-03-28\n",
      "Quote Loaded\n"
     ]
    },
    {
     "name": "stderr",
     "output_type": "stream",
     "text": [
      "\n",
      " 50%|█████████████████████████████████████████                                         | 13/26 [00:05<00:05,  2.52it/s]"
     ]
    },
    {
     "name": "stdout",
     "output_type": "stream",
     "text": [
      "Getting Original Date\n",
      "Getting quots \n",
      "Ticker:  amat \n",
      "Date:  2007-03-29\n",
      "Quote Loaded\n"
     ]
    },
    {
     "name": "stderr",
     "output_type": "stream",
     "text": [
      "\n",
      " 54%|████████████████████████████████████████████▏                                     | 14/26 [00:05<00:04,  2.53it/s]"
     ]
    },
    {
     "name": "stdout",
     "output_type": "stream",
     "text": [
      "Getting Original Date\n",
      "Cannot Get data from Quandl. Skipping this one\n",
      "Getting Original Date\n",
      "Getting quots \n",
      "Ticker:  amat \n",
      "Date:  2007-06-08\n",
      "Quote Loaded\n"
     ]
    },
    {
     "name": "stderr",
     "output_type": "stream",
     "text": [
      "\n",
      " 62%|██████████████████████████████████████████████████▍                               | 16/26 [00:05<00:03,  2.72it/s]"
     ]
    },
    {
     "name": "stdout",
     "output_type": "stream",
     "text": [
      "Getting Original Date\n",
      "Getting quots \n",
      "Ticker:  amat \n",
      "Date:  2008-01-23\n",
      "Quote Loaded\n"
     ]
    },
    {
     "name": "stderr",
     "output_type": "stream",
     "text": [
      "\n",
      " 65%|█████████████████████████████████████████████████████▌                            | 17/26 [00:06<00:03,  2.70it/s]"
     ]
    },
    {
     "name": "stdout",
     "output_type": "stream",
     "text": [
      "Getting Original Date\n",
      "Pointing Date is -  6 (Day of the week)\n",
      "Checking Next Day\n",
      "Getting quots \n",
      "Ticker:  amat \n",
      "Date:  2008-04-14\n",
      "Quote Loaded\n"
     ]
    },
    {
     "name": "stderr",
     "output_type": "stream",
     "text": [
      "\n",
      " 69%|████████████████████████████████████████████████████████▊                         | 18/26 [00:06<00:02,  2.72it/s]"
     ]
    },
    {
     "name": "stdout",
     "output_type": "stream",
     "text": [
      "Getting Original Date\n",
      "Getting quots \n",
      "Ticker:  amat \n",
      "Date:  2008-12-17\n",
      "Quote Loaded\n"
     ]
    },
    {
     "name": "stderr",
     "output_type": "stream",
     "text": [
      "\n",
      " 73%|███████████████████████████████████████████████████████████▉                      | 19/26 [00:07<00:02,  2.68it/s]"
     ]
    },
    {
     "name": "stdout",
     "output_type": "stream",
     "text": [
      "Getting Original Date\n",
      "Getting quots \n",
      "Ticker:  amat \n",
      "Date:  2009-02-02\n",
      "Quote Loaded\n"
     ]
    },
    {
     "name": "stderr",
     "output_type": "stream",
     "text": [
      "\n",
      " 77%|███████████████████████████████████████████████████████████████                   | 20/26 [00:07<00:02,  2.62it/s]"
     ]
    },
    {
     "name": "stdout",
     "output_type": "stream",
     "text": [
      "Getting Original Date\n",
      "Pointing Date is -  6 (Day of the week)\n",
      "Checking Next Day\n",
      "Getting quots \n",
      "Ticker:  amat \n",
      "Date:  2011-09-27\n",
      "Quote Loaded\n"
     ]
    },
    {
     "name": "stderr",
     "output_type": "stream",
     "text": [
      "\n",
      " 81%|██████████████████████████████████████████████████████████████████▏               | 21/26 [00:08<00:01,  2.59it/s]"
     ]
    },
    {
     "name": "stdout",
     "output_type": "stream",
     "text": [
      "Getting Original Date\n",
      "Getting quots \n",
      "Ticker:  amat \n",
      "Date:  2012-09-18\n",
      "Quote Loaded\n"
     ]
    },
    {
     "name": "stderr",
     "output_type": "stream",
     "text": [
      "\n",
      " 85%|█████████████████████████████████████████████████████████████████████▍            | 22/26 [00:08<00:01,  2.57it/s]"
     ]
    },
    {
     "name": "stdout",
     "output_type": "stream",
     "text": [
      "Getting Original Date\n",
      "Getting quots \n",
      "Ticker:  amat \n",
      "Date:  2012-10-17\n",
      "Quote Loaded\n"
     ]
    },
    {
     "name": "stderr",
     "output_type": "stream",
     "text": [
      "\n",
      " 88%|████████████████████████████████████████████████████████████████████████▌         | 23/26 [00:08<00:01,  2.58it/s]"
     ]
    },
    {
     "name": "stdout",
     "output_type": "stream",
     "text": [
      "Getting Original Date\n",
      "Getting quots \n",
      "Ticker:  amat \n",
      "Date:  2013-02-06\n",
      "Quote Loaded\n"
     ]
    },
    {
     "name": "stderr",
     "output_type": "stream",
     "text": [
      "\n",
      " 92%|███████████████████████████████████████████████████████████████████████████▋      | 24/26 [00:09<00:00,  2.57it/s]"
     ]
    },
    {
     "name": "stdout",
     "output_type": "stream",
     "text": [
      "Getting Original Date\n",
      "Getting quots \n",
      "Ticker:  amat \n",
      "Date:  2013-04-25\n",
      "Quote Loaded\n"
     ]
    },
    {
     "name": "stderr",
     "output_type": "stream",
     "text": [
      "\n",
      " 96%|██████████████████████████████████████████████████████████████████████████████▊   | 25/26 [00:09<00:00,  2.53it/s]"
     ]
    },
    {
     "name": "stdout",
     "output_type": "stream",
     "text": [
      "Getting Original Date\n",
      "Getting quots \n",
      "Ticker:  amat \n",
      "Date:  2013-04-26\n",
      "Quote Loaded\n"
     ]
    },
    {
     "name": "stderr",
     "output_type": "stream",
     "text": [
      "\n",
      "100%|██████████████████████████████████████████████████████████████████████████████████| 26/26 [00:10<00:00,  2.51it/s]\n"
     ]
    },
    {
     "name": "stdout",
     "output_type": "stream",
     "text": [
      "Will save to file:  c:\\data\\finml\\PriceVsSNP500_amat.csv\n",
      "Getting Stock Price Data...\n"
     ]
    },
    {
     "name": "stderr",
     "output_type": "stream",
     "text": [
      "\n",
      "  0%|                                                                                           | 0/18 [00:00<?, ?it/s]"
     ]
    },
    {
     "name": "stdout",
     "output_type": "stream",
     "text": [
      "Getting Original Date\n",
      "Getting quots \n",
      "Ticker:  apa \n",
      "Date:  2004-05-12\n",
      "Quote Loaded\n"
     ]
    },
    {
     "name": "stderr",
     "output_type": "stream",
     "text": [
      "\n",
      "  6%|████▌                                                                              | 1/18 [00:00<00:07,  2.20it/s]"
     ]
    },
    {
     "name": "stdout",
     "output_type": "stream",
     "text": [
      "Getting Original Date\n",
      "Pointing Date is -  6 (Day of the week)\n",
      "Checking Next Day\n",
      "Getting quots \n",
      "Ticker:  apa \n",
      "Date:  2004-09-21\n",
      "Quote Loaded\n"
     ]
    },
    {
     "name": "stderr",
     "output_type": "stream",
     "text": [
      "\n",
      " 11%|█████████▏                                                                         | 2/18 [00:00<00:06,  2.44it/s]"
     ]
    },
    {
     "name": "stdout",
     "output_type": "stream",
     "text": [
      "Getting Original Date\n",
      "Getting quots \n",
      "Ticker:  apa \n",
      "Date:  2004-10-27\n",
      "Quote Loaded\n"
     ]
    },
    {
     "name": "stderr",
     "output_type": "stream",
     "text": [
      "\n",
      " 17%|█████████████▊                                                                     | 3/18 [00:01<00:06,  2.34it/s]"
     ]
    },
    {
     "name": "stdout",
     "output_type": "stream",
     "text": [
      "Getting Original Date\n",
      "Getting quots \n",
      "Ticker:  apa \n",
      "Date:  2005-02-04\n",
      "Quote Loaded\n"
     ]
    },
    {
     "name": "stderr",
     "output_type": "stream",
     "text": [
      "\n",
      " 22%|██████████████████▍                                                                | 4/18 [00:01<00:06,  2.23it/s]"
     ]
    },
    {
     "name": "stdout",
     "output_type": "stream",
     "text": [
      "Getting Original Date\n",
      "Getting quots \n",
      "Ticker:  apa \n",
      "Date:  2005-03-07\n",
      "Quote Loaded\n"
     ]
    },
    {
     "name": "stderr",
     "output_type": "stream",
     "text": [
      "\n",
      " 28%|███████████████████████                                                            | 5/18 [00:02<00:05,  2.30it/s]"
     ]
    },
    {
     "name": "stdout",
     "output_type": "stream",
     "text": [
      "Getting Original Date\n",
      "Pointing Date is -  5 (Day of the week)\n",
      "Checking Next Day\n",
      "Getting quots \n",
      "Ticker:  apa \n",
      "Date:  2006-06-19\n",
      "Quote Loaded\n"
     ]
    },
    {
     "name": "stderr",
     "output_type": "stream",
     "text": [
      "\n",
      " 33%|███████████████████████████▋                                                       | 6/18 [00:02<00:05,  2.21it/s]"
     ]
    },
    {
     "name": "stdout",
     "output_type": "stream",
     "text": [
      "Getting Original Date\n",
      "Pointing Date is -  6 (Day of the week)\n",
      "Checking Next Day\n",
      "Getting quots \n",
      "Ticker:  apa \n",
      "Date:  2006-08-15\n",
      "Quote Loaded\n"
     ]
    },
    {
     "name": "stderr",
     "output_type": "stream",
     "text": [
      "\n",
      " 39%|████████████████████████████████▎                                                  | 7/18 [00:03<00:04,  2.22it/s]"
     ]
    },
    {
     "name": "stdout",
     "output_type": "stream",
     "text": [
      "Getting Original Date\n",
      "Getting quots \n",
      "Ticker:  apa \n",
      "Date:  2007-02-20\n",
      "Quote Loaded\n"
     ]
    },
    {
     "name": "stderr",
     "output_type": "stream",
     "text": [
      "\n",
      " 44%|████████████████████████████████████▉                                              | 8/18 [00:03<00:04,  2.28it/s]"
     ]
    },
    {
     "name": "stdout",
     "output_type": "stream",
     "text": [
      "Getting Original Date\n",
      "Getting quots \n",
      "Ticker:  apa \n",
      "Date:  2007-04-05\n",
      "Quote Loaded\n"
     ]
    },
    {
     "name": "stderr",
     "output_type": "stream",
     "text": [
      "\n",
      " 50%|█████████████████████████████████████████▌                                         | 9/18 [00:03<00:03,  2.30it/s]"
     ]
    },
    {
     "name": "stdout",
     "output_type": "stream",
     "text": [
      "Getting Original Date\n",
      "Getting quots \n",
      "Ticker:  apa \n",
      "Date:  2008-01-23\n",
      "Quote Loaded\n"
     ]
    },
    {
     "name": "stderr",
     "output_type": "stream",
     "text": [
      "\n",
      " 56%|█████████████████████████████████████████████▌                                    | 10/18 [00:04<00:03,  2.24it/s]"
     ]
    },
    {
     "name": "stdout",
     "output_type": "stream",
     "text": [
      "Getting Original Date\n",
      "Cannot Get data from Quandl. Skipping this one\n",
      "Getting Original Date\n",
      "Getting quots \n",
      "Ticker:  apa \n",
      "Date:  2009-11-23\n",
      "Quote Loaded\n"
     ]
    },
    {
     "name": "stderr",
     "output_type": "stream",
     "text": [
      "\n",
      " 67%|██████████████████████████████████████████████████████▋                           | 12/18 [00:04<00:02,  2.50it/s]"
     ]
    },
    {
     "name": "stdout",
     "output_type": "stream",
     "text": [
      "Getting Original Date\n",
      "Cannot Get data from Quandl. Skipping this one\n",
      "Getting Original Date\n",
      "Getting quots \n",
      "Ticker:  apa \n",
      "Date:  2011-12-30\n",
      "Quote Loaded\n"
     ]
    },
    {
     "name": "stderr",
     "output_type": "stream",
     "text": [
      "\n",
      " 78%|███████████████████████████████████████████████████████████████▊                  | 14/18 [00:05<00:01,  2.61it/s]"
     ]
    },
    {
     "name": "stdout",
     "output_type": "stream",
     "text": [
      "Getting Original Date\n",
      "Getting quots \n",
      "Ticker:  apa \n",
      "Date:  2012-02-29\n",
      "Quote Loaded\n"
     ]
    },
    {
     "name": "stderr",
     "output_type": "stream",
     "text": [
      "\n",
      " 83%|████████████████████████████████████████████████████████████████████▎             | 15/18 [00:05<00:01,  2.60it/s]"
     ]
    },
    {
     "name": "stdout",
     "output_type": "stream",
     "text": [
      "Getting Original Date\n",
      "Getting quots \n",
      "Ticker:  apa \n",
      "Date:  2012-06-07\n",
      "Quote Loaded\n"
     ]
    },
    {
     "name": "stderr",
     "output_type": "stream",
     "text": [
      "\n",
      " 89%|████████████████████████████████████████████████████████████████████████▉         | 16/18 [00:06<00:00,  2.64it/s]"
     ]
    },
    {
     "name": "stdout",
     "output_type": "stream",
     "text": [
      "Getting Original Date\n",
      "Getting quots \n",
      "Ticker:  apa \n",
      "Date:  2013-04-23\n",
      "Quote Loaded\n"
     ]
    },
    {
     "name": "stderr",
     "output_type": "stream",
     "text": [
      "\n",
      " 94%|█████████████████████████████████████████████████████████████████████████████▍    | 17/18 [00:06<00:00,  2.62it/s]"
     ]
    },
    {
     "name": "stdout",
     "output_type": "stream",
     "text": [
      "Getting Original Date\n",
      "Getting quots \n",
      "Ticker:  apa \n",
      "Date:  2013-05-10\n",
      "Quote Loaded\n"
     ]
    },
    {
     "name": "stderr",
     "output_type": "stream",
     "text": [
      "\n",
      "100%|██████████████████████████████████████████████████████████████████████████████████| 18/18 [00:06<00:00,  2.62it/s]\n"
     ]
    },
    {
     "name": "stdout",
     "output_type": "stream",
     "text": [
      "Will save to file:  c:\\data\\finml\\PriceVsSNP500_apa.csv\n",
      "Getting Stock Price Data...\n"
     ]
    },
    {
     "name": "stderr",
     "output_type": "stream",
     "text": [
      "\n",
      "  0%|                                                                                           | 0/10 [00:00<?, ?it/s]"
     ]
    },
    {
     "name": "stdout",
     "output_type": "stream",
     "text": [
      "Getting Original Date\n",
      "Getting quots \n",
      "Ticker:  aep \n",
      "Date:  2004-08-03\n",
      "Quote Loaded\n"
     ]
    },
    {
     "name": "stderr",
     "output_type": "stream",
     "text": [
      "\n",
      " 10%|████████▎                                                                          | 1/10 [00:00<00:03,  2.76it/s]"
     ]
    },
    {
     "name": "stdout",
     "output_type": "stream",
     "text": [
      "Getting Original Date\n",
      "Pointing Date is -  6 (Day of the week)\n",
      "Checking Next Day\n",
      "Getting quots \n",
      "Ticker:  aep \n",
      "Date:  2004-10-12\n",
      "Quote Loaded\n"
     ]
    },
    {
     "name": "stderr",
     "output_type": "stream",
     "text": [
      "\n",
      " 20%|████████████████▌                                                                  | 2/10 [00:00<00:02,  2.89it/s]"
     ]
    },
    {
     "name": "stdout",
     "output_type": "stream",
     "text": [
      "Getting Original Date\n",
      "Getting quots \n",
      "Ticker:  aep \n",
      "Date:  2005-04-04\n",
      "Quote Loaded\n"
     ]
    },
    {
     "name": "stderr",
     "output_type": "stream",
     "text": [
      "\n",
      " 30%|████████████████████████▉                                                          | 3/10 [00:01<00:02,  2.95it/s]"
     ]
    },
    {
     "name": "stdout",
     "output_type": "stream",
     "text": [
      "Getting Original Date\n",
      "Getting quots \n",
      "Ticker:  aep \n",
      "Date:  2007-03-07\n",
      "Quote Loaded\n"
     ]
    },
    {
     "name": "stderr",
     "output_type": "stream",
     "text": [
      "\n",
      " 40%|█████████████████████████████████▏                                                 | 4/10 [00:01<00:01,  3.09it/s]"
     ]
    },
    {
     "name": "stdout",
     "output_type": "stream",
     "text": [
      "Getting Original Date\n",
      "Getting quots \n",
      "Ticker:  aep \n",
      "Date:  2007-04-10\n",
      "Quote Loaded\n"
     ]
    },
    {
     "name": "stderr",
     "output_type": "stream",
     "text": [
      "\n",
      " 50%|█████████████████████████████████████████▌                                         | 5/10 [00:01<00:01,  3.23it/s]"
     ]
    },
    {
     "name": "stdout",
     "output_type": "stream",
     "text": [
      "Getting Original Date\n",
      "Getting quots \n",
      "Ticker:  aep \n",
      "Date:  2008-01-23\n",
      "Quote Loaded\n"
     ]
    },
    {
     "name": "stderr",
     "output_type": "stream",
     "text": [
      "\n",
      " 60%|█████████████████████████████████████████████████▊                                 | 6/10 [00:01<00:01,  3.21it/s]"
     ]
    },
    {
     "name": "stdout",
     "output_type": "stream",
     "text": [
      "Getting Original Date\n",
      "Getting quots \n",
      "Ticker:  aep \n",
      "Date:  2011-04-08\n",
      "Quote Loaded\n"
     ]
    },
    {
     "name": "stderr",
     "output_type": "stream",
     "text": [
      "\n",
      " 70%|██████████████████████████████████████████████████████████                         | 7/10 [00:02<00:01,  2.95it/s]"
     ]
    },
    {
     "name": "stdout",
     "output_type": "stream",
     "text": [
      "Getting Original Date\n",
      "Pointing Date is -  6 (Day of the week)\n",
      "Checking Next Day\n",
      "Getting quots \n",
      "Ticker:  aep \n",
      "Date:  2011-11-14\n",
      "Quote Loaded\n"
     ]
    },
    {
     "name": "stderr",
     "output_type": "stream",
     "text": [
      "\n",
      " 80%|██████████████████████████████████████████████████████████████████▍                | 8/10 [00:02<00:00,  3.01it/s]"
     ]
    },
    {
     "name": "stdout",
     "output_type": "stream",
     "text": [
      "Getting Original Date\n",
      "Getting quots \n",
      "Ticker:  aep \n",
      "Date:  2012-07-27\n",
      "Quote Loaded\n"
     ]
    },
    {
     "name": "stderr",
     "output_type": "stream",
     "text": [
      "\n",
      " 90%|██████████████████████████████████████████████████████████████████████████▋        | 9/10 [00:02<00:00,  3.09it/s]"
     ]
    },
    {
     "name": "stdout",
     "output_type": "stream",
     "text": [
      "Getting Original Date\n",
      "Getting quots \n",
      "Ticker:  aep \n",
      "Date:  2013-04-25\n",
      "Quote Loaded\n"
     ]
    },
    {
     "name": "stderr",
     "output_type": "stream",
     "text": [
      "\n",
      "100%|██████████████████████████████████████████████████████████████████████████████████| 10/10 [00:03<00:00,  3.04it/s]\n"
     ]
    },
    {
     "name": "stdout",
     "output_type": "stream",
     "text": [
      "Will save to file:  c:\\data\\finml\\PriceVsSNP500_aep.csv\n",
      "Getting Stock Price Data...\n"
     ]
    },
    {
     "name": "stderr",
     "output_type": "stream",
     "text": [
      "\n",
      "  0%|                                                                                           | 0/16 [00:00<?, ?it/s]"
     ]
    },
    {
     "name": "stdout",
     "output_type": "stream",
     "text": [
      "Getting Original Date\n",
      "Pointing Date is -  6 (Day of the week)\n",
      "Checking Next Day\n",
      "Getting quots \n",
      "Ticker:  abc \n",
      "Date:  2003-10-28\n",
      "Quote Loaded\n"
     ]
    },
    {
     "name": "stderr",
     "output_type": "stream",
     "text": [
      "\n",
      "  6%|█████▏                                                                             | 1/16 [00:00<00:05,  2.59it/s]"
     ]
    },
    {
     "name": "stdout",
     "output_type": "stream",
     "text": [
      "Getting Original Date\n",
      "Getting quots \n",
      "Ticker:  abc \n",
      "Date:  2004-01-28\n",
      "Quote Loaded\n"
     ]
    },
    {
     "name": "stderr",
     "output_type": "stream",
     "text": [
      "\n",
      " 12%|██████████▍                                                                        | 2/16 [00:00<00:06,  2.29it/s]"
     ]
    },
    {
     "name": "stdout",
     "output_type": "stream",
     "text": [
      "Getting Original Date\n",
      "Pointing Date is -  6 (Day of the week)\n",
      "Checking Next Day\n",
      "Getting quots \n",
      "Ticker:  abc \n",
      "Date:  2004-05-18\n",
      "Quote Loaded\n"
     ]
    },
    {
     "name": "stderr",
     "output_type": "stream",
     "text": [
      "\n",
      " 19%|███████████████▌                                                                   | 3/16 [00:01<00:05,  2.37it/s]"
     ]
    },
    {
     "name": "stdout",
     "output_type": "stream",
     "text": [
      "Getting Original Date\n",
      "Getting quots \n",
      "Ticker:  abc \n",
      "Date:  2004-10-20\n",
      "Quote Loaded\n"
     ]
    },
    {
     "name": "stderr",
     "output_type": "stream",
     "text": [
      "\n",
      " 25%|████████████████████▊                                                              | 4/16 [00:01<00:04,  2.63it/s]"
     ]
    },
    {
     "name": "stdout",
     "output_type": "stream",
     "text": [
      "Getting Original Date\n",
      "Pointing Date is -  5 (Day of the week)\n",
      "Checking Next Day\n",
      "Pointing Date is -  6 (Day of the week)\n",
      "Checking Next Day\n",
      "Getting quots \n",
      "Ticker:  abc \n",
      "Date:  2005-01-11\n",
      "Quote Loaded\n"
     ]
    },
    {
     "name": "stderr",
     "output_type": "stream",
     "text": [
      "\n",
      " 31%|█████████████████████████▉                                                         | 5/16 [00:01<00:04,  2.67it/s]"
     ]
    },
    {
     "name": "stdout",
     "output_type": "stream",
     "text": [
      "Getting Original Date\n",
      "Getting quots \n",
      "Ticker:  abc \n",
      "Date:  2005-03-30\n",
      "Quote Loaded\n"
     ]
    },
    {
     "name": "stderr",
     "output_type": "stream",
     "text": [
      "\n",
      " 38%|███████████████████████████████▏                                                   | 6/16 [00:02<00:03,  2.62it/s]"
     ]
    },
    {
     "name": "stdout",
     "output_type": "stream",
     "text": [
      "Getting Original Date\n",
      "Getting quots \n",
      "Ticker:  abc \n",
      "Date:  2005-05-26\n",
      "Quote Loaded\n"
     ]
    },
    {
     "name": "stderr",
     "output_type": "stream",
     "text": [
      "\n",
      " 44%|████████████████████████████████████▎                                              | 7/16 [00:02<00:03,  2.50it/s]"
     ]
    },
    {
     "name": "stdout",
     "output_type": "stream",
     "text": [
      "Getting Original Date\n",
      "Pointing Date is -  6 (Day of the week)\n",
      "Checking Next Day\n",
      "Getting quots \n",
      "Ticker:  abc \n",
      "Date:  2005-12-05\n",
      "Quote Loaded\n"
     ]
    },
    {
     "name": "stderr",
     "output_type": "stream",
     "text": [
      "\n",
      " 50%|█████████████████████████████████████████▌                                         | 8/16 [00:03<00:03,  2.42it/s]"
     ]
    },
    {
     "name": "stdout",
     "output_type": "stream",
     "text": [
      "Getting Original Date\n",
      "Getting quots \n",
      "Ticker:  abc \n",
      "Date:  2007-02-20\n",
      "Quote Loaded\n"
     ]
    },
    {
     "name": "stderr",
     "output_type": "stream",
     "text": [
      "\n",
      " 56%|██████████████████████████████████████████████▋                                    | 9/16 [00:03<00:02,  2.39it/s]"
     ]
    },
    {
     "name": "stdout",
     "output_type": "stream",
     "text": [
      "Getting Original Date\n",
      "Getting quots \n",
      "Ticker:  abc \n",
      "Date:  2007-04-05\n",
      "Quote Loaded\n"
     ]
    },
    {
     "name": "stderr",
     "output_type": "stream",
     "text": [
      "\n",
      " 62%|███████████████████████████████████████████████████▎                              | 10/16 [00:04<00:02,  2.38it/s]"
     ]
    },
    {
     "name": "stdout",
     "output_type": "stream",
     "text": [
      "Getting Original Date\n",
      "Getting quots \n",
      "Ticker:  abc \n",
      "Date:  2008-01-23\n",
      "Quote Loaded\n"
     ]
    },
    {
     "name": "stderr",
     "output_type": "stream",
     "text": [
      "\n",
      " 69%|████████████████████████████████████████████████████████▍                         | 11/16 [00:04<00:02,  2.37it/s]"
     ]
    },
    {
     "name": "stdout",
     "output_type": "stream",
     "text": [
      "Getting Original Date\n",
      "Getting quots \n",
      "Ticker:  abc \n",
      "Date:  2009-02-09\n",
      "Quote Loaded\n"
     ]
    },
    {
     "name": "stderr",
     "output_type": "stream",
     "text": [
      "\n",
      " 75%|█████████████████████████████████████████████████████████████▌                    | 12/16 [00:04<00:01,  2.44it/s]"
     ]
    },
    {
     "name": "stdout",
     "output_type": "stream",
     "text": [
      "Getting Original Date\n",
      "Pointing Date is -  5 (Day of the week)\n",
      "Checking Next Day\n",
      "Pointing Date is -  6 (Day of the week)\n",
      "Checking Next Day\n",
      "Getting quots \n",
      "Ticker:  abc \n",
      "Date:  2010-08-24\n",
      "Quote Loaded\n"
     ]
    },
    {
     "name": "stderr",
     "output_type": "stream",
     "text": [
      "\n",
      " 81%|██████████████████████████████████████████████████████████████████▋               | 13/16 [00:05<00:01,  2.48it/s]"
     ]
    },
    {
     "name": "stdout",
     "output_type": "stream",
     "text": [
      "Getting Original Date\n",
      "Getting quots \n",
      "Ticker:  abc \n",
      "Date:  2011-07-08\n",
      "Quote Loaded\n"
     ]
    },
    {
     "name": "stderr",
     "output_type": "stream",
     "text": [
      "\n",
      " 88%|███████████████████████████████████████████████████████████████████████▊          | 14/16 [00:05<00:00,  2.49it/s]"
     ]
    },
    {
     "name": "stdout",
     "output_type": "stream",
     "text": [
      "Getting Original Date\n",
      "Getting quots \n",
      "Ticker:  abc \n",
      "Date:  2012-02-28\n",
      "Quote Loaded\n"
     ]
    },
    {
     "name": "stderr",
     "output_type": "stream",
     "text": [
      "\n",
      " 94%|████████████████████████████████████████████████████████████████████████████▉     | 15/16 [00:05<00:00,  2.51it/s]"
     ]
    },
    {
     "name": "stdout",
     "output_type": "stream",
     "text": [
      "Getting Original Date\n",
      "Getting quots \n",
      "Ticker:  abc \n",
      "Date:  2013-04-25\n",
      "Quote Loaded\n"
     ]
    },
    {
     "name": "stderr",
     "output_type": "stream",
     "text": [
      "\n",
      "100%|██████████████████████████████████████████████████████████████████████████████████| 16/16 [00:06<00:00,  2.49it/s]\n"
     ]
    },
    {
     "name": "stdout",
     "output_type": "stream",
     "text": [
      "Will save to file:  c:\\data\\finml\\PriceVsSNP500_abc.csv\n",
      "Getting Stock Price Data...\n"
     ]
    },
    {
     "name": "stderr",
     "output_type": "stream",
     "text": [
      "\n",
      "  0%|                                                                                           | 0/13 [00:00<?, ?it/s]"
     ]
    },
    {
     "name": "stdout",
     "output_type": "stream",
     "text": [
      "Getting Original Date\n",
      "Pointing Date is -  5 (Day of the week)\n",
      "Checking Next Day\n",
      "Getting quots \n",
      "Ticker:  aeo \n",
      "Date:  2007-03-19\n",
      "Quote Loaded\n"
     ]
    },
    {
     "name": "stderr",
     "output_type": "stream",
     "text": [
      "\n",
      "  8%|██████▍                                                                            | 1/13 [00:00<00:03,  3.19it/s]"
     ]
    },
    {
     "name": "stdout",
     "output_type": "stream",
     "text": [
      "Getting Original Date\n",
      "Getting quots \n",
      "Ticker:  aeo \n",
      "Date:  2007-09-20\n",
      "Quote Loaded\n"
     ]
    },
    {
     "name": "stderr",
     "output_type": "stream",
     "text": [
      "\n",
      " 15%|████████████▊                                                                      | 2/13 [00:00<00:04,  2.74it/s]"
     ]
    },
    {
     "name": "stdout",
     "output_type": "stream",
     "text": [
      "Getting Original Date\n",
      "Pointing Date is -  5 (Day of the week)\n",
      "Checking Next Day\n",
      "Getting quots \n",
      "Ticker:  aeo \n",
      "Date:  2007-10-15\n",
      "Quote Loaded\n"
     ]
    },
    {
     "name": "stderr",
     "output_type": "stream",
     "text": [
      "\n",
      " 23%|███████████████████▏                                                               | 3/13 [00:01<00:03,  2.61it/s]"
     ]
    },
    {
     "name": "stdout",
     "output_type": "stream",
     "text": [
      "Getting Original Date\n",
      "Getting quots \n",
      "Ticker:  aeo \n",
      "Date:  2008-01-24\n",
      "Quote Loaded\n"
     ]
    },
    {
     "name": "stderr",
     "output_type": "stream",
     "text": [
      "\n",
      " 31%|█████████████████████████▌                                                         | 4/13 [00:01<00:03,  2.72it/s]"
     ]
    },
    {
     "name": "stdout",
     "output_type": "stream",
     "text": [
      "Getting Original Date\n",
      "Getting quots \n",
      "Ticker:  aeo \n",
      "Date:  2008-12-08\n",
      "Quote Loaded\n"
     ]
    },
    {
     "name": "stderr",
     "output_type": "stream",
     "text": [
      "\n",
      " 38%|███████████████████████████████▉                                                   | 5/13 [00:01<00:02,  2.77it/s]"
     ]
    },
    {
     "name": "stdout",
     "output_type": "stream",
     "text": [
      "Getting Original Date\n",
      "Getting quots \n",
      "Ticker:  aeo \n",
      "Date:  2009-01-12\n",
      "Quote Loaded\n"
     ]
    },
    {
     "name": "stderr",
     "output_type": "stream",
     "text": [
      "\n",
      " 46%|██████████████████████████████████████▎                                            | 6/13 [00:02<00:02,  2.78it/s]"
     ]
    },
    {
     "name": "stdout",
     "output_type": "stream",
     "text": [
      "Getting Original Date\n",
      "Pointing Date is -  5 (Day of the week)\n",
      "Checking Next Day\n",
      "Getting quots \n",
      "Ticker:  aeo \n",
      "Date:  2009-03-09\n",
      "Quote Loaded\n"
     ]
    },
    {
     "name": "stderr",
     "output_type": "stream",
     "text": [
      "\n",
      " 54%|████████████████████████████████████████████▋                                      | 7/13 [00:02<00:02,  2.77it/s]"
     ]
    },
    {
     "name": "stdout",
     "output_type": "stream",
     "text": [
      "Getting Original Date\n",
      "Getting quots \n",
      "Ticker:  aeo \n",
      "Date:  2011-11-17\n",
      "Quote Loaded\n"
     ]
    },
    {
     "name": "stderr",
     "output_type": "stream",
     "text": [
      "\n",
      " 62%|███████████████████████████████████████████████████                                | 8/13 [00:03<00:01,  2.58it/s]"
     ]
    },
    {
     "name": "stdout",
     "output_type": "stream",
     "text": [
      "Getting Original Date\n",
      "Pointing Date is -  6 (Day of the week)\n",
      "Checking Next Day\n",
      "Getting quots \n",
      "Ticker:  aeo \n",
      "Date:  2012-01-03\n",
      "Quote Loaded\n"
     ]
    },
    {
     "name": "stderr",
     "output_type": "stream",
     "text": [
      "\n",
      " 69%|█████████████████████████████████████████████████████████▍                         | 9/13 [00:03<00:01,  2.60it/s]"
     ]
    },
    {
     "name": "stdout",
     "output_type": "stream",
     "text": [
      "Getting Original Date\n",
      "Getting quots \n",
      "Ticker:  aeo \n",
      "Date:  2012-07-23\n",
      "Quote Loaded\n"
     ]
    },
    {
     "name": "stderr",
     "output_type": "stream",
     "text": [
      "\n",
      " 77%|███████████████████████████████████████████████████████████████                   | 10/13 [00:03<00:01,  2.55it/s]"
     ]
    },
    {
     "name": "stdout",
     "output_type": "stream",
     "text": [
      "Getting Original Date\n",
      "Pointing Date is -  6 (Day of the week)\n",
      "Checking Next Day\n",
      "Getting quots \n",
      "Ticker:  aeo \n",
      "Date:  2012-10-15\n",
      "Quote Loaded\n"
     ]
    },
    {
     "name": "stderr",
     "output_type": "stream",
     "text": [
      "\n",
      " 85%|█████████████████████████████████████████████████████████████████████▍            | 11/13 [00:04<00:00,  2.54it/s]"
     ]
    },
    {
     "name": "stdout",
     "output_type": "stream",
     "text": [
      "Getting Original Date\n",
      "Pointing Date is -  5 (Day of the week)\n",
      "Checking Next Day\n",
      "Pointing Date is -  6 (Day of the week)\n",
      "Checking Next Day\n",
      "Getting quots \n",
      "Ticker:  aeo \n",
      "Date:  2013-04-02\n",
      "Quote Loaded\n"
     ]
    },
    {
     "name": "stderr",
     "output_type": "stream",
     "text": [
      "\n",
      " 92%|███████████████████████████████████████████████████████████████████████████▋      | 12/13 [00:04<00:00,  2.48it/s]"
     ]
    },
    {
     "name": "stdout",
     "output_type": "stream",
     "text": [
      "Getting Original Date\n",
      "Getting quots \n",
      "Ticker:  aeo \n",
      "Date:  2013-05-10\n",
      "Quote Loaded\n"
     ]
    },
    {
     "name": "stderr",
     "output_type": "stream",
     "text": [
      "\n",
      "100%|██████████████████████████████████████████████████████████████████████████████████| 13/13 [00:05<00:00,  2.51it/s]\n"
     ]
    },
    {
     "name": "stdout",
     "output_type": "stream",
     "text": [
      "Will save to file:  c:\\data\\finml\\PriceVsSNP500_aeo.csv\n",
      "Getting Stock Price Data...\n"
     ]
    },
    {
     "name": "stderr",
     "output_type": "stream",
     "text": [
      "\n",
      "  0%|                                                                                           | 0/21 [00:00<?, ?it/s]"
     ]
    },
    {
     "name": "stdout",
     "output_type": "stream",
     "text": [
      "Getting Original Date\n",
      "Getting quots \n",
      "Ticker:  adp \n",
      "Date:  2004-05-12\n",
      "Quote Loaded\n"
     ]
    },
    {
     "name": "stderr",
     "output_type": "stream",
     "text": [
      "\n",
      "  5%|███▉                                                                               | 1/21 [00:00<00:09,  2.01it/s]"
     ]
    },
    {
     "name": "stdout",
     "output_type": "stream",
     "text": [
      "Getting Original Date\n",
      "Cannot Get data from Quandl. Skipping this one\n",
      "Getting Original Date\n",
      "Getting quots \n",
      "Ticker:  adp \n",
      "Date:  2006-06-27\n",
      "Quote Loaded\n"
     ]
    },
    {
     "name": "stderr",
     "output_type": "stream",
     "text": [
      "\n",
      " 14%|███████████▊                                                                       | 3/21 [00:01<00:06,  2.96it/s]"
     ]
    },
    {
     "name": "stdout",
     "output_type": "stream",
     "text": [
      "Getting Original Date\n",
      "Getting quots \n",
      "Ticker:  adp \n",
      "Date:  2007-02-20\n",
      "Quote Loaded\n"
     ]
    },
    {
     "name": "stderr",
     "output_type": "stream",
     "text": [
      "\n",
      " 19%|███████████████▊                                                                   | 4/21 [00:01<00:05,  2.99it/s]"
     ]
    },
    {
     "name": "stdout",
     "output_type": "stream",
     "text": [
      "Getting Original Date\n",
      "Pointing Date is -  5 (Day of the week)\n",
      "Checking Next Day\n",
      "Pointing Date is -  6 (Day of the week)\n",
      "Checking Next Day\n",
      "Getting quots \n",
      "Ticker:  adp \n",
      "Date:  2007-05-01\n",
      "Quote Loaded\n"
     ]
    },
    {
     "name": "stderr",
     "output_type": "stream",
     "text": [
      "\n",
      " 24%|███████████████████▊                                                               | 5/21 [00:01<00:05,  3.07it/s]"
     ]
    },
    {
     "name": "stdout",
     "output_type": "stream",
     "text": [
      "Getting Original Date\n",
      "Cannot Get data from Quandl. Skipping this one\n",
      "Getting Original Date\n",
      "Pointing Date is -  5 (Day of the week)\n",
      "Checking Next Day\n",
      "Pointing Date is -  6 (Day of the week)\n",
      "Checking Next Day\n",
      "Getting quots \n",
      "Ticker:  adp \n",
      "Date:  2007-07-03\n",
      "Quote Loaded\n"
     ]
    },
    {
     "name": "stderr",
     "output_type": "stream",
     "text": [
      "\n",
      " 33%|███████████████████████████▋                                                       | 7/21 [00:01<00:03,  3.65it/s]"
     ]
    },
    {
     "name": "stdout",
     "output_type": "stream",
     "text": [
      "Getting Original Date\n",
      "Getting quots \n",
      "Ticker:  adp \n",
      "Date:  2007-10-22\n",
      "Quote Loaded\n"
     ]
    },
    {
     "name": "stderr",
     "output_type": "stream",
     "text": [
      "\n",
      " 38%|███████████████████████████████▌                                                   | 8/21 [00:02<00:03,  3.45it/s]"
     ]
    },
    {
     "name": "stdout",
     "output_type": "stream",
     "text": [
      "Getting Original Date\n",
      "Getting quots \n",
      "Ticker:  adp \n",
      "Date:  2008-01-23\n",
      "Quote Loaded\n"
     ]
    },
    {
     "name": "stderr",
     "output_type": "stream",
     "text": [
      "\n",
      " 43%|███████████████████████████████████▌                                               | 9/21 [00:02<00:03,  3.36it/s]"
     ]
    },
    {
     "name": "stdout",
     "output_type": "stream",
     "text": [
      "Getting Original Date\n",
      "Pointing Date is -  6 (Day of the week)\n",
      "Checking Next Day\n",
      "Getting quots \n",
      "Ticker:  adp \n",
      "Date:  2008-12-08\n",
      "Quote Loaded\n"
     ]
    },
    {
     "name": "stderr",
     "output_type": "stream",
     "text": [
      "\n",
      " 48%|███████████████████████████████████████                                           | 10/21 [00:03<00:03,  3.16it/s]"
     ]
    },
    {
     "name": "stdout",
     "output_type": "stream",
     "text": [
      "Getting Original Date\n",
      "Getting quots \n",
      "Ticker:  adp \n",
      "Date:  2009-03-27\n",
      "Quote Loaded\n"
     ]
    },
    {
     "name": "stderr",
     "output_type": "stream",
     "text": [
      "\n",
      " 52%|██████████████████████████████████████████▉                                       | 11/21 [00:03<00:03,  3.17it/s]"
     ]
    },
    {
     "name": "stdout",
     "output_type": "stream",
     "text": [
      "Getting Original Date\n",
      "Getting quots \n",
      "Ticker:  adp \n",
      "Date:  2009-06-22\n",
      "Quote Loaded\n"
     ]
    },
    {
     "name": "stderr",
     "output_type": "stream",
     "text": [
      "\n",
      " 57%|██████████████████████████████████████████████▊                                   | 12/21 [00:03<00:02,  3.18it/s]"
     ]
    },
    {
     "name": "stdout",
     "output_type": "stream",
     "text": [
      "Getting Original Date\n",
      "Getting quots \n",
      "Ticker:  adp \n",
      "Date:  2011-08-05\n",
      "Quote Loaded\n"
     ]
    },
    {
     "name": "stderr",
     "output_type": "stream",
     "text": [
      "\n",
      " 62%|██████████████████████████████████████████████████▊                               | 13/21 [00:04<00:02,  3.17it/s]"
     ]
    },
    {
     "name": "stdout",
     "output_type": "stream",
     "text": [
      "Getting Original Date\n",
      "Getting quots \n",
      "Ticker:  adp \n",
      "Date:  2011-09-30\n",
      "Quote Loaded\n"
     ]
    },
    {
     "name": "stderr",
     "output_type": "stream",
     "text": [
      "\n",
      " 67%|██████████████████████████████████████████████████████▋                           | 14/21 [00:04<00:02,  3.17it/s]"
     ]
    },
    {
     "name": "stdout",
     "output_type": "stream",
     "text": [
      "Getting Original Date\n",
      "Getting quots \n",
      "Ticker:  adp \n",
      "Date:  2012-01-04\n",
      "Quote Loaded\n"
     ]
    },
    {
     "name": "stderr",
     "output_type": "stream",
     "text": [
      "\n",
      " 71%|██████████████████████████████████████████████████████████▌                       | 15/21 [00:04<00:01,  3.06it/s]"
     ]
    },
    {
     "name": "stdout",
     "output_type": "stream",
     "text": [
      "Getting Original Date\n",
      "Getting quots \n",
      "Ticker:  adp \n",
      "Date:  2012-04-20\n",
      "Quote Loaded\n"
     ]
    },
    {
     "name": "stderr",
     "output_type": "stream",
     "text": [
      "\n",
      " 76%|██████████████████████████████████████████████████████████████▍                   | 16/21 [00:05<00:01,  2.95it/s]"
     ]
    },
    {
     "name": "stdout",
     "output_type": "stream",
     "text": [
      "Getting Original Date\n",
      "Getting quots \n",
      "Ticker:  adp \n",
      "Date:  2012-07-26\n",
      "Quote Loaded\n"
     ]
    },
    {
     "name": "stderr",
     "output_type": "stream",
     "text": [
      "\n",
      " 81%|██████████████████████████████████████████████████████████████████▍               | 17/21 [00:05<00:01,  2.91it/s]"
     ]
    },
    {
     "name": "stdout",
     "output_type": "stream",
     "text": [
      "Getting Original Date\n",
      "Pointing Date is -  6 (Day of the week)\n",
      "Checking Next Day\n",
      "Getting quots \n",
      "Ticker:  adp \n",
      "Date:  2012-11-06\n",
      "Quote Loaded\n"
     ]
    },
    {
     "name": "stderr",
     "output_type": "stream",
     "text": [
      "\n",
      " 86%|██████████████████████████████████████████████████████████████████████▎           | 18/21 [00:06<00:01,  2.89it/s]"
     ]
    },
    {
     "name": "stdout",
     "output_type": "stream",
     "text": [
      "Getting Original Date\n",
      "Getting quots \n",
      "Ticker:  adp \n",
      "Date:  2013-02-06\n",
      "Quote Loaded\n"
     ]
    },
    {
     "name": "stderr",
     "output_type": "stream",
     "text": [
      "\n",
      " 90%|██████████████████████████████████████████████████████████████████████████▏       | 19/21 [00:06<00:00,  2.89it/s]"
     ]
    },
    {
     "name": "stdout",
     "output_type": "stream",
     "text": [
      "Getting Original Date\n",
      "Getting quots \n",
      "Ticker:  adp \n",
      "Date:  2013-04-23\n",
      "Quote Loaded\n"
     ]
    },
    {
     "name": "stderr",
     "output_type": "stream",
     "text": [
      "\n",
      " 95%|██████████████████████████████████████████████████████████████████████████████    | 20/21 [00:07<00:00,  2.83it/s]"
     ]
    },
    {
     "name": "stdout",
     "output_type": "stream",
     "text": [
      "Getting Original Date\n",
      "Getting quots \n",
      "Ticker:  adp \n",
      "Date:  2013-04-26\n",
      "Quote Loaded\n"
     ]
    },
    {
     "name": "stderr",
     "output_type": "stream",
     "text": [
      "\n",
      "100%|██████████████████████████████████████████████████████████████████████████████████| 21/21 [00:07<00:00,  2.76it/s]\n"
     ]
    },
    {
     "name": "stdout",
     "output_type": "stream",
     "text": [
      "Will save to file:  c:\\data\\finml\\PriceVsSNP500_adp.csv\n",
      "Getting Stock Price Data...\n"
     ]
    },
    {
     "name": "stderr",
     "output_type": "stream",
     "text": [
      "\n",
      "  0%|                                                                                           | 0/56 [00:00<?, ?it/s]"
     ]
    },
    {
     "name": "stdout",
     "output_type": "stream",
     "text": [
      "Getting Original Date\n",
      "Getting quots \n",
      "Ticker:  amzn \n",
      "Date:  2003-10-03\n",
      "Quote Loaded\n"
     ]
    },
    {
     "name": "stderr",
     "output_type": "stream",
     "text": [
      "\n",
      "  2%|█▍                                                                                 | 1/56 [00:00<00:15,  3.44it/s]"
     ]
    },
    {
     "name": "stdout",
     "output_type": "stream",
     "text": [
      "Getting Original Date\n",
      "Getting quots \n",
      "Ticker:  amzn \n",
      "Date:  2004-08-10\n",
      "Quote Loaded\n"
     ]
    },
    {
     "name": "stderr",
     "output_type": "stream",
     "text": [
      "\n",
      "  4%|██▉                                                                                | 2/56 [00:00<00:19,  2.74it/s]"
     ]
    },
    {
     "name": "stdout",
     "output_type": "stream",
     "text": [
      "Getting Original Date\n",
      "Getting quots \n",
      "Ticker:  amzn \n",
      "Date:  2004-10-13\n",
      "Quote Loaded\n"
     ]
    },
    {
     "name": "stderr",
     "output_type": "stream",
     "text": [
      "\n",
      "  5%|████▍                                                                              | 3/56 [00:01<00:20,  2.64it/s]"
     ]
    },
    {
     "name": "stdout",
     "output_type": "stream",
     "text": [
      "Getting Original Date\n",
      "Pointing Date is -  5 (Day of the week)\n",
      "Checking Next Day\n",
      "Getting quots \n",
      "Ticker:  amzn \n",
      "Date:  2004-12-06\n",
      "Quote Loaded\n"
     ]
    },
    {
     "name": "stderr",
     "output_type": "stream",
     "text": [
      "\n",
      "  7%|█████▉                                                                             | 4/56 [00:01<00:19,  2.61it/s]"
     ]
    },
    {
     "name": "stdout",
     "output_type": "stream",
     "text": [
      "Getting Original Date\n",
      "Getting quots \n",
      "Ticker:  amzn \n",
      "Date:  2005-02-04\n",
      "Quote Loaded\n"
     ]
    },
    {
     "name": "stderr",
     "output_type": "stream",
     "text": [
      "\n",
      "  9%|███████▍                                                                           | 5/56 [00:01<00:19,  2.65it/s]"
     ]
    },
    {
     "name": "stdout",
     "output_type": "stream",
     "text": [
      "Getting Original Date\n",
      "Getting quots \n",
      "Ticker:  amzn \n",
      "Date:  2005-02-23\n",
      "Quote Loaded\n"
     ]
    },
    {
     "name": "stderr",
     "output_type": "stream",
     "text": [
      "\n",
      " 11%|████████▉                                                                          | 6/56 [00:02<00:19,  2.53it/s]"
     ]
    },
    {
     "name": "stdout",
     "output_type": "stream",
     "text": [
      "Getting Original Date\n",
      "Pointing Date is -  6 (Day of the week)\n",
      "Checking Next Day\n",
      "Getting quots \n",
      "Ticker:  amzn \n",
      "Date:  2005-04-05\n",
      "Quote Loaded\n"
     ]
    },
    {
     "name": "stderr",
     "output_type": "stream",
     "text": [
      "\n",
      " 12%|██████████▍                                                                        | 7/56 [00:02<00:20,  2.43it/s]"
     ]
    },
    {
     "name": "stdout",
     "output_type": "stream",
     "text": [
      "Getting Original Date\n",
      "Pointing Date is -  5 (Day of the week)\n",
      "Checking Next Day\n",
      "Getting quots \n",
      "Ticker:  amzn \n",
      "Date:  2005-04-25\n",
      "Quote Loaded\n"
     ]
    },
    {
     "name": "stderr",
     "output_type": "stream",
     "text": [
      "\n",
      " 14%|███████████▊                                                                       | 8/56 [00:03<00:20,  2.36it/s]"
     ]
    },
    {
     "name": "stdout",
     "output_type": "stream",
     "text": [
      "Getting Original Date\n",
      "Getting quots \n",
      "Ticker:  amzn \n",
      "Date:  2006-02-07\n",
      "Quote Loaded\n"
     ]
    },
    {
     "name": "stderr",
     "output_type": "stream",
     "text": [
      "\n",
      " 16%|█████████████▎                                                                     | 9/56 [00:03<00:19,  2.37it/s]"
     ]
    },
    {
     "name": "stdout",
     "output_type": "stream",
     "text": [
      "Getting Original Date\n",
      "Pointing Date is -  6 (Day of the week)\n",
      "Checking Next Day\n",
      "Cannot Get data from Quandl. Skipping this one\n",
      "Getting Original Date\n",
      "Getting quots \n",
      "Ticker:  amzn \n",
      "Date:  2006-02-21\n",
      "Quote Loaded\n"
     ]
    },
    {
     "name": "stderr",
     "output_type": "stream",
     "text": [
      "\n",
      " 20%|████████████████                                                                  | 11/56 [00:04<00:17,  2.55it/s]"
     ]
    },
    {
     "name": "stdout",
     "output_type": "stream",
     "text": [
      "Getting Original Date\n",
      "Getting quots \n",
      "Ticker:  amzn \n",
      "Date:  2006-02-23\n",
      "Quote Loaded\n"
     ]
    },
    {
     "name": "stderr",
     "output_type": "stream",
     "text": [
      "\n",
      " 21%|█████████████████▌                                                                | 12/56 [00:04<00:17,  2.58it/s]"
     ]
    },
    {
     "name": "stdout",
     "output_type": "stream",
     "text": [
      "Getting Original Date\n",
      "Pointing Date is -  5 (Day of the week)\n",
      "Checking Next Day\n",
      "Pointing Date is -  6 (Day of the week)\n",
      "Checking Next Day\n",
      "Getting quots \n",
      "Ticker:  amzn \n",
      "Date:  2006-02-28\n",
      "Quote Loaded\n"
     ]
    },
    {
     "name": "stderr",
     "output_type": "stream",
     "text": [
      "\n",
      " 23%|███████████████████                                                               | 13/56 [00:05<00:16,  2.59it/s]"
     ]
    },
    {
     "name": "stdout",
     "output_type": "stream",
     "text": [
      "Getting Original Date\n",
      "Getting quots \n",
      "Ticker:  amzn \n",
      "Date:  2006-03-02\n",
      "Quote Loaded\n"
     ]
    },
    {
     "name": "stderr",
     "output_type": "stream",
     "text": [
      "\n",
      " 25%|████████████████████▌                                                             | 14/56 [00:05<00:16,  2.60it/s]"
     ]
    },
    {
     "name": "stdout",
     "output_type": "stream",
     "text": [
      "Getting Original Date\n",
      "Getting quots \n",
      "Ticker:  amzn \n",
      "Date:  2006-04-10\n",
      "Quote Loaded\n"
     ]
    },
    {
     "name": "stderr",
     "output_type": "stream",
     "text": [
      "\n",
      " 27%|█████████████████████▉                                                            | 15/56 [00:05<00:15,  2.57it/s]"
     ]
    },
    {
     "name": "stdout",
     "output_type": "stream",
     "text": [
      "Getting Original Date\n",
      "Getting quots \n",
      "Ticker:  amzn \n",
      "Date:  2006-04-12\n",
      "Quote Loaded\n"
     ]
    },
    {
     "name": "stderr",
     "output_type": "stream",
     "text": [
      "\n",
      " 29%|███████████████████████▍                                                          | 16/56 [00:06<00:15,  2.51it/s]"
     ]
    },
    {
     "name": "stdout",
     "output_type": "stream",
     "text": [
      "Getting Original Date\n",
      "Getting quots \n",
      "Ticker:  amzn \n",
      "Date:  2006-04-12\n",
      "Quote Loaded\n"
     ]
    },
    {
     "name": "stderr",
     "output_type": "stream",
     "text": [
      "\n",
      " 30%|████████████████████████▉                                                         | 17/56 [00:06<00:15,  2.47it/s]"
     ]
    },
    {
     "name": "stdout",
     "output_type": "stream",
     "text": [
      "Getting Original Date\n",
      "Pointing Date is -  5 (Day of the week)\n",
      "Checking Next Day\n",
      "Getting quots \n",
      "Ticker:  amzn \n",
      "Date:  2006-04-17\n",
      "Quote Loaded\n"
     ]
    },
    {
     "name": "stderr",
     "output_type": "stream",
     "text": [
      "\n",
      " 32%|██████████████████████████▎                                                       | 18/56 [00:07<00:15,  2.48it/s]"
     ]
    },
    {
     "name": "stdout",
     "output_type": "stream",
     "text": [
      "Getting Original Date\n",
      "Getting quots \n",
      "Ticker:  amzn \n",
      "Date:  2006-04-17\n",
      "Quote Loaded\n"
     ]
    },
    {
     "name": "stderr",
     "output_type": "stream",
     "text": [
      "\n",
      " 34%|███████████████████████████▊                                                      | 19/56 [00:07<00:15,  2.46it/s]"
     ]
    },
    {
     "name": "stdout",
     "output_type": "stream",
     "text": [
      "Getting Original Date\n",
      "Getting quots \n",
      "Ticker:  amzn \n",
      "Date:  2006-04-24\n",
      "Quote Loaded\n"
     ]
    },
    {
     "name": "stderr",
     "output_type": "stream",
     "text": [
      "\n",
      " 36%|█████████████████████████████▎                                                    | 20/56 [00:08<00:14,  2.45it/s]"
     ]
    },
    {
     "name": "stdout",
     "output_type": "stream",
     "text": [
      "Getting Original Date\n",
      "Getting quots \n",
      "Ticker:  amzn \n",
      "Date:  2006-04-27\n",
      "Quote Loaded\n"
     ]
    },
    {
     "name": "stderr",
     "output_type": "stream",
     "text": [
      "\n",
      " 38%|██████████████████████████████▊                                                   | 21/56 [00:08<00:14,  2.44it/s]"
     ]
    },
    {
     "name": "stdout",
     "output_type": "stream",
     "text": [
      "Getting Original Date\n",
      "Getting quots \n",
      "Ticker:  amzn \n",
      "Date:  2006-04-27\n",
      "Quote Loaded\n"
     ]
    },
    {
     "name": "stderr",
     "output_type": "stream",
     "text": [
      "\n",
      " 39%|████████████████████████████████▏                                                 | 22/56 [00:08<00:13,  2.46it/s]"
     ]
    },
    {
     "name": "stdout",
     "output_type": "stream",
     "text": [
      "Getting Original Date\n",
      "Getting quots \n",
      "Ticker:  amzn \n",
      "Date:  2006-06-15\n",
      "Quote Loaded\n"
     ]
    },
    {
     "name": "stderr",
     "output_type": "stream",
     "text": [
      "\n",
      " 41%|█████████████████████████████████▋                                                | 23/56 [00:09<00:13,  2.47it/s]"
     ]
    },
    {
     "name": "stdout",
     "output_type": "stream",
     "text": [
      "Getting Original Date\n",
      "Getting quots \n",
      "Ticker:  amzn \n",
      "Date:  2006-07-05\n",
      "Quote Loaded\n"
     ]
    },
    {
     "name": "stderr",
     "output_type": "stream",
     "text": [
      "\n",
      " 43%|███████████████████████████████████▏                                              | 24/56 [00:09<00:13,  2.44it/s]"
     ]
    },
    {
     "name": "stdout",
     "output_type": "stream",
     "text": [
      "Getting Original Date\n",
      "Getting quots \n",
      "Ticker:  amzn \n",
      "Date:  2006-07-06\n",
      "Quote Loaded\n"
     ]
    },
    {
     "name": "stderr",
     "output_type": "stream",
     "text": [
      "\n",
      " 45%|████████████████████████████████████▌                                             | 25/56 [00:10<00:12,  2.44it/s]"
     ]
    },
    {
     "name": "stdout",
     "output_type": "stream",
     "text": [
      "Getting Original Date\n",
      "Getting quots \n",
      "Ticker:  amzn \n",
      "Date:  2006-07-18\n",
      "Quote Loaded\n"
     ]
    },
    {
     "name": "stderr",
     "output_type": "stream",
     "text": [
      "\n",
      " 46%|██████████████████████████████████████                                            | 26/56 [00:10<00:12,  2.43it/s]"
     ]
    },
    {
     "name": "stdout",
     "output_type": "stream",
     "text": [
      "Getting Original Date\n",
      "Getting quots \n",
      "Ticker:  amzn \n",
      "Date:  2006-07-18\n",
      "Quote Loaded\n"
     ]
    },
    {
     "name": "stderr",
     "output_type": "stream",
     "text": [
      "\n",
      " 48%|███████████████████████████████████████▌                                          | 27/56 [00:11<00:11,  2.44it/s]"
     ]
    },
    {
     "name": "stdout",
     "output_type": "stream",
     "text": [
      "Getting Original Date\n",
      "Getting quots \n",
      "Ticker:  amzn \n",
      "Date:  2006-07-18\n",
      "Quote Loaded\n"
     ]
    },
    {
     "name": "stderr",
     "output_type": "stream",
     "text": [
      "\n",
      " 50%|█████████████████████████████████████████                                         | 28/56 [00:11<00:11,  2.42it/s]"
     ]
    },
    {
     "name": "stdout",
     "output_type": "stream",
     "text": [
      "Getting Original Date\n",
      "Getting quots \n",
      "Ticker:  amzn \n",
      "Date:  2006-07-20\n",
      "Quote Loaded\n"
     ]
    },
    {
     "name": "stderr",
     "output_type": "stream",
     "text": [
      "\n",
      " 52%|██████████████████████████████████████████▍                                       | 29/56 [00:11<00:11,  2.42it/s]"
     ]
    },
    {
     "name": "stdout",
     "output_type": "stream",
     "text": [
      "Getting Original Date\n",
      "Getting quots \n",
      "Ticker:  amzn \n",
      "Date:  2006-07-21\n",
      "Quote Loaded\n"
     ]
    },
    {
     "name": "stderr",
     "output_type": "stream",
     "text": [
      "\n",
      " 54%|███████████████████████████████████████████▉                                      | 30/56 [00:12<00:10,  2.44it/s]"
     ]
    },
    {
     "name": "stdout",
     "output_type": "stream",
     "text": [
      "Getting Original Date\n",
      "Getting quots \n",
      "Ticker:  amzn \n",
      "Date:  2006-08-22\n",
      "Quote Loaded\n"
     ]
    },
    {
     "name": "stderr",
     "output_type": "stream",
     "text": [
      "\n",
      " 55%|█████████████████████████████████████████████▍                                    | 31/56 [00:12<00:10,  2.45it/s]"
     ]
    },
    {
     "name": "stdout",
     "output_type": "stream",
     "text": [
      "Getting Original Date\n",
      "Getting quots \n",
      "Ticker:  amzn \n",
      "Date:  2006-08-23\n",
      "Quote Loaded\n"
     ]
    },
    {
     "name": "stderr",
     "output_type": "stream",
     "text": [
      "\n",
      " 57%|██████████████████████████████████████████████▊                                   | 32/56 [00:12<00:09,  2.46it/s]"
     ]
    },
    {
     "name": "stdout",
     "output_type": "stream",
     "text": [
      "Getting Original Date\n",
      "Pointing Date is -  6 (Day of the week)\n",
      "Checking Next Day\n",
      "Cannot Get data from Quandl. Skipping this one\n",
      "Getting Original Date\n",
      "Getting quots \n",
      "Ticker:  amzn \n",
      "Date:  2006-11-29\n",
      "Quote Loaded\n"
     ]
    },
    {
     "name": "stderr",
     "output_type": "stream",
     "text": [
      "\n",
      " 61%|█████████████████████████████████████████████████▊                                | 34/56 [00:13<00:08,  2.51it/s]"
     ]
    },
    {
     "name": "stdout",
     "output_type": "stream",
     "text": [
      "Getting Original Date\n",
      "Pointing Date is -  6 (Day of the week)\n",
      "Checking Next Day\n",
      "Getting quots \n",
      "Ticker:  amzn \n",
      "Date:  2006-12-11\n",
      "Quote Loaded\n"
     ]
    },
    {
     "name": "stderr",
     "output_type": "stream",
     "text": [
      "\n",
      " 62%|███████████████████████████████████████████████████▎                              | 35/56 [00:13<00:08,  2.52it/s]"
     ]
    },
    {
     "name": "stdout",
     "output_type": "stream",
     "text": [
      "Getting Original Date\n",
      "Getting quots \n",
      "Ticker:  amzn \n",
      "Date:  2006-12-15\n",
      "Quote Loaded\n"
     ]
    },
    {
     "name": "stderr",
     "output_type": "stream",
     "text": [
      "\n",
      " 64%|████████████████████████████████████████████████████▋                             | 36/56 [00:14<00:07,  2.54it/s]"
     ]
    },
    {
     "name": "stdout",
     "output_type": "stream",
     "text": [
      "Getting Original Date\n",
      "Cannot Get data from Quandl. Skipping this one\n",
      "Getting Original Date\n",
      "Pointing Date is -  5 (Day of the week)\n",
      "Checking Next Day\n",
      "Pointing Date is -  6 (Day of the week)\n",
      "Checking Next Day\n",
      "Getting quots \n",
      "Ticker:  amzn \n",
      "Date:  2007-01-09\n",
      "Quote Loaded\n"
     ]
    },
    {
     "name": "stderr",
     "output_type": "stream",
     "text": [
      "\n",
      " 68%|███████████████████████████████████████████████████████▋                          | 38/56 [00:14<00:06,  2.59it/s]"
     ]
    },
    {
     "name": "stdout",
     "output_type": "stream",
     "text": [
      "Getting Original Date\n",
      "Getting quots \n",
      "Ticker:  amzn \n",
      "Date:  2008-01-23\n",
      "Quote Loaded\n"
     ]
    },
    {
     "name": "stderr",
     "output_type": "stream",
     "text": [
      "\n",
      " 70%|█████████████████████████████████████████████████████████                         | 39/56 [00:15<00:06,  2.58it/s]"
     ]
    },
    {
     "name": "stdout",
     "output_type": "stream",
     "text": [
      "Getting Original Date\n",
      "Getting quots \n",
      "Ticker:  amzn \n",
      "Date:  2008-10-27\n",
      "Quote Loaded\n"
     ]
    },
    {
     "name": "stderr",
     "output_type": "stream",
     "text": [
      "\n",
      " 71%|██████████████████████████████████████████████████████████▌                       | 40/56 [00:15<00:06,  2.60it/s]"
     ]
    },
    {
     "name": "stdout",
     "output_type": "stream",
     "text": [
      "Getting Original Date\n",
      "Getting quots \n",
      "Ticker:  amzn \n",
      "Date:  2008-12-18\n",
      "Quote Loaded\n"
     ]
    },
    {
     "name": "stderr",
     "output_type": "stream",
     "text": [
      "\n",
      " 73%|████████████████████████████████████████████████████████████                      | 41/56 [00:15<00:05,  2.61it/s]"
     ]
    },
    {
     "name": "stdout",
     "output_type": "stream",
     "text": [
      "Getting Original Date\n",
      "Getting quots \n",
      "Ticker:  amzn \n",
      "Date:  2009-01-05\n",
      "Quote Loaded\n"
     ]
    },
    {
     "name": "stderr",
     "output_type": "stream",
     "text": [
      "\n",
      " 75%|█████████████████████████████████████████████████████████████▌                    | 42/56 [00:16<00:05,  2.61it/s]"
     ]
    },
    {
     "name": "stdout",
     "output_type": "stream",
     "text": [
      "Getting Original Date\n",
      "Getting quots \n",
      "Ticker:  amzn \n",
      "Date:  2009-09-18\n",
      "Quote Loaded\n"
     ]
    },
    {
     "name": "stderr",
     "output_type": "stream",
     "text": [
      "\n",
      " 77%|██████████████████████████████████████████████████████████████▉                   | 43/56 [00:16<00:04,  2.61it/s]"
     ]
    },
    {
     "name": "stdout",
     "output_type": "stream",
     "text": [
      "Getting Original Date\n",
      "Getting quots \n",
      "Ticker:  amzn \n",
      "Date:  2011-09-02\n",
      "Quote Loaded\n"
     ]
    },
    {
     "name": "stderr",
     "output_type": "stream",
     "text": [
      "\n",
      " 79%|████████████████████████████████████████████████████████████████▍                 | 44/56 [00:16<00:04,  2.60it/s]"
     ]
    },
    {
     "name": "stdout",
     "output_type": "stream",
     "text": [
      "Getting Original Date\n",
      "Getting quots \n",
      "Ticker:  amzn \n",
      "Date:  2011-10-05\n",
      "Quote Loaded\n"
     ]
    },
    {
     "name": "stderr",
     "output_type": "stream",
     "text": [
      "\n",
      " 80%|█████████████████████████████████████████████████████████████████▉                | 45/56 [00:17<00:04,  2.62it/s]"
     ]
    },
    {
     "name": "stdout",
     "output_type": "stream",
     "text": [
      "Getting Original Date\n",
      "Getting quots \n",
      "Ticker:  amzn \n",
      "Date:  2011-11-02\n",
      "Quote Loaded\n"
     ]
    },
    {
     "name": "stderr",
     "output_type": "stream",
     "text": [
      "\n",
      " 82%|███████████████████████████████████████████████████████████████████▎              | 46/56 [00:17<00:03,  2.61it/s]"
     ]
    },
    {
     "name": "stdout",
     "output_type": "stream",
     "text": [
      "Getting Original Date\n",
      "Getting quots \n",
      "Ticker:  amzn \n",
      "Date:  2011-11-18\n",
      "Quote Loaded\n"
     ]
    },
    {
     "name": "stderr",
     "output_type": "stream",
     "text": [
      "\n",
      " 84%|████████████████████████████████████████████████████████████████████▊             | 47/56 [00:18<00:03,  2.56it/s]"
     ]
    },
    {
     "name": "stdout",
     "output_type": "stream",
     "text": [
      "Getting Original Date\n",
      "Pointing Date is -  6 (Day of the week)\n",
      "Checking Next Day\n",
      "Cannot Get data from Quandl. Skipping this one\n",
      "Getting Original Date\n",
      "Getting quots \n",
      "Ticker:  amzn \n",
      "Date:  2012-02-02\n",
      "Quote Loaded\n"
     ]
    },
    {
     "name": "stderr",
     "output_type": "stream",
     "text": [
      "\n",
      " 88%|███████████████████████████████████████████████████████████████████████▊          | 49/56 [00:18<00:02,  2.61it/s]"
     ]
    },
    {
     "name": "stdout",
     "output_type": "stream",
     "text": [
      "Getting Original Date\n",
      "Getting quots \n",
      "Ticker:  amzn \n",
      "Date:  2012-03-30\n",
      "Quote Loaded\n"
     ]
    },
    {
     "name": "stderr",
     "output_type": "stream",
     "text": [
      "\n",
      " 89%|█████████████████████████████████████████████████████████████████████████▏        | 50/56 [00:19<00:02,  2.60it/s]"
     ]
    },
    {
     "name": "stdout",
     "output_type": "stream",
     "text": [
      "Getting Original Date\n",
      "Pointing Date is -  6 (Day of the week)\n",
      "Checking Next Day\n",
      "Getting quots \n",
      "Ticker:  amzn \n",
      "Date:  2012-07-17\n",
      "Quote Loaded\n"
     ]
    },
    {
     "name": "stderr",
     "output_type": "stream",
     "text": [
      "\n",
      " 91%|██████████████████████████████████████████████████████████████████████████▋       | 51/56 [00:19<00:01,  2.58it/s]"
     ]
    },
    {
     "name": "stdout",
     "output_type": "stream",
     "text": [
      "Getting Original Date\n",
      "Pointing Date is -  6 (Day of the week)\n",
      "Checking Next Day\n",
      "Getting quots \n",
      "Ticker:  amzn \n",
      "Date:  2012-09-25\n",
      "Quote Loaded\n"
     ]
    },
    {
     "name": "stderr",
     "output_type": "stream",
     "text": [
      "\n",
      " 93%|████████████████████████████████████████████████████████████████████████████▏     | 52/56 [00:20<00:01,  2.58it/s]"
     ]
    },
    {
     "name": "stdout",
     "output_type": "stream",
     "text": [
      "Getting Original Date\n",
      "Getting quots \n",
      "Ticker:  amzn \n",
      "Date:  2012-10-12\n",
      "Quote Loaded\n"
     ]
    },
    {
     "name": "stderr",
     "output_type": "stream",
     "text": [
      "\n",
      " 95%|█████████████████████████████████████████████████████████████████████████████▌    | 53/56 [00:20<00:01,  2.56it/s]"
     ]
    },
    {
     "name": "stdout",
     "output_type": "stream",
     "text": [
      "Getting Original Date\n",
      "Getting quots \n",
      "Ticker:  amzn \n",
      "Date:  2013-02-06\n",
      "Quote Loaded\n"
     ]
    },
    {
     "name": "stderr",
     "output_type": "stream",
     "text": [
      "\n",
      " 96%|███████████████████████████████████████████████████████████████████████████████   | 54/56 [00:21<00:00,  2.55it/s]"
     ]
    },
    {
     "name": "stdout",
     "output_type": "stream",
     "text": [
      "Getting Original Date\n",
      "Getting quots \n",
      "Ticker:  amzn \n",
      "Date:  2013-05-08\n",
      "Quote Loaded\n"
     ]
    },
    {
     "name": "stderr",
     "output_type": "stream",
     "text": [
      "\n",
      " 98%|████████████████████████████████████████████████████████████████████████████████▌ | 55/56 [00:21<00:00,  2.53it/s]"
     ]
    },
    {
     "name": "stdout",
     "output_type": "stream",
     "text": [
      "Getting Original Date\n",
      "Getting quots \n",
      "Ticker:  amzn \n",
      "Date:  2013-09-05\n",
      "Quote Loaded\n"
     ]
    },
    {
     "name": "stderr",
     "output_type": "stream",
     "text": [
      "\n",
      "100%|██████████████████████████████████████████████████████████████████████████████████| 56/56 [00:22<00:00,  2.52it/s]\n"
     ]
    },
    {
     "name": "stdout",
     "output_type": "stream",
     "text": [
      "Will save to file:  c:\\data\\finml\\PriceVsSNP500_amzn.csv\n",
      "Getting Stock Price Data...\n"
     ]
    },
    {
     "name": "stderr",
     "output_type": "stream",
     "text": [
      "\n",
      "  0%|                                                                                           | 0/15 [00:00<?, ?it/s]"
     ]
    },
    {
     "name": "stdout",
     "output_type": "stream",
     "text": [
      "Getting Original Date\n",
      "Pointing Date is -  6 (Day of the week)\n",
      "Checking Next Day\n",
      "Getting quots \n",
      "Ticker:  aiv \n",
      "Date:  2003-10-28\n",
      "Quote Loaded\n"
     ]
    },
    {
     "name": "stderr",
     "output_type": "stream",
     "text": [
      "\n",
      "  7%|█████▌                                                                             | 1/15 [00:00<00:04,  3.39it/s]"
     ]
    },
    {
     "name": "stdout",
     "output_type": "stream",
     "text": [
      "Getting Original Date\n",
      "Pointing Date is -  6 (Day of the week)\n",
      "Checking Next Day\n",
      "Cannot Get data from Quandl. Skipping this one\n",
      "Getting Original Date\n",
      "Pointing Date is -  5 (Day of the week)\n",
      "Checking Next Day\n",
      "Pointing Date is -  6 (Day of the week)\n",
      "Checking Next Day\n",
      "Getting quots \n",
      "Ticker:  aiv \n",
      "Date:  2004-05-25\n",
      "Quote Loaded\n"
     ]
    },
    {
     "name": "stderr",
     "output_type": "stream",
     "text": [
      "\n",
      " 20%|████████████████▌                                                                  | 3/15 [00:00<00:03,  3.39it/s]"
     ]
    },
    {
     "name": "stdout",
     "output_type": "stream",
     "text": [
      "Getting Original Date\n",
      "Getting quots \n",
      "Ticker:  aiv \n",
      "Date:  2004-11-30\n",
      "Quote Loaded\n"
     ]
    },
    {
     "name": "stderr",
     "output_type": "stream",
     "text": [
      "\n",
      " 27%|██████████████████████▏                                                            | 4/15 [00:01<00:03,  3.26it/s]"
     ]
    },
    {
     "name": "stdout",
     "output_type": "stream",
     "text": [
      "Getting Original Date\n",
      "Pointing Date is -  6 (Day of the week)\n",
      "Checking Next Day\n",
      "Getting quots \n",
      "Ticker:  aiv \n",
      "Date:  2005-01-11\n",
      "Quote Loaded\n"
     ]
    },
    {
     "name": "stderr",
     "output_type": "stream",
     "text": [
      "\n",
      " 33%|███████████████████████████▋                                                       | 5/15 [00:01<00:03,  2.94it/s]"
     ]
    },
    {
     "name": "stdout",
     "output_type": "stream",
     "text": [
      "Getting Original Date\n",
      "Getting quots \n",
      "Ticker:  aiv \n",
      "Date:  2005-02-16\n",
      "Quote Loaded\n"
     ]
    },
    {
     "name": "stderr",
     "output_type": "stream",
     "text": [
      "\n",
      " 40%|█████████████████████████████████▏                                                 | 6/15 [00:02<00:03,  2.71it/s]"
     ]
    },
    {
     "name": "stdout",
     "output_type": "stream",
     "text": [
      "Getting Original Date\n",
      "Getting quots \n",
      "Ticker:  aiv \n",
      "Date:  2005-03-08\n",
      "Quote Loaded\n"
     ]
    },
    {
     "name": "stderr",
     "output_type": "stream",
     "text": [
      "\n",
      " 47%|██████████████████████████████████████▋                                            | 7/15 [00:02<00:03,  2.63it/s]"
     ]
    },
    {
     "name": "stdout",
     "output_type": "stream",
     "text": [
      "Getting Original Date\n",
      "Getting quots \n",
      "Ticker:  aiv \n",
      "Date:  2005-04-11\n",
      "Quote Loaded\n"
     ]
    },
    {
     "name": "stderr",
     "output_type": "stream",
     "text": [
      "\n",
      " 53%|████████████████████████████████████████████▎                                      | 8/15 [00:03<00:02,  2.65it/s]"
     ]
    },
    {
     "name": "stdout",
     "output_type": "stream",
     "text": [
      "Getting Original Date\n",
      "Cannot Get data from Quandl. Skipping this one\n",
      "Getting Original Date\n",
      "Getting quots \n",
      "Ticker:  aiv \n",
      "Date:  2007-01-17\n",
      "Quote Loaded\n"
     ]
    },
    {
     "name": "stderr",
     "output_type": "stream",
     "text": [
      "\n",
      " 67%|██████████████████████████████████████████████████████▋                           | 10/15 [00:03<00:01,  2.91it/s]"
     ]
    },
    {
     "name": "stdout",
     "output_type": "stream",
     "text": [
      "Getting Original Date\n",
      "Getting quots \n",
      "Ticker:  aiv \n",
      "Date:  2007-02-20\n",
      "Quote Loaded\n"
     ]
    },
    {
     "name": "stderr",
     "output_type": "stream",
     "text": [
      "\n",
      " 73%|████████████████████████████████████████████████████████████▏                     | 11/15 [00:03<00:01,  2.90it/s]"
     ]
    },
    {
     "name": "stdout",
     "output_type": "stream",
     "text": [
      "Getting Original Date\n",
      "Getting quots \n",
      "Ticker:  aiv \n",
      "Date:  2008-01-08\n",
      "Quote Loaded\n"
     ]
    },
    {
     "name": "stderr",
     "output_type": "stream",
     "text": [
      "\n",
      " 80%|█████████████████████████████████████████████████████████████████▌                | 12/15 [00:04<00:01,  2.81it/s]"
     ]
    },
    {
     "name": "stdout",
     "output_type": "stream",
     "text": [
      "Getting Original Date\n",
      "Getting quots \n",
      "Ticker:  aiv \n",
      "Date:  2008-01-23\n",
      "Quote Loaded\n"
     ]
    },
    {
     "name": "stderr",
     "output_type": "stream",
     "text": [
      "\n",
      " 87%|███████████████████████████████████████████████████████████████████████           | 13/15 [00:04<00:00,  2.72it/s]"
     ]
    },
    {
     "name": "stdout",
     "output_type": "stream",
     "text": [
      "Getting Original Date\n",
      "Getting quots \n",
      "Ticker:  aiv \n",
      "Date:  2013-04-22\n",
      "Quote Loaded\n"
     ]
    },
    {
     "name": "stderr",
     "output_type": "stream",
     "text": [
      "\n",
      " 93%|████████████████████████████████████████████████████████████████████████████▌     | 14/15 [00:05<00:00,  2.65it/s]"
     ]
    },
    {
     "name": "stdout",
     "output_type": "stream",
     "text": [
      "Getting Original Date\n",
      "Getting quots \n",
      "Ticker:  aiv \n",
      "Date:  2013-05-14\n",
      "Quote Loaded\n"
     ]
    },
    {
     "name": "stderr",
     "output_type": "stream",
     "text": [
      "\n",
      "100%|██████████████████████████████████████████████████████████████████████████████████| 15/15 [00:05<00:00,  2.63it/s]\n"
     ]
    },
    {
     "name": "stdout",
     "output_type": "stream",
     "text": [
      "Will save to file:  c:\\data\\finml\\PriceVsSNP500_aiv.csv\n",
      "Getting Stock Price Data...\n"
     ]
    },
    {
     "name": "stderr",
     "output_type": "stream",
     "text": [
      "\n",
      "  0%|                                                                                           | 0/14 [00:00<?, ?it/s]"
     ]
    },
    {
     "name": "stdout",
     "output_type": "stream",
     "text": [
      "Getting Original Date\n",
      "Pointing Date is -  6 (Day of the week)\n",
      "Checking Next Day\n",
      "Getting quots \n",
      "Ticker:  aee \n",
      "Date:  2003-12-30\n",
      "Quote Loaded\n"
     ]
    },
    {
     "name": "stderr",
     "output_type": "stream",
     "text": [
      "\n",
      "  7%|█████▉                                                                             | 1/14 [00:00<00:05,  2.24it/s]"
     ]
    },
    {
     "name": "stdout",
     "output_type": "stream",
     "text": [
      "Getting Original Date\n",
      "Getting quots \n",
      "Ticker:  aee \n",
      "Date:  2004-09-24\n",
      "Quote Loaded\n"
     ]
    },
    {
     "name": "stderr",
     "output_type": "stream",
     "text": [
      "\n",
      " 14%|███████████▊                                                                       | 2/14 [00:00<00:05,  2.08it/s]"
     ]
    },
    {
     "name": "stdout",
     "output_type": "stream",
     "text": [
      "Getting Original Date\n",
      "Getting quots \n",
      "Ticker:  aee \n",
      "Date:  2004-11-02\n",
      "Quote Loaded\n"
     ]
    },
    {
     "name": "stderr",
     "output_type": "stream",
     "text": [
      "\n",
      " 21%|█████████████████▊                                                                 | 3/14 [00:01<00:04,  2.34it/s]"
     ]
    },
    {
     "name": "stdout",
     "output_type": "stream",
     "text": [
      "Getting Original Date\n",
      "Pointing Date is -  5 (Day of the week)\n",
      "Checking Next Day\n",
      "Getting quots \n",
      "Ticker:  aee \n",
      "Date:  2005-03-07\n",
      "Quote Loaded\n"
     ]
    },
    {
     "name": "stderr",
     "output_type": "stream",
     "text": [
      "\n",
      " 29%|███████████████████████▋                                                           | 4/14 [00:01<00:04,  2.36it/s]"
     ]
    },
    {
     "name": "stdout",
     "output_type": "stream",
     "text": [
      "Getting Original Date\n",
      "Getting quots \n",
      "Ticker:  aee \n",
      "Date:  2005-12-16\n",
      "Quote Loaded\n"
     ]
    },
    {
     "name": "stderr",
     "output_type": "stream",
     "text": [
      "\n",
      " 36%|█████████████████████████████▋                                                     | 5/14 [00:02<00:03,  2.45it/s]"
     ]
    },
    {
     "name": "stdout",
     "output_type": "stream",
     "text": [
      "Getting Original Date\n",
      "Getting quots \n",
      "Ticker:  aee \n",
      "Date:  2006-01-10\n",
      "Quote Loaded\n"
     ]
    },
    {
     "name": "stderr",
     "output_type": "stream",
     "text": [
      "\n",
      " 43%|███████████████████████████████████▌                                               | 6/14 [00:02<00:03,  2.40it/s]"
     ]
    },
    {
     "name": "stdout",
     "output_type": "stream",
     "text": [
      "Getting Original Date\n",
      "Getting quots \n",
      "Ticker:  aee \n",
      "Date:  2007-02-20\n",
      "Quote Loaded\n"
     ]
    },
    {
     "name": "stderr",
     "output_type": "stream",
     "text": [
      "\n",
      " 50%|█████████████████████████████████████████▌                                         | 7/14 [00:02<00:02,  2.38it/s]"
     ]
    },
    {
     "name": "stdout",
     "output_type": "stream",
     "text": [
      "Getting Original Date\n",
      "Pointing Date is -  5 (Day of the week)\n",
      "Checking Next Day\n",
      "Pointing Date is -  6 (Day of the week)\n",
      "Checking Next Day\n",
      "Getting quots \n",
      "Ticker:  aee \n",
      "Date:  2007-12-18\n",
      "Quote Loaded\n"
     ]
    },
    {
     "name": "stderr",
     "output_type": "stream",
     "text": [
      "\n",
      " 57%|███████████████████████████████████████████████▍                                   | 8/14 [00:03<00:02,  2.40it/s]"
     ]
    },
    {
     "name": "stdout",
     "output_type": "stream",
     "text": [
      "Getting Original Date\n",
      "Getting quots \n",
      "Ticker:  aee \n",
      "Date:  2008-01-23\n",
      "Quote Loaded\n"
     ]
    },
    {
     "name": "stderr",
     "output_type": "stream",
     "text": [
      "\n",
      " 64%|█████████████████████████████████████████████████████▎                             | 9/14 [00:03<00:02,  2.35it/s]"
     ]
    },
    {
     "name": "stdout",
     "output_type": "stream",
     "text": [
      "Getting Original Date\n",
      "Pointing Date is -  5 (Day of the week)\n",
      "Checking Next Day\n",
      "Pointing Date is -  6 (Day of the week)\n",
      "Checking Next Day\n",
      "Getting quots \n",
      "Ticker:  aee \n",
      "Date:  2009-02-24\n",
      "Quote Loaded\n"
     ]
    },
    {
     "name": "stderr",
     "output_type": "stream",
     "text": [
      "\n",
      " 71%|██████████████████████████████████████████████████████████▌                       | 10/14 [00:04<00:01,  2.38it/s]"
     ]
    },
    {
     "name": "stdout",
     "output_type": "stream",
     "text": [
      "Getting Original Date\n",
      "Getting quots \n",
      "Ticker:  aee \n",
      "Date:  2010-02-18\n",
      "Quote Loaded\n"
     ]
    },
    {
     "name": "stderr",
     "output_type": "stream",
     "text": [
      "\n",
      " 79%|████████████████████████████████████████████████████████████████▍                 | 11/14 [00:04<00:01,  2.43it/s]"
     ]
    },
    {
     "name": "stdout",
     "output_type": "stream",
     "text": [
      "Getting Original Date\n",
      "Getting quots \n",
      "Ticker:  aee \n",
      "Date:  2010-03-23\n",
      "Quote Loaded\n"
     ]
    },
    {
     "name": "stderr",
     "output_type": "stream",
     "text": [
      "\n",
      " 86%|██████████████████████████████████████████████████████████████████████▎           | 12/14 [00:04<00:00,  2.46it/s]"
     ]
    },
    {
     "name": "stdout",
     "output_type": "stream",
     "text": [
      "Getting Original Date\n",
      "Getting quots \n",
      "Ticker:  aee \n",
      "Date:  2012-04-23\n",
      "Quote Loaded\n"
     ]
    },
    {
     "name": "stderr",
     "output_type": "stream",
     "text": [
      "\n",
      " 93%|████████████████████████████████████████████████████████████████████████████▏     | 13/14 [00:05<00:00,  2.38it/s]"
     ]
    },
    {
     "name": "stdout",
     "output_type": "stream",
     "text": [
      "Getting Original Date\n",
      "Getting quots \n",
      "Ticker:  aee \n",
      "Date:  2013-05-15\n",
      "Quote Loaded\n"
     ]
    },
    {
     "name": "stderr",
     "output_type": "stream",
     "text": [
      "\n",
      "100%|██████████████████████████████████████████████████████████████████████████████████| 14/14 [00:05<00:00,  2.38it/s]\n"
     ]
    },
    {
     "name": "stdout",
     "output_type": "stream",
     "text": [
      "Will save to file:  c:\\data\\finml\\PriceVsSNP500_aee.csv\n",
      "Getting Stock Price Data...\n"
     ]
    },
    {
     "name": "stderr",
     "output_type": "stream",
     "text": [
      "\n",
      "  0%|                                                                                           | 0/26 [00:00<?, ?it/s]"
     ]
    },
    {
     "name": "stdout",
     "output_type": "stream",
     "text": [
      "Getting Original Date\n",
      "Getting quots \n",
      "Ticker:  amgn \n",
      "Date:  2003-10-02\n",
      "Quote Loaded\n"
     ]
    },
    {
     "name": "stderr",
     "output_type": "stream",
     "text": [
      "\n",
      "  4%|███▏                                                                               | 1/26 [00:00<00:11,  2.25it/s]"
     ]
    },
    {
     "name": "stdout",
     "output_type": "stream",
     "text": [
      "Getting Original Date\n",
      "Getting quots \n",
      "Ticker:  amgn \n",
      "Date:  2004-04-27\n",
      "Quote Loaded\n"
     ]
    },
    {
     "name": "stderr",
     "output_type": "stream",
     "text": [
      "\n",
      "  8%|██████▍                                                                            | 2/26 [00:00<00:11,  2.07it/s]"
     ]
    },
    {
     "name": "stdout",
     "output_type": "stream",
     "text": [
      "Getting Original Date\n",
      "Pointing Date is -  6 (Day of the week)\n",
      "Checking Next Day\n",
      "Getting quots \n",
      "Ticker:  amgn \n",
      "Date:  2004-06-21\n",
      "Quote Loaded\n"
     ]
    },
    {
     "name": "stderr",
     "output_type": "stream",
     "text": [
      "\n",
      " 12%|█████████▌                                                                         | 3/26 [00:01<00:12,  1.89it/s]"
     ]
    },
    {
     "name": "stdout",
     "output_type": "stream",
     "text": [
      "Getting Original Date\n",
      "Getting quots \n",
      "Ticker:  amgn \n",
      "Date:  2004-10-15\n",
      "Quote Loaded\n"
     ]
    },
    {
     "name": "stderr",
     "output_type": "stream",
     "text": [
      "\n",
      " 15%|████████████▊                                                                      | 4/26 [00:01<00:10,  2.02it/s]"
     ]
    },
    {
     "name": "stdout",
     "output_type": "stream",
     "text": [
      "Getting Original Date\n",
      "Getting quots \n",
      "Ticker:  amgn \n",
      "Date:  2005-02-07\n",
      "Quote Loaded\n"
     ]
    },
    {
     "name": "stderr",
     "output_type": "stream",
     "text": [
      "\n",
      " 19%|███████████████▉                                                                   | 5/26 [00:02<00:10,  1.99it/s]"
     ]
    },
    {
     "name": "stdout",
     "output_type": "stream",
     "text": [
      "Getting Original Date\n",
      "Cannot Get data from Quandl. Skipping this one\n",
      "Getting Original Date\n",
      "Pointing Date is -  6 (Day of the week)\n",
      "Checking Next Day\n",
      "Getting quots \n",
      "Ticker:  amgn \n",
      "Date:  2005-04-05\n",
      "Quote Loaded\n"
     ]
    },
    {
     "name": "stderr",
     "output_type": "stream",
     "text": [
      "\n",
      " 27%|██████████████████████▎                                                            | 7/26 [00:02<00:07,  2.39it/s]"
     ]
    },
    {
     "name": "stdout",
     "output_type": "stream",
     "text": [
      "Getting Original Date\n",
      "Getting quots \n",
      "Ticker:  amgn \n",
      "Date:  2006-04-21\n",
      "Quote Loaded\n"
     ]
    },
    {
     "name": "stderr",
     "output_type": "stream",
     "text": [
      "\n",
      " 31%|█████████████████████████▌                                                         | 8/26 [00:03<00:07,  2.41it/s]"
     ]
    },
    {
     "name": "stdout",
     "output_type": "stream",
     "text": [
      "Getting Original Date\n",
      "Pointing Date is -  5 (Day of the week)\n",
      "Checking Next Day\n",
      "Pointing Date is -  6 (Day of the week)\n",
      "Checking Next Day\n",
      "Getting quots \n",
      "Ticker:  amgn \n",
      "Date:  2007-01-16\n",
      "Quote Loaded\n"
     ]
    },
    {
     "name": "stderr",
     "output_type": "stream",
     "text": [
      "\n",
      " 35%|████████████████████████████▋                                                      | 9/26 [00:03<00:07,  2.40it/s]"
     ]
    },
    {
     "name": "stdout",
     "output_type": "stream",
     "text": [
      "Getting Original Date\n",
      "Getting quots \n",
      "Ticker:  amgn \n",
      "Date:  2007-02-20\n",
      "Quote Loaded\n"
     ]
    },
    {
     "name": "stderr",
     "output_type": "stream",
     "text": [
      "\n",
      " 38%|███████████████████████████████▌                                                  | 10/26 [00:04<00:06,  2.35it/s]"
     ]
    },
    {
     "name": "stdout",
     "output_type": "stream",
     "text": [
      "Getting Original Date\n",
      "Getting quots \n",
      "Ticker:  amgn \n",
      "Date:  2007-04-10\n",
      "Quote Loaded\n"
     ]
    },
    {
     "name": "stderr",
     "output_type": "stream",
     "text": [
      "\n",
      " 42%|██████████████████████████████████▋                                               | 11/26 [00:04<00:06,  2.31it/s]"
     ]
    },
    {
     "name": "stdout",
     "output_type": "stream",
     "text": [
      "Getting Original Date\n",
      "Getting quots \n",
      "Ticker:  amgn \n",
      "Date:  2007-04-27\n",
      "Quote Loaded\n"
     ]
    },
    {
     "name": "stderr",
     "output_type": "stream",
     "text": [
      "\n",
      " 46%|█████████████████████████████████████▊                                            | 12/26 [00:05<00:06,  2.28it/s]"
     ]
    },
    {
     "name": "stdout",
     "output_type": "stream",
     "text": [
      "Getting Original Date\n",
      "Pointing Date is -  6 (Day of the week)\n",
      "Checking Next Day\n",
      "Getting quots \n",
      "Ticker:  amgn \n",
      "Date:  2007-05-29\n",
      "Quote Loaded\n"
     ]
    },
    {
     "name": "stderr",
     "output_type": "stream",
     "text": [
      "\n",
      " 50%|█████████████████████████████████████████                                         | 13/26 [00:05<00:05,  2.25it/s]"
     ]
    },
    {
     "name": "stdout",
     "output_type": "stream",
     "text": [
      "Getting Original Date\n",
      "Getting quots \n",
      "Ticker:  amgn \n",
      "Date:  2007-06-29\n",
      "Quote Loaded\n"
     ]
    },
    {
     "name": "stderr",
     "output_type": "stream",
     "text": [
      "\n",
      " 54%|████████████████████████████████████████████▏                                     | 14/26 [00:06<00:05,  2.26it/s]"
     ]
    },
    {
     "name": "stdout",
     "output_type": "stream",
     "text": [
      "Getting Original Date\n",
      "Getting quots \n",
      "Ticker:  amgn \n",
      "Date:  2008-01-03\n",
      "Quote Loaded\n"
     ]
    },
    {
     "name": "stderr",
     "output_type": "stream",
     "text": [
      "\n",
      " 58%|███████████████████████████████████████████████▎                                  | 15/26 [00:06<00:04,  2.27it/s]"
     ]
    },
    {
     "name": "stdout",
     "output_type": "stream",
     "text": [
      "Getting Original Date\n",
      "Getting quots \n",
      "Ticker:  amgn \n",
      "Date:  2008-01-23\n",
      "Quote Loaded\n"
     ]
    },
    {
     "name": "stderr",
     "output_type": "stream",
     "text": [
      "\n",
      " 62%|██████████████████████████████████████████████████▍                               | 16/26 [00:07<00:04,  2.16it/s]"
     ]
    },
    {
     "name": "stdout",
     "output_type": "stream",
     "text": [
      "Getting Original Date\n",
      "Getting quots \n",
      "Ticker:  amgn \n",
      "Date:  2008-12-02\n",
      "Quote Loaded\n"
     ]
    },
    {
     "name": "stderr",
     "output_type": "stream",
     "text": [
      "\n",
      " 65%|█████████████████████████████████████████████████████▌                            | 17/26 [00:07<00:04,  2.19it/s]"
     ]
    },
    {
     "name": "stdout",
     "output_type": "stream",
     "text": [
      "Getting Original Date\n",
      "Pointing Date is -  5 (Day of the week)\n",
      "Checking Next Day\n",
      "Getting quots \n",
      "Ticker:  amgn \n",
      "Date:  2008-12-22\n",
      "Quote Loaded\n"
     ]
    },
    {
     "name": "stderr",
     "output_type": "stream",
     "text": [
      "\n",
      " 69%|████████████████████████████████████████████████████████▊                         | 18/26 [00:08<00:03,  2.20it/s]"
     ]
    },
    {
     "name": "stdout",
     "output_type": "stream",
     "text": [
      "Getting Original Date\n",
      "Getting quots \n",
      "Ticker:  amgn \n",
      "Date:  2009-04-28\n",
      "Quote Loaded\n"
     ]
    },
    {
     "name": "stderr",
     "output_type": "stream",
     "text": [
      "\n",
      " 73%|███████████████████████████████████████████████████████████▉                      | 19/26 [00:08<00:03,  2.17it/s]"
     ]
    },
    {
     "name": "stdout",
     "output_type": "stream",
     "text": [
      "Getting Original Date\n",
      "Getting quots \n",
      "Ticker:  amgn \n",
      "Date:  2011-09-02\n",
      "Quote Loaded\n"
     ]
    },
    {
     "name": "stderr",
     "output_type": "stream",
     "text": [
      "\n",
      " 77%|███████████████████████████████████████████████████████████████                   | 20/26 [00:09<00:02,  2.16it/s]"
     ]
    },
    {
     "name": "stdout",
     "output_type": "stream",
     "text": [
      "Getting Original Date\n",
      "Getting quots \n",
      "Ticker:  amgn \n",
      "Date:  2011-11-03\n",
      "Quote Loaded\n"
     ]
    },
    {
     "name": "stderr",
     "output_type": "stream",
     "text": [
      "\n",
      " 81%|██████████████████████████████████████████████████████████████████▏               | 21/26 [00:09<00:02,  2.17it/s]"
     ]
    },
    {
     "name": "stdout",
     "output_type": "stream",
     "text": [
      "Getting Original Date\n",
      "Getting quots \n",
      "Ticker:  amgn \n",
      "Date:  2012-01-03\n",
      "Quote Loaded\n"
     ]
    },
    {
     "name": "stderr",
     "output_type": "stream",
     "text": [
      "\n",
      " 85%|█████████████████████████████████████████████████████████████████████▍            | 22/26 [00:09<00:01,  2.20it/s]"
     ]
    },
    {
     "name": "stdout",
     "output_type": "stream",
     "text": [
      "Getting Original Date\n",
      "Pointing Date is -  6 (Day of the week)\n",
      "Checking Next Day\n",
      "Getting quots \n",
      "Ticker:  amgn \n",
      "Date:  2012-06-11\n",
      "Quote Loaded\n"
     ]
    },
    {
     "name": "stderr",
     "output_type": "stream",
     "text": [
      "\n",
      " 88%|████████████████████████████████████████████████████████████████████████▌         | 23/26 [00:10<00:01,  2.19it/s]"
     ]
    },
    {
     "name": "stdout",
     "output_type": "stream",
     "text": [
      "Getting Original Date\n",
      "Getting quots \n",
      "Ticker:  amgn \n",
      "Date:  2013-02-06\n",
      "Quote Loaded\n"
     ]
    },
    {
     "name": "stderr",
     "output_type": "stream",
     "text": [
      "\n",
      " 92%|███████████████████████████████████████████████████████████████████████████▋      | 24/26 [00:10<00:00,  2.20it/s]"
     ]
    },
    {
     "name": "stdout",
     "output_type": "stream",
     "text": [
      "Getting Original Date\n",
      "Getting quots \n",
      "Ticker:  amgn \n",
      "Date:  2013-04-25\n",
      "Quote Loaded\n"
     ]
    },
    {
     "name": "stderr",
     "output_type": "stream",
     "text": [
      "\n",
      " 96%|██████████████████████████████████████████████████████████████████████████████▊   | 25/26 [00:11<00:00,  2.21it/s]"
     ]
    },
    {
     "name": "stdout",
     "output_type": "stream",
     "text": [
      "Getting Original Date\n",
      "Getting quots \n",
      "Ticker:  amgn \n",
      "Date:  2013-05-21\n",
      "Quote Loaded\n"
     ]
    },
    {
     "name": "stderr",
     "output_type": "stream",
     "text": [
      "\n",
      "100%|██████████████████████████████████████████████████████████████████████████████████| 26/26 [00:11<00:00,  2.20it/s]\n"
     ]
    },
    {
     "name": "stdout",
     "output_type": "stream",
     "text": [
      "Will save to file:  c:\\data\\finml\\PriceVsSNP500_amgn.csv\n",
      "Getting Stock Price Data...\n"
     ]
    },
    {
     "name": "stderr",
     "output_type": "stream",
     "text": [
      "\n",
      "  0%|                                                                                           | 0/36 [00:00<?, ?it/s]"
     ]
    },
    {
     "name": "stdout",
     "output_type": "stream",
     "text": [
      "Getting Original Date\n",
      "Getting quots \n",
      "Ticker:  akam \n",
      "Date:  2004-01-15\n",
      "Quote Loaded\n"
     ]
    },
    {
     "name": "stderr",
     "output_type": "stream",
     "text": [
      "\n",
      "  3%|██▎                                                                                | 1/36 [00:00<00:10,  3.34it/s]"
     ]
    },
    {
     "name": "stdout",
     "output_type": "stream",
     "text": [
      "Getting Original Date\n",
      "Getting quots \n",
      "Ticker:  akam \n",
      "Date:  2004-04-14\n",
      "Quote Loaded\n"
     ]
    },
    {
     "name": "stderr",
     "output_type": "stream",
     "text": [
      "\n",
      "  6%|████▌                                                                              | 2/36 [00:00<00:12,  2.82it/s]"
     ]
    },
    {
     "name": "stdout",
     "output_type": "stream",
     "text": [
      "Getting Original Date\n",
      "Pointing Date is -  6 (Day of the week)\n",
      "Checking Next Day\n",
      "Getting quots \n",
      "Ticker:  akam \n",
      "Date:  2004-06-21\n",
      "Quote Loaded\n"
     ]
    },
    {
     "name": "stderr",
     "output_type": "stream",
     "text": [
      "\n",
      "  8%|██████▉                                                                            | 3/36 [00:01<00:17,  1.89it/s]"
     ]
    },
    {
     "name": "stdout",
     "output_type": "stream",
     "text": [
      "Getting Original Date\n",
      "Pointing Date is -  6 (Day of the week)\n",
      "Checking Next Day\n",
      "Getting quots \n",
      "Ticker:  akam \n",
      "Date:  2004-08-24\n",
      "Quote Loaded\n"
     ]
    },
    {
     "name": "stderr",
     "output_type": "stream",
     "text": [
      "\n",
      " 11%|█████████▏                                                                         | 4/36 [00:02<00:16,  1.90it/s]"
     ]
    },
    {
     "name": "stdout",
     "output_type": "stream",
     "text": [
      "Getting Original Date\n",
      "Getting quots \n",
      "Ticker:  akam \n",
      "Date:  2004-10-14\n",
      "Quote Loaded\n"
     ]
    },
    {
     "name": "stderr",
     "output_type": "stream",
     "text": [
      "\n",
      " 14%|███████████▌                                                                       | 5/36 [00:02<00:16,  1.93it/s]"
     ]
    },
    {
     "name": "stdout",
     "output_type": "stream",
     "text": [
      "Getting Original Date\n",
      "Getting quots \n",
      "Ticker:  akam \n",
      "Date:  2005-04-05\n",
      "Quote Loaded\n"
     ]
    },
    {
     "name": "stderr",
     "output_type": "stream",
     "text": [
      "\n",
      " 17%|█████████████▊                                                                     | 6/36 [00:02<00:14,  2.05it/s]"
     ]
    },
    {
     "name": "stdout",
     "output_type": "stream",
     "text": [
      "Getting Original Date\n",
      "Pointing Date is -  5 (Day of the week)\n",
      "Checking Next Day\n",
      "Pointing Date is -  6 (Day of the week)\n",
      "Checking Next Day\n",
      "Getting quots \n",
      "Ticker:  akam \n",
      "Date:  2006-02-21\n",
      "Quote Loaded\n"
     ]
    },
    {
     "name": "stderr",
     "output_type": "stream",
     "text": [
      "\n",
      " 19%|████████████████▏                                                                  | 7/36 [00:03<00:14,  2.06it/s]"
     ]
    },
    {
     "name": "stdout",
     "output_type": "stream",
     "text": [
      "Getting Original Date\n",
      "Getting quots \n",
      "Ticker:  akam \n",
      "Date:  2006-04-07\n",
      "Quote Loaded\n"
     ]
    },
    {
     "name": "stderr",
     "output_type": "stream",
     "text": [
      "\n",
      " 22%|██████████████████▍                                                                | 8/36 [00:03<00:13,  2.09it/s]"
     ]
    },
    {
     "name": "stdout",
     "output_type": "stream",
     "text": [
      "Getting Original Date\n",
      "Getting quots \n",
      "Ticker:  akam \n",
      "Date:  2006-04-12\n",
      "Quote Loaded\n"
     ]
    },
    {
     "name": "stderr",
     "output_type": "stream",
     "text": [
      "\n",
      " 25%|████████████████████▊                                                              | 9/36 [00:04<00:12,  2.20it/s]"
     ]
    },
    {
     "name": "stdout",
     "output_type": "stream",
     "text": [
      "Getting Original Date\n",
      "Getting quots \n",
      "Ticker:  akam \n",
      "Date:  2006-06-29\n",
      "Quote Loaded\n"
     ]
    },
    {
     "name": "stderr",
     "output_type": "stream",
     "text": [
      "\n",
      " 28%|██████████████████████▊                                                           | 10/36 [00:04<00:11,  2.30it/s]"
     ]
    },
    {
     "name": "stdout",
     "output_type": "stream",
     "text": [
      "Getting Original Date\n",
      "Getting quots \n",
      "Ticker:  akam \n",
      "Date:  2006-11-30\n",
      "Quote Loaded\n"
     ]
    },
    {
     "name": "stderr",
     "output_type": "stream",
     "text": [
      "\n",
      " 31%|█████████████████████████                                                         | 11/36 [00:04<00:10,  2.32it/s]"
     ]
    },
    {
     "name": "stdout",
     "output_type": "stream",
     "text": [
      "Getting Original Date\n",
      "Pointing Date is -  5 (Day of the week)\n",
      "Checking Next Day\n",
      "Cannot Get data from Quandl. Skipping this one\n",
      "Getting Original Date\n",
      "Pointing Date is -  6 (Day of the week)\n",
      "Checking Next Day\n",
      "Getting quots \n",
      "Ticker:  akam \n",
      "Date:  2007-02-13\n",
      "Quote Loaded\n"
     ]
    },
    {
     "name": "stderr",
     "output_type": "stream",
     "text": [
      "\n",
      " 36%|█████████████████████████████▌                                                    | 13/36 [00:05<00:09,  2.55it/s]"
     ]
    },
    {
     "name": "stdout",
     "output_type": "stream",
     "text": [
      "Getting Original Date\n",
      "Cannot Get data from Quandl. Skipping this one\n",
      "Getting Original Date\n",
      "Getting quots \n",
      "Ticker:  akam \n",
      "Date:  2007-03-08\n",
      "Quote Loaded\n"
     ]
    },
    {
     "name": "stderr",
     "output_type": "stream",
     "text": [
      "\n",
      " 42%|██████████████████████████████████▏                                               | 15/36 [00:05<00:07,  2.68it/s]"
     ]
    },
    {
     "name": "stdout",
     "output_type": "stream",
     "text": [
      "Getting Original Date\n",
      "Getting quots \n",
      "Ticker:  akam \n",
      "Date:  2007-03-16\n",
      "Quote Loaded\n"
     ]
    },
    {
     "name": "stderr",
     "output_type": "stream",
     "text": [
      "\n",
      " 44%|████████████████████████████████████▍                                             | 16/36 [00:06<00:07,  2.62it/s]"
     ]
    },
    {
     "name": "stdout",
     "output_type": "stream",
     "text": [
      "Getting Original Date\n",
      "Getting quots \n",
      "Ticker:  akam \n",
      "Date:  2007-04-04\n",
      "Quote Loaded\n"
     ]
    },
    {
     "name": "stderr",
     "output_type": "stream",
     "text": [
      "\n",
      " 47%|██████████████████████████████████████▋                                           | 17/36 [00:06<00:07,  2.57it/s]"
     ]
    },
    {
     "name": "stdout",
     "output_type": "stream",
     "text": [
      "Getting Original Date\n",
      "Pointing Date is -  5 (Day of the week)\n",
      "Checking Next Day\n",
      "Pointing Date is -  6 (Day of the week)\n",
      "Checking Next Day\n",
      "Getting quots \n",
      "Ticker:  akam \n",
      "Date:  2007-05-01\n",
      "Quote Loaded\n"
     ]
    },
    {
     "name": "stderr",
     "output_type": "stream",
     "text": [
      "\n",
      " 50%|█████████████████████████████████████████                                         | 18/36 [00:07<00:07,  2.51it/s]"
     ]
    },
    {
     "name": "stdout",
     "output_type": "stream",
     "text": [
      "Getting Original Date\n",
      "Pointing Date is -  6 (Day of the week)\n",
      "Checking Next Day\n",
      "Getting quots \n",
      "Ticker:  akam \n",
      "Date:  2007-04-30\n",
      "Quote Loaded\n"
     ]
    },
    {
     "name": "stderr",
     "output_type": "stream",
     "text": [
      "\n",
      " 53%|███████████████████████████████████████████▎                                      | 19/36 [00:07<00:06,  2.46it/s]"
     ]
    },
    {
     "name": "stdout",
     "output_type": "stream",
     "text": [
      "Getting Original Date\n",
      "Getting quots \n",
      "Ticker:  akam \n",
      "Date:  2007-04-30\n",
      "Quote Loaded\n"
     ]
    },
    {
     "name": "stderr",
     "output_type": "stream",
     "text": [
      "\n",
      " 56%|█████████████████████████████████████████████▌                                    | 20/36 [00:08<00:06,  2.45it/s]"
     ]
    },
    {
     "name": "stdout",
     "output_type": "stream",
     "text": [
      "Getting Original Date\n",
      "Getting quots \n",
      "Ticker:  akam \n",
      "Date:  2007-05-01\n",
      "Quote Loaded\n"
     ]
    },
    {
     "name": "stderr",
     "output_type": "stream",
     "text": [
      "\n",
      " 58%|███████████████████████████████████████████████▊                                  | 21/36 [00:08<00:06,  2.43it/s]"
     ]
    },
    {
     "name": "stdout",
     "output_type": "stream",
     "text": [
      "Getting Original Date\n",
      "Getting quots \n",
      "Ticker:  akam \n",
      "Date:  2007-06-01\n",
      "Quote Loaded\n"
     ]
    },
    {
     "name": "stderr",
     "output_type": "stream",
     "text": [
      "\n",
      " 61%|██████████████████████████████████████████████████                                | 22/36 [00:09<00:05,  2.42it/s]"
     ]
    },
    {
     "name": "stdout",
     "output_type": "stream",
     "text": [
      "Getting Original Date\n",
      "Getting quots \n",
      "Ticker:  akam \n",
      "Date:  2007-07-02\n",
      "Quote Loaded\n"
     ]
    },
    {
     "name": "stderr",
     "output_type": "stream",
     "text": [
      "\n",
      " 64%|████████████████████████████████████████████████████▍                             | 23/36 [00:09<00:05,  2.43it/s]"
     ]
    },
    {
     "name": "stdout",
     "output_type": "stream",
     "text": [
      "Getting Original Date\n",
      "Getting quots \n",
      "Ticker:  akam \n",
      "Date:  2007-10-11\n",
      "Quote Loaded\n"
     ]
    },
    {
     "name": "stderr",
     "output_type": "stream",
     "text": [
      "\n",
      " 67%|██████████████████████████████████████████████████████▋                           | 24/36 [00:09<00:04,  2.43it/s]"
     ]
    },
    {
     "name": "stdout",
     "output_type": "stream",
     "text": [
      "Getting Original Date\n",
      "Getting quots \n",
      "Ticker:  akam \n",
      "Date:  2007-12-13\n",
      "Quote Loaded\n"
     ]
    },
    {
     "name": "stderr",
     "output_type": "stream",
     "text": [
      "\n",
      " 69%|████████████████████████████████████████████████████████▉                         | 25/36 [00:10<00:04,  2.45it/s]"
     ]
    },
    {
     "name": "stdout",
     "output_type": "stream",
     "text": [
      "Getting Original Date\n",
      "Getting quots \n",
      "Ticker:  akam \n",
      "Date:  2008-01-23\n",
      "Quote Loaded\n"
     ]
    },
    {
     "name": "stderr",
     "output_type": "stream",
     "text": [
      "\n",
      " 72%|███████████████████████████████████████████████████████████▏                      | 26/36 [00:10<00:04,  2.45it/s]"
     ]
    },
    {
     "name": "stdout",
     "output_type": "stream",
     "text": [
      "Getting Original Date\n",
      "Pointing Date is -  6 (Day of the week)\n",
      "Checking Next Day\n",
      "Getting quots \n",
      "Ticker:  akam \n",
      "Date:  2008-11-04\n",
      "Quote Loaded\n"
     ]
    },
    {
     "name": "stderr",
     "output_type": "stream",
     "text": [
      "\n",
      " 75%|█████████████████████████████████████████████████████████████▌                    | 27/36 [00:11<00:03,  2.43it/s]"
     ]
    },
    {
     "name": "stdout",
     "output_type": "stream",
     "text": [
      "Getting Original Date\n",
      "Getting quots \n",
      "Ticker:  akam \n",
      "Date:  2008-12-19\n",
      "Quote Loaded\n"
     ]
    },
    {
     "name": "stderr",
     "output_type": "stream",
     "text": [
      "\n",
      " 78%|███████████████████████████████████████████████████████████████▊                  | 28/36 [00:11<00:03,  2.41it/s]"
     ]
    },
    {
     "name": "stdout",
     "output_type": "stream",
     "text": [
      "Getting Original Date\n",
      "Pointing Date is -  5 (Day of the week)\n",
      "Checking Next Day\n",
      "Getting quots \n",
      "Ticker:  akam \n",
      "Date:  2009-02-09\n",
      "Quote Loaded\n"
     ]
    },
    {
     "name": "stderr",
     "output_type": "stream",
     "text": [
      "\n",
      " 81%|██████████████████████████████████████████████████████████████████                | 29/36 [00:11<00:02,  2.42it/s]"
     ]
    },
    {
     "name": "stdout",
     "output_type": "stream",
     "text": [
      "Getting Original Date\n",
      "Getting quots \n",
      "Ticker:  akam \n",
      "Date:  2011-09-26\n",
      "Quote Loaded\n"
     ]
    },
    {
     "name": "stderr",
     "output_type": "stream",
     "text": [
      "\n",
      " 83%|████████████████████████████████████████████████████████████████████▎             | 30/36 [00:12<00:02,  2.41it/s]"
     ]
    },
    {
     "name": "stdout",
     "output_type": "stream",
     "text": [
      "Getting Original Date\n",
      "Pointing Date is -  5 (Day of the week)\n",
      "Checking Next Day\n",
      "Cannot Get data from Quandl. Skipping this one\n",
      "Getting Original Date\n",
      "Getting quots \n",
      "Ticker:  akam \n",
      "Date:  2012-03-20\n",
      "Quote Loaded\n"
     ]
    },
    {
     "name": "stderr",
     "output_type": "stream",
     "text": [
      "\n",
      " 89%|████████████████████████████████████████████████████████████████████████▉         | 32/36 [00:12<00:01,  2.48it/s]"
     ]
    },
    {
     "name": "stdout",
     "output_type": "stream",
     "text": [
      "Getting Original Date\n",
      "Pointing Date is -  6 (Day of the week)\n",
      "Checking Next Day\n",
      "Getting quots \n",
      "Ticker:  akam \n",
      "Date:  2012-07-03\n",
      "Quote Loaded\n"
     ]
    },
    {
     "name": "stderr",
     "output_type": "stream",
     "text": [
      "\n",
      " 92%|███████████████████████████████████████████████████████████████████████████▏      | 33/36 [00:13<00:01,  2.49it/s]"
     ]
    },
    {
     "name": "stdout",
     "output_type": "stream",
     "text": [
      "Getting Original Date\n",
      "Getting quots \n",
      "Ticker:  akam \n",
      "Date:  2012-08-31\n",
      "Quote Loaded\n"
     ]
    },
    {
     "name": "stderr",
     "output_type": "stream",
     "text": [
      "\n",
      " 94%|█████████████████████████████████████████████████████████████████████████████▍    | 34/36 [00:13<00:00,  2.50it/s]"
     ]
    },
    {
     "name": "stdout",
     "output_type": "stream",
     "text": [
      "Getting Original Date\n",
      "Getting quots \n",
      "Ticker:  akam \n",
      "Date:  2013-02-06\n",
      "Quote Loaded\n"
     ]
    },
    {
     "name": "stderr",
     "output_type": "stream",
     "text": [
      "\n",
      " 97%|███████████████████████████████████████████████████████████████████████████████▋  | 35/36 [00:14<00:00,  2.48it/s]"
     ]
    },
    {
     "name": "stdout",
     "output_type": "stream",
     "text": [
      "Getting Original Date\n",
      "Getting quots \n",
      "Ticker:  akam \n",
      "Date:  2013-05-21\n",
      "Quote Loaded\n"
     ]
    },
    {
     "name": "stderr",
     "output_type": "stream",
     "text": [
      "\n",
      "100%|██████████████████████████████████████████████████████████████████████████████████| 36/36 [00:14<00:00,  2.50it/s]\n"
     ]
    },
    {
     "name": "stdout",
     "output_type": "stream",
     "text": [
      "Will save to file:  c:\\data\\finml\\PriceVsSNP500_akam.csv\n",
      "Getting Stock Price Data...\n"
     ]
    },
    {
     "name": "stderr",
     "output_type": "stream",
     "text": [
      "\n",
      "  0%|                                                                                           | 0/23 [00:00<?, ?it/s]"
     ]
    },
    {
     "name": "stdout",
     "output_type": "stream",
     "text": [
      "Getting Original Date\n",
      "Getting quots \n",
      "Ticker:  adi \n",
      "Date:  2004-01-20\n",
      "Quote Loaded\n"
     ]
    },
    {
     "name": "stderr",
     "output_type": "stream",
     "text": [
      "\n",
      "  4%|███▌                                                                               | 1/23 [00:00<00:06,  3.51it/s]"
     ]
    },
    {
     "name": "stdout",
     "output_type": "stream",
     "text": [
      "Getting Original Date\n",
      "Getting quots \n",
      "Ticker:  adi \n",
      "Date:  2004-05-12\n",
      "Quote Loaded\n"
     ]
    },
    {
     "name": "stderr",
     "output_type": "stream",
     "text": [
      "\n",
      "  9%|███████▏                                                                           | 2/23 [00:00<00:07,  2.65it/s]"
     ]
    },
    {
     "name": "stdout",
     "output_type": "stream",
     "text": [
      "Getting Original Date\n",
      "Getting quots \n",
      "Ticker:  adi \n",
      "Date:  2004-06-22\n",
      "Quote Loaded\n"
     ]
    },
    {
     "name": "stderr",
     "output_type": "stream",
     "text": [
      "\n",
      " 13%|██████████▊                                                                        | 3/23 [00:01<00:08,  2.46it/s]"
     ]
    },
    {
     "name": "stdout",
     "output_type": "stream",
     "text": [
      "Getting Original Date\n",
      "Getting quots \n",
      "Ticker:  adi \n",
      "Date:  2004-08-10\n",
      "Quote Loaded\n"
     ]
    },
    {
     "name": "stderr",
     "output_type": "stream",
     "text": [
      "\n",
      " 17%|██████████████▍                                                                    | 4/23 [00:01<00:07,  2.39it/s]"
     ]
    },
    {
     "name": "stdout",
     "output_type": "stream",
     "text": [
      "Getting Original Date\n",
      "Getting quots \n",
      "Ticker:  adi \n",
      "Date:  2004-11-11\n",
      "Quote Loaded\n"
     ]
    },
    {
     "name": "stderr",
     "output_type": "stream",
     "text": [
      "\n",
      " 22%|██████████████████                                                                 | 5/23 [00:02<00:07,  2.48it/s]"
     ]
    },
    {
     "name": "stdout",
     "output_type": "stream",
     "text": [
      "Getting Original Date\n",
      "Getting quots \n",
      "Ticker:  adi \n",
      "Date:  2005-01-24\n",
      "Quote Loaded\n"
     ]
    },
    {
     "name": "stderr",
     "output_type": "stream",
     "text": [
      "\n",
      " 26%|█████████████████████▋                                                             | 6/23 [00:02<00:06,  2.51it/s]"
     ]
    },
    {
     "name": "stdout",
     "output_type": "stream",
     "text": [
      "Getting Original Date\n",
      "Getting quots \n",
      "Ticker:  adi \n",
      "Date:  2005-03-17\n",
      "Quote Loaded\n"
     ]
    },
    {
     "name": "stderr",
     "output_type": "stream",
     "text": [
      "\n",
      " 30%|█████████████████████████▎                                                         | 7/23 [00:02<00:06,  2.43it/s]"
     ]
    },
    {
     "name": "stdout",
     "output_type": "stream",
     "text": [
      "Getting Original Date\n",
      "Getting quots \n",
      "Ticker:  adi \n",
      "Date:  2005-04-08\n",
      "Quote Loaded\n"
     ]
    },
    {
     "name": "stderr",
     "output_type": "stream",
     "text": [
      "\n",
      " 35%|████████████████████████████▊                                                      | 8/23 [00:03<00:06,  2.38it/s]"
     ]
    },
    {
     "name": "stdout",
     "output_type": "stream",
     "text": [
      "Getting Original Date\n",
      "Getting quots \n",
      "Ticker:  adi \n",
      "Date:  2005-09-07\n",
      "Quote Loaded\n"
     ]
    },
    {
     "name": "stderr",
     "output_type": "stream",
     "text": [
      "\n",
      " 39%|████████████████████████████████▍                                                  | 9/23 [00:03<00:05,  2.38it/s]"
     ]
    },
    {
     "name": "stdout",
     "output_type": "stream",
     "text": [
      "Getting Original Date\n",
      "Getting quots \n",
      "Ticker:  adi \n",
      "Date:  2005-10-31\n",
      "Quote Loaded\n"
     ]
    },
    {
     "name": "stderr",
     "output_type": "stream",
     "text": [
      "\n",
      " 43%|███████████████████████████████████▋                                              | 10/23 [00:04<00:05,  2.39it/s]"
     ]
    },
    {
     "name": "stdout",
     "output_type": "stream",
     "text": [
      "Getting Original Date\n",
      "Getting quots \n",
      "Ticker:  adi \n",
      "Date:  2006-12-06\n",
      "Quote Loaded\n"
     ]
    },
    {
     "name": "stderr",
     "output_type": "stream",
     "text": [
      "\n",
      " 48%|███████████████████████████████████████▏                                          | 11/23 [00:04<00:04,  2.46it/s]"
     ]
    },
    {
     "name": "stdout",
     "output_type": "stream",
     "text": [
      "Getting Original Date\n",
      "Getting quots \n",
      "Ticker:  adi \n",
      "Date:  2007-02-20\n",
      "Quote Loaded\n"
     ]
    },
    {
     "name": "stderr",
     "output_type": "stream",
     "text": [
      "\n",
      " 52%|██████████████████████████████████████████▊                                       | 12/23 [00:04<00:04,  2.44it/s]"
     ]
    },
    {
     "name": "stdout",
     "output_type": "stream",
     "text": [
      "Getting Original Date\n",
      "Getting quots \n",
      "Ticker:  adi \n",
      "Date:  2007-04-05\n",
      "Quote Loaded\n"
     ]
    },
    {
     "name": "stderr",
     "output_type": "stream",
     "text": [
      "\n",
      " 57%|██████████████████████████████████████████████▎                                   | 13/23 [00:05<00:04,  2.45it/s]"
     ]
    },
    {
     "name": "stdout",
     "output_type": "stream",
     "text": [
      "Getting Original Date\n",
      "Getting quots \n",
      "Ticker:  adi \n",
      "Date:  2008-01-23\n",
      "Quote Loaded\n"
     ]
    },
    {
     "name": "stderr",
     "output_type": "stream",
     "text": [
      "\n",
      " 61%|█████████████████████████████████████████████████▉                                | 14/23 [00:05<00:03,  2.50it/s]"
     ]
    },
    {
     "name": "stdout",
     "output_type": "stream",
     "text": [
      "Getting Original Date\n",
      "Getting quots \n",
      "Ticker:  adi \n",
      "Date:  2008-04-17\n",
      "Quote Loaded\n"
     ]
    },
    {
     "name": "stderr",
     "output_type": "stream",
     "text": [
      "\n",
      " 65%|█████████████████████████████████████████████████████▍                            | 15/23 [00:05<00:03,  2.53it/s]"
     ]
    },
    {
     "name": "stdout",
     "output_type": "stream",
     "text": [
      "Getting Original Date\n",
      "Getting quots \n",
      "Ticker:  adi \n",
      "Date:  2008-10-14\n",
      "Quote Loaded\n"
     ]
    },
    {
     "name": "stderr",
     "output_type": "stream",
     "text": [
      "\n",
      " 70%|█████████████████████████████████████████████████████████                         | 16/23 [00:06<00:02,  2.50it/s]"
     ]
    },
    {
     "name": "stdout",
     "output_type": "stream",
     "text": [
      "Getting Original Date\n",
      "Getting quots \n",
      "Ticker:  adi \n",
      "Date:  2008-12-12\n",
      "Quote Loaded\n"
     ]
    },
    {
     "name": "stderr",
     "output_type": "stream",
     "text": [
      "\n",
      " 74%|████████████████████████████████████████████████████████████▌                     | 17/23 [00:06<00:02,  2.50it/s]"
     ]
    },
    {
     "name": "stdout",
     "output_type": "stream",
     "text": [
      "Getting Original Date\n",
      "Getting quots \n",
      "Ticker:  adi \n",
      "Date:  2008-12-18\n",
      "Quote Loaded\n"
     ]
    },
    {
     "name": "stderr",
     "output_type": "stream",
     "text": [
      "\n",
      " 78%|████████████████████████████████████████████████████████████████▏                 | 18/23 [00:07<00:01,  2.50it/s]"
     ]
    },
    {
     "name": "stdout",
     "output_type": "stream",
     "text": [
      "Getting Original Date\n",
      "Getting quots \n",
      "Ticker:  adi \n",
      "Date:  2009-03-27\n",
      "Quote Loaded\n"
     ]
    },
    {
     "name": "stderr",
     "output_type": "stream",
     "text": [
      "\n",
      " 83%|███████████████████████████████████████████████████████████████████▋              | 19/23 [00:07<00:01,  2.52it/s]"
     ]
    },
    {
     "name": "stdout",
     "output_type": "stream",
     "text": [
      "Getting Original Date\n",
      "Getting quots \n",
      "Ticker:  adi \n",
      "Date:  2011-08-05\n",
      "Quote Loaded\n"
     ]
    },
    {
     "name": "stderr",
     "output_type": "stream",
     "text": [
      "\n",
      " 87%|███████████████████████████████████████████████████████████████████████▎          | 20/23 [00:07<00:01,  2.53it/s]"
     ]
    },
    {
     "name": "stdout",
     "output_type": "stream",
     "text": [
      "Getting Original Date\n",
      "Getting quots \n",
      "Ticker:  adi \n",
      "Date:  2012-03-19\n",
      "Quote Loaded\n"
     ]
    },
    {
     "name": "stderr",
     "output_type": "stream",
     "text": [
      "\n",
      " 91%|██████████████████████████████████████████████████████████████████████████▊       | 21/23 [00:08<00:00,  2.51it/s]"
     ]
    },
    {
     "name": "stdout",
     "output_type": "stream",
     "text": [
      "Getting Original Date\n",
      "Getting quots \n",
      "Ticker:  adi \n",
      "Date:  2013-04-22\n",
      "Quote Loaded\n"
     ]
    },
    {
     "name": "stderr",
     "output_type": "stream",
     "text": [
      "\n",
      " 96%|██████████████████████████████████████████████████████████████████████████████▍   | 22/23 [00:08<00:00,  2.49it/s]"
     ]
    },
    {
     "name": "stdout",
     "output_type": "stream",
     "text": [
      "Getting Original Date\n",
      "Pointing Date is -  5 (Day of the week)\n",
      "Checking Next Day\n",
      "Getting quots \n",
      "Ticker:  adi \n",
      "Date:  2013-05-13\n",
      "Quote Loaded\n"
     ]
    },
    {
     "name": "stderr",
     "output_type": "stream",
     "text": [
      "\n",
      "100%|██████████████████████████████████████████████████████████████████████████████████| 23/23 [00:09<00:00,  2.46it/s]\n"
     ]
    },
    {
     "name": "stdout",
     "output_type": "stream",
     "text": [
      "Will save to file:  c:\\data\\finml\\PriceVsSNP500_adi.csv\n",
      "Getting Stock Price Data...\n"
     ]
    },
    {
     "name": "stderr",
     "output_type": "stream",
     "text": [
      "\n",
      "  0%|                                                                                           | 0/13 [00:00<?, ?it/s]"
     ]
    },
    {
     "name": "stdout",
     "output_type": "stream",
     "text": [
      "Getting Original Date\n",
      "Getting quots \n",
      "Ticker:  aes \n",
      "Date:  2003-10-03\n",
      "Quote Loaded\n"
     ]
    },
    {
     "name": "stderr",
     "output_type": "stream",
     "text": [
      "\n",
      "  8%|██████▍                                                                            | 1/13 [00:00<00:05,  2.04it/s]"
     ]
    },
    {
     "name": "stdout",
     "output_type": "stream",
     "text": [
      "Getting Original Date\n",
      "Getting quots \n",
      "Ticker:  aes \n",
      "Date:  2003-12-15\n",
      "Quote Loaded\n"
     ]
    },
    {
     "name": "stderr",
     "output_type": "stream",
     "text": [
      "\n",
      " 15%|████████████▊                                                                      | 2/13 [00:00<00:04,  2.24it/s]"
     ]
    },
    {
     "name": "stdout",
     "output_type": "stream",
     "text": [
      "Getting Original Date\n",
      "Getting quots \n",
      "Ticker:  aes \n",
      "Date:  2004-08-04\n",
      "Quote Loaded\n"
     ]
    },
    {
     "name": "stderr",
     "output_type": "stream",
     "text": [
      "\n",
      " 23%|███████████████████▏                                                               | 3/13 [00:01<00:04,  2.30it/s]"
     ]
    },
    {
     "name": "stdout",
     "output_type": "stream",
     "text": [
      "Getting Original Date\n",
      "Getting quots \n",
      "Ticker:  aes \n",
      "Date:  2004-10-26\n",
      "Quote Loaded\n"
     ]
    },
    {
     "name": "stderr",
     "output_type": "stream",
     "text": [
      "\n",
      " 31%|█████████████████████████▌                                                         | 4/13 [00:01<00:04,  2.18it/s]"
     ]
    },
    {
     "name": "stdout",
     "output_type": "stream",
     "text": [
      "Getting Original Date\n",
      "Pointing Date is -  6 (Day of the week)\n",
      "Checking Next Day\n",
      "Getting quots \n",
      "Ticker:  aes \n",
      "Date:  2004-12-06\n",
      "Quote Loaded\n"
     ]
    },
    {
     "name": "stderr",
     "output_type": "stream",
     "text": [
      "\n",
      " 38%|███████████████████████████████▉                                                   | 5/13 [00:02<00:03,  2.12it/s]"
     ]
    },
    {
     "name": "stdout",
     "output_type": "stream",
     "text": [
      "Getting Original Date\n",
      "Getting quots \n",
      "Ticker:  aes \n",
      "Date:  2005-02-18\n",
      "Quote Loaded\n"
     ]
    },
    {
     "name": "stderr",
     "output_type": "stream",
     "text": [
      "\n",
      " 46%|██████████████████████████████████████▎                                            | 6/13 [00:02<00:03,  2.20it/s]"
     ]
    },
    {
     "name": "stdout",
     "output_type": "stream",
     "text": [
      "Getting Original Date\n",
      "Cannot Get data from Quandl. Skipping this one\n",
      "Getting Original Date\n",
      "Getting quots \n",
      "Ticker:  aes \n",
      "Date:  2007-04-11\n",
      "Quote Loaded\n"
     ]
    },
    {
     "name": "stderr",
     "output_type": "stream",
     "text": [
      "\n",
      " 62%|███████████████████████████████████████████████████                                | 8/13 [00:03<00:02,  2.44it/s]"
     ]
    },
    {
     "name": "stdout",
     "output_type": "stream",
     "text": [
      "Getting Original Date\n",
      "Getting quots \n",
      "Ticker:  aes \n",
      "Date:  2008-01-23\n",
      "Quote Loaded\n"
     ]
    },
    {
     "name": "stderr",
     "output_type": "stream",
     "text": [
      "\n",
      " 69%|█████████████████████████████████████████████████████████▍                         | 9/13 [00:03<00:01,  2.50it/s]"
     ]
    },
    {
     "name": "stdout",
     "output_type": "stream",
     "text": [
      "Getting Original Date\n",
      "Getting quots \n",
      "Ticker:  aes \n",
      "Date:  2008-04-23\n",
      "Quote Loaded\n"
     ]
    },
    {
     "name": "stderr",
     "output_type": "stream",
     "text": [
      "\n",
      " 77%|███████████████████████████████████████████████████████████████                   | 10/13 [00:03<00:01,  2.52it/s]"
     ]
    },
    {
     "name": "stdout",
     "output_type": "stream",
     "text": [
      "Getting Original Date\n",
      "Getting quots \n",
      "Ticker:  aes \n",
      "Date:  2011-05-23\n",
      "Quote Loaded\n"
     ]
    },
    {
     "name": "stderr",
     "output_type": "stream",
     "text": [
      "\n",
      " 85%|█████████████████████████████████████████████████████████████████████▍            | 11/13 [00:04<00:00,  2.44it/s]"
     ]
    },
    {
     "name": "stdout",
     "output_type": "stream",
     "text": [
      "Getting Original Date\n",
      "Pointing Date is -  6 (Day of the week)\n",
      "Checking Next Day\n",
      "Getting quots \n",
      "Ticker:  aes \n",
      "Date:  2011-07-25\n",
      "Quote Loaded\n"
     ]
    },
    {
     "name": "stderr",
     "output_type": "stream",
     "text": [
      "\n",
      " 92%|███████████████████████████████████████████████████████████████████████████▋      | 12/13 [00:04<00:00,  2.47it/s]"
     ]
    },
    {
     "name": "stdout",
     "output_type": "stream",
     "text": [
      "Getting Original Date\n",
      "Getting quots \n",
      "Ticker:  aes \n",
      "Date:  2013-05-23\n",
      "Quote Loaded\n"
     ]
    },
    {
     "name": "stderr",
     "output_type": "stream",
     "text": [
      "\n",
      "100%|██████████████████████████████████████████████████████████████████████████████████| 13/13 [00:05<00:00,  2.44it/s]\n"
     ]
    },
    {
     "name": "stdout",
     "output_type": "stream",
     "text": [
      "Will save to file:  c:\\data\\finml\\PriceVsSNP500_aes.csv\n",
      "Getting Stock Price Data...\n"
     ]
    },
    {
     "name": "stderr",
     "output_type": "stream",
     "text": [
      "\n",
      "  0%|                                                                                           | 0/17 [00:00<?, ?it/s]"
     ]
    },
    {
     "name": "stdout",
     "output_type": "stream",
     "text": [
      "Getting Original Date\n",
      "Getting quots \n",
      "Ticker:  agn \n",
      "Date:  2003-11-17\n",
      "Quote Loaded\n"
     ]
    },
    {
     "name": "stderr",
     "output_type": "stream",
     "text": [
      "\n",
      "  6%|████▉                                                                              | 1/17 [00:00<00:04,  3.45it/s]"
     ]
    },
    {
     "name": "stdout",
     "output_type": "stream",
     "text": [
      "Getting Original Date\n",
      "Pointing Date is -  5 (Day of the week)\n",
      "Checking Next Day\n",
      "Getting quots \n",
      "Ticker:  agn \n",
      "Date:  2004-06-21\n",
      "Quote Loaded\n"
     ]
    },
    {
     "name": "stderr",
     "output_type": "stream",
     "text": [
      "\n",
      " 12%|█████████▊                                                                         | 2/17 [00:00<00:06,  2.36it/s]"
     ]
    },
    {
     "name": "stdout",
     "output_type": "stream",
     "text": [
      "Getting Original Date\n",
      "Getting quots \n",
      "Ticker:  agn \n",
      "Date:  2004-08-10\n",
      "Quote Loaded\n"
     ]
    },
    {
     "name": "stderr",
     "output_type": "stream",
     "text": [
      "\n",
      " 18%|██████████████▋                                                                    | 3/17 [00:01<00:05,  2.56it/s]"
     ]
    },
    {
     "name": "stdout",
     "output_type": "stream",
     "text": [
      "Getting Original Date\n",
      "Getting quots \n",
      "Ticker:  agn \n",
      "Date:  2004-11-02\n",
      "Quote Loaded\n"
     ]
    },
    {
     "name": "stderr",
     "output_type": "stream",
     "text": [
      "\n",
      " 24%|███████████████████▌                                                               | 4/17 [00:01<00:05,  2.46it/s]"
     ]
    },
    {
     "name": "stdout",
     "output_type": "stream",
     "text": [
      "Getting Original Date\n",
      "Getting quots \n",
      "Ticker:  agn \n",
      "Date:  2005-03-10\n",
      "Quote Loaded\n"
     ]
    },
    {
     "name": "stderr",
     "output_type": "stream",
     "text": [
      "\n",
      " 29%|████████████████████████▍                                                          | 5/17 [00:02<00:04,  2.42it/s]"
     ]
    },
    {
     "name": "stdout",
     "output_type": "stream",
     "text": [
      "Getting Original Date\n",
      "Getting quots \n",
      "Ticker:  agn \n",
      "Date:  2005-04-04\n",
      "Quote Loaded\n"
     ]
    },
    {
     "name": "stderr",
     "output_type": "stream",
     "text": [
      "\n",
      " 35%|█████████████████████████████▎                                                     | 6/17 [00:02<00:04,  2.31it/s]"
     ]
    },
    {
     "name": "stdout",
     "output_type": "stream",
     "text": [
      "Getting Original Date\n",
      "Getting quots \n",
      "Ticker:  agn \n",
      "Date:  2005-08-29\n",
      "Quote Loaded\n"
     ]
    },
    {
     "name": "stderr",
     "output_type": "stream",
     "text": [
      "\n",
      " 41%|██████████████████████████████████▏                                                | 7/17 [00:02<00:04,  2.39it/s]"
     ]
    },
    {
     "name": "stdout",
     "output_type": "stream",
     "text": [
      "Getting Original Date\n",
      "Getting quots \n",
      "Ticker:  agn \n",
      "Date:  2006-06-21\n",
      "Quote Loaded\n"
     ]
    },
    {
     "name": "stderr",
     "output_type": "stream",
     "text": [
      "\n",
      " 47%|███████████████████████████████████████                                            | 8/17 [00:03<00:03,  2.34it/s]"
     ]
    },
    {
     "name": "stdout",
     "output_type": "stream",
     "text": [
      "Getting Original Date\n",
      "Getting quots \n",
      "Ticker:  agn \n",
      "Date:  2007-02-20\n",
      "Quote Loaded\n"
     ]
    },
    {
     "name": "stderr",
     "output_type": "stream",
     "text": [
      "\n",
      " 53%|███████████████████████████████████████████▉                                       | 9/17 [00:03<00:03,  2.38it/s]"
     ]
    },
    {
     "name": "stdout",
     "output_type": "stream",
     "text": [
      "Getting Original Date\n",
      "Cannot Get data from Quandl. Skipping this one\n",
      "Getting Original Date\n",
      "Getting quots \n",
      "Ticker:  agn \n",
      "Date:  2008-01-23\n",
      "Quote Loaded\n"
     ]
    },
    {
     "name": "stderr",
     "output_type": "stream",
     "text": [
      "\n",
      " 65%|█████████████████████████████████████████████████████                             | 11/17 [00:04<00:02,  2.60it/s]"
     ]
    },
    {
     "name": "stdout",
     "output_type": "stream",
     "text": [
      "Getting Original Date\n",
      "Pointing Date is -  5 (Day of the week)\n",
      "Checking Next Day\n",
      "Cannot Get data from Quandl. Skipping this one\n",
      "Getting Original Date\n",
      "Pointing Date is -  5 (Day of the week)\n",
      "Checking Next Day\n",
      "Pointing Date is -  6 (Day of the week)\n",
      "Checking Next Day\n",
      "Getting quots \n",
      "Ticker:  agn \n",
      "Date:  2008-05-20\n",
      "Quote Loaded\n"
     ]
    },
    {
     "name": "stderr",
     "output_type": "stream",
     "text": [
      "\n",
      " 76%|██████████████████████████████████████████████████████████████▋                   | 13/17 [00:04<00:01,  2.77it/s]"
     ]
    },
    {
     "name": "stdout",
     "output_type": "stream",
     "text": [
      "Getting Original Date\n",
      "Pointing Date is -  5 (Day of the week)\n",
      "Checking Next Day\n",
      "Pointing Date is -  6 (Day of the week)\n",
      "Checking Next Day\n",
      "Getting quots \n",
      "Ticker:  agn \n",
      "Date:  2012-08-14\n",
      "Quote Loaded\n"
     ]
    },
    {
     "name": "stderr",
     "output_type": "stream",
     "text": [
      "\n",
      " 82%|███████████████████████████████████████████████████████████████████▌              | 14/17 [00:05<00:01,  2.71it/s]"
     ]
    },
    {
     "name": "stdout",
     "output_type": "stream",
     "text": [
      "Getting Original Date\n",
      "Getting quots \n",
      "Ticker:  agn \n",
      "Date:  2012-08-22\n",
      "Quote Loaded\n"
     ]
    },
    {
     "name": "stderr",
     "output_type": "stream",
     "text": [
      "\n",
      " 88%|████████████████████████████████████████████████████████████████████████▎         | 15/17 [00:05<00:00,  2.62it/s]"
     ]
    },
    {
     "name": "stdout",
     "output_type": "stream",
     "text": [
      "Getting Original Date\n",
      "Getting quots \n",
      "Ticker:  agn \n",
      "Date:  2013-04-22\n",
      "Quote Loaded\n"
     ]
    },
    {
     "name": "stderr",
     "output_type": "stream",
     "text": [
      "\n",
      " 94%|█████████████████████████████████████████████████████████████████████████████▏    | 16/17 [00:06<00:00,  2.62it/s]"
     ]
    },
    {
     "name": "stdout",
     "output_type": "stream",
     "text": [
      "Getting Original Date\n",
      "Pointing Date is -  6 (Day of the week)\n",
      "Checking Next Day\n",
      "Getting quots \n",
      "Ticker:  agn \n",
      "Date:  2013-05-13\n",
      "Quote Loaded\n"
     ]
    },
    {
     "name": "stderr",
     "output_type": "stream",
     "text": [
      "\n",
      "100%|██████████████████████████████████████████████████████████████████████████████████| 17/17 [00:06<00:00,  2.58it/s]\n"
     ]
    },
    {
     "name": "stdout",
     "output_type": "stream",
     "text": [
      "Will save to file:  c:\\data\\finml\\PriceVsSNP500_agn.csv\n",
      "Getting Stock Price Data...\n"
     ]
    },
    {
     "name": "stderr",
     "output_type": "stream",
     "text": [
      "\n",
      "  0%|                                                                                           | 0/11 [00:00<?, ?it/s]"
     ]
    },
    {
     "name": "stdout",
     "output_type": "stream",
     "text": [
      "Getting Original Date\n",
      "Getting quots \n",
      "Ticker:  amp \n",
      "Date:  2006-05-24\n",
      "Quote Loaded\n"
     ]
    },
    {
     "name": "stderr",
     "output_type": "stream",
     "text": [
      "\n",
      "  9%|███████▌                                                                           | 1/11 [00:00<00:04,  2.10it/s]"
     ]
    },
    {
     "name": "stdout",
     "output_type": "stream",
     "text": [
      "Getting Original Date\n",
      "Getting quots \n",
      "Ticker:  amp \n",
      "Date:  2007-02-20\n",
      "Quote Loaded\n"
     ]
    },
    {
     "name": "stderr",
     "output_type": "stream",
     "text": [
      "\n",
      " 18%|███████████████                                                                    | 2/11 [00:00<00:04,  2.18it/s]"
     ]
    },
    {
     "name": "stdout",
     "output_type": "stream",
     "text": [
      "Getting Original Date\n",
      "Pointing Date is -  6 (Day of the week)\n",
      "Checking Next Day\n",
      "Getting quots \n",
      "Ticker:  amp \n",
      "Date:  2007-04-17\n",
      "Quote Loaded\n"
     ]
    },
    {
     "name": "stderr",
     "output_type": "stream",
     "text": [
      "\n",
      " 27%|██████████████████████▋                                                            | 3/11 [00:01<00:03,  2.10it/s]"
     ]
    },
    {
     "name": "stdout",
     "output_type": "stream",
     "text": [
      "Getting Original Date\n",
      "Pointing Date is -  5 (Day of the week)\n",
      "Checking Next Day\n",
      "Pointing Date is -  6 (Day of the week)\n",
      "Checking Next Day\n",
      "Getting quots \n",
      "Ticker:  amp \n",
      "Date:  2007-06-19\n",
      "Quote Loaded\n"
     ]
    },
    {
     "name": "stderr",
     "output_type": "stream",
     "text": [
      "\n",
      " 36%|██████████████████████████████▏                                                    | 4/11 [00:01<00:03,  2.11it/s]"
     ]
    },
    {
     "name": "stdout",
     "output_type": "stream",
     "text": [
      "Getting Original Date\n",
      "Getting quots \n",
      "Ticker:  amp \n",
      "Date:  2008-01-23\n",
      "Quote Loaded\n"
     ]
    },
    {
     "name": "stderr",
     "output_type": "stream",
     "text": [
      "\n",
      " 45%|█████████████████████████████████████▋                                             | 5/11 [00:02<00:02,  2.12it/s]"
     ]
    },
    {
     "name": "stdout",
     "output_type": "stream",
     "text": [
      "Getting Original Date\n",
      "Pointing Date is -  5 (Day of the week)\n",
      "Checking Next Day\n",
      "Pointing Date is -  6 (Day of the week)\n",
      "Checking Next Day\n",
      "Getting quots \n",
      "Ticker:  amp \n",
      "Date:  2009-02-10\n",
      "Quote Loaded\n"
     ]
    },
    {
     "name": "stderr",
     "output_type": "stream",
     "text": [
      "\n",
      " 55%|█████████████████████████████████████████████▎                                     | 6/11 [00:02<00:02,  2.17it/s]"
     ]
    },
    {
     "name": "stdout",
     "output_type": "stream",
     "text": [
      "Getting Original Date\n",
      "Getting quots \n",
      "Ticker:  amp \n",
      "Date:  2009-10-30\n",
      "Quote Loaded\n"
     ]
    },
    {
     "name": "stderr",
     "output_type": "stream",
     "text": [
      "\n",
      " 64%|████████████████████████████████████████████████████▊                              | 7/11 [00:02<00:01,  2.34it/s]"
     ]
    },
    {
     "name": "stdout",
     "output_type": "stream",
     "text": [
      "Getting Original Date\n",
      "Pointing Date is -  6 (Day of the week)\n",
      "Checking Next Day\n",
      "Getting quots \n",
      "Ticker:  amp \n",
      "Date:  2011-10-10\n",
      "Quote Loaded\n"
     ]
    },
    {
     "name": "stderr",
     "output_type": "stream",
     "text": [
      "\n",
      " 73%|████████████████████████████████████████████████████████████▎                      | 8/11 [00:03<00:01,  2.45it/s]"
     ]
    },
    {
     "name": "stdout",
     "output_type": "stream",
     "text": [
      "Getting Original Date\n",
      "Getting quots \n",
      "Ticker:  amp \n",
      "Date:  2012-02-16\n",
      "Quote Loaded\n"
     ]
    },
    {
     "name": "stderr",
     "output_type": "stream",
     "text": [
      "\n",
      " 82%|███████████████████████████████████████████████████████████████████▉               | 9/11 [00:03<00:00,  2.40it/s]"
     ]
    },
    {
     "name": "stdout",
     "output_type": "stream",
     "text": [
      "Getting Original Date\n",
      "Getting quots \n",
      "Ticker:  amp \n",
      "Date:  2013-04-22\n",
      "Quote Loaded\n"
     ]
    },
    {
     "name": "stderr",
     "output_type": "stream",
     "text": [
      "\n",
      " 91%|██████████████████████████████████████████████████████████████████████████▌       | 10/11 [00:04<00:00,  2.40it/s]"
     ]
    },
    {
     "name": "stdout",
     "output_type": "stream",
     "text": [
      "Getting Original Date\n",
      "Getting quots \n",
      "Ticker:  amp \n",
      "Date:  2013-04-30\n",
      "Quote Loaded\n"
     ]
    },
    {
     "name": "stderr",
     "output_type": "stream",
     "text": [
      "\n",
      "100%|██████████████████████████████████████████████████████████████████████████████████| 11/11 [00:04<00:00,  2.38it/s]\n"
     ]
    },
    {
     "name": "stdout",
     "output_type": "stream",
     "text": [
      "Will save to file:  c:\\data\\finml\\PriceVsSNP500_amp.csv\n",
      "Getting Stock Price Data...\n"
     ]
    },
    {
     "name": "stderr",
     "output_type": "stream",
     "text": [
      "\n",
      "  0%|                                                                                           | 0/30 [00:00<?, ?it/s]"
     ]
    },
    {
     "name": "stdout",
     "output_type": "stream",
     "text": [
      "Getting Original Date\n",
      "Getting quots \n",
      "Ticker:  adm \n",
      "Date:  2003-11-12\n",
      "Quote Loaded\n"
     ]
    },
    {
     "name": "stderr",
     "output_type": "stream",
     "text": [
      "\n",
      "  3%|██▊                                                                                | 1/30 [00:00<00:15,  1.93it/s]"
     ]
    },
    {
     "name": "stdout",
     "output_type": "stream",
     "text": [
      "Getting Original Date\n",
      "Pointing Date is -  5 (Day of the week)\n",
      "Checking Next Day\n",
      "Pointing Date is -  6 (Day of the week)\n",
      "Checking Next Day\n",
      "Getting quots \n",
      "Ticker:  adm \n",
      "Date:  2004-02-03\n",
      "Quote Loaded\n"
     ]
    },
    {
     "name": "stderr",
     "output_type": "stream",
     "text": [
      "\n",
      "  7%|█████▌                                                                             | 2/30 [00:01<00:14,  1.92it/s]"
     ]
    },
    {
     "name": "stdout",
     "output_type": "stream",
     "text": [
      "Getting Original Date\n",
      "Getting quots \n",
      "Ticker:  adm \n",
      "Date:  2004-04-14\n",
      "Quote Loaded\n"
     ]
    },
    {
     "name": "stderr",
     "output_type": "stream",
     "text": [
      "\n",
      " 10%|████████▎                                                                          | 3/30 [00:01<00:12,  2.14it/s]"
     ]
    },
    {
     "name": "stdout",
     "output_type": "stream",
     "text": [
      "Getting Original Date\n",
      "Pointing Date is -  5 (Day of the week)\n",
      "Checking Next Day\n",
      "Getting quots \n",
      "Ticker:  adm \n",
      "Date:  2004-06-21\n",
      "Quote Loaded\n"
     ]
    },
    {
     "name": "stderr",
     "output_type": "stream",
     "text": [
      "\n",
      " 13%|███████████                                                                        | 4/30 [00:01<00:12,  2.04it/s]"
     ]
    },
    {
     "name": "stdout",
     "output_type": "stream",
     "text": [
      "Getting Original Date\n",
      "Getting quots \n",
      "Ticker:  adm \n",
      "Date:  2004-11-30\n",
      "Quote Loaded\n"
     ]
    },
    {
     "name": "stderr",
     "output_type": "stream",
     "text": [
      "\n",
      " 17%|█████████████▊                                                                     | 5/30 [00:02<00:11,  2.17it/s]"
     ]
    },
    {
     "name": "stdout",
     "output_type": "stream",
     "text": [
      "Getting Original Date\n",
      "Getting quots \n",
      "Ticker:  adm \n",
      "Date:  2005-01-26\n",
      "Quote Loaded\n"
     ]
    },
    {
     "name": "stderr",
     "output_type": "stream",
     "text": [
      "\n",
      " 20%|████████████████▌                                                                  | 6/30 [00:02<00:11,  2.18it/s]"
     ]
    },
    {
     "name": "stdout",
     "output_type": "stream",
     "text": [
      "Getting Original Date\n",
      "Getting quots \n",
      "Ticker:  adm \n",
      "Date:  2005-02-08\n",
      "Quote Loaded\n"
     ]
    },
    {
     "name": "stderr",
     "output_type": "stream",
     "text": [
      "\n",
      " 23%|███████████████████▎                                                               | 7/30 [00:03<00:10,  2.21it/s]"
     ]
    },
    {
     "name": "stdout",
     "output_type": "stream",
     "text": [
      "Getting Original Date\n",
      "Getting quots \n",
      "Ticker:  adm \n",
      "Date:  2005-02-14\n",
      "Quote Loaded\n"
     ]
    },
    {
     "name": "stderr",
     "output_type": "stream",
     "text": [
      "\n",
      " 27%|██████████████████████▏                                                            | 8/30 [00:03<00:09,  2.24it/s]"
     ]
    },
    {
     "name": "stdout",
     "output_type": "stream",
     "text": [
      "Getting Original Date\n",
      "Getting quots \n",
      "Ticker:  adm \n",
      "Date:  2006-04-06\n",
      "Quote Loaded\n"
     ]
    },
    {
     "name": "stderr",
     "output_type": "stream",
     "text": [
      "\n",
      " 30%|████████████████████████▉                                                          | 9/30 [00:03<00:09,  2.27it/s]"
     ]
    },
    {
     "name": "stdout",
     "output_type": "stream",
     "text": [
      "Getting Original Date\n",
      "Getting quots \n",
      "Ticker:  adm \n",
      "Date:  2006-04-07\n",
      "Quote Loaded\n"
     ]
    },
    {
     "name": "stderr",
     "output_type": "stream",
     "text": [
      "\n",
      " 33%|███████████████████████████▎                                                      | 10/30 [00:04<00:08,  2.27it/s]"
     ]
    },
    {
     "name": "stdout",
     "output_type": "stream",
     "text": [
      "Getting Original Date\n",
      "Getting quots \n",
      "Ticker:  adm \n",
      "Date:  2006-04-12\n",
      "Quote Loaded\n"
     ]
    },
    {
     "name": "stderr",
     "output_type": "stream",
     "text": [
      "\n",
      " 37%|██████████████████████████████                                                    | 11/30 [00:04<00:08,  2.23it/s]"
     ]
    },
    {
     "name": "stdout",
     "output_type": "stream",
     "text": [
      "Getting Original Date\n",
      "Pointing Date is -  5 (Day of the week)\n",
      "Checking Next Day\n",
      "Getting quots \n",
      "Ticker:  adm \n",
      "Date:  2006-04-24\n",
      "Quote Loaded\n"
     ]
    },
    {
     "name": "stderr",
     "output_type": "stream",
     "text": [
      "\n",
      " 40%|████████████████████████████████▊                                                 | 12/30 [00:05<00:08,  2.21it/s]"
     ]
    },
    {
     "name": "stdout",
     "output_type": "stream",
     "text": [
      "Getting Original Date\n",
      "Pointing Date is -  6 (Day of the week)\n",
      "Checking Next Day\n",
      "Getting quots \n",
      "Ticker:  adm \n",
      "Date:  2006-04-25\n",
      "Quote Loaded\n"
     ]
    },
    {
     "name": "stderr",
     "output_type": "stream",
     "text": [
      "\n",
      " 43%|███████████████████████████████████▌                                              | 13/30 [00:06<00:07,  2.15it/s]"
     ]
    },
    {
     "name": "stdout",
     "output_type": "stream",
     "text": [
      "Getting Original Date\n",
      "Getting quots \n",
      "Ticker:  adm \n",
      "Date:  2006-04-24\n",
      "Quote Loaded\n"
     ]
    },
    {
     "name": "stderr",
     "output_type": "stream",
     "text": [
      "\n",
      " 47%|██████████████████████████████████████▎                                           | 14/30 [00:06<00:07,  2.13it/s]"
     ]
    },
    {
     "name": "stdout",
     "output_type": "stream",
     "text": [
      "Getting Original Date\n",
      "Getting quots \n",
      "Ticker:  adm \n",
      "Date:  2006-04-28\n",
      "Quote Loaded\n"
     ]
    },
    {
     "name": "stderr",
     "output_type": "stream",
     "text": [
      "\n",
      " 50%|█████████████████████████████████████████                                         | 15/30 [00:06<00:06,  2.17it/s]"
     ]
    },
    {
     "name": "stdout",
     "output_type": "stream",
     "text": [
      "Getting Original Date\n",
      "Getting quots \n",
      "Ticker:  adm \n",
      "Date:  2006-05-16\n",
      "Quote Loaded\n"
     ]
    },
    {
     "name": "stderr",
     "output_type": "stream",
     "text": [
      "\n",
      " 53%|███████████████████████████████████████████▋                                      | 16/30 [00:07<00:06,  2.17it/s]"
     ]
    },
    {
     "name": "stdout",
     "output_type": "stream",
     "text": [
      "Getting Original Date\n",
      "Getting quots \n",
      "Ticker:  adm \n",
      "Date:  2007-02-20\n",
      "Quote Loaded\n"
     ]
    },
    {
     "name": "stderr",
     "output_type": "stream",
     "text": [
      "\n",
      " 57%|██████████████████████████████████████████████▍                                   | 17/30 [00:07<00:06,  2.16it/s]"
     ]
    },
    {
     "name": "stdout",
     "output_type": "stream",
     "text": [
      "Getting Original Date\n",
      "Getting quots \n",
      "Ticker:  adm \n",
      "Date:  2007-03-07\n",
      "Quote Loaded\n"
     ]
    },
    {
     "name": "stderr",
     "output_type": "stream",
     "text": [
      "\n",
      " 60%|█████████████████████████████████████████████████▏                                | 18/30 [00:08<00:05,  2.19it/s]"
     ]
    },
    {
     "name": "stdout",
     "output_type": "stream",
     "text": [
      "Getting Original Date\n",
      "Getting quots \n",
      "Ticker:  adm \n",
      "Date:  2007-04-09\n",
      "Quote Loaded\n"
     ]
    },
    {
     "name": "stderr",
     "output_type": "stream",
     "text": [
      "\n",
      " 63%|███████████████████████████████████████████████████▉                              | 19/30 [00:08<00:04,  2.21it/s]"
     ]
    },
    {
     "name": "stdout",
     "output_type": "stream",
     "text": [
      "Getting Original Date\n",
      "Getting quots \n",
      "Ticker:  adm \n",
      "Date:  2007-06-18\n",
      "Quote Loaded\n"
     ]
    },
    {
     "name": "stderr",
     "output_type": "stream",
     "text": [
      "\n",
      " 67%|██████████████████████████████████████████████████████▋                           | 20/30 [00:08<00:04,  2.24it/s]"
     ]
    },
    {
     "name": "stdout",
     "output_type": "stream",
     "text": [
      "Getting Original Date\n",
      "Getting quots \n",
      "Ticker:  adm \n",
      "Date:  2007-06-19\n",
      "Quote Loaded\n"
     ]
    },
    {
     "name": "stderr",
     "output_type": "stream",
     "text": [
      "\n",
      " 70%|█████████████████████████████████████████████████████████▍                        | 21/30 [00:09<00:03,  2.27it/s]"
     ]
    },
    {
     "name": "stdout",
     "output_type": "stream",
     "text": [
      "Getting Original Date\n",
      "Getting quots \n",
      "Ticker:  adm \n",
      "Date:  2007-10-12\n",
      "Quote Loaded\n"
     ]
    },
    {
     "name": "stderr",
     "output_type": "stream",
     "text": [
      "\n",
      " 73%|████████████████████████████████████████████████████████████▏                     | 22/30 [00:09<00:03,  2.29it/s]"
     ]
    },
    {
     "name": "stdout",
     "output_type": "stream",
     "text": [
      "Getting Original Date\n",
      "Getting quots \n",
      "Ticker:  adm \n",
      "Date:  2008-01-23\n",
      "Quote Loaded\n"
     ]
    },
    {
     "name": "stderr",
     "output_type": "stream",
     "text": [
      "\n",
      " 77%|██████████████████████████████████████████████████████████████▊                   | 23/30 [00:10<00:03,  2.29it/s]"
     ]
    },
    {
     "name": "stdout",
     "output_type": "stream",
     "text": [
      "Getting Original Date\n",
      "Getting quots \n",
      "Ticker:  adm \n",
      "Date:  2009-01-09\n",
      "Quote Loaded\n"
     ]
    },
    {
     "name": "stderr",
     "output_type": "stream",
     "text": [
      "\n",
      " 80%|█████████████████████████████████████████████████████████████████▌                | 24/30 [00:10<00:02,  2.32it/s]"
     ]
    },
    {
     "name": "stdout",
     "output_type": "stream",
     "text": [
      "Getting Original Date\n",
      "Getting quots \n",
      "Ticker:  adm \n",
      "Date:  2011-07-29\n",
      "Quote Loaded\n"
     ]
    },
    {
     "name": "stderr",
     "output_type": "stream",
     "text": [
      "\n",
      " 83%|████████████████████████████████████████████████████████████████████▎             | 25/30 [00:10<00:02,  2.32it/s]"
     ]
    },
    {
     "name": "stdout",
     "output_type": "stream",
     "text": [
      "Getting Original Date\n",
      "Getting quots \n",
      "Ticker:  adm \n",
      "Date:  2011-08-05\n",
      "Quote Loaded\n"
     ]
    },
    {
     "name": "stderr",
     "output_type": "stream",
     "text": [
      "\n",
      " 87%|███████████████████████████████████████████████████████████████████████           | 26/30 [00:11<00:01,  2.35it/s]"
     ]
    },
    {
     "name": "stdout",
     "output_type": "stream",
     "text": [
      "Getting Original Date\n",
      "Getting quots \n",
      "Ticker:  adm \n",
      "Date:  2011-09-28\n",
      "Quote Loaded\n"
     ]
    },
    {
     "name": "stderr",
     "output_type": "stream",
     "text": [
      "\n",
      " 90%|█████████████████████████████████████████████████████████████████████████▊        | 27/30 [00:11<00:01,  2.39it/s]"
     ]
    },
    {
     "name": "stdout",
     "output_type": "stream",
     "text": [
      "Getting Original Date\n",
      "Pointing Date is -  5 (Day of the week)\n",
      "Checking Next Day\n",
      "Pointing Date is -  6 (Day of the week)\n",
      "Checking Next Day\n",
      "Getting quots \n",
      "Ticker:  adm \n",
      "Date:  2012-01-03\n",
      "Quote Loaded\n"
     ]
    },
    {
     "name": "stderr",
     "output_type": "stream",
     "text": [
      "\n",
      " 93%|████████████████████████████████████████████████████████████████████████████▌     | 28/30 [00:11<00:00,  2.39it/s]"
     ]
    },
    {
     "name": "stdout",
     "output_type": "stream",
     "text": [
      "Getting Original Date\n",
      "Pointing Date is -  5 (Day of the week)\n",
      "Checking Next Day\n",
      "Pointing Date is -  6 (Day of the week)\n",
      "Checking Next Day\n",
      "Getting quots \n",
      "Ticker:  adm \n",
      "Date:  2012-07-31\n",
      "Quote Loaded\n"
     ]
    },
    {
     "name": "stderr",
     "output_type": "stream",
     "text": [
      "\n",
      " 97%|███████████████████████████████████████████████████████████████████████████████▎  | 29/30 [00:12<00:00,  2.40it/s]"
     ]
    },
    {
     "name": "stdout",
     "output_type": "stream",
     "text": [
      "Getting Original Date\n",
      "Getting quots \n",
      "Ticker:  adm \n",
      "Date:  2013-06-07\n",
      "Quote Loaded\n"
     ]
    },
    {
     "name": "stderr",
     "output_type": "stream",
     "text": [
      "\n",
      "100%|██████████████████████████████████████████████████████████████████████████████████| 30/30 [00:12<00:00,  2.42it/s]\n"
     ]
    },
    {
     "name": "stdout",
     "output_type": "stream",
     "text": [
      "Will save to file:  c:\\data\\finml\\PriceVsSNP500_adm.csv\n",
      "Getting Stock Price Data...\n"
     ]
    },
    {
     "name": "stderr",
     "output_type": "stream",
     "text": [
      "\n",
      "  0%|                                                                                           | 0/18 [00:00<?, ?it/s]"
     ]
    },
    {
     "name": "stdout",
     "output_type": "stream",
     "text": [
      "Getting Original Date\n",
      "Getting quots \n",
      "Ticker:  a \n",
      "Date:  2004-01-30\n",
      "Quote Loaded\n"
     ]
    },
    {
     "name": "stderr",
     "output_type": "stream",
     "text": [
      "\n",
      "  6%|████▌                                                                              | 1/18 [00:00<00:05,  2.89it/s]"
     ]
    },
    {
     "name": "stdout",
     "output_type": "stream",
     "text": [
      "Getting Original Date\n",
      "Getting quots \n",
      "Ticker:  a \n",
      "Date:  2004-04-13\n",
      "Quote Loaded\n"
     ]
    },
    {
     "name": "stderr",
     "output_type": "stream",
     "text": [
      "\n",
      " 11%|█████████▏                                                                         | 2/18 [00:00<00:06,  2.54it/s]"
     ]
    },
    {
     "name": "stdout",
     "output_type": "stream",
     "text": [
      "Getting Original Date\n",
      "Getting quots \n",
      "Ticker:  a \n",
      "Date:  2004-12-13\n",
      "Quote Loaded\n"
     ]
    },
    {
     "name": "stderr",
     "output_type": "stream",
     "text": [
      "\n",
      " 17%|█████████████▊                                                                     | 3/18 [00:01<00:06,  2.41it/s]"
     ]
    },
    {
     "name": "stdout",
     "output_type": "stream",
     "text": [
      "Getting Original Date\n",
      "Pointing Date is -  5 (Day of the week)\n",
      "Checking Next Day\n",
      "Pointing Date is -  6 (Day of the week)\n",
      "Checking Next Day\n",
      "Getting quots \n",
      "Ticker:  a \n",
      "Date:  2005-01-25\n",
      "Quote Loaded\n"
     ]
    },
    {
     "name": "stderr",
     "output_type": "stream",
     "text": [
      "\n",
      " 22%|██████████████████▍                                                                | 4/18 [00:01<00:06,  2.24it/s]"
     ]
    },
    {
     "name": "stdout",
     "output_type": "stream",
     "text": [
      "Getting Original Date\n",
      "Getting quots \n",
      "Ticker:  a \n",
      "Date:  2006-01-09\n",
      "Quote Loaded\n"
     ]
    },
    {
     "name": "stderr",
     "output_type": "stream",
     "text": [
      "\n",
      " 28%|███████████████████████                                                            | 5/18 [00:02<00:05,  2.32it/s]"
     ]
    },
    {
     "name": "stdout",
     "output_type": "stream",
     "text": [
      "Getting Original Date\n",
      "Getting quots \n",
      "Ticker:  a \n",
      "Date:  2006-06-21\n",
      "Quote Loaded\n"
     ]
    },
    {
     "name": "stderr",
     "output_type": "stream",
     "text": [
      "\n",
      " 33%|███████████████████████████▋                                                       | 6/18 [00:02<00:05,  2.38it/s]"
     ]
    },
    {
     "name": "stdout",
     "output_type": "stream",
     "text": [
      "Getting Original Date\n",
      "Pointing Date is -  5 (Day of the week)\n",
      "Checking Next Day\n",
      "Pointing Date is -  6 (Day of the week)\n",
      "Checking Next Day\n",
      "Getting quots \n",
      "Ticker:  a \n",
      "Date:  2006-08-22\n",
      "Quote Loaded\n"
     ]
    },
    {
     "name": "stderr",
     "output_type": "stream",
     "text": [
      "\n",
      " 39%|████████████████████████████████▎                                                  | 7/18 [00:03<00:04,  2.32it/s]"
     ]
    },
    {
     "name": "stdout",
     "output_type": "stream",
     "text": [
      "Getting Original Date\n",
      "Getting quots \n",
      "Ticker:  a \n",
      "Date:  2007-02-20\n",
      "Quote Loaded\n"
     ]
    },
    {
     "name": "stderr",
     "output_type": "stream",
     "text": [
      "\n",
      " 44%|████████████████████████████████████▉                                              | 8/18 [00:03<00:04,  2.26it/s]"
     ]
    },
    {
     "name": "stdout",
     "output_type": "stream",
     "text": [
      "Getting Original Date\n",
      "Getting quots \n",
      "Ticker:  a \n",
      "Date:  2007-04-12\n",
      "Quote Loaded\n"
     ]
    },
    {
     "name": "stderr",
     "output_type": "stream",
     "text": [
      "\n",
      " 50%|█████████████████████████████████████████▌                                         | 9/18 [00:04<00:04,  2.23it/s]"
     ]
    },
    {
     "name": "stdout",
     "output_type": "stream",
     "text": [
      "Getting Original Date\n",
      "Getting quots \n",
      "Ticker:  a \n",
      "Date:  2008-01-23\n",
      "Quote Loaded\n"
     ]
    },
    {
     "name": "stderr",
     "output_type": "stream",
     "text": [
      "\n",
      " 56%|█████████████████████████████████████████████▌                                    | 10/18 [00:04<00:03,  2.28it/s]"
     ]
    },
    {
     "name": "stdout",
     "output_type": "stream",
     "text": [
      "Getting Original Date\n",
      "Getting quots \n",
      "Ticker:  a \n",
      "Date:  2008-02-14\n",
      "Quote Loaded\n"
     ]
    },
    {
     "name": "stderr",
     "output_type": "stream",
     "text": [
      "\n",
      " 61%|██████████████████████████████████████████████████                                | 11/18 [00:04<00:03,  2.32it/s]"
     ]
    },
    {
     "name": "stdout",
     "output_type": "stream",
     "text": [
      "Getting Original Date\n",
      "Pointing Date is -  5 (Day of the week)\n",
      "Checking Next Day\n",
      "Pointing Date is -  6 (Day of the week)\n",
      "Checking Next Day\n",
      "Getting quots \n",
      "Ticker:  a \n",
      "Date:  2008-04-29\n",
      "Quote Loaded\n"
     ]
    },
    {
     "name": "stderr",
     "output_type": "stream",
     "text": [
      "\n",
      " 67%|██████████████████████████████████████████████████████▋                           | 12/18 [00:05<00:02,  2.33it/s]"
     ]
    },
    {
     "name": "stdout",
     "output_type": "stream",
     "text": [
      "Getting Original Date\n",
      "Pointing Date is -  5 (Day of the week)\n",
      "Checking Next Day\n",
      "Getting quots \n",
      "Ticker:  a \n",
      "Date:  2008-12-08\n",
      "Quote Loaded\n"
     ]
    },
    {
     "name": "stderr",
     "output_type": "stream",
     "text": [
      "\n",
      " 72%|███████████████████████████████████████████████████████████▏                      | 13/18 [00:05<00:02,  2.29it/s]"
     ]
    },
    {
     "name": "stdout",
     "output_type": "stream",
     "text": [
      "Getting Original Date\n",
      "Pointing Date is -  6 (Day of the week)\n",
      "Checking Next Day\n",
      "Getting quots \n",
      "Ticker:  a \n",
      "Date:  2009-08-03\n",
      "Quote Loaded\n"
     ]
    },
    {
     "name": "stderr",
     "output_type": "stream",
     "text": [
      "\n",
      " 78%|███████████████████████████████████████████████████████████████▊                  | 14/18 [00:06<00:01,  2.28it/s]"
     ]
    },
    {
     "name": "stdout",
     "output_type": "stream",
     "text": [
      "Getting Original Date\n",
      "Getting quots \n",
      "Ticker:  a \n",
      "Date:  2011-08-02\n",
      "Quote Loaded\n"
     ]
    },
    {
     "name": "stderr",
     "output_type": "stream",
     "text": [
      "\n",
      " 83%|████████████████████████████████████████████████████████████████████▎             | 15/18 [00:06<00:01,  2.31it/s]"
     ]
    },
    {
     "name": "stdout",
     "output_type": "stream",
     "text": [
      "Getting Original Date\n",
      "Getting quots \n",
      "Ticker:  a \n",
      "Date:  2011-11-08\n",
      "Quote Loaded\n"
     ]
    },
    {
     "name": "stderr",
     "output_type": "stream",
     "text": [
      "\n",
      " 89%|████████████████████████████████████████████████████████████████████████▉         | 16/18 [00:06<00:00,  2.31it/s]"
     ]
    },
    {
     "name": "stdout",
     "output_type": "stream",
     "text": [
      "Getting Original Date\n",
      "Getting quots \n",
      "Ticker:  a \n",
      "Date:  2013-05-14\n",
      "Quote Loaded\n"
     ]
    },
    {
     "name": "stderr",
     "output_type": "stream",
     "text": [
      "\n",
      " 94%|█████████████████████████████████████████████████████████████████████████████▍    | 17/18 [00:07<00:00,  2.32it/s]"
     ]
    },
    {
     "name": "stdout",
     "output_type": "stream",
     "text": [
      "Getting Original Date\n",
      "Getting quots \n",
      "Ticker:  a \n",
      "Date:  2013-09-06\n",
      "Quote Loaded\n"
     ]
    },
    {
     "name": "stderr",
     "output_type": "stream",
     "text": [
      "\n",
      "100%|██████████████████████████████████████████████████████████████████████████████████| 18/18 [00:07<00:00,  2.30it/s]\n"
     ]
    },
    {
     "name": "stdout",
     "output_type": "stream",
     "text": [
      "Will save to file:  c:\\data\\finml\\PriceVsSNP500_a.csv\n",
      "Getting Stock Price Data...\n"
     ]
    },
    {
     "name": "stderr",
     "output_type": "stream",
     "text": [
      "\n",
      "  0%|                                                                                           | 0/17 [00:00<?, ?it/s]"
     ]
    },
    {
     "name": "stdout",
     "output_type": "stream",
     "text": [
      "Getting Original Date\n",
      "Getting quots \n",
      "Ticker:  aci \n",
      "Date:  2003-12-15\n",
      "Quote Loaded\n"
     ]
    },
    {
     "name": "stderr",
     "output_type": "stream",
     "text": [
      "\n",
      "  6%|████▉                                                                              | 1/17 [00:00<00:06,  2.35it/s]"
     ]
    },
    {
     "name": "stdout",
     "output_type": "stream",
     "text": [
      "Getting Original Date\n",
      "Getting quots \n",
      "Ticker:  aci \n",
      "Date:  2005-01-24\n",
      "Quote Loaded\n"
     ]
    },
    {
     "name": "stderr",
     "output_type": "stream",
     "text": [
      "\n",
      " 12%|█████████▊                                                                         | 2/17 [00:00<00:07,  2.10it/s]"
     ]
    },
    {
     "name": "stdout",
     "output_type": "stream",
     "text": [
      "Getting Original Date\n",
      "Pointing Date is -  5 (Day of the week)\n",
      "Checking Next Day\n",
      "Pointing Date is -  6 (Day of the week)\n",
      "Checking Next Day\n",
      "Getting quots \n",
      "Ticker:  aci \n",
      "Date:  2005-02-08\n",
      "Quote Loaded\n"
     ]
    },
    {
     "name": "stderr",
     "output_type": "stream",
     "text": [
      "\n",
      " 18%|██████████████▋                                                                    | 3/17 [00:01<00:06,  2.10it/s]"
     ]
    },
    {
     "name": "stdout",
     "output_type": "stream",
     "text": [
      "Getting Original Date\n",
      "Getting quots \n",
      "Ticker:  aci \n",
      "Date:  2005-03-30\n",
      "Quote Loaded\n"
     ]
    },
    {
     "name": "stderr",
     "output_type": "stream",
     "text": [
      "\n",
      " 24%|███████████████████▌                                                               | 4/17 [00:01<00:05,  2.24it/s]"
     ]
    },
    {
     "name": "stdout",
     "output_type": "stream",
     "text": [
      "Getting Original Date\n",
      "Getting quots \n",
      "Ticker:  aci \n",
      "Date:  2006-05-24\n",
      "Quote Loaded\n"
     ]
    },
    {
     "name": "stderr",
     "output_type": "stream",
     "text": [
      "\n",
      " 29%|████████████████████████▍                                                          | 5/17 [00:02<00:05,  2.20it/s]"
     ]
    },
    {
     "name": "stdout",
     "output_type": "stream",
     "text": [
      "Getting Original Date\n",
      "Pointing Date is -  6 (Day of the week)\n",
      "Checking Next Day\n",
      "Getting quots \n",
      "Ticker:  aci \n",
      "Date:  2007-03-13\n",
      "Quote Loaded\n"
     ]
    },
    {
     "name": "stderr",
     "output_type": "stream",
     "text": [
      "\n",
      " 35%|█████████████████████████████▎                                                     | 6/17 [00:02<00:05,  2.15it/s]"
     ]
    },
    {
     "name": "stdout",
     "output_type": "stream",
     "text": [
      "Getting Original Date\n",
      "Pointing Date is -  5 (Day of the week)\n",
      "Checking Next Day\n",
      "Getting quots \n",
      "Ticker:  aci \n",
      "Date:  2007-04-09\n",
      "Quote Loaded\n"
     ]
    },
    {
     "name": "stderr",
     "output_type": "stream",
     "text": [
      "\n",
      " 41%|██████████████████████████████████▏                                                | 7/17 [00:03<00:04,  2.12it/s]"
     ]
    },
    {
     "name": "stdout",
     "output_type": "stream",
     "text": [
      "Getting Original Date\n",
      "Pointing Date is -  6 (Day of the week)\n",
      "Checking Next Day\n",
      "Getting quots \n",
      "Ticker:  aci \n",
      "Date:  2008-03-04\n",
      "Quote Loaded\n"
     ]
    },
    {
     "name": "stderr",
     "output_type": "stream",
     "text": [
      "\n",
      " 47%|███████████████████████████████████████                                            | 8/17 [00:03<00:04,  2.16it/s]"
     ]
    },
    {
     "name": "stdout",
     "output_type": "stream",
     "text": [
      "Getting Original Date\n",
      "Getting quots \n",
      "Ticker:  aci \n",
      "Date:  2008-06-05\n",
      "Quote Loaded\n"
     ]
    },
    {
     "name": "stderr",
     "output_type": "stream",
     "text": [
      "\n",
      " 53%|███████████████████████████████████████████▉                                       | 9/17 [00:04<00:03,  2.13it/s]"
     ]
    },
    {
     "name": "stdout",
     "output_type": "stream",
     "text": [
      "Getting Original Date\n",
      "Getting quots \n",
      "Ticker:  aci \n",
      "Date:  2008-10-08\n",
      "Quote Loaded\n"
     ]
    },
    {
     "name": "stderr",
     "output_type": "stream",
     "text": [
      "\n",
      " 59%|████████████████████████████████████████████████▏                                 | 10/17 [00:04<00:03,  2.16it/s]"
     ]
    },
    {
     "name": "stdout",
     "output_type": "stream",
     "text": [
      "Getting Original Date\n",
      "Getting quots \n",
      "Ticker:  aci \n",
      "Date:  2008-12-05\n",
      "Quote Loaded\n"
     ]
    },
    {
     "name": "stderr",
     "output_type": "stream",
     "text": [
      "\n",
      " 65%|█████████████████████████████████████████████████████                             | 11/17 [00:04<00:02,  2.21it/s]"
     ]
    },
    {
     "name": "stdout",
     "output_type": "stream",
     "text": [
      "Getting Original Date\n",
      "Pointing Date is -  5 (Day of the week)\n",
      "Checking Next Day\n",
      "Pointing Date is -  6 (Day of the week)\n",
      "Checking Next Day\n",
      "Getting quots \n",
      "Ticker:  aci \n",
      "Date:  2009-08-04\n",
      "Quote Loaded\n"
     ]
    },
    {
     "name": "stderr",
     "output_type": "stream",
     "text": [
      "\n",
      " 71%|█████████████████████████████████████████████████████████▉                        | 12/17 [00:05<00:02,  2.21it/s]"
     ]
    },
    {
     "name": "stdout",
     "output_type": "stream",
     "text": [
      "Getting Original Date\n",
      "Getting quots \n",
      "Ticker:  aci \n",
      "Date:  2011-08-18\n",
      "Quote Loaded\n"
     ]
    },
    {
     "name": "stderr",
     "output_type": "stream",
     "text": [
      "\n",
      " 76%|██████████████████████████████████████████████████████████████▋                   | 13/17 [00:05<00:01,  2.22it/s]"
     ]
    },
    {
     "name": "stdout",
     "output_type": "stream",
     "text": [
      "Getting Original Date\n",
      "Getting quots \n",
      "Ticker:  aci \n",
      "Date:  2012-07-26\n",
      "Quote Loaded\n"
     ]
    },
    {
     "name": "stderr",
     "output_type": "stream",
     "text": [
      "\n",
      " 82%|███████████████████████████████████████████████████████████████████▌              | 14/17 [00:06<00:01,  2.24it/s]"
     ]
    },
    {
     "name": "stdout",
     "output_type": "stream",
     "text": [
      "Getting Original Date\n",
      "Pointing Date is -  6 (Day of the week)\n",
      "Checking Next Day\n",
      "Getting quots \n",
      "Ticker:  aci \n",
      "Date:  2012-11-05\n",
      "Quote Loaded\n"
     ]
    },
    {
     "name": "stderr",
     "output_type": "stream",
     "text": [
      "\n",
      " 88%|████████████████████████████████████████████████████████████████████████▎         | 15/17 [00:06<00:00,  2.30it/s]"
     ]
    },
    {
     "name": "stdout",
     "output_type": "stream",
     "text": [
      "Getting Original Date\n",
      "Getting quots \n",
      "Ticker:  aci \n",
      "Date:  2013-04-23\n",
      "Quote Loaded\n"
     ]
    },
    {
     "name": "stderr",
     "output_type": "stream",
     "text": [
      "\n",
      " 94%|█████████████████████████████████████████████████████████████████████████████▏    | 16/17 [00:06<00:00,  2.31it/s]"
     ]
    },
    {
     "name": "stdout",
     "output_type": "stream",
     "text": [
      "Getting Original Date\n",
      "Getting quots \n",
      "Ticker:  aci \n",
      "Date:  2013-04-25\n",
      "Quote Loaded\n"
     ]
    },
    {
     "name": "stderr",
     "output_type": "stream",
     "text": [
      "\n",
      "100%|██████████████████████████████████████████████████████████████████████████████████| 17/17 [00:07<00:00,  2.30it/s]\n"
     ]
    },
    {
     "name": "stdout",
     "output_type": "stream",
     "text": [
      "Will save to file:  c:\\data\\finml\\PriceVsSNP500_aci.csv\n",
      "Getting Stock Price Data...\n"
     ]
    },
    {
     "name": "stderr",
     "output_type": "stream",
     "text": [
      "\n",
      "  0%|                                                                                            | 0/1 [00:00<?, ?it/s]"
     ]
    },
    {
     "name": "stdout",
     "output_type": "stream",
     "text": [
      "Getting Original Date\n",
      "Getting quots \n",
      "Ticker:  abbv \n",
      "Date:  2013-06-19\n",
      "Quote Loaded\n"
     ]
    },
    {
     "name": "stderr",
     "output_type": "stream",
     "text": [
      "\n",
      "100%|████████████████████████████████████████████████████████████████████████████████████| 1/1 [00:00<00:00,  2.27it/s]\n"
     ]
    },
    {
     "name": "stdout",
     "output_type": "stream",
     "text": [
      "Will save to file:  c:\\data\\finml\\PriceVsSNP500_abbv.csv\n",
      "Getting Stock Price Data...\n"
     ]
    },
    {
     "name": "stderr",
     "output_type": "stream",
     "text": [
      "\n",
      "  0%|                                                                                           | 0/11 [00:00<?, ?it/s]"
     ]
    },
    {
     "name": "stdout",
     "output_type": "stream",
     "text": [
      "Getting Original Date\n",
      "Getting quots \n",
      "Ticker:  ace \n",
      "Date:  2004-08-16\n",
      "Quote Loaded\n"
     ]
    },
    {
     "name": "stderr",
     "output_type": "stream",
     "text": [
      "\n",
      "  9%|███████▌                                                                           | 1/11 [00:00<00:04,  2.29it/s]"
     ]
    },
    {
     "name": "stdout",
     "output_type": "stream",
     "text": [
      "Getting Original Date\n",
      "Pointing Date is -  6 (Day of the week)\n",
      "Checking Next Day\n",
      "Getting quots \n",
      "Ticker:  ace \n",
      "Date:  2004-10-11\n",
      "Quote Loaded\n"
     ]
    },
    {
     "name": "stderr",
     "output_type": "stream",
     "text": [
      "\n",
      " 18%|███████████████                                                                    | 2/11 [00:00<00:04,  2.09it/s]"
     ]
    },
    {
     "name": "stdout",
     "output_type": "stream",
     "text": [
      "Getting Original Date\n",
      "Getting quots \n",
      "Ticker:  ace \n",
      "Date:  2005-01-13\n",
      "Quote Loaded\n"
     ]
    },
    {
     "name": "stderr",
     "output_type": "stream",
     "text": [
      "\n",
      " 27%|██████████████████████▋                                                            | 3/11 [00:01<00:03,  2.05it/s]"
     ]
    },
    {
     "name": "stdout",
     "output_type": "stream",
     "text": [
      "Getting Original Date\n",
      "Getting quots \n",
      "Ticker:  ace \n",
      "Date:  2007-02-20\n",
      "Quote Loaded\n"
     ]
    },
    {
     "name": "stderr",
     "output_type": "stream",
     "text": [
      "\n",
      " 36%|██████████████████████████████▏                                                    | 4/11 [00:01<00:03,  2.21it/s]"
     ]
    },
    {
     "name": "stdout",
     "output_type": "stream",
     "text": [
      "Getting Original Date\n",
      "Getting quots \n",
      "Ticker:  ace \n",
      "Date:  2007-04-05\n",
      "Quote Loaded\n"
     ]
    },
    {
     "name": "stderr",
     "output_type": "stream",
     "text": [
      "\n",
      " 45%|█████████████████████████████████████▋                                             | 5/11 [00:02<00:02,  2.09it/s]"
     ]
    },
    {
     "name": "stdout",
     "output_type": "stream",
     "text": [
      "Getting Original Date\n",
      "Getting quots \n",
      "Ticker:  ace \n",
      "Date:  2008-01-23\n",
      "Quote Loaded\n"
     ]
    },
    {
     "name": "stderr",
     "output_type": "stream",
     "text": [
      "\n",
      " 55%|█████████████████████████████████████████████▎                                     | 6/11 [00:02<00:02,  2.19it/s]"
     ]
    },
    {
     "name": "stdout",
     "output_type": "stream",
     "text": [
      "Getting Original Date\n",
      "Pointing Date is -  6 (Day of the week)\n",
      "Checking Next Day\n",
      "Getting quots \n",
      "Ticker:  ace \n",
      "Date:  2010-07-20\n",
      "Quote Loaded\n"
     ]
    },
    {
     "name": "stderr",
     "output_type": "stream",
     "text": [
      "\n",
      " 64%|████████████████████████████████████████████████████▊                              | 7/11 [00:03<00:01,  2.12it/s]"
     ]
    },
    {
     "name": "stdout",
     "output_type": "stream",
     "text": [
      "Getting Original Date\n",
      "Getting quots \n",
      "Ticker:  ace \n",
      "Date:  2010-12-07\n",
      "Quote Loaded\n"
     ]
    },
    {
     "name": "stderr",
     "output_type": "stream",
     "text": [
      "\n",
      " 73%|████████████████████████████████████████████████████████████▎                      | 8/11 [00:03<00:01,  2.21it/s]"
     ]
    },
    {
     "name": "stdout",
     "output_type": "stream",
     "text": [
      "Getting Original Date\n",
      "Getting quots \n",
      "Ticker:  ace \n",
      "Date:  2011-08-11\n",
      "Quote Loaded\n"
     ]
    },
    {
     "name": "stderr",
     "output_type": "stream",
     "text": [
      "\n",
      " 82%|███████████████████████████████████████████████████████████████████▉               | 9/11 [00:03<00:00,  2.31it/s]"
     ]
    },
    {
     "name": "stdout",
     "output_type": "stream",
     "text": [
      "Getting Original Date\n",
      "Getting quots \n",
      "Ticker:  ace \n",
      "Date:  2013-04-23\n",
      "Quote Loaded\n"
     ]
    },
    {
     "name": "stderr",
     "output_type": "stream",
     "text": [
      "\n",
      " 91%|██████████████████████████████████████████████████████████████████████████▌       | 10/11 [00:04<00:00,  2.30it/s]"
     ]
    },
    {
     "name": "stdout",
     "output_type": "stream",
     "text": [
      "Getting Original Date\n",
      "Getting quots \n",
      "Ticker:  ace \n",
      "Date:  2013-05-16\n",
      "Quote Loaded\n"
     ]
    },
    {
     "name": "stderr",
     "output_type": "stream",
     "text": [
      "\n",
      "100%|██████████████████████████████████████████████████████████████████████████████████| 11/11 [00:04<00:00,  2.22it/s]\n"
     ]
    },
    {
     "name": "stdout",
     "output_type": "stream",
     "text": [
      "Will save to file:  c:\\data\\finml\\PriceVsSNP500_ace.csv\n",
      "Getting Stock Price Data...\n"
     ]
    },
    {
     "name": "stderr",
     "output_type": "stream",
     "text": [
      "\n",
      "  0%|                                                                                           | 0/22 [00:00<?, ?it/s]"
     ]
    },
    {
     "name": "stdout",
     "output_type": "stream",
     "text": [
      "Getting Original Date\n",
      "Getting quots \n",
      "Ticker:  apc \n",
      "Date:  2003-10-27\n",
      "Quote Loaded\n"
     ]
    },
    {
     "name": "stderr",
     "output_type": "stream",
     "text": [
      "\n",
      "  5%|███▊                                                                               | 1/22 [00:00<00:12,  1.65it/s]"
     ]
    },
    {
     "name": "stdout",
     "output_type": "stream",
     "text": [
      "Getting Original Date\n",
      "Pointing Date is -  6 (Day of the week)\n",
      "Checking Next Day\n",
      "Getting quots \n",
      "Ticker:  apc \n",
      "Date:  2005-01-24\n",
      "Quote Loaded\n"
     ]
    },
    {
     "name": "stderr",
     "output_type": "stream",
     "text": [
      "\n",
      "  9%|███████▌                                                                           | 2/22 [00:00<00:09,  2.21it/s]"
     ]
    },
    {
     "name": "stdout",
     "output_type": "stream",
     "text": [
      "Getting Original Date\n",
      "Pointing Date is -  6 (Day of the week)\n",
      "Checking Next Day\n",
      "Getting quots \n",
      "Ticker:  apc \n",
      "Date:  2005-03-07\n",
      "Quote Loaded\n"
     ]
    },
    {
     "name": "stderr",
     "output_type": "stream",
     "text": [
      "\n",
      " 14%|███████████▎                                                                       | 3/22 [00:01<00:08,  2.26it/s]"
     ]
    },
    {
     "name": "stdout",
     "output_type": "stream",
     "text": [
      "Getting Original Date\n",
      "Pointing Date is -  5 (Day of the week)\n",
      "Checking Next Day\n",
      "Pointing Date is -  6 (Day of the week)\n",
      "Checking Next Day\n",
      "Getting quots \n",
      "Ticker:  apc \n",
      "Date:  2006-10-31\n",
      "Quote Loaded\n"
     ]
    },
    {
     "name": "stderr",
     "output_type": "stream",
     "text": [
      "\n",
      " 18%|███████████████                                                                    | 4/22 [00:01<00:07,  2.30it/s]"
     ]
    },
    {
     "name": "stdout",
     "output_type": "stream",
     "text": [
      "Getting Original Date\n",
      "Pointing Date is -  6 (Day of the week)\n",
      "Checking Next Day\n",
      "Getting quots \n",
      "Ticker:  apc \n",
      "Date:  2007-02-20\n",
      "Quote Loaded\n"
     ]
    },
    {
     "name": "stderr",
     "output_type": "stream",
     "text": [
      "\n",
      " 23%|██████████████████▊                                                                | 5/22 [00:02<00:07,  2.22it/s]"
     ]
    },
    {
     "name": "stdout",
     "output_type": "stream",
     "text": [
      "Getting Original Date\n",
      "Getting quots \n",
      "Ticker:  apc \n",
      "Date:  2007-05-01\n",
      "Quote Loaded\n"
     ]
    },
    {
     "name": "stderr",
     "output_type": "stream",
     "text": [
      "\n",
      " 27%|██████████████████████▋                                                            | 6/22 [00:02<00:07,  2.17it/s]"
     ]
    },
    {
     "name": "stdout",
     "output_type": "stream",
     "text": [
      "Getting Original Date\n",
      "Getting quots \n",
      "Ticker:  apc \n",
      "Date:  2007-06-15\n",
      "Quote Loaded\n"
     ]
    },
    {
     "name": "stderr",
     "output_type": "stream",
     "text": [
      "\n",
      " 32%|██████████████████████████▍                                                        | 7/22 [00:03<00:06,  2.26it/s]"
     ]
    },
    {
     "name": "stdout",
     "output_type": "stream",
     "text": [
      "Getting Original Date\n",
      "Getting quots \n",
      "Ticker:  apc \n",
      "Date:  2007-07-18\n",
      "Quote Loaded\n"
     ]
    },
    {
     "name": "stderr",
     "output_type": "stream",
     "text": [
      "\n",
      " 36%|██████████████████████████████▏                                                    | 8/22 [00:03<00:06,  2.17it/s]"
     ]
    },
    {
     "name": "stdout",
     "output_type": "stream",
     "text": [
      "Getting Original Date\n",
      "Getting quots \n",
      "Ticker:  apc \n",
      "Date:  2008-01-23\n",
      "Quote Loaded\n"
     ]
    },
    {
     "name": "stderr",
     "output_type": "stream",
     "text": [
      "\n",
      " 41%|█████████████████████████████████▉                                                 | 9/22 [00:04<00:05,  2.24it/s]"
     ]
    },
    {
     "name": "stdout",
     "output_type": "stream",
     "text": [
      "Getting Original Date\n",
      "Pointing Date is -  6 (Day of the week)\n",
      "Checking Next Day\n",
      "Getting quots \n",
      "Ticker:  apc \n",
      "Date:  2008-05-13\n",
      "Quote Loaded\n"
     ]
    },
    {
     "name": "stderr",
     "output_type": "stream",
     "text": [
      "\n",
      " 45%|█████████████████████████████████████▎                                            | 10/22 [00:04<00:05,  2.22it/s]"
     ]
    },
    {
     "name": "stdout",
     "output_type": "stream",
     "text": [
      "Getting Original Date\n",
      "Pointing Date is -  6 (Day of the week)\n",
      "Checking Next Day\n",
      "Getting quots \n",
      "Ticker:  apc \n",
      "Date:  2008-12-22\n",
      "Quote Loaded\n"
     ]
    },
    {
     "name": "stderr",
     "output_type": "stream",
     "text": [
      "\n",
      " 50%|█████████████████████████████████████████                                         | 11/22 [00:04<00:04,  2.24it/s]"
     ]
    },
    {
     "name": "stdout",
     "output_type": "stream",
     "text": [
      "Getting Original Date\n",
      "Getting quots \n",
      "Ticker:  apc \n",
      "Date:  2011-05-13\n",
      "Quote Loaded\n"
     ]
    },
    {
     "name": "stderr",
     "output_type": "stream",
     "text": [
      "\n",
      " 55%|████████████████████████████████████████████▋                                     | 12/22 [00:05<00:04,  2.30it/s]"
     ]
    },
    {
     "name": "stdout",
     "output_type": "stream",
     "text": [
      "Getting Original Date\n",
      "Getting quots \n",
      "Ticker:  apc \n",
      "Date:  2011-08-18\n",
      "Quote Loaded\n"
     ]
    },
    {
     "name": "stderr",
     "output_type": "stream",
     "text": [
      "\n",
      " 59%|████████████████████████████████████████████████▍                                 | 13/22 [00:05<00:03,  2.31it/s]"
     ]
    },
    {
     "name": "stdout",
     "output_type": "stream",
     "text": [
      "Getting Original Date\n",
      "Getting quots \n",
      "Ticker:  apc \n",
      "Date:  2011-08-19\n",
      "Quote Loaded\n"
     ]
    },
    {
     "name": "stderr",
     "output_type": "stream",
     "text": [
      "\n",
      " 64%|████████████████████████████████████████████████████▏                             | 14/22 [00:06<00:03,  2.33it/s]"
     ]
    },
    {
     "name": "stdout",
     "output_type": "stream",
     "text": [
      "Getting Original Date\n",
      "Getting quots \n",
      "Ticker:  apc \n",
      "Date:  2011-10-19\n",
      "Quote Loaded\n"
     ]
    },
    {
     "name": "stderr",
     "output_type": "stream",
     "text": [
      "\n",
      " 68%|███████████████████████████████████████████████████████▉                          | 15/22 [00:06<00:03,  2.29it/s]"
     ]
    },
    {
     "name": "stdout",
     "output_type": "stream",
     "text": [
      "Getting Original Date\n",
      "Getting quots \n",
      "Ticker:  apc \n",
      "Date:  2012-04-19\n",
      "Quote Loaded\n"
     ]
    },
    {
     "name": "stderr",
     "output_type": "stream",
     "text": [
      "\n",
      " 73%|███████████████████████████████████████████████████████████▋                      | 16/22 [00:06<00:02,  2.29it/s]"
     ]
    },
    {
     "name": "stdout",
     "output_type": "stream",
     "text": [
      "Getting Original Date\n",
      "Getting quots \n",
      "Ticker:  apc \n",
      "Date:  2012-06-22\n",
      "Quote Loaded\n"
     ]
    },
    {
     "name": "stderr",
     "output_type": "stream",
     "text": [
      "\n",
      " 77%|███████████████████████████████████████████████████████████████▎                  | 17/22 [00:07<00:02,  2.33it/s]"
     ]
    },
    {
     "name": "stdout",
     "output_type": "stream",
     "text": [
      "Getting Original Date\n",
      "Getting quots \n",
      "Ticker:  apc \n",
      "Date:  2012-08-24\n",
      "Quote Loaded\n"
     ]
    },
    {
     "name": "stderr",
     "output_type": "stream",
     "text": [
      "\n",
      " 82%|███████████████████████████████████████████████████████████████████               | 18/22 [00:07<00:01,  2.36it/s]"
     ]
    },
    {
     "name": "stdout",
     "output_type": "stream",
     "text": [
      "Getting Original Date\n",
      "Getting quots \n",
      "Ticker:  apc \n",
      "Date:  2012-11-16\n",
      "Quote Loaded\n"
     ]
    },
    {
     "name": "stderr",
     "output_type": "stream",
     "text": [
      "\n",
      " 86%|██████████████████████████████████████████████████████████████████████▊           | 19/22 [00:08<00:01,  2.35it/s]"
     ]
    },
    {
     "name": "stdout",
     "output_type": "stream",
     "text": [
      "Getting Original Date\n",
      "Getting quots \n",
      "Ticker:  apc \n",
      "Date:  2012-11-23\n",
      "Quote Loaded\n"
     ]
    },
    {
     "name": "stderr",
     "output_type": "stream",
     "text": [
      "\n",
      " 91%|██████████████████████████████████████████████████████████████████████████▌       | 20/22 [00:08<00:00,  2.36it/s]"
     ]
    },
    {
     "name": "stdout",
     "output_type": "stream",
     "text": [
      "Getting Original Date\n",
      "Pointing Date is -  6 (Day of the week)\n",
      "Checking Next Day\n",
      "Getting quots \n",
      "Ticker:  apc \n",
      "Date:  2013-04-16\n",
      "Quote Loaded\n"
     ]
    },
    {
     "name": "stderr",
     "output_type": "stream",
     "text": [
      "\n",
      " 95%|██████████████████████████████████████████████████████████████████████████████▎   | 21/22 [00:08<00:00,  2.36it/s]"
     ]
    },
    {
     "name": "stdout",
     "output_type": "stream",
     "text": [
      "Getting Original Date\n",
      "Getting quots \n",
      "Ticker:  apc \n",
      "Date:  2013-05-16\n",
      "Quote Loaded\n"
     ]
    },
    {
     "name": "stderr",
     "output_type": "stream",
     "text": [
      "\n",
      "100%|██████████████████████████████████████████████████████████████████████████████████| 22/22 [00:09<00:00,  2.35it/s]\n"
     ]
    },
    {
     "name": "stdout",
     "output_type": "stream",
     "text": [
      "Will save to file:  c:\\data\\finml\\PriceVsSNP500_apc.csv\n",
      "Star Export To MySQL Server\n"
     ]
    },
    {
     "ename": "InterfaceError",
     "evalue": "(mysql.connector.errors.InterfaceError) 2003: Can't connect to MySQL server on 'localhost:3306' (10061 No connection could be made because the target machine actively refused it) (Background on this error at: http://sqlalche.me/e/rvf5)",
     "output_type": "error",
     "traceback": [
      "\u001b[1;31m---------------------------------------------------------------------------\u001b[0m",
      "\u001b[1;31mConnectionRefusedError\u001b[0m                    Traceback (most recent call last)",
      "\u001b[1;32m~\\Anaconda3\\lib\\site-packages\\mysql\\connector\\network.py\u001b[0m in \u001b[0;36mopen_connection\u001b[1;34m(self)\u001b[0m\n\u001b[0;32m    508\u001b[0m             \u001b[0mself\u001b[0m\u001b[1;33m.\u001b[0m\u001b[0msock\u001b[0m\u001b[1;33m.\u001b[0m\u001b[0msettimeout\u001b[0m\u001b[1;33m(\u001b[0m\u001b[0mself\u001b[0m\u001b[1;33m.\u001b[0m\u001b[0m_connection_timeout\u001b[0m\u001b[1;33m)\u001b[0m\u001b[1;33m\u001b[0m\u001b[0m\n\u001b[1;32m--> 509\u001b[1;33m             \u001b[0mself\u001b[0m\u001b[1;33m.\u001b[0m\u001b[0msock\u001b[0m\u001b[1;33m.\u001b[0m\u001b[0mconnect\u001b[0m\u001b[1;33m(\u001b[0m\u001b[0msockaddr\u001b[0m\u001b[1;33m)\u001b[0m\u001b[1;33m\u001b[0m\u001b[0m\n\u001b[0m\u001b[0;32m    510\u001b[0m         \u001b[1;32mexcept\u001b[0m \u001b[0mIOError\u001b[0m \u001b[1;32mas\u001b[0m \u001b[0merr\u001b[0m\u001b[1;33m:\u001b[0m\u001b[1;33m\u001b[0m\u001b[0m\n",
      "\u001b[1;31mConnectionRefusedError\u001b[0m: [WinError 10061] No connection could be made because the target machine actively refused it",
      "\nDuring handling of the above exception, another exception occurred:\n",
      "\u001b[1;31mInterfaceError\u001b[0m                            Traceback (most recent call last)",
      "\u001b[1;32m~\\Anaconda3\\lib\\site-packages\\sqlalchemy\\engine\\base.py\u001b[0m in \u001b[0;36m_wrap_pool_connect\u001b[1;34m(self, fn, connection)\u001b[0m\n\u001b[0;32m   2157\u001b[0m         \u001b[1;32mtry\u001b[0m\u001b[1;33m:\u001b[0m\u001b[1;33m\u001b[0m\u001b[0m\n\u001b[1;32m-> 2158\u001b[1;33m             \u001b[1;32mreturn\u001b[0m \u001b[0mfn\u001b[0m\u001b[1;33m(\u001b[0m\u001b[1;33m)\u001b[0m\u001b[1;33m\u001b[0m\u001b[0m\n\u001b[0m\u001b[0;32m   2159\u001b[0m         \u001b[1;32mexcept\u001b[0m \u001b[0mdialect\u001b[0m\u001b[1;33m.\u001b[0m\u001b[0mdbapi\u001b[0m\u001b[1;33m.\u001b[0m\u001b[0mError\u001b[0m \u001b[1;32mas\u001b[0m \u001b[0me\u001b[0m\u001b[1;33m:\u001b[0m\u001b[1;33m\u001b[0m\u001b[0m\n",
      "\u001b[1;32m~\\Anaconda3\\lib\\site-packages\\sqlalchemy\\pool.py\u001b[0m in \u001b[0;36mconnect\u001b[1;34m(self)\u001b[0m\n\u001b[0;32m    402\u001b[0m         \u001b[1;32mif\u001b[0m \u001b[1;32mnot\u001b[0m \u001b[0mself\u001b[0m\u001b[1;33m.\u001b[0m\u001b[0m_use_threadlocal\u001b[0m\u001b[1;33m:\u001b[0m\u001b[1;33m\u001b[0m\u001b[0m\n\u001b[1;32m--> 403\u001b[1;33m             \u001b[1;32mreturn\u001b[0m \u001b[0m_ConnectionFairy\u001b[0m\u001b[1;33m.\u001b[0m\u001b[0m_checkout\u001b[0m\u001b[1;33m(\u001b[0m\u001b[0mself\u001b[0m\u001b[1;33m)\u001b[0m\u001b[1;33m\u001b[0m\u001b[0m\n\u001b[0m\u001b[0;32m    404\u001b[0m \u001b[1;33m\u001b[0m\u001b[0m\n",
      "\u001b[1;32m~\\Anaconda3\\lib\\site-packages\\sqlalchemy\\pool.py\u001b[0m in \u001b[0;36m_checkout\u001b[1;34m(cls, pool, threadconns, fairy)\u001b[0m\n\u001b[0;32m    787\u001b[0m         \u001b[1;32mif\u001b[0m \u001b[1;32mnot\u001b[0m \u001b[0mfairy\u001b[0m\u001b[1;33m:\u001b[0m\u001b[1;33m\u001b[0m\u001b[0m\n\u001b[1;32m--> 788\u001b[1;33m             \u001b[0mfairy\u001b[0m \u001b[1;33m=\u001b[0m \u001b[0m_ConnectionRecord\u001b[0m\u001b[1;33m.\u001b[0m\u001b[0mcheckout\u001b[0m\u001b[1;33m(\u001b[0m\u001b[0mpool\u001b[0m\u001b[1;33m)\u001b[0m\u001b[1;33m\u001b[0m\u001b[0m\n\u001b[0m\u001b[0;32m    789\u001b[0m \u001b[1;33m\u001b[0m\u001b[0m\n",
      "\u001b[1;32m~\\Anaconda3\\lib\\site-packages\\sqlalchemy\\pool.py\u001b[0m in \u001b[0;36mcheckout\u001b[1;34m(cls, pool)\u001b[0m\n\u001b[0;32m    531\u001b[0m     \u001b[1;32mdef\u001b[0m \u001b[0mcheckout\u001b[0m\u001b[1;33m(\u001b[0m\u001b[0mcls\u001b[0m\u001b[1;33m,\u001b[0m \u001b[0mpool\u001b[0m\u001b[1;33m)\u001b[0m\u001b[1;33m:\u001b[0m\u001b[1;33m\u001b[0m\u001b[0m\n\u001b[1;32m--> 532\u001b[1;33m         \u001b[0mrec\u001b[0m \u001b[1;33m=\u001b[0m \u001b[0mpool\u001b[0m\u001b[1;33m.\u001b[0m\u001b[0m_do_get\u001b[0m\u001b[1;33m(\u001b[0m\u001b[1;33m)\u001b[0m\u001b[1;33m\u001b[0m\u001b[0m\n\u001b[0m\u001b[0;32m    533\u001b[0m         \u001b[1;32mtry\u001b[0m\u001b[1;33m:\u001b[0m\u001b[1;33m\u001b[0m\u001b[0m\n",
      "\u001b[1;32m~\\Anaconda3\\lib\\site-packages\\sqlalchemy\\pool.py\u001b[0m in \u001b[0;36m_do_get\u001b[1;34m(self)\u001b[0m\n\u001b[0;32m   1192\u001b[0m                 \u001b[1;32mwith\u001b[0m \u001b[0mutil\u001b[0m\u001b[1;33m.\u001b[0m\u001b[0msafe_reraise\u001b[0m\u001b[1;33m(\u001b[0m\u001b[1;33m)\u001b[0m\u001b[1;33m:\u001b[0m\u001b[1;33m\u001b[0m\u001b[0m\n\u001b[1;32m-> 1193\u001b[1;33m                     \u001b[0mself\u001b[0m\u001b[1;33m.\u001b[0m\u001b[0m_dec_overflow\u001b[0m\u001b[1;33m(\u001b[0m\u001b[1;33m)\u001b[0m\u001b[1;33m\u001b[0m\u001b[0m\n\u001b[0m\u001b[0;32m   1194\u001b[0m         \u001b[1;32melse\u001b[0m\u001b[1;33m:\u001b[0m\u001b[1;33m\u001b[0m\u001b[0m\n",
      "\u001b[1;32m~\\Anaconda3\\lib\\site-packages\\sqlalchemy\\util\\langhelpers.py\u001b[0m in \u001b[0;36m__exit__\u001b[1;34m(self, type_, value, traceback)\u001b[0m\n\u001b[0;32m     65\u001b[0m             \u001b[1;32mif\u001b[0m \u001b[1;32mnot\u001b[0m \u001b[0mself\u001b[0m\u001b[1;33m.\u001b[0m\u001b[0mwarn_only\u001b[0m\u001b[1;33m:\u001b[0m\u001b[1;33m\u001b[0m\u001b[0m\n\u001b[1;32m---> 66\u001b[1;33m                 \u001b[0mcompat\u001b[0m\u001b[1;33m.\u001b[0m\u001b[0mreraise\u001b[0m\u001b[1;33m(\u001b[0m\u001b[0mexc_type\u001b[0m\u001b[1;33m,\u001b[0m \u001b[0mexc_value\u001b[0m\u001b[1;33m,\u001b[0m \u001b[0mexc_tb\u001b[0m\u001b[1;33m)\u001b[0m\u001b[1;33m\u001b[0m\u001b[0m\n\u001b[0m\u001b[0;32m     67\u001b[0m         \u001b[1;32melse\u001b[0m\u001b[1;33m:\u001b[0m\u001b[1;33m\u001b[0m\u001b[0m\n",
      "\u001b[1;32m~\\Anaconda3\\lib\\site-packages\\sqlalchemy\\util\\compat.py\u001b[0m in \u001b[0;36mreraise\u001b[1;34m(tp, value, tb, cause)\u001b[0m\n\u001b[0;32m    186\u001b[0m             \u001b[1;32mraise\u001b[0m \u001b[0mvalue\u001b[0m\u001b[1;33m.\u001b[0m\u001b[0mwith_traceback\u001b[0m\u001b[1;33m(\u001b[0m\u001b[0mtb\u001b[0m\u001b[1;33m)\u001b[0m\u001b[1;33m\u001b[0m\u001b[0m\n\u001b[1;32m--> 187\u001b[1;33m         \u001b[1;32mraise\u001b[0m \u001b[0mvalue\u001b[0m\u001b[1;33m\u001b[0m\u001b[0m\n\u001b[0m\u001b[0;32m    188\u001b[0m \u001b[1;33m\u001b[0m\u001b[0m\n",
      "\u001b[1;32m~\\Anaconda3\\lib\\site-packages\\sqlalchemy\\pool.py\u001b[0m in \u001b[0;36m_do_get\u001b[1;34m(self)\u001b[0m\n\u001b[0;32m   1189\u001b[0m             \u001b[1;32mtry\u001b[0m\u001b[1;33m:\u001b[0m\u001b[1;33m\u001b[0m\u001b[0m\n\u001b[1;32m-> 1190\u001b[1;33m                 \u001b[1;32mreturn\u001b[0m \u001b[0mself\u001b[0m\u001b[1;33m.\u001b[0m\u001b[0m_create_connection\u001b[0m\u001b[1;33m(\u001b[0m\u001b[1;33m)\u001b[0m\u001b[1;33m\u001b[0m\u001b[0m\n\u001b[0m\u001b[0;32m   1191\u001b[0m             \u001b[1;32mexcept\u001b[0m\u001b[1;33m:\u001b[0m\u001b[1;33m\u001b[0m\u001b[0m\n",
      "\u001b[1;32m~\\Anaconda3\\lib\\site-packages\\sqlalchemy\\pool.py\u001b[0m in \u001b[0;36m_create_connection\u001b[1;34m(self)\u001b[0m\n\u001b[0;32m    349\u001b[0m \u001b[1;33m\u001b[0m\u001b[0m\n\u001b[1;32m--> 350\u001b[1;33m         \u001b[1;32mreturn\u001b[0m \u001b[0m_ConnectionRecord\u001b[0m\u001b[1;33m(\u001b[0m\u001b[0mself\u001b[0m\u001b[1;33m)\u001b[0m\u001b[1;33m\u001b[0m\u001b[0m\n\u001b[0m\u001b[0;32m    351\u001b[0m \u001b[1;33m\u001b[0m\u001b[0m\n",
      "\u001b[1;32m~\\Anaconda3\\lib\\site-packages\\sqlalchemy\\pool.py\u001b[0m in \u001b[0;36m__init__\u001b[1;34m(self, pool, connect)\u001b[0m\n\u001b[0;32m    476\u001b[0m         \u001b[1;32mif\u001b[0m \u001b[0mconnect\u001b[0m\u001b[1;33m:\u001b[0m\u001b[1;33m\u001b[0m\u001b[0m\n\u001b[1;32m--> 477\u001b[1;33m             \u001b[0mself\u001b[0m\u001b[1;33m.\u001b[0m\u001b[0m__connect\u001b[0m\u001b[1;33m(\u001b[0m\u001b[0mfirst_connect_check\u001b[0m\u001b[1;33m=\u001b[0m\u001b[1;32mTrue\u001b[0m\u001b[1;33m)\u001b[0m\u001b[1;33m\u001b[0m\u001b[0m\n\u001b[0m\u001b[0;32m    478\u001b[0m         \u001b[0mself\u001b[0m\u001b[1;33m.\u001b[0m\u001b[0mfinalize_callback\u001b[0m \u001b[1;33m=\u001b[0m \u001b[0mdeque\u001b[0m\u001b[1;33m(\u001b[0m\u001b[1;33m)\u001b[0m\u001b[1;33m\u001b[0m\u001b[0m\n",
      "\u001b[1;32m~\\Anaconda3\\lib\\site-packages\\sqlalchemy\\pool.py\u001b[0m in \u001b[0;36m__connect\u001b[1;34m(self, first_connect_check)\u001b[0m\n\u001b[0;32m    670\u001b[0m             \u001b[0mself\u001b[0m\u001b[1;33m.\u001b[0m\u001b[0mstarttime\u001b[0m \u001b[1;33m=\u001b[0m \u001b[0mtime\u001b[0m\u001b[1;33m.\u001b[0m\u001b[0mtime\u001b[0m\u001b[1;33m(\u001b[0m\u001b[1;33m)\u001b[0m\u001b[1;33m\u001b[0m\u001b[0m\n\u001b[1;32m--> 671\u001b[1;33m             \u001b[0mconnection\u001b[0m \u001b[1;33m=\u001b[0m \u001b[0mpool\u001b[0m\u001b[1;33m.\u001b[0m\u001b[0m_invoke_creator\u001b[0m\u001b[1;33m(\u001b[0m\u001b[0mself\u001b[0m\u001b[1;33m)\u001b[0m\u001b[1;33m\u001b[0m\u001b[0m\n\u001b[0m\u001b[0;32m    672\u001b[0m             \u001b[0mpool\u001b[0m\u001b[1;33m.\u001b[0m\u001b[0mlogger\u001b[0m\u001b[1;33m.\u001b[0m\u001b[0mdebug\u001b[0m\u001b[1;33m(\u001b[0m\u001b[1;34m\"Created new connection %r\"\u001b[0m\u001b[1;33m,\u001b[0m \u001b[0mconnection\u001b[0m\u001b[1;33m)\u001b[0m\u001b[1;33m\u001b[0m\u001b[0m\n",
      "\u001b[1;32m~\\Anaconda3\\lib\\site-packages\\sqlalchemy\\engine\\strategies.py\u001b[0m in \u001b[0;36mconnect\u001b[1;34m(connection_record)\u001b[0m\n\u001b[0;32m    105\u001b[0m                             \u001b[1;32mreturn\u001b[0m \u001b[0mconnection\u001b[0m\u001b[1;33m\u001b[0m\u001b[0m\n\u001b[1;32m--> 106\u001b[1;33m                 \u001b[1;32mreturn\u001b[0m \u001b[0mdialect\u001b[0m\u001b[1;33m.\u001b[0m\u001b[0mconnect\u001b[0m\u001b[1;33m(\u001b[0m\u001b[1;33m*\u001b[0m\u001b[0mcargs\u001b[0m\u001b[1;33m,\u001b[0m \u001b[1;33m**\u001b[0m\u001b[0mcparams\u001b[0m\u001b[1;33m)\u001b[0m\u001b[1;33m\u001b[0m\u001b[0m\n\u001b[0m\u001b[0;32m    107\u001b[0m \u001b[1;33m\u001b[0m\u001b[0m\n",
      "\u001b[1;32m~\\Anaconda3\\lib\\site-packages\\sqlalchemy\\engine\\default.py\u001b[0m in \u001b[0;36mconnect\u001b[1;34m(self, *cargs, **cparams)\u001b[0m\n\u001b[0;32m    409\u001b[0m     \u001b[1;32mdef\u001b[0m \u001b[0mconnect\u001b[0m\u001b[1;33m(\u001b[0m\u001b[0mself\u001b[0m\u001b[1;33m,\u001b[0m \u001b[1;33m*\u001b[0m\u001b[0mcargs\u001b[0m\u001b[1;33m,\u001b[0m \u001b[1;33m**\u001b[0m\u001b[0mcparams\u001b[0m\u001b[1;33m)\u001b[0m\u001b[1;33m:\u001b[0m\u001b[1;33m\u001b[0m\u001b[0m\n\u001b[1;32m--> 410\u001b[1;33m         \u001b[1;32mreturn\u001b[0m \u001b[0mself\u001b[0m\u001b[1;33m.\u001b[0m\u001b[0mdbapi\u001b[0m\u001b[1;33m.\u001b[0m\u001b[0mconnect\u001b[0m\u001b[1;33m(\u001b[0m\u001b[1;33m*\u001b[0m\u001b[0mcargs\u001b[0m\u001b[1;33m,\u001b[0m \u001b[1;33m**\u001b[0m\u001b[0mcparams\u001b[0m\u001b[1;33m)\u001b[0m\u001b[1;33m\u001b[0m\u001b[0m\n\u001b[0m\u001b[0;32m    411\u001b[0m \u001b[1;33m\u001b[0m\u001b[0m\n",
      "\u001b[1;32m~\\Anaconda3\\lib\\site-packages\\mysql\\connector\\__init__.py\u001b[0m in \u001b[0;36mconnect\u001b[1;34m(*args, **kwargs)\u001b[0m\n\u001b[0;32m    178\u001b[0m     \u001b[1;32melse\u001b[0m\u001b[1;33m:\u001b[0m\u001b[1;33m\u001b[0m\u001b[0m\n\u001b[1;32m--> 179\u001b[1;33m         \u001b[1;32mreturn\u001b[0m \u001b[0mMySQLConnection\u001b[0m\u001b[1;33m(\u001b[0m\u001b[1;33m*\u001b[0m\u001b[0margs\u001b[0m\u001b[1;33m,\u001b[0m \u001b[1;33m**\u001b[0m\u001b[0mkwargs\u001b[0m\u001b[1;33m)\u001b[0m\u001b[1;33m\u001b[0m\u001b[0m\n\u001b[0m\u001b[0;32m    180\u001b[0m \u001b[0mConnect\u001b[0m \u001b[1;33m=\u001b[0m \u001b[0mconnect\u001b[0m  \u001b[1;31m# pylint: disable=C0103\u001b[0m\u001b[1;33m\u001b[0m\u001b[0m\n",
      "\u001b[1;32m~\\Anaconda3\\lib\\site-packages\\mysql\\connector\\connection.py\u001b[0m in \u001b[0;36m__init__\u001b[1;34m(self, *args, **kwargs)\u001b[0m\n\u001b[0;32m     93\u001b[0m         \u001b[1;32mif\u001b[0m \u001b[0mlen\u001b[0m\u001b[1;33m(\u001b[0m\u001b[0mkwargs\u001b[0m\u001b[1;33m)\u001b[0m \u001b[1;33m>\u001b[0m \u001b[1;36m0\u001b[0m\u001b[1;33m:\u001b[0m\u001b[1;33m\u001b[0m\u001b[0m\n\u001b[1;32m---> 94\u001b[1;33m             \u001b[0mself\u001b[0m\u001b[1;33m.\u001b[0m\u001b[0mconnect\u001b[0m\u001b[1;33m(\u001b[0m\u001b[1;33m**\u001b[0m\u001b[0mkwargs\u001b[0m\u001b[1;33m)\u001b[0m\u001b[1;33m\u001b[0m\u001b[0m\n\u001b[0m\u001b[0;32m     95\u001b[0m \u001b[1;33m\u001b[0m\u001b[0m\n",
      "\u001b[1;32m~\\Anaconda3\\lib\\site-packages\\mysql\\connector\\abstracts.py\u001b[0m in \u001b[0;36mconnect\u001b[1;34m(self, **kwargs)\u001b[0m\n\u001b[0;32m    721\u001b[0m         \u001b[0mself\u001b[0m\u001b[1;33m.\u001b[0m\u001b[0mdisconnect\u001b[0m\u001b[1;33m(\u001b[0m\u001b[1;33m)\u001b[0m\u001b[1;33m\u001b[0m\u001b[0m\n\u001b[1;32m--> 722\u001b[1;33m         \u001b[0mself\u001b[0m\u001b[1;33m.\u001b[0m\u001b[0m_open_connection\u001b[0m\u001b[1;33m(\u001b[0m\u001b[1;33m)\u001b[0m\u001b[1;33m\u001b[0m\u001b[0m\n\u001b[0m\u001b[0;32m    723\u001b[0m         \u001b[0mself\u001b[0m\u001b[1;33m.\u001b[0m\u001b[0m_post_connection\u001b[0m\u001b[1;33m(\u001b[0m\u001b[1;33m)\u001b[0m\u001b[1;33m\u001b[0m\u001b[0m\n",
      "\u001b[1;32m~\\Anaconda3\\lib\\site-packages\\mysql\\connector\\connection.py\u001b[0m in \u001b[0;36m_open_connection\u001b[1;34m(self)\u001b[0m\n\u001b[0;32m    206\u001b[0m         \u001b[0mself\u001b[0m\u001b[1;33m.\u001b[0m\u001b[0m_socket\u001b[0m \u001b[1;33m=\u001b[0m \u001b[0mself\u001b[0m\u001b[1;33m.\u001b[0m\u001b[0m_get_connection\u001b[0m\u001b[1;33m(\u001b[0m\u001b[1;33m)\u001b[0m\u001b[1;33m\u001b[0m\u001b[0m\n\u001b[1;32m--> 207\u001b[1;33m         \u001b[0mself\u001b[0m\u001b[1;33m.\u001b[0m\u001b[0m_socket\u001b[0m\u001b[1;33m.\u001b[0m\u001b[0mopen_connection\u001b[0m\u001b[1;33m(\u001b[0m\u001b[1;33m)\u001b[0m\u001b[1;33m\u001b[0m\u001b[0m\n\u001b[0m\u001b[0;32m    208\u001b[0m         \u001b[0mself\u001b[0m\u001b[1;33m.\u001b[0m\u001b[0m_do_handshake\u001b[0m\u001b[1;33m(\u001b[0m\u001b[1;33m)\u001b[0m\u001b[1;33m\u001b[0m\u001b[0m\n",
      "\u001b[1;32m~\\Anaconda3\\lib\\site-packages\\mysql\\connector\\network.py\u001b[0m in \u001b[0;36mopen_connection\u001b[1;34m(self)\u001b[0m\n\u001b[0;32m    511\u001b[0m             raise errors.InterfaceError(\n\u001b[1;32m--> 512\u001b[1;33m                 errno=2003, values=(self.get_address(), _strioerror(err)))\n\u001b[0m\u001b[0;32m    513\u001b[0m         \u001b[1;32mexcept\u001b[0m \u001b[0mException\u001b[0m \u001b[1;32mas\u001b[0m \u001b[0merr\u001b[0m\u001b[1;33m:\u001b[0m\u001b[1;33m\u001b[0m\u001b[0m\n",
      "\u001b[1;31mInterfaceError\u001b[0m: 2003: Can't connect to MySQL server on 'localhost:3306' (10061 No connection could be made because the target machine actively refused it)",
      "\nThe above exception was the direct cause of the following exception:\n",
      "\u001b[1;31mInterfaceError\u001b[0m                            Traceback (most recent call last)",
      "\u001b[1;32m<ipython-input-2-b45d8c4b7437>\u001b[0m in \u001b[0;36m<module>\u001b[1;34m()\u001b[0m\n\u001b[0;32m     54\u001b[0m \u001b[0mres_df\u001b[0m\u001b[1;33m.\u001b[0m\u001b[0mcolumns\u001b[0m \u001b[1;33m=\u001b[0m \u001b[1;33m[\u001b[0m\u001b[0mx\u001b[0m\u001b[1;33m.\u001b[0m\u001b[0mreplace\u001b[0m\u001b[1;33m(\u001b[0m\u001b[1;34m'('\u001b[0m\u001b[1;33m,\u001b[0m\u001b[1;34m''\u001b[0m\u001b[1;33m)\u001b[0m\u001b[1;33m.\u001b[0m\u001b[0mreplace\u001b[0m\u001b[1;33m(\u001b[0m\u001b[1;34m')'\u001b[0m\u001b[1;33m,\u001b[0m\u001b[1;34m''\u001b[0m\u001b[1;33m)\u001b[0m \u001b[1;32mfor\u001b[0m \u001b[0mx\u001b[0m \u001b[1;32min\u001b[0m \u001b[0mres_df\u001b[0m\u001b[1;33m.\u001b[0m\u001b[0mcolumns\u001b[0m\u001b[1;33m]\u001b[0m\u001b[1;33m\u001b[0m\u001b[0m\n\u001b[0;32m     55\u001b[0m \u001b[0mname\u001b[0m \u001b[1;33m=\u001b[0m \u001b[1;34m'SNP500 Stocks - '\u001b[0m\u001b[1;33m+\u001b[0m\u001b[0mstr\u001b[0m\u001b[1;33m(\u001b[0m\u001b[0mlimit\u001b[0m\u001b[1;33m)\u001b[0m\u001b[1;33m\u001b[0m\u001b[0m\n\u001b[1;32m---> 56\u001b[1;33m \u001b[0mres_df\u001b[0m\u001b[1;33m.\u001b[0m\u001b[0mto_sql\u001b[0m\u001b[1;33m(\u001b[0m\u001b[0mname\u001b[0m\u001b[1;33m=\u001b[0m\u001b[0mname\u001b[0m\u001b[1;33m,\u001b[0m\u001b[0mcon\u001b[0m\u001b[1;33m=\u001b[0m\u001b[0mengine\u001b[0m\u001b[1;33m,\u001b[0m\u001b[0mif_exists\u001b[0m\u001b[1;33m=\u001b[0m\u001b[1;34m'replace'\u001b[0m\u001b[1;33m)\u001b[0m\u001b[1;33m\u001b[0m\u001b[0m\n\u001b[0m\u001b[0;32m     57\u001b[0m \u001b[0mprint\u001b[0m\u001b[1;33m(\u001b[0m\u001b[1;34m\"Export has finished successfully\"\u001b[0m\u001b[1;33m)\u001b[0m\u001b[1;33m\u001b[0m\u001b[0m\n",
      "\u001b[1;32m~\\Anaconda3\\lib\\site-packages\\pandas\\core\\generic.py\u001b[0m in \u001b[0;36mto_sql\u001b[1;34m(self, name, con, schema, if_exists, index, index_label, chunksize, dtype)\u001b[0m\n\u001b[0;32m   2125\u001b[0m         sql.to_sql(self, name, con, schema=schema, if_exists=if_exists,\n\u001b[0;32m   2126\u001b[0m                    \u001b[0mindex\u001b[0m\u001b[1;33m=\u001b[0m\u001b[0mindex\u001b[0m\u001b[1;33m,\u001b[0m \u001b[0mindex_label\u001b[0m\u001b[1;33m=\u001b[0m\u001b[0mindex_label\u001b[0m\u001b[1;33m,\u001b[0m \u001b[0mchunksize\u001b[0m\u001b[1;33m=\u001b[0m\u001b[0mchunksize\u001b[0m\u001b[1;33m,\u001b[0m\u001b[1;33m\u001b[0m\u001b[0m\n\u001b[1;32m-> 2127\u001b[1;33m                    dtype=dtype)\n\u001b[0m\u001b[0;32m   2128\u001b[0m \u001b[1;33m\u001b[0m\u001b[0m\n\u001b[0;32m   2129\u001b[0m     def to_pickle(self, path, compression='infer',\n",
      "\u001b[1;32m~\\Anaconda3\\lib\\site-packages\\pandas\\io\\sql.py\u001b[0m in \u001b[0;36mto_sql\u001b[1;34m(frame, name, con, schema, if_exists, index, index_label, chunksize, dtype)\u001b[0m\n\u001b[0;32m    448\u001b[0m     pandas_sql.to_sql(frame, name, if_exists=if_exists, index=index,\n\u001b[0;32m    449\u001b[0m                       \u001b[0mindex_label\u001b[0m\u001b[1;33m=\u001b[0m\u001b[0mindex_label\u001b[0m\u001b[1;33m,\u001b[0m \u001b[0mschema\u001b[0m\u001b[1;33m=\u001b[0m\u001b[0mschema\u001b[0m\u001b[1;33m,\u001b[0m\u001b[1;33m\u001b[0m\u001b[0m\n\u001b[1;32m--> 450\u001b[1;33m                       chunksize=chunksize, dtype=dtype)\n\u001b[0m\u001b[0;32m    451\u001b[0m \u001b[1;33m\u001b[0m\u001b[0m\n\u001b[0;32m    452\u001b[0m \u001b[1;33m\u001b[0m\u001b[0m\n",
      "\u001b[1;32m~\\Anaconda3\\lib\\site-packages\\pandas\\io\\sql.py\u001b[0m in \u001b[0;36mto_sql\u001b[1;34m(self, frame, name, if_exists, index, index_label, schema, chunksize, dtype)\u001b[0m\n\u001b[0;32m   1146\u001b[0m                          \u001b[0mif_exists\u001b[0m\u001b[1;33m=\u001b[0m\u001b[0mif_exists\u001b[0m\u001b[1;33m,\u001b[0m \u001b[0mindex_label\u001b[0m\u001b[1;33m=\u001b[0m\u001b[0mindex_label\u001b[0m\u001b[1;33m,\u001b[0m\u001b[1;33m\u001b[0m\u001b[0m\n\u001b[0;32m   1147\u001b[0m                          schema=schema, dtype=dtype)\n\u001b[1;32m-> 1148\u001b[1;33m         \u001b[0mtable\u001b[0m\u001b[1;33m.\u001b[0m\u001b[0mcreate\u001b[0m\u001b[1;33m(\u001b[0m\u001b[1;33m)\u001b[0m\u001b[1;33m\u001b[0m\u001b[0m\n\u001b[0m\u001b[0;32m   1149\u001b[0m         \u001b[0mtable\u001b[0m\u001b[1;33m.\u001b[0m\u001b[0minsert\u001b[0m\u001b[1;33m(\u001b[0m\u001b[0mchunksize\u001b[0m\u001b[1;33m)\u001b[0m\u001b[1;33m\u001b[0m\u001b[0m\n\u001b[0;32m   1150\u001b[0m         \u001b[1;32mif\u001b[0m \u001b[1;33m(\u001b[0m\u001b[1;32mnot\u001b[0m \u001b[0mname\u001b[0m\u001b[1;33m.\u001b[0m\u001b[0misdigit\u001b[0m\u001b[1;33m(\u001b[0m\u001b[1;33m)\u001b[0m \u001b[1;32mand\u001b[0m \u001b[1;32mnot\u001b[0m \u001b[0mname\u001b[0m\u001b[1;33m.\u001b[0m\u001b[0mislower\u001b[0m\u001b[1;33m(\u001b[0m\u001b[1;33m)\u001b[0m\u001b[1;33m)\u001b[0m\u001b[1;33m:\u001b[0m\u001b[1;33m\u001b[0m\u001b[0m\n",
      "\u001b[1;32m~\\Anaconda3\\lib\\site-packages\\pandas\\io\\sql.py\u001b[0m in \u001b[0;36mcreate\u001b[1;34m(self)\u001b[0m\n\u001b[0;32m    559\u001b[0m \u001b[1;33m\u001b[0m\u001b[0m\n\u001b[0;32m    560\u001b[0m     \u001b[1;32mdef\u001b[0m \u001b[0mcreate\u001b[0m\u001b[1;33m(\u001b[0m\u001b[0mself\u001b[0m\u001b[1;33m)\u001b[0m\u001b[1;33m:\u001b[0m\u001b[1;33m\u001b[0m\u001b[0m\n\u001b[1;32m--> 561\u001b[1;33m         \u001b[1;32mif\u001b[0m \u001b[0mself\u001b[0m\u001b[1;33m.\u001b[0m\u001b[0mexists\u001b[0m\u001b[1;33m(\u001b[0m\u001b[1;33m)\u001b[0m\u001b[1;33m:\u001b[0m\u001b[1;33m\u001b[0m\u001b[0m\n\u001b[0m\u001b[0;32m    562\u001b[0m             \u001b[1;32mif\u001b[0m \u001b[0mself\u001b[0m\u001b[1;33m.\u001b[0m\u001b[0mif_exists\u001b[0m \u001b[1;33m==\u001b[0m \u001b[1;34m'fail'\u001b[0m\u001b[1;33m:\u001b[0m\u001b[1;33m\u001b[0m\u001b[0m\n\u001b[0;32m    563\u001b[0m                 \u001b[1;32mraise\u001b[0m \u001b[0mValueError\u001b[0m\u001b[1;33m(\u001b[0m\u001b[1;34m\"Table '%s' already exists.\"\u001b[0m \u001b[1;33m%\u001b[0m \u001b[0mself\u001b[0m\u001b[1;33m.\u001b[0m\u001b[0mname\u001b[0m\u001b[1;33m)\u001b[0m\u001b[1;33m\u001b[0m\u001b[0m\n",
      "\u001b[1;32m~\\Anaconda3\\lib\\site-packages\\pandas\\io\\sql.py\u001b[0m in \u001b[0;36mexists\u001b[1;34m(self)\u001b[0m\n\u001b[0;32m    547\u001b[0m \u001b[1;33m\u001b[0m\u001b[0m\n\u001b[0;32m    548\u001b[0m     \u001b[1;32mdef\u001b[0m \u001b[0mexists\u001b[0m\u001b[1;33m(\u001b[0m\u001b[0mself\u001b[0m\u001b[1;33m)\u001b[0m\u001b[1;33m:\u001b[0m\u001b[1;33m\u001b[0m\u001b[0m\n\u001b[1;32m--> 549\u001b[1;33m         \u001b[1;32mreturn\u001b[0m \u001b[0mself\u001b[0m\u001b[1;33m.\u001b[0m\u001b[0mpd_sql\u001b[0m\u001b[1;33m.\u001b[0m\u001b[0mhas_table\u001b[0m\u001b[1;33m(\u001b[0m\u001b[0mself\u001b[0m\u001b[1;33m.\u001b[0m\u001b[0mname\u001b[0m\u001b[1;33m,\u001b[0m \u001b[0mself\u001b[0m\u001b[1;33m.\u001b[0m\u001b[0mschema\u001b[0m\u001b[1;33m)\u001b[0m\u001b[1;33m\u001b[0m\u001b[0m\n\u001b[0m\u001b[0;32m    550\u001b[0m \u001b[1;33m\u001b[0m\u001b[0m\n\u001b[0;32m    551\u001b[0m     \u001b[1;32mdef\u001b[0m \u001b[0msql_schema\u001b[0m\u001b[1;33m(\u001b[0m\u001b[0mself\u001b[0m\u001b[1;33m)\u001b[0m\u001b[1;33m:\u001b[0m\u001b[1;33m\u001b[0m\u001b[0m\n",
      "\u001b[1;32m~\\Anaconda3\\lib\\site-packages\\pandas\\io\\sql.py\u001b[0m in \u001b[0;36mhas_table\u001b[1;34m(self, name, schema)\u001b[0m\n\u001b[0;32m   1174\u001b[0m             \u001b[0mself\u001b[0m\u001b[1;33m.\u001b[0m\u001b[0mconnectable\u001b[0m\u001b[1;33m.\u001b[0m\u001b[0mdialect\u001b[0m\u001b[1;33m.\u001b[0m\u001b[0mhas_table\u001b[0m\u001b[1;33m,\u001b[0m\u001b[1;33m\u001b[0m\u001b[0m\n\u001b[0;32m   1175\u001b[0m             \u001b[0mname\u001b[0m\u001b[1;33m,\u001b[0m\u001b[1;33m\u001b[0m\u001b[0m\n\u001b[1;32m-> 1176\u001b[1;33m             \u001b[0mschema\u001b[0m \u001b[1;32mor\u001b[0m \u001b[0mself\u001b[0m\u001b[1;33m.\u001b[0m\u001b[0mmeta\u001b[0m\u001b[1;33m.\u001b[0m\u001b[0mschema\u001b[0m\u001b[1;33m,\u001b[0m\u001b[1;33m\u001b[0m\u001b[0m\n\u001b[0m\u001b[0;32m   1177\u001b[0m         )\n\u001b[0;32m   1178\u001b[0m \u001b[1;33m\u001b[0m\u001b[0m\n",
      "\u001b[1;32m~\\Anaconda3\\lib\\site-packages\\sqlalchemy\\engine\\base.py\u001b[0m in \u001b[0;36mrun_callable\u001b[1;34m(self, callable_, *args, **kwargs)\u001b[0m\n\u001b[0;32m   2053\u001b[0m \u001b[1;33m\u001b[0m\u001b[0m\n\u001b[0;32m   2054\u001b[0m         \"\"\"\n\u001b[1;32m-> 2055\u001b[1;33m         \u001b[1;32mwith\u001b[0m \u001b[0mself\u001b[0m\u001b[1;33m.\u001b[0m\u001b[0mcontextual_connect\u001b[0m\u001b[1;33m(\u001b[0m\u001b[1;33m)\u001b[0m \u001b[1;32mas\u001b[0m \u001b[0mconn\u001b[0m\u001b[1;33m:\u001b[0m\u001b[1;33m\u001b[0m\u001b[0m\n\u001b[0m\u001b[0;32m   2056\u001b[0m             \u001b[1;32mreturn\u001b[0m \u001b[0mconn\u001b[0m\u001b[1;33m.\u001b[0m\u001b[0mrun_callable\u001b[0m\u001b[1;33m(\u001b[0m\u001b[0mcallable_\u001b[0m\u001b[1;33m,\u001b[0m \u001b[1;33m*\u001b[0m\u001b[0margs\u001b[0m\u001b[1;33m,\u001b[0m \u001b[1;33m**\u001b[0m\u001b[0mkwargs\u001b[0m\u001b[1;33m)\u001b[0m\u001b[1;33m\u001b[0m\u001b[0m\n\u001b[0;32m   2057\u001b[0m \u001b[1;33m\u001b[0m\u001b[0m\n",
      "\u001b[1;32m~\\Anaconda3\\lib\\site-packages\\sqlalchemy\\engine\\base.py\u001b[0m in \u001b[0;36mcontextual_connect\u001b[1;34m(self, close_with_result, **kwargs)\u001b[0m\n\u001b[0;32m   2121\u001b[0m         return self._connection_cls(\n\u001b[0;32m   2122\u001b[0m             \u001b[0mself\u001b[0m\u001b[1;33m,\u001b[0m\u001b[1;33m\u001b[0m\u001b[0m\n\u001b[1;32m-> 2123\u001b[1;33m             \u001b[0mself\u001b[0m\u001b[1;33m.\u001b[0m\u001b[0m_wrap_pool_connect\u001b[0m\u001b[1;33m(\u001b[0m\u001b[0mself\u001b[0m\u001b[1;33m.\u001b[0m\u001b[0mpool\u001b[0m\u001b[1;33m.\u001b[0m\u001b[0mconnect\u001b[0m\u001b[1;33m,\u001b[0m \u001b[1;32mNone\u001b[0m\u001b[1;33m)\u001b[0m\u001b[1;33m,\u001b[0m\u001b[1;33m\u001b[0m\u001b[0m\n\u001b[0m\u001b[0;32m   2124\u001b[0m             \u001b[0mclose_with_result\u001b[0m\u001b[1;33m=\u001b[0m\u001b[0mclose_with_result\u001b[0m\u001b[1;33m,\u001b[0m\u001b[1;33m\u001b[0m\u001b[0m\n\u001b[0;32m   2125\u001b[0m             **kwargs)\n",
      "\u001b[1;32m~\\Anaconda3\\lib\\site-packages\\sqlalchemy\\engine\\base.py\u001b[0m in \u001b[0;36m_wrap_pool_connect\u001b[1;34m(self, fn, connection)\u001b[0m\n\u001b[0;32m   2160\u001b[0m             \u001b[1;32mif\u001b[0m \u001b[0mconnection\u001b[0m \u001b[1;32mis\u001b[0m \u001b[1;32mNone\u001b[0m\u001b[1;33m:\u001b[0m\u001b[1;33m\u001b[0m\u001b[0m\n\u001b[0;32m   2161\u001b[0m                 Connection._handle_dbapi_exception_noconnection(\n\u001b[1;32m-> 2162\u001b[1;33m                     e, dialect, self)\n\u001b[0m\u001b[0;32m   2163\u001b[0m             \u001b[1;32melse\u001b[0m\u001b[1;33m:\u001b[0m\u001b[1;33m\u001b[0m\u001b[0m\n\u001b[0;32m   2164\u001b[0m                 \u001b[0mutil\u001b[0m\u001b[1;33m.\u001b[0m\u001b[0mreraise\u001b[0m\u001b[1;33m(\u001b[0m\u001b[1;33m*\u001b[0m\u001b[0msys\u001b[0m\u001b[1;33m.\u001b[0m\u001b[0mexc_info\u001b[0m\u001b[1;33m(\u001b[0m\u001b[1;33m)\u001b[0m\u001b[1;33m)\u001b[0m\u001b[1;33m\u001b[0m\u001b[0m\n",
      "\u001b[1;32m~\\Anaconda3\\lib\\site-packages\\sqlalchemy\\engine\\base.py\u001b[0m in \u001b[0;36m_handle_dbapi_exception_noconnection\u001b[1;34m(cls, e, dialect, engine)\u001b[0m\n\u001b[0;32m   1474\u001b[0m             util.raise_from_cause(\n\u001b[0;32m   1475\u001b[0m                 \u001b[0msqlalchemy_exception\u001b[0m\u001b[1;33m,\u001b[0m\u001b[1;33m\u001b[0m\u001b[0m\n\u001b[1;32m-> 1476\u001b[1;33m                 \u001b[0mexc_info\u001b[0m\u001b[1;33m\u001b[0m\u001b[0m\n\u001b[0m\u001b[0;32m   1477\u001b[0m             )\n\u001b[0;32m   1478\u001b[0m         \u001b[1;32melse\u001b[0m\u001b[1;33m:\u001b[0m\u001b[1;33m\u001b[0m\u001b[0m\n",
      "\u001b[1;32m~\\Anaconda3\\lib\\site-packages\\sqlalchemy\\util\\compat.py\u001b[0m in \u001b[0;36mraise_from_cause\u001b[1;34m(exception, exc_info)\u001b[0m\n\u001b[0;32m    201\u001b[0m     \u001b[0mexc_type\u001b[0m\u001b[1;33m,\u001b[0m \u001b[0mexc_value\u001b[0m\u001b[1;33m,\u001b[0m \u001b[0mexc_tb\u001b[0m \u001b[1;33m=\u001b[0m \u001b[0mexc_info\u001b[0m\u001b[1;33m\u001b[0m\u001b[0m\n\u001b[0;32m    202\u001b[0m     \u001b[0mcause\u001b[0m \u001b[1;33m=\u001b[0m \u001b[0mexc_value\u001b[0m \u001b[1;32mif\u001b[0m \u001b[0mexc_value\u001b[0m \u001b[1;32mis\u001b[0m \u001b[1;32mnot\u001b[0m \u001b[0mexception\u001b[0m \u001b[1;32melse\u001b[0m \u001b[1;32mNone\u001b[0m\u001b[1;33m\u001b[0m\u001b[0m\n\u001b[1;32m--> 203\u001b[1;33m     \u001b[0mreraise\u001b[0m\u001b[1;33m(\u001b[0m\u001b[0mtype\u001b[0m\u001b[1;33m(\u001b[0m\u001b[0mexception\u001b[0m\u001b[1;33m)\u001b[0m\u001b[1;33m,\u001b[0m \u001b[0mexception\u001b[0m\u001b[1;33m,\u001b[0m \u001b[0mtb\u001b[0m\u001b[1;33m=\u001b[0m\u001b[0mexc_tb\u001b[0m\u001b[1;33m,\u001b[0m \u001b[0mcause\u001b[0m\u001b[1;33m=\u001b[0m\u001b[0mcause\u001b[0m\u001b[1;33m)\u001b[0m\u001b[1;33m\u001b[0m\u001b[0m\n\u001b[0m\u001b[0;32m    204\u001b[0m \u001b[1;33m\u001b[0m\u001b[0m\n\u001b[0;32m    205\u001b[0m \u001b[1;32mif\u001b[0m \u001b[0mpy3k\u001b[0m\u001b[1;33m:\u001b[0m\u001b[1;33m\u001b[0m\u001b[0m\n",
      "\u001b[1;32m~\\Anaconda3\\lib\\site-packages\\sqlalchemy\\util\\compat.py\u001b[0m in \u001b[0;36mreraise\u001b[1;34m(tp, value, tb, cause)\u001b[0m\n\u001b[0;32m    184\u001b[0m             \u001b[0mvalue\u001b[0m\u001b[1;33m.\u001b[0m\u001b[0m__cause__\u001b[0m \u001b[1;33m=\u001b[0m \u001b[0mcause\u001b[0m\u001b[1;33m\u001b[0m\u001b[0m\n\u001b[0;32m    185\u001b[0m         \u001b[1;32mif\u001b[0m \u001b[0mvalue\u001b[0m\u001b[1;33m.\u001b[0m\u001b[0m__traceback__\u001b[0m \u001b[1;32mis\u001b[0m \u001b[1;32mnot\u001b[0m \u001b[0mtb\u001b[0m\u001b[1;33m:\u001b[0m\u001b[1;33m\u001b[0m\u001b[0m\n\u001b[1;32m--> 186\u001b[1;33m             \u001b[1;32mraise\u001b[0m \u001b[0mvalue\u001b[0m\u001b[1;33m.\u001b[0m\u001b[0mwith_traceback\u001b[0m\u001b[1;33m(\u001b[0m\u001b[0mtb\u001b[0m\u001b[1;33m)\u001b[0m\u001b[1;33m\u001b[0m\u001b[0m\n\u001b[0m\u001b[0;32m    187\u001b[0m         \u001b[1;32mraise\u001b[0m \u001b[0mvalue\u001b[0m\u001b[1;33m\u001b[0m\u001b[0m\n\u001b[0;32m    188\u001b[0m \u001b[1;33m\u001b[0m\u001b[0m\n",
      "\u001b[1;32m~\\Anaconda3\\lib\\site-packages\\sqlalchemy\\engine\\base.py\u001b[0m in \u001b[0;36m_wrap_pool_connect\u001b[1;34m(self, fn, connection)\u001b[0m\n\u001b[0;32m   2156\u001b[0m         \u001b[0mdialect\u001b[0m \u001b[1;33m=\u001b[0m \u001b[0mself\u001b[0m\u001b[1;33m.\u001b[0m\u001b[0mdialect\u001b[0m\u001b[1;33m\u001b[0m\u001b[0m\n\u001b[0;32m   2157\u001b[0m         \u001b[1;32mtry\u001b[0m\u001b[1;33m:\u001b[0m\u001b[1;33m\u001b[0m\u001b[0m\n\u001b[1;32m-> 2158\u001b[1;33m             \u001b[1;32mreturn\u001b[0m \u001b[0mfn\u001b[0m\u001b[1;33m(\u001b[0m\u001b[1;33m)\u001b[0m\u001b[1;33m\u001b[0m\u001b[0m\n\u001b[0m\u001b[0;32m   2159\u001b[0m         \u001b[1;32mexcept\u001b[0m \u001b[0mdialect\u001b[0m\u001b[1;33m.\u001b[0m\u001b[0mdbapi\u001b[0m\u001b[1;33m.\u001b[0m\u001b[0mError\u001b[0m \u001b[1;32mas\u001b[0m \u001b[0me\u001b[0m\u001b[1;33m:\u001b[0m\u001b[1;33m\u001b[0m\u001b[0m\n\u001b[0;32m   2160\u001b[0m             \u001b[1;32mif\u001b[0m \u001b[0mconnection\u001b[0m \u001b[1;32mis\u001b[0m \u001b[1;32mNone\u001b[0m\u001b[1;33m:\u001b[0m\u001b[1;33m\u001b[0m\u001b[0m\n",
      "\u001b[1;32m~\\Anaconda3\\lib\\site-packages\\sqlalchemy\\pool.py\u001b[0m in \u001b[0;36mconnect\u001b[1;34m(self)\u001b[0m\n\u001b[0;32m    401\u001b[0m         \"\"\"\n\u001b[0;32m    402\u001b[0m         \u001b[1;32mif\u001b[0m \u001b[1;32mnot\u001b[0m \u001b[0mself\u001b[0m\u001b[1;33m.\u001b[0m\u001b[0m_use_threadlocal\u001b[0m\u001b[1;33m:\u001b[0m\u001b[1;33m\u001b[0m\u001b[0m\n\u001b[1;32m--> 403\u001b[1;33m             \u001b[1;32mreturn\u001b[0m \u001b[0m_ConnectionFairy\u001b[0m\u001b[1;33m.\u001b[0m\u001b[0m_checkout\u001b[0m\u001b[1;33m(\u001b[0m\u001b[0mself\u001b[0m\u001b[1;33m)\u001b[0m\u001b[1;33m\u001b[0m\u001b[0m\n\u001b[0m\u001b[0;32m    404\u001b[0m \u001b[1;33m\u001b[0m\u001b[0m\n\u001b[0;32m    405\u001b[0m         \u001b[1;32mtry\u001b[0m\u001b[1;33m:\u001b[0m\u001b[1;33m\u001b[0m\u001b[0m\n",
      "\u001b[1;32m~\\Anaconda3\\lib\\site-packages\\sqlalchemy\\pool.py\u001b[0m in \u001b[0;36m_checkout\u001b[1;34m(cls, pool, threadconns, fairy)\u001b[0m\n\u001b[0;32m    786\u001b[0m     \u001b[1;32mdef\u001b[0m \u001b[0m_checkout\u001b[0m\u001b[1;33m(\u001b[0m\u001b[0mcls\u001b[0m\u001b[1;33m,\u001b[0m \u001b[0mpool\u001b[0m\u001b[1;33m,\u001b[0m \u001b[0mthreadconns\u001b[0m\u001b[1;33m=\u001b[0m\u001b[1;32mNone\u001b[0m\u001b[1;33m,\u001b[0m \u001b[0mfairy\u001b[0m\u001b[1;33m=\u001b[0m\u001b[1;32mNone\u001b[0m\u001b[1;33m)\u001b[0m\u001b[1;33m:\u001b[0m\u001b[1;33m\u001b[0m\u001b[0m\n\u001b[0;32m    787\u001b[0m         \u001b[1;32mif\u001b[0m \u001b[1;32mnot\u001b[0m \u001b[0mfairy\u001b[0m\u001b[1;33m:\u001b[0m\u001b[1;33m\u001b[0m\u001b[0m\n\u001b[1;32m--> 788\u001b[1;33m             \u001b[0mfairy\u001b[0m \u001b[1;33m=\u001b[0m \u001b[0m_ConnectionRecord\u001b[0m\u001b[1;33m.\u001b[0m\u001b[0mcheckout\u001b[0m\u001b[1;33m(\u001b[0m\u001b[0mpool\u001b[0m\u001b[1;33m)\u001b[0m\u001b[1;33m\u001b[0m\u001b[0m\n\u001b[0m\u001b[0;32m    789\u001b[0m \u001b[1;33m\u001b[0m\u001b[0m\n\u001b[0;32m    790\u001b[0m             \u001b[0mfairy\u001b[0m\u001b[1;33m.\u001b[0m\u001b[0m_pool\u001b[0m \u001b[1;33m=\u001b[0m \u001b[0mpool\u001b[0m\u001b[1;33m\u001b[0m\u001b[0m\n",
      "\u001b[1;32m~\\Anaconda3\\lib\\site-packages\\sqlalchemy\\pool.py\u001b[0m in \u001b[0;36mcheckout\u001b[1;34m(cls, pool)\u001b[0m\n\u001b[0;32m    530\u001b[0m     \u001b[1;33m@\u001b[0m\u001b[0mclassmethod\u001b[0m\u001b[1;33m\u001b[0m\u001b[0m\n\u001b[0;32m    531\u001b[0m     \u001b[1;32mdef\u001b[0m \u001b[0mcheckout\u001b[0m\u001b[1;33m(\u001b[0m\u001b[0mcls\u001b[0m\u001b[1;33m,\u001b[0m \u001b[0mpool\u001b[0m\u001b[1;33m)\u001b[0m\u001b[1;33m:\u001b[0m\u001b[1;33m\u001b[0m\u001b[0m\n\u001b[1;32m--> 532\u001b[1;33m         \u001b[0mrec\u001b[0m \u001b[1;33m=\u001b[0m \u001b[0mpool\u001b[0m\u001b[1;33m.\u001b[0m\u001b[0m_do_get\u001b[0m\u001b[1;33m(\u001b[0m\u001b[1;33m)\u001b[0m\u001b[1;33m\u001b[0m\u001b[0m\n\u001b[0m\u001b[0;32m    533\u001b[0m         \u001b[1;32mtry\u001b[0m\u001b[1;33m:\u001b[0m\u001b[1;33m\u001b[0m\u001b[0m\n\u001b[0;32m    534\u001b[0m             \u001b[0mdbapi_connection\u001b[0m \u001b[1;33m=\u001b[0m \u001b[0mrec\u001b[0m\u001b[1;33m.\u001b[0m\u001b[0mget_connection\u001b[0m\u001b[1;33m(\u001b[0m\u001b[1;33m)\u001b[0m\u001b[1;33m\u001b[0m\u001b[0m\n",
      "\u001b[1;32m~\\Anaconda3\\lib\\site-packages\\sqlalchemy\\pool.py\u001b[0m in \u001b[0;36m_do_get\u001b[1;34m(self)\u001b[0m\n\u001b[0;32m   1191\u001b[0m             \u001b[1;32mexcept\u001b[0m\u001b[1;33m:\u001b[0m\u001b[1;33m\u001b[0m\u001b[0m\n\u001b[0;32m   1192\u001b[0m                 \u001b[1;32mwith\u001b[0m \u001b[0mutil\u001b[0m\u001b[1;33m.\u001b[0m\u001b[0msafe_reraise\u001b[0m\u001b[1;33m(\u001b[0m\u001b[1;33m)\u001b[0m\u001b[1;33m:\u001b[0m\u001b[1;33m\u001b[0m\u001b[0m\n\u001b[1;32m-> 1193\u001b[1;33m                     \u001b[0mself\u001b[0m\u001b[1;33m.\u001b[0m\u001b[0m_dec_overflow\u001b[0m\u001b[1;33m(\u001b[0m\u001b[1;33m)\u001b[0m\u001b[1;33m\u001b[0m\u001b[0m\n\u001b[0m\u001b[0;32m   1194\u001b[0m         \u001b[1;32melse\u001b[0m\u001b[1;33m:\u001b[0m\u001b[1;33m\u001b[0m\u001b[0m\n\u001b[0;32m   1195\u001b[0m             \u001b[1;32mreturn\u001b[0m \u001b[0mself\u001b[0m\u001b[1;33m.\u001b[0m\u001b[0m_do_get\u001b[0m\u001b[1;33m(\u001b[0m\u001b[1;33m)\u001b[0m\u001b[1;33m\u001b[0m\u001b[0m\n",
      "\u001b[1;32m~\\Anaconda3\\lib\\site-packages\\sqlalchemy\\util\\langhelpers.py\u001b[0m in \u001b[0;36m__exit__\u001b[1;34m(self, type_, value, traceback)\u001b[0m\n\u001b[0;32m     64\u001b[0m             \u001b[0mself\u001b[0m\u001b[1;33m.\u001b[0m\u001b[0m_exc_info\u001b[0m \u001b[1;33m=\u001b[0m \u001b[1;32mNone\u001b[0m   \u001b[1;31m# remove potential circular references\u001b[0m\u001b[1;33m\u001b[0m\u001b[0m\n\u001b[0;32m     65\u001b[0m             \u001b[1;32mif\u001b[0m \u001b[1;32mnot\u001b[0m \u001b[0mself\u001b[0m\u001b[1;33m.\u001b[0m\u001b[0mwarn_only\u001b[0m\u001b[1;33m:\u001b[0m\u001b[1;33m\u001b[0m\u001b[0m\n\u001b[1;32m---> 66\u001b[1;33m                 \u001b[0mcompat\u001b[0m\u001b[1;33m.\u001b[0m\u001b[0mreraise\u001b[0m\u001b[1;33m(\u001b[0m\u001b[0mexc_type\u001b[0m\u001b[1;33m,\u001b[0m \u001b[0mexc_value\u001b[0m\u001b[1;33m,\u001b[0m \u001b[0mexc_tb\u001b[0m\u001b[1;33m)\u001b[0m\u001b[1;33m\u001b[0m\u001b[0m\n\u001b[0m\u001b[0;32m     67\u001b[0m         \u001b[1;32melse\u001b[0m\u001b[1;33m:\u001b[0m\u001b[1;33m\u001b[0m\u001b[0m\n\u001b[0;32m     68\u001b[0m             \u001b[1;32mif\u001b[0m \u001b[1;32mnot\u001b[0m \u001b[0mcompat\u001b[0m\u001b[1;33m.\u001b[0m\u001b[0mpy3k\u001b[0m \u001b[1;32mand\u001b[0m \u001b[0mself\u001b[0m\u001b[1;33m.\u001b[0m\u001b[0m_exc_info\u001b[0m \u001b[1;32mand\u001b[0m \u001b[0mself\u001b[0m\u001b[1;33m.\u001b[0m\u001b[0m_exc_info\u001b[0m\u001b[1;33m[\u001b[0m\u001b[1;36m1\u001b[0m\u001b[1;33m]\u001b[0m\u001b[1;33m:\u001b[0m\u001b[1;33m\u001b[0m\u001b[0m\n",
      "\u001b[1;32m~\\Anaconda3\\lib\\site-packages\\sqlalchemy\\util\\compat.py\u001b[0m in \u001b[0;36mreraise\u001b[1;34m(tp, value, tb, cause)\u001b[0m\n\u001b[0;32m    185\u001b[0m         \u001b[1;32mif\u001b[0m \u001b[0mvalue\u001b[0m\u001b[1;33m.\u001b[0m\u001b[0m__traceback__\u001b[0m \u001b[1;32mis\u001b[0m \u001b[1;32mnot\u001b[0m \u001b[0mtb\u001b[0m\u001b[1;33m:\u001b[0m\u001b[1;33m\u001b[0m\u001b[0m\n\u001b[0;32m    186\u001b[0m             \u001b[1;32mraise\u001b[0m \u001b[0mvalue\u001b[0m\u001b[1;33m.\u001b[0m\u001b[0mwith_traceback\u001b[0m\u001b[1;33m(\u001b[0m\u001b[0mtb\u001b[0m\u001b[1;33m)\u001b[0m\u001b[1;33m\u001b[0m\u001b[0m\n\u001b[1;32m--> 187\u001b[1;33m         \u001b[1;32mraise\u001b[0m \u001b[0mvalue\u001b[0m\u001b[1;33m\u001b[0m\u001b[0m\n\u001b[0m\u001b[0;32m    188\u001b[0m \u001b[1;33m\u001b[0m\u001b[0m\n\u001b[0;32m    189\u001b[0m \u001b[1;32melse\u001b[0m\u001b[1;33m:\u001b[0m\u001b[1;33m\u001b[0m\u001b[0m\n",
      "\u001b[1;32m~\\Anaconda3\\lib\\site-packages\\sqlalchemy\\pool.py\u001b[0m in \u001b[0;36m_do_get\u001b[1;34m(self)\u001b[0m\n\u001b[0;32m   1188\u001b[0m         \u001b[1;32mif\u001b[0m \u001b[0mself\u001b[0m\u001b[1;33m.\u001b[0m\u001b[0m_inc_overflow\u001b[0m\u001b[1;33m(\u001b[0m\u001b[1;33m)\u001b[0m\u001b[1;33m:\u001b[0m\u001b[1;33m\u001b[0m\u001b[0m\n\u001b[0;32m   1189\u001b[0m             \u001b[1;32mtry\u001b[0m\u001b[1;33m:\u001b[0m\u001b[1;33m\u001b[0m\u001b[0m\n\u001b[1;32m-> 1190\u001b[1;33m                 \u001b[1;32mreturn\u001b[0m \u001b[0mself\u001b[0m\u001b[1;33m.\u001b[0m\u001b[0m_create_connection\u001b[0m\u001b[1;33m(\u001b[0m\u001b[1;33m)\u001b[0m\u001b[1;33m\u001b[0m\u001b[0m\n\u001b[0m\u001b[0;32m   1191\u001b[0m             \u001b[1;32mexcept\u001b[0m\u001b[1;33m:\u001b[0m\u001b[1;33m\u001b[0m\u001b[0m\n\u001b[0;32m   1192\u001b[0m                 \u001b[1;32mwith\u001b[0m \u001b[0mutil\u001b[0m\u001b[1;33m.\u001b[0m\u001b[0msafe_reraise\u001b[0m\u001b[1;33m(\u001b[0m\u001b[1;33m)\u001b[0m\u001b[1;33m:\u001b[0m\u001b[1;33m\u001b[0m\u001b[0m\n",
      "\u001b[1;32m~\\Anaconda3\\lib\\site-packages\\sqlalchemy\\pool.py\u001b[0m in \u001b[0;36m_create_connection\u001b[1;34m(self)\u001b[0m\n\u001b[0;32m    348\u001b[0m         \u001b[1;34m\"\"\"Called by subclasses to create a new ConnectionRecord.\"\"\"\u001b[0m\u001b[1;33m\u001b[0m\u001b[0m\n\u001b[0;32m    349\u001b[0m \u001b[1;33m\u001b[0m\u001b[0m\n\u001b[1;32m--> 350\u001b[1;33m         \u001b[1;32mreturn\u001b[0m \u001b[0m_ConnectionRecord\u001b[0m\u001b[1;33m(\u001b[0m\u001b[0mself\u001b[0m\u001b[1;33m)\u001b[0m\u001b[1;33m\u001b[0m\u001b[0m\n\u001b[0m\u001b[0;32m    351\u001b[0m \u001b[1;33m\u001b[0m\u001b[0m\n\u001b[0;32m    352\u001b[0m     \u001b[1;32mdef\u001b[0m \u001b[0m_invalidate\u001b[0m\u001b[1;33m(\u001b[0m\u001b[0mself\u001b[0m\u001b[1;33m,\u001b[0m \u001b[0mconnection\u001b[0m\u001b[1;33m,\u001b[0m \u001b[0mexception\u001b[0m\u001b[1;33m=\u001b[0m\u001b[1;32mNone\u001b[0m\u001b[1;33m,\u001b[0m \u001b[0m_checkin\u001b[0m\u001b[1;33m=\u001b[0m\u001b[1;32mTrue\u001b[0m\u001b[1;33m)\u001b[0m\u001b[1;33m:\u001b[0m\u001b[1;33m\u001b[0m\u001b[0m\n",
      "\u001b[1;32m~\\Anaconda3\\lib\\site-packages\\sqlalchemy\\pool.py\u001b[0m in \u001b[0;36m__init__\u001b[1;34m(self, pool, connect)\u001b[0m\n\u001b[0;32m    475\u001b[0m         \u001b[0mself\u001b[0m\u001b[1;33m.\u001b[0m\u001b[0m__pool\u001b[0m \u001b[1;33m=\u001b[0m \u001b[0mpool\u001b[0m\u001b[1;33m\u001b[0m\u001b[0m\n\u001b[0;32m    476\u001b[0m         \u001b[1;32mif\u001b[0m \u001b[0mconnect\u001b[0m\u001b[1;33m:\u001b[0m\u001b[1;33m\u001b[0m\u001b[0m\n\u001b[1;32m--> 477\u001b[1;33m             \u001b[0mself\u001b[0m\u001b[1;33m.\u001b[0m\u001b[0m__connect\u001b[0m\u001b[1;33m(\u001b[0m\u001b[0mfirst_connect_check\u001b[0m\u001b[1;33m=\u001b[0m\u001b[1;32mTrue\u001b[0m\u001b[1;33m)\u001b[0m\u001b[1;33m\u001b[0m\u001b[0m\n\u001b[0m\u001b[0;32m    478\u001b[0m         \u001b[0mself\u001b[0m\u001b[1;33m.\u001b[0m\u001b[0mfinalize_callback\u001b[0m \u001b[1;33m=\u001b[0m \u001b[0mdeque\u001b[0m\u001b[1;33m(\u001b[0m\u001b[1;33m)\u001b[0m\u001b[1;33m\u001b[0m\u001b[0m\n\u001b[0;32m    479\u001b[0m \u001b[1;33m\u001b[0m\u001b[0m\n",
      "\u001b[1;32m~\\Anaconda3\\lib\\site-packages\\sqlalchemy\\pool.py\u001b[0m in \u001b[0;36m__connect\u001b[1;34m(self, first_connect_check)\u001b[0m\n\u001b[0;32m    669\u001b[0m         \u001b[1;32mtry\u001b[0m\u001b[1;33m:\u001b[0m\u001b[1;33m\u001b[0m\u001b[0m\n\u001b[0;32m    670\u001b[0m             \u001b[0mself\u001b[0m\u001b[1;33m.\u001b[0m\u001b[0mstarttime\u001b[0m \u001b[1;33m=\u001b[0m \u001b[0mtime\u001b[0m\u001b[1;33m.\u001b[0m\u001b[0mtime\u001b[0m\u001b[1;33m(\u001b[0m\u001b[1;33m)\u001b[0m\u001b[1;33m\u001b[0m\u001b[0m\n\u001b[1;32m--> 671\u001b[1;33m             \u001b[0mconnection\u001b[0m \u001b[1;33m=\u001b[0m \u001b[0mpool\u001b[0m\u001b[1;33m.\u001b[0m\u001b[0m_invoke_creator\u001b[0m\u001b[1;33m(\u001b[0m\u001b[0mself\u001b[0m\u001b[1;33m)\u001b[0m\u001b[1;33m\u001b[0m\u001b[0m\n\u001b[0m\u001b[0;32m    672\u001b[0m             \u001b[0mpool\u001b[0m\u001b[1;33m.\u001b[0m\u001b[0mlogger\u001b[0m\u001b[1;33m.\u001b[0m\u001b[0mdebug\u001b[0m\u001b[1;33m(\u001b[0m\u001b[1;34m\"Created new connection %r\"\u001b[0m\u001b[1;33m,\u001b[0m \u001b[0mconnection\u001b[0m\u001b[1;33m)\u001b[0m\u001b[1;33m\u001b[0m\u001b[0m\n\u001b[0;32m    673\u001b[0m             \u001b[0mself\u001b[0m\u001b[1;33m.\u001b[0m\u001b[0mconnection\u001b[0m \u001b[1;33m=\u001b[0m \u001b[0mconnection\u001b[0m\u001b[1;33m\u001b[0m\u001b[0m\n",
      "\u001b[1;32m~\\Anaconda3\\lib\\site-packages\\sqlalchemy\\engine\\strategies.py\u001b[0m in \u001b[0;36mconnect\u001b[1;34m(connection_record)\u001b[0m\n\u001b[0;32m    104\u001b[0m                         \u001b[1;32mif\u001b[0m \u001b[0mconnection\u001b[0m \u001b[1;32mis\u001b[0m \u001b[1;32mnot\u001b[0m \u001b[1;32mNone\u001b[0m\u001b[1;33m:\u001b[0m\u001b[1;33m\u001b[0m\u001b[0m\n\u001b[0;32m    105\u001b[0m                             \u001b[1;32mreturn\u001b[0m \u001b[0mconnection\u001b[0m\u001b[1;33m\u001b[0m\u001b[0m\n\u001b[1;32m--> 106\u001b[1;33m                 \u001b[1;32mreturn\u001b[0m \u001b[0mdialect\u001b[0m\u001b[1;33m.\u001b[0m\u001b[0mconnect\u001b[0m\u001b[1;33m(\u001b[0m\u001b[1;33m*\u001b[0m\u001b[0mcargs\u001b[0m\u001b[1;33m,\u001b[0m \u001b[1;33m**\u001b[0m\u001b[0mcparams\u001b[0m\u001b[1;33m)\u001b[0m\u001b[1;33m\u001b[0m\u001b[0m\n\u001b[0m\u001b[0;32m    107\u001b[0m \u001b[1;33m\u001b[0m\u001b[0m\n\u001b[0;32m    108\u001b[0m             \u001b[0mcreator\u001b[0m \u001b[1;33m=\u001b[0m \u001b[0mpop_kwarg\u001b[0m\u001b[1;33m(\u001b[0m\u001b[1;34m'creator'\u001b[0m\u001b[1;33m,\u001b[0m \u001b[0mconnect\u001b[0m\u001b[1;33m)\u001b[0m\u001b[1;33m\u001b[0m\u001b[0m\n",
      "\u001b[1;32m~\\Anaconda3\\lib\\site-packages\\sqlalchemy\\engine\\default.py\u001b[0m in \u001b[0;36mconnect\u001b[1;34m(self, *cargs, **cparams)\u001b[0m\n\u001b[0;32m    408\u001b[0m \u001b[1;33m\u001b[0m\u001b[0m\n\u001b[0;32m    409\u001b[0m     \u001b[1;32mdef\u001b[0m \u001b[0mconnect\u001b[0m\u001b[1;33m(\u001b[0m\u001b[0mself\u001b[0m\u001b[1;33m,\u001b[0m \u001b[1;33m*\u001b[0m\u001b[0mcargs\u001b[0m\u001b[1;33m,\u001b[0m \u001b[1;33m**\u001b[0m\u001b[0mcparams\u001b[0m\u001b[1;33m)\u001b[0m\u001b[1;33m:\u001b[0m\u001b[1;33m\u001b[0m\u001b[0m\n\u001b[1;32m--> 410\u001b[1;33m         \u001b[1;32mreturn\u001b[0m \u001b[0mself\u001b[0m\u001b[1;33m.\u001b[0m\u001b[0mdbapi\u001b[0m\u001b[1;33m.\u001b[0m\u001b[0mconnect\u001b[0m\u001b[1;33m(\u001b[0m\u001b[1;33m*\u001b[0m\u001b[0mcargs\u001b[0m\u001b[1;33m,\u001b[0m \u001b[1;33m**\u001b[0m\u001b[0mcparams\u001b[0m\u001b[1;33m)\u001b[0m\u001b[1;33m\u001b[0m\u001b[0m\n\u001b[0m\u001b[0;32m    411\u001b[0m \u001b[1;33m\u001b[0m\u001b[0m\n\u001b[0;32m    412\u001b[0m     \u001b[1;32mdef\u001b[0m \u001b[0mcreate_connect_args\u001b[0m\u001b[1;33m(\u001b[0m\u001b[0mself\u001b[0m\u001b[1;33m,\u001b[0m \u001b[0murl\u001b[0m\u001b[1;33m)\u001b[0m\u001b[1;33m:\u001b[0m\u001b[1;33m\u001b[0m\u001b[0m\n",
      "\u001b[1;32m~\\Anaconda3\\lib\\site-packages\\mysql\\connector\\__init__.py\u001b[0m in \u001b[0;36mconnect\u001b[1;34m(*args, **kwargs)\u001b[0m\n\u001b[0;32m    177\u001b[0m         \u001b[1;32mreturn\u001b[0m \u001b[0mCMySQLConnection\u001b[0m\u001b[1;33m(\u001b[0m\u001b[1;33m*\u001b[0m\u001b[0margs\u001b[0m\u001b[1;33m,\u001b[0m \u001b[1;33m**\u001b[0m\u001b[0mkwargs\u001b[0m\u001b[1;33m)\u001b[0m\u001b[1;33m\u001b[0m\u001b[0m\n\u001b[0;32m    178\u001b[0m     \u001b[1;32melse\u001b[0m\u001b[1;33m:\u001b[0m\u001b[1;33m\u001b[0m\u001b[0m\n\u001b[1;32m--> 179\u001b[1;33m         \u001b[1;32mreturn\u001b[0m \u001b[0mMySQLConnection\u001b[0m\u001b[1;33m(\u001b[0m\u001b[1;33m*\u001b[0m\u001b[0margs\u001b[0m\u001b[1;33m,\u001b[0m \u001b[1;33m**\u001b[0m\u001b[0mkwargs\u001b[0m\u001b[1;33m)\u001b[0m\u001b[1;33m\u001b[0m\u001b[0m\n\u001b[0m\u001b[0;32m    180\u001b[0m \u001b[0mConnect\u001b[0m \u001b[1;33m=\u001b[0m \u001b[0mconnect\u001b[0m  \u001b[1;31m# pylint: disable=C0103\u001b[0m\u001b[1;33m\u001b[0m\u001b[0m\n\u001b[0;32m    181\u001b[0m \u001b[1;33m\u001b[0m\u001b[0m\n",
      "\u001b[1;32m~\\Anaconda3\\lib\\site-packages\\mysql\\connector\\connection.py\u001b[0m in \u001b[0;36m__init__\u001b[1;34m(self, *args, **kwargs)\u001b[0m\n\u001b[0;32m     92\u001b[0m \u001b[1;33m\u001b[0m\u001b[0m\n\u001b[0;32m     93\u001b[0m         \u001b[1;32mif\u001b[0m \u001b[0mlen\u001b[0m\u001b[1;33m(\u001b[0m\u001b[0mkwargs\u001b[0m\u001b[1;33m)\u001b[0m \u001b[1;33m>\u001b[0m \u001b[1;36m0\u001b[0m\u001b[1;33m:\u001b[0m\u001b[1;33m\u001b[0m\u001b[0m\n\u001b[1;32m---> 94\u001b[1;33m             \u001b[0mself\u001b[0m\u001b[1;33m.\u001b[0m\u001b[0mconnect\u001b[0m\u001b[1;33m(\u001b[0m\u001b[1;33m**\u001b[0m\u001b[0mkwargs\u001b[0m\u001b[1;33m)\u001b[0m\u001b[1;33m\u001b[0m\u001b[0m\n\u001b[0m\u001b[0;32m     95\u001b[0m \u001b[1;33m\u001b[0m\u001b[0m\n\u001b[0;32m     96\u001b[0m     \u001b[1;32mdef\u001b[0m \u001b[0m_do_handshake\u001b[0m\u001b[1;33m(\u001b[0m\u001b[0mself\u001b[0m\u001b[1;33m)\u001b[0m\u001b[1;33m:\u001b[0m\u001b[1;33m\u001b[0m\u001b[0m\n",
      "\u001b[1;32m~\\Anaconda3\\lib\\site-packages\\mysql\\connector\\abstracts.py\u001b[0m in \u001b[0;36mconnect\u001b[1;34m(self, **kwargs)\u001b[0m\n\u001b[0;32m    720\u001b[0m \u001b[1;33m\u001b[0m\u001b[0m\n\u001b[0;32m    721\u001b[0m         \u001b[0mself\u001b[0m\u001b[1;33m.\u001b[0m\u001b[0mdisconnect\u001b[0m\u001b[1;33m(\u001b[0m\u001b[1;33m)\u001b[0m\u001b[1;33m\u001b[0m\u001b[0m\n\u001b[1;32m--> 722\u001b[1;33m         \u001b[0mself\u001b[0m\u001b[1;33m.\u001b[0m\u001b[0m_open_connection\u001b[0m\u001b[1;33m(\u001b[0m\u001b[1;33m)\u001b[0m\u001b[1;33m\u001b[0m\u001b[0m\n\u001b[0m\u001b[0;32m    723\u001b[0m         \u001b[0mself\u001b[0m\u001b[1;33m.\u001b[0m\u001b[0m_post_connection\u001b[0m\u001b[1;33m(\u001b[0m\u001b[1;33m)\u001b[0m\u001b[1;33m\u001b[0m\u001b[0m\n\u001b[0;32m    724\u001b[0m \u001b[1;33m\u001b[0m\u001b[0m\n",
      "\u001b[1;32m~\\Anaconda3\\lib\\site-packages\\mysql\\connector\\connection.py\u001b[0m in \u001b[0;36m_open_connection\u001b[1;34m(self)\u001b[0m\n\u001b[0;32m    205\u001b[0m         \u001b[0mself\u001b[0m\u001b[1;33m.\u001b[0m\u001b[0m_protocol\u001b[0m \u001b[1;33m=\u001b[0m \u001b[0mMySQLProtocol\u001b[0m\u001b[1;33m(\u001b[0m\u001b[1;33m)\u001b[0m\u001b[1;33m\u001b[0m\u001b[0m\n\u001b[0;32m    206\u001b[0m         \u001b[0mself\u001b[0m\u001b[1;33m.\u001b[0m\u001b[0m_socket\u001b[0m \u001b[1;33m=\u001b[0m \u001b[0mself\u001b[0m\u001b[1;33m.\u001b[0m\u001b[0m_get_connection\u001b[0m\u001b[1;33m(\u001b[0m\u001b[1;33m)\u001b[0m\u001b[1;33m\u001b[0m\u001b[0m\n\u001b[1;32m--> 207\u001b[1;33m         \u001b[0mself\u001b[0m\u001b[1;33m.\u001b[0m\u001b[0m_socket\u001b[0m\u001b[1;33m.\u001b[0m\u001b[0mopen_connection\u001b[0m\u001b[1;33m(\u001b[0m\u001b[1;33m)\u001b[0m\u001b[1;33m\u001b[0m\u001b[0m\n\u001b[0m\u001b[0;32m    208\u001b[0m         \u001b[0mself\u001b[0m\u001b[1;33m.\u001b[0m\u001b[0m_do_handshake\u001b[0m\u001b[1;33m(\u001b[0m\u001b[1;33m)\u001b[0m\u001b[1;33m\u001b[0m\u001b[0m\n\u001b[0;32m    209\u001b[0m         self._do_auth(self._user, self._password,\n",
      "\u001b[1;32m~\\Anaconda3\\lib\\site-packages\\mysql\\connector\\network.py\u001b[0m in \u001b[0;36mopen_connection\u001b[1;34m(self)\u001b[0m\n\u001b[0;32m    510\u001b[0m         \u001b[1;32mexcept\u001b[0m \u001b[0mIOError\u001b[0m \u001b[1;32mas\u001b[0m \u001b[0merr\u001b[0m\u001b[1;33m:\u001b[0m\u001b[1;33m\u001b[0m\u001b[0m\n\u001b[0;32m    511\u001b[0m             raise errors.InterfaceError(\n\u001b[1;32m--> 512\u001b[1;33m                 errno=2003, values=(self.get_address(), _strioerror(err)))\n\u001b[0m\u001b[0;32m    513\u001b[0m         \u001b[1;32mexcept\u001b[0m \u001b[0mException\u001b[0m \u001b[1;32mas\u001b[0m \u001b[0merr\u001b[0m\u001b[1;33m:\u001b[0m\u001b[1;33m\u001b[0m\u001b[0m\n\u001b[0;32m    514\u001b[0m             \u001b[1;32mraise\u001b[0m \u001b[0merrors\u001b[0m\u001b[1;33m.\u001b[0m\u001b[0mOperationalError\u001b[0m\u001b[1;33m(\u001b[0m\u001b[0mstr\u001b[0m\u001b[1;33m(\u001b[0m\u001b[0merr\u001b[0m\u001b[1;33m)\u001b[0m\u001b[1;33m)\u001b[0m\u001b[1;33m\u001b[0m\u001b[0m\n",
      "\u001b[1;31mInterfaceError\u001b[0m: (mysql.connector.errors.InterfaceError) 2003: Can't connect to MySQL server on 'localhost:3306' (10061 No connection could be made because the target machine actively refused it) (Background on this error at: http://sqlalche.me/e/rvf5)"
     ]
    }
   ],
   "source": [
    "limit  = int(input(\"what the size(amount of tickers)?\"))\n",
    "features = open('features.txt','r').read().splitlines()\n",
    "df = DataAcquisition.GetStats(gathers=features,\n",
    "              path=path,\n",
    "              limit=limit) \n",
    "\n",
    "print('DF Shape - ', df.shape)\n",
    "\n",
    "df.to_csv(r'c:\\data\\Datasets\\df_stg.csv', index=False)\n",
    "\n",
    "tickers= list(set(df.Ticker))\n",
    "with open(r'c:\\data\\Datasets\\tickers.txt','w') as f:\n",
    "    f.write('\\n'.join(tickers))\n",
    "\n",
    "    \n",
    "    \n",
    "df_list = []\n",
    "for ticker in tickers:\n",
    "    dates = df.loc[df['Ticker']==ticker,'UNIX']\n",
    "    ticker_price_df = DataAcquisition.get_stock_perfomance(ticker,dates)\n",
    "    df_list.append(ticker_price_df)\n",
    "\n",
    "price_df = pd.concat(df_list, ignore_index=True)\n",
    "\n",
    "res_df = pd.merge(df,price_df,on=['UNIX','Ticker'],how='inner')\n",
    "\n",
    "res_df['Date'] = pd.to_datetime(res_df['Date'])\n",
    "res_df.Absolute_Stock_Perfomance = res_df.Absolute_Stock_Perfomance.astype(float)\n",
    "res_path = r'c:\\data\\Datasets\\agg50'+str(limit)+'.csv'\n",
    "res_df.to_csv(res_path,index=False)\n",
    "\n",
    "from sqlalchemy import create_engine , event\n",
    "cred = {x.split(':')[0]: x.split(':')[1] for x in open(r'c:\\data\\sqlcred\\mysql.txt','r').read().splitlines()}\n",
    "\n",
    "user = cred['user']\n",
    "passw =cred['pass']\n",
    "host = cred['server']\n",
    "db =  cred['db']\n",
    "constr= 'mysql+mysqlconnector://{USER}:{PASS}@{HOST}/{DB}'.format(USER=user,\n",
    "                                                                                    PASS=passw,\n",
    "                                                                                    HOST=host,\n",
    "                                                                                    DB=db)\n",
    "\n",
    "\n",
    "engine = create_engine(constr)\n",
    "@event.listens_for(engine, 'before_cursor_execute')\n",
    "def receive_before_cursor_execute(conn, cursor, statement, params, context, executemany):\n",
    "    if executemany:\n",
    "        cursor.fast_executemany = True\n",
    "\n",
    "        \n",
    "#clean columns name \n",
    "print(\"Star Export To MySQL Server\")\n",
    "res_df.columns = [x.replace('(','').replace(')','') for x in res_df.columns]\n",
    "name = 'SNP500 Stocks - '+str(limit)\n",
    "res_df.to_sql(name=name,con=engine,if_exists='replace')\n",
    "print(\"Export has finished successfully\")"
   ]
  },
  {
   "cell_type": "code",
   "execution_count": null,
   "metadata": {},
   "outputs": [],
   "source": []
  }
 ],
 "metadata": {
  "kernelspec": {
   "display_name": "Python 3",
   "language": "python",
   "name": "python3"
  }
 },
 "nbformat": 4,
 "nbformat_minor": 2
}
