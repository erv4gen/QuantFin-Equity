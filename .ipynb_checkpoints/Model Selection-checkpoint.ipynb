{
 "cells": [
  {
   "cell_type": "code",
   "execution_count": 1,
   "metadata": {},
   "outputs": [
    {
     "name": "stderr",
     "output_type": "stream",
     "text": [
      "C:\\Users\\ervik\\Anaconda3\\lib\\site-packages\\sklearn\\cross_validation.py:41: DeprecationWarning: This module was deprecated in version 0.18 in favor of the model_selection module into which all the refactored classes and functions are moved. Also note that the interface of the new CV iterators are different from that of this module. This module will be removed in 0.20.\n",
      "  \"This module will be removed in 0.20.\", DeprecationWarning)\n"
     ]
    }
   ],
   "source": [
    "from sklearn import cross_validation, svm\n",
    "from sklearn.linear_model import SGDClassifier\n",
    "from sklearn.preprocessing import StandardScaler\n",
    "from sklearn.metrics import confusion_matrix , recall_score , roc_curve , roc_auc_score\n",
    "from matplotlib.font_manager import FontProperties\n",
    "from sklearn.preprocessing import binarize"
   ]
  },
  {
   "cell_type": "code",
   "execution_count": null,
   "metadata": {},
   "outputs": [],
   "source": [
    "def get_data(name='SNP500 Stocks - 50'):\n",
    "    from sqlalchemy import create_engine , event\n",
    "    cred = {x.split(':')[0]: x.split(':')[1] for x in open(r'c:\\data\\sqlcred\\mysql.txt','r').read().splitlines()}\n",
    "\n",
    "    user = cred['user']\n",
    "    passw =cred['pass']\n",
    "    host = cred['server']\n",
    "    db =  cred['db']\n",
    "    constr= 'mysql+mysqlconnector://{USER}:{PASS}@{HOST}/{DB}'.format(USER=user,\n",
    "                                                                        PASS=passw,\n",
    "                                                                        HOST=host,\n",
    "                                                                        DB=db)\n",
    "\n",
    "    engine = create_engine(constr)        \n",
    "\n",
    "    df = pd.read_sql(name,con=engine)\n",
    "    return df\n",
    "    \n",
    "\n",
    "\n",
    "def get_features(features=[\n",
    "                           'Total Debt/Equity mrq',\n",
    "                          'Price/Book mrq'],dropna=True):\n",
    "    df = get_data()\n",
    "    if dropna:\n",
    "        df.replace({-99999.00:None},inplace=True)\n",
    "        df.dropna(how='any',inplace=True)\n",
    "    y = np.array(df['Absolute_Stock_Perfomance_Flag'])\n",
    "    df = df[features]\n",
    "    X = np.array(df.values)\n",
    "    sscaller = StandardScaler()\n",
    "    X = sscaller.fit_transform(X)\n",
    "    return X, y\n",
    "\n",
    "X,y = get_features()"
   ]
  }
 ],
 "metadata": {
  "kernelspec": {
   "display_name": "Python 3",
   "language": "python",
   "name": "python3"
  },
  "language_info": {
   "codemirror_mode": {
    "name": "ipython",
    "version": 3
   },
   "file_extension": ".py",
   "mimetype": "text/x-python",
   "name": "python",
   "nbconvert_exporter": "python",
   "pygments_lexer": "ipython3",
   "version": "3.6.5"
  }
 },
 "nbformat": 4,
 "nbformat_minor": 2
}
