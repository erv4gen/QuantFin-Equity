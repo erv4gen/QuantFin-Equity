{
 "cells": [
  {
   "cell_type": "code",
   "execution_count": 2,
   "metadata": {},
   "outputs": [
    {
     "name": "stderr",
     "output_type": "stream",
     "text": [
      "100%|████████████████████████████████████████████████████████████████████████████| 773/773 [00:00<00:00, 110636.31it/s]\n",
      "  2%|██                                                                               | 19/765 [00:30<19:54,  1.60s/it]"
     ]
    },
    {
     "ename": "KeyboardInterrupt",
     "evalue": "",
     "output_type": "error",
     "traceback": [
      "\u001b[1;31m---------------------------------------------------------------------------\u001b[0m",
      "\u001b[1;31mKeyboardInterrupt\u001b[0m                         Traceback (most recent call last)",
      "\u001b[1;32m<ipython-input-2-38c810cb0c31>\u001b[0m in \u001b[0;36m<module>\u001b[1;34m()\u001b[0m\n\u001b[0;32m     31\u001b[0m     \u001b[0mfullpath\u001b[0m \u001b[1;33m=\u001b[0m \u001b[1;34mr'c:/data/Datasets/stocksfundam/'\u001b[0m \u001b[1;33m+\u001b[0m \u001b[0mlname\u001b[0m\u001b[1;33m\u001b[0m\u001b[0m\n\u001b[0;32m     32\u001b[0m     \u001b[0mrequest\u001b[0m\u001b[1;33m.\u001b[0m\u001b[0murlretrieve\u001b[0m\u001b[1;33m(\u001b[0m\u001b[1;34m'http://www.stockpup.com/data/SSP_quarterly_financial_data.csv'\u001b[0m\u001b[1;33m,\u001b[0m \u001b[0mfullpath\u001b[0m\u001b[1;33m)\u001b[0m\u001b[1;33m\u001b[0m\u001b[0m\n\u001b[1;32m---> 33\u001b[1;33m     \u001b[0mtime\u001b[0m\u001b[1;33m.\u001b[0m\u001b[0msleep\u001b[0m\u001b[1;33m(\u001b[0m\u001b[0mrandom\u001b[0m\u001b[1;33m.\u001b[0m\u001b[0mrandrange\u001b[0m\u001b[1;33m(\u001b[0m\u001b[1;36m1\u001b[0m\u001b[1;33m,\u001b[0m\u001b[1;36m3\u001b[0m\u001b[1;33m)\u001b[0m\u001b[1;33m)\u001b[0m\u001b[1;33m\u001b[0m\u001b[0m\n\u001b[0m",
      "\u001b[1;31mKeyboardInterrupt\u001b[0m: "
     ]
    }
   ],
   "source": [
    "#get all data\n",
    "import pandas as pd\n",
    "from urllib import request\n",
    "from bs4 import BeautifulSoup\n",
    "import re , ipdb ,time , random\n",
    "import datetime\n",
    "from tqdm import tqdm\n",
    "\n",
    "host= 'http://www.stockpup.com'\n",
    "mainurl = 'http://www.stockpup.com/data/'\n",
    "page = request.urlopen(mainurl).read().decode('utf-8')\n",
    "\n",
    "soup = BeautifulSoup(page, 'html.parser')\n",
    "\n",
    "#csvlist = soup.findAll('div',{'class':'col-md-4 col-md-offset-1'})\n",
    "allp = soup.findAll('p')\n",
    "\n",
    "all_urls = []\n",
    "for element in tqdm(allp):\n",
    "    company = {}\n",
    "    try:\n",
    "        href = element.findAll('a')[1]['href']\n",
    "    except:\n",
    "        continue\n",
    "    if 'csv' in href:\n",
    "        all_urls.append(host+href)\n",
    "\n",
    "\n",
    "for url in tqdm(all_urls):\n",
    "    lname= url.split('/')[-1]\n",
    "    fullpath = r'c:/data/Datasets/stocksfundam/' + lname\n",
    "    request.urlretrieve('http://www.stockpup.com/data/SSP_quarterly_financial_data.csv', fullpath)\n",
    "    time.sleep(random.randrange(1,3))\n",
    "\n"
   ]
  },
  {
   "cell_type": "code",
   "execution_count": 7,
   "metadata": {},
   "outputs": [],
   "source": [
    "#concat all together\n",
    "\n",
    "def concatall_manually():\n",
    "    import pandas as pd\n",
    "    import os , ipdb\n",
    "    from tqdm import tqdm\n",
    "    path = r'c:/data/finml/'\n",
    "    stock_list = [f for f in os.listdir(path)]\n",
    "\n",
    "    df_list = []\n",
    "    for stock in tqdm(stock_list):\n",
    "        ticker = stock.split('_')[0]\n",
    "        df = pd.read_csv(path+stock)\n",
    "        df_list.append(df)\n",
    "\n",
    "    res_df = pd.concat(df_list,ignore_index=True)\n",
    "\n",
    "    res_df.shape\n",
    "\n",
    "    res_df.to_csv('c:/data/Datasets/stocksfundam-concated/res.csv',index=False)"
   ]
  },
  {
   "cell_type": "code",
   "execution_count": 8,
   "metadata": {},
   "outputs": [
    {
     "name": "stderr",
     "output_type": "stream",
     "text": [
      "100%|███████████████████████████████████████████████████████████████████████████████████| 4/4 [00:00<00:00, 284.98it/s]\n"
     ]
    }
   ],
   "source": [
    "\n",
    "concatall_manually()"
   ]
  },
  {
   "cell_type": "code",
   "execution_count": null,
   "metadata": {},
   "outputs": [],
   "source": []
  }
 ],
 "metadata": {
  "kernelspec": {
   "display_name": "Python 3",
   "language": "python",
   "name": "python3"
  },
  "language_info": {
   "codemirror_mode": {
    "name": "ipython",
    "version": 3
   },
   "file_extension": ".py",
   "mimetype": "text/x-python",
   "name": "python",
   "nbconvert_exporter": "python",
   "pygments_lexer": "ipython3",
   "version": "3.6.5"
  }
 },
 "nbformat": 4,
 "nbformat_minor": 2
}
