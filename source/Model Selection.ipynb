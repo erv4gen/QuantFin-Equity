{
 "cells": [
  {
   "cell_type": "code",
   "execution_count": 23,
   "metadata": {},
   "outputs": [],
   "source": [
    "from sklearn import cross_validation, svm\n",
    "\n",
    "from sklearn.preprocessing import binarize\n",
    "from sklearn.preprocessing import StandardScaler\n",
    "from sklearn.model_selection import cross_val_score\n",
    "from sklearn.grid_search import GridSearchCV\n",
    "from sklearn.metrics import confusion_matrix , recall_score , roc_curve , roc_auc_score\n",
    "\n",
    "from sklearn.linear_model import SGDClassifier\n",
    "from sklearn.dummy import DummyClassifier\n",
    "from matplotlib.font_manager import FontProperties\n",
    "from sklearn.neighbors import KNeighborsClassifier\n",
    "from sklearn.linear_model import LogisticRegression\n",
    "\n",
    "\n",
    "import sys\n",
    "sys.path.append('c:/pjt/QuantFin-Equity/source/libs/')\n",
    "from libs import General ,PlotFunctions , DataAcquisition\n",
    "\n",
    "from matplotlib import  style\n",
    "import matplotlib.pyplot as plt\n",
    "import seaborn as sns\n",
    "import statistics\n",
    "\n",
    "\n",
    "import pandas as pd\n",
    "import numpy as np\n",
    "\n",
    "style.use('dark_background')"
   ]
  },
  {
   "cell_type": "code",
   "execution_count": 7,
   "metadata": {},
   "outputs": [],
   "source": [
    "def get_features(features=['P/B ratio',\n",
    "                          'ROE'],dropna=True, local=True, con_man=True):\n",
    "    \n",
    "    sscaller = StandardScaler()\n",
    "    if local:\n",
    "        df = DataAcquisition.get_data_local(con_man=con_man)\n",
    "    else:\n",
    "        df = DataAcquisition.get_data_sql()\n",
    "    if dropna:\n",
    "        df = df.replace('None',np.nan).replace(-99999.00,np.nan).replace(-1,np.nan).dropna(axis=0)\n",
    "        df.dropna(how='any',inplace=True)\n",
    "    \n",
    "\n",
    "    y = np.array(df['Absolute_Stock_Perfomance_Flag'])\n",
    "    Z = df[['Stock_Future_Pefomance','SNP500_Future_Perfomance']]\n",
    "    df = df[features]\n",
    "    df = pd.concat([df,Z],axis=1)\n",
    "    df = df.astype(float)\n",
    "    X = np.array(df.values)\n",
    "    \n",
    "    X = sscaller.fit_transform(X)\n",
    "    return X, y\n",
    "\n",
    "\n",
    "def get_dummy(X,y):\n",
    "    strategy = ['stratified','most_frequent','uniform']\n",
    "\n",
    "    for start in strategy:\n",
    "        dummyc = DummyClassifier(strategy=start)\n",
    "        dummyc.fit(X,y)\n",
    "        print(start,': Dummy Score:',round(dummyc.score(X,y),2))\n",
    "\n",
    "\n",
    "def run_backtest(y,y_p,Z):\n",
    "    invest_amount = 1000\n",
    "    stock_return = []\n",
    "    index_return = []\n",
    "    for i in range(Z.shape[0]):\n",
    "        if y_p[i]==1:\n",
    "            inv_return = invest_amount + (invest_amount*Z[i,0])\n",
    "            stock_return.append(inv_return)\n",
    "        else:\n",
    "            inv_return = invest_amount + (invest_amount*Z[i,1])\n",
    "            index_return.append(inv_return)\n",
    "\n",
    "    return [{'Mean Stock Retun': statistics.mean(stock_return),\n",
    "            'Sum Stock Return' : sum(stock_return)},\n",
    "            {'Mean SnP Return ': statistics.mean(index_return),\n",
    "            'Sum SnP Return' :  sum(index_return)} ]\n",
    "\n",
    "X,y  = get_features()"
   ]
  },
  {
   "cell_type": "code",
   "execution_count": 8,
   "metadata": {},
   "outputs": [
    {
     "data": {
      "text/plain": [
       "array([[ 0.78429191,  0.53871595, -0.01475404,  0.93930897],\n",
       "       [ 0.98210054,  0.43546148, -0.01290461,  0.74766185],\n",
       "       [ 0.59508366,  0.18526794, -0.00962836,  1.10160913],\n",
       "       ...,\n",
       "       [-1.30559924, -0.96244525, -0.01056464,  0.91364543],\n",
       "       [-0.97018461, -1.11732696, -0.01218296,  0.38493343],\n",
       "       [-1.02178686, -1.18881083, -0.01324425,  0.43430937]])"
      ]
     },
     "execution_count": 8,
     "metadata": {},
     "output_type": "execute_result"
    }
   ],
   "source": [
    "X"
   ]
  },
  {
   "cell_type": "code",
   "execution_count": 9,
   "metadata": {},
   "outputs": [
    {
     "name": "stdout",
     "output_type": "stream",
     "text": [
      "stratified : Dummy Score: 0.59\n",
      "most_frequent : Dummy Score: 0.7\n",
      "uniform : Dummy Score: 0.51\n"
     ]
    }
   ],
   "source": [
    "get_dummy(X,y)"
   ]
  },
  {
   "cell_type": "code",
   "execution_count": 19,
   "metadata": {},
   "outputs": [
    {
     "name": "stdout",
     "output_type": "stream",
     "text": [
      "SVM Score:\n",
      " 0.694\n"
     ]
    }
   ],
   "source": [
    "#'''First Run - Simple rules'''\n",
    "###############\n",
    "\n",
    "\n",
    "######RUN CODE###\n",
    "\n",
    "X_train, X_test, Y_train, Y_test = cross_validation.train_test_split(X,y, test_size=0.4)\n",
    "\n",
    "X_train = X_train[:,:-2]\n",
    "Z_train = X_train[:,-2:]\n",
    "\n",
    "X_test = X_test[:,:-2]\n",
    "Z_test = X_test[:,-2:]\n",
    "\n",
    "#%%\n",
    "clf = svm.SVC()\n",
    "#clf = LogisticRegression()\n",
    "clf.fit(X_train,Y_train)\n",
    "\n",
    "\n",
    "clf.fit(X_train,Y_train)\n",
    "print('SVM Score:\\n',round(clf.score(X_test,Y_test),3))\n",
    "y_predict = clf.predict(X_test)\n"
   ]
  },
  {
   "cell_type": "code",
   "execution_count": null,
   "metadata": {},
   "outputs": [],
   "source": [
    "#Grid Search\n",
    "C_range = list(range(1,150,10))\n",
    "param_grid= dict(C=C_range)\n",
    "grid = GridSearchCV(clf, param_grid, cv=10, scoring='accuracy',n_jobs=-1)\n",
    "grid.fit(X, y)\n",
    "\n",
    "\n",
    "means = []\n",
    "for i in grid.grid_scores_:\n",
    "    means.append(i.mean_validation_score)\n",
    "\n"
   ]
  },
  {
   "cell_type": "code",
   "execution_count": 29,
   "metadata": {},
   "outputs": [
    {
     "name": "stdout",
     "output_type": "stream",
     "text": [
      "Best Accuracy:  0.7184074366394808\n",
      "Best Parameter:  {'C': 121}\n"
     ]
    },
    {
     "data": {
      "image/png": "[encoded data removed]",
      "text/plain": [
       "<Figure size 720x576 with 1 Axes>"
      ]
     },
     "metadata": {},
     "output_type": "display_data"
    }
   ],
   "source": [
    "plt.figure(figsize=(10,8))\n",
    "plt.plot(C_range,means);\n",
    "plt.xlabel('Value of C for SVM')\n",
    "plt.ylabel('Cross-Validated Accuracy')\n",
    "print('Best Accuracy: ',grid.best_score_)\n",
    "print('Best Parameter: ',grid.best_params_)"
   ]
  },
  {
   "cell_type": "code",
   "execution_count": null,
   "metadata": {},
   "outputs": [],
   "source": []
  },
  {
   "cell_type": "code",
   "execution_count": null,
   "metadata": {},
   "outputs": [],
   "source": [
    "print('Run Backtest:')\n",
    "run_backtest(Y_test,y_predict,Z_test)"
   ]
  }
 ],
 "metadata": {
  "kernelspec": {
   "display_name": "Python 3",
   "language": "python",
   "name": "python3"
  },
  "language_info": {
   "codemirror_mode": {
    "name": "ipython",
    "version": 3
   },
   "file_extension": ".py",
   "mimetype": "text/x-python",
   "name": "python",
   "nbconvert_exporter": "python",
   "pygments_lexer": "ipython3",
   "version": "3.6.5"
  }
 },
 "nbformat": 4,
 "nbformat_minor": 2
}
