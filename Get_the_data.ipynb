{
 "cells": [
  {
   "cell_type": "code",
   "execution_count": 1,
   "metadata": {},
   "outputs": [],
   "source": [
    "from Functions import General ,PlotFunctions , DataAcquisition\n",
    "import time , os\n",
    "from tqdm import tqdm\n",
    "import pandas as pd\n",
    "from datetime import datetime\n",
    "import os\n",
    "from bs4 import BeautifulSoup\n",
    "import quandl\n",
    "from time import mktime\n",
    "import datetime as dt\n",
    "import mysql.connector\n",
    "from ipdb import set_trace\n",
    "\n",
    "import numpy as np\n",
    "path=r'c:\\data\\Datasets\\intraQuarter\\\\'"
   ]
  },
  {
   "cell_type": "code",
   "execution_count": 2,
   "metadata": {
    "scrolled": true
   },
   "outputs": [
    {
     "name": "stdout",
     "output_type": "stream",
     "text": [
      "what the size(amount of tickers)?10\n",
      "DE Ratio,Trailing P/E ,Price/Sales,Price/Book,Profit Margin,Operating Margin,Return on Assets,Return on Equity,Revenue Per Share,Market Cap,Enterprise Value,Forward P/E,PEG Ratio,Enterprise Value/Revenue,Enterprise Value/EBITDA,Revenue,Gross Profit,EBITDA,Net Income Avl to Common ,Diluted EPS,Earnings Growth,Revenue Growth,Total Cash,Total Cash Per Share,Total Debt,Current Ratio,Book Value Per Share,Cash Flow,Beta,Held by Insiders,Held by Institutions,Shares Short (as of,Short Ratio,Short % of Float,Shares Short\n",
      "Limit set to: 10\n"
     ]
    },
    {
     "name": "stderr",
     "output_type": "stream",
     "text": [
      "\r",
      "  0%|                                                                                          | 0/560 [00:00<?, ?it/s]"
     ]
    },
    {
     "name": "stdout",
     "output_type": "stream",
     "text": [
      "Start working with:  a\n"
     ]
    },
    {
     "name": "stderr",
     "output_type": "stream",
     "text": [
      "\r",
      "  0%|▏                                                                                 | 1/560 [00:01<14:34,  1.56s/it]"
     ]
    },
    {
     "name": "stdout",
     "output_type": "stream",
     "text": [
      "Start working with:  aa\n"
     ]
    },
    {
     "name": "stderr",
     "output_type": "stream",
     "text": [
      "\r",
      "  0%|▎                                                                                 | 2/560 [00:04<20:53,  2.25s/it]"
     ]
    },
    {
     "name": "stdout",
     "output_type": "stream",
     "text": [
      "Start working with:  aapl\n"
     ]
    },
    {
     "name": "stderr",
     "output_type": "stream",
     "text": [
      "\r",
      "  1%|▍                                                                                 | 3/560 [00:08<26:16,  2.83s/it]"
     ]
    },
    {
     "name": "stdout",
     "output_type": "stream",
     "text": [
      "Start working with:  abbv\n"
     ]
    },
    {
     "name": "stderr",
     "output_type": "stream",
     "text": [
      "\r",
      "  1%|▌                                                                                 | 4/560 [00:08<19:55,  2.15s/it]"
     ]
    },
    {
     "name": "stdout",
     "output_type": "stream",
     "text": [
      "Start working with:  abc\n"
     ]
    },
    {
     "name": "stderr",
     "output_type": "stream",
     "text": [
      "\r",
      "  1%|▋                                                                                 | 5/560 [00:10<18:33,  2.01s/it]"
     ]
    },
    {
     "name": "stdout",
     "output_type": "stream",
     "text": [
      "Start working with:  abt\n"
     ]
    },
    {
     "name": "stderr",
     "output_type": "stream",
     "text": [
      "\r",
      "  1%|▉                                                                                 | 6/560 [00:12<18:48,  2.04s/it]"
     ]
    },
    {
     "name": "stdout",
     "output_type": "stream",
     "text": [
      "Start working with:  ace\n"
     ]
    },
    {
     "name": "stderr",
     "output_type": "stream",
     "text": [
      "\r",
      "  1%|█                                                                                 | 7/560 [00:13<17:18,  1.88s/it]"
     ]
    },
    {
     "name": "stdout",
     "output_type": "stream",
     "text": [
      "Start working with:  aci\n"
     ]
    },
    {
     "name": "stderr",
     "output_type": "stream",
     "text": [
      "\r",
      "  1%|█▏                                                                                | 8/560 [00:14<16:50,  1.83s/it]"
     ]
    },
    {
     "name": "stdout",
     "output_type": "stream",
     "text": [
      "Start working with:  acn\n"
     ]
    },
    {
     "name": "stderr",
     "output_type": "stream",
     "text": [
      "\r",
      "  2%|█▎                                                                                | 9/560 [00:16<17:16,  1.88s/it]"
     ]
    },
    {
     "name": "stdout",
     "output_type": "stream",
     "text": [
      "Start working with:  act\n"
     ]
    },
    {
     "name": "stderr",
     "output_type": "stream",
     "text": [
      "\r",
      "  2%|█▍                                                                               | 10/560 [00:17<15:36,  1.70s/it]"
     ]
    },
    {
     "name": "stdout",
     "output_type": "stream",
     "text": [
      "DF Shape -  (192, 38)\n",
      "Getting Stock Price Data...\n"
     ]
    },
    {
     "name": "stderr",
     "output_type": "stream",
     "text": [
      "\n",
      "  0%|                                                                                           | 0/24 [00:00<?, ?it/s]"
     ]
    },
    {
     "name": "stdout",
     "output_type": "stream",
     "text": [
      "Getting Original Date\n",
      "Getting quots \n",
      "Ticker:  abt \n",
      "Date:  2004-09-20\n",
      "Quote Loaded\n"
     ]
    },
    {
     "name": "stderr",
     "output_type": "stream",
     "text": [
      "\n",
      "  4%|███▍                                                                               | 1/24 [00:00<00:14,  1.60it/s]"
     ]
    },
    {
     "name": "stdout",
     "output_type": "stream",
     "text": [
      "Getting Original Date\n",
      "Pointing Date is -  5 (Day of the week)\n",
      "Checking Next Day\n",
      "Getting quots \n",
      "Ticker:  abt \n",
      "Date:  2004-10-25\n",
      "Quote Loaded\n"
     ]
    },
    {
     "name": "stderr",
     "output_type": "stream",
     "text": [
      "\n",
      "  8%|██████▉                                                                            | 2/24 [00:01<00:11,  1.95it/s]"
     ]
    },
    {
     "name": "stdout",
     "output_type": "stream",
     "text": [
      "Getting Original Date\n",
      "Getting quots \n",
      "Ticker:  abt \n",
      "Date:  2005-01-25\n",
      "Quote Loaded\n"
     ]
    },
    {
     "name": "stderr",
     "output_type": "stream",
     "text": [
      "\n",
      " 12%|██████████▍                                                                        | 3/24 [00:01<00:09,  2.17it/s]"
     ]
    },
    {
     "name": "stdout",
     "output_type": "stream",
     "text": [
      "Getting Original Date\n",
      "Getting quots \n",
      "Ticker:  abt \n",
      "Date:  2005-02-28\n",
      "Quote Loaded\n"
     ]
    },
    {
     "name": "stderr",
     "output_type": "stream",
     "text": [
      "\n",
      " 17%|█████████████▊                                                                     | 4/24 [00:01<00:09,  2.09it/s]"
     ]
    },
    {
     "name": "stdout",
     "output_type": "stream",
     "text": [
      "Getting Original Date\n",
      "Pointing Date is -  5 (Day of the week)\n",
      "Checking Next Day\n",
      "Getting quots \n",
      "Ticker:  abt \n",
      "Date:  2006-06-19\n",
      "Quote Loaded\n"
     ]
    },
    {
     "name": "stderr",
     "output_type": "stream",
     "text": [
      "\n",
      " 21%|█████████████████▎                                                                 | 5/24 [00:02<00:08,  2.21it/s]"
     ]
    },
    {
     "name": "stdout",
     "output_type": "stream",
     "text": [
      "Getting Original Date\n",
      "Getting quots \n",
      "Ticker:  abt \n",
      "Date:  2006-07-18\n",
      "Quote Loaded\n"
     ]
    },
    {
     "name": "stderr",
     "output_type": "stream",
     "text": [
      "\n",
      " 25%|████████████████████▊                                                              | 6/24 [00:02<00:07,  2.29it/s]"
     ]
    },
    {
     "name": "stdout",
     "output_type": "stream",
     "text": [
      "Getting Original Date\n",
      "Pointing Date is -  5 (Day of the week)\n",
      "Checking Next Day\n",
      "Cannot Get data from Quandl. Skipping this one\n",
      "Getting Original Date\n",
      "Getting quots \n",
      "Ticker:  abt \n",
      "Date:  2007-03-23\n",
      "Quote Loaded\n"
     ]
    },
    {
     "name": "stderr",
     "output_type": "stream",
     "text": [
      "\n",
      " 33%|███████████████████████████▋                                                       | 8/24 [00:03<00:06,  2.62it/s]"
     ]
    },
    {
     "name": "stdout",
     "output_type": "stream",
     "text": [
      "Getting Original Date\n",
      "Getting quots \n",
      "Ticker:  abt \n",
      "Date:  2007-04-10\n",
      "Quote Loaded\n"
     ]
    },
    {
     "name": "stderr",
     "output_type": "stream",
     "text": [
      "\n",
      " 38%|███████████████████████████████▏                                                   | 9/24 [00:03<00:05,  2.61it/s]"
     ]
    },
    {
     "name": "stdout",
     "output_type": "stream",
     "text": [
      "Getting Original Date\n",
      "Pointing Date is -  6 (Day of the week)\n",
      "Checking Next Day\n",
      "Getting quots \n",
      "Ticker:  abt \n",
      "Date:  2007-06-04\n",
      "Quote Loaded\n"
     ]
    },
    {
     "name": "stderr",
     "output_type": "stream",
     "text": [
      "\n",
      " 42%|██████████████████████████████████▏                                               | 10/24 [00:03<00:05,  2.61it/s]"
     ]
    },
    {
     "name": "stdout",
     "output_type": "stream",
     "text": [
      "Getting Original Date\n",
      "Cannot Get data from Quandl. Skipping this one\n",
      "Getting Original Date\n",
      "Getting quots \n",
      "Ticker:  abt \n",
      "Date:  2008-01-23\n",
      "Quote Loaded\n"
     ]
    },
    {
     "name": "stderr",
     "output_type": "stream",
     "text": [
      "\n",
      " 50%|█████████████████████████████████████████                                         | 12/24 [00:04<00:04,  2.84it/s]"
     ]
    },
    {
     "name": "stdout",
     "output_type": "stream",
     "text": [
      "Getting Original Date\n",
      "Getting quots \n",
      "Ticker:  abt \n",
      "Date:  2008-04-28\n",
      "Quote Loaded\n"
     ]
    },
    {
     "name": "stderr",
     "output_type": "stream",
     "text": [
      "\n",
      " 54%|████████████████████████████████████████████▍                                     | 13/24 [00:04<00:03,  2.83it/s]"
     ]
    },
    {
     "name": "stdout",
     "output_type": "stream",
     "text": [
      "Getting Original Date\n",
      "Getting quots \n",
      "Ticker:  abt \n",
      "Date:  2008-10-23\n",
      "Quote Loaded\n"
     ]
    },
    {
     "name": "stderr",
     "output_type": "stream",
     "text": [
      "\n",
      " 58%|███████████████████████████████████████████████▊                                  | 14/24 [00:04<00:03,  2.83it/s]"
     ]
    },
    {
     "name": "stdout",
     "output_type": "stream",
     "text": [
      "Getting Original Date\n",
      "Cannot Get data from Quandl. Skipping this one\n",
      "Getting Original Date\n",
      "Getting quots \n",
      "Ticker:  abt \n",
      "Date:  2011-08-05\n",
      "Quote Loaded\n"
     ]
    },
    {
     "name": "stderr",
     "output_type": "stream",
     "text": [
      "\n",
      " 67%|██████████████████████████████████████████████████████▋                           | 16/24 [00:05<00:02,  2.95it/s]"
     ]
    },
    {
     "name": "stdout",
     "output_type": "stream",
     "text": [
      "Getting Original Date\n",
      "Getting quots \n",
      "Ticker:  abt \n",
      "Date:  2011-09-02\n",
      "Quote Loaded\n"
     ]
    },
    {
     "name": "stderr",
     "output_type": "stream",
     "text": [
      "\n",
      " 71%|██████████████████████████████████████████████████████████                        | 17/24 [00:05<00:02,  2.86it/s]"
     ]
    },
    {
     "name": "stdout",
     "output_type": "stream",
     "text": [
      "Getting Original Date\n",
      "Getting quots \n",
      "Ticker:  abt \n",
      "Date:  2011-11-02\n",
      "Quote Loaded\n"
     ]
    },
    {
     "name": "stderr",
     "output_type": "stream",
     "text": [
      "\n",
      " 75%|█████████████████████████████████████████████████████████████▌                    | 18/24 [00:06<00:02,  2.79it/s]"
     ]
    },
    {
     "name": "stdout",
     "output_type": "stream",
     "text": [
      "Getting Original Date\n",
      "Pointing Date is -  6 (Day of the week)\n",
      "Checking Next Day\n",
      "Getting quots \n",
      "Ticker:  abt \n",
      "Date:  2012-01-03\n",
      "Quote Loaded\n"
     ]
    },
    {
     "name": "stderr",
     "output_type": "stream",
     "text": [
      "\n",
      " 79%|████████████████████████████████████████████████████████████████▉                 | 19/24 [00:07<00:01,  2.69it/s]"
     ]
    },
    {
     "name": "stdout",
     "output_type": "stream",
     "text": [
      "Getting Original Date\n",
      "Getting quots \n",
      "Ticker:  abt \n",
      "Date:  2012-03-02\n",
      "Quote Loaded\n"
     ]
    },
    {
     "name": "stderr",
     "output_type": "stream",
     "text": [
      "\n",
      " 83%|████████████████████████████████████████████████████████████████████▎             | 20/24 [00:07<00:01,  2.64it/s]"
     ]
    },
    {
     "name": "stdout",
     "output_type": "stream",
     "text": [
      "Getting Original Date\n",
      "Getting quots \n",
      "Ticker:  abt \n",
      "Date:  2012-03-30\n",
      "Quote Loaded\n"
     ]
    },
    {
     "name": "stderr",
     "output_type": "stream",
     "text": [
      "\n",
      " 88%|███████████████████████████████████████████████████████████████████████▊          | 21/24 [00:07<00:01,  2.63it/s]"
     ]
    },
    {
     "name": "stdout",
     "output_type": "stream",
     "text": [
      "Getting Original Date\n",
      "Cannot Get data from Quandl. Skipping this one\n",
      "Getting Original Date\n",
      "Getting quots \n",
      "Ticker:  abt \n",
      "Date:  2013-05-08\n",
      "Quote Loaded\n"
     ]
    },
    {
     "name": "stderr",
     "output_type": "stream",
     "text": [
      "\n",
      " 96%|██████████████████████████████████████████████████████████████████████████████▌   | 23/24 [00:08<00:00,  2.75it/s]"
     ]
    },
    {
     "name": "stdout",
     "output_type": "stream",
     "text": [
      "Getting Original Date\n",
      "Pointing Date is -  6 (Day of the week)\n",
      "Checking Next Day\n",
      "Getting quots \n",
      "Ticker:  abt \n",
      "Date:  2013-08-19\n",
      "Quote Loaded\n"
     ]
    },
    {
     "name": "stderr",
     "output_type": "stream",
     "text": [
      "\n",
      "100%|██████████████████████████████████████████████████████████████████████████████████| 24/24 [00:08<00:00,  2.75it/s]\n"
     ]
    },
    {
     "name": "stdout",
     "output_type": "stream",
     "text": [
      "Will save to file:  c:\\data\\finml\\PriceVsSNP500_abt.csv\n",
      "Getting Stock Price Data...\n"
     ]
    },
    {
     "name": "stderr",
     "output_type": "stream",
     "text": [
      "\n",
      "  0%|                                                                                           | 0/18 [00:00<?, ?it/s]"
     ]
    },
    {
     "name": "stdout",
     "output_type": "stream",
     "text": [
      "Getting Original Date\n",
      "Getting quots \n",
      "Ticker:  a \n",
      "Date:  2004-01-30\n",
      "Quote Loaded\n"
     ]
    },
    {
     "name": "stderr",
     "output_type": "stream",
     "text": [
      "\n",
      "  6%|████▌                                                                              | 1/18 [00:00<00:08,  2.05it/s]"
     ]
    },
    {
     "name": "stdout",
     "output_type": "stream",
     "text": [
      "Getting Original Date\n",
      "Getting quots \n",
      "Ticker:  a \n",
      "Date:  2004-04-13\n",
      "Quote Loaded\n"
     ]
    },
    {
     "name": "stderr",
     "output_type": "stream",
     "text": [
      "\n",
      " 11%|█████████▏                                                                         | 2/18 [00:01<00:08,  1.99it/s]"
     ]
    },
    {
     "name": "stdout",
     "output_type": "stream",
     "text": [
      "Getting Original Date\n",
      "Getting quots \n",
      "Ticker:  a \n",
      "Date:  2004-12-13\n",
      "Quote Loaded\n"
     ]
    },
    {
     "name": "stderr",
     "output_type": "stream",
     "text": [
      "\n",
      " 17%|█████████████▊                                                                     | 3/18 [00:01<00:08,  1.86it/s]"
     ]
    },
    {
     "name": "stdout",
     "output_type": "stream",
     "text": [
      "Getting Original Date\n",
      "Pointing Date is -  5 (Day of the week)\n",
      "Checking Next Day\n",
      "Pointing Date is -  6 (Day of the week)\n",
      "Checking Next Day\n",
      "Getting quots \n",
      "Ticker:  a \n",
      "Date:  2005-01-25\n",
      "Quote Loaded\n"
     ]
    },
    {
     "name": "stderr",
     "output_type": "stream",
     "text": [
      "\n",
      " 22%|██████████████████▍                                                                | 4/18 [00:02<00:07,  1.79it/s]"
     ]
    },
    {
     "name": "stdout",
     "output_type": "stream",
     "text": [
      "Getting Original Date\n",
      "Getting quots \n",
      "Ticker:  a \n",
      "Date:  2006-01-09\n",
      "Quote Loaded\n"
     ]
    },
    {
     "name": "stderr",
     "output_type": "stream",
     "text": [
      "\n",
      " 28%|███████████████████████                                                            | 5/18 [00:02<00:07,  1.82it/s]"
     ]
    },
    {
     "name": "stdout",
     "output_type": "stream",
     "text": [
      "Getting Original Date\n",
      "Getting quots \n",
      "Ticker:  a \n",
      "Date:  2006-06-21\n",
      "Quote Loaded\n"
     ]
    },
    {
     "name": "stderr",
     "output_type": "stream",
     "text": [
      "\n",
      " 33%|███████████████████████████▋                                                       | 6/18 [00:03<00:06,  1.92it/s]"
     ]
    },
    {
     "name": "stdout",
     "output_type": "stream",
     "text": [
      "Getting Original Date\n",
      "Pointing Date is -  5 (Day of the week)\n",
      "Checking Next Day\n",
      "Pointing Date is -  6 (Day of the week)\n",
      "Checking Next Day\n",
      "Getting quots \n",
      "Ticker:  a \n",
      "Date:  2006-08-22\n",
      "Quote Loaded\n"
     ]
    },
    {
     "name": "stderr",
     "output_type": "stream",
     "text": [
      "\n",
      " 39%|████████████████████████████████▎                                                  | 7/18 [00:03<00:05,  1.94it/s]"
     ]
    },
    {
     "name": "stdout",
     "output_type": "stream",
     "text": [
      "Getting Original Date\n",
      "Getting quots \n",
      "Ticker:  a \n",
      "Date:  2007-02-20\n",
      "Quote Loaded\n"
     ]
    },
    {
     "name": "stderr",
     "output_type": "stream",
     "text": [
      "\n",
      " 44%|████████████████████████████████████▉                                              | 8/18 [00:03<00:04,  2.01it/s]"
     ]
    },
    {
     "name": "stdout",
     "output_type": "stream",
     "text": [
      "Getting Original Date\n",
      "Getting quots \n",
      "Ticker:  a \n",
      "Date:  2007-04-12\n",
      "Quote Loaded\n"
     ]
    },
    {
     "name": "stderr",
     "output_type": "stream",
     "text": [
      "\n",
      " 50%|█████████████████████████████████████████▌                                         | 9/18 [00:04<00:04,  2.04it/s]"
     ]
    },
    {
     "name": "stdout",
     "output_type": "stream",
     "text": [
      "Getting Original Date\n",
      "Getting quots \n",
      "Ticker:  a \n",
      "Date:  2008-01-23\n",
      "Quote Loaded\n"
     ]
    },
    {
     "name": "stderr",
     "output_type": "stream",
     "text": [
      "\n",
      " 56%|█████████████████████████████████████████████▌                                    | 10/18 [00:04<00:03,  2.04it/s]"
     ]
    },
    {
     "name": "stdout",
     "output_type": "stream",
     "text": [
      "Getting Original Date\n",
      "Getting quots \n",
      "Ticker:  a \n",
      "Date:  2008-02-14\n",
      "Quote Loaded\n"
     ]
    },
    {
     "name": "stderr",
     "output_type": "stream",
     "text": [
      "\n",
      " 61%|██████████████████████████████████████████████████                                | 11/18 [00:05<00:03,  2.06it/s]"
     ]
    },
    {
     "name": "stdout",
     "output_type": "stream",
     "text": [
      "Getting Original Date\n",
      "Pointing Date is -  5 (Day of the week)\n",
      "Checking Next Day\n",
      "Pointing Date is -  6 (Day of the week)\n",
      "Checking Next Day\n",
      "Getting quots \n",
      "Ticker:  a \n",
      "Date:  2008-04-29\n",
      "Quote Loaded\n"
     ]
    },
    {
     "name": "stderr",
     "output_type": "stream",
     "text": [
      "\n",
      " 67%|██████████████████████████████████████████████████████▋                           | 12/18 [00:05<00:02,  2.09it/s]"
     ]
    },
    {
     "name": "stdout",
     "output_type": "stream",
     "text": [
      "Getting Original Date\n",
      "Pointing Date is -  5 (Day of the week)\n",
      "Checking Next Day\n",
      "Getting quots \n",
      "Ticker:  a \n",
      "Date:  2008-12-08\n",
      "Quote Loaded\n"
     ]
    },
    {
     "name": "stderr",
     "output_type": "stream",
     "text": [
      "\n",
      " 72%|███████████████████████████████████████████████████████████▏                      | 13/18 [00:06<00:02,  2.08it/s]"
     ]
    },
    {
     "name": "stdout",
     "output_type": "stream",
     "text": [
      "Getting Original Date\n",
      "Pointing Date is -  6 (Day of the week)\n",
      "Checking Next Day\n",
      "Getting quots \n",
      "Ticker:  a \n",
      "Date:  2009-08-03\n",
      "Quote Loaded\n"
     ]
    },
    {
     "name": "stderr",
     "output_type": "stream",
     "text": [
      "\n",
      " 78%|███████████████████████████████████████████████████████████████▊                  | 14/18 [00:07<00:02,  1.99it/s]"
     ]
    },
    {
     "name": "stdout",
     "output_type": "stream",
     "text": [
      "Getting Original Date\n",
      "Getting quots \n",
      "Ticker:  a \n",
      "Date:  2011-08-02\n",
      "Quote Loaded\n"
     ]
    },
    {
     "name": "stderr",
     "output_type": "stream",
     "text": [
      "\n",
      " 83%|████████████████████████████████████████████████████████████████████▎             | 15/18 [00:07<00:01,  2.03it/s]"
     ]
    },
    {
     "name": "stdout",
     "output_type": "stream",
     "text": [
      "Getting Original Date\n",
      "Getting quots \n",
      "Ticker:  a \n",
      "Date:  2011-11-08\n",
      "Quote Loaded\n"
     ]
    },
    {
     "name": "stderr",
     "output_type": "stream",
     "text": [
      "\n",
      " 89%|████████████████████████████████████████████████████████████████████████▉         | 16/18 [00:07<00:00,  2.07it/s]"
     ]
    },
    {
     "name": "stdout",
     "output_type": "stream",
     "text": [
      "Getting Original Date\n",
      "Getting quots \n",
      "Ticker:  a \n",
      "Date:  2013-05-14\n",
      "Quote Loaded\n"
     ]
    },
    {
     "name": "stderr",
     "output_type": "stream",
     "text": [
      "\n",
      " 94%|█████████████████████████████████████████████████████████████████████████████▍    | 17/18 [00:08<00:00,  2.05it/s]"
     ]
    },
    {
     "name": "stdout",
     "output_type": "stream",
     "text": [
      "Getting Original Date\n",
      "Getting quots \n",
      "Ticker:  a \n",
      "Date:  2013-09-06\n",
      "Quote Loaded\n"
     ]
    },
    {
     "name": "stderr",
     "output_type": "stream",
     "text": [
      "\n",
      "100%|██████████████████████████████████████████████████████████████████████████████████| 18/18 [00:08<00:00,  2.09it/s]\n"
     ]
    },
    {
     "name": "stdout",
     "output_type": "stream",
     "text": [
      "Will save to file:  c:\\data\\finml\\PriceVsSNP500_a.csv\n",
      "Getting Stock Price Data...\n"
     ]
    },
    {
     "name": "stderr",
     "output_type": "stream",
     "text": [
      "\n",
      "  0%|                                                                                           | 0/28 [00:00<?, ?it/s]"
     ]
    },
    {
     "name": "stdout",
     "output_type": "stream",
     "text": [
      "Getting Original Date\n",
      "Pointing Date is -  5 (Day of the week)\n",
      "Checking Next Day\n",
      "Pointing Date is -  6 (Day of the week)\n",
      "Checking Next Day\n",
      "Getting quots \n",
      "Ticker:  acn \n",
      "Date:  2003-11-11\n",
      "Quote Loaded\n"
     ]
    },
    {
     "name": "stderr",
     "output_type": "stream",
     "text": [
      "\n",
      "  4%|██▉                                                                                | 1/28 [00:00<00:13,  1.99it/s]"
     ]
    },
    {
     "name": "stdout",
     "output_type": "stream",
     "text": [
      "Getting Original Date\n",
      "Pointing Date is -  6 (Day of the week)\n",
      "Checking Next Day\n",
      "Getting quots \n",
      "Ticker:  acn \n",
      "Date:  2004-11-30\n",
      "Quote Loaded\n"
     ]
    },
    {
     "name": "stderr",
     "output_type": "stream",
     "text": [
      "\n",
      "  7%|█████▉                                                                             | 2/28 [00:01<00:13,  1.97it/s]"
     ]
    },
    {
     "name": "stdout",
     "output_type": "stream",
     "text": [
      "Getting Original Date\n",
      "Getting quots \n",
      "Ticker:  acn \n",
      "Date:  2004-12-10\n",
      "Quote Loaded\n"
     ]
    },
    {
     "name": "stderr",
     "output_type": "stream",
     "text": [
      "\n",
      " 11%|████████▉                                                                          | 3/28 [00:01<00:11,  2.13it/s]"
     ]
    },
    {
     "name": "stdout",
     "output_type": "stream",
     "text": [
      "Getting Original Date\n",
      "Getting quots \n",
      "Ticker:  acn \n",
      "Date:  2005-02-10\n",
      "Quote Loaded\n"
     ]
    },
    {
     "name": "stderr",
     "output_type": "stream",
     "text": [
      "\n",
      " 14%|███████████▊                                                                       | 4/28 [00:01<00:10,  2.23it/s]"
     ]
    },
    {
     "name": "stdout",
     "output_type": "stream",
     "text": [
      "Getting Original Date\n",
      "Getting quots \n",
      "Ticker:  acn \n",
      "Date:  2005-04-04\n",
      "Quote Loaded\n"
     ]
    },
    {
     "name": "stderr",
     "output_type": "stream",
     "text": [
      "\n",
      " 18%|██████████████▊                                                                    | 5/28 [00:02<00:10,  2.23it/s]"
     ]
    },
    {
     "name": "stdout",
     "output_type": "stream",
     "text": [
      "Getting Original Date\n",
      "Pointing Date is -  6 (Day of the week)\n",
      "Checking Next Day\n",
      "Cannot Get data from Quandl. Skipping this one\n",
      "Getting Original Date\n",
      "Pointing Date is -  5 (Day of the week)\n",
      "Checking Next Day\n",
      "Getting quots \n",
      "Ticker:  acn \n",
      "Date:  2006-06-05\n",
      "Quote Loaded\n"
     ]
    },
    {
     "name": "stderr",
     "output_type": "stream",
     "text": [
      "\n",
      " 25%|████████████████████▊                                                              | 7/28 [00:02<00:08,  2.54it/s]"
     ]
    },
    {
     "name": "stdout",
     "output_type": "stream",
     "text": [
      "Getting Original Date\n",
      "Getting quots \n",
      "Ticker:  acn \n",
      "Date:  2006-08-22\n",
      "Quote Loaded\n"
     ]
    },
    {
     "name": "stderr",
     "output_type": "stream",
     "text": [
      "\n",
      " 29%|███████████████████████▋                                                           | 8/28 [00:03<00:07,  2.59it/s]"
     ]
    },
    {
     "name": "stdout",
     "output_type": "stream",
     "text": [
      "Getting Original Date\n",
      "Getting quots \n",
      "Ticker:  acn \n",
      "Date:  2006-08-22\n",
      "Quote Loaded\n"
     ]
    },
    {
     "name": "stderr",
     "output_type": "stream",
     "text": [
      "\n",
      " 32%|██████████████████████████▋                                                        | 9/28 [00:03<00:07,  2.52it/s]"
     ]
    },
    {
     "name": "stdout",
     "output_type": "stream",
     "text": [
      "Getting Original Date\n",
      "Pointing Date is -  6 (Day of the week)\n",
      "Checking Next Day\n",
      "Getting quots \n",
      "Ticker:  acn \n",
      "Date:  2006-08-28\n",
      "Quote Loaded\n"
     ]
    },
    {
     "name": "stderr",
     "output_type": "stream",
     "text": [
      "\n",
      " 36%|█████████████████████████████▎                                                    | 10/28 [00:03<00:07,  2.52it/s]"
     ]
    },
    {
     "name": "stdout",
     "output_type": "stream",
     "text": [
      "Getting Original Date\n",
      "Getting quots \n",
      "Ticker:  acn \n",
      "Date:  2006-11-02\n",
      "Quote Loaded\n"
     ]
    },
    {
     "name": "stderr",
     "output_type": "stream",
     "text": [
      "\n",
      " 39%|████████████████████████████████▏                                                 | 11/28 [00:04<00:06,  2.54it/s]"
     ]
    },
    {
     "name": "stdout",
     "output_type": "stream",
     "text": [
      "Getting Original Date\n",
      "Pointing Date is -  5 (Day of the week)\n",
      "Checking Next Day\n",
      "Pointing Date is -  6 (Day of the week)\n",
      "Checking Next Day\n",
      "Getting quots \n",
      "Ticker:  acn \n",
      "Date:  2006-11-14\n",
      "Quote Loaded\n"
     ]
    },
    {
     "name": "stderr",
     "output_type": "stream",
     "text": [
      "\n",
      " 43%|███████████████████████████████████▏                                              | 12/28 [00:04<00:06,  2.50it/s]"
     ]
    },
    {
     "name": "stdout",
     "output_type": "stream",
     "text": [
      "Getting Original Date\n",
      "Pointing Date is -  6 (Day of the week)\n",
      "Checking Next Day\n",
      "Getting quots \n",
      "Ticker:  acn \n",
      "Date:  2006-12-04\n",
      "Quote Loaded\n"
     ]
    },
    {
     "name": "stderr",
     "output_type": "stream",
     "text": [
      "\n",
      " 46%|██████████████████████████████████████                                            | 13/28 [00:05<00:05,  2.53it/s]"
     ]
    },
    {
     "name": "stdout",
     "output_type": "stream",
     "text": [
      "Getting Original Date\n",
      "Getting quots \n",
      "Ticker:  acn \n",
      "Date:  2007-03-14\n",
      "Quote Loaded\n"
     ]
    },
    {
     "name": "stderr",
     "output_type": "stream",
     "text": [
      "\n",
      " 50%|█████████████████████████████████████████                                         | 14/28 [00:05<00:05,  2.49it/s]"
     ]
    },
    {
     "name": "stdout",
     "output_type": "stream",
     "text": [
      "Getting Original Date\n",
      "Pointing Date is -  5 (Day of the week)\n",
      "Checking Next Day\n",
      "Pointing Date is -  6 (Day of the week)\n",
      "Checking Next Day\n",
      "Getting quots \n",
      "Ticker:  acn \n",
      "Date:  2007-05-08\n",
      "Quote Loaded\n"
     ]
    },
    {
     "name": "stderr",
     "output_type": "stream",
     "text": [
      "\n",
      " 54%|███████████████████████████████████████████▉                                      | 15/28 [00:05<00:05,  2.50it/s]"
     ]
    },
    {
     "name": "stdout",
     "output_type": "stream",
     "text": [
      "Getting Original Date\n",
      "Getting quots \n",
      "Ticker:  acn \n",
      "Date:  2007-06-05\n",
      "Quote Loaded\n"
     ]
    },
    {
     "name": "stderr",
     "output_type": "stream",
     "text": [
      "\n",
      " 57%|██████████████████████████████████████████████▊                                   | 16/28 [00:06<00:04,  2.53it/s]"
     ]
    },
    {
     "name": "stdout",
     "output_type": "stream",
     "text": [
      "Getting Original Date\n",
      "Getting quots \n",
      "Ticker:  acn \n",
      "Date:  2007-07-06\n",
      "Quote Loaded\n"
     ]
    },
    {
     "name": "stderr",
     "output_type": "stream",
     "text": [
      "\n",
      " 61%|█████████████████████████████████████████████████▊                                | 17/28 [00:06<00:04,  2.55it/s]"
     ]
    },
    {
     "name": "stdout",
     "output_type": "stream",
     "text": [
      "Getting Original Date\n",
      "Getting quots \n",
      "Ticker:  acn \n",
      "Date:  2008-04-07\n",
      "Quote Loaded\n"
     ]
    },
    {
     "name": "stderr",
     "output_type": "stream",
     "text": [
      "\n",
      " 64%|████████████████████████████████████████████████████▋                             | 18/28 [00:06<00:03,  2.58it/s]"
     ]
    },
    {
     "name": "stdout",
     "output_type": "stream",
     "text": [
      "Getting Original Date\n",
      "Pointing Date is -  5 (Day of the week)\n",
      "Checking Next Day\n",
      "Getting quots \n",
      "Ticker:  acn \n",
      "Date:  2008-10-20\n",
      "Quote Loaded\n"
     ]
    },
    {
     "name": "stderr",
     "output_type": "stream",
     "text": [
      "\n",
      " 68%|███████████████████████████████████████████████████████▋                          | 19/28 [00:07<00:03,  2.54it/s]"
     ]
    },
    {
     "name": "stdout",
     "output_type": "stream",
     "text": [
      "Getting Original Date\n",
      "Getting quots \n",
      "Ticker:  acn \n",
      "Date:  2008-12-02\n",
      "Quote Loaded\n"
     ]
    },
    {
     "name": "stderr",
     "output_type": "stream",
     "text": [
      "\n",
      " 71%|██████████████████████████████████████████████████████████▌                       | 20/28 [00:07<00:03,  2.51it/s]"
     ]
    },
    {
     "name": "stdout",
     "output_type": "stream",
     "text": [
      "Getting Original Date\n",
      "Pointing Date is -  6 (Day of the week)\n",
      "Checking Next Day\n",
      "Getting quots \n",
      "Ticker:  acn \n",
      "Date:  2008-12-23\n",
      "Quote Loaded\n"
     ]
    },
    {
     "name": "stderr",
     "output_type": "stream",
     "text": [
      "\n",
      " 75%|█████████████████████████████████████████████████████████████▌                    | 21/28 [00:08<00:02,  2.47it/s]"
     ]
    },
    {
     "name": "stdout",
     "output_type": "stream",
     "text": [
      "Getting Original Date\n",
      "Getting quots \n",
      "Ticker:  acn \n",
      "Date:  2009-08-10\n",
      "Quote Loaded\n"
     ]
    },
    {
     "name": "stderr",
     "output_type": "stream",
     "text": [
      "\n",
      " 79%|████████████████████████████████████████████████████████████████▍                 | 22/28 [00:08<00:02,  2.44it/s]"
     ]
    },
    {
     "name": "stdout",
     "output_type": "stream",
     "text": [
      "Getting Original Date\n",
      "Getting quots \n",
      "Ticker:  acn \n",
      "Date:  2011-09-01\n",
      "Quote Loaded\n"
     ]
    },
    {
     "name": "stderr",
     "output_type": "stream",
     "text": [
      "\n",
      " 82%|███████████████████████████████████████████████████████████████████▎              | 23/28 [00:09<00:02,  2.42it/s]"
     ]
    },
    {
     "name": "stdout",
     "output_type": "stream",
     "text": [
      "Getting Original Date\n",
      "Getting quots \n",
      "Ticker:  acn \n",
      "Date:  2011-11-08\n",
      "Quote Loaded\n"
     ]
    },
    {
     "name": "stderr",
     "output_type": "stream",
     "text": [
      "\n",
      " 86%|██████████████████████████████████████████████████████████████████████▎           | 24/28 [00:10<00:01,  2.39it/s]"
     ]
    },
    {
     "name": "stdout",
     "output_type": "stream",
     "text": [
      "Getting Original Date\n",
      "Getting quots \n",
      "Ticker:  acn \n",
      "Date:  2012-02-29\n",
      "Quote Loaded\n"
     ]
    },
    {
     "name": "stderr",
     "output_type": "stream",
     "text": [
      "\n",
      " 89%|█████████████████████████████████████████████████████████████████████████▏        | 25/28 [00:10<00:01,  2.35it/s]"
     ]
    },
    {
     "name": "stdout",
     "output_type": "stream",
     "text": [
      "Getting Original Date\n",
      "Pointing Date is -  6 (Day of the week)\n",
      "Checking Next Day\n",
      "Getting quots \n",
      "Ticker:  acn \n",
      "Date:  2012-11-05\n",
      "Quote Loaded\n"
     ]
    },
    {
     "name": "stderr",
     "output_type": "stream",
     "text": [
      "\n",
      " 93%|████████████████████████████████████████████████████████████████████████████▏     | 26/28 [00:11<00:00,  2.33it/s]"
     ]
    },
    {
     "name": "stdout",
     "output_type": "stream",
     "text": [
      "Getting Original Date\n",
      "Getting quots \n",
      "Ticker:  acn \n",
      "Date:  2013-04-23\n",
      "Quote Loaded\n"
     ]
    },
    {
     "name": "stderr",
     "output_type": "stream",
     "text": [
      "\n",
      " 96%|███████████████████████████████████████████████████████████████████████████████   | 27/28 [00:11<00:00,  2.34it/s]"
     ]
    },
    {
     "name": "stdout",
     "output_type": "stream",
     "text": [
      "Getting Original Date\n",
      "Getting quots \n",
      "Ticker:  acn \n",
      "Date:  2013-05-10\n",
      "Quote Loaded\n"
     ]
    },
    {
     "name": "stderr",
     "output_type": "stream",
     "text": [
      "\n",
      "100%|██████████████████████████████████████████████████████████████████████████████████| 28/28 [00:11<00:00,  2.35it/s]\n"
     ]
    },
    {
     "name": "stdout",
     "output_type": "stream",
     "text": [
      "Will save to file:  c:\\data\\finml\\PriceVsSNP500_acn.csv\n",
      "Getting Stock Price Data...\n"
     ]
    },
    {
     "name": "stderr",
     "output_type": "stream",
     "text": [
      "\n",
      "  0%|                                                                                           | 0/44 [00:00<?, ?it/s]"
     ]
    },
    {
     "name": "stdout",
     "output_type": "stream",
     "text": [
      "Getting Original Date\n",
      "Pointing Date is -  6 (Day of the week)\n",
      "Checking Next Day\n",
      "Getting quots \n",
      "Ticker:  aapl \n",
      "Date:  2003-12-08\n",
      "Quote Loaded\n"
     ]
    },
    {
     "name": "stderr",
     "output_type": "stream",
     "text": [
      "\n",
      "  2%|█▉                                                                                 | 1/44 [00:00<00:20,  2.10it/s]"
     ]
    },
    {
     "name": "stdout",
     "output_type": "stream",
     "text": [
      "Getting Original Date\n",
      "Getting quots \n",
      "Ticker:  aapl \n",
      "Date:  2004-02-03\n",
      "Quote Loaded\n"
     ]
    },
    {
     "name": "stderr",
     "output_type": "stream",
     "text": [
      "\n",
      "  5%|███▊                                                                               | 2/44 [00:00<00:18,  2.21it/s]"
     ]
    },
    {
     "name": "stdout",
     "output_type": "stream",
     "text": [
      "Getting Original Date\n",
      "Getting quots \n",
      "Ticker:  aapl \n",
      "Date:  2004-06-03\n",
      "Quote Loaded\n"
     ]
    },
    {
     "name": "stderr",
     "output_type": "stream",
     "text": [
      "\n",
      "  7%|█████▋                                                                             | 3/44 [00:01<00:17,  2.35it/s]"
     ]
    },
    {
     "name": "stdout",
     "output_type": "stream",
     "text": [
      "Getting Original Date\n",
      "Getting quots \n",
      "Ticker:  aapl \n",
      "Date:  2004-08-10\n",
      "Quote Loaded\n"
     ]
    },
    {
     "name": "stderr",
     "output_type": "stream",
     "text": [
      "\n",
      "  9%|███████▌                                                                           | 4/44 [00:01<00:17,  2.33it/s]"
     ]
    },
    {
     "name": "stdout",
     "output_type": "stream",
     "text": [
      "Getting Original Date\n",
      "Getting quots \n",
      "Ticker:  aapl \n",
      "Date:  2004-10-12\n",
      "Quote Loaded\n"
     ]
    },
    {
     "name": "stderr",
     "output_type": "stream",
     "text": [
      "\n",
      " 11%|█████████▍                                                                         | 5/44 [00:02<00:16,  2.35it/s]"
     ]
    },
    {
     "name": "stdout",
     "output_type": "stream",
     "text": [
      "Getting Original Date\n",
      "Pointing Date is -  5 (Day of the week)\n",
      "Checking Next Day\n",
      "Getting quots \n",
      "Ticker:  aapl \n",
      "Date:  2004-12-06\n",
      "Quote Loaded\n"
     ]
    },
    {
     "name": "stderr",
     "output_type": "stream",
     "text": [
      "\n",
      " 14%|███████████▎                                                                       | 6/44 [00:02<00:16,  2.27it/s]"
     ]
    },
    {
     "name": "stdout",
     "output_type": "stream",
     "text": [
      "Getting Original Date\n",
      "Getting quots \n",
      "Ticker:  aapl \n",
      "Date:  2005-01-26\n",
      "Quote Loaded\n"
     ]
    },
    {
     "name": "stderr",
     "output_type": "stream",
     "text": [
      "\n",
      " 16%|█████████████▏                                                                     | 7/44 [00:03<00:15,  2.32it/s]"
     ]
    },
    {
     "name": "stdout",
     "output_type": "stream",
     "text": [
      "Getting Original Date\n",
      "Getting quots \n",
      "Ticker:  aapl \n",
      "Date:  2005-02-04\n",
      "Quote Loaded\n"
     ]
    },
    {
     "name": "stderr",
     "output_type": "stream",
     "text": [
      "\n",
      " 18%|███████████████                                                                    | 8/44 [00:03<00:16,  2.25it/s]"
     ]
    },
    {
     "name": "stdout",
     "output_type": "stream",
     "text": [
      "Getting Original Date\n",
      "Getting quots \n",
      "Ticker:  aapl \n",
      "Date:  2005-03-01\n",
      "Quote Loaded\n"
     ]
    },
    {
     "name": "stderr",
     "output_type": "stream",
     "text": [
      "\n",
      " 20%|████████████████▉                                                                  | 9/44 [00:04<00:15,  2.21it/s]"
     ]
    },
    {
     "name": "stdout",
     "output_type": "stream",
     "text": [
      "Getting Original Date\n",
      "Pointing Date is -  5 (Day of the week)\n",
      "Checking Next Day\n",
      "Pointing Date is -  6 (Day of the week)\n",
      "Checking Next Day\n",
      "Getting quots \n",
      "Ticker:  aapl \n",
      "Date:  2005-12-20\n",
      "Quote Loaded\n"
     ]
    },
    {
     "name": "stderr",
     "output_type": "stream",
     "text": [
      "\n",
      " 23%|██████████████████▋                                                               | 10/44 [00:04<00:15,  2.25it/s]"
     ]
    },
    {
     "name": "stdout",
     "output_type": "stream",
     "text": [
      "Getting Original Date\n",
      "Getting quots \n",
      "Ticker:  aapl \n",
      "Date:  2006-01-25\n",
      "Quote Loaded\n"
     ]
    },
    {
     "name": "stderr",
     "output_type": "stream",
     "text": [
      "\n",
      " 25%|████████████████████▌                                                             | 11/44 [00:04<00:14,  2.25it/s]"
     ]
    },
    {
     "name": "stdout",
     "output_type": "stream",
     "text": [
      "Getting Original Date\n",
      "Getting quots \n",
      "Ticker:  aapl \n",
      "Date:  2006-02-03\n",
      "Quote Loaded\n"
     ]
    },
    {
     "name": "stderr",
     "output_type": "stream",
     "text": [
      "\n",
      " 27%|██████████████████████▎                                                           | 12/44 [00:05<00:14,  2.27it/s]"
     ]
    },
    {
     "name": "stdout",
     "output_type": "stream",
     "text": [
      "Getting Original Date\n",
      "Getting quots \n",
      "Ticker:  aapl \n",
      "Date:  2006-02-07\n",
      "Quote Loaded\n"
     ]
    },
    {
     "name": "stderr",
     "output_type": "stream",
     "text": [
      "\n",
      " 30%|████████████████████████▏                                                         | 13/44 [00:05<00:13,  2.28it/s]"
     ]
    },
    {
     "name": "stdout",
     "output_type": "stream",
     "text": [
      "Getting Original Date\n",
      "Getting quots \n",
      "Ticker:  aapl \n",
      "Date:  2006-02-17\n",
      "Quote Loaded\n"
     ]
    },
    {
     "name": "stderr",
     "output_type": "stream",
     "text": [
      "\n",
      " 32%|██████████████████████████                                                        | 14/44 [00:06<00:13,  2.25it/s]"
     ]
    },
    {
     "name": "stdout",
     "output_type": "stream",
     "text": [
      "Getting Original Date\n",
      "Pointing Date is -  5 (Day of the week)\n",
      "Checking Next Day\n",
      "Cannot Get data from Quandl. Skipping this one\n",
      "Getting Original Date\n",
      "Cannot Get data from Quandl. Skipping this one\n",
      "Getting Original Date\n",
      "Getting quots \n",
      "Ticker:  aapl \n",
      "Date:  2008-01-23\n",
      "Quote Loaded\n"
     ]
    },
    {
     "name": "stderr",
     "output_type": "stream",
     "text": [
      "\n",
      " 39%|███████████████████████████████▋                                                  | 17/44 [00:06<00:10,  2.55it/s]"
     ]
    },
    {
     "name": "stdout",
     "output_type": "stream",
     "text": [
      "Getting Original Date\n",
      "Getting quots \n",
      "Ticker:  aapl \n",
      "Date:  2008-10-27\n",
      "Quote Loaded\n"
     ]
    },
    {
     "name": "stderr",
     "output_type": "stream",
     "text": [
      "\n",
      " 41%|█████████████████████████████████▌                                                | 18/44 [00:06<00:10,  2.58it/s]"
     ]
    },
    {
     "name": "stdout",
     "output_type": "stream",
     "text": [
      "Getting Original Date\n",
      "Getting quots \n",
      "Ticker:  aapl \n",
      "Date:  2008-10-29\n",
      "Quote Loaded\n"
     ]
    },
    {
     "name": "stderr",
     "output_type": "stream",
     "text": [
      "\n",
      " 43%|███████████████████████████████████▍                                              | 19/44 [00:07<00:09,  2.59it/s]"
     ]
    },
    {
     "name": "stdout",
     "output_type": "stream",
     "text": [
      "Getting Original Date\n",
      "Getting quots \n",
      "Ticker:  aapl \n",
      "Date:  2008-10-31\n",
      "Quote Loaded\n"
     ]
    },
    {
     "name": "stderr",
     "output_type": "stream",
     "text": [
      "\n",
      " 45%|█████████████████████████████████████▎                                            | 20/44 [00:07<00:09,  2.59it/s]"
     ]
    },
    {
     "name": "stdout",
     "output_type": "stream",
     "text": [
      "Getting Original Date\n",
      "Getting quots \n",
      "Ticker:  aapl \n",
      "Date:  2008-12-03\n",
      "Quote Loaded\n"
     ]
    },
    {
     "name": "stderr",
     "output_type": "stream",
     "text": [
      "\n",
      " 48%|███████████████████████████████████████▏                                          | 21/44 [00:08<00:08,  2.57it/s]"
     ]
    },
    {
     "name": "stdout",
     "output_type": "stream",
     "text": [
      "Getting Original Date\n",
      "Pointing Date is -  6 (Day of the week)\n",
      "Checking Next Day\n",
      "Getting quots \n",
      "Ticker:  aapl \n",
      "Date:  2008-12-09\n",
      "Quote Loaded\n"
     ]
    },
    {
     "name": "stderr",
     "output_type": "stream",
     "text": [
      "\n",
      " 50%|█████████████████████████████████████████                                         | 22/44 [00:08<00:08,  2.53it/s]"
     ]
    },
    {
     "name": "stdout",
     "output_type": "stream",
     "text": [
      "Getting Original Date\n",
      "Getting quots \n",
      "Ticker:  aapl \n",
      "Date:  2008-12-16\n",
      "Quote Loaded\n"
     ]
    },
    {
     "name": "stderr",
     "output_type": "stream",
     "text": [
      "\n",
      " 52%|██████████████████████████████████████████▊                                       | 23/44 [00:09<00:08,  2.54it/s]"
     ]
    },
    {
     "name": "stdout",
     "output_type": "stream",
     "text": [
      "Getting Original Date\n",
      "Getting quots \n",
      "Ticker:  aapl \n",
      "Date:  2008-12-17\n",
      "Quote Loaded\n"
     ]
    },
    {
     "name": "stderr",
     "output_type": "stream",
     "text": [
      "\n",
      " 55%|████████████████████████████████████████████▋                                     | 24/44 [00:10<00:08,  2.25it/s]"
     ]
    },
    {
     "name": "stdout",
     "output_type": "stream",
     "text": [
      "Getting Original Date\n",
      "Cannot Get data from Quandl. Skipping this one\n",
      "Getting Original Date\n",
      "Getting quots \n",
      "Ticker:  aapl \n",
      "Date:  2009-01-12\n",
      "Quote Loaded\n"
     ]
    },
    {
     "name": "stderr",
     "output_type": "stream",
     "text": [
      "\n",
      " 59%|████████████████████████████████████████████████▍                                 | 26/44 [00:11<00:07,  2.33it/s]"
     ]
    },
    {
     "name": "stdout",
     "output_type": "stream",
     "text": [
      "Getting Original Date\n",
      "Getting quots \n",
      "Ticker:  aapl \n",
      "Date:  2009-10-22\n",
      "Quote Loaded\n"
     ]
    },
    {
     "name": "stderr",
     "output_type": "stream",
     "text": [
      "\n",
      " 61%|██████████████████████████████████████████████████▎                               | 27/44 [00:11<00:07,  2.32it/s]"
     ]
    },
    {
     "name": "stdout",
     "output_type": "stream",
     "text": [
      "Getting Original Date\n",
      "Getting quots \n",
      "Ticker:  aapl \n",
      "Date:  2009-11-12\n",
      "Quote Loaded\n"
     ]
    },
    {
     "name": "stderr",
     "output_type": "stream",
     "text": [
      "\n",
      " 64%|████████████████████████████████████████████████████▏                             | 28/44 [00:12<00:06,  2.30it/s]"
     ]
    },
    {
     "name": "stdout",
     "output_type": "stream",
     "text": [
      "Getting Original Date\n",
      "Pointing Date is -  6 (Day of the week)\n",
      "Checking Next Day\n",
      "Getting quots \n",
      "Ticker:  aapl \n",
      "Date:  2011-05-24\n",
      "Quote Loaded\n"
     ]
    },
    {
     "name": "stderr",
     "output_type": "stream",
     "text": [
      "\n",
      " 66%|██████████████████████████████████████████████████████                            | 29/44 [00:12<00:06,  2.30it/s]"
     ]
    },
    {
     "name": "stdout",
     "output_type": "stream",
     "text": [
      "Getting Original Date\n",
      "Getting quots \n",
      "Ticker:  aapl \n",
      "Date:  2011-09-02\n",
      "Quote Loaded\n"
     ]
    },
    {
     "name": "stderr",
     "output_type": "stream",
     "text": [
      "\n",
      " 68%|███████████████████████████████████████████████████████▉                          | 30/44 [00:12<00:06,  2.31it/s]"
     ]
    },
    {
     "name": "stdout",
     "output_type": "stream",
     "text": [
      "Getting Original Date\n",
      "Pointing Date is -  5 (Day of the week)\n",
      "Checking Next Day\n",
      "Pointing Date is -  6 (Day of the week)\n",
      "Checking Next Day\n",
      "Getting quots \n",
      "Ticker:  aapl \n",
      "Date:  2011-09-27\n",
      "Quote Loaded\n"
     ]
    },
    {
     "name": "stderr",
     "output_type": "stream",
     "text": [
      "\n",
      " 70%|█████████████████████████████████████████████████████████▊                        | 31/44 [00:13<00:05,  2.30it/s]"
     ]
    },
    {
     "name": "stdout",
     "output_type": "stream",
     "text": [
      "Getting Original Date\n",
      "Pointing Date is -  5 (Day of the week)\n",
      "Checking Next Day\n",
      "Pointing Date is -  6 (Day of the week)\n",
      "Checking Next Day\n",
      "Getting quots \n",
      "Ticker:  aapl \n",
      "Date:  2011-09-27\n",
      "Quote Loaded\n"
     ]
    },
    {
     "name": "stderr",
     "output_type": "stream",
     "text": [
      "\n",
      " 73%|███████████████████████████████████████████████████████████▋                      | 32/44 [00:14<00:05,  2.28it/s]"
     ]
    },
    {
     "name": "stdout",
     "output_type": "stream",
     "text": [
      "Getting Original Date\n",
      "Pointing Date is -  5 (Day of the week)\n",
      "Checking Next Day\n",
      "Pointing Date is -  6 (Day of the week)\n",
      "Checking Next Day\n",
      "Getting quots \n",
      "Ticker:  aapl \n",
      "Date:  2011-10-11\n",
      "Quote Loaded\n"
     ]
    },
    {
     "name": "stderr",
     "output_type": "stream",
     "text": [
      "\n",
      " 75%|█████████████████████████████████████████████████████████████▌                    | 33/44 [00:14<00:04,  2.29it/s]"
     ]
    },
    {
     "name": "stdout",
     "output_type": "stream",
     "text": [
      "Getting Original Date\n",
      "Getting quots \n",
      "Ticker:  aapl \n",
      "Date:  2011-10-14\n",
      "Quote Loaded\n"
     ]
    },
    {
     "name": "stderr",
     "output_type": "stream",
     "text": [
      "\n",
      " 77%|███████████████████████████████████████████████████████████████▎                  | 34/44 [00:14<00:04,  2.28it/s]"
     ]
    },
    {
     "name": "stdout",
     "output_type": "stream",
     "text": [
      "Getting Original Date\n",
      "Getting quots \n",
      "Ticker:  aapl \n",
      "Date:  2011-11-03\n",
      "Quote Loaded\n"
     ]
    },
    {
     "name": "stderr",
     "output_type": "stream",
     "text": [
      "\n",
      " 80%|█████████████████████████████████████████████████████████████████▏                | 35/44 [00:15<00:03,  2.28it/s]"
     ]
    },
    {
     "name": "stdout",
     "output_type": "stream",
     "text": [
      "Getting Original Date\n",
      "Pointing Date is -  6 (Day of the week)\n",
      "Checking Next Day\n",
      "Getting quots \n",
      "Ticker:  aapl \n",
      "Date:  2012-01-09\n",
      "Quote Loaded\n"
     ]
    },
    {
     "name": "stderr",
     "output_type": "stream",
     "text": [
      "\n",
      " 82%|███████████████████████████████████████████████████████████████████               | 36/44 [00:15<00:03,  2.27it/s]"
     ]
    },
    {
     "name": "stdout",
     "output_type": "stream",
     "text": [
      "Getting Original Date\n",
      "Getting quots \n",
      "Ticker:  aapl \n",
      "Date:  2012-05-15\n",
      "Quote Loaded\n"
     ]
    },
    {
     "name": "stderr",
     "output_type": "stream",
     "text": [
      "\n",
      " 84%|████████████████████████████████████████████████████████████████████▉             | 37/44 [00:16<00:03,  2.28it/s]"
     ]
    },
    {
     "name": "stdout",
     "output_type": "stream",
     "text": [
      "Getting Original Date\n",
      "Pointing Date is -  6 (Day of the week)\n",
      "Checking Next Day\n",
      "Getting quots \n",
      "Ticker:  aapl \n",
      "Date:  2012-09-25\n",
      "Quote Loaded\n"
     ]
    },
    {
     "name": "stderr",
     "output_type": "stream",
     "text": [
      "\n",
      " 86%|██████████████████████████████████████████████████████████████████████▊           | 38/44 [00:16<00:02,  2.26it/s]"
     ]
    },
    {
     "name": "stdout",
     "output_type": "stream",
     "text": [
      "Getting Original Date\n",
      "Getting quots \n",
      "Ticker:  aapl \n",
      "Date:  2012-10-11\n",
      "Quote Loaded\n"
     ]
    },
    {
     "name": "stderr",
     "output_type": "stream",
     "text": [
      "\n",
      " 89%|████████████████████████████████████████████████████████████████████████▋         | 39/44 [00:17<00:02,  2.27it/s]"
     ]
    },
    {
     "name": "stdout",
     "output_type": "stream",
     "text": [
      "Getting Original Date\n",
      "Pointing Date is -  6 (Day of the week)\n",
      "Checking Next Day\n",
      "Getting quots \n",
      "Ticker:  aapl \n",
      "Date:  2012-10-22\n",
      "Quote Loaded\n"
     ]
    },
    {
     "name": "stderr",
     "output_type": "stream",
     "text": [
      "\n",
      " 91%|██████████████████████████████████████████████████████████████████████████▌       | 40/44 [00:17<00:01,  2.28it/s]"
     ]
    },
    {
     "name": "stdout",
     "output_type": "stream",
     "text": [
      "Getting Original Date\n",
      "Pointing Date is -  6 (Day of the week)\n",
      "Checking Next Day\n",
      "Getting quots \n",
      "Ticker:  aapl \n",
      "Date:  2013-01-22\n",
      "Quote Loaded\n"
     ]
    },
    {
     "name": "stderr",
     "output_type": "stream",
     "text": [
      "\n",
      " 93%|████████████████████████████████████████████████████████████████████████████▍     | 41/44 [00:18<00:01,  2.26it/s]"
     ]
    },
    {
     "name": "stdout",
     "output_type": "stream",
     "text": [
      "Getting Original Date\n",
      "Getting quots \n",
      "Ticker:  aapl \n",
      "Date:  2013-04-23\n",
      "Quote Loaded\n"
     ]
    },
    {
     "name": "stderr",
     "output_type": "stream",
     "text": [
      "\n",
      " 95%|██████████████████████████████████████████████████████████████████████████████▎   | 42/44 [00:18<00:00,  2.27it/s]"
     ]
    },
    {
     "name": "stdout",
     "output_type": "stream",
     "text": [
      "Getting Original Date\n",
      "Getting quots \n",
      "Ticker:  aapl \n",
      "Date:  2013-05-16\n",
      "Quote Loaded\n"
     ]
    },
    {
     "name": "stderr",
     "output_type": "stream",
     "text": [
      "\n",
      " 98%|████████████████████████████████████████████████████████████████████████████████▏ | 43/44 [00:18<00:00,  2.28it/s]"
     ]
    },
    {
     "name": "stdout",
     "output_type": "stream",
     "text": [
      "Getting Original Date\n",
      "Pointing Date is -  6 (Day of the week)\n",
      "Checking Next Day\n",
      "Getting quots \n",
      "Ticker:  aapl \n",
      "Date:  2013-08-12\n",
      "Quote Loaded\n"
     ]
    },
    {
     "name": "stderr",
     "output_type": "stream",
     "text": [
      "\n",
      "100%|██████████████████████████████████████████████████████████████████████████████████| 44/44 [00:19<00:00,  2.29it/s]\n"
     ]
    },
    {
     "name": "stdout",
     "output_type": "stream",
     "text": [
      "Will save to file:  c:\\data\\finml\\PriceVsSNP500_aapl.csv\n",
      "Getting Stock Price Data...\n"
     ]
    },
    {
     "name": "stderr",
     "output_type": "stream",
     "text": [
      "\n",
      "  0%|                                                                                           | 0/17 [00:00<?, ?it/s]"
     ]
    },
    {
     "name": "stdout",
     "output_type": "stream",
     "text": [
      "Getting Original Date\n",
      "Getting quots \n",
      "Ticker:  aci \n",
      "Date:  2003-12-15\n",
      "Quote Loaded\n"
     ]
    },
    {
     "name": "stderr",
     "output_type": "stream",
     "text": [
      "\n",
      "  6%|████▉                                                                              | 1/17 [00:00<00:04,  3.55it/s]"
     ]
    },
    {
     "name": "stdout",
     "output_type": "stream",
     "text": [
      "Getting Original Date\n",
      "Getting quots \n",
      "Ticker:  aci \n",
      "Date:  2005-01-24\n",
      "Quote Loaded\n"
     ]
    },
    {
     "name": "stderr",
     "output_type": "stream",
     "text": [
      "\n",
      " 12%|█████████▊                                                                         | 2/17 [00:00<00:05,  2.70it/s]"
     ]
    },
    {
     "name": "stdout",
     "output_type": "stream",
     "text": [
      "Getting Original Date\n",
      "Pointing Date is -  5 (Day of the week)\n",
      "Checking Next Day\n",
      "Pointing Date is -  6 (Day of the week)\n",
      "Checking Next Day\n",
      "Getting quots \n",
      "Ticker:  aci \n",
      "Date:  2005-02-08\n",
      "Quote Loaded\n"
     ]
    },
    {
     "name": "stderr",
     "output_type": "stream",
     "text": [
      "\n",
      " 18%|██████████████▋                                                                    | 3/17 [00:01<00:05,  2.71it/s]"
     ]
    },
    {
     "name": "stdout",
     "output_type": "stream",
     "text": [
      "Getting Original Date\n",
      "Getting quots \n",
      "Ticker:  aci \n",
      "Date:  2005-03-30\n",
      "Quote Loaded\n"
     ]
    },
    {
     "name": "stderr",
     "output_type": "stream",
     "text": [
      "\n",
      " 24%|███████████████████▌                                                               | 4/17 [00:01<00:04,  2.92it/s]"
     ]
    },
    {
     "name": "stdout",
     "output_type": "stream",
     "text": [
      "Getting Original Date\n",
      "Getting quots \n",
      "Ticker:  aci \n",
      "Date:  2006-05-24\n",
      "Quote Loaded\n"
     ]
    },
    {
     "name": "stderr",
     "output_type": "stream",
     "text": [
      "\n",
      " 29%|████████████████████████▍                                                          | 5/17 [00:01<00:04,  2.92it/s]"
     ]
    },
    {
     "name": "stdout",
     "output_type": "stream",
     "text": [
      "Getting Original Date\n",
      "Pointing Date is -  6 (Day of the week)\n",
      "Checking Next Day\n",
      "Getting quots \n",
      "Ticker:  aci \n",
      "Date:  2007-03-13\n",
      "Quote Loaded\n"
     ]
    },
    {
     "name": "stderr",
     "output_type": "stream",
     "text": [
      "\n",
      " 35%|█████████████████████████████▎                                                     | 6/17 [00:02<00:03,  2.97it/s]"
     ]
    },
    {
     "name": "stdout",
     "output_type": "stream",
     "text": [
      "Getting Original Date\n",
      "Pointing Date is -  5 (Day of the week)\n",
      "Checking Next Day\n",
      "Getting quots \n",
      "Ticker:  aci \n",
      "Date:  2007-04-09\n",
      "Quote Loaded\n"
     ]
    },
    {
     "name": "stderr",
     "output_type": "stream",
     "text": [
      "\n",
      " 41%|██████████████████████████████████▏                                                | 7/17 [00:02<00:03,  2.95it/s]"
     ]
    },
    {
     "name": "stdout",
     "output_type": "stream",
     "text": [
      "Getting Original Date\n",
      "Pointing Date is -  6 (Day of the week)\n",
      "Checking Next Day\n",
      "Getting quots \n",
      "Ticker:  aci \n",
      "Date:  2008-03-04\n",
      "Quote Loaded\n"
     ]
    },
    {
     "name": "stderr",
     "output_type": "stream",
     "text": [
      "\n",
      " 47%|███████████████████████████████████████                                            | 8/17 [00:02<00:03,  2.97it/s]"
     ]
    },
    {
     "name": "stdout",
     "output_type": "stream",
     "text": [
      "Getting Original Date\n",
      "Getting quots \n",
      "Ticker:  aci \n",
      "Date:  2008-06-05\n",
      "Quote Loaded\n"
     ]
    },
    {
     "name": "stderr",
     "output_type": "stream",
     "text": [
      "\n",
      " 53%|███████████████████████████████████████████▉                                       | 9/17 [00:03<00:02,  2.81it/s]"
     ]
    },
    {
     "name": "stdout",
     "output_type": "stream",
     "text": [
      "Getting Original Date\n",
      "Getting quots \n",
      "Ticker:  aci \n",
      "Date:  2008-10-08\n",
      "Quote Loaded\n"
     ]
    },
    {
     "name": "stderr",
     "output_type": "stream",
     "text": [
      "\n",
      " 59%|████████████████████████████████████████████████▏                                 | 10/17 [00:03<00:02,  2.80it/s]"
     ]
    },
    {
     "name": "stdout",
     "output_type": "stream",
     "text": [
      "Getting Original Date\n",
      "Getting quots \n",
      "Ticker:  aci \n",
      "Date:  2008-12-05\n",
      "Quote Loaded\n"
     ]
    },
    {
     "name": "stderr",
     "output_type": "stream",
     "text": [
      "\n",
      " 65%|█████████████████████████████████████████████████████                             | 11/17 [00:03<00:02,  2.77it/s]"
     ]
    },
    {
     "name": "stdout",
     "output_type": "stream",
     "text": [
      "Getting Original Date\n",
      "Pointing Date is -  5 (Day of the week)\n",
      "Checking Next Day\n",
      "Pointing Date is -  6 (Day of the week)\n",
      "Checking Next Day\n",
      "Getting quots \n",
      "Ticker:  aci \n",
      "Date:  2009-08-04\n",
      "Quote Loaded\n"
     ]
    },
    {
     "name": "stderr",
     "output_type": "stream",
     "text": [
      "\n",
      " 71%|█████████████████████████████████████████████████████████▉                        | 12/17 [00:04<00:01,  2.59it/s]"
     ]
    },
    {
     "name": "stdout",
     "output_type": "stream",
     "text": [
      "Getting Original Date\n",
      "Getting quots \n",
      "Ticker:  aci \n",
      "Date:  2011-08-18\n",
      "Quote Loaded\n"
     ]
    },
    {
     "name": "stderr",
     "output_type": "stream",
     "text": [
      "\n",
      " 76%|██████████████████████████████████████████████████████████████▋                   | 13/17 [00:05<00:01,  2.53it/s]"
     ]
    },
    {
     "name": "stdout",
     "output_type": "stream",
     "text": [
      "Getting Original Date\n",
      "Getting quots \n",
      "Ticker:  aci \n",
      "Date:  2012-07-26\n",
      "Quote Loaded\n"
     ]
    },
    {
     "name": "stderr",
     "output_type": "stream",
     "text": [
      "\n",
      " 82%|███████████████████████████████████████████████████████████████████▌              | 14/17 [00:05<00:01,  2.49it/s]"
     ]
    },
    {
     "name": "stdout",
     "output_type": "stream",
     "text": [
      "Getting Original Date\n",
      "Pointing Date is -  6 (Day of the week)\n",
      "Checking Next Day\n",
      "Getting quots \n",
      "Ticker:  aci \n",
      "Date:  2012-11-05\n",
      "Quote Loaded\n"
     ]
    },
    {
     "name": "stderr",
     "output_type": "stream",
     "text": [
      "\n",
      " 88%|████████████████████████████████████████████████████████████████████████▎         | 15/17 [00:06<00:00,  2.47it/s]"
     ]
    },
    {
     "name": "stdout",
     "output_type": "stream",
     "text": [
      "Getting Original Date\n",
      "Getting quots \n",
      "Ticker:  aci \n",
      "Date:  2013-04-23\n",
      "Quote Loaded\n"
     ]
    },
    {
     "name": "stderr",
     "output_type": "stream",
     "text": [
      "\n",
      " 94%|█████████████████████████████████████████████████████████████████████████████▏    | 16/17 [00:06<00:00,  2.43it/s]"
     ]
    },
    {
     "name": "stdout",
     "output_type": "stream",
     "text": [
      "Getting Original Date\n",
      "Getting quots \n",
      "Ticker:  aci \n",
      "Date:  2013-04-25\n",
      "Quote Loaded\n"
     ]
    },
    {
     "name": "stderr",
     "output_type": "stream",
     "text": [
      "\n",
      "100%|██████████████████████████████████████████████████████████████████████████████████| 17/17 [00:07<00:00,  2.39it/s]\n"
     ]
    },
    {
     "name": "stdout",
     "output_type": "stream",
     "text": [
      "Will save to file:  c:\\data\\finml\\PriceVsSNP500_aci.csv\n",
      "Getting Stock Price Data...\n"
     ]
    },
    {
     "name": "stderr",
     "output_type": "stream",
     "text": [
      "\n",
      "  0%|                                                                                            | 0/1 [00:00<?, ?it/s]"
     ]
    },
    {
     "name": "stdout",
     "output_type": "stream",
     "text": [
      "Getting Original Date\n",
      "Pointing Date is -  6 (Day of the week)\n",
      "Checking Next Day\n",
      "Getting quots \n",
      "Ticker:  act \n",
      "Date:  2013-05-13\n",
      "Wrong Day, Cheching Next\n",
      "Wrong Day, Cheching Next\n",
      "Wrong Day, Cheching Next\n",
      "Wrong Day, Cheching Next\n",
      "Wrong Day, Cheching Next\n",
      "Wrong Day, Cheching Next\n",
      "Wrong Day, Cheching Next\n",
      "Wrong Day, Cheching Next\n",
      "Wrong Day, Cheching Next\n",
      "Wrong Day, Cheching Next\n",
      "Reached Limit amount of tries\n",
      "Cannot Get data from Quandl. Skipping this one\n"
     ]
    },
    {
     "name": "stderr",
     "output_type": "stream",
     "text": [
      "\n",
      "100%|████████████████████████████████████████████████████████████████████████████████████| 1/1 [00:12<00:00, 12.73s/it]\n"
     ]
    },
    {
     "name": "stdout",
     "output_type": "stream",
     "text": [
      "Will save to file:  c:\\data\\finml\\PriceVsSNP500_act.csv\n",
      "Getting Stock Price Data...\n"
     ]
    },
    {
     "name": "stderr",
     "output_type": "stream",
     "text": [
      "\n",
      "  0%|                                                                                            | 0/1 [00:00<?, ?it/s]"
     ]
    },
    {
     "name": "stdout",
     "output_type": "stream",
     "text": [
      "Getting Original Date\n",
      "Getting quots \n",
      "Ticker:  abbv \n",
      "Date:  2013-06-19\n",
      "Quote Loaded\n"
     ]
    },
    {
     "name": "stderr",
     "output_type": "stream",
     "text": [
      "\n",
      "100%|████████████████████████████████████████████████████████████████████████████████████| 1/1 [00:00<00:00,  1.34it/s]\n"
     ]
    },
    {
     "name": "stdout",
     "output_type": "stream",
     "text": [
      "Will save to file:  c:\\data\\finml\\PriceVsSNP500_abbv.csv\n",
      "Getting Stock Price Data...\n"
     ]
    },
    {
     "name": "stderr",
     "output_type": "stream",
     "text": [
      "\n",
      "  0%|                                                                                           | 0/16 [00:00<?, ?it/s]"
     ]
    },
    {
     "name": "stdout",
     "output_type": "stream",
     "text": [
      "Getting Original Date\n",
      "Pointing Date is -  6 (Day of the week)\n",
      "Checking Next Day\n",
      "Getting quots \n",
      "Ticker:  abc \n",
      "Date:  2003-10-28\n",
      "Quote Loaded\n"
     ]
    },
    {
     "name": "stderr",
     "output_type": "stream",
     "text": [
      "\n",
      "  6%|█████▏                                                                             | 1/16 [00:00<00:07,  1.99it/s]"
     ]
    },
    {
     "name": "stdout",
     "output_type": "stream",
     "text": [
      "Getting Original Date\n",
      "Getting quots \n",
      "Ticker:  abc \n",
      "Date:  2004-01-28\n",
      "Quote Loaded\n"
     ]
    },
    {
     "name": "stderr",
     "output_type": "stream",
     "text": [
      "\n",
      " 12%|██████████▍                                                                        | 2/16 [00:00<00:05,  2.36it/s]"
     ]
    },
    {
     "name": "stdout",
     "output_type": "stream",
     "text": [
      "Getting Original Date\n",
      "Pointing Date is -  6 (Day of the week)\n",
      "Checking Next Day\n",
      "Getting quots \n",
      "Ticker:  abc \n",
      "Date:  2004-05-18\n",
      "Quote Loaded\n"
     ]
    },
    {
     "name": "stderr",
     "output_type": "stream",
     "text": [
      "\n",
      " 19%|███████████████▌                                                                   | 3/16 [00:01<00:05,  2.17it/s]"
     ]
    },
    {
     "name": "stdout",
     "output_type": "stream",
     "text": [
      "Getting Original Date\n",
      "Getting quots \n",
      "Ticker:  abc \n",
      "Date:  2004-10-20\n",
      "Quote Loaded\n"
     ]
    },
    {
     "name": "stderr",
     "output_type": "stream",
     "text": [
      "\n",
      " 25%|████████████████████▊                                                              | 4/16 [00:01<00:05,  2.29it/s]"
     ]
    },
    {
     "name": "stdout",
     "output_type": "stream",
     "text": [
      "Getting Original Date\n",
      "Pointing Date is -  5 (Day of the week)\n",
      "Checking Next Day\n",
      "Pointing Date is -  6 (Day of the week)\n",
      "Checking Next Day\n",
      "Getting quots \n",
      "Ticker:  abc \n",
      "Date:  2005-01-11\n",
      "Quote Loaded\n"
     ]
    },
    {
     "name": "stderr",
     "output_type": "stream",
     "text": [
      "\n",
      " 31%|█████████████████████████▉                                                         | 5/16 [00:02<00:05,  2.17it/s]"
     ]
    },
    {
     "name": "stdout",
     "output_type": "stream",
     "text": [
      "Getting Original Date\n",
      "Getting quots \n",
      "Ticker:  abc \n",
      "Date:  2005-03-30\n",
      "Quote Loaded\n"
     ]
    },
    {
     "name": "stderr",
     "output_type": "stream",
     "text": [
      "\n",
      " 38%|███████████████████████████████▏                                                   | 6/16 [00:02<00:04,  2.28it/s]"
     ]
    },
    {
     "name": "stdout",
     "output_type": "stream",
     "text": [
      "Getting Original Date\n",
      "Getting quots \n",
      "Ticker:  abc \n",
      "Date:  2005-05-26\n",
      "Quote Loaded\n"
     ]
    },
    {
     "name": "stderr",
     "output_type": "stream",
     "text": [
      "\n",
      " 44%|████████████████████████████████████▎                                              | 7/16 [00:03<00:04,  2.24it/s]"
     ]
    },
    {
     "name": "stdout",
     "output_type": "stream",
     "text": [
      "Getting Original Date\n",
      "Pointing Date is -  6 (Day of the week)\n",
      "Checking Next Day\n",
      "Getting quots \n",
      "Ticker:  abc \n",
      "Date:  2005-12-05\n",
      "Quote Loaded\n"
     ]
    },
    {
     "name": "stderr",
     "output_type": "stream",
     "text": [
      "\n",
      " 50%|█████████████████████████████████████████▌                                         | 8/16 [00:03<00:03,  2.21it/s]"
     ]
    },
    {
     "name": "stdout",
     "output_type": "stream",
     "text": [
      "Getting Original Date\n",
      "Getting quots \n",
      "Ticker:  abc \n",
      "Date:  2007-02-20\n",
      "Quote Loaded\n"
     ]
    },
    {
     "name": "stderr",
     "output_type": "stream",
     "text": [
      "\n",
      " 56%|██████████████████████████████████████████████▋                                    | 9/16 [00:03<00:03,  2.27it/s]"
     ]
    },
    {
     "name": "stdout",
     "output_type": "stream",
     "text": [
      "Getting Original Date\n",
      "Getting quots \n",
      "Ticker:  abc \n",
      "Date:  2007-04-05\n",
      "Quote Loaded\n"
     ]
    },
    {
     "name": "stderr",
     "output_type": "stream",
     "text": [
      "\n",
      " 62%|███████████████████████████████████████████████████▎                              | 10/16 [00:04<00:02,  2.25it/s]"
     ]
    },
    {
     "name": "stdout",
     "output_type": "stream",
     "text": [
      "Getting Original Date\n",
      "Getting quots \n",
      "Ticker:  abc \n",
      "Date:  2008-01-23\n",
      "Quote Loaded\n"
     ]
    },
    {
     "name": "stderr",
     "output_type": "stream",
     "text": [
      "\n",
      " 69%|████████████████████████████████████████████████████████▍                         | 11/16 [00:04<00:02,  2.28it/s]"
     ]
    },
    {
     "name": "stdout",
     "output_type": "stream",
     "text": [
      "Getting Original Date\n",
      "Getting quots \n",
      "Ticker:  abc \n",
      "Date:  2009-02-09\n",
      "Quote Loaded\n"
     ]
    },
    {
     "name": "stderr",
     "output_type": "stream",
     "text": [
      "\n",
      " 75%|█████████████████████████████████████████████████████████████▌                    | 12/16 [00:05<00:01,  2.32it/s]"
     ]
    },
    {
     "name": "stdout",
     "output_type": "stream",
     "text": [
      "Getting Original Date\n",
      "Pointing Date is -  5 (Day of the week)\n",
      "Checking Next Day\n",
      "Pointing Date is -  6 (Day of the week)\n",
      "Checking Next Day\n",
      "Getting quots \n",
      "Ticker:  abc \n",
      "Date:  2010-08-24\n",
      "Quote Loaded\n"
     ]
    },
    {
     "name": "stderr",
     "output_type": "stream",
     "text": [
      "\n",
      " 81%|██████████████████████████████████████████████████████████████████▋               | 13/16 [00:05<00:01,  2.33it/s]"
     ]
    },
    {
     "name": "stdout",
     "output_type": "stream",
     "text": [
      "Getting Original Date\n",
      "Getting quots \n",
      "Ticker:  abc \n",
      "Date:  2011-07-08\n",
      "Quote Loaded\n"
     ]
    },
    {
     "name": "stderr",
     "output_type": "stream",
     "text": [
      "\n",
      " 88%|███████████████████████████████████████████████████████████████████████▊          | 14/16 [00:06<00:00,  2.23it/s]"
     ]
    },
    {
     "name": "stdout",
     "output_type": "stream",
     "text": [
      "Getting Original Date\n",
      "Getting quots \n",
      "Ticker:  abc \n",
      "Date:  2012-02-28\n",
      "Quote Loaded\n"
     ]
    },
    {
     "name": "stderr",
     "output_type": "stream",
     "text": [
      "\n",
      " 94%|████████████████████████████████████████████████████████████████████████████▉     | 15/16 [00:06<00:00,  2.26it/s]"
     ]
    },
    {
     "name": "stdout",
     "output_type": "stream",
     "text": [
      "Getting Original Date\n",
      "Getting quots \n",
      "Ticker:  abc \n",
      "Date:  2013-04-25\n",
      "Quote Loaded\n"
     ]
    },
    {
     "name": "stderr",
     "output_type": "stream",
     "text": [
      "\n",
      "100%|██████████████████████████████████████████████████████████████████████████████████| 16/16 [00:06<00:00,  2.29it/s]\n"
     ]
    },
    {
     "name": "stdout",
     "output_type": "stream",
     "text": [
      "Will save to file:  c:\\data\\finml\\PriceVsSNP500_abc.csv\n",
      "Getting Stock Price Data...\n"
     ]
    },
    {
     "name": "stderr",
     "output_type": "stream",
     "text": [
      "\n",
      "  0%|                                                                                           | 0/11 [00:00<?, ?it/s]"
     ]
    },
    {
     "name": "stdout",
     "output_type": "stream",
     "text": [
      "Getting Original Date\n",
      "Getting quots \n",
      "Ticker:  ace \n",
      "Date:  2004-08-16\n",
      "Quote Loaded\n"
     ]
    },
    {
     "name": "stderr",
     "output_type": "stream",
     "text": [
      "\n",
      "  9%|███████▌                                                                           | 1/11 [00:00<00:04,  2.24it/s]"
     ]
    },
    {
     "name": "stdout",
     "output_type": "stream",
     "text": [
      "Getting Original Date\n",
      "Pointing Date is -  6 (Day of the week)\n",
      "Checking Next Day\n",
      "Getting quots \n",
      "Ticker:  ace \n",
      "Date:  2004-10-11\n",
      "Quote Loaded\n"
     ]
    },
    {
     "name": "stderr",
     "output_type": "stream",
     "text": [
      "\n",
      " 18%|███████████████                                                                    | 2/11 [00:00<00:04,  2.07it/s]"
     ]
    },
    {
     "name": "stdout",
     "output_type": "stream",
     "text": [
      "Getting Original Date\n",
      "Getting quots \n",
      "Ticker:  ace \n",
      "Date:  2005-01-13\n",
      "Quote Loaded\n"
     ]
    },
    {
     "name": "stderr",
     "output_type": "stream",
     "text": [
      "\n",
      " 27%|██████████████████████▋                                                            | 3/11 [00:04<00:11,  1.43s/it]"
     ]
    },
    {
     "name": "stdout",
     "output_type": "stream",
     "text": [
      "Getting Original Date\n",
      "Getting quots \n",
      "Ticker:  ace \n",
      "Date:  2007-02-20\n",
      "Quote Loaded\n"
     ]
    },
    {
     "name": "stderr",
     "output_type": "stream",
     "text": [
      "\n",
      " 36%|██████████████████████████████▏                                                    | 4/11 [00:04<00:08,  1.17s/it]"
     ]
    },
    {
     "name": "stdout",
     "output_type": "stream",
     "text": [
      "Getting Original Date\n",
      "Getting quots \n",
      "Ticker:  ace \n",
      "Date:  2007-04-05\n",
      "Quote Loaded\n"
     ]
    },
    {
     "name": "stderr",
     "output_type": "stream",
     "text": [
      "\n",
      " 45%|█████████████████████████████████████▋                                             | 5/11 [00:05<00:06,  1.05s/it]"
     ]
    },
    {
     "name": "stdout",
     "output_type": "stream",
     "text": [
      "Getting Original Date\n",
      "Getting quots \n",
      "Ticker:  ace \n",
      "Date:  2008-01-23\n",
      "Quote Loaded\n"
     ]
    },
    {
     "name": "stderr",
     "output_type": "stream",
     "text": [
      "\n",
      " 55%|█████████████████████████████████████████████▎                                     | 6/11 [00:05<00:04,  1.05it/s]"
     ]
    },
    {
     "name": "stdout",
     "output_type": "stream",
     "text": [
      "Getting Original Date\n",
      "Pointing Date is -  6 (Day of the week)\n",
      "Checking Next Day\n",
      "Getting quots \n",
      "Ticker:  ace \n",
      "Date:  2010-07-20\n",
      "Quote Loaded\n"
     ]
    },
    {
     "name": "stderr",
     "output_type": "stream",
     "text": [
      "\n",
      " 64%|████████████████████████████████████████████████████▊                              | 7/11 [00:06<00:03,  1.09it/s]"
     ]
    },
    {
     "name": "stdout",
     "output_type": "stream",
     "text": [
      "Getting Original Date\n",
      "Getting quots \n",
      "Ticker:  ace \n",
      "Date:  2010-12-07\n",
      "Quote Loaded\n"
     ]
    },
    {
     "name": "stderr",
     "output_type": "stream",
     "text": [
      "\n",
      " 73%|████████████████████████████████████████████████████████████▎                      | 8/11 [00:06<00:02,  1.16it/s]"
     ]
    },
    {
     "name": "stdout",
     "output_type": "stream",
     "text": [
      "Getting Original Date\n",
      "Getting quots \n",
      "Ticker:  ace \n",
      "Date:  2011-08-11\n",
      "Quote Loaded\n"
     ]
    },
    {
     "name": "stderr",
     "output_type": "stream",
     "text": [
      "\n",
      " 82%|███████████████████████████████████████████████████████████████████▉               | 9/11 [00:07<00:01,  1.23it/s]"
     ]
    },
    {
     "name": "stdout",
     "output_type": "stream",
     "text": [
      "Getting Original Date\n",
      "Getting quots \n",
      "Ticker:  ace \n",
      "Date:  2013-04-23\n",
      "Quote Loaded\n"
     ]
    },
    {
     "name": "stderr",
     "output_type": "stream",
     "text": [
      "\n",
      " 91%|██████████████████████████████████████████████████████████████████████████▌       | 10/11 [00:07<00:00,  1.28it/s]"
     ]
    },
    {
     "name": "stdout",
     "output_type": "stream",
     "text": [
      "Getting Original Date\n",
      "Getting quots \n",
      "Ticker:  ace \n",
      "Date:  2013-05-16\n",
      "Quote Loaded\n"
     ]
    },
    {
     "name": "stderr",
     "output_type": "stream",
     "text": [
      "\n",
      "100%|██████████████████████████████████████████████████████████████████████████████████| 11/11 [00:08<00:00,  1.32it/s]\n"
     ]
    },
    {
     "name": "stdout",
     "output_type": "stream",
     "text": [
      "Will save to file:  c:\\data\\finml\\PriceVsSNP500_ace.csv\n",
      "Getting Stock Price Data...\n"
     ]
    },
    {
     "name": "stderr",
     "output_type": "stream",
     "text": [
      "\n",
      "  0%|                                                                                           | 0/32 [00:00<?, ?it/s]"
     ]
    },
    {
     "name": "stdout",
     "output_type": "stream",
     "text": [
      "Getting Original Date\n",
      "Getting quots \n",
      "Ticker:  aa \n",
      "Date:  2004-04-13\n",
      "Wrong Day, Cheching Next\n",
      "Wrong Day, Cheching Next\n",
      "Wrong Day, Cheching Next\n",
      "Wrong Day, Cheching Next\n",
      "Wrong Day, Cheching Next\n",
      "Wrong Day, Cheching Next\n",
      "Wrong Day, Cheching Next\n",
      "Wrong Day, Cheching Next\n",
      "Wrong Day, Cheching Next\n",
      "Wrong Day, Cheching Next\n",
      "Reached Limit amount of tries\n",
      "Cannot Get data from Quandl. Skipping this one\n"
     ]
    },
    {
     "name": "stderr",
     "output_type": "stream",
     "text": [
      "\n",
      "  3%|██▌                                                                                | 1/32 [00:06<03:24,  6.59s/it]"
     ]
    },
    {
     "name": "stdout",
     "output_type": "stream",
     "text": [
      "Getting Original Date\n",
      "Getting quots \n",
      "Ticker:  aa \n",
      "Date:  2004-09-09\n",
      "Wrong Day, Cheching Next\n",
      "Wrong Day, Cheching Next\n",
      "Wrong Day, Cheching Next\n",
      "Wrong Day, Cheching Next\n",
      "Wrong Day, Cheching Next\n",
      "Wrong Day, Cheching Next\n",
      "Wrong Day, Cheching Next\n",
      "Wrong Day, Cheching Next\n",
      "Wrong Day, Cheching Next\n",
      "Wrong Day, Cheching Next\n",
      "Reached Limit amount of tries\n",
      "Cannot Get data from Quandl. Skipping this one\n"
     ]
    },
    {
     "name": "stderr",
     "output_type": "stream",
     "text": [
      "\n",
      "  6%|█████▏                                                                             | 2/32 [00:16<04:09,  8.30s/it]"
     ]
    },
    {
     "name": "stdout",
     "output_type": "stream",
     "text": [
      "Getting Original Date\n",
      "Getting quots \n",
      "Ticker:  aa \n",
      "Date:  2004-11-24\n",
      "Wrong Day, Cheching Next\n",
      "Wrong Day, Cheching Next\n",
      "Wrong Day, Cheching Next\n",
      "Wrong Day, Cheching Next\n",
      "Wrong Day, Cheching Next\n",
      "Wrong Day, Cheching Next\n",
      "Wrong Day, Cheching Next\n",
      "Wrong Day, Cheching Next\n",
      "Wrong Day, Cheching Next\n",
      "Wrong Day, Cheching Next\n",
      "Reached Limit amount of tries\n",
      "Cannot Get data from Quandl. Skipping this one\n"
     ]
    },
    {
     "name": "stderr",
     "output_type": "stream",
     "text": [
      "\n",
      "  9%|███████▊                                                                           | 3/32 [00:23<03:43,  7.70s/it]"
     ]
    },
    {
     "name": "stdout",
     "output_type": "stream",
     "text": [
      "Getting Original Date\n",
      "Pointing Date is -  6 (Day of the week)\n",
      "Checking Next Day\n",
      "Getting quots \n",
      "Ticker:  aa \n",
      "Date:  2004-12-06\n",
      "Wrong Day, Cheching Next\n",
      "Wrong Day, Cheching Next\n",
      "Wrong Day, Cheching Next\n",
      "Wrong Day, Cheching Next\n",
      "Wrong Day, Cheching Next\n",
      "Wrong Day, Cheching Next\n",
      "Wrong Day, Cheching Next\n",
      "Wrong Day, Cheching Next\n",
      "Wrong Day, Cheching Next\n",
      "Wrong Day, Cheching Next\n",
      "Reached Limit amount of tries\n",
      "Cannot Get data from Quandl. Skipping this one\n"
     ]
    },
    {
     "name": "stderr",
     "output_type": "stream",
     "text": [
      "\n",
      " 12%|██████████▍                                                                        | 4/32 [00:27<03:09,  6.76s/it]"
     ]
    },
    {
     "name": "stdout",
     "output_type": "stream",
     "text": [
      "Getting Original Date\n",
      "Getting quots \n",
      "Ticker:  aa \n",
      "Date:  2005-01-13\n",
      "Wrong Day, Cheching Next\n",
      "Wrong Day, Cheching Next\n",
      "Wrong Day, Cheching Next\n",
      "Wrong Day, Cheching Next\n",
      "Wrong Day, Cheching Next\n",
      "Wrong Day, Cheching Next\n",
      "Wrong Day, Cheching Next\n",
      "Wrong Day, Cheching Next\n",
      "Wrong Day, Cheching Next\n",
      "Wrong Day, Cheching Next\n",
      "Reached Limit amount of tries\n",
      "Cannot Get data from Quandl. Skipping this one\n"
     ]
    },
    {
     "name": "stderr",
     "output_type": "stream",
     "text": [
      "\n",
      " 16%|████████████▉                                                                      | 5/32 [00:30<02:46,  6.19s/it]"
     ]
    },
    {
     "name": "stdout",
     "output_type": "stream",
     "text": [
      "Getting Original Date\n",
      "Getting quots \n",
      "Ticker:  aa \n",
      "Date:  2005-02-07\n",
      "Wrong Day, Cheching Next\n",
      "Wrong Day, Cheching Next\n",
      "Wrong Day, Cheching Next\n",
      "Wrong Day, Cheching Next\n",
      "Wrong Day, Cheching Next\n",
      "Wrong Day, Cheching Next\n",
      "Wrong Day, Cheching Next\n",
      "Wrong Day, Cheching Next\n",
      "Wrong Day, Cheching Next\n",
      "Wrong Day, Cheching Next\n",
      "Reached Limit amount of tries\n",
      "Cannot Get data from Quandl. Skipping this one\n"
     ]
    },
    {
     "name": "stderr",
     "output_type": "stream",
     "text": [
      "\n",
      " 19%|███████████████▌                                                                   | 6/32 [00:36<02:39,  6.13s/it]"
     ]
    },
    {
     "name": "stdout",
     "output_type": "stream",
     "text": [
      "Getting Original Date\n",
      "Pointing Date is -  6 (Day of the week)\n",
      "Checking Next Day\n",
      "Getting quots \n",
      "Ticker:  aa \n",
      "Date:  2005-05-23\n",
      "Wrong Day, Cheching Next\n",
      "Wrong Day, Cheching Next\n",
      "Wrong Day, Cheching Next\n",
      "Wrong Day, Cheching Next\n",
      "Wrong Day, Cheching Next\n",
      "Wrong Day, Cheching Next\n",
      "Wrong Day, Cheching Next\n",
      "Wrong Day, Cheching Next\n",
      "Wrong Day, Cheching Next\n",
      "Wrong Day, Cheching Next\n",
      "Reached Limit amount of tries\n",
      "Cannot Get data from Quandl. Skipping this one\n"
     ]
    },
    {
     "name": "stderr",
     "output_type": "stream",
     "text": [
      "\n",
      " 22%|██████████████████▏                                                                | 7/32 [00:43<02:36,  6.27s/it]"
     ]
    },
    {
     "name": "stdout",
     "output_type": "stream",
     "text": [
      "Getting Original Date\n",
      "Getting quots \n",
      "Ticker:  aa \n",
      "Date:  2006-06-20\n",
      "Wrong Day, Cheching Next\n",
      "Wrong Day, Cheching Next\n",
      "Wrong Day, Cheching Next\n",
      "Wrong Day, Cheching Next\n",
      "Wrong Day, Cheching Next\n",
      "Wrong Day, Cheching Next\n",
      "Wrong Day, Cheching Next\n",
      "Wrong Day, Cheching Next\n",
      "Wrong Day, Cheching Next\n",
      "Wrong Day, Cheching Next\n",
      "Reached Limit amount of tries\n",
      "Cannot Get data from Quandl. Skipping this one\n"
     ]
    },
    {
     "name": "stderr",
     "output_type": "stream",
     "text": [
      "\n",
      " 25%|████████████████████▊                                                              | 8/32 [00:48<02:24,  6.03s/it]"
     ]
    },
    {
     "name": "stdout",
     "output_type": "stream",
     "text": [
      "Getting Original Date\n",
      "Getting quots \n",
      "Ticker:  aa \n",
      "Date:  2007-01-25\n",
      "Wrong Day, Cheching Next\n",
      "Wrong Day, Cheching Next\n",
      "Wrong Day, Cheching Next\n",
      "Wrong Day, Cheching Next\n",
      "Wrong Day, Cheching Next\n",
      "Wrong Day, Cheching Next\n",
      "Wrong Day, Cheching Next\n",
      "Wrong Day, Cheching Next\n",
      "Wrong Day, Cheching Next\n",
      "Wrong Day, Cheching Next\n",
      "Reached Limit amount of tries\n",
      "Cannot Get data from Quandl. Skipping this one\n"
     ]
    },
    {
     "name": "stderr",
     "output_type": "stream",
     "text": [
      "\n",
      " 28%|███████████████████████▎                                                           | 9/32 [00:52<02:14,  5.84s/it]"
     ]
    },
    {
     "name": "stdout",
     "output_type": "stream",
     "text": [
      "Getting Original Date\n",
      "Getting quots \n",
      "Ticker:  aa \n",
      "Date:  2007-02-23\n",
      "Wrong Day, Cheching Next\n",
      "Wrong Day, Cheching Next\n",
      "Wrong Day, Cheching Next\n",
      "Wrong Day, Cheching Next\n",
      "Wrong Day, Cheching Next\n",
      "Wrong Day, Cheching Next\n",
      "Wrong Day, Cheching Next\n",
      "Wrong Day, Cheching Next\n",
      "Wrong Day, Cheching Next\n",
      "Wrong Day, Cheching Next\n",
      "Reached Limit amount of tries\n",
      "Cannot Get data from Quandl. Skipping this one\n"
     ]
    },
    {
     "name": "stderr",
     "output_type": "stream",
     "text": [
      "\n",
      " 31%|█████████████████████████▋                                                        | 10/32 [00:56<02:04,  5.64s/it]"
     ]
    },
    {
     "name": "stdout",
     "output_type": "stream",
     "text": [
      "Getting Original Date\n",
      "Getting quots \n",
      "Ticker:  aa \n",
      "Date:  2007-05-16\n",
      "Wrong Day, Cheching Next\n",
      "Wrong Day, Cheching Next\n",
      "Wrong Day, Cheching Next\n",
      "Wrong Day, Cheching Next\n",
      "Wrong Day, Cheching Next\n",
      "Wrong Day, Cheching Next\n",
      "Wrong Day, Cheching Next\n",
      "Wrong Day, Cheching Next\n",
      "Wrong Day, Cheching Next\n",
      "Wrong Day, Cheching Next\n",
      "Reached Limit amount of tries\n",
      "Cannot Get data from Quandl. Skipping this one\n"
     ]
    },
    {
     "name": "stderr",
     "output_type": "stream",
     "text": [
      "\n",
      " 34%|████████████████████████████▏                                                     | 11/32 [01:00<01:55,  5.48s/it]"
     ]
    },
    {
     "name": "stdout",
     "output_type": "stream",
     "text": [
      "Getting Original Date\n",
      "Getting quots \n",
      "Ticker:  aa \n",
      "Date:  2007-06-22\n",
      "Wrong Day, Cheching Next\n",
      "Wrong Day, Cheching Next\n",
      "Wrong Day, Cheching Next\n",
      "Wrong Day, Cheching Next\n",
      "Wrong Day, Cheching Next\n",
      "Wrong Day, Cheching Next\n",
      "Wrong Day, Cheching Next\n",
      "Wrong Day, Cheching Next\n",
      "Wrong Day, Cheching Next\n",
      "Wrong Day, Cheching Next\n",
      "Reached Limit amount of tries\n",
      "Cannot Get data from Quandl. Skipping this one\n"
     ]
    },
    {
     "name": "stderr",
     "output_type": "stream",
     "text": [
      "\n",
      " 38%|██████████████████████████████▊                                                   | 12/32 [01:03<01:46,  5.32s/it]"
     ]
    },
    {
     "name": "stdout",
     "output_type": "stream",
     "text": [
      "Getting Original Date\n",
      "Getting quots \n",
      "Ticker:  aa \n",
      "Date:  2007-10-11\n",
      "Wrong Day, Cheching Next\n",
      "Wrong Day, Cheching Next\n",
      "Wrong Day, Cheching Next\n",
      "Wrong Day, Cheching Next\n",
      "Wrong Day, Cheching Next\n",
      "Wrong Day, Cheching Next\n",
      "Wrong Day, Cheching Next\n",
      "Wrong Day, Cheching Next\n",
      "Wrong Day, Cheching Next\n",
      "Wrong Day, Cheching Next\n",
      "Reached Limit amount of tries\n",
      "Cannot Get data from Quandl. Skipping this one\n"
     ]
    },
    {
     "name": "stderr",
     "output_type": "stream",
     "text": [
      "\n",
      " 41%|█████████████████████████████████▎                                                | 13/32 [01:07<01:39,  5.22s/it]"
     ]
    },
    {
     "name": "stdout",
     "output_type": "stream",
     "text": [
      "Getting Original Date\n",
      "Getting quots \n",
      "Ticker:  aa \n",
      "Date:  2008-01-23\n",
      "Wrong Day, Cheching Next\n",
      "Wrong Day, Cheching Next\n",
      "Wrong Day, Cheching Next\n",
      "Wrong Day, Cheching Next\n",
      "Wrong Day, Cheching Next\n",
      "Wrong Day, Cheching Next\n",
      "Wrong Day, Cheching Next\n",
      "Wrong Day, Cheching Next\n",
      "Wrong Day, Cheching Next\n",
      "Wrong Day, Cheching Next\n",
      "Reached Limit amount of tries\n",
      "Cannot Get data from Quandl. Skipping this one\n"
     ]
    },
    {
     "name": "stderr",
     "output_type": "stream",
     "text": [
      "\n",
      " 44%|███████████████████████████████████▉                                              | 14/32 [01:19<01:41,  5.65s/it]"
     ]
    },
    {
     "name": "stdout",
     "output_type": "stream",
     "text": [
      "Getting Original Date\n",
      "Getting quots \n",
      "Ticker:  aa \n",
      "Date:  2008-10-28\n",
      "Wrong Day, Cheching Next\n",
      "Wrong Day, Cheching Next\n",
      "Wrong Day, Cheching Next\n",
      "Wrong Day, Cheching Next\n",
      "Wrong Day, Cheching Next\n",
      "Wrong Day, Cheching Next\n",
      "Wrong Day, Cheching Next\n",
      "Wrong Day, Cheching Next\n",
      "Wrong Day, Cheching Next\n",
      "Wrong Day, Cheching Next\n",
      "Reached Limit amount of tries\n",
      "Cannot Get data from Quandl. Skipping this one\n"
     ]
    },
    {
     "name": "stderr",
     "output_type": "stream",
     "text": [
      "\n",
      " 47%|██████████████████████████████████████▍                                           | 15/32 [01:22<01:34,  5.53s/it]"
     ]
    },
    {
     "name": "stdout",
     "output_type": "stream",
     "text": [
      "Getting Original Date\n",
      "Getting quots \n",
      "Ticker:  aa \n",
      "Date:  2008-12-05\n",
      "Wrong Day, Cheching Next\n",
      "Wrong Day, Cheching Next\n",
      "Wrong Day, Cheching Next\n",
      "Wrong Day, Cheching Next\n",
      "Wrong Day, Cheching Next\n",
      "Wrong Day, Cheching Next\n",
      "Wrong Day, Cheching Next\n",
      "Wrong Day, Cheching Next\n",
      "Wrong Day, Cheching Next\n",
      "Wrong Day, Cheching Next\n",
      "Reached Limit amount of tries\n",
      "Cannot Get data from Quandl. Skipping this one\n"
     ]
    },
    {
     "name": "stderr",
     "output_type": "stream",
     "text": [
      "\n",
      " 50%|█████████████████████████████████████████                                         | 16/32 [01:26<01:26,  5.41s/it]"
     ]
    },
    {
     "name": "stdout",
     "output_type": "stream",
     "text": [
      "Getting Original Date\n",
      "Pointing Date is -  5 (Day of the week)\n",
      "Checking Next Day\n",
      "Pointing Date is -  6 (Day of the week)\n",
      "Checking Next Day\n",
      "Getting quots \n",
      "Ticker:  aa \n",
      "Date:  2008-12-09\n",
      "Wrong Day, Cheching Next\n",
      "Wrong Day, Cheching Next\n",
      "Wrong Day, Cheching Next\n",
      "Wrong Day, Cheching Next\n",
      "Wrong Day, Cheching Next\n",
      "Wrong Day, Cheching Next\n",
      "Wrong Day, Cheching Next\n",
      "Wrong Day, Cheching Next\n",
      "Wrong Day, Cheching Next\n",
      "Wrong Day, Cheching Next\n",
      "Reached Limit amount of tries\n",
      "Cannot Get data from Quandl. Skipping this one\n"
     ]
    },
    {
     "name": "stderr",
     "output_type": "stream",
     "text": [
      "\n",
      " 53%|███████████████████████████████████████████▌                                      | 17/32 [01:30<01:19,  5.31s/it]"
     ]
    },
    {
     "name": "stdout",
     "output_type": "stream",
     "text": [
      "Getting Original Date\n",
      "Getting quots \n",
      "Ticker:  aa \n",
      "Date:  2008-12-18\n",
      "Wrong Day, Cheching Next\n",
      "Wrong Day, Cheching Next\n",
      "Wrong Day, Cheching Next\n",
      "Wrong Day, Cheching Next\n",
      "Wrong Day, Cheching Next\n",
      "Wrong Day, Cheching Next\n",
      "Wrong Day, Cheching Next\n",
      "Wrong Day, Cheching Next\n",
      "Wrong Day, Cheching Next\n",
      "Wrong Day, Cheching Next\n",
      "Reached Limit amount of tries\n",
      "Cannot Get data from Quandl. Skipping this one\n"
     ]
    },
    {
     "name": "stderr",
     "output_type": "stream",
     "text": [
      "\n",
      " 56%|██████████████████████████████████████████████▏                                   | 18/32 [01:33<01:12,  5.21s/it]"
     ]
    },
    {
     "name": "stdout",
     "output_type": "stream",
     "text": [
      "Getting Original Date\n",
      "Getting quots \n",
      "Ticker:  aa \n",
      "Date:  2009-03-09\n",
      "Wrong Day, Cheching Next\n",
      "Wrong Day, Cheching Next\n",
      "Wrong Day, Cheching Next\n",
      "Wrong Day, Cheching Next\n",
      "Wrong Day, Cheching Next\n",
      "Wrong Day, Cheching Next\n",
      "Wrong Day, Cheching Next\n",
      "Wrong Day, Cheching Next\n",
      "Wrong Day, Cheching Next\n",
      "Wrong Day, Cheching Next\n",
      "Reached Limit amount of tries\n",
      "Cannot Get data from Quandl. Skipping this one\n"
     ]
    },
    {
     "name": "stderr",
     "output_type": "stream",
     "text": [
      "\n",
      " 59%|████████████████████████████████████████████████▋                                 | 19/32 [01:40<01:08,  5.28s/it]"
     ]
    },
    {
     "name": "stdout",
     "output_type": "stream",
     "text": [
      "Getting Original Date\n",
      "Pointing Date is -  5 (Day of the week)\n",
      "Checking Next Day\n",
      "Pointing Date is -  6 (Day of the week)\n",
      "Checking Next Day\n",
      "Getting quots \n",
      "Ticker:  aa \n",
      "Date:  2011-09-06\n",
      "Wrong Day, Cheching Next\n",
      "Wrong Day, Cheching Next\n",
      "Wrong Day, Cheching Next\n",
      "Wrong Day, Cheching Next\n",
      "Wrong Day, Cheching Next\n",
      "Wrong Day, Cheching Next\n",
      "Wrong Day, Cheching Next\n",
      "Wrong Day, Cheching Next\n",
      "Wrong Day, Cheching Next\n",
      "Wrong Day, Cheching Next\n",
      "Reached Limit amount of tries\n",
      "Cannot Get data from Quandl. Skipping this one\n"
     ]
    },
    {
     "name": "stderr",
     "output_type": "stream",
     "text": [
      "\n",
      " 62%|███████████████████████████████████████████████████▎                              | 20/32 [01:46<01:03,  5.30s/it]"
     ]
    },
    {
     "name": "stdout",
     "output_type": "stream",
     "text": [
      "Getting Original Date\n",
      "Getting quots \n",
      "Ticker:  aa \n",
      "Date:  2011-11-02\n",
      "Wrong Day, Cheching Next\n",
      "Wrong Day, Cheching Next\n",
      "Wrong Day, Cheching Next\n",
      "Wrong Day, Cheching Next\n",
      "Wrong Day, Cheching Next\n",
      "Wrong Day, Cheching Next\n",
      "Wrong Day, Cheching Next\n",
      "Wrong Day, Cheching Next\n",
      "Wrong Day, Cheching Next\n",
      "Wrong Day, Cheching Next\n",
      "Reached Limit amount of tries\n",
      "Cannot Get data from Quandl. Skipping this one\n"
     ]
    },
    {
     "name": "stderr",
     "output_type": "stream",
     "text": [
      "\n",
      " 66%|█████████████████████████████████████████████████████▊                            | 21/32 [01:50<00:57,  5.26s/it]"
     ]
    },
    {
     "name": "stdout",
     "output_type": "stream",
     "text": [
      "Getting Original Date\n",
      "Pointing Date is -  5 (Day of the week)\n",
      "Checking Next Day\n",
      "Getting quots \n",
      "Ticker:  aa \n",
      "Date:  2011-11-07\n",
      "Wrong Day, Cheching Next\n",
      "Wrong Day, Cheching Next\n",
      "Wrong Day, Cheching Next\n",
      "Wrong Day, Cheching Next\n",
      "Wrong Day, Cheching Next\n",
      "Wrong Day, Cheching Next\n",
      "Wrong Day, Cheching Next\n",
      "Wrong Day, Cheching Next\n",
      "Wrong Day, Cheching Next\n",
      "Wrong Day, Cheching Next\n",
      "Reached Limit amount of tries\n",
      "Cannot Get data from Quandl. Skipping this one\n"
     ]
    },
    {
     "name": "stderr",
     "output_type": "stream",
     "text": [
      "\n",
      " 69%|████████████████████████████████████████████████████████▍                         | 22/32 [01:54<00:51,  5.19s/it]"
     ]
    },
    {
     "name": "stdout",
     "output_type": "stream",
     "text": [
      "Getting Original Date\n",
      "Cannot Get data from Quandl. Skipping this one\n",
      "Getting Original Date\n",
      "Getting quots \n",
      "Ticker:  aa \n",
      "Date:  2012-03-09\n",
      "Wrong Day, Cheching Next\n",
      "Wrong Day, Cheching Next\n",
      "Wrong Day, Cheching Next\n",
      "Wrong Day, Cheching Next\n",
      "Wrong Day, Cheching Next\n",
      "Wrong Day, Cheching Next\n",
      "Wrong Day, Cheching Next\n",
      "Wrong Day, Cheching Next\n",
      "Wrong Day, Cheching Next\n",
      "Wrong Day, Cheching Next\n",
      "Reached Limit amount of tries\n",
      "Cannot Get data from Quandl. Skipping this one\n"
     ]
    },
    {
     "name": "stderr",
     "output_type": "stream",
     "text": [
      "\n",
      " 75%|█████████████████████████████████████████████████████████████▌                    | 24/32 [01:58<00:39,  4.93s/it]"
     ]
    },
    {
     "name": "stdout",
     "output_type": "stream",
     "text": [
      "Getting Original Date\n",
      "Getting quots \n",
      "Ticker:  aa \n",
      "Date:  2012-03-19\n",
      "Wrong Day, Cheching Next\n",
      "Wrong Day, Cheching Next\n",
      "Wrong Day, Cheching Next\n",
      "Wrong Day, Cheching Next\n",
      "Wrong Day, Cheching Next\n",
      "Wrong Day, Cheching Next\n",
      "Wrong Day, Cheching Next\n",
      "Wrong Day, Cheching Next\n",
      "Wrong Day, Cheching Next\n",
      "Wrong Day, Cheching Next\n",
      "Reached Limit amount of tries\n",
      "Cannot Get data from Quandl. Skipping this one\n"
     ]
    },
    {
     "name": "stderr",
     "output_type": "stream",
     "text": [
      "\n",
      " 78%|████████████████████████████████████████████████████████████████                  | 25/32 [02:02<00:34,  4.89s/it]"
     ]
    },
    {
     "name": "stdout",
     "output_type": "stream",
     "text": [
      "Getting Original Date\n",
      "Pointing Date is -  5 (Day of the week)\n",
      "Checking Next Day\n",
      "Pointing Date is -  6 (Day of the week)\n",
      "Checking Next Day\n",
      "Getting quots \n",
      "Ticker:  aa \n",
      "Date:  2012-05-22\n",
      "Wrong Day, Cheching Next\n",
      "Wrong Day, Cheching Next\n",
      "Wrong Day, Cheching Next\n",
      "Wrong Day, Cheching Next\n",
      "Wrong Day, Cheching Next\n",
      "Wrong Day, Cheching Next\n",
      "Wrong Day, Cheching Next\n",
      "Wrong Day, Cheching Next\n",
      "Wrong Day, Cheching Next\n",
      "Wrong Day, Cheching Next\n",
      "Reached Limit amount of tries\n",
      "Cannot Get data from Quandl. Skipping this one\n"
     ]
    },
    {
     "name": "stderr",
     "output_type": "stream",
     "text": [
      "\n",
      " 81%|██████████████████████████████████████████████████████████████████▋               | 26/32 [02:05<00:28,  4.82s/it]"
     ]
    },
    {
     "name": "stdout",
     "output_type": "stream",
     "text": [
      "Getting Original Date\n",
      "Pointing Date is -  6 (Day of the week)\n",
      "Checking Next Day\n",
      "Getting quots \n",
      "Ticker:  aa \n",
      "Date:  2012-07-31\n",
      "Wrong Day, Cheching Next\n",
      "Wrong Day, Cheching Next\n",
      "Wrong Day, Cheching Next\n",
      "Wrong Day, Cheching Next\n",
      "Wrong Day, Cheching Next\n",
      "Wrong Day, Cheching Next\n",
      "Wrong Day, Cheching Next\n",
      "Wrong Day, Cheching Next\n",
      "Wrong Day, Cheching Next\n",
      "Wrong Day, Cheching Next\n",
      "Reached Limit amount of tries\n",
      "Cannot Get data from Quandl. Skipping this one\n"
     ]
    },
    {
     "name": "stderr",
     "output_type": "stream",
     "text": [
      "\n",
      " 84%|█████████████████████████████████████████████████████████████████████▏            | 27/32 [02:12<00:24,  4.90s/it]"
     ]
    },
    {
     "name": "stdout",
     "output_type": "stream",
     "text": [
      "Getting Original Date\n",
      "Getting quots \n",
      "Ticker:  aa \n",
      "Date:  2012-11-27\n",
      "Wrong Day, Cheching Next\n",
      "Wrong Day, Cheching Next\n",
      "Wrong Day, Cheching Next\n",
      "Wrong Day, Cheching Next\n",
      "Wrong Day, Cheching Next\n",
      "Wrong Day, Cheching Next\n",
      "Wrong Day, Cheching Next\n",
      "Wrong Day, Cheching Next\n",
      "Wrong Day, Cheching Next\n",
      "Wrong Day, Cheching Next\n",
      "Reached Limit amount of tries\n",
      "Cannot Get data from Quandl. Skipping this one\n"
     ]
    },
    {
     "name": "stderr",
     "output_type": "stream",
     "text": [
      "\n",
      " 88%|███████████████████████████████████████████████████████████████████████▊          | 28/32 [02:15<00:19,  4.85s/it]"
     ]
    },
    {
     "name": "stdout",
     "output_type": "stream",
     "text": [
      "Getting Original Date\n",
      "Getting quots \n",
      "Ticker:  aa \n",
      "Date:  2013-01-22\n",
      "Wrong Day, Cheching Next\n",
      "Wrong Day, Cheching Next\n",
      "Wrong Day, Cheching Next\n",
      "Wrong Day, Cheching Next\n",
      "Wrong Day, Cheching Next\n",
      "Wrong Day, Cheching Next\n",
      "Wrong Day, Cheching Next\n",
      "Wrong Day, Cheching Next\n",
      "Wrong Day, Cheching Next\n",
      "Wrong Day, Cheching Next\n",
      "Reached Limit amount of tries\n",
      "Cannot Get data from Quandl. Skipping this one\n"
     ]
    },
    {
     "name": "stderr",
     "output_type": "stream",
     "text": [
      "\n",
      " 91%|██████████████████████████████████████████████████████████████████████████▎       | 29/32 [02:19<00:14,  4.81s/it]"
     ]
    },
    {
     "name": "stdout",
     "output_type": "stream",
     "text": [
      "Getting Original Date\n",
      "Getting quots \n",
      "Ticker:  aa \n",
      "Date:  2013-04-23\n",
      "Wrong Day, Cheching Next\n",
      "Wrong Day, Cheching Next\n",
      "Wrong Day, Cheching Next\n",
      "Wrong Day, Cheching Next\n",
      "Wrong Day, Cheching Next\n",
      "Wrong Day, Cheching Next\n",
      "Wrong Day, Cheching Next\n",
      "Wrong Day, Cheching Next\n",
      "Wrong Day, Cheching Next\n",
      "Wrong Day, Cheching Next\n",
      "Reached Limit amount of tries\n",
      "Cannot Get data from Quandl. Skipping this one\n"
     ]
    },
    {
     "name": "stderr",
     "output_type": "stream",
     "text": [
      "\n",
      " 94%|████████████████████████████████████████████████████████████████████████████▉     | 30/32 [02:24<00:09,  4.80s/it]"
     ]
    },
    {
     "name": "stdout",
     "output_type": "stream",
     "text": [
      "Getting Original Date\n",
      "Getting quots \n",
      "Ticker:  aa \n",
      "Date:  2013-04-26\n",
      "Wrong Day, Cheching Next\n",
      "Wrong Day, Cheching Next\n",
      "Wrong Day, Cheching Next\n",
      "Wrong Day, Cheching Next\n",
      "Wrong Day, Cheching Next\n",
      "Wrong Day, Cheching Next\n",
      "Wrong Day, Cheching Next\n",
      "Wrong Day, Cheching Next\n",
      "Wrong Day, Cheching Next\n",
      "Wrong Day, Cheching Next\n",
      "Reached Limit amount of tries\n",
      "Cannot Get data from Quandl. Skipping this one\n"
     ]
    },
    {
     "name": "stderr",
     "output_type": "stream",
     "text": [
      "\n",
      " 97%|███████████████████████████████████████████████████████████████████████████████▍  | 31/32 [02:30<00:04,  4.87s/it]"
     ]
    },
    {
     "name": "stdout",
     "output_type": "stream",
     "text": [
      "Getting Original Date\n",
      "Pointing Date is -  6 (Day of the week)\n",
      "Checking Next Day\n",
      "Cannot Get data from Quandl. Skipping this one\n"
     ]
    },
    {
     "name": "stderr",
     "output_type": "stream",
     "text": [
      "\n",
      "100%|██████████████████████████████████████████████████████████████████████████████████| 32/32 [02:30<00:00,  4.72s/it]"
     ]
    },
    {
     "name": "stdout",
     "output_type": "stream",
     "text": [
      "Will save to file:  c:\\data\\finml\\PriceVsSNP500_aa.csv\n",
      "Star Export To MySQL Server\n"
     ]
    },
    {
     "ename": "InterfaceError",
     "evalue": "(mysql.connector.errors.InterfaceError) 2003: Can't connect to MySQL server on 'localhost:3306' (10061 No connection could be made because the target machine actively refused it) (Background on this error at: http://sqlalche.me/e/rvf5)",
     "output_type": "error",
     "traceback": [
      "\u001b[1;31m---------------------------------------------------------------------------\u001b[0m",
      "\u001b[1;31mConnectionRefusedError\u001b[0m                    Traceback (most recent call last)",
      "\u001b[1;32m~\\Anaconda3\\lib\\site-packages\\mysql\\connector\\network.py\u001b[0m in \u001b[0;36mopen_connection\u001b[1;34m(self)\u001b[0m\n\u001b[0;32m    508\u001b[0m             \u001b[0mself\u001b[0m\u001b[1;33m.\u001b[0m\u001b[0msock\u001b[0m\u001b[1;33m.\u001b[0m\u001b[0msettimeout\u001b[0m\u001b[1;33m(\u001b[0m\u001b[0mself\u001b[0m\u001b[1;33m.\u001b[0m\u001b[0m_connection_timeout\u001b[0m\u001b[1;33m)\u001b[0m\u001b[1;33m\u001b[0m\u001b[0m\n\u001b[1;32m--> 509\u001b[1;33m             \u001b[0mself\u001b[0m\u001b[1;33m.\u001b[0m\u001b[0msock\u001b[0m\u001b[1;33m.\u001b[0m\u001b[0mconnect\u001b[0m\u001b[1;33m(\u001b[0m\u001b[0msockaddr\u001b[0m\u001b[1;33m)\u001b[0m\u001b[1;33m\u001b[0m\u001b[0m\n\u001b[0m\u001b[0;32m    510\u001b[0m         \u001b[1;32mexcept\u001b[0m \u001b[0mIOError\u001b[0m \u001b[1;32mas\u001b[0m \u001b[0merr\u001b[0m\u001b[1;33m:\u001b[0m\u001b[1;33m\u001b[0m\u001b[0m\n",
      "\u001b[1;31mConnectionRefusedError\u001b[0m: [WinError 10061] No connection could be made because the target machine actively refused it",
      "\nDuring handling of the above exception, another exception occurred:\n",
      "\u001b[1;31mInterfaceError\u001b[0m                            Traceback (most recent call last)",
      "\u001b[1;32m~\\Anaconda3\\lib\\site-packages\\sqlalchemy\\engine\\base.py\u001b[0m in \u001b[0;36m_wrap_pool_connect\u001b[1;34m(self, fn, connection)\u001b[0m\n\u001b[0;32m   2157\u001b[0m         \u001b[1;32mtry\u001b[0m\u001b[1;33m:\u001b[0m\u001b[1;33m\u001b[0m\u001b[0m\n\u001b[1;32m-> 2158\u001b[1;33m             \u001b[1;32mreturn\u001b[0m \u001b[0mfn\u001b[0m\u001b[1;33m(\u001b[0m\u001b[1;33m)\u001b[0m\u001b[1;33m\u001b[0m\u001b[0m\n\u001b[0m\u001b[0;32m   2159\u001b[0m         \u001b[1;32mexcept\u001b[0m \u001b[0mdialect\u001b[0m\u001b[1;33m.\u001b[0m\u001b[0mdbapi\u001b[0m\u001b[1;33m.\u001b[0m\u001b[0mError\u001b[0m \u001b[1;32mas\u001b[0m \u001b[0me\u001b[0m\u001b[1;33m:\u001b[0m\u001b[1;33m\u001b[0m\u001b[0m\n",
      "\u001b[1;32m~\\Anaconda3\\lib\\site-packages\\sqlalchemy\\pool.py\u001b[0m in \u001b[0;36mconnect\u001b[1;34m(self)\u001b[0m\n\u001b[0;32m    402\u001b[0m         \u001b[1;32mif\u001b[0m \u001b[1;32mnot\u001b[0m \u001b[0mself\u001b[0m\u001b[1;33m.\u001b[0m\u001b[0m_use_threadlocal\u001b[0m\u001b[1;33m:\u001b[0m\u001b[1;33m\u001b[0m\u001b[0m\n\u001b[1;32m--> 403\u001b[1;33m             \u001b[1;32mreturn\u001b[0m \u001b[0m_ConnectionFairy\u001b[0m\u001b[1;33m.\u001b[0m\u001b[0m_checkout\u001b[0m\u001b[1;33m(\u001b[0m\u001b[0mself\u001b[0m\u001b[1;33m)\u001b[0m\u001b[1;33m\u001b[0m\u001b[0m\n\u001b[0m\u001b[0;32m    404\u001b[0m \u001b[1;33m\u001b[0m\u001b[0m\n",
      "\u001b[1;32m~\\Anaconda3\\lib\\site-packages\\sqlalchemy\\pool.py\u001b[0m in \u001b[0;36m_checkout\u001b[1;34m(cls, pool, threadconns, fairy)\u001b[0m\n\u001b[0;32m    787\u001b[0m         \u001b[1;32mif\u001b[0m \u001b[1;32mnot\u001b[0m \u001b[0mfairy\u001b[0m\u001b[1;33m:\u001b[0m\u001b[1;33m\u001b[0m\u001b[0m\n\u001b[1;32m--> 788\u001b[1;33m             \u001b[0mfairy\u001b[0m \u001b[1;33m=\u001b[0m \u001b[0m_ConnectionRecord\u001b[0m\u001b[1;33m.\u001b[0m\u001b[0mcheckout\u001b[0m\u001b[1;33m(\u001b[0m\u001b[0mpool\u001b[0m\u001b[1;33m)\u001b[0m\u001b[1;33m\u001b[0m\u001b[0m\n\u001b[0m\u001b[0;32m    789\u001b[0m \u001b[1;33m\u001b[0m\u001b[0m\n",
      "\u001b[1;32m~\\Anaconda3\\lib\\site-packages\\sqlalchemy\\pool.py\u001b[0m in \u001b[0;36mcheckout\u001b[1;34m(cls, pool)\u001b[0m\n\u001b[0;32m    531\u001b[0m     \u001b[1;32mdef\u001b[0m \u001b[0mcheckout\u001b[0m\u001b[1;33m(\u001b[0m\u001b[0mcls\u001b[0m\u001b[1;33m,\u001b[0m \u001b[0mpool\u001b[0m\u001b[1;33m)\u001b[0m\u001b[1;33m:\u001b[0m\u001b[1;33m\u001b[0m\u001b[0m\n\u001b[1;32m--> 532\u001b[1;33m         \u001b[0mrec\u001b[0m \u001b[1;33m=\u001b[0m \u001b[0mpool\u001b[0m\u001b[1;33m.\u001b[0m\u001b[0m_do_get\u001b[0m\u001b[1;33m(\u001b[0m\u001b[1;33m)\u001b[0m\u001b[1;33m\u001b[0m\u001b[0m\n\u001b[0m\u001b[0;32m    533\u001b[0m         \u001b[1;32mtry\u001b[0m\u001b[1;33m:\u001b[0m\u001b[1;33m\u001b[0m\u001b[0m\n",
      "\u001b[1;32m~\\Anaconda3\\lib\\site-packages\\sqlalchemy\\pool.py\u001b[0m in \u001b[0;36m_do_get\u001b[1;34m(self)\u001b[0m\n\u001b[0;32m   1192\u001b[0m                 \u001b[1;32mwith\u001b[0m \u001b[0mutil\u001b[0m\u001b[1;33m.\u001b[0m\u001b[0msafe_reraise\u001b[0m\u001b[1;33m(\u001b[0m\u001b[1;33m)\u001b[0m\u001b[1;33m:\u001b[0m\u001b[1;33m\u001b[0m\u001b[0m\n\u001b[1;32m-> 1193\u001b[1;33m                     \u001b[0mself\u001b[0m\u001b[1;33m.\u001b[0m\u001b[0m_dec_overflow\u001b[0m\u001b[1;33m(\u001b[0m\u001b[1;33m)\u001b[0m\u001b[1;33m\u001b[0m\u001b[0m\n\u001b[0m\u001b[0;32m   1194\u001b[0m         \u001b[1;32melse\u001b[0m\u001b[1;33m:\u001b[0m\u001b[1;33m\u001b[0m\u001b[0m\n",
      "\u001b[1;32m~\\Anaconda3\\lib\\site-packages\\sqlalchemy\\util\\langhelpers.py\u001b[0m in \u001b[0;36m__exit__\u001b[1;34m(self, type_, value, traceback)\u001b[0m\n\u001b[0;32m     65\u001b[0m             \u001b[1;32mif\u001b[0m \u001b[1;32mnot\u001b[0m \u001b[0mself\u001b[0m\u001b[1;33m.\u001b[0m\u001b[0mwarn_only\u001b[0m\u001b[1;33m:\u001b[0m\u001b[1;33m\u001b[0m\u001b[0m\n\u001b[1;32m---> 66\u001b[1;33m                 \u001b[0mcompat\u001b[0m\u001b[1;33m.\u001b[0m\u001b[0mreraise\u001b[0m\u001b[1;33m(\u001b[0m\u001b[0mexc_type\u001b[0m\u001b[1;33m,\u001b[0m \u001b[0mexc_value\u001b[0m\u001b[1;33m,\u001b[0m \u001b[0mexc_tb\u001b[0m\u001b[1;33m)\u001b[0m\u001b[1;33m\u001b[0m\u001b[0m\n\u001b[0m\u001b[0;32m     67\u001b[0m         \u001b[1;32melse\u001b[0m\u001b[1;33m:\u001b[0m\u001b[1;33m\u001b[0m\u001b[0m\n",
      "\u001b[1;32m~\\Anaconda3\\lib\\site-packages\\sqlalchemy\\util\\compat.py\u001b[0m in \u001b[0;36mreraise\u001b[1;34m(tp, value, tb, cause)\u001b[0m\n\u001b[0;32m    186\u001b[0m             \u001b[1;32mraise\u001b[0m \u001b[0mvalue\u001b[0m\u001b[1;33m.\u001b[0m\u001b[0mwith_traceback\u001b[0m\u001b[1;33m(\u001b[0m\u001b[0mtb\u001b[0m\u001b[1;33m)\u001b[0m\u001b[1;33m\u001b[0m\u001b[0m\n\u001b[1;32m--> 187\u001b[1;33m         \u001b[1;32mraise\u001b[0m \u001b[0mvalue\u001b[0m\u001b[1;33m\u001b[0m\u001b[0m\n\u001b[0m\u001b[0;32m    188\u001b[0m \u001b[1;33m\u001b[0m\u001b[0m\n",
      "\u001b[1;32m~\\Anaconda3\\lib\\site-packages\\sqlalchemy\\pool.py\u001b[0m in \u001b[0;36m_do_get\u001b[1;34m(self)\u001b[0m\n\u001b[0;32m   1189\u001b[0m             \u001b[1;32mtry\u001b[0m\u001b[1;33m:\u001b[0m\u001b[1;33m\u001b[0m\u001b[0m\n\u001b[1;32m-> 1190\u001b[1;33m                 \u001b[1;32mreturn\u001b[0m \u001b[0mself\u001b[0m\u001b[1;33m.\u001b[0m\u001b[0m_create_connection\u001b[0m\u001b[1;33m(\u001b[0m\u001b[1;33m)\u001b[0m\u001b[1;33m\u001b[0m\u001b[0m\n\u001b[0m\u001b[0;32m   1191\u001b[0m             \u001b[1;32mexcept\u001b[0m\u001b[1;33m:\u001b[0m\u001b[1;33m\u001b[0m\u001b[0m\n",
      "\u001b[1;32m~\\Anaconda3\\lib\\site-packages\\sqlalchemy\\pool.py\u001b[0m in \u001b[0;36m_create_connection\u001b[1;34m(self)\u001b[0m\n\u001b[0;32m    349\u001b[0m \u001b[1;33m\u001b[0m\u001b[0m\n\u001b[1;32m--> 350\u001b[1;33m         \u001b[1;32mreturn\u001b[0m \u001b[0m_ConnectionRecord\u001b[0m\u001b[1;33m(\u001b[0m\u001b[0mself\u001b[0m\u001b[1;33m)\u001b[0m\u001b[1;33m\u001b[0m\u001b[0m\n\u001b[0m\u001b[0;32m    351\u001b[0m \u001b[1;33m\u001b[0m\u001b[0m\n",
      "\u001b[1;32m~\\Anaconda3\\lib\\site-packages\\sqlalchemy\\pool.py\u001b[0m in \u001b[0;36m__init__\u001b[1;34m(self, pool, connect)\u001b[0m\n\u001b[0;32m    476\u001b[0m         \u001b[1;32mif\u001b[0m \u001b[0mconnect\u001b[0m\u001b[1;33m:\u001b[0m\u001b[1;33m\u001b[0m\u001b[0m\n\u001b[1;32m--> 477\u001b[1;33m             \u001b[0mself\u001b[0m\u001b[1;33m.\u001b[0m\u001b[0m__connect\u001b[0m\u001b[1;33m(\u001b[0m\u001b[0mfirst_connect_check\u001b[0m\u001b[1;33m=\u001b[0m\u001b[1;32mTrue\u001b[0m\u001b[1;33m)\u001b[0m\u001b[1;33m\u001b[0m\u001b[0m\n\u001b[0m\u001b[0;32m    478\u001b[0m         \u001b[0mself\u001b[0m\u001b[1;33m.\u001b[0m\u001b[0mfinalize_callback\u001b[0m \u001b[1;33m=\u001b[0m \u001b[0mdeque\u001b[0m\u001b[1;33m(\u001b[0m\u001b[1;33m)\u001b[0m\u001b[1;33m\u001b[0m\u001b[0m\n",
      "\u001b[1;32m~\\Anaconda3\\lib\\site-packages\\sqlalchemy\\pool.py\u001b[0m in \u001b[0;36m__connect\u001b[1;34m(self, first_connect_check)\u001b[0m\n\u001b[0;32m    670\u001b[0m             \u001b[0mself\u001b[0m\u001b[1;33m.\u001b[0m\u001b[0mstarttime\u001b[0m \u001b[1;33m=\u001b[0m \u001b[0mtime\u001b[0m\u001b[1;33m.\u001b[0m\u001b[0mtime\u001b[0m\u001b[1;33m(\u001b[0m\u001b[1;33m)\u001b[0m\u001b[1;33m\u001b[0m\u001b[0m\n\u001b[1;32m--> 671\u001b[1;33m             \u001b[0mconnection\u001b[0m \u001b[1;33m=\u001b[0m \u001b[0mpool\u001b[0m\u001b[1;33m.\u001b[0m\u001b[0m_invoke_creator\u001b[0m\u001b[1;33m(\u001b[0m\u001b[0mself\u001b[0m\u001b[1;33m)\u001b[0m\u001b[1;33m\u001b[0m\u001b[0m\n\u001b[0m\u001b[0;32m    672\u001b[0m             \u001b[0mpool\u001b[0m\u001b[1;33m.\u001b[0m\u001b[0mlogger\u001b[0m\u001b[1;33m.\u001b[0m\u001b[0mdebug\u001b[0m\u001b[1;33m(\u001b[0m\u001b[1;34m\"Created new connection %r\"\u001b[0m\u001b[1;33m,\u001b[0m \u001b[0mconnection\u001b[0m\u001b[1;33m)\u001b[0m\u001b[1;33m\u001b[0m\u001b[0m\n",
      "\u001b[1;32m~\\Anaconda3\\lib\\site-packages\\sqlalchemy\\engine\\strategies.py\u001b[0m in \u001b[0;36mconnect\u001b[1;34m(connection_record)\u001b[0m\n\u001b[0;32m    105\u001b[0m                             \u001b[1;32mreturn\u001b[0m \u001b[0mconnection\u001b[0m\u001b[1;33m\u001b[0m\u001b[0m\n\u001b[1;32m--> 106\u001b[1;33m                 \u001b[1;32mreturn\u001b[0m \u001b[0mdialect\u001b[0m\u001b[1;33m.\u001b[0m\u001b[0mconnect\u001b[0m\u001b[1;33m(\u001b[0m\u001b[1;33m*\u001b[0m\u001b[0mcargs\u001b[0m\u001b[1;33m,\u001b[0m \u001b[1;33m**\u001b[0m\u001b[0mcparams\u001b[0m\u001b[1;33m)\u001b[0m\u001b[1;33m\u001b[0m\u001b[0m\n\u001b[0m\u001b[0;32m    107\u001b[0m \u001b[1;33m\u001b[0m\u001b[0m\n",
      "\u001b[1;32m~\\Anaconda3\\lib\\site-packages\\sqlalchemy\\engine\\default.py\u001b[0m in \u001b[0;36mconnect\u001b[1;34m(self, *cargs, **cparams)\u001b[0m\n\u001b[0;32m    409\u001b[0m     \u001b[1;32mdef\u001b[0m \u001b[0mconnect\u001b[0m\u001b[1;33m(\u001b[0m\u001b[0mself\u001b[0m\u001b[1;33m,\u001b[0m \u001b[1;33m*\u001b[0m\u001b[0mcargs\u001b[0m\u001b[1;33m,\u001b[0m \u001b[1;33m**\u001b[0m\u001b[0mcparams\u001b[0m\u001b[1;33m)\u001b[0m\u001b[1;33m:\u001b[0m\u001b[1;33m\u001b[0m\u001b[0m\n\u001b[1;32m--> 410\u001b[1;33m         \u001b[1;32mreturn\u001b[0m \u001b[0mself\u001b[0m\u001b[1;33m.\u001b[0m\u001b[0mdbapi\u001b[0m\u001b[1;33m.\u001b[0m\u001b[0mconnect\u001b[0m\u001b[1;33m(\u001b[0m\u001b[1;33m*\u001b[0m\u001b[0mcargs\u001b[0m\u001b[1;33m,\u001b[0m \u001b[1;33m**\u001b[0m\u001b[0mcparams\u001b[0m\u001b[1;33m)\u001b[0m\u001b[1;33m\u001b[0m\u001b[0m\n\u001b[0m\u001b[0;32m    411\u001b[0m \u001b[1;33m\u001b[0m\u001b[0m\n",
      "\u001b[1;32m~\\Anaconda3\\lib\\site-packages\\mysql\\connector\\__init__.py\u001b[0m in \u001b[0;36mconnect\u001b[1;34m(*args, **kwargs)\u001b[0m\n\u001b[0;32m    178\u001b[0m     \u001b[1;32melse\u001b[0m\u001b[1;33m:\u001b[0m\u001b[1;33m\u001b[0m\u001b[0m\n\u001b[1;32m--> 179\u001b[1;33m         \u001b[1;32mreturn\u001b[0m \u001b[0mMySQLConnection\u001b[0m\u001b[1;33m(\u001b[0m\u001b[1;33m*\u001b[0m\u001b[0margs\u001b[0m\u001b[1;33m,\u001b[0m \u001b[1;33m**\u001b[0m\u001b[0mkwargs\u001b[0m\u001b[1;33m)\u001b[0m\u001b[1;33m\u001b[0m\u001b[0m\n\u001b[0m\u001b[0;32m    180\u001b[0m \u001b[0mConnect\u001b[0m \u001b[1;33m=\u001b[0m \u001b[0mconnect\u001b[0m  \u001b[1;31m# pylint: disable=C0103\u001b[0m\u001b[1;33m\u001b[0m\u001b[0m\n",
      "\u001b[1;32m~\\Anaconda3\\lib\\site-packages\\mysql\\connector\\connection.py\u001b[0m in \u001b[0;36m__init__\u001b[1;34m(self, *args, **kwargs)\u001b[0m\n\u001b[0;32m     93\u001b[0m         \u001b[1;32mif\u001b[0m \u001b[0mlen\u001b[0m\u001b[1;33m(\u001b[0m\u001b[0mkwargs\u001b[0m\u001b[1;33m)\u001b[0m \u001b[1;33m>\u001b[0m \u001b[1;36m0\u001b[0m\u001b[1;33m:\u001b[0m\u001b[1;33m\u001b[0m\u001b[0m\n\u001b[1;32m---> 94\u001b[1;33m             \u001b[0mself\u001b[0m\u001b[1;33m.\u001b[0m\u001b[0mconnect\u001b[0m\u001b[1;33m(\u001b[0m\u001b[1;33m**\u001b[0m\u001b[0mkwargs\u001b[0m\u001b[1;33m)\u001b[0m\u001b[1;33m\u001b[0m\u001b[0m\n\u001b[0m\u001b[0;32m     95\u001b[0m \u001b[1;33m\u001b[0m\u001b[0m\n",
      "\u001b[1;32m~\\Anaconda3\\lib\\site-packages\\mysql\\connector\\abstracts.py\u001b[0m in \u001b[0;36mconnect\u001b[1;34m(self, **kwargs)\u001b[0m\n\u001b[0;32m    721\u001b[0m         \u001b[0mself\u001b[0m\u001b[1;33m.\u001b[0m\u001b[0mdisconnect\u001b[0m\u001b[1;33m(\u001b[0m\u001b[1;33m)\u001b[0m\u001b[1;33m\u001b[0m\u001b[0m\n\u001b[1;32m--> 722\u001b[1;33m         \u001b[0mself\u001b[0m\u001b[1;33m.\u001b[0m\u001b[0m_open_connection\u001b[0m\u001b[1;33m(\u001b[0m\u001b[1;33m)\u001b[0m\u001b[1;33m\u001b[0m\u001b[0m\n\u001b[0m\u001b[0;32m    723\u001b[0m         \u001b[0mself\u001b[0m\u001b[1;33m.\u001b[0m\u001b[0m_post_connection\u001b[0m\u001b[1;33m(\u001b[0m\u001b[1;33m)\u001b[0m\u001b[1;33m\u001b[0m\u001b[0m\n",
      "\u001b[1;32m~\\Anaconda3\\lib\\site-packages\\mysql\\connector\\connection.py\u001b[0m in \u001b[0;36m_open_connection\u001b[1;34m(self)\u001b[0m\n\u001b[0;32m    206\u001b[0m         \u001b[0mself\u001b[0m\u001b[1;33m.\u001b[0m\u001b[0m_socket\u001b[0m \u001b[1;33m=\u001b[0m \u001b[0mself\u001b[0m\u001b[1;33m.\u001b[0m\u001b[0m_get_connection\u001b[0m\u001b[1;33m(\u001b[0m\u001b[1;33m)\u001b[0m\u001b[1;33m\u001b[0m\u001b[0m\n\u001b[1;32m--> 207\u001b[1;33m         \u001b[0mself\u001b[0m\u001b[1;33m.\u001b[0m\u001b[0m_socket\u001b[0m\u001b[1;33m.\u001b[0m\u001b[0mopen_connection\u001b[0m\u001b[1;33m(\u001b[0m\u001b[1;33m)\u001b[0m\u001b[1;33m\u001b[0m\u001b[0m\n\u001b[0m\u001b[0;32m    208\u001b[0m         \u001b[0mself\u001b[0m\u001b[1;33m.\u001b[0m\u001b[0m_do_handshake\u001b[0m\u001b[1;33m(\u001b[0m\u001b[1;33m)\u001b[0m\u001b[1;33m\u001b[0m\u001b[0m\n",
      "\u001b[1;32m~\\Anaconda3\\lib\\site-packages\\mysql\\connector\\network.py\u001b[0m in \u001b[0;36mopen_connection\u001b[1;34m(self)\u001b[0m\n\u001b[0;32m    511\u001b[0m             raise errors.InterfaceError(\n\u001b[1;32m--> 512\u001b[1;33m                 errno=2003, values=(self.get_address(), _strioerror(err)))\n\u001b[0m\u001b[0;32m    513\u001b[0m         \u001b[1;32mexcept\u001b[0m \u001b[0mException\u001b[0m \u001b[1;32mas\u001b[0m \u001b[0merr\u001b[0m\u001b[1;33m:\u001b[0m\u001b[1;33m\u001b[0m\u001b[0m\n",
      "\u001b[1;31mInterfaceError\u001b[0m: 2003: Can't connect to MySQL server on 'localhost:3306' (10061 No connection could be made because the target machine actively refused it)",
      "\nThe above exception was the direct cause of the following exception:\n",
      "\u001b[1;31mInterfaceError\u001b[0m                            Traceback (most recent call last)",
      "\u001b[1;32m<ipython-input-2-b45d8c4b7437>\u001b[0m in \u001b[0;36m<module>\u001b[1;34m()\u001b[0m\n\u001b[0;32m     54\u001b[0m \u001b[0mres_df\u001b[0m\u001b[1;33m.\u001b[0m\u001b[0mcolumns\u001b[0m \u001b[1;33m=\u001b[0m \u001b[1;33m[\u001b[0m\u001b[0mx\u001b[0m\u001b[1;33m.\u001b[0m\u001b[0mreplace\u001b[0m\u001b[1;33m(\u001b[0m\u001b[1;34m'('\u001b[0m\u001b[1;33m,\u001b[0m\u001b[1;34m''\u001b[0m\u001b[1;33m)\u001b[0m\u001b[1;33m.\u001b[0m\u001b[0mreplace\u001b[0m\u001b[1;33m(\u001b[0m\u001b[1;34m')'\u001b[0m\u001b[1;33m,\u001b[0m\u001b[1;34m''\u001b[0m\u001b[1;33m)\u001b[0m \u001b[1;32mfor\u001b[0m \u001b[0mx\u001b[0m \u001b[1;32min\u001b[0m \u001b[0mres_df\u001b[0m\u001b[1;33m.\u001b[0m\u001b[0mcolumns\u001b[0m\u001b[1;33m]\u001b[0m\u001b[1;33m\u001b[0m\u001b[0m\n\u001b[0;32m     55\u001b[0m \u001b[0mname\u001b[0m \u001b[1;33m=\u001b[0m \u001b[1;34m'SNP500 Stocks - '\u001b[0m\u001b[1;33m+\u001b[0m\u001b[0mstr\u001b[0m\u001b[1;33m(\u001b[0m\u001b[0mlimit\u001b[0m\u001b[1;33m)\u001b[0m\u001b[1;33m\u001b[0m\u001b[0m\n\u001b[1;32m---> 56\u001b[1;33m \u001b[0mres_df\u001b[0m\u001b[1;33m.\u001b[0m\u001b[0mto_sql\u001b[0m\u001b[1;33m(\u001b[0m\u001b[0mname\u001b[0m\u001b[1;33m=\u001b[0m\u001b[0mname\u001b[0m\u001b[1;33m,\u001b[0m\u001b[0mcon\u001b[0m\u001b[1;33m=\u001b[0m\u001b[0mengine\u001b[0m\u001b[1;33m,\u001b[0m\u001b[0mif_exists\u001b[0m\u001b[1;33m=\u001b[0m\u001b[1;34m'replace'\u001b[0m\u001b[1;33m)\u001b[0m\u001b[1;33m\u001b[0m\u001b[0m\n\u001b[0m\u001b[0;32m     57\u001b[0m \u001b[0mprint\u001b[0m\u001b[1;33m(\u001b[0m\u001b[1;34m\"Export has finished successfully\"\u001b[0m\u001b[1;33m)\u001b[0m\u001b[1;33m\u001b[0m\u001b[0m\n",
      "\u001b[1;32m~\\Anaconda3\\lib\\site-packages\\pandas\\core\\generic.py\u001b[0m in \u001b[0;36mto_sql\u001b[1;34m(self, name, con, schema, if_exists, index, index_label, chunksize, dtype)\u001b[0m\n\u001b[0;32m   2125\u001b[0m         sql.to_sql(self, name, con, schema=schema, if_exists=if_exists,\n\u001b[0;32m   2126\u001b[0m                    \u001b[0mindex\u001b[0m\u001b[1;33m=\u001b[0m\u001b[0mindex\u001b[0m\u001b[1;33m,\u001b[0m \u001b[0mindex_label\u001b[0m\u001b[1;33m=\u001b[0m\u001b[0mindex_label\u001b[0m\u001b[1;33m,\u001b[0m \u001b[0mchunksize\u001b[0m\u001b[1;33m=\u001b[0m\u001b[0mchunksize\u001b[0m\u001b[1;33m,\u001b[0m\u001b[1;33m\u001b[0m\u001b[0m\n\u001b[1;32m-> 2127\u001b[1;33m                    dtype=dtype)\n\u001b[0m\u001b[0;32m   2128\u001b[0m \u001b[1;33m\u001b[0m\u001b[0m\n\u001b[0;32m   2129\u001b[0m     def to_pickle(self, path, compression='infer',\n",
      "\u001b[1;32m~\\Anaconda3\\lib\\site-packages\\pandas\\io\\sql.py\u001b[0m in \u001b[0;36mto_sql\u001b[1;34m(frame, name, con, schema, if_exists, index, index_label, chunksize, dtype)\u001b[0m\n\u001b[0;32m    448\u001b[0m     pandas_sql.to_sql(frame, name, if_exists=if_exists, index=index,\n\u001b[0;32m    449\u001b[0m                       \u001b[0mindex_label\u001b[0m\u001b[1;33m=\u001b[0m\u001b[0mindex_label\u001b[0m\u001b[1;33m,\u001b[0m \u001b[0mschema\u001b[0m\u001b[1;33m=\u001b[0m\u001b[0mschema\u001b[0m\u001b[1;33m,\u001b[0m\u001b[1;33m\u001b[0m\u001b[0m\n\u001b[1;32m--> 450\u001b[1;33m                       chunksize=chunksize, dtype=dtype)\n\u001b[0m\u001b[0;32m    451\u001b[0m \u001b[1;33m\u001b[0m\u001b[0m\n\u001b[0;32m    452\u001b[0m \u001b[1;33m\u001b[0m\u001b[0m\n",
      "\u001b[1;32m~\\Anaconda3\\lib\\site-packages\\pandas\\io\\sql.py\u001b[0m in \u001b[0;36mto_sql\u001b[1;34m(self, frame, name, if_exists, index, index_label, schema, chunksize, dtype)\u001b[0m\n\u001b[0;32m   1146\u001b[0m                          \u001b[0mif_exists\u001b[0m\u001b[1;33m=\u001b[0m\u001b[0mif_exists\u001b[0m\u001b[1;33m,\u001b[0m \u001b[0mindex_label\u001b[0m\u001b[1;33m=\u001b[0m\u001b[0mindex_label\u001b[0m\u001b[1;33m,\u001b[0m\u001b[1;33m\u001b[0m\u001b[0m\n\u001b[0;32m   1147\u001b[0m                          schema=schema, dtype=dtype)\n\u001b[1;32m-> 1148\u001b[1;33m         \u001b[0mtable\u001b[0m\u001b[1;33m.\u001b[0m\u001b[0mcreate\u001b[0m\u001b[1;33m(\u001b[0m\u001b[1;33m)\u001b[0m\u001b[1;33m\u001b[0m\u001b[0m\n\u001b[0m\u001b[0;32m   1149\u001b[0m         \u001b[0mtable\u001b[0m\u001b[1;33m.\u001b[0m\u001b[0minsert\u001b[0m\u001b[1;33m(\u001b[0m\u001b[0mchunksize\u001b[0m\u001b[1;33m)\u001b[0m\u001b[1;33m\u001b[0m\u001b[0m\n\u001b[0;32m   1150\u001b[0m         \u001b[1;32mif\u001b[0m \u001b[1;33m(\u001b[0m\u001b[1;32mnot\u001b[0m \u001b[0mname\u001b[0m\u001b[1;33m.\u001b[0m\u001b[0misdigit\u001b[0m\u001b[1;33m(\u001b[0m\u001b[1;33m)\u001b[0m \u001b[1;32mand\u001b[0m \u001b[1;32mnot\u001b[0m \u001b[0mname\u001b[0m\u001b[1;33m.\u001b[0m\u001b[0mislower\u001b[0m\u001b[1;33m(\u001b[0m\u001b[1;33m)\u001b[0m\u001b[1;33m)\u001b[0m\u001b[1;33m:\u001b[0m\u001b[1;33m\u001b[0m\u001b[0m\n",
      "\u001b[1;32m~\\Anaconda3\\lib\\site-packages\\pandas\\io\\sql.py\u001b[0m in \u001b[0;36mcreate\u001b[1;34m(self)\u001b[0m\n\u001b[0;32m    559\u001b[0m \u001b[1;33m\u001b[0m\u001b[0m\n\u001b[0;32m    560\u001b[0m     \u001b[1;32mdef\u001b[0m \u001b[0mcreate\u001b[0m\u001b[1;33m(\u001b[0m\u001b[0mself\u001b[0m\u001b[1;33m)\u001b[0m\u001b[1;33m:\u001b[0m\u001b[1;33m\u001b[0m\u001b[0m\n\u001b[1;32m--> 561\u001b[1;33m         \u001b[1;32mif\u001b[0m \u001b[0mself\u001b[0m\u001b[1;33m.\u001b[0m\u001b[0mexists\u001b[0m\u001b[1;33m(\u001b[0m\u001b[1;33m)\u001b[0m\u001b[1;33m:\u001b[0m\u001b[1;33m\u001b[0m\u001b[0m\n\u001b[0m\u001b[0;32m    562\u001b[0m             \u001b[1;32mif\u001b[0m \u001b[0mself\u001b[0m\u001b[1;33m.\u001b[0m\u001b[0mif_exists\u001b[0m \u001b[1;33m==\u001b[0m \u001b[1;34m'fail'\u001b[0m\u001b[1;33m:\u001b[0m\u001b[1;33m\u001b[0m\u001b[0m\n\u001b[0;32m    563\u001b[0m                 \u001b[1;32mraise\u001b[0m \u001b[0mValueError\u001b[0m\u001b[1;33m(\u001b[0m\u001b[1;34m\"Table '%s' already exists.\"\u001b[0m \u001b[1;33m%\u001b[0m \u001b[0mself\u001b[0m\u001b[1;33m.\u001b[0m\u001b[0mname\u001b[0m\u001b[1;33m)\u001b[0m\u001b[1;33m\u001b[0m\u001b[0m\n",
      "\u001b[1;32m~\\Anaconda3\\lib\\site-packages\\pandas\\io\\sql.py\u001b[0m in \u001b[0;36mexists\u001b[1;34m(self)\u001b[0m\n\u001b[0;32m    547\u001b[0m \u001b[1;33m\u001b[0m\u001b[0m\n\u001b[0;32m    548\u001b[0m     \u001b[1;32mdef\u001b[0m \u001b[0mexists\u001b[0m\u001b[1;33m(\u001b[0m\u001b[0mself\u001b[0m\u001b[1;33m)\u001b[0m\u001b[1;33m:\u001b[0m\u001b[1;33m\u001b[0m\u001b[0m\n\u001b[1;32m--> 549\u001b[1;33m         \u001b[1;32mreturn\u001b[0m \u001b[0mself\u001b[0m\u001b[1;33m.\u001b[0m\u001b[0mpd_sql\u001b[0m\u001b[1;33m.\u001b[0m\u001b[0mhas_table\u001b[0m\u001b[1;33m(\u001b[0m\u001b[0mself\u001b[0m\u001b[1;33m.\u001b[0m\u001b[0mname\u001b[0m\u001b[1;33m,\u001b[0m \u001b[0mself\u001b[0m\u001b[1;33m.\u001b[0m\u001b[0mschema\u001b[0m\u001b[1;33m)\u001b[0m\u001b[1;33m\u001b[0m\u001b[0m\n\u001b[0m\u001b[0;32m    550\u001b[0m \u001b[1;33m\u001b[0m\u001b[0m\n\u001b[0;32m    551\u001b[0m     \u001b[1;32mdef\u001b[0m \u001b[0msql_schema\u001b[0m\u001b[1;33m(\u001b[0m\u001b[0mself\u001b[0m\u001b[1;33m)\u001b[0m\u001b[1;33m:\u001b[0m\u001b[1;33m\u001b[0m\u001b[0m\n",
      "\u001b[1;32m~\\Anaconda3\\lib\\site-packages\\pandas\\io\\sql.py\u001b[0m in \u001b[0;36mhas_table\u001b[1;34m(self, name, schema)\u001b[0m\n\u001b[0;32m   1174\u001b[0m             \u001b[0mself\u001b[0m\u001b[1;33m.\u001b[0m\u001b[0mconnectable\u001b[0m\u001b[1;33m.\u001b[0m\u001b[0mdialect\u001b[0m\u001b[1;33m.\u001b[0m\u001b[0mhas_table\u001b[0m\u001b[1;33m,\u001b[0m\u001b[1;33m\u001b[0m\u001b[0m\n\u001b[0;32m   1175\u001b[0m             \u001b[0mname\u001b[0m\u001b[1;33m,\u001b[0m\u001b[1;33m\u001b[0m\u001b[0m\n\u001b[1;32m-> 1176\u001b[1;33m             \u001b[0mschema\u001b[0m \u001b[1;32mor\u001b[0m \u001b[0mself\u001b[0m\u001b[1;33m.\u001b[0m\u001b[0mmeta\u001b[0m\u001b[1;33m.\u001b[0m\u001b[0mschema\u001b[0m\u001b[1;33m,\u001b[0m\u001b[1;33m\u001b[0m\u001b[0m\n\u001b[0m\u001b[0;32m   1177\u001b[0m         )\n\u001b[0;32m   1178\u001b[0m \u001b[1;33m\u001b[0m\u001b[0m\n",
      "\u001b[1;32m~\\Anaconda3\\lib\\site-packages\\sqlalchemy\\engine\\base.py\u001b[0m in \u001b[0;36mrun_callable\u001b[1;34m(self, callable_, *args, **kwargs)\u001b[0m\n\u001b[0;32m   2053\u001b[0m \u001b[1;33m\u001b[0m\u001b[0m\n\u001b[0;32m   2054\u001b[0m         \"\"\"\n\u001b[1;32m-> 2055\u001b[1;33m         \u001b[1;32mwith\u001b[0m \u001b[0mself\u001b[0m\u001b[1;33m.\u001b[0m\u001b[0mcontextual_connect\u001b[0m\u001b[1;33m(\u001b[0m\u001b[1;33m)\u001b[0m \u001b[1;32mas\u001b[0m \u001b[0mconn\u001b[0m\u001b[1;33m:\u001b[0m\u001b[1;33m\u001b[0m\u001b[0m\n\u001b[0m\u001b[0;32m   2056\u001b[0m             \u001b[1;32mreturn\u001b[0m \u001b[0mconn\u001b[0m\u001b[1;33m.\u001b[0m\u001b[0mrun_callable\u001b[0m\u001b[1;33m(\u001b[0m\u001b[0mcallable_\u001b[0m\u001b[1;33m,\u001b[0m \u001b[1;33m*\u001b[0m\u001b[0margs\u001b[0m\u001b[1;33m,\u001b[0m \u001b[1;33m**\u001b[0m\u001b[0mkwargs\u001b[0m\u001b[1;33m)\u001b[0m\u001b[1;33m\u001b[0m\u001b[0m\n\u001b[0;32m   2057\u001b[0m \u001b[1;33m\u001b[0m\u001b[0m\n",
      "\u001b[1;32m~\\Anaconda3\\lib\\site-packages\\sqlalchemy\\engine\\base.py\u001b[0m in \u001b[0;36mcontextual_connect\u001b[1;34m(self, close_with_result, **kwargs)\u001b[0m\n\u001b[0;32m   2121\u001b[0m         return self._connection_cls(\n\u001b[0;32m   2122\u001b[0m             \u001b[0mself\u001b[0m\u001b[1;33m,\u001b[0m\u001b[1;33m\u001b[0m\u001b[0m\n\u001b[1;32m-> 2123\u001b[1;33m             \u001b[0mself\u001b[0m\u001b[1;33m.\u001b[0m\u001b[0m_wrap_pool_connect\u001b[0m\u001b[1;33m(\u001b[0m\u001b[0mself\u001b[0m\u001b[1;33m.\u001b[0m\u001b[0mpool\u001b[0m\u001b[1;33m.\u001b[0m\u001b[0mconnect\u001b[0m\u001b[1;33m,\u001b[0m \u001b[1;32mNone\u001b[0m\u001b[1;33m)\u001b[0m\u001b[1;33m,\u001b[0m\u001b[1;33m\u001b[0m\u001b[0m\n\u001b[0m\u001b[0;32m   2124\u001b[0m             \u001b[0mclose_with_result\u001b[0m\u001b[1;33m=\u001b[0m\u001b[0mclose_with_result\u001b[0m\u001b[1;33m,\u001b[0m\u001b[1;33m\u001b[0m\u001b[0m\n\u001b[0;32m   2125\u001b[0m             **kwargs)\n",
      "\u001b[1;32m~\\Anaconda3\\lib\\site-packages\\sqlalchemy\\engine\\base.py\u001b[0m in \u001b[0;36m_wrap_pool_connect\u001b[1;34m(self, fn, connection)\u001b[0m\n\u001b[0;32m   2160\u001b[0m             \u001b[1;32mif\u001b[0m \u001b[0mconnection\u001b[0m \u001b[1;32mis\u001b[0m \u001b[1;32mNone\u001b[0m\u001b[1;33m:\u001b[0m\u001b[1;33m\u001b[0m\u001b[0m\n\u001b[0;32m   2161\u001b[0m                 Connection._handle_dbapi_exception_noconnection(\n\u001b[1;32m-> 2162\u001b[1;33m                     e, dialect, self)\n\u001b[0m\u001b[0;32m   2163\u001b[0m             \u001b[1;32melse\u001b[0m\u001b[1;33m:\u001b[0m\u001b[1;33m\u001b[0m\u001b[0m\n\u001b[0;32m   2164\u001b[0m                 \u001b[0mutil\u001b[0m\u001b[1;33m.\u001b[0m\u001b[0mreraise\u001b[0m\u001b[1;33m(\u001b[0m\u001b[1;33m*\u001b[0m\u001b[0msys\u001b[0m\u001b[1;33m.\u001b[0m\u001b[0mexc_info\u001b[0m\u001b[1;33m(\u001b[0m\u001b[1;33m)\u001b[0m\u001b[1;33m)\u001b[0m\u001b[1;33m\u001b[0m\u001b[0m\n",
      "\u001b[1;32m~\\Anaconda3\\lib\\site-packages\\sqlalchemy\\engine\\base.py\u001b[0m in \u001b[0;36m_handle_dbapi_exception_noconnection\u001b[1;34m(cls, e, dialect, engine)\u001b[0m\n\u001b[0;32m   1474\u001b[0m             util.raise_from_cause(\n\u001b[0;32m   1475\u001b[0m                 \u001b[0msqlalchemy_exception\u001b[0m\u001b[1;33m,\u001b[0m\u001b[1;33m\u001b[0m\u001b[0m\n\u001b[1;32m-> 1476\u001b[1;33m                 \u001b[0mexc_info\u001b[0m\u001b[1;33m\u001b[0m\u001b[0m\n\u001b[0m\u001b[0;32m   1477\u001b[0m             )\n\u001b[0;32m   1478\u001b[0m         \u001b[1;32melse\u001b[0m\u001b[1;33m:\u001b[0m\u001b[1;33m\u001b[0m\u001b[0m\n",
      "\u001b[1;32m~\\Anaconda3\\lib\\site-packages\\sqlalchemy\\util\\compat.py\u001b[0m in \u001b[0;36mraise_from_cause\u001b[1;34m(exception, exc_info)\u001b[0m\n\u001b[0;32m    201\u001b[0m     \u001b[0mexc_type\u001b[0m\u001b[1;33m,\u001b[0m \u001b[0mexc_value\u001b[0m\u001b[1;33m,\u001b[0m \u001b[0mexc_tb\u001b[0m \u001b[1;33m=\u001b[0m \u001b[0mexc_info\u001b[0m\u001b[1;33m\u001b[0m\u001b[0m\n\u001b[0;32m    202\u001b[0m     \u001b[0mcause\u001b[0m \u001b[1;33m=\u001b[0m \u001b[0mexc_value\u001b[0m \u001b[1;32mif\u001b[0m \u001b[0mexc_value\u001b[0m \u001b[1;32mis\u001b[0m \u001b[1;32mnot\u001b[0m \u001b[0mexception\u001b[0m \u001b[1;32melse\u001b[0m \u001b[1;32mNone\u001b[0m\u001b[1;33m\u001b[0m\u001b[0m\n\u001b[1;32m--> 203\u001b[1;33m     \u001b[0mreraise\u001b[0m\u001b[1;33m(\u001b[0m\u001b[0mtype\u001b[0m\u001b[1;33m(\u001b[0m\u001b[0mexception\u001b[0m\u001b[1;33m)\u001b[0m\u001b[1;33m,\u001b[0m \u001b[0mexception\u001b[0m\u001b[1;33m,\u001b[0m \u001b[0mtb\u001b[0m\u001b[1;33m=\u001b[0m\u001b[0mexc_tb\u001b[0m\u001b[1;33m,\u001b[0m \u001b[0mcause\u001b[0m\u001b[1;33m=\u001b[0m\u001b[0mcause\u001b[0m\u001b[1;33m)\u001b[0m\u001b[1;33m\u001b[0m\u001b[0m\n\u001b[0m\u001b[0;32m    204\u001b[0m \u001b[1;33m\u001b[0m\u001b[0m\n\u001b[0;32m    205\u001b[0m \u001b[1;32mif\u001b[0m \u001b[0mpy3k\u001b[0m\u001b[1;33m:\u001b[0m\u001b[1;33m\u001b[0m\u001b[0m\n",
      "\u001b[1;32m~\\Anaconda3\\lib\\site-packages\\sqlalchemy\\util\\compat.py\u001b[0m in \u001b[0;36mreraise\u001b[1;34m(tp, value, tb, cause)\u001b[0m\n\u001b[0;32m    184\u001b[0m             \u001b[0mvalue\u001b[0m\u001b[1;33m.\u001b[0m\u001b[0m__cause__\u001b[0m \u001b[1;33m=\u001b[0m \u001b[0mcause\u001b[0m\u001b[1;33m\u001b[0m\u001b[0m\n\u001b[0;32m    185\u001b[0m         \u001b[1;32mif\u001b[0m \u001b[0mvalue\u001b[0m\u001b[1;33m.\u001b[0m\u001b[0m__traceback__\u001b[0m \u001b[1;32mis\u001b[0m \u001b[1;32mnot\u001b[0m \u001b[0mtb\u001b[0m\u001b[1;33m:\u001b[0m\u001b[1;33m\u001b[0m\u001b[0m\n\u001b[1;32m--> 186\u001b[1;33m             \u001b[1;32mraise\u001b[0m \u001b[0mvalue\u001b[0m\u001b[1;33m.\u001b[0m\u001b[0mwith_traceback\u001b[0m\u001b[1;33m(\u001b[0m\u001b[0mtb\u001b[0m\u001b[1;33m)\u001b[0m\u001b[1;33m\u001b[0m\u001b[0m\n\u001b[0m\u001b[0;32m    187\u001b[0m         \u001b[1;32mraise\u001b[0m \u001b[0mvalue\u001b[0m\u001b[1;33m\u001b[0m\u001b[0m\n\u001b[0;32m    188\u001b[0m \u001b[1;33m\u001b[0m\u001b[0m\n",
      "\u001b[1;32m~\\Anaconda3\\lib\\site-packages\\sqlalchemy\\engine\\base.py\u001b[0m in \u001b[0;36m_wrap_pool_connect\u001b[1;34m(self, fn, connection)\u001b[0m\n\u001b[0;32m   2156\u001b[0m         \u001b[0mdialect\u001b[0m \u001b[1;33m=\u001b[0m \u001b[0mself\u001b[0m\u001b[1;33m.\u001b[0m\u001b[0mdialect\u001b[0m\u001b[1;33m\u001b[0m\u001b[0m\n\u001b[0;32m   2157\u001b[0m         \u001b[1;32mtry\u001b[0m\u001b[1;33m:\u001b[0m\u001b[1;33m\u001b[0m\u001b[0m\n\u001b[1;32m-> 2158\u001b[1;33m             \u001b[1;32mreturn\u001b[0m \u001b[0mfn\u001b[0m\u001b[1;33m(\u001b[0m\u001b[1;33m)\u001b[0m\u001b[1;33m\u001b[0m\u001b[0m\n\u001b[0m\u001b[0;32m   2159\u001b[0m         \u001b[1;32mexcept\u001b[0m \u001b[0mdialect\u001b[0m\u001b[1;33m.\u001b[0m\u001b[0mdbapi\u001b[0m\u001b[1;33m.\u001b[0m\u001b[0mError\u001b[0m \u001b[1;32mas\u001b[0m \u001b[0me\u001b[0m\u001b[1;33m:\u001b[0m\u001b[1;33m\u001b[0m\u001b[0m\n\u001b[0;32m   2160\u001b[0m             \u001b[1;32mif\u001b[0m \u001b[0mconnection\u001b[0m \u001b[1;32mis\u001b[0m \u001b[1;32mNone\u001b[0m\u001b[1;33m:\u001b[0m\u001b[1;33m\u001b[0m\u001b[0m\n",
      "\u001b[1;32m~\\Anaconda3\\lib\\site-packages\\sqlalchemy\\pool.py\u001b[0m in \u001b[0;36mconnect\u001b[1;34m(self)\u001b[0m\n\u001b[0;32m    401\u001b[0m         \"\"\"\n\u001b[0;32m    402\u001b[0m         \u001b[1;32mif\u001b[0m \u001b[1;32mnot\u001b[0m \u001b[0mself\u001b[0m\u001b[1;33m.\u001b[0m\u001b[0m_use_threadlocal\u001b[0m\u001b[1;33m:\u001b[0m\u001b[1;33m\u001b[0m\u001b[0m\n\u001b[1;32m--> 403\u001b[1;33m             \u001b[1;32mreturn\u001b[0m \u001b[0m_ConnectionFairy\u001b[0m\u001b[1;33m.\u001b[0m\u001b[0m_checkout\u001b[0m\u001b[1;33m(\u001b[0m\u001b[0mself\u001b[0m\u001b[1;33m)\u001b[0m\u001b[1;33m\u001b[0m\u001b[0m\n\u001b[0m\u001b[0;32m    404\u001b[0m \u001b[1;33m\u001b[0m\u001b[0m\n\u001b[0;32m    405\u001b[0m         \u001b[1;32mtry\u001b[0m\u001b[1;33m:\u001b[0m\u001b[1;33m\u001b[0m\u001b[0m\n",
      "\u001b[1;32m~\\Anaconda3\\lib\\site-packages\\sqlalchemy\\pool.py\u001b[0m in \u001b[0;36m_checkout\u001b[1;34m(cls, pool, threadconns, fairy)\u001b[0m\n\u001b[0;32m    786\u001b[0m     \u001b[1;32mdef\u001b[0m \u001b[0m_checkout\u001b[0m\u001b[1;33m(\u001b[0m\u001b[0mcls\u001b[0m\u001b[1;33m,\u001b[0m \u001b[0mpool\u001b[0m\u001b[1;33m,\u001b[0m \u001b[0mthreadconns\u001b[0m\u001b[1;33m=\u001b[0m\u001b[1;32mNone\u001b[0m\u001b[1;33m,\u001b[0m \u001b[0mfairy\u001b[0m\u001b[1;33m=\u001b[0m\u001b[1;32mNone\u001b[0m\u001b[1;33m)\u001b[0m\u001b[1;33m:\u001b[0m\u001b[1;33m\u001b[0m\u001b[0m\n\u001b[0;32m    787\u001b[0m         \u001b[1;32mif\u001b[0m \u001b[1;32mnot\u001b[0m \u001b[0mfairy\u001b[0m\u001b[1;33m:\u001b[0m\u001b[1;33m\u001b[0m\u001b[0m\n\u001b[1;32m--> 788\u001b[1;33m             \u001b[0mfairy\u001b[0m \u001b[1;33m=\u001b[0m \u001b[0m_ConnectionRecord\u001b[0m\u001b[1;33m.\u001b[0m\u001b[0mcheckout\u001b[0m\u001b[1;33m(\u001b[0m\u001b[0mpool\u001b[0m\u001b[1;33m)\u001b[0m\u001b[1;33m\u001b[0m\u001b[0m\n\u001b[0m\u001b[0;32m    789\u001b[0m \u001b[1;33m\u001b[0m\u001b[0m\n\u001b[0;32m    790\u001b[0m             \u001b[0mfairy\u001b[0m\u001b[1;33m.\u001b[0m\u001b[0m_pool\u001b[0m \u001b[1;33m=\u001b[0m \u001b[0mpool\u001b[0m\u001b[1;33m\u001b[0m\u001b[0m\n",
      "\u001b[1;32m~\\Anaconda3\\lib\\site-packages\\sqlalchemy\\pool.py\u001b[0m in \u001b[0;36mcheckout\u001b[1;34m(cls, pool)\u001b[0m\n\u001b[0;32m    530\u001b[0m     \u001b[1;33m@\u001b[0m\u001b[0mclassmethod\u001b[0m\u001b[1;33m\u001b[0m\u001b[0m\n\u001b[0;32m    531\u001b[0m     \u001b[1;32mdef\u001b[0m \u001b[0mcheckout\u001b[0m\u001b[1;33m(\u001b[0m\u001b[0mcls\u001b[0m\u001b[1;33m,\u001b[0m \u001b[0mpool\u001b[0m\u001b[1;33m)\u001b[0m\u001b[1;33m:\u001b[0m\u001b[1;33m\u001b[0m\u001b[0m\n\u001b[1;32m--> 532\u001b[1;33m         \u001b[0mrec\u001b[0m \u001b[1;33m=\u001b[0m \u001b[0mpool\u001b[0m\u001b[1;33m.\u001b[0m\u001b[0m_do_get\u001b[0m\u001b[1;33m(\u001b[0m\u001b[1;33m)\u001b[0m\u001b[1;33m\u001b[0m\u001b[0m\n\u001b[0m\u001b[0;32m    533\u001b[0m         \u001b[1;32mtry\u001b[0m\u001b[1;33m:\u001b[0m\u001b[1;33m\u001b[0m\u001b[0m\n\u001b[0;32m    534\u001b[0m             \u001b[0mdbapi_connection\u001b[0m \u001b[1;33m=\u001b[0m \u001b[0mrec\u001b[0m\u001b[1;33m.\u001b[0m\u001b[0mget_connection\u001b[0m\u001b[1;33m(\u001b[0m\u001b[1;33m)\u001b[0m\u001b[1;33m\u001b[0m\u001b[0m\n",
      "\u001b[1;32m~\\Anaconda3\\lib\\site-packages\\sqlalchemy\\pool.py\u001b[0m in \u001b[0;36m_do_get\u001b[1;34m(self)\u001b[0m\n\u001b[0;32m   1191\u001b[0m             \u001b[1;32mexcept\u001b[0m\u001b[1;33m:\u001b[0m\u001b[1;33m\u001b[0m\u001b[0m\n\u001b[0;32m   1192\u001b[0m                 \u001b[1;32mwith\u001b[0m \u001b[0mutil\u001b[0m\u001b[1;33m.\u001b[0m\u001b[0msafe_reraise\u001b[0m\u001b[1;33m(\u001b[0m\u001b[1;33m)\u001b[0m\u001b[1;33m:\u001b[0m\u001b[1;33m\u001b[0m\u001b[0m\n\u001b[1;32m-> 1193\u001b[1;33m                     \u001b[0mself\u001b[0m\u001b[1;33m.\u001b[0m\u001b[0m_dec_overflow\u001b[0m\u001b[1;33m(\u001b[0m\u001b[1;33m)\u001b[0m\u001b[1;33m\u001b[0m\u001b[0m\n\u001b[0m\u001b[0;32m   1194\u001b[0m         \u001b[1;32melse\u001b[0m\u001b[1;33m:\u001b[0m\u001b[1;33m\u001b[0m\u001b[0m\n\u001b[0;32m   1195\u001b[0m             \u001b[1;32mreturn\u001b[0m \u001b[0mself\u001b[0m\u001b[1;33m.\u001b[0m\u001b[0m_do_get\u001b[0m\u001b[1;33m(\u001b[0m\u001b[1;33m)\u001b[0m\u001b[1;33m\u001b[0m\u001b[0m\n",
      "\u001b[1;32m~\\Anaconda3\\lib\\site-packages\\sqlalchemy\\util\\langhelpers.py\u001b[0m in \u001b[0;36m__exit__\u001b[1;34m(self, type_, value, traceback)\u001b[0m\n\u001b[0;32m     64\u001b[0m             \u001b[0mself\u001b[0m\u001b[1;33m.\u001b[0m\u001b[0m_exc_info\u001b[0m \u001b[1;33m=\u001b[0m \u001b[1;32mNone\u001b[0m   \u001b[1;31m# remove potential circular references\u001b[0m\u001b[1;33m\u001b[0m\u001b[0m\n\u001b[0;32m     65\u001b[0m             \u001b[1;32mif\u001b[0m \u001b[1;32mnot\u001b[0m \u001b[0mself\u001b[0m\u001b[1;33m.\u001b[0m\u001b[0mwarn_only\u001b[0m\u001b[1;33m:\u001b[0m\u001b[1;33m\u001b[0m\u001b[0m\n\u001b[1;32m---> 66\u001b[1;33m                 \u001b[0mcompat\u001b[0m\u001b[1;33m.\u001b[0m\u001b[0mreraise\u001b[0m\u001b[1;33m(\u001b[0m\u001b[0mexc_type\u001b[0m\u001b[1;33m,\u001b[0m \u001b[0mexc_value\u001b[0m\u001b[1;33m,\u001b[0m \u001b[0mexc_tb\u001b[0m\u001b[1;33m)\u001b[0m\u001b[1;33m\u001b[0m\u001b[0m\n\u001b[0m\u001b[0;32m     67\u001b[0m         \u001b[1;32melse\u001b[0m\u001b[1;33m:\u001b[0m\u001b[1;33m\u001b[0m\u001b[0m\n\u001b[0;32m     68\u001b[0m             \u001b[1;32mif\u001b[0m \u001b[1;32mnot\u001b[0m \u001b[0mcompat\u001b[0m\u001b[1;33m.\u001b[0m\u001b[0mpy3k\u001b[0m \u001b[1;32mand\u001b[0m \u001b[0mself\u001b[0m\u001b[1;33m.\u001b[0m\u001b[0m_exc_info\u001b[0m \u001b[1;32mand\u001b[0m \u001b[0mself\u001b[0m\u001b[1;33m.\u001b[0m\u001b[0m_exc_info\u001b[0m\u001b[1;33m[\u001b[0m\u001b[1;36m1\u001b[0m\u001b[1;33m]\u001b[0m\u001b[1;33m:\u001b[0m\u001b[1;33m\u001b[0m\u001b[0m\n",
      "\u001b[1;32m~\\Anaconda3\\lib\\site-packages\\sqlalchemy\\util\\compat.py\u001b[0m in \u001b[0;36mreraise\u001b[1;34m(tp, value, tb, cause)\u001b[0m\n\u001b[0;32m    185\u001b[0m         \u001b[1;32mif\u001b[0m \u001b[0mvalue\u001b[0m\u001b[1;33m.\u001b[0m\u001b[0m__traceback__\u001b[0m \u001b[1;32mis\u001b[0m \u001b[1;32mnot\u001b[0m \u001b[0mtb\u001b[0m\u001b[1;33m:\u001b[0m\u001b[1;33m\u001b[0m\u001b[0m\n\u001b[0;32m    186\u001b[0m             \u001b[1;32mraise\u001b[0m \u001b[0mvalue\u001b[0m\u001b[1;33m.\u001b[0m\u001b[0mwith_traceback\u001b[0m\u001b[1;33m(\u001b[0m\u001b[0mtb\u001b[0m\u001b[1;33m)\u001b[0m\u001b[1;33m\u001b[0m\u001b[0m\n\u001b[1;32m--> 187\u001b[1;33m         \u001b[1;32mraise\u001b[0m \u001b[0mvalue\u001b[0m\u001b[1;33m\u001b[0m\u001b[0m\n\u001b[0m\u001b[0;32m    188\u001b[0m \u001b[1;33m\u001b[0m\u001b[0m\n\u001b[0;32m    189\u001b[0m \u001b[1;32melse\u001b[0m\u001b[1;33m:\u001b[0m\u001b[1;33m\u001b[0m\u001b[0m\n",
      "\u001b[1;32m~\\Anaconda3\\lib\\site-packages\\sqlalchemy\\pool.py\u001b[0m in \u001b[0;36m_do_get\u001b[1;34m(self)\u001b[0m\n\u001b[0;32m   1188\u001b[0m         \u001b[1;32mif\u001b[0m \u001b[0mself\u001b[0m\u001b[1;33m.\u001b[0m\u001b[0m_inc_overflow\u001b[0m\u001b[1;33m(\u001b[0m\u001b[1;33m)\u001b[0m\u001b[1;33m:\u001b[0m\u001b[1;33m\u001b[0m\u001b[0m\n\u001b[0;32m   1189\u001b[0m             \u001b[1;32mtry\u001b[0m\u001b[1;33m:\u001b[0m\u001b[1;33m\u001b[0m\u001b[0m\n\u001b[1;32m-> 1190\u001b[1;33m                 \u001b[1;32mreturn\u001b[0m \u001b[0mself\u001b[0m\u001b[1;33m.\u001b[0m\u001b[0m_create_connection\u001b[0m\u001b[1;33m(\u001b[0m\u001b[1;33m)\u001b[0m\u001b[1;33m\u001b[0m\u001b[0m\n\u001b[0m\u001b[0;32m   1191\u001b[0m             \u001b[1;32mexcept\u001b[0m\u001b[1;33m:\u001b[0m\u001b[1;33m\u001b[0m\u001b[0m\n\u001b[0;32m   1192\u001b[0m                 \u001b[1;32mwith\u001b[0m \u001b[0mutil\u001b[0m\u001b[1;33m.\u001b[0m\u001b[0msafe_reraise\u001b[0m\u001b[1;33m(\u001b[0m\u001b[1;33m)\u001b[0m\u001b[1;33m:\u001b[0m\u001b[1;33m\u001b[0m\u001b[0m\n",
      "\u001b[1;32m~\\Anaconda3\\lib\\site-packages\\sqlalchemy\\pool.py\u001b[0m in \u001b[0;36m_create_connection\u001b[1;34m(self)\u001b[0m\n\u001b[0;32m    348\u001b[0m         \u001b[1;34m\"\"\"Called by subclasses to create a new ConnectionRecord.\"\"\"\u001b[0m\u001b[1;33m\u001b[0m\u001b[0m\n\u001b[0;32m    349\u001b[0m \u001b[1;33m\u001b[0m\u001b[0m\n\u001b[1;32m--> 350\u001b[1;33m         \u001b[1;32mreturn\u001b[0m \u001b[0m_ConnectionRecord\u001b[0m\u001b[1;33m(\u001b[0m\u001b[0mself\u001b[0m\u001b[1;33m)\u001b[0m\u001b[1;33m\u001b[0m\u001b[0m\n\u001b[0m\u001b[0;32m    351\u001b[0m \u001b[1;33m\u001b[0m\u001b[0m\n\u001b[0;32m    352\u001b[0m     \u001b[1;32mdef\u001b[0m \u001b[0m_invalidate\u001b[0m\u001b[1;33m(\u001b[0m\u001b[0mself\u001b[0m\u001b[1;33m,\u001b[0m \u001b[0mconnection\u001b[0m\u001b[1;33m,\u001b[0m \u001b[0mexception\u001b[0m\u001b[1;33m=\u001b[0m\u001b[1;32mNone\u001b[0m\u001b[1;33m,\u001b[0m \u001b[0m_checkin\u001b[0m\u001b[1;33m=\u001b[0m\u001b[1;32mTrue\u001b[0m\u001b[1;33m)\u001b[0m\u001b[1;33m:\u001b[0m\u001b[1;33m\u001b[0m\u001b[0m\n",
      "\u001b[1;32m~\\Anaconda3\\lib\\site-packages\\sqlalchemy\\pool.py\u001b[0m in \u001b[0;36m__init__\u001b[1;34m(self, pool, connect)\u001b[0m\n\u001b[0;32m    475\u001b[0m         \u001b[0mself\u001b[0m\u001b[1;33m.\u001b[0m\u001b[0m__pool\u001b[0m \u001b[1;33m=\u001b[0m \u001b[0mpool\u001b[0m\u001b[1;33m\u001b[0m\u001b[0m\n\u001b[0;32m    476\u001b[0m         \u001b[1;32mif\u001b[0m \u001b[0mconnect\u001b[0m\u001b[1;33m:\u001b[0m\u001b[1;33m\u001b[0m\u001b[0m\n\u001b[1;32m--> 477\u001b[1;33m             \u001b[0mself\u001b[0m\u001b[1;33m.\u001b[0m\u001b[0m__connect\u001b[0m\u001b[1;33m(\u001b[0m\u001b[0mfirst_connect_check\u001b[0m\u001b[1;33m=\u001b[0m\u001b[1;32mTrue\u001b[0m\u001b[1;33m)\u001b[0m\u001b[1;33m\u001b[0m\u001b[0m\n\u001b[0m\u001b[0;32m    478\u001b[0m         \u001b[0mself\u001b[0m\u001b[1;33m.\u001b[0m\u001b[0mfinalize_callback\u001b[0m \u001b[1;33m=\u001b[0m \u001b[0mdeque\u001b[0m\u001b[1;33m(\u001b[0m\u001b[1;33m)\u001b[0m\u001b[1;33m\u001b[0m\u001b[0m\n\u001b[0;32m    479\u001b[0m \u001b[1;33m\u001b[0m\u001b[0m\n",
      "\u001b[1;32m~\\Anaconda3\\lib\\site-packages\\sqlalchemy\\pool.py\u001b[0m in \u001b[0;36m__connect\u001b[1;34m(self, first_connect_check)\u001b[0m\n\u001b[0;32m    669\u001b[0m         \u001b[1;32mtry\u001b[0m\u001b[1;33m:\u001b[0m\u001b[1;33m\u001b[0m\u001b[0m\n\u001b[0;32m    670\u001b[0m             \u001b[0mself\u001b[0m\u001b[1;33m.\u001b[0m\u001b[0mstarttime\u001b[0m \u001b[1;33m=\u001b[0m \u001b[0mtime\u001b[0m\u001b[1;33m.\u001b[0m\u001b[0mtime\u001b[0m\u001b[1;33m(\u001b[0m\u001b[1;33m)\u001b[0m\u001b[1;33m\u001b[0m\u001b[0m\n\u001b[1;32m--> 671\u001b[1;33m             \u001b[0mconnection\u001b[0m \u001b[1;33m=\u001b[0m \u001b[0mpool\u001b[0m\u001b[1;33m.\u001b[0m\u001b[0m_invoke_creator\u001b[0m\u001b[1;33m(\u001b[0m\u001b[0mself\u001b[0m\u001b[1;33m)\u001b[0m\u001b[1;33m\u001b[0m\u001b[0m\n\u001b[0m\u001b[0;32m    672\u001b[0m             \u001b[0mpool\u001b[0m\u001b[1;33m.\u001b[0m\u001b[0mlogger\u001b[0m\u001b[1;33m.\u001b[0m\u001b[0mdebug\u001b[0m\u001b[1;33m(\u001b[0m\u001b[1;34m\"Created new connection %r\"\u001b[0m\u001b[1;33m,\u001b[0m \u001b[0mconnection\u001b[0m\u001b[1;33m)\u001b[0m\u001b[1;33m\u001b[0m\u001b[0m\n\u001b[0;32m    673\u001b[0m             \u001b[0mself\u001b[0m\u001b[1;33m.\u001b[0m\u001b[0mconnection\u001b[0m \u001b[1;33m=\u001b[0m \u001b[0mconnection\u001b[0m\u001b[1;33m\u001b[0m\u001b[0m\n",
      "\u001b[1;32m~\\Anaconda3\\lib\\site-packages\\sqlalchemy\\engine\\strategies.py\u001b[0m in \u001b[0;36mconnect\u001b[1;34m(connection_record)\u001b[0m\n\u001b[0;32m    104\u001b[0m                         \u001b[1;32mif\u001b[0m \u001b[0mconnection\u001b[0m \u001b[1;32mis\u001b[0m \u001b[1;32mnot\u001b[0m \u001b[1;32mNone\u001b[0m\u001b[1;33m:\u001b[0m\u001b[1;33m\u001b[0m\u001b[0m\n\u001b[0;32m    105\u001b[0m                             \u001b[1;32mreturn\u001b[0m \u001b[0mconnection\u001b[0m\u001b[1;33m\u001b[0m\u001b[0m\n\u001b[1;32m--> 106\u001b[1;33m                 \u001b[1;32mreturn\u001b[0m \u001b[0mdialect\u001b[0m\u001b[1;33m.\u001b[0m\u001b[0mconnect\u001b[0m\u001b[1;33m(\u001b[0m\u001b[1;33m*\u001b[0m\u001b[0mcargs\u001b[0m\u001b[1;33m,\u001b[0m \u001b[1;33m**\u001b[0m\u001b[0mcparams\u001b[0m\u001b[1;33m)\u001b[0m\u001b[1;33m\u001b[0m\u001b[0m\n\u001b[0m\u001b[0;32m    107\u001b[0m \u001b[1;33m\u001b[0m\u001b[0m\n\u001b[0;32m    108\u001b[0m             \u001b[0mcreator\u001b[0m \u001b[1;33m=\u001b[0m \u001b[0mpop_kwarg\u001b[0m\u001b[1;33m(\u001b[0m\u001b[1;34m'creator'\u001b[0m\u001b[1;33m,\u001b[0m \u001b[0mconnect\u001b[0m\u001b[1;33m)\u001b[0m\u001b[1;33m\u001b[0m\u001b[0m\n",
      "\u001b[1;32m~\\Anaconda3\\lib\\site-packages\\sqlalchemy\\engine\\default.py\u001b[0m in \u001b[0;36mconnect\u001b[1;34m(self, *cargs, **cparams)\u001b[0m\n\u001b[0;32m    408\u001b[0m \u001b[1;33m\u001b[0m\u001b[0m\n\u001b[0;32m    409\u001b[0m     \u001b[1;32mdef\u001b[0m \u001b[0mconnect\u001b[0m\u001b[1;33m(\u001b[0m\u001b[0mself\u001b[0m\u001b[1;33m,\u001b[0m \u001b[1;33m*\u001b[0m\u001b[0mcargs\u001b[0m\u001b[1;33m,\u001b[0m \u001b[1;33m**\u001b[0m\u001b[0mcparams\u001b[0m\u001b[1;33m)\u001b[0m\u001b[1;33m:\u001b[0m\u001b[1;33m\u001b[0m\u001b[0m\n\u001b[1;32m--> 410\u001b[1;33m         \u001b[1;32mreturn\u001b[0m \u001b[0mself\u001b[0m\u001b[1;33m.\u001b[0m\u001b[0mdbapi\u001b[0m\u001b[1;33m.\u001b[0m\u001b[0mconnect\u001b[0m\u001b[1;33m(\u001b[0m\u001b[1;33m*\u001b[0m\u001b[0mcargs\u001b[0m\u001b[1;33m,\u001b[0m \u001b[1;33m**\u001b[0m\u001b[0mcparams\u001b[0m\u001b[1;33m)\u001b[0m\u001b[1;33m\u001b[0m\u001b[0m\n\u001b[0m\u001b[0;32m    411\u001b[0m \u001b[1;33m\u001b[0m\u001b[0m\n\u001b[0;32m    412\u001b[0m     \u001b[1;32mdef\u001b[0m \u001b[0mcreate_connect_args\u001b[0m\u001b[1;33m(\u001b[0m\u001b[0mself\u001b[0m\u001b[1;33m,\u001b[0m \u001b[0murl\u001b[0m\u001b[1;33m)\u001b[0m\u001b[1;33m:\u001b[0m\u001b[1;33m\u001b[0m\u001b[0m\n",
      "\u001b[1;32m~\\Anaconda3\\lib\\site-packages\\mysql\\connector\\__init__.py\u001b[0m in \u001b[0;36mconnect\u001b[1;34m(*args, **kwargs)\u001b[0m\n\u001b[0;32m    177\u001b[0m         \u001b[1;32mreturn\u001b[0m \u001b[0mCMySQLConnection\u001b[0m\u001b[1;33m(\u001b[0m\u001b[1;33m*\u001b[0m\u001b[0margs\u001b[0m\u001b[1;33m,\u001b[0m \u001b[1;33m**\u001b[0m\u001b[0mkwargs\u001b[0m\u001b[1;33m)\u001b[0m\u001b[1;33m\u001b[0m\u001b[0m\n\u001b[0;32m    178\u001b[0m     \u001b[1;32melse\u001b[0m\u001b[1;33m:\u001b[0m\u001b[1;33m\u001b[0m\u001b[0m\n\u001b[1;32m--> 179\u001b[1;33m         \u001b[1;32mreturn\u001b[0m \u001b[0mMySQLConnection\u001b[0m\u001b[1;33m(\u001b[0m\u001b[1;33m*\u001b[0m\u001b[0margs\u001b[0m\u001b[1;33m,\u001b[0m \u001b[1;33m**\u001b[0m\u001b[0mkwargs\u001b[0m\u001b[1;33m)\u001b[0m\u001b[1;33m\u001b[0m\u001b[0m\n\u001b[0m\u001b[0;32m    180\u001b[0m \u001b[0mConnect\u001b[0m \u001b[1;33m=\u001b[0m \u001b[0mconnect\u001b[0m  \u001b[1;31m# pylint: disable=C0103\u001b[0m\u001b[1;33m\u001b[0m\u001b[0m\n\u001b[0;32m    181\u001b[0m \u001b[1;33m\u001b[0m\u001b[0m\n",
      "\u001b[1;32m~\\Anaconda3\\lib\\site-packages\\mysql\\connector\\connection.py\u001b[0m in \u001b[0;36m__init__\u001b[1;34m(self, *args, **kwargs)\u001b[0m\n\u001b[0;32m     92\u001b[0m \u001b[1;33m\u001b[0m\u001b[0m\n\u001b[0;32m     93\u001b[0m         \u001b[1;32mif\u001b[0m \u001b[0mlen\u001b[0m\u001b[1;33m(\u001b[0m\u001b[0mkwargs\u001b[0m\u001b[1;33m)\u001b[0m \u001b[1;33m>\u001b[0m \u001b[1;36m0\u001b[0m\u001b[1;33m:\u001b[0m\u001b[1;33m\u001b[0m\u001b[0m\n\u001b[1;32m---> 94\u001b[1;33m             \u001b[0mself\u001b[0m\u001b[1;33m.\u001b[0m\u001b[0mconnect\u001b[0m\u001b[1;33m(\u001b[0m\u001b[1;33m**\u001b[0m\u001b[0mkwargs\u001b[0m\u001b[1;33m)\u001b[0m\u001b[1;33m\u001b[0m\u001b[0m\n\u001b[0m\u001b[0;32m     95\u001b[0m \u001b[1;33m\u001b[0m\u001b[0m\n\u001b[0;32m     96\u001b[0m     \u001b[1;32mdef\u001b[0m \u001b[0m_do_handshake\u001b[0m\u001b[1;33m(\u001b[0m\u001b[0mself\u001b[0m\u001b[1;33m)\u001b[0m\u001b[1;33m:\u001b[0m\u001b[1;33m\u001b[0m\u001b[0m\n",
      "\u001b[1;32m~\\Anaconda3\\lib\\site-packages\\mysql\\connector\\abstracts.py\u001b[0m in \u001b[0;36mconnect\u001b[1;34m(self, **kwargs)\u001b[0m\n\u001b[0;32m    720\u001b[0m \u001b[1;33m\u001b[0m\u001b[0m\n\u001b[0;32m    721\u001b[0m         \u001b[0mself\u001b[0m\u001b[1;33m.\u001b[0m\u001b[0mdisconnect\u001b[0m\u001b[1;33m(\u001b[0m\u001b[1;33m)\u001b[0m\u001b[1;33m\u001b[0m\u001b[0m\n\u001b[1;32m--> 722\u001b[1;33m         \u001b[0mself\u001b[0m\u001b[1;33m.\u001b[0m\u001b[0m_open_connection\u001b[0m\u001b[1;33m(\u001b[0m\u001b[1;33m)\u001b[0m\u001b[1;33m\u001b[0m\u001b[0m\n\u001b[0m\u001b[0;32m    723\u001b[0m         \u001b[0mself\u001b[0m\u001b[1;33m.\u001b[0m\u001b[0m_post_connection\u001b[0m\u001b[1;33m(\u001b[0m\u001b[1;33m)\u001b[0m\u001b[1;33m\u001b[0m\u001b[0m\n\u001b[0;32m    724\u001b[0m \u001b[1;33m\u001b[0m\u001b[0m\n",
      "\u001b[1;32m~\\Anaconda3\\lib\\site-packages\\mysql\\connector\\connection.py\u001b[0m in \u001b[0;36m_open_connection\u001b[1;34m(self)\u001b[0m\n\u001b[0;32m    205\u001b[0m         \u001b[0mself\u001b[0m\u001b[1;33m.\u001b[0m\u001b[0m_protocol\u001b[0m \u001b[1;33m=\u001b[0m \u001b[0mMySQLProtocol\u001b[0m\u001b[1;33m(\u001b[0m\u001b[1;33m)\u001b[0m\u001b[1;33m\u001b[0m\u001b[0m\n\u001b[0;32m    206\u001b[0m         \u001b[0mself\u001b[0m\u001b[1;33m.\u001b[0m\u001b[0m_socket\u001b[0m \u001b[1;33m=\u001b[0m \u001b[0mself\u001b[0m\u001b[1;33m.\u001b[0m\u001b[0m_get_connection\u001b[0m\u001b[1;33m(\u001b[0m\u001b[1;33m)\u001b[0m\u001b[1;33m\u001b[0m\u001b[0m\n\u001b[1;32m--> 207\u001b[1;33m         \u001b[0mself\u001b[0m\u001b[1;33m.\u001b[0m\u001b[0m_socket\u001b[0m\u001b[1;33m.\u001b[0m\u001b[0mopen_connection\u001b[0m\u001b[1;33m(\u001b[0m\u001b[1;33m)\u001b[0m\u001b[1;33m\u001b[0m\u001b[0m\n\u001b[0m\u001b[0;32m    208\u001b[0m         \u001b[0mself\u001b[0m\u001b[1;33m.\u001b[0m\u001b[0m_do_handshake\u001b[0m\u001b[1;33m(\u001b[0m\u001b[1;33m)\u001b[0m\u001b[1;33m\u001b[0m\u001b[0m\n\u001b[0;32m    209\u001b[0m         self._do_auth(self._user, self._password,\n",
      "\u001b[1;32m~\\Anaconda3\\lib\\site-packages\\mysql\\connector\\network.py\u001b[0m in \u001b[0;36mopen_connection\u001b[1;34m(self)\u001b[0m\n\u001b[0;32m    510\u001b[0m         \u001b[1;32mexcept\u001b[0m \u001b[0mIOError\u001b[0m \u001b[1;32mas\u001b[0m \u001b[0merr\u001b[0m\u001b[1;33m:\u001b[0m\u001b[1;33m\u001b[0m\u001b[0m\n\u001b[0;32m    511\u001b[0m             raise errors.InterfaceError(\n\u001b[1;32m--> 512\u001b[1;33m                 errno=2003, values=(self.get_address(), _strioerror(err)))\n\u001b[0m\u001b[0;32m    513\u001b[0m         \u001b[1;32mexcept\u001b[0m \u001b[0mException\u001b[0m \u001b[1;32mas\u001b[0m \u001b[0merr\u001b[0m\u001b[1;33m:\u001b[0m\u001b[1;33m\u001b[0m\u001b[0m\n\u001b[0;32m    514\u001b[0m             \u001b[1;32mraise\u001b[0m \u001b[0merrors\u001b[0m\u001b[1;33m.\u001b[0m\u001b[0mOperationalError\u001b[0m\u001b[1;33m(\u001b[0m\u001b[0mstr\u001b[0m\u001b[1;33m(\u001b[0m\u001b[0merr\u001b[0m\u001b[1;33m)\u001b[0m\u001b[1;33m)\u001b[0m\u001b[1;33m\u001b[0m\u001b[0m\n",
      "\u001b[1;31mInterfaceError\u001b[0m: (mysql.connector.errors.InterfaceError) 2003: Can't connect to MySQL server on 'localhost:3306' (10061 No connection could be made because the target machine actively refused it) (Background on this error at: http://sqlalche.me/e/rvf5)"
     ]
    }
   ],
   "source": [
    "limit  = int(input(\"what the size(amount of tickers)?\"))\n",
    "features = open('features.txt','r').read().splitlines()\n",
    "df = DataAcquisition.GetStats(gathers=features,\n",
    "              path=path,\n",
    "              limit=limit) \n",
    "\n",
    "print('DF Shape - ', df.shape)\n",
    "\n",
    "df.to_csv(r'c:\\data\\Datasets\\df_stg.csv', index=False)\n",
    "\n",
    "tickers= list(set(df.Ticker))\n",
    "with open(r'c:\\data\\Datasets\\tickers.txt','w') as f:\n",
    "    f.write('\\n'.join(tickers))\n",
    "\n",
    "    \n",
    "    \n",
    "df_list = []\n",
    "for ticker in tickers:\n",
    "    dates = df.loc[df['Ticker']==ticker,'UNIX']\n",
    "    ticker_price_df = DataAcquisition.get_stock_perfomance(ticker,dates)\n",
    "    df_list.append(ticker_price_df)\n",
    "\n",
    "price_df = pd.concat(df_list, ignore_index=True)\n",
    "\n",
    "res_df = pd.merge(df,price_df,on=['UNIX','Ticker'],how='inner')\n",
    "\n",
    "res_df['Date'] = pd.to_datetime(res_df['Date'])\n",
    "res_df.Absolute_Stock_Perfomance = res_df.Absolute_Stock_Perfomance.astype(float)\n",
    "res_path = r'c:\\data\\Datasets\\agg50'+str(limit)+'.csv'\n",
    "res_df.to_csv(res_path,index=False)\n",
    "\n",
    "from sqlalchemy import create_engine , event\n",
    "cred = {x.split(':')[0]: x.split(':')[1] for x in open(r'c:\\data\\sqlcred\\mysql.txt','r').read().splitlines()}\n",
    "\n",
    "user = cred['user']\n",
    "passw =cred['pass']\n",
    "host = cred['server']\n",
    "db =  cred['db']\n",
    "constr= 'mysql+mysqlconnector://{USER}:{PASS}@{HOST}/{DB}'.format(USER=user,\n",
    "                                                                                    PASS=passw,\n",
    "                                                                                    HOST=host,\n",
    "                                                                                    DB=db)\n",
    "\n",
    "\n",
    "engine = create_engine(constr)\n",
    "@event.listens_for(engine, 'before_cursor_execute')\n",
    "def receive_before_cursor_execute(conn, cursor, statement, params, context, executemany):\n",
    "    if executemany:\n",
    "        cursor.fast_executemany = True\n",
    "\n",
    "        \n",
    "#clean columns name \n",
    "print(\"Star Export To MySQL Server\")\n",
    "res_df.columns = [x.replace('(','').replace(')','') for x in res_df.columns]\n",
    "name = 'SNP500 Stocks - '+str(limit)\n",
    "res_df.to_sql(name=name,con=engine,if_exists='replace')\n",
    "print(\"Export has finished successfully\")"
   ]
  },
  {
   "cell_type": "code",
   "execution_count": null,
   "metadata": {},
   "outputs": [],
   "source": []
  }
 ],
 "metadata": {
  "kernelspec": {
   "display_name": "Python 3",
   "language": "python",
   "name": "python3"
  }
 },
 "nbformat": 4,
 "nbformat_minor": 2
}
